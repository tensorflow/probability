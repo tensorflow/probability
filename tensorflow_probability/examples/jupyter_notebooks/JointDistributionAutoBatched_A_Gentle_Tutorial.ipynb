{
 "cells": [
  {
   "cell_type": "markdown",
   "metadata": {
    "id": "i3puWgvKeyWu"
   },
   "source": [
    "# Auto-Batched Joint Distributions: A Gentle Tutorial"
   ]
  },
  {
   "cell_type": "markdown",
   "metadata": {
    "id": "ZrwVQsM9TiUw"
   },
   "source": [
    "##### Copyright 2020 The TensorFlow Authors.\n",
    "\n",
    "Licensed under the Apache License, Version 2.0 (the \"License\");"
   ]
  },
  {
   "cell_type": "code",
   "execution_count": 0,
   "metadata": {
    "id": "CpDUTVKYTowI"
   },
   "outputs": [],
   "source": [
    "#@title Licensed under the Apache License, Version 2.0 (the \"License\"); { display-mode: \"form\" }\n",
    "# you may not use this file except in compliance with the License.\n",
    "# You may obtain a copy of the License at\n",
    "#\n",
    "# https://www.apache.org/licenses/LICENSE-2.0\n",
    "#\n",
    "# Unless required by applicable law or agreed to in writing, software\n",
    "# distributed under the License is distributed on an \"AS IS\" BASIS,\n",
    "# WITHOUT WARRANTIES OR CONDITIONS OF ANY KIND, either express or implied.\n",
    "# See the License for the specific language governing permissions and\n",
    "# limitations under the License."
   ]
  },
  {
   "cell_type": "markdown",
   "metadata": {
    "id": "ltPJCG6pAUoc"
   },
   "source": [
    "<table class=\"tfo-notebook-buttons\" align=\"left\">\n",
    "  <td>\n",
    "    <a target=\"_blank\" href=\"https://www.tensorflow.org/probability/examples/Modeling_with_JointDistribution\"><img src=\"https://www.tensorflow.org/images/tf_logo_32px.png\" />View on TensorFlow.org</a>\n",
    "  </td>\n",
    "  <td>\n",
    "    <a target=\"_blank\" href=\"https://colab.research.google.com/github/tensorflow/probability/blob/main/tensorflow_probability/examples/jupyter_notebooks/Modeling_with_JointDistribution.ipynb\"><img src=\"https://www.tensorflow.org/images/colab_logo_32px.png\" />Run in Google Colab</a>\n",
    "  </td>\n",
    "  <td>\n",
    "    <a target=\"_blank\" href=\"https://github.com/tensorflow/probability/blob/main/tensorflow_probability/examples/jupyter_notebooks/Modeling_with_JointDistribution.ipynb\"><img src=\"https://www.tensorflow.org/images/GitHub-Mark-32px.png\" />View source on GitHub</a>\n",
    "  </td>\n",
    "  <td>\n",
    "    <a href=\"https://storage.googleapis.com/tensorflow_docs/probability/tensorflow_probability/examples/jupyter_notebooks/Modeling_with_JointDistribution.ipynb\"><img src=\"https://www.tensorflow.org/images/download_logo_32px.png\" />Download notebook</a>\n",
    "  </td>\n",
    "</table>"
   ]
  },
  {
   "cell_type": "markdown",
   "metadata": {
    "id": "zzaOJSXagzMY"
   },
   "source": [
    "### Introduction"
   ]
  },
  {
   "cell_type": "markdown",
   "metadata": {
    "id": "cIvB2CSBe49Z"
   },
   "source": [
    "TensorFlow Probability (TFP) offers a number of `JointDistribution` abstractions that make probabilistic inference easier by allowing a user to easily express a probabilistic graphical model in a near-mathematical form; the abstraction generates methods for sampling from the model and evaluating the log probability of samples from the model. In this tutorial, we review \"autobatched\" variants, which were developed after the original `JointDistribution` abstractions. Relative to the original, non-autobatched abstractions, the autobatched versions are simpler to use and more ergonomic, allowing many models to be expressed with less boilerplate. In this colab, we explore a simple model in (perhaps tedious) detail, making clear the problems autobatching solves, and (hopefully) teaching the reader more about TFP shape concepts along the way.\n",
    "\n",
    "Prior to the introduction of autobatching, there were a few different variants of `JointDistribution`, corresponding to different syntactic styles for expressing probabilistic models: `JointDistributionSequential`, `JointDistributionNamed`, and`JointDistributionCoroutine`. Auobatching exists as a mixin, so we now have `AutoBatched` variants of all of these. In this tutorial, we explore the differences between `JointDistributionSequential` and `JointDistributionSequentialAutoBatched`; however, everything we do here is applicable to the other variants with essentially no changes.\n"
   ]
  },
  {
   "cell_type": "markdown",
   "metadata": {
    "id": "uiR4-VOt9NFX"
   },
   "source": [
    "### Dependencies & Prerequisites\n"
   ]
  },
  {
   "cell_type": "code",
   "execution_count": 0,
   "metadata": {
    "id": "coUnDhkpT5_6"
   },
   "outputs": [],
   "source": [
    "#@title Import and set ups{ display-mode: \"form\" }\n",
    "\n",
    "import functools\n",
    "import numpy as np\n",
    "\n",
    "import tensorflow.compat.v2 as tf\n",
    "tf.enable_v2_behavior()\n",
    "\n",
    "import tensorflow_probability as tfp\n",
    "\n",
    "tfd = tfp.distributions"
   ]
  },
  {
   "cell_type": "markdown",
   "metadata": {
    "id": "KohBmaTn5W7I"
   },
   "source": [
    "### Prerequisite: A Bayesian Regression Problem"
   ]
  },
  {
   "cell_type": "markdown",
   "metadata": {
    "id": "vChyK0vr9XD8"
   },
   "source": [
    "We'll consider a very simple Bayesian regression scenario:\n",
    "\n",
    "$$\n",
    "\\begin{align*}\n",
    "m & \\sim \\text{Normal}(0, 1) \\\\\n",
    "b & \\sim \\text{Normal}(0, 1) \\\\\n",
    "Y & \\sim \\text{Normal}(mX + b, 1)\n",
    "\\end{align*}\n",
    "$$\n",
    "\n",
    "In this model, `m` and `b` are drawn from standard normals, and the observations `Y` are drawn from a normal distribution whose mean depends on the random variables `m` and `b`, and some (nonrandom, known) covariates `X`. (For simplicity, in this example, we assume the scale of all random variables is known.)\n",
    "\n",
    "To perform inference in this model, we'd need to know both the covariates `X` and the observations `Y`, but for the purposes of this tutorial, we'll only need `X`, so we define a simple dummy `X`:"
   ]
  },
  {
   "cell_type": "code",
   "execution_count": 0,
   "metadata": {
    "id": "UIpJ_cXUVabB",
    "outputId": "15ab9b27-586c-46d2-f9a1-ae36cfcec736"
   },
   "outputs": [
    {
     "data": {
      "text/plain": [
       "array([0, 1, 2, 3, 4, 5, 6])"
      ]
     },
     "execution_count": 0,
     "metadata": {
      "tags": []
     },
     "output_type": "execute_result"
    }
   ],
   "source": [
    "X = np.arange(7)\n",
    "X"
   ]
  },
  {
   "cell_type": "markdown",
   "metadata": {
    "id": "CIBpupyt9GTT"
   },
   "source": [
    "### Desiderata"
   ]
  },
  {
   "cell_type": "markdown",
   "metadata": {
    "id": "j2uzL_uI9tqO"
   },
   "source": [
    "In probabilistic inference, we often want to perform two basic operations:\n",
    "- `sample`: Drawing samples from the model.\n",
    "- `log_prob`: Computing the log probability of a sample from the model.\n",
    "\n",
    "The key contribution of TFP's `JointDistribution` abstractions (as well as of many other approaches to probabilistic programming) is to allow users to write a model *once* and have access to both `sample` and `log_prob` computations.\n",
    "\n",
    "Noting that we have 7 points in our data set (`X.shape = (7,)`), we can now state the desiderata for an excellent `JointDistribution`:\n",
    "\n",
    "* `sample()` should produce a list of `Tensors` having shape `[(), (), (7,)`], corresponding to the scalar slope, scalar bias, and vector observations, respectively.\n",
    "* `log_prob(sample())` should produce a scalar: the log probability of a particular slope, bias, and observations.\n",
    "* `sample([5, 3])` should produce a list of `Tensors` having shape `[(5, 3), (5, 3), (5, 3, 7)]`, representing a `(5, 3)`-*batch* of samples from the model.\n",
    "* `log_prob(sample([5, 3]))` should produce a `Tensor` with shape (5, 3).\n",
    "\n",
    "We'll now look at a succession of `JointDistribution` models, see how to achieve the above desiderata, and hopefully learn a little more about TFP shapes along the way. \n",
    "\n",
    "Spoiler alert: The approach that satisfies the above  desiderata without added boilerplate is [autobatching](#scrollTo=_h7sJ2bkfOS7). "
   ]
  },
  {
   "cell_type": "markdown",
   "metadata": {
    "id": "QiII0ypZcyTY"
   },
   "source": [
    "### First Attempt; `JointDistributionSequential`"
   ]
  },
  {
   "cell_type": "code",
   "execution_count": 0,
   "metadata": {
    "id": "kY501q-QVR9g"
   },
   "outputs": [],
   "source": [
    "jds = tfd.JointDistributionSequential([\n",
    "    tfd.Normal(loc=0., scale=1.),   # m\n",
    "    tfd.Normal(loc=0., scale=1.),   # b\n",
    "    lambda b, m: tfd.Normal(loc=m*X + b, scale=1.) # Y\n",
    "])"
   ]
  },
  {
   "cell_type": "markdown",
   "metadata": {
    "id": "hzNPPqJ-BwA-"
   },
   "source": [
    "This is more or less a direct translation of the model into code. The slope `m` and bias `b` are straightforward. `Y` is defined using a `lambda`-function: the general pattern is that a `lambda`-function of $k$ arguments in a `JointDistributionSequential` (JDS) uses the previous $k$ distributions in the model. Note the \"reverse\" order."
   ]
  },
  {
   "cell_type": "markdown",
   "metadata": {
    "id": "5jIvsQSOD81N"
   },
   "source": [
    "We'll call `sample_distributions`, which returns both a sample *and* the underlying \"sub-distributions\" that were used to generate the sample. (We could have produced just the sample by calling `sample`; later in the tutorial it will be convenient to have the distributions as well.) The sample we produce is fine:"
   ]
  },
  {
   "cell_type": "code",
   "execution_count": 0,
   "metadata": {
    "id": "y05IrsfiaxCh",
    "outputId": "aef09be2-527f-4352-a968-a314ebb48faa"
   },
   "outputs": [
    {
     "data": {
      "text/plain": [
       "[<tf.Tensor: shape=(), dtype=float32, numpy=-1.668757>,\n",
       " <tf.Tensor: shape=(), dtype=float32, numpy=0.6585061>,\n",
       " <tf.Tensor: shape=(7,), dtype=float32, numpy=\n",
       " array([ 0.18573815, -1.79962   , -1.8106272 , -3.5971394 , -6.6625295 ,\n",
       "        -7.308844  , -9.832693  ], dtype=float32)>]"
      ]
     },
     "execution_count": 0,
     "metadata": {
      "tags": []
     },
     "output_type": "execute_result"
    }
   ],
   "source": [
    "dists, sample = jds.sample_distributions()\n",
    "sample"
   ]
  },
  {
   "cell_type": "markdown",
   "metadata": {
    "id": "o7E1WkoCEB12"
   },
   "source": [
    "But `log_prob` produces a result with an undesired shape:"
   ]
  },
  {
   "cell_type": "code",
   "execution_count": 0,
   "metadata": {
    "id": "xR0lbgjNay4X",
    "outputId": "ce642821-2450-4bc0-b65b-d0c94f1dd15f"
   },
   "outputs": [
    {
     "data": {
      "text/plain": [
       "<tf.Tensor: shape=(7,), dtype=float32, numpy=\n",
       "array([-4.4777603, -4.6775575, -4.7430477, -4.647725 , -4.5746684,\n",
       "       -4.4368567, -4.480562 ], dtype=float32)>"
      ]
     },
     "execution_count": 0,
     "metadata": {
      "tags": []
     },
     "output_type": "execute_result"
    }
   ],
   "source": [
    "jds.log_prob(sample)"
   ]
  },
  {
   "cell_type": "markdown",
   "metadata": {
    "id": "1mMIs28LEJqN"
   },
   "source": [
    "And multiple sampling doesn't work:"
   ]
  },
  {
   "cell_type": "code",
   "execution_count": 0,
   "metadata": {
    "id": "LbfRiIsfc9Hf",
    "outputId": "d93c1e83-9623-4ead-b50a-272d8f27ceae"
   },
   "outputs": [
    {
     "name": "stdout",
     "output_type": "stream",
     "text": [
      "Incompatible shapes: [5,3] vs. [7] [Op:Mul]\n"
     ]
    }
   ],
   "source": [
    "try:\n",
    "  jds.sample([5, 3])\n",
    "except tf.errors.InvalidArgumentError as e:\n",
    "  print(e)"
   ]
  },
  {
   "cell_type": "markdown",
   "metadata": {
    "id": "Rnvtz3SQHrVL"
   },
   "source": [
    "Let's try to understand what's going wrong."
   ]
  },
  {
   "cell_type": "markdown",
   "metadata": {
    "id": "Dp30JPCmHyuz"
   },
   "source": [
    "### A Brief Review: Batch and Event Shape"
   ]
  },
  {
   "cell_type": "markdown",
   "metadata": {
    "id": "w24fZn3kH2uF"
   },
   "source": [
    "In TFP, an ordinary (not a `JointDistribution`) probability distribution has an *event shape* and a *batch shape*, and understanding the difference is crucial to effective use of TFP:\n",
    "\n",
    "* Event shape describes the shape of a single draw from the distribution; the draw may be dependent across dimensions. For scalar distributions, the event shape is []. For a 5-dimensional MultivariateNormal, the event shape is [5].\n",
    "* Batch shape describes independent, not identically distributed draws, aka a \"batch\" of distributions. Representing a batch of distributions in a single Python object is one of the key ways TFP achieves efficiency at scale.\n",
    "\n",
    "For our purposes, a critical fact to keep in mind is that if we call `log_prob` on a single sample from a distribution, the result will always have a shape that matches (i.e., has as rightmost dimensions) the *batch* shape.\n",
    "\n",
    "For a more in-depth discussion of shapes, see [the \"Understanding TensorFlow Distributions Shapes\" tutorial](https://www.tensorflow.org/probability/examples/Understanding_TensorFlow_Distributions_Shapes).\n"
   ]
  },
  {
   "cell_type": "markdown",
   "metadata": {
    "id": "nONZMjl-KtTz"
   },
   "source": [
    "### Why Doesn't `log_prob(sample())` Produce a Scalar? "
   ]
  },
  {
   "cell_type": "markdown",
   "metadata": {
    "id": "VUKyGzkOJiuD"
   },
   "source": [
    "Let's use our knowledge of batch and event shape to explore what's happening with `log_prob(sample())`. Here's our sample again:"
   ]
  },
  {
   "cell_type": "code",
   "execution_count": 0,
   "metadata": {
    "id": "ijRGAnSBJwCG",
    "outputId": "807fdfa9-b05f-4188-c544-2614c7210e4c"
   },
   "outputs": [
    {
     "data": {
      "text/plain": [
       "[<tf.Tensor: shape=(), dtype=float32, numpy=-1.668757>,\n",
       " <tf.Tensor: shape=(), dtype=float32, numpy=0.6585061>,\n",
       " <tf.Tensor: shape=(7,), dtype=float32, numpy=\n",
       " array([ 0.18573815, -1.79962   , -1.8106272 , -3.5971394 , -6.6625295 ,\n",
       "        -7.308844  , -9.832693  ], dtype=float32)>]"
      ]
     },
     "execution_count": 0,
     "metadata": {
      "tags": []
     },
     "output_type": "execute_result"
    }
   ],
   "source": [
    "sample"
   ]
  },
  {
   "cell_type": "markdown",
   "metadata": {
    "id": "NAzBAsu3OoLv"
   },
   "source": [
    "And here are our distributions:"
   ]
  },
  {
   "cell_type": "code",
   "execution_count": 0,
   "metadata": {
    "id": "_xtIUKf8Nq3G",
    "outputId": "aecd827f-d06e-45d1-c3de-845c8ccd5b0d"
   },
   "outputs": [
    {
     "data": {
      "text/plain": [
       "[<tfp.distributions.Normal 'Normal' batch_shape=[] event_shape=[] dtype=float32>,\n",
       " <tfp.distributions.Normal 'Normal' batch_shape=[] event_shape=[] dtype=float32>,\n",
       " <tfp.distributions.Normal 'JointDistributionSequential_sample_distributions_Normal' batch_shape=[7] event_shape=[] dtype=float32>]"
      ]
     },
     "execution_count": 0,
     "metadata": {
      "tags": []
     },
     "output_type": "execute_result"
    }
   ],
   "source": [
    "dists"
   ]
  },
  {
   "cell_type": "markdown",
   "metadata": {
    "id": "LzkLnoZyFeU_"
   },
   "source": [
    "The log probability is computed by summing the log probabilities of the sub-distributions at the (matched) elements of the parts:"
   ]
  },
  {
   "cell_type": "code",
   "execution_count": 0,
   "metadata": {
    "id": "5XTDKVMPO5qg",
    "outputId": "ac4e837a-9f43-433a-afea-83e9a4c4e0b1"
   },
   "outputs": [
    {
     "data": {
      "text/plain": [
       "[<tf.Tensor: shape=(), dtype=float32, numpy=-2.3113134>,\n",
       " <tf.Tensor: shape=(), dtype=float32, numpy=-1.1357536>,\n",
       " <tf.Tensor: shape=(7,), dtype=float32, numpy=\n",
       " array([-1.0306933, -1.2304904, -1.2959809, -1.200658 , -1.1276014,\n",
       "        -0.9897899, -1.0334952], dtype=float32)>]"
      ]
     },
     "execution_count": 0,
     "metadata": {
      "tags": []
     },
     "output_type": "execute_result"
    }
   ],
   "source": [
    "log_prob_parts = [dist.log_prob(s) for (dist, s) in zip(dists, sample)]\n",
    "log_prob_parts"
   ]
  },
  {
   "cell_type": "code",
   "execution_count": 0,
   "metadata": {
    "id": "QoWsVGx8N1IJ",
    "outputId": "369342f9-cc85-4be1-8ed9-3b0c6cf04373"
   },
   "outputs": [
    {
     "data": {
      "text/plain": [
       "<tf.Tensor: shape=(7,), dtype=float32, numpy=array([0., 0., 0., 0., 0., 0., 0.], dtype=float32)>"
      ]
     },
     "execution_count": 0,
     "metadata": {
      "tags": []
     },
     "output_type": "execute_result"
    }
   ],
   "source": [
    "sum(log_prob_parts) - jds.log_prob(sample)"
   ]
  },
  {
   "cell_type": "markdown",
   "metadata": {
    "id": "ZJFvR4ZNFngd"
   },
   "source": [
    "So, one level of explanation is that the log probability calculation is returning a 7-Tensor because the third subcomponent of `log_prob_parts` is a 7-Tensor. But why?"
   ]
  },
  {
   "cell_type": "markdown",
   "metadata": {
    "id": "zdpKnguOPOrr"
   },
   "source": [
    "Well, we see that the last element of `dists`, which corresponds to our distribution over `Y` in the mathematial formulation, has a `batch_shape` of `[7]`. In other words, our distribution over `Y` is a batch of 7 independent normals (with different means and, in this case, the same scale)."
   ]
  },
  {
   "cell_type": "markdown",
   "metadata": {
    "id": "0WXzlR_diTuZ"
   },
   "source": [
    "We now understand what's wrong: in JDS, the distribution over `Y` has `batch_shape=[7]`, a sample from the JDS represents scalars for `m` and `b` and a \"batch\" of 7 independent normals. and `log_prob` computes 7 separate log-probabilities, each of which represents the log probability of drawing `m` and `b` and a single observation `Y[i]` at some `X[i]`."
   ]
  },
  {
   "cell_type": "markdown",
   "metadata": {
    "id": "s9RI0oxCi_En"
   },
   "source": [
    "### Fixing `log_prob(sample())` with `Independent`"
   ]
  },
  {
   "cell_type": "markdown",
   "metadata": {
    "id": "EOL1hllzjDcF"
   },
   "source": [
    "Recall that `dists[2]` has `event_shape=[]` and `batch_shape=[7]`:"
   ]
  },
  {
   "cell_type": "code",
   "execution_count": 0,
   "metadata": {
    "id": "TA05J9VwjCLu",
    "outputId": "b795bb88-8806-42a6-b5c3-d6c68bf8133e"
   },
   "outputs": [
    {
     "data": {
      "text/plain": [
       "<tfp.distributions.Normal 'JointDistributionSequential_sample_distributions_Normal' batch_shape=[7] event_shape=[] dtype=float32>"
      ]
     },
     "execution_count": 0,
     "metadata": {
      "tags": []
     },
     "output_type": "execute_result"
    }
   ],
   "source": [
    "dists[2]"
   ]
  },
  {
   "cell_type": "markdown",
   "metadata": {
    "id": "_xQ5ORIqjPAz"
   },
   "source": [
    "By using TFP's `Independent` metadistribution, which converts batch dimensions to event dimensions, we can convert this into a distribution with `event_shape=[7]` and `batch_shape=[]` (we'll rename it `y_dist_i` because it's a distribution on `Y`, with the `_i` standing in for our `Independent` wrapping): "
   ]
  },
  {
   "cell_type": "code",
   "execution_count": 0,
   "metadata": {
    "id": "Aa_SPItTjLBO",
    "outputId": "901d1d16-a7b2-4e16-de9e-7c051db73d37"
   },
   "outputs": [
    {
     "data": {
      "text/plain": [
       "<tfp.distributions.Independent 'IndependentJointDistributionSequential_sample_distributions_Normal' batch_shape=[] event_shape=[7] dtype=float32>"
      ]
     },
     "execution_count": 0,
     "metadata": {
      "tags": []
     },
     "output_type": "execute_result"
    }
   ],
   "source": [
    "y_dist_i = tfd.Independent(dists[2], reinterpreted_batch_ndims=1)\n",
    "y_dist_i"
   ]
  },
  {
   "cell_type": "markdown",
   "metadata": {
    "id": "JrRjuDhhmBEr"
   },
   "source": [
    "Now, the `log_prob` of a 7-vector is a scalar:"
   ]
  },
  {
   "cell_type": "code",
   "execution_count": 0,
   "metadata": {
    "id": "y9yZs-kwdLGa",
    "outputId": "787974e2-fa3b-4532-ecda-6e313cd62b80"
   },
   "outputs": [
    {
     "data": {
      "text/plain": [
       "<tf.Tensor: shape=(), dtype=float32, numpy=-7.9087086>"
      ]
     },
     "execution_count": 0,
     "metadata": {
      "tags": []
     },
     "output_type": "execute_result"
    }
   ],
   "source": [
    "y_dist_i.log_prob(sample[2])"
   ]
  },
  {
   "cell_type": "markdown",
   "metadata": {
    "id": "RqNEen4Ujkhh"
   },
   "source": [
    "Under the covers, `Independent` sums over the batch:"
   ]
  },
  {
   "cell_type": "code",
   "execution_count": 0,
   "metadata": {
    "id": "SxYr1McJkWFx",
    "outputId": "54b64a21-c3ee-41ca-97f0-91000245bbf5"
   },
   "outputs": [
    {
     "data": {
      "text/plain": [
       "<tf.Tensor: shape=(), dtype=float32, numpy=0.0>"
      ]
     },
     "execution_count": 0,
     "metadata": {
      "tags": []
     },
     "output_type": "execute_result"
    }
   ],
   "source": [
    "y_dist_i.log_prob(sample[2]) - tf.reduce_sum(dists[2].log_prob(sample[2]))"
   ]
  },
  {
   "cell_type": "markdown",
   "metadata": {
    "id": "00lD003YkojA"
   },
   "source": [
    "And indeed, we can use this to construct a new `jds_i` (the `i` again stands for `Independent`) where `log_prob` returns a scalar:"
   ]
  },
  {
   "cell_type": "code",
   "execution_count": 0,
   "metadata": {
    "id": "1jwoSeNWkhT6",
    "outputId": "7d7838a4-93a0-4866-ecc0-e2413d4fc972"
   },
   "outputs": [
    {
     "data": {
      "text/plain": [
       "<tf.Tensor: shape=(), dtype=float32, numpy=-11.355776>"
      ]
     },
     "execution_count": 0,
     "metadata": {
      "tags": []
     },
     "output_type": "execute_result"
    }
   ],
   "source": [
    "jds_i = tfd.JointDistributionSequential([\n",
    "    tfd.Normal(loc=0., scale=1.),   # m\n",
    "    tfd.Normal(loc=0., scale=1.),   # b\n",
    "    lambda b, m: tfd.Independent(   # Y\n",
    "        tfd.Normal(loc=m*X + b, scale=1.),\n",
    "        reinterpreted_batch_ndims=1)\n",
    "])\n",
    "\n",
    "jds_i.log_prob(sample)"
   ]
  },
  {
   "cell_type": "markdown",
   "metadata": {
    "id": "hYY3CNBXlAIZ"
   },
   "source": [
    "A couple notes:\n",
    "- `jds_i.log_prob(s)` is *not* the same as `tf.reduce_sum(jds.log_prob(s))`. The former produces the \"correct\" log probability of the joint distribution. The latter sums over a 7-Tensor, each element of which is the sum of the log probability of `m`, `b`, and a single element of the log probability of `Y`, so it overcounts `m` and `b`. (`log_prob(m) + log_prob(b) + log_prob(Y)` returns a result rather than throwing an exception because TFP follows TF and NumPy's broadcasting rules; adding a scalar to a vector produces a vector-sized result.)\n",
    "- In this particular case, we could have solved the problem and achieved the same result using `MultivariateNormalDiag` instead of `Independent(Normal(...))`. `MultivariateNormalDiag` is a vector-valued distribution (i.e., it already has vector event-shape). Indeeed `MultivariateNormalDiag` could be (but isn't) implemented as a composition of `Independent` and `Normal`. It's worthwhile to remember that given a vector `V`, samples from `n1 = Normal(loc=V)`, and `n2 = MultivariateNormalDiag(loc=V)` are indistinguishable; the difference beween these distributions is that `n1.log_prob(n1.sample())` is a vector and `n2.log_prob(n2.sample())` is a scalar."
   ]
  },
  {
   "cell_type": "markdown",
   "metadata": {
    "id": "b-iFi65ZmvpB"
   },
   "source": [
    "### Multiple Samples?"
   ]
  },
  {
   "cell_type": "markdown",
   "metadata": {
    "id": "PZcEBJS_nAhA"
   },
   "source": [
    "Drawing multiple samples still doesn't work:"
   ]
  },
  {
   "cell_type": "code",
   "execution_count": 0,
   "metadata": {
    "id": "PkvYmB3jm2sI",
    "outputId": "6fdf7cbe-b08e-4a44-a171-99dca44b2c77"
   },
   "outputs": [
    {
     "name": "stdout",
     "output_type": "stream",
     "text": [
      "Incompatible shapes: [5,3] vs. [7] [Op:Mul]\n"
     ]
    }
   ],
   "source": [
    "try:\n",
    "  jds_i.sample([5, 3])\n",
    "except tf.errors.InvalidArgumentError as e:\n",
    "  print(e)"
   ]
  },
  {
   "cell_type": "markdown",
   "metadata": {
    "id": "b9Jh0MTCn0Mr"
   },
   "source": [
    "Let's think about why. When we call `jds_i.sample([5, 3])`, we'll first draw samples for `m` and `b`, each with shape `(5, 3)`. Next, we're going to try to construct a `Normal` distribution via:\n",
    "```\n",
    "tfd.Normal(loc=m*X + b, scale=1.)\n",
    "```\n",
    "\n",
    "But if `m` has shape `(5, 3)` and `X` has shape `7`, we can't multiply them together, and indeed this is the error we're hitting:"
   ]
  },
  {
   "cell_type": "code",
   "execution_count": 0,
   "metadata": {
    "id": "ei9Z2Nozp8Dy",
    "outputId": "75c788b6-9d43-4cbc-db6b-a3bf88394c79"
   },
   "outputs": [
    {
     "name": "stdout",
     "output_type": "stream",
     "text": [
      "Incompatible shapes: [5,3] vs. [7] [Op:Mul]\n"
     ]
    }
   ],
   "source": [
    "m = tfd.Normal(0., 1.).sample([5, 3])\n",
    "try:\n",
    "  m * X\n",
    "except tf.errors.InvalidArgumentError as e:\n",
    "  print(e)"
   ]
  },
  {
   "cell_type": "markdown",
   "metadata": {
    "id": "1uqaIx2LlaeP"
   },
   "source": [
    "To resolve this issue, let's think about what properties the distribution over `Y` has to have. If we've called `jds_i.sample([5, 3])`, then we know `m` and `b` will both have shape `(5, 3)`. What shape should a call to `sample` on the `Y` distribution produce? The obvious answer is `(5, 3, 7)`: for each batch point, we want a sample with the same size as `X`. We can achieve this by using TensorFlow's broadcasting capabilities, adding extra dimensions:"
   ]
  },
  {
   "cell_type": "code",
   "execution_count": 0,
   "metadata": {
    "id": "-22Bg8Yfr6tg",
    "outputId": "ac7b7cfe-7a92-438f-9f39-0c5ae99b230c"
   },
   "outputs": [
    {
     "data": {
      "text/plain": [
       "TensorShape([5, 3, 1])"
      ]
     },
     "execution_count": 0,
     "metadata": {
      "tags": []
     },
     "output_type": "execute_result"
    }
   ],
   "source": [
    "m[..., tf.newaxis].shape"
   ]
  },
  {
   "cell_type": "code",
   "execution_count": 0,
   "metadata": {
    "id": "7k21MOvlsHGe",
    "outputId": "d981d02b-fc70-4657-e145-5d7e996ff7d2"
   },
   "outputs": [
    {
     "data": {
      "text/plain": [
       "TensorShape([5, 3, 7])"
      ]
     },
     "execution_count": 0,
     "metadata": {
      "tags": []
     },
     "output_type": "execute_result"
    }
   ],
   "source": [
    "(m[..., tf.newaxis] * X).shape"
   ]
  },
  {
   "cell_type": "markdown",
   "metadata": {
    "id": "5AEBbcjVsXQR"
   },
   "source": [
    "Adding an axis to both `m` and `b`, we can define a new JDS that supports multiple samples:"
   ]
  },
  {
   "cell_type": "code",
   "execution_count": 0,
   "metadata": {
    "id": "9rJ9WCVQsW0S",
    "outputId": "a91f10f4-1180-42ef-99e2-115153a99414"
   },
   "outputs": [
    {
     "data": {
      "text/plain": [
       "[<tf.Tensor: shape=(5, 3), dtype=float32, numpy=\n",
       " array([[-1.1133379 ,  0.16390413, -0.24177533],\n",
       "        [-1.1312429 , -0.6224666 , -1.8182136 ],\n",
       "        [-0.31343174, -0.32932565,  0.5164407 ],\n",
       "        [-0.0119963 , -0.9079621 ,  2.3655841 ],\n",
       "        [-0.26293617,  0.8229698 ,  0.31098196]], dtype=float32)>,\n",
       " <tf.Tensor: shape=(5, 3), dtype=float32, numpy=\n",
       " array([[-0.02876974,  1.0872147 ,  1.0138507 ],\n",
       "        [ 0.27367726, -1.331534  , -0.09084719],\n",
       "        [ 1.3349475 , -0.68765205,  1.680652  ],\n",
       "        [ 0.75436825,  1.3050154 , -0.9415123 ],\n",
       "        [-1.2502679 , -0.25730947,  0.74611956]], dtype=float32)>,\n",
       " <tf.Tensor: shape=(5, 3, 7), dtype=float32, numpy=\n",
       " array([[[-1.8258233e+00, -3.0641669e-01, -2.7595463e+00, -1.6952467e+00,\n",
       "          -4.8197951e+00, -5.2986512e+00, -6.6931367e+00],\n",
       "         [ 3.6438566e-01,  1.0067395e+00,  1.4542470e+00,  8.1155670e-01,\n",
       "           1.8868095e+00,  2.3877139e+00,  1.0195159e+00],\n",
       "         [-8.3624744e-01,  1.2518480e+00,  1.0943471e+00,  1.3052304e+00,\n",
       "          -4.5756745e-01, -1.0668410e-01, -7.0669651e-02]],\n",
       " \n",
       "        [[-3.1788960e-01,  9.2615485e-03, -3.0963073e+00, -2.2846246e+00,\n",
       "          -3.2269263e+00, -6.0213070e+00, -7.4806519e+00],\n",
       "         [-3.9149747e+00, -3.5155020e+00, -1.5669601e+00, -5.0759468e+00,\n",
       "          -4.5065498e+00, -5.6719379e+00, -4.8012795e+00],\n",
       "         [ 1.3053948e-01, -8.0493152e-01, -4.7845001e+00, -4.9721808e+00,\n",
       "          -7.1365709e+00, -9.6198196e+00, -9.7951422e+00]],\n",
       " \n",
       "        [[ 2.0621397e+00,  3.4639853e-01,  7.0252883e-01, -1.4311566e+00,\n",
       "           3.3790007e+00,  1.1619035e+00, -8.9105040e-01],\n",
       "         [-7.8956139e-01, -8.5023916e-01, -9.7148323e-01, -2.6229355e+00,\n",
       "          -2.7150445e+00, -2.4633870e+00, -2.1841538e+00],\n",
       "         [ 7.7627432e-01,  2.2401071e+00,  3.7601702e+00,  2.4245868e+00,\n",
       "           4.0690269e+00,  4.0605016e+00,  5.1753912e+00]],\n",
       " \n",
       "        [[ 1.4275590e+00,  3.3346462e+00,  1.5374103e+00, -2.2849756e-01,\n",
       "           9.1219616e-01, -3.1220305e-01, -3.2643962e-01],\n",
       "         [-3.1910419e-02, -3.8848895e-01,  9.9946201e-02, -2.3619974e+00,\n",
       "          -1.8507402e+00, -3.6830821e+00, -5.4907336e+00],\n",
       "         [-7.1941972e-02,  2.1602919e+00,  4.9575748e+00,  4.2317696e+00,\n",
       "           9.3528280e+00,  1.0526063e+01,  1.5262107e+01]],\n",
       " \n",
       "        [[-2.3257759e+00, -2.5343289e+00, -3.5342445e+00, -4.0423255e+00,\n",
       "          -3.2361765e+00, -3.3434000e+00, -2.6849220e+00],\n",
       "         [ 1.5006512e-02, -1.9866472e-01,  7.6781356e-01,  1.6228745e+00,\n",
       "           1.4191239e+00,  2.6655579e+00,  4.4663467e+00],\n",
       "         [ 2.6599693e+00,  1.2663836e+00,  1.7162113e+00,  1.4839669e+00,\n",
       "           2.0559487e+00,  2.5976877e+00,  2.5977583e+00]]], dtype=float32)>]"
      ]
     },
     "execution_count": 0,
     "metadata": {
      "tags": []
     },
     "output_type": "execute_result"
    }
   ],
   "source": [
    "jds_ia = tfd.JointDistributionSequential([\n",
    "    tfd.Normal(loc=0., scale=1.),   # m\n",
    "    tfd.Normal(loc=0., scale=1.),   # b\n",
    "    lambda b, m: tfd.Independent(   # Y\n",
    "        tfd.Normal(loc=m[..., tf.newaxis]*X + b[..., tf.newaxis], scale=1.),\n",
    "        reinterpreted_batch_ndims=1)\n",
    "])\n",
    "\n",
    "shaped_sample = jds_ia.sample([5, 3])\n",
    "shaped_sample"
   ]
  },
  {
   "cell_type": "code",
   "execution_count": 0,
   "metadata": {
    "id": "8fsYEy6Fla0o",
    "outputId": "3dc6c656-d990-4fc5-ddf9-0ec8d92cd7af"
   },
   "outputs": [
    {
     "data": {
      "text/plain": [
       "<tf.Tensor: shape=(5, 3), dtype=float32, numpy=\n",
       "array([[-12.483114 , -10.139662 , -11.514159 ],\n",
       "       [-11.656767 , -17.201958 , -12.132455 ],\n",
       "       [-17.838818 ,  -9.474525 , -11.24898  ],\n",
       "       [-13.95219  , -12.490049 , -17.123957 ],\n",
       "       [-14.487818 , -11.3755455, -10.576363 ]], dtype=float32)>"
      ]
     },
     "execution_count": 0,
     "metadata": {
      "tags": []
     },
     "output_type": "execute_result"
    }
   ],
   "source": [
    "jds_ia.log_prob(shaped_sample)"
   ]
  },
  {
   "cell_type": "markdown",
   "metadata": {
    "id": "6ArLyKqJtY3Z"
   },
   "source": [
    "As an extra check, we'll verify that the log probability for a single batch point matches what we had before:"
   ]
  },
  {
   "cell_type": "code",
   "execution_count": 0,
   "metadata": {
    "id": "9_2lIJyJtpyW",
    "outputId": "ad08f15a-05e0-4f20-a157-bfa4834378c8"
   },
   "outputs": [
    {
     "data": {
      "text/plain": [
       "<tf.Tensor: shape=(), dtype=float32, numpy=0.0>"
      ]
     },
     "execution_count": 0,
     "metadata": {
      "tags": []
     },
     "output_type": "execute_result"
    }
   ],
   "source": [
    "(jds_ia.log_prob(shaped_sample)[3, 1] -\n",
    " jds_i.log_prob([shaped_sample[0][3, 1],\n",
    "                 shaped_sample[1][3, 1],\n",
    "                 shaped_sample[2][3, 1, :]]))"
   ]
  },
  {
   "cell_type": "markdown",
   "metadata": {
    "id": "_h7sJ2bkfOS7"
   },
   "source": [
    "<a id='AutoBatching-For-The-Win'></a>\n",
    "### AutoBatching For The Win\n"
   ]
  },
  {
   "cell_type": "markdown",
   "metadata": {
    "id": "J7nqIUMxuKzw"
   },
   "source": [
    "Excellent! We now have a version of JointDistribution that handles all our desiderata: `log_prob` returns a scalar thanks to the use of `tfd.Independent`, and multiple samples work now that we fixed broadcasting by adding extra axes.\n",
    "\n",
    "What if I told you there was an easier, better way? There is, and it's called `JointDistributionSequentialAutoBatched` (JDSAB):"
   ]
  },
  {
   "cell_type": "code",
   "execution_count": 0,
   "metadata": {
    "id": "LZtVljb0fRx2"
   },
   "outputs": [],
   "source": [
    "jds_ab = tfd.JointDistributionSequentialAutoBatched([\n",
    "    tfd.Normal(loc=0., scale=1.),   # m\n",
    "    tfd.Normal(loc=0., scale=1.),   # b\n",
    "    lambda b, m: tfd.Normal(loc=m*X + b, scale=1.) # Y\n",
    "])"
   ]
  },
  {
   "cell_type": "code",
   "execution_count": 0,
   "metadata": {
    "id": "gpvjnvXqu2Mk",
    "outputId": "8cdc7f45-fe5d-4640-b413-ee5a03f35f78"
   },
   "outputs": [
    {
     "data": {
      "text/plain": [
       "<tf.Tensor: shape=(), dtype=float32, numpy=-12.954952>"
      ]
     },
     "execution_count": 0,
     "metadata": {
      "tags": []
     },
     "output_type": "execute_result"
    }
   ],
   "source": [
    "jds_ab.log_prob(jds.sample())"
   ]
  },
  {
   "cell_type": "code",
   "execution_count": 0,
   "metadata": {
    "id": "Js3luiUfns_R",
    "outputId": "b864c734-5667-43f6-fc38-bfc4fcb5ce1c"
   },
   "outputs": [
    {
     "data": {
      "text/plain": [
       "<tf.Tensor: shape=(5, 3), dtype=float32, numpy=\n",
       "array([[-12.191533 , -10.43885  , -16.371655 ],\n",
       "       [-13.292994 , -11.97949  , -16.788685 ],\n",
       "       [-15.987699 , -13.435732 , -10.6029   ],\n",
       "       [-10.184758 , -11.969714 , -14.275676 ],\n",
       "       [-12.740775 , -11.5654125, -12.990162 ]], dtype=float32)>"
      ]
     },
     "execution_count": 0,
     "metadata": {
      "tags": []
     },
     "output_type": "execute_result"
    }
   ],
   "source": [
    "shaped_sample = jds_ab.sample([5, 3])\n",
    "jds_ab.log_prob(shaped_sample)"
   ]
  },
  {
   "cell_type": "code",
   "execution_count": 0,
   "metadata": {
    "id": "v1ppa6F6bdkv",
    "outputId": "ccd1b9eb-3f80-416a-90ee-d190b4776fe1"
   },
   "outputs": [
    {
     "data": {
      "text/plain": [
       "<tf.Tensor: shape=(5, 3), dtype=float32, numpy=\n",
       "array([[0., 0., 0.],\n",
       "       [0., 0., 0.],\n",
       "       [0., 0., 0.],\n",
       "       [0., 0., 0.],\n",
       "       [0., 0., 0.]], dtype=float32)>"
      ]
     },
     "execution_count": 0,
     "metadata": {
      "tags": []
     },
     "output_type": "execute_result"
    }
   ],
   "source": [
    "jds_ab.log_prob(shaped_sample) - jds_ia.log_prob(shaped_sample)"
   ]
  },
  {
   "cell_type": "markdown",
   "metadata": {
    "id": "xy-kuUbYwFB3"
   },
   "source": [
    "How does this work? While you could attempt to [read the code](https://github.com/tensorflow/probability/blob/main/tensorflow_probability/python/distributions/joint_distribution_auto_batched.py#L426) for a deep understanding, we'll give a brief overview which is sufficient for most use cases:\n",
    "- Recall that our first problem was that our distribution for `Y` had `batch_shape=[7]` and `event_shape=[]`, and we used `Independent` to convert the batch dimension to an event dimension. JDSAB ignores the batch shapes of component distributions; instead it treats batch shape as an overall property of the model, which is assumed to be `[]` (unless specified otherwise by setting `batch_ndims > 0`). The effect is equivalent to using tfd.Independent to convert *all* batch dimensions of component distributions into event dimensions, as we did manually above.\n",
    "- Our second problem was a need to massage the shapes of `m` and `b` so that they could broadcast appropriately with `X` when creating multiple samples. With JDSAB, you write a model to generate a single sample, and we \"lift\" the entire model to generate multiple samples using TensorFlow's [vectorized_map](https://www.tensorflow.org/api_docs/python/tf/vectorized_map). (This feature is analagous to JAX's [vmap](https://jax.readthedocs.io/en/latest/notebooks/quickstart.html#Auto-vectorization-with-vmap).)"
   ]
  },
  {
   "cell_type": "markdown",
   "metadata": {
    "id": "jUsWfVGqJiph"
   },
   "source": [
    "Exploring the batch shape issue in more detail, we can compare the batch shapes of our original \"bad\" joint distribution `jds`, our batch-fixed distributions `jds_i` and `jds_ia`, and our autobatched `jds_ab`:"
   ]
  },
  {
   "cell_type": "code",
   "execution_count": 0,
   "metadata": {
    "id": "298I732fJDk5",
    "outputId": "b97e2ea3-e89a-4922-ee20-59544c5134d7"
   },
   "outputs": [
    {
     "data": {
      "text/plain": [
       "[TensorShape([]), TensorShape([]), TensorShape([7])]"
      ]
     },
     "execution_count": 0,
     "metadata": {
      "tags": []
     },
     "output_type": "execute_result"
    }
   ],
   "source": [
    "jds.batch_shape"
   ]
  },
  {
   "cell_type": "code",
   "execution_count": 0,
   "metadata": {
    "id": "SBmdWrUuJGx0",
    "outputId": "7101d876-68fc-4f7c-8ac9-47fa3cb3a5a0"
   },
   "outputs": [
    {
     "data": {
      "text/plain": [
       "[TensorShape([]), TensorShape([]), TensorShape([])]"
      ]
     },
     "execution_count": 0,
     "metadata": {
      "tags": []
     },
     "output_type": "execute_result"
    }
   ],
   "source": [
    "jds_i.batch_shape"
   ]
  },
  {
   "cell_type": "code",
   "execution_count": 0,
   "metadata": {
    "id": "vD71eqN2JMhx",
    "outputId": "fac0f5bc-c6aa-4ac2-b9ac-7e7b101828d7"
   },
   "outputs": [
    {
     "data": {
      "text/plain": [
       "[TensorShape([]), TensorShape([]), TensorShape([])]"
      ]
     },
     "execution_count": 0,
     "metadata": {
      "tags": []
     },
     "output_type": "execute_result"
    }
   ],
   "source": [
    "jds_ia.batch_shape"
   ]
  },
  {
   "cell_type": "code",
   "execution_count": 0,
   "metadata": {
    "id": "qHmvRcxBJOAZ",
    "outputId": "fc21534e-f019-46f8-d136-82afa055e0ff"
   },
   "outputs": [
    {
     "data": {
      "text/plain": [
       "TensorShape([])"
      ]
     },
     "execution_count": 0,
     "metadata": {
      "tags": []
     },
     "output_type": "execute_result"
    }
   ],
   "source": [
    "jds_ab.batch_shape"
   ]
  },
  {
   "cell_type": "markdown",
   "metadata": {
    "id": "ozegq0diJuOL"
   },
   "source": [
    "We see that the original `jds` has subdistributions with different batch shapes. `jds_i` and `jds_ia` fix this by creating subdistributions with the same (empty) batch shape. `jds_ab` has only a single (empty) batch shape."
   ]
  },
  {
   "cell_type": "markdown",
   "metadata": {
    "id": "bMm55xqV1dz6"
   },
   "source": [
    "It's worth noting that `JointDistributionSequentialAutoBatched` offers some additional generality for free. Suppose we make the covariates `X` (and, implicitly, the observations `Y`) two-dimensional:"
   ]
  },
  {
   "cell_type": "code",
   "execution_count": 0,
   "metadata": {
    "id": "1WfK-XbR1tXU",
    "outputId": "b76cfaaa-acc7-4413-ed42-0db2b8f539bd"
   },
   "outputs": [
    {
     "data": {
      "text/plain": [
       "array([[ 0,  1,  2,  3,  4,  5,  6],\n",
       "       [ 7,  8,  9, 10, 11, 12, 13]])"
      ]
     },
     "execution_count": 0,
     "metadata": {
      "tags": []
     },
     "output_type": "execute_result"
    }
   ],
   "source": [
    "X = np.arange(14).reshape((2, 7))\n",
    "X"
   ]
  },
  {
   "cell_type": "markdown",
   "metadata": {
    "id": "VOnnkZooSj2C"
   },
   "source": [
    "Our `JointDistributionSequentialAutoBatched` works with no changes (we need to redefine the model because the shape of `X` is cached by `jds_ab.log_prob`):"
   ]
  },
  {
   "cell_type": "code",
   "execution_count": 0,
   "metadata": {
    "id": "6WwMvoY71qph",
    "outputId": "66ac655d-de0f-4647-a490-443467cc1555"
   },
   "outputs": [
    {
     "data": {
      "text/plain": [
       "[<tf.Tensor: shape=(5, 3), dtype=float32, numpy=\n",
       " array([[ 0.1813647 , -0.85994506,  0.27593774],\n",
       "        [-0.73323774,  1.1153806 ,  0.8841938 ],\n",
       "        [ 0.5127983 , -0.29271227,  0.63733214],\n",
       "        [ 0.2362284 , -0.919168  ,  1.6648189 ],\n",
       "        [ 0.26317367,  0.73077047,  2.5395133 ]], dtype=float32)>,\n",
       " <tf.Tensor: shape=(5, 3), dtype=float32, numpy=\n",
       " array([[ 0.09636458,  2.0138032 , -0.5054413 ],\n",
       "        [ 0.63941646, -1.0785882 , -0.6442188 ],\n",
       "        [ 1.2310615 , -0.3293852 ,  0.77637213],\n",
       "        [ 1.2115169 , -0.98906034, -0.07816773],\n",
       "        [-1.1318136 ,  0.510014  ,  1.036522  ]], dtype=float32)>,\n",
       " <tf.Tensor: shape=(5, 3, 2, 7), dtype=float32, numpy=\n",
       " array([[[[-1.9685398e+00, -1.6832136e+00, -6.9127172e-01,\n",
       "            8.5992378e-01, -5.3123581e-01,  3.1584005e+00,\n",
       "            2.9044402e+00],\n",
       "          [-2.5645006e-01,  3.1554163e-01,  3.1186538e+00,\n",
       "            1.4272424e+00,  1.2843871e+00,  1.2266440e+00,\n",
       "            1.2798605e+00]],\n",
       " \n",
       "         [[ 1.5973477e+00, -5.3631151e-01,  6.8143606e-03,\n",
       "           -1.4910895e+00, -2.1568544e+00, -2.0513713e+00,\n",
       "           -3.1663666e+00],\n",
       "          [-4.9448099e+00, -2.8385928e+00, -6.9027486e+00,\n",
       "           -5.6543546e+00, -7.2378774e+00, -8.1577444e+00,\n",
       "           -9.3582869e+00]],\n",
       " \n",
       "         [[-2.1233239e+00,  5.8853775e-02,  1.2024102e+00,\n",
       "            1.6622503e+00, -1.9197327e-01,  1.8647723e+00,\n",
       "            6.4322817e-01],\n",
       "          [ 3.7549341e-01,  1.5853541e+00,  2.4594500e+00,\n",
       "            2.1952972e+00,  1.7517658e+00,  2.9666045e+00,\n",
       "            2.5468128e+00]]],\n",
       " \n",
       " \n",
       "        [[[ 8.9906776e-01,  6.7375046e-01,  7.3354661e-01,\n",
       "           -9.9894643e-01, -3.4606690e+00, -3.4810467e+00,\n",
       "           -4.4315586e+00],\n",
       "          [-3.0670738e+00, -6.3628020e+00, -6.2538433e+00,\n",
       "           -6.8091092e+00, -7.7134805e+00, -8.6319380e+00,\n",
       "           -8.6904278e+00]],\n",
       " \n",
       "         [[-2.2462025e+00, -3.3060855e-01,  1.8974400e-01,\n",
       "            3.1422038e+00,  4.1483402e+00,  3.5642972e+00,\n",
       "            4.8709240e+00],\n",
       "          [ 4.7880130e+00,  5.8790064e+00,  9.6695948e+00,\n",
       "            7.8112822e+00,  1.2022618e+01,  1.2411858e+01,\n",
       "            1.4323385e+01]],\n",
       " \n",
       "         [[-1.0189297e+00, -7.8115642e-01,  1.6466728e+00,\n",
       "            8.2378983e-01,  3.0765080e+00,  3.0170646e+00,\n",
       "            5.1899948e+00],\n",
       "          [ 6.5285158e+00,  7.8038850e+00,  6.4155884e+00,\n",
       "            9.0899811e+00,  1.0040427e+01,  9.1404457e+00,\n",
       "            1.0411951e+01]]],\n",
       " \n",
       " \n",
       "        [[[ 4.5557004e-01,  1.4905317e+00,  1.4904103e+00,\n",
       "            2.9777462e+00,  2.8620450e+00,  3.4745665e+00,\n",
       "            3.8295493e+00],\n",
       "          [ 3.9977460e+00,  5.7173767e+00,  7.8421035e+00,\n",
       "            6.3180594e+00,  6.0838981e+00,  8.2257290e+00,\n",
       "            9.6548376e+00]],\n",
       " \n",
       "         [[-7.0750320e-01, -3.5972297e-01,  4.3136525e-01,\n",
       "           -2.3301599e+00, -5.0374687e-01, -2.8338656e+00,\n",
       "           -3.4453444e+00],\n",
       "          [-3.1258626e+00, -3.4687450e+00, -1.2045374e+00,\n",
       "           -4.0196013e+00, -5.8831010e+00, -4.2965469e+00,\n",
       "           -4.1388311e+00]],\n",
       " \n",
       "         [[ 2.1969774e+00,  2.4614549e+00,  2.2314475e+00,\n",
       "            1.8392437e+00,  2.8367062e+00,  4.8600502e+00,\n",
       "            4.2273531e+00],\n",
       "          [ 6.1879644e+00,  5.1792760e+00,  6.1141996e+00,\n",
       "            5.6517797e+00,  8.9979610e+00,  7.5938139e+00,\n",
       "            9.7918644e+00]]],\n",
       " \n",
       " \n",
       "        [[[ 1.5249090e+00,  1.1388919e+00,  8.6903995e-01,\n",
       "            3.0762129e+00,  1.5128503e+00,  3.5204377e+00,\n",
       "            2.4760864e+00],\n",
       "          [ 3.4166217e+00,  3.5930209e+00,  3.1694956e+00,\n",
       "            4.5797420e+00,  4.5271711e+00,  2.8774328e+00,\n",
       "            4.7288942e+00]],\n",
       " \n",
       "         [[-2.3095846e+00, -2.0595703e+00, -3.0093951e+00,\n",
       "           -3.8594103e+00, -4.9681158e+00, -6.4256043e+00,\n",
       "           -5.5345035e+00],\n",
       "          [-6.4306297e+00, -7.0924540e+00, -8.4075985e+00,\n",
       "           -1.0417805e+01, -1.1727266e+01, -1.1196255e+01,\n",
       "           -1.1333830e+01]],\n",
       " \n",
       "         [[-7.0419472e-01,  1.4568675e+00,  3.7946482e+00,\n",
       "            4.8489718e+00,  6.6498446e+00,  9.0224218e+00,\n",
       "            1.1153137e+01],\n",
       "          [ 1.0060651e+01,  1.1998097e+01,  1.5326431e+01,\n",
       "            1.7957514e+01,  1.8323889e+01,  2.0160881e+01,\n",
       "            2.1269085e+01]]],\n",
       " \n",
       " \n",
       "        [[[-2.2360647e-01, -1.3632748e+00, -7.2704530e-01,\n",
       "            2.3558271e-01, -1.0381399e+00,  1.9387857e+00,\n",
       "           -3.3694571e-01],\n",
       "          [ 1.6015106e-01,  1.5284677e+00, -4.8567140e-01,\n",
       "           -1.7770648e-01,  2.1919653e+00,  1.3015286e+00,\n",
       "            1.3877077e+00]],\n",
       " \n",
       "         [[ 1.3688663e+00,  2.6602898e+00,  6.6657305e-01,\n",
       "            4.6554832e+00,  5.7781887e+00,  4.9115267e+00,\n",
       "            4.8446012e+00],\n",
       "          [ 5.1983776e+00,  6.2297459e+00,  6.3848300e+00,\n",
       "            8.4291229e+00,  7.1309576e+00,  1.0395646e+01,\n",
       "            8.5736713e+00]],\n",
       " \n",
       "         [[ 1.2675294e+00,  5.2844582e+00,  5.1331611e+00,\n",
       "            8.9993315e+00,  1.0794343e+01,  1.4039831e+01,\n",
       "            1.5731170e+01],\n",
       "          [ 1.9084715e+01,  2.2191265e+01,  2.3481146e+01,\n",
       "            2.5803375e+01,  2.8632090e+01,  3.0234968e+01,\n",
       "            3.1886738e+01]]]], dtype=float32)>]"
      ]
     },
     "execution_count": 0,
     "metadata": {
      "tags": []
     },
     "output_type": "execute_result"
    }
   ],
   "source": [
    "jds_ab = tfd.JointDistributionSequentialAutoBatched([\n",
    "    tfd.Normal(loc=0., scale=1.),   # m\n",
    "    tfd.Normal(loc=0., scale=1.),   # b\n",
    "    lambda b, m: tfd.Normal(loc=m*X + b, scale=1.) # Y\n",
    "])\n",
    "\n",
    "shaped_sample = jds_ab.sample([5, 3])\n",
    "shaped_sample"
   ]
  },
  {
   "cell_type": "code",
   "execution_count": 0,
   "metadata": {
    "id": "GLvHMTpnSyvH",
    "outputId": "736817b2-ca10-48b5-8618-bbd892cb6f34"
   },
   "outputs": [
    {
     "data": {
      "text/plain": [
       "<tf.Tensor: shape=(5, 3), dtype=float32, numpy=\n",
       "array([[-28.90071 , -23.052422, -19.851362],\n",
       "       [-19.775568, -25.894997, -20.302256],\n",
       "       [-21.10754 , -23.667885, -20.973007],\n",
       "       [-19.249458, -20.87892 , -20.573763],\n",
       "       [-22.351208, -25.457762, -24.648403]], dtype=float32)>"
      ]
     },
     "execution_count": 0,
     "metadata": {
      "tags": []
     },
     "output_type": "execute_result"
    }
   ],
   "source": [
    "jds_ab.log_prob(shaped_sample)"
   ]
  },
  {
   "cell_type": "markdown",
   "metadata": {
    "id": "AI40r2oETnVP"
   },
   "source": [
    "On the other hand, our carefully crafted `JointDistributionSequential` no longer works:"
   ]
  },
  {
   "cell_type": "code",
   "execution_count": 0,
   "metadata": {
    "id": "tfYkdBIi0wJl",
    "outputId": "517af7fb-913a-4ac5-cf0c-c758e9942bbd"
   },
   "outputs": [
    {
     "name": "stdout",
     "output_type": "stream",
     "text": [
      "Incompatible shapes: [5,3,1] vs. [2,7] [Op:Mul]\n"
     ]
    }
   ],
   "source": [
    "jds_ia = tfd.JointDistributionSequential([\n",
    "    tfd.Normal(loc=0., scale=1.),   # m\n",
    "    tfd.Normal(loc=0., scale=1.),   # b\n",
    "    lambda b, m: tfd.Independent(   # Y\n",
    "        tfd.Normal(loc=m[..., tf.newaxis]*X + b[..., tf.newaxis], scale=1.),\n",
    "        reinterpreted_batch_ndims=1)\n",
    "])\n",
    "\n",
    "try:\n",
    "  jds_ia.sample([5, 3])\n",
    "except tf.errors.InvalidArgumentError as e:\n",
    "  print(e)"
   ]
  },
  {
   "cell_type": "markdown",
   "metadata": {
    "id": "WLERQvFNTwQJ"
   },
   "source": [
    "To fix this, we'd have to add a second `tf.newaxis` to both `m` and `b` match the shape, and increase `reinterpreted_batch_ndims` to 2 in the call to `Independent`. In this case, letting the auto-batching machinery handle the shape issues is shorter, easier, and more ergonomic."
   ]
  },
  {
   "cell_type": "markdown",
   "metadata": {
    "id": "HIgCF6yJXpHE"
   },
   "source": [
    "Once again, we note that while this notebook explored `JointDistributionSequentialAutoBatched`, the other variants of `JointDistribution` have equivalent `AutoBatched`. (For users of  `JointDistributionCoroutine`, `JointDistributionCoroutineAutoBatched` has the additional benefit that you no longer need to specify `Root` nodes; if you've never used `JointDistributionCoroutine` you can safely ignore this statement.)"
   ]
  },
  {
   "cell_type": "markdown",
   "metadata": {
    "id": "mHacIM0iUW09"
   },
   "source": [
    "### Concluding Thoughts"
   ]
  },
  {
   "cell_type": "markdown",
   "metadata": {
    "id": "kXAC7GDWUaaY"
   },
   "source": [
    "In this notebook, we introduced `JointDistributionSequentialAutoBatched` and worked through a simple example in detail. Hopefully you learned something about TFP shapes and about autobatching!"
   ]
  }
 ],
 "metadata": {
  "colab": {
   "collapsed_sections": [],
   "name": "JointDistributionAutoBatched_A_Gentle_Tutorial.ipynb",
   "toc_visible": true
  },
  "kernelspec": {
   "display_name": "Python 3",
   "name": "python3"
  }
 },
 "nbformat": 4,
 "nbformat_minor": 0
}
