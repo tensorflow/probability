{
  "nbformat": 4,
  "nbformat_minor": 0,
  "metadata": {
    "colab": {
      "name": "Supervised_Classification_with_GP_TFP.ipynb",
      "version": "0.3.2",
      "provenance": [],
      "collapsed_sections": []
    },
    "kernelspec": {
      "display_name": "Python 3",
      "language": "python",
      "name": "python3"
    }
  },
  "cells": [
    {
      "metadata": {
        "id": "yp-MLjB_WtvQ",
        "colab_type": "text"
      },
      "cell_type": "markdown",
      "source": [
        "##### Copyright 2018 The TensorFlow Authors.\n",
        "\n",
        "Licensed under the Apache License, Version 2.0 (the \"License\");"
      ]
    },
    {
      "metadata": {
        "id": "7wyfmwIvWtig",
        "colab_type": "code",
        "colab": {}
      },
      "cell_type": "code",
      "source": [
        "#@title Licensed under the Apache License, Version 2.0 (the \"License\"); { display-mode: \"form\" }\n",
        "# you may not use this file except in compliance with the License.\n",
        "# You may obtain a copy of the License at\n",
        "#\n",
        "# https://www.apache.org/licenses/LICENSE-2.0\n",
        "#\n",
        "# Unless required by applicable law or agreed to in writing, software\n",
        "# distributed under the License is distributed on an \"AS IS\" BASIS,\n",
        "# WITHOUT WARRANTIES OR CONDITIONS OF ANY KIND, either express or implied.\n",
        "# See the License for the specific language governing permissions and\n",
        "# limitations under the License."
      ],
      "execution_count": 0,
      "outputs": []
    },
    {
      "metadata": {
        "id": "E2BesV19Rm8n",
        "colab_type": "text"
      },
      "cell_type": "markdown",
      "source": [
        "# Supervised Learning (Classification) with TFP\n",
        "\n",
        "<table class=\"tfo-notebook-buttons\" align=\"left\">\n",
        "  <td>\n",
        "    <a target=\"_blank\" href=\"https://colab.research.google.com/github/tensorflow/probability/blob/master/tensorflow_probability/examples/jupyter_notebooks/deep_exponential_family_with_tfp.ipynb\"><img height=\"32px\" src=\"https://colab.research.google.com/img/colab_favicon.ico\" />Run in Google Colab</a>\n",
        "  </td>\n",
        "  <td>\n",
        "    <a target=\"_blank\" href=\"https://github.com/tensorflow/probability/blob/master/tensorflow_probability/examples/jupyter_notebooks/deep_exponential_family_with_tfp.ipynb\"><img src=\"https://www.tensorflow.org/images/GitHub-Mark-32px.png\" />View source on GitHub</a>\n",
        "  </td>\n",
        "</table>\n",
        "<br>\n",
        "<br>\n",
        "<br>\n",
        "\n",
        "\n",
        "Original content [this Repository](https://github.com/blei-lab/edward/blob/master/notebooks/supervised_classification.ipynb), created by [the Blei Lab](http://www.cs.columbia.edu/~blei/)\n",
        "\n",
        "Ported to [Tensorflow Probability](https://www.tensorflow.org/probability/) by Matthew McAteer ([`@MatthewMcAteer0`](https://twitter.com/MatthewMcAteer0)), with help from Bryan Seybold, Mike Shwe ([`@mikeshwe`](https://twitter.com/mikeshwe)), Josh Dillon, and the rest of the TFP team at  Google ([`tfprobability@tensorflow.org`](mailto:tfprobability@tensorflow.org)).\n",
        "\n",
        "---\n",
        "\n",
        "- [Dependencies & Prerequisites](#scrollTo=nvFPAsJ-bfth)\n",
        "- [Introduction](#scrollTo=rLgn7MGNVLk-)\n",
        "- [Data](#scrollTo=rETRud5cRm8q)\n",
        "- [Model](#scrollTo=cfs4k7_gRm8u)\n",
        "- [Inference](#scrollTo=w5bmYxs5Rm8x)\n",
        "- [References](#scrollTo=PAs0LelnRm84)"
      ]
    },
    {
      "metadata": {
        "id": "nvFPAsJ-bfth",
        "colab_type": "text"
      },
      "cell_type": "markdown",
      "source": [
        "## Dependencies & Prerequisites\n",
        "\n",
        "<div class=\"alert alert-success\">\n",
        "    Tensorflow Probability is part of the colab default runtime, <b>so you don't need to install Tensorflow or Tensorflow Probability if you're running this in the colab</b>. \n",
        "    <br>\n",
        "    If you're running this notebook in Jupyter on your own machine (and you have already installed Tensorflow), you can use the following\n",
        "    <br>\n",
        "      <ul>\n",
        "    <li> For the most recent nightly installation: <code>pip3 install -q tfp-nightly</code></li>\n",
        "    <li> For the most recent stable TFP release: <code>pip3 install -q --upgrade tensorflow-probability</code></li>\n",
        "    <li> For the most recent stable GPU-connected version of TFP: <code>pip3 install -q --upgrade tensorflow-probability-gpu</code></li>\n",
        "    <li> For the most recent nightly GPU-connected version of TFP: <code>pip3 install -q tfp-nightly-gpu</code></li>\n",
        "    </ul>\n",
        "Again, if you are running this in a Colab, Tensorflow and TFP are already installed\n",
        "</div>"
      ]
    },
    {
      "metadata": {
        "id": "1s77KCLRRm8n",
        "colab_type": "code",
        "colab": {}
      },
      "cell_type": "code",
      "source": [
        "#@title Imports and Global Variables  { display-mode: \"form\" }\n",
        "!pip install -q observations\n",
        "from __future__ import absolute_import, division, print_function\n",
        "\n",
        "#@markdown This sets the warning status (default is `ignore`, since this notebook runs correctly)\n",
        "warning_status = \"ignore\" #@param [\"ignore\", \"always\", \"module\", \"once\", \"default\", \"error\"]\n",
        "import warnings\n",
        "warnings.filterwarnings(warning_status)\n",
        "with warnings.catch_warnings():\n",
        "    warnings.filterwarnings(warning_status, category=DeprecationWarning)\n",
        "    warnings.filterwarnings(warning_status, category=UserWarning)\n",
        "\n",
        "import numpy as np\n",
        "import string\n",
        "from datetime import datetime\n",
        "import os\n",
        "#@markdown This sets the styles of the plotting (default is styled like plots from [FiveThirtyeight.com](https://fivethirtyeight.com/))\n",
        "matplotlib_style = 'fivethirtyeight' #@param ['fivethirtyeight', 'bmh', 'ggplot', 'seaborn', 'default', 'Solarize_Light2', 'classic', 'dark_background', 'seaborn-colorblind', 'seaborn-notebook']\n",
        "import matplotlib.pyplot as plt; plt.style.use(matplotlib_style)\n",
        "import matplotlib.axes as axes;\n",
        "from matplotlib.patches import Ellipse\n",
        "%matplotlib inline\n",
        "import seaborn as sns; sns.set_context('notebook')\n",
        "from IPython.core.pylabtools import figsize\n",
        "#@markdown This sets the resolution of the plot outputs (`retina` is the highest resolution)\n",
        "notebook_screen_res = 'retina' #@param ['retina', 'png', 'jpeg', 'svg', 'pdf']\n",
        "%config InlineBackend.figure_format = notebook_screen_res\n",
        "\n",
        "import tensorflow as tf\n",
        "from tensorflow.python.ops import control_flow_ops\n",
        "tfe = tf.contrib.eager\n",
        "\n",
        "# Eager Execution\n",
        "#@markdown Check the box below if you want to use [Eager Execution](https://www.tensorflow.org/guide/eager)\n",
        "#@markdown Eager execution provides An intuitive interface, Easier debugging, and a control flow comparable to Numpy. You can read more about it on the [Google AI Blog](https://ai.googleblog.com/2017/10/eager-execution-imperative-define-by.html)\n",
        "use_tf_eager = False #@param {type:\"boolean\"}\n",
        "\n",
        "# Use try/except so we can easily re-execute the whole notebook.\n",
        "if use_tf_eager:\n",
        "  try:\n",
        "    tf.enable_eager_execution()\n",
        "  except:\n",
        "    pass\n",
        "\n",
        "import tensorflow_probability as tfp\n",
        "tfd = tfp.distributions\n",
        "tfb = tfp.bijectors\n",
        "\n",
        "  \n",
        "def evaluate(tensors):\n",
        "  \"\"\"Evaluates Tensor or EagerTensor to Numpy `ndarray`s.\n",
        "  Args:\n",
        "  tensors: Object of `Tensor` or EagerTensor`s; can be `list`, `tuple`,\n",
        "    `namedtuple` or combinations thereof.\n",
        " \n",
        "  Returns:\n",
        "    ndarrays: Object with same structure as `tensors` except with `Tensor` or\n",
        "      `EagerTensor`s replaced by Numpy `ndarray`s.\n",
        "  \"\"\"\n",
        "  if tf.executing_eagerly():\n",
        "    return tf.contrib.framework.nest.pack_sequence_as(\n",
        "        tensors,\n",
        "        [t.numpy() if tf.contrib.framework.is_tensor(t) else t\n",
        "         for t in tf.contrib.framework.nest.flatten(tensors)])\n",
        "  return sess.run(tensors)\n",
        "\n",
        "class _TFColor(object):\n",
        "    \"\"\"Enum of colors used in TF docs.\"\"\"\n",
        "    red = '#F15854'\n",
        "    blue = '#5DA5DA'\n",
        "    orange = '#FAA43A'\n",
        "    green = '#60BD68'\n",
        "    pink = '#F17CB0'\n",
        "    brown = '#B2912F'\n",
        "    purple = '#B276B2'\n",
        "    yellow = '#DECF3F'\n",
        "    gray = '#4D4D4D'\n",
        "    def __getitem__(self, i):\n",
        "        return [\n",
        "            self.red,\n",
        "            self.orange,\n",
        "            self.green,\n",
        "            self.blue,\n",
        "            self.pink,\n",
        "            self.brown,\n",
        "            self.purple,\n",
        "            self.yellow,\n",
        "            self.gray,\n",
        "        ][i % 9]\n",
        "TFColor = _TFColor()\n",
        "\n",
        "def session_options(enable_gpu_ram_resizing=True, enable_xla=True):\n",
        "    \"\"\"\n",
        "    Allowing the notebook to make use of GPUs if they're available.\n",
        "    \n",
        "    XLA (Accelerated Linear Algebra) is a domain-specific compiler for linear \n",
        "    algebra that optimizes TensorFlow computations.\n",
        "    \"\"\"\n",
        "    config = tf.ConfigProto()\n",
        "    config.log_device_placement = True\n",
        "    if enable_gpu_ram_resizing:\n",
        "        # `allow_growth=True` makes it possible to connect multiple colabs to your\n",
        "        # GPU. Otherwise the colab malloc's all GPU ram.\n",
        "        config.gpu_options.allow_growth = True\n",
        "    if enable_xla:\n",
        "        # Enable on XLA. https://www.tensorflow.org/performance/xla/.\n",
        "        config.graph_options.optimizer_options.global_jit_level = (\n",
        "            tf.OptimizerOptions.ON_1)\n",
        "    return config\n",
        "\n",
        "\n",
        "def reset_sess(config=None):\n",
        "    \"\"\"\n",
        "    Convenience function to create the TF graph & session or reset them.\n",
        "    \"\"\"\n",
        "    if config is None:\n",
        "        config = session_options()\n",
        "    global sess\n",
        "    tf.reset_default_graph()\n",
        "    try:\n",
        "        sess.close()\n",
        "    except:\n",
        "        pass\n",
        "    sess = tf.InteractiveSession(config=config)\n",
        "\n",
        "reset_sess()\n",
        "\n",
        "## from edward.models import Bernoulli, MultivariateNormalTriL, Normal\n",
        "# from edward.util import rbf\n",
        "from observations import crabs\n"
      ],
      "execution_count": 0,
      "outputs": []
    },
    {
      "metadata": {
        "id": "rLgn7MGNVLk-",
        "colab_type": "text"
      },
      "cell_type": "markdown",
      "source": [
        "## Introduction\n",
        "\n",
        "In supervised learning, the task is to infer hidden structure from labeled data, comprised of training examples $\\{(x_n, y_n)\\}$. Classification means the output $y$ takes discrete values."
      ]
    },
    {
      "metadata": {
        "id": "rETRud5cRm8q",
        "colab_type": "text"
      },
      "cell_type": "markdown",
      "source": [
        "## Data\n",
        "\n",
        "Use the\n",
        "[crabs data set](https://stat.ethz.ch/R-manual/R-devel/library/MASS/html/crabs.html),\n",
        "which consists of morphological measurements on a crab species. We\n",
        "are interested in predicting whether a given crab has the color form\n",
        "blue (encoded as 0) or orange (encoded as 1). We use all the numeric features\n",
        "in the dataset."
      ]
    },
    {
      "metadata": {
        "id": "-gkq_TOLRm8r",
        "colab_type": "code",
        "outputId": "fe319f57-7c86-403d-ae19-e87fcb66eaf9",
        "colab": {
          "base_uri": "https://localhost:8080/",
          "height": 68
        }
      },
      "cell_type": "code",
      "source": [
        "#@title Model Data Sources\n",
        "# Set seed. Remove this line to generate different mixtures!\n",
        "tf.set_random_seed(77)\n",
        "\n",
        "data, metadata = crabs(\"~/data\") #@param {type:\"raw\"}\n",
        "X_train = data[:100, 3:] #@param {type:\"raw\"}\n",
        "y_train = data[:100, 1]  #@param {type:\"raw\"}\n",
        "\n",
        "N = X_train.shape[0]  # number of data points\n",
        "D = X_train.shape[1]  # number of features\n",
        "\n",
        "print(\"\\nNumber of data points: {}\".format(N))\n",
        "print(\"Number of features: {}\".format(D))"
      ],
      "execution_count": 0,
      "outputs": [
        {
          "output_type": "stream",
          "text": [
            "\n",
            "Number of data points: 100\n",
            "Number of features: 5\n"
          ],
          "name": "stdout"
        }
      ]
    },
    {
      "metadata": {
        "id": "cfs4k7_gRm8u",
        "colab_type": "text"
      },
      "cell_type": "markdown",
      "source": [
        "## Model\n",
        "\n",
        "A Gaussian process is a powerful object for modeling nonlinear\n",
        "relationships between pairs of random variables. It defines a distribution over\n",
        "(possibly nonlinear) functions, which can be applied for representing\n",
        "our uncertainty around the true functional relationship.\n",
        "Here we define a Gaussian process model for classification\n",
        "(Rasumussen & Williams, 2006).\n",
        "\n",
        "Formally, a distribution over functions $f:\\mathbb{R}^D\\to\\mathbb{R}$ can be specified\n",
        "by a Gaussian process\n",
        "$$\n",
        "\\begin{align*}\n",
        "  p(f)\n",
        "  &=\n",
        "  \\mathcal{GP}(f\\mid \\mathbf{0}, k(\\mathbf{x}, \\mathbf{x}^\\prime)),\n",
        "\\end{align*}\n",
        "$$\n",
        "whose mean function is the zero function, and whose covariance\n",
        "function is some kernel which describes dependence between\n",
        "any set of inputs to the function.\n",
        "\n",
        "Given a set of input-output pairs\n",
        "$\\{\\mathbf{x}_n\\in\\mathbb{R}^D,y_n\\in\\mathbb{R}\\}$,\n",
        "the likelihood can be written as a multivariate normal\n",
        "\n",
        "\\begin{align*}\n",
        "  p(\\mathbf{y})\n",
        "  &=\n",
        "  \\text{Normal}(\\mathbf{y} \\mid \\mathbf{0}, \\mathbf{K})\n",
        "\\end{align*}\n",
        "\n",
        "where $\\mathbf{K}$ is a covariance matrix given by evaluating\n",
        "$k(\\mathbf{x}_n, \\mathbf{x}_m)$ for each pair of inputs in the data\n",
        "set.\n",
        "\n",
        "The above applies directly for regression where $\\mathbb{y}$ is a\n",
        "real-valued response, but not for (binary) classification, where $\\mathbb{y}$\n",
        "is a label in $\\{0,1\\}$. To deal with classification, we interpret the\n",
        "response as latent variables which is squashed into $[0,1]$. We then\n",
        "draw from a Bernoulli to determine the label, with probability given\n",
        "by the squashed value.\n",
        "\n",
        "Define the likelihood of an observation $(\\mathbf{x}_n, y_n)$ as\n",
        "\n",
        "\\begin{align*}\n",
        "  p(y_n \\mid \\mathbf{z}, x_n)\n",
        "  &=\n",
        "  \\text{Bernoulli}(y_n \\mid \\text{logit}^{-1}(\\mathbf{x}_n^\\top \\mathbf{z})).\n",
        "\\end{align*}\n",
        "\n",
        "Define the prior to be a multivariate normal\n",
        "\n",
        "\\begin{align*}\n",
        "  p(\\mathbf{z})\n",
        "  &=\n",
        "  \\text{Normal}(\\mathbf{z} \\mid \\mathbf{0}, \\mathbf{K}),\n",
        "\\end{align*}\n",
        "\n",
        "with covariance matrix given as previously stated.\n",
        "\n",
        "Let's build the model in Edward. We use a radial basis function (RBF)\n",
        "kernel, also known as the squared exponential or exponentiated\n",
        "quadratic. It returns the kernel matrix evaluated over all pairs of\n",
        "data points; we then Cholesky decompose the matrix to parameterize the\n",
        "multivariate normal distribution."
      ]
    },
    {
      "metadata": {
        "id": "f6pJr-h2Bqa8",
        "colab_type": "text"
      },
      "cell_type": "markdown",
      "source": [
        "### Radial basis function definition\n",
        "\n",
        "The Radial basis function kernel, also known as the squared exponential or exponentiated quadratic, is defined as follows:\n",
        "\n",
        "$k(x, x') = \\sigma^2 \\exp\\Big(-\\ \\frac{1}{2} \\sum_{d=1}^D \\ \\frac{1}{\\ell_d^2} (x_d - x'_d)^2 \\Big)$ for output variance $\\sigma^2$ and lengthscale $\\ell^2$.\n",
        "  \n",
        "The kernel is evaluated over all pairs of rows, `k(X[i, ], X2[j, ])`. If `X2` is not specified, then it evaluates over all pairs\n",
        "  of rows in `X`, `k(X[i, ], X[j, ])`. The output is a matrix\n",
        "  where each entry (`i`, `j`) is the kernel over the `i`th and `j`th rows.\n",
        "  \n",
        "An example of how we use this might look like the following:\n",
        "```python\n",
        "X = tf.random_normal([100, 5])\n",
        "K = rbf(X)\n",
        "assert K.shape == (100, 100)\n",
        "```"
      ]
    },
    {
      "metadata": {
        "id": "LNOGQ_w_Rm8v",
        "colab_type": "code",
        "colab": {}
      },
      "cell_type": "code",
      "source": [
        "def rbf(X, X2=None, lengthscale=1.0, variance=1.0):\n",
        "    \"\"\"Radial basis function kernel\n",
        "    Args:\n",
        "        X: tf.Tensor.\n",
        "           N x D matrix of N data points each with D features.\n",
        "        X2: tf.Tensor.\n",
        "           N x D matrix of N data points each with D features.\n",
        "        lengthscale: tf.Tensor.\n",
        "           Lengthscale parameter, a positive scalar or D-dimensional vector.\n",
        "        variance: tf.Tensor.\n",
        "           Output variance parameter, a positive scalar.\n",
        "\n",
        "    \"\"\"\n",
        "    lengthscale = tf.convert_to_tensor(lengthscale)\n",
        "    variance = tf.convert_to_tensor(variance)\n",
        "    dependencies = [tf.assert_positive(lengthscale),\n",
        "                    tf.assert_positive(variance)]\n",
        "    lengthscale = control_flow_ops.with_dependencies(dependencies, lengthscale)\n",
        "    variance = control_flow_ops.with_dependencies(dependencies, variance)\n",
        "\n",
        "    X = tf.convert_to_tensor(X)\n",
        "    X = X / lengthscale\n",
        "    Xs = tf.reduce_sum(tf.square(X), 1)\n",
        "    if X2 is None:\n",
        "        X2 = X\n",
        "        X2s = Xs\n",
        "    else:\n",
        "        X2 = tf.convert_to_tensor(X2)\n",
        "        X2 = X2 / lengthscale\n",
        "        X2s = tf.reduce_sum(tf.square(X2), 1)\n",
        "\n",
        "    square = tf.reshape(Xs, [-1, 1]) + tf.reshape(X2s, [1, -1]) - \\\n",
        "        2 * tf.matmul(X, X2, transpose_b=True)\n",
        "    output = variance * tf.exp(-square / 2)\n",
        "    return output\n",
        "\n",
        "\n",
        "X = tf.to_float(X_train, name='X_train')\n",
        "\n",
        "# Creating our Covariance Matrix and Mulvitariate Normal Distribution\n",
        "f = tfd.MultivariateNormalTriL(loc=tf.zeros(N), scale_tril=tf.cholesky(rbf(X)))\n",
        "\n",
        "# Feeding the latent function into a Poisson Distribution\n",
        "x_init = tfd.Bernoulli(logits=tf.transpose(f.sample()))\n",
        "y = tfd.Bernoulli(logits=tf.transpose(f.sample()))\n",
        "\n",
        "# Getting our initial parametrization tensor for setting up the \n",
        "# trainable_distribution\n",
        "x_ = evaluate(tf.transpose(x_init.sample(100)))\n"
      ],
      "execution_count": 0,
      "outputs": []
    },
    {
      "metadata": {
        "id": "bZfGJtpXRm8x",
        "colab_type": "text"
      },
      "cell_type": "markdown",
      "source": [
        "Here, we define a placeholder `X`. During inference, we pass in\n",
        "the value for this placeholder according to data."
      ]
    },
    {
      "metadata": {
        "id": "w5bmYxs5Rm8x",
        "colab_type": "text"
      },
      "cell_type": "markdown",
      "source": [
        "## Inference\n",
        "\n",
        "We will perform variational inference. Our variational model will be defined to be a trainable multivariate normal. First, we need to set up the components of our `tfd.MultivariateNormalTriL` distribution, namely the functions for converting scalars to positive valued scalars, and converting vectors to lower-triangular scale matrices."
      ]
    },
    {
      "metadata": {
        "id": "NJOZSZOTaep-",
        "colab_type": "code",
        "colab": {}
      },
      "cell_type": "code",
      "source": [
        "def softplus_and_shift(x, shift=1e-5, name=None):\n",
        "    \"\"\"\n",
        "    Converts (batch of) scalars to (batch of) positive valued scalars.\n",
        "    \n",
        "    Args:\n",
        "      x: (Batch of) `float`-like `Tensor` representing scalars which will be\n",
        "        transformed into positive elements.\n",
        "      shift: `Tensor` added to `softplus` transformation of elements.\n",
        "        Default value: `1e-5`.\n",
        "      name: A `name_scope` name for operations created by this function.\n",
        "        Default value: `None` (i.e., \"positive_tril_with_shift\").\n",
        "    Returns:\n",
        "      scale: (Batch of) scalars`with `x.dtype` and `x.shape`.\n",
        "    \"\"\"\n",
        "    x = tf.convert_to_tensor(x, name='x')\n",
        "    y = tf.nn.softplus(x)\n",
        "    if shift is not None:\n",
        "        y += shift\n",
        "    return y\n",
        "\n",
        "\n",
        "def tril_with_diag_softplus_and_shift(x, diag_shift=1e-5, name=None):\n",
        "    \"\"\"Converts (batch of) vectors to (batch of) lower-triangular scale matrices.\n",
        "    Args:\n",
        "      x: (Batch of) `float`-like `Tensor` representing vectors which will be\n",
        "        transformed into lower-triangular scale matrices with positive diagonal\n",
        "        elements. Rightmost shape `n` must be such that\n",
        "        `n = dims * (dims + 1) / 2` for some positive, integer `dims`.\n",
        "      diag_shift: `Tensor` added to `softplus` transformation of diagonal\n",
        "        elements.\n",
        "        Default value: `1e-5`.\n",
        "      name: A `name_scope` name for operations created by this function.\n",
        "        Default value: `None` (i.e., \"tril_with_diag_softplus_and_shift\").\n",
        "    Returns:\n",
        "      scale_tril: (Batch of) lower-triangular `Tensor` with `x.dtype` and\n",
        "        rightmost shape `[dims, dims]` where `n = dims * (dims + 1) / 2` where\n",
        "        `n = x.shape[-1]`.\n",
        "    \"\"\"\n",
        "    with tf.name_scope(name, 'tril_with_diag_softplus_and_shift',\n",
        "                       [x, diag_shift]):\n",
        "        x = tf.convert_to_tensor(x, name='x')\n",
        "        x = tfd.fill_triangular(x)\n",
        "        diag = softplus_and_shift(tf.matrix_diag_part(x), diag_shift)\n",
        "        x = tf.matrix_set_diag(x, diag)\n",
        "        return x\n",
        "\n",
        "\n",
        "def trainable_multivariate_normal_tril(x, dims, layer_fn=tf.layers.dense,\n",
        "    loc_fn=lambda x: x, scale_fn=tril_with_diag_softplus_and_shift,\n",
        "    name=None):\n",
        "    \"\"\"Constructs a trainable `tfd.MultivariateNormalTriL` distribution.\n",
        "    Args:\n",
        "      x: `Tensor` with floating type. Must have statically defined rank and\n",
        "        statically known right-most dimension.\n",
        "      dims: Scalar, `int`, `Tensor` indicated the MVN event size, i.e., the\n",
        "        created MVN will be distribution over length-`dims` vectors.\n",
        "      layer_fn: Python `callable` which takes input `x` and `int` scalar `d` and\n",
        "        returns a transformation of `x` with shape\n",
        "        `tf.concat([tf.shape(x)[:-1], [d]], axis=0)`.\n",
        "        Default value: `tf.layers.dense`.\n",
        "      loc_fn: Python `callable` which transforms the `loc` parameter. Takes a\n",
        "        (batch of) length-`dims` vectors and returns a `Tensor` of same shape and\n",
        "        `dtype`.\n",
        "        Default value: `lambda x: x`.\n",
        "      scale_fn: Python `callable` which transforms the `scale` parameters. Takes a\n",
        "        (batch of) length-`dims * (dims + 1) / 2` vectors and returns a\n",
        "        lower-triangular `Tensor` of same batch shape with rightmost dimensions\n",
        "        having shape `[dims, dims]`.\n",
        "        Default value: `tril_with_diag_softplus_and_shift`.\n",
        "      name: A `name_scope` name for operations created by this function.\n",
        "        Default value: `None` (i.e., \"multivariate_normal_tril\").\n",
        "    Returns:\n",
        "      mvntril: An instance of `tfd.MultivariateNormalTriL`.\n",
        "    \"\"\"\n",
        "    x = tf.convert_to_tensor(x, name='x')\n",
        "    x = layer_fn(x, dims + dims * (dims + 1) // 2)\n",
        "    return tfd.MultivariateNormalTriL(\n",
        "        loc=loc_fn(x[..., :dims]),\n",
        "        scale_tril=scale_fn(x[..., dims:]))\n"
      ],
      "execution_count": 0,
      "outputs": []
    },
    {
      "metadata": {
        "id": "Ev3Ct4AaRm84",
        "colab_type": "text"
      },
      "cell_type": "markdown",
      "source": [
        "In this case `KLqp` defaults to minimizing the $\\text{KL}(q\\|p)$ divergence measure using the reparameterization\n",
        "gradient. \n",
        "For more details on inference, see the [$\\text{KL}(q\\|p)$ tutorial](/tutorials/klqp). (This example happens to be slow because evaluating and inverting full covariances in Gaussian processes happens to be slow.)"
      ]
    },
    {
      "metadata": {
        "id": "-6nEqPW3SJ-a",
        "colab_type": "code",
        "colab": {}
      },
      "cell_type": "code",
      "source": [
        "# Build TF graph for fitting MVNTriL maximum likelihood estimator.\n",
        "qf = trainable_multivariate_normal_tril(tf.to_float(x_), dims=100)\n",
        "kl = tf.reduce_mean(qf.kl_divergence(f))\n",
        "loss = -tf.reduce_mean(tfd.Bernoulli(logits=qf.sample()).log_prob(y_train))\n",
        "elbo = kl + loss\n",
        "\n",
        "learning_rate=2.**-5\n",
        "\n",
        "train_op = tf.train.AdamOptimizer(learning_rate).minimize(elbo)\n",
        "mse = tf.reduce_mean(tf.squared_difference(tf.to_float(y_train), y.mean()))"
      ],
      "execution_count": 0,
      "outputs": []
    },
    {
      "metadata": {
        "id": "WPuUT_JjRm80",
        "colab_type": "text"
      },
      "cell_type": "markdown",
      "source": [
        "We'll run our variational inference for `500` iterations."
      ]
    },
    {
      "metadata": {
        "id": "GDH76LuYRm8y",
        "colab_type": "code",
        "outputId": "ae361bfa-14a6-4ee3-e8ff-69e55dcf65df",
        "colab": {
          "base_uri": "https://localhost:8080/",
          "height": 119
        }
      },
      "cell_type": "code",
      "source": [
        "init_op = tf.global_variables_initializer()\n",
        "\n",
        "# Run graph 500 times.\n",
        "num_steps = 500\n",
        "elbo_ = evaluate(tf.zeros(num_steps)) # Style: `_` to indicate evaluate result.\n",
        "mse_ = evaluate(tf.zeros(num_steps))\n",
        "kl_ = evaluate(tf.zeros(num_steps))\n",
        "\n",
        "evaluate(init_op)\n",
        "for it in range(elbo_.size):\n",
        "    _, elbo_[it], mse_[it], kl_[it] = evaluate([train_op, elbo, mse, kl])\n",
        "    if it % 100 == 0 or it == elbo_.size - 1:\n",
        "        print(\"iteration:{}  elbo:{:.6f}  mse:{:.6f}  KL divergence:{:.6f}\".format(it, elbo_[it], mse_[it], kl_[it]))"
      ],
      "execution_count": 0,
      "outputs": [
        {
          "output_type": "stream",
          "text": [
            "iteration:0  elbo:269.790649  mse:0.241689  KL divergence:268.952118\n",
            "iteration:100  elbo:7.140766  mse:0.259436  KL divergence:6.320974\n",
            "iteration:200  elbo:2.859372  mse:0.330106  KL divergence:2.067898\n",
            "iteration:300  elbo:2.137505  mse:0.266784  KL divergence:1.339819\n",
            "iteration:400  elbo:3.007614  mse:0.265966  KL divergence:2.215268\n",
            "iteration:499  elbo:3.189533  mse:0.307424  KL divergence:2.393468\n"
          ],
          "name": "stdout"
        }
      ]
    },
    {
      "metadata": {
        "id": "8R4U1qWnjsff",
        "colab_type": "code",
        "outputId": "bc7125f3-0278-4c53-f6b5-841b273154bf",
        "colab": {
          "base_uri": "https://localhost:8080/",
          "height": 400
        }
      },
      "cell_type": "code",
      "source": [
        "import matplotlib.pyplot as plt\n",
        "\n",
        "plt.subplot(2, 2, 1)\n",
        "#plt.semilogy(elbo_, np.exp(-elbo_/1.0))\n",
        "plt.plot(elbo_[40:], TFColor[0])\n",
        "plt.ylabel('ELBO Loss')\n",
        "\n",
        "plt.subplot(2, 2, 2)\n",
        "plt.plot(mse_[40:], TFColor[3])\n",
        "plt.ylabel('Mean Square Error')\n",
        "\n",
        "plt.subplot(2, 2, 3)\n",
        "plt.plot(kl_[40:], TFColor[2])\n",
        "plt.ylabel('KL Divergence')\n",
        "plt.xlabel('iteration')\n",
        "\n",
        "plt.suptitle('Supervised Classification (w/ Gaussian Processes)\\n(Learning Rate = {}, {} iterations)'.format(learning_rate, num_steps))\n",
        "\n",
        "plt.show()"
      ],
      "execution_count": 0,
      "outputs": [
        {
          "output_type": "display_data",
          "data": {
            "image/png": "[encoded data removed]",
            "text/plain": [
              "<matplotlib.figure.Figure at 0x7f42aa92b160>"
            ]
          },
          "metadata": {
            "tags": [],
            "image/png": {
              "width": 553,
              "height": 383
            }
          }
        }
      ]
    },
    {
      "metadata": {
        "id": "PAs0LelnRm84",
        "colab_type": "text"
      },
      "cell_type": "markdown",
      "source": [
        "## Reference\n",
        "\n",
        "[1] Rasmussen, C. E., & Williams, C. (2006). [Gaussian processes for machine learning](http://www.newton.ac.uk/files/seminar/20070809140015001-150844.pdf). MIT Press.\n",
        "\n",
        "[2] [Supervised Classification](http://edwardlib.org/tutorials/supervised-classification)"
      ]
    }
  ]
}