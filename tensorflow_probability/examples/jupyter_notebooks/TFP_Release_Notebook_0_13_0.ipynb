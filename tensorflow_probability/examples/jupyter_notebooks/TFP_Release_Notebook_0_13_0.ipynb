{
  "nbformat": 4,
  "nbformat_minor": 0,
  "metadata": {
    "colab": {
      "name": "TFP Release Notes notebook (0.13.0).ipynb",
      "provenance": [],
      "collapsed_sections": [],
      "toc_visible": true
    },
    "kernelspec": {
      "display_name": "Python 3",
      "name": "python3"
    }
  },
  "cells": [
    {
      "cell_type": "markdown",
      "metadata": {
        "id": "Vi2Tl3VMnX68"
      },
      "source": [
        "##### Copyright 2021 The TensorFlow Probability Authors.\n",
        "\n",
        "Licensed under the Apache License, Version 2.0 (the \"License\");"
      ]
    },
    {
      "cell_type": "code",
      "metadata": {
        "id": "FW9em4rqnw0S"
      },
      "source": [
        "#@title Licensed under the Apache License, Version 2.0 (the \"License\"); { display-mode: \"form\" }\n",
        "# you may not use this file except in compliance with the License.\n",
        "# You may obtain a copy of the License at\n",
        "#\n",
        "# https://www.apache.org/licenses/LICENSE-2.0\n",
        "#\n",
        "# Unless required by applicable law or agreed to in writing, software\n",
        "# distributed under the License is distributed on an \"AS IS\" BASIS,\n",
        "# WITHOUT WARRANTIES OR CONDITIONS OF ANY KIND, either express or implied.\n",
        "# See the License for the specific language governing permissions and\n",
        "# limitations under the License."
      ],
      "execution_count": null,
      "outputs": []
    },
    {
      "cell_type": "markdown",
      "metadata": {
        "id": "Zn9IkdJNQblp"
      },
      "source": [
        "# TFP Release Notes notebook (0.13.0)\n",
        "\n",
        "The intent of this notebook is to help TFP 0.13.0 \"come to life\" via some small snippets - little demos of things you can achieve with TFP.\n",
        "\n",
        "\n",
        "<table class=\"tfo-notebook-buttons\" align=\"left\">\n",
        "  <td>\n",
        "    <a target=\"_blank\" href=\"https://www.tensorflow.org/probability/examples/TFP_Release_Notebook_0_13_0\"><img src=\"https://www.tensorflow.org/images/tf_logo_32px.png\" />View on TensorFlow.org</a>\n",
        "  </td>\n",
        "  <td>\n",
        "    <a target=\"_blank\" href=\"https://colab.research.google.com/github/tensorflow/probability/blob/main/tensorflow_probability/examples/jupyter_notebooks/TFP_Release_Notebook_0_13_0.ipynb\"><img src=\"https://www.tensorflow.org/images/colab_logo_32px.png\" />Run in Google Colab</a>\n",
        "  </td>\n",
        "  <td>\n",
        "    <a target=\"_blank\" href=\"https://github.com/tensorflow/probability/blob/main/tensorflow_probability/examples/jupyter_notebooks/TFP_Release_Notebook_0_13_0.ipynb\"><img src=\"https://www.tensorflow.org/images/GitHub-Mark-32px.png\" />View source on GitHub</a>\n",
        "  </td>\n",
        "  <td>\n",
        "    <a href=\"https://storage.googleapis.com/tensorflow_docs/probability/tensorflow_probability/examples/jupyter_notebooks/TFP_Release_Notebook_0_13_0.ipynb\"><img src=\"https://www.tensorflow.org/images/download_logo_32px.png\" />Download notebook</a>\n",
        "  </td>\n",
        "</table>"
      ]
    },
    {
      "cell_type": "code",
      "metadata": {
        "id": "Ceywx-aaQblq",
        "colab": {
          "base_uri": "https://localhost:8080/"
        },
        "outputId": "0949ecb1-e5fc-459c-a3d6-ab941c5b9ad3"
      },
      "source": [
        "#@title Installs & imports { vertical-output: true }\n",
        "!pip3 install -qU tensorflow==2.5.0 tensorflow_probability==0.13.0 tensorflow-datasets inference_gym\n",
        "\n",
        "import tensorflow as tf\n",
        "import tensorflow_probability as tfp\n",
        "assert '0.13' in tfp.__version__, tfp.__version__\n",
        "assert '2.5' in tf.__version__, tf.__version__\n",
        "\n",
        "physical_devices = tf.config.list_physical_devices('CPU')\n",
        "tf.config.set_logical_device_configuration(\n",
        "    physical_devices[0],\n",
        "    [tf.config.LogicalDeviceConfiguration(),\n",
        "     tf.config.LogicalDeviceConfiguration()])\n",
        "\n",
        "tfd = tfp.distributions\n",
        "tfb = tfp.bijectors\n",
        "tfpk = tfp.math.psd_kernels\n",
        "\n",
        "import matplotlib.pyplot as plt\n",
        "import numpy as np\n",
        "import scipy.interpolate\n",
        "import IPython\n",
        "import seaborn as sns\n",
        "import logging"
      ],
      "execution_count": 1,
      "outputs": [
        {
          "output_type": "stream",
          "text": [
            "\u001b[K     |████████████████████████████████| 5.4MB 8.8MB/s \n",
            "\u001b[K     |████████████████████████████████| 3.9MB 37.1MB/s \n",
            "\u001b[K     |████████████████████████████████| 296kB 31.6MB/s \n",
            "\u001b[?25h"
          ],
          "name": "stdout"
        }
      ]
    },
    {
      "cell_type": "markdown",
      "metadata": {
        "id": "iHBsq_t5IIQy"
      },
      "source": [
        "## Distributions [core math]"
      ]
    },
    {
      "cell_type": "markdown",
      "metadata": {
        "id": "6N1TInBM8V1r"
      },
      "source": [
        "### `BetaQuotient`\n",
        "Ratio of two independent Beta-distributed random variables"
      ]
    },
    {
      "cell_type": "code",
      "metadata": {
        "colab": {
          "base_uri": "https://localhost:8080/",
          "height": 265
        },
        "id": "Yq4tIvL8lhLW",
        "outputId": "e58b10a5-3cf9-46a4-ca21-9bcde67f91a3"
      },
      "source": [
        "plt.hist(tfd.BetaQuotient(concentration1_numerator=5.,\n",
        "                          concentration0_numerator=2.,\n",
        "                          concentration1_denominator=3.,\n",
        "                          concentration0_denominator=8.).sample(1_000, seed=(1, 23)),\n",
        "         bins='auto');"
      ],
      "execution_count": 2,
      "outputs": [
        {
          "output_type": "display_data",
          "data": {
            "image/png": "[encoded data removed]",
            "text/plain": [
              "<Figure size 432x288 with 1 Axes>"
            ]
          },
          "metadata": {
            "tags": [],
            "needs_background": "light"
          }
        }
      ]
    },
    {
      "cell_type": "markdown",
      "metadata": {
        "id": "DtR1AvKz9y-P"
      },
      "source": [
        "### `DeterminantalPointProcess`\n",
        "\n",
        "Distribution over subsets (represented as one-hot) of a given set. Samples follow a repulsivity property (probabilities are proportional to the volume spanned by vectors corresponding to the selected subset of points), which tends toward sampling diverse subsets. [Compare against i.i.d. Bernoulli samples.]"
      ]
    },
    {
      "cell_type": "code",
      "metadata": {
        "colab": {
          "base_uri": "https://localhost:8080/",
          "height": 460
        },
        "id": "QS5JxWys9ygT",
        "outputId": "69bd6dec-53a0-4441-93e6-a028cf3b5387"
      },
      "source": [
        "grid_size = 16\n",
        "# Generate grid_size**2 pts on the unit square.\n",
        "grid = np.arange(0, 1, 1./grid_size).astype(np.float32)\n",
        "import itertools\n",
        "points = np.array(list(itertools.product(grid, grid)))\n",
        "\n",
        "# Create the kernel L that parameterizes the DPP.\n",
        "kernel_amplitude = 2.\n",
        "kernel_lengthscale = [.1, .15, .2, .25]  # Increasing length scale indicates more points are \"nearby\", tending toward smaller subsets.\n",
        "kernel = tfpk.ExponentiatedQuadratic(kernel_amplitude, kernel_lengthscale)\n",
        "kernel_matrix = kernel.matrix(points, points)\n",
        "\n",
        "eigenvalues, eigenvectors = tf.linalg.eigh(kernel_matrix)\n",
        "dpp = tfd.DeterminantalPointProcess(eigenvalues, eigenvectors)\n",
        "print(dpp)\n",
        "\n",
        "# The inner-most dimension of the result of `dpp.sample` is a multi-hot\n",
        "# encoding of a subset of {1, ..., ground_set_size}.\n",
        "# We will compare against a bernoulli distribution.\n",
        "samps_dpp = dpp.sample(seed=(1, 2))  # 4 x grid_size**2\n",
        "logits = tf.broadcast_to([[-1.], [-1.5], [-2], [-2.5]], [4, grid_size**2])\n",
        "samps_bern = tfd.Bernoulli(logits=logits).sample(seed=(2, 3))\n",
        "\n",
        "plt.figure(figsize=(12, 6))\n",
        "for i, (samp, samp_bern) in enumerate(zip(samps_dpp, samps_bern)):\n",
        "  plt.subplot(241 + i)\n",
        "  plt.scatter(*points[np.where(samp)].T)\n",
        "  plt.title(f'DPP, length scale={kernel_lengthscale[i]}')\n",
        "  plt.xticks([])\n",
        "  plt.yticks([])\n",
        "  plt.gca().set_aspect(1.)\n",
        "  plt.subplot(241 + i + 4)\n",
        "  plt.scatter(*points[np.where(samp_bern)].T)\n",
        "  plt.title(f'bernoulli, logit={logits[i,0]}')\n",
        "  plt.xticks([])\n",
        "  plt.yticks([])\n",
        "  plt.gca().set_aspect(1.)\n",
        "\n",
        "plt.tight_layout()\n",
        "plt.show()"
      ],
      "execution_count": 3,
      "outputs": [
        {
          "output_type": "stream",
          "text": [
            "tfp.distributions.DeterminantalPointProcess(\"DeterminantalPointProcess\", batch_shape=[4], event_shape=[256], dtype=int32)\n"
          ],
          "name": "stdout"
        },
        {
          "output_type": "display_data",
          "data": {
            "image/png": "[encoded data removed]",
            "text/plain": [
              "<Figure size 864x432 with 8 Axes>"
            ]
          },
          "metadata": {
            "tags": []
          }
        }
      ]
    },
    {
      "cell_type": "markdown",
      "metadata": {
        "id": "qim-evPz8e72"
      },
      "source": [
        "### `SigmoidBeta`\n",
        "\n",
        "Log-odds of two gamma distributions. More numerically stable sample space than `Beta`."
      ]
    },
    {
      "cell_type": "code",
      "metadata": {
        "colab": {
          "base_uri": "https://localhost:8080/",
          "height": 316
        },
        "id": "eIpGyo7Glx9s",
        "outputId": "35c50543-c51a-4f2e-ffa4-fc06e129abcd"
      },
      "source": [
        "plt.hist(tfd.SigmoidBeta(concentration1=.01, concentration0=2.).sample(10_000, seed=(1, 23)),\n",
        "         bins='auto', density=True);\n",
        "plt.show()\n",
        "\n",
        "print('Old way, fractions non-finite:')\n",
        "print(np.sum(~tf.math.is_finite(\n",
        "    tfb.Invert(tfb.Sigmoid())(tfd.Beta(concentration1=.01, concentration0=2.)).sample(10_000, seed=(1, 23)))) / 10_000)\n",
        "print(np.sum(~tf.math.is_finite(\n",
        "    tfb.Invert(tfb.Sigmoid())(tfd.Beta(concentration1=2., concentration0=.01)).sample(10_000, seed=(2, 34)))) / 10_000)"
      ],
      "execution_count": 4,
      "outputs": [
        {
          "output_type": "display_data",
          "data": {
            "image/png": "[encoded data removed]",
            "text/plain": [
              "<Figure size 432x288 with 1 Axes>"
            ]
          },
          "metadata": {
            "tags": [],
            "needs_background": "light"
          }
        },
        {
          "output_type": "stream",
          "text": [
            "Old way, fractions non-finite:\n",
            "0.4215\n",
            "0.8624\n"
          ],
          "name": "stdout"
        }
      ]
    },
    {
      "cell_type": "markdown",
      "metadata": {
        "id": "hGGkU_8A8tOn"
      },
      "source": [
        "### Zipf\n",
        "Added JAX support."
      ]
    },
    {
      "cell_type": "code",
      "metadata": {
        "colab": {
          "base_uri": "https://localhost:8080/",
          "height": 265
        },
        "id": "l8bw9c49qPoY",
        "outputId": "900f74af-a3d8-4ed9-fe5c-e092ace9c4ed"
      },
      "source": [
        "plt.hist(tfd.Zipf(3.).sample(1_000, seed=(12, 34)).numpy(), bins='auto', density=True, log=True);"
      ],
      "execution_count": 5,
      "outputs": [
        {
          "output_type": "display_data",
          "data": {
            "image/png": "[encoded data removed]",
            "text/plain": [
              "<Figure size 432x288 with 1 Axes>"
            ]
          },
          "metadata": {
            "tags": [],
            "needs_background": "light"
          }
        }
      ]
    },
    {
      "cell_type": "markdown",
      "metadata": {
        "id": "vjl-c4g78FBl"
      },
      "source": [
        "### `NormalInverseGaussian`\n",
        "\n",
        "Flexible parametric family that supports heavy tails, skewed, and vanilla Normal."
      ]
    },
    {
      "cell_type": "markdown",
      "metadata": {
        "id": "nXPmCA0k8G00"
      },
      "source": [
        "### `MatrixNormalLinearOperator`\n",
        "Matrix Normal distribution."
      ]
    },
    {
      "cell_type": "code",
      "metadata": {
        "colab": {
          "base_uri": "https://localhost:8080/"
        },
        "id": "v8uMP5hcr2kx",
        "outputId": "872af0a9-a2e8-4d1a-a021-e6face74bfb7"
      },
      "source": [
        "# Initialize a single 2 x 3 Matrix Normal.\n",
        "mu = [[1., 2, 3], [3., 4, 5]]\n",
        "col_cov = [[ 0.36,  0.12,  0.06],\n",
        "           [ 0.12,  0.29, -0.13],\n",
        "           [ 0.06, -0.13,  0.26]]\n",
        "scale_column = tf.linalg.LinearOperatorLowerTriangular(tf.linalg.cholesky(col_cov))\n",
        "scale_row = tf.linalg.LinearOperatorDiag([0.9, 0.8])\n",
        "\n",
        "mvn = tfd.MatrixNormalLinearOperator(loc=mu, scale_row=scale_row, scale_column=scale_column)\n",
        "mvn.sample()"
      ],
      "execution_count": 6,
      "outputs": [
        {
          "output_type": "stream",
          "text": [
            "WARNING:tensorflow:From /usr/local/lib/python3.7/dist-packages/tensorflow/python/ops/linalg/linear_operator_kronecker.py:224: LinearOperator.graph_parents (from tensorflow.python.ops.linalg.linear_operator) is deprecated and will be removed in a future version.\n",
            "Instructions for updating:\n",
            "Do not call `graph_parents`.\n"
          ],
          "name": "stdout"
        },
        {
          "output_type": "execute_result",
          "data": {
            "text/plain": [
              "<tf.Tensor: shape=(2, 3), dtype=float32, numpy=\n",
              "array([[1.2495145, 1.549366 , 3.2748342],\n",
              "       [3.7330258, 4.3413105, 4.83423  ]], dtype=float32)>"
            ]
          },
          "metadata": {
            "tags": []
          },
          "execution_count": 6
        }
      ]
    },
    {
      "cell_type": "markdown",
      "metadata": {
        "id": "Idxrh0IC8SGs"
      },
      "source": [
        "### `MatrixStudentTLinearOperator`\n",
        "Matrix T distribution."
      ]
    },
    {
      "cell_type": "code",
      "metadata": {
        "colab": {
          "base_uri": "https://localhost:8080/"
        },
        "id": "lQkQ-bw0sLr3",
        "outputId": "2319a909-f760-4cdf-8bd8-731b9307b46e"
      },
      "source": [
        "mu = [[1., 2, 3], [3., 4, 5]]\n",
        "col_cov = [[ 0.36,  0.12,  0.06],\n",
        "           [ 0.12,  0.29, -0.13],\n",
        "           [ 0.06, -0.13,  0.26]]\n",
        "scale_column = tf.linalg.LinearOperatorLowerTriangular(tf.linalg.cholesky(col_cov))\n",
        "scale_row = tf.linalg.LinearOperatorDiag([0.9, 0.8])\n",
        "\n",
        "mvn = tfd.MatrixTLinearOperator(\n",
        "    df=2.,\n",
        "    loc=mu,\n",
        "    scale_row=scale_row,\n",
        "    scale_column=scale_column)\n",
        "mvn.sample()"
      ],
      "execution_count": 7,
      "outputs": [
        {
          "output_type": "execute_result",
          "data": {
            "text/plain": [
              "<tf.Tensor: shape=(2, 3), dtype=float32, numpy=\n",
              "array([[1.6549466, 2.6708362, 2.8629923],\n",
              "       [2.1222284, 3.6904747, 5.08014  ]], dtype=float32)>"
            ]
          },
          "metadata": {
            "tags": []
          },
          "execution_count": 7
        }
      ]
    },
    {
      "cell_type": "markdown",
      "metadata": {
        "id": "d-aAkORa77LE"
      },
      "source": [
        "## Distributions [software / wrappers]"
      ]
    },
    {
      "cell_type": "markdown",
      "metadata": {
        "id": "-IVGCYN6o5SX"
      },
      "source": [
        "### `Sharded`\n",
        "Shards independent event portions of a distribution across multiple processors. Aggregates `log_prob` across devices, handles gradients in concert with `tfp.experimental.distribute.JointDistribution*`. Much more in the [Distributed Inference](https://www.tensorflow.org/probability/examples/Distributed_Inference_with_JAX) notebook."
      ]
    },
    {
      "cell_type": "code",
      "metadata": {
        "colab": {
          "base_uri": "https://localhost:8080/"
        },
        "id": "GpW6oXQjpKJj",
        "outputId": "8e46eb4a-b9b1-4dd2-d7dd-df880e6cc560"
      },
      "source": [
        "strategy = tf.distribute.MirroredStrategy()\n",
        "\n",
        "@tf.function\n",
        "def sample_and_lp(seed):\n",
        "  d = tfp.experimental.distribute.Sharded(tfd.Normal(0, 1))\n",
        "  s = d.sample(seed=seed)\n",
        "  return s, d.log_prob(s)\n",
        "\n",
        "strategy.run(sample_and_lp, args=(tf.constant([12,34]),))"
      ],
      "execution_count": 8,
      "outputs": [
        {
          "output_type": "stream",
          "text": [
            "WARNING:tensorflow:There are non-GPU devices in `tf.distribute.Strategy`, not using nccl allreduce.\n",
            "WARNING:tensorflow:Collective ops is not configured at program startup. Some performance features may not be enabled.\n",
            "INFO:tensorflow:Using MirroredStrategy with devices ('/job:localhost/replica:0/task:0/device:CPU:0', '/job:localhost/replica:0/task:0/device:CPU:1')\n",
            "INFO:tensorflow:Reduce to /job:localhost/replica:0/task:0/device:CPU:0 then broadcast to ('/job:localhost/replica:0/task:0/device:CPU:0', '/job:localhost/replica:0/task:0/device:CPU:1').\n"
          ],
          "name": "stdout"
        },
        {
          "output_type": "execute_result",
          "data": {
            "text/plain": [
              "(PerReplica:{\n",
              "   0: <tf.Tensor: shape=(), dtype=float32, numpy=0.0051413667>,\n",
              "   1: <tf.Tensor: shape=(), dtype=float32, numpy=-0.3393052>\n",
              " }, PerReplica:{\n",
              "   0: <tf.Tensor: shape=(), dtype=float32, numpy=-1.8954543>,\n",
              "   1: <tf.Tensor: shape=(), dtype=float32, numpy=-1.8954543>\n",
              " })"
            ]
          },
          "metadata": {
            "tags": []
          },
          "execution_count": 8
        }
      ]
    },
    {
      "cell_type": "markdown",
      "metadata": {
        "id": "l3CaO7rPulgw"
      },
      "source": [
        "### `BatchBroadcast`\n",
        "\n",
        "Implicitly broadcast the batch dimensions of an underlying distribution _with_ or _to_ a given batch shape."
      ]
    },
    {
      "cell_type": "code",
      "metadata": {
        "colab": {
          "base_uri": "https://localhost:8080/"
        },
        "id": "yKtX4e6xuq63",
        "outputId": "d6d342cb-a10f-47b3-df60-bda9e505c319"
      },
      "source": [
        "underlying = tfd.MultivariateNormalDiag(tf.zeros([7, 1, 5]), tf.ones([5]))\n",
        "print('underlying:', underlying)\n",
        "\n",
        "d = tfd.BatchBroadcast(underlying, [8, 1, 6])\n",
        "print('broadcast [7, 1] *with* [8, 1, 6]:', d)\n",
        "\n",
        "try:\n",
        "  tfd.BatchBroadcast(underlying, to_shape=[8, 1, 6])\n",
        "except ValueError as e:\n",
        "  print('broadcast [7, 1] *to* [8, 1, 6] is invalid:', e)\n",
        "\n",
        "d = tfd.BatchBroadcast(underlying, to_shape=[8, 7, 6])\n",
        "print('broadcast [7, 1] *to* [8, 7, 6]:', d)"
      ],
      "execution_count": 9,
      "outputs": [
        {
          "output_type": "stream",
          "text": [
            "underlying: tfp.distributions.MultivariateNormalDiag(\"MultivariateNormalDiag\", batch_shape=[7, 1], event_shape=[5], dtype=float32)\n",
            "broadcast [7, 1] *with* [8, 1, 6]: tfp.distributions.BatchBroadcast(\"BatchBroadcastMultivariateNormalDiag\", batch_shape=[8, 7, 6], event_shape=[5], dtype=float32)\n",
            "broadcast [7, 1] *to* [8, 1, 6] is invalid: Argument `to_shape` ([8 1 6]) is incompatible with underlying distribution batch shape ((7, 1)).\n",
            "broadcast [7, 1] *to* [8, 7, 6]: tfp.distributions.BatchBroadcast(\"BatchBroadcastMultivariateNormalDiag\", batch_shape=[8, 7, 6], event_shape=[5], dtype=float32)\n"
          ],
          "name": "stdout"
        }
      ]
    },
    {
      "cell_type": "markdown",
      "metadata": {
        "id": "d8DyDFP5WK6B"
      },
      "source": [
        "### `Masked`\n",
        "\n",
        "For single-program/multiple-data or sparse-as-masked-dense use-cases, a distribution that masks out the `log_prob` of invalid underlying distributions."
      ]
    },
    {
      "cell_type": "code",
      "metadata": {
        "id": "4DQQ7VTwWbAa",
        "colab": {
          "base_uri": "https://localhost:8080/"
        },
        "outputId": "25c25c00-6e09-49df-b225-0474302d64e5"
      },
      "source": [
        "d = tfd.Masked(tfd.Normal(tf.zeros([7]), 1), \n",
        "               validity_mask=tf.sequence_mask([3, 4], 7))\n",
        "print(d.log_prob(d.sample(seed=(1, 1))))\n",
        "\n",
        "d = tfd.Masked(tfd.Normal(0, 1), \n",
        "               validity_mask=[False, True, False],\n",
        "               safe_sample_fn=tfd.Distribution.mode)\n",
        "print(d.log_prob(d.sample(seed=(2, 2))))"
      ],
      "execution_count": 10,
      "outputs": [
        {
          "output_type": "stream",
          "text": [
            "tf.Tensor(\n",
            "[[-2.3054113 -1.8524303 -1.2220721  0.         0.         0.\n",
            "   0.       ]\n",
            " [-1.118623  -1.1370811 -1.1574132 -5.884986   0.         0.\n",
            "   0.       ]], shape=(2, 7), dtype=float32)\n",
            "tf.Tensor([ 0.         -0.93683904  0.        ], shape=(3,), dtype=float32)\n"
          ],
          "name": "stdout"
        }
      ]
    },
    {
      "cell_type": "markdown",
      "metadata": {
        "id": "Y52jA6ypIQm1"
      },
      "source": [
        "## Bijectors\n",
        "- Bijectors\n",
        "  - Add bijectors to mimic `tf.nest.flatten` (`tfb.tree_flatten`) and `tf.nest.pack_sequence_as` (`tfb.pack_sequence_as`).\n",
        "  - Adds `tfp.experimental.bijectors.Sharded`\n",
        "  - Remove deprecated `tfb.ScaleTrilL`.  Use `tfb.FillScaleTriL` instead.\n",
        "  - Adds `cls.parameter_properties()` annotations for Bijectors.\n",
        "  - Extend range `tfb.Power` to all reals for odd integer powers.\n",
        "  - Infer the log-deg-jacobian of scalar bijectors using autodiff, if not otherwise specified.\n"
      ]
    },
    {
      "cell_type": "markdown",
      "metadata": {
        "id": "Gtls14gqtIpk"
      },
      "source": [
        "### Restructuring bijectors"
      ]
    },
    {
      "cell_type": "code",
      "metadata": {
        "colab": {
          "base_uri": "https://localhost:8080/"
        },
        "id": "GabDIiMAtPN2",
        "outputId": "d2b50afe-93b7-4bc2-ae9f-2a54e958c0fc"
      },
      "source": [
        "ex = (tf.constant(1.), dict(b=tf.constant(2.), c=tf.constant(3.)))\n",
        "b = tfb.tree_flatten(ex)\n",
        "print(b.forward(ex))\n",
        "print(b.inverse(list(tf.constant([1., 2, 3]))))\n",
        "\n",
        "b = tfb.pack_sequence_as(ex)\n",
        "print(b.forward(list(tf.constant([1., 2, 3]))))\n",
        "print(b.inverse(ex))"
      ],
      "execution_count": 11,
      "outputs": [
        {
          "output_type": "stream",
          "text": [
            "[<tf.Tensor: shape=(), dtype=float32, numpy=1.0>, <tf.Tensor: shape=(), dtype=float32, numpy=2.0>, <tf.Tensor: shape=(), dtype=float32, numpy=3.0>]\n",
            "(<tf.Tensor: shape=(), dtype=float32, numpy=1.0>, {'b': <tf.Tensor: shape=(), dtype=float32, numpy=2.0>, 'c': <tf.Tensor: shape=(), dtype=float32, numpy=3.0>})\n",
            "(<tf.Tensor: shape=(), dtype=float32, numpy=1.0>, {'b': <tf.Tensor: shape=(), dtype=float32, numpy=2.0>, 'c': <tf.Tensor: shape=(), dtype=float32, numpy=3.0>})\n",
            "[<tf.Tensor: shape=(), dtype=float32, numpy=1.0>, <tf.Tensor: shape=(), dtype=float32, numpy=2.0>, <tf.Tensor: shape=(), dtype=float32, numpy=3.0>]\n"
          ],
          "name": "stdout"
        }
      ]
    },
    {
      "cell_type": "markdown",
      "metadata": {
        "id": "ibpH6g2zsR6i"
      },
      "source": [
        "### `Sharded`\n",
        "SPMD reduction in log-determinant. See `Sharded` in Distributions, below."
      ]
    },
    {
      "cell_type": "code",
      "metadata": {
        "colab": {
          "base_uri": "https://localhost:8080/"
        },
        "id": "Ja65bfTQsXnD",
        "outputId": "af35389f-0074-46df-e243-ac8f15cf384f"
      },
      "source": [
        "strategy = tf.distribute.MirroredStrategy()\n",
        "\n",
        "def sample_lp_logdet(seed):\n",
        "  d = tfd.TransformedDistribution(tfp.experimental.distribute.Sharded(tfd.Normal(0, 1), shard_axis_name='i'),\n",
        "                                  tfp.experimental.bijectors.Sharded(tfb.Sigmoid(), shard_axis_name='i'))\n",
        "  s = d.sample(seed=seed)\n",
        "  return s, d.log_prob(s), d.bijector.inverse_log_det_jacobian(s)\n",
        "strategy.run(sample_lp_logdet, (tf.constant([1, 2]),))"
      ],
      "execution_count": 13,
      "outputs": [
        {
          "output_type": "stream",
          "text": [
            "WARNING:tensorflow:There are non-GPU devices in `tf.distribute.Strategy`, not using nccl allreduce.\n",
            "WARNING:tensorflow:Collective ops is not configured at program startup. Some performance features may not be enabled.\n",
            "INFO:tensorflow:Using MirroredStrategy with devices ('/job:localhost/replica:0/task:0/device:CPU:0', '/job:localhost/replica:0/task:0/device:CPU:1')\n",
            "WARNING:tensorflow:Using MirroredStrategy eagerly has significant overhead currently. We will be working on improving this in the future, but for now please wrap `call_for_each_replica` or `experimental_run` or `run` inside a tf.function to get the best performance.\n",
            "INFO:tensorflow:Reduce to /job:localhost/replica:0/task:0/device:CPU:0 then broadcast to ('/job:localhost/replica:0/task:0/device:CPU:0', '/job:localhost/replica:0/task:0/device:CPU:1').\n",
            "INFO:tensorflow:Reduce to /job:localhost/replica:0/task:0/device:CPU:0 then broadcast to ('/job:localhost/replica:0/task:0/device:CPU:0', '/job:localhost/replica:0/task:0/device:CPU:1').\n"
          ],
          "name": "stdout"
        },
        {
          "output_type": "execute_result",
          "data": {
            "text/plain": [
              "(PerReplica:{\n",
              "   0: <tf.Tensor: shape=(), dtype=float32, numpy=0.87746525>,\n",
              "   1: <tf.Tensor: shape=(), dtype=float32, numpy=0.24580425>\n",
              " }, PerReplica:{\n",
              "   0: <tf.Tensor: shape=(), dtype=float32, numpy=-0.48870325>,\n",
              "   1: <tf.Tensor: shape=(), dtype=float32, numpy=-0.48870325>\n",
              " }, PerReplica:{\n",
              "   0: <tf.Tensor: shape=(), dtype=float32, numpy=3.9154015>,\n",
              "   1: <tf.Tensor: shape=(), dtype=float32, numpy=3.9154015>\n",
              " })"
            ]
          },
          "metadata": {
            "tags": []
          },
          "execution_count": 13
        }
      ]
    },
    {
      "cell_type": "markdown",
      "metadata": {
        "id": "nXyY5bgLIyrf"
      },
      "source": [
        "## VI\n",
        "\n",
        "  - Adds `build_split_flow_surrogate_posterior` to `tfp.experimental.vi` to build structured VI surrogate posteriors from normalizing flows.\n",
        "  - Adds `build_affine_surrogate_posterior` to `tfp.experimental.vi` for construction of ADVI surrogate posteriors from an event shape.\n",
        "  - Adds `build_affine_surrogate_posterior_from_base_distribution` to `tfp.experimental.vi` to enable construction of ADVI surrogate posteriors with correlation structures induced by affine transformations.\n"
      ]
    },
    {
      "cell_type": "markdown",
      "metadata": {
        "id": "LQRLYKUSyZGf"
      },
      "source": [
        "### VI/MAP/MLE\n",
        "  - Added convenience method `tfp.experimental.util.make_trainable(cls)` to create trainable instances of distributions and bijectors."
      ]
    },
    {
      "cell_type": "code",
      "metadata": {
        "colab": {
          "base_uri": "https://localhost:8080/"
        },
        "id": "O-YaQ-SWwGr9",
        "outputId": "6b2d7a2d-1c0d-409a-d772-79888b63c0f0"
      },
      "source": [
        "d = tfp.experimental.util.make_trainable(tfd.Gamma)\n",
        "print(d.trainable_variables)\n",
        "print(d)"
      ],
      "execution_count": null,
      "outputs": [
        {
          "output_type": "stream",
          "text": [
            "(<tf.Variable 'Gamma_trainable_variables/concentration:0' shape=() dtype=float32, numpy=1.0296053>, <tf.Variable 'Gamma_trainable_variables/log_rate:0' shape=() dtype=float32, numpy=-0.3465951>)\n",
            "tfp.distributions.Gamma(\"Gamma\", batch_shape=[], event_shape=[], dtype=float32)\n"
          ],
          "name": "stdout"
        }
      ]
    },
    {
      "cell_type": "markdown",
      "metadata": {
        "id": "FUx2oXURd3nE"
      },
      "source": [
        "## MCMC\n",
        "\n",
        "  - MCMC diagnostics support arbitrary structures of states, not just lists.\n",
        "  - `remc_thermodynamic_integrals` added to `tfp.experimental.mcmc`\n",
        "  - Adds `tfp.experimental.mcmc.windowed_adaptive_hmc`\n",
        "  - Adds an experimental API for initializing a Markov chain from a near-zero uniform distribution in unconstrained space. `tfp.experimental.mcmc.init_near_unconstrained_zero`\n",
        "  - Adds an experimental utility for retrying Markov Chain initialization until an acceptable point is found. `tfp.experimental.mcmc.retry_init`\n",
        "  - Shuffling experimental streaming MCMC API to slot into tfp.mcmc with a minimum of disruption.\n",
        "  - Adds `ThinningKernel` to `experimental.mcmc`.\n",
        "  - Adds `experimental.mcmc.run_kernel` driver as a candidate streaming-based replacement to `mcmc.sample_chain`\n",
        "\n"
      ]
    },
    {
      "cell_type": "markdown",
      "metadata": {
        "id": "8euU8cFYIWwc"
      },
      "source": [
        "### `init_near_unconstrained_zero`, `retry_init`"
      ]
    },
    {
      "cell_type": "code",
      "metadata": {
        "colab": {
          "base_uri": "https://localhost:8080/"
        },
        "id": "F7y01nhcIJaB",
        "outputId": "f3d28317-e676-4680-9da0-85de3314892a"
      },
      "source": [
        "@tfd.JointDistributionCoroutine\n",
        "def model():\n",
        "  Root = tfd.JointDistributionCoroutine.Root\n",
        "  c0 = yield Root(tfd.Gamma(2, 2, name='c0'))\n",
        "  c1 = yield Root(tfd.Gamma(2, 2, name='c1'))\n",
        "  counts = yield tfd.Sample(tfd.BetaBinomial(23, c1, c0), 10, name='counts')\n",
        "jd = model.experimental_pin(counts=model.sample(seed=[20, 30]).counts)\n",
        "\n",
        "init_dist = tfp.experimental.mcmc.init_near_unconstrained_zero(jd)\n",
        "print(init_dist)\n",
        "\n",
        "tfp.experimental.mcmc.retry_init(init_dist.sample, jd.unnormalized_log_prob)"
      ],
      "execution_count": 73,
      "outputs": [
        {
          "output_type": "stream",
          "text": [
            "tfp.distributions.TransformedDistribution(\"default_joint_bijectorrestructureJointDistributionSequential\", batch_shape=StructTuple(\n",
            "  c0=[],\n",
            "  c1=[]\n",
            "), event_shape=StructTuple(\n",
            "  c0=[],\n",
            "  c1=[]\n",
            "), dtype=StructTuple(\n",
            "  c0=float32,\n",
            "  c1=float32\n",
            "))\n"
          ],
          "name": "stdout"
        },
        {
          "output_type": "execute_result",
          "data": {
            "text/plain": [
              "StructTuple(\n",
              "  c0=<tf.Tensor: shape=(), dtype=float32, numpy=1.7879653>,\n",
              "  c1=<tf.Tensor: shape=(), dtype=float32, numpy=0.34548905>\n",
              ")"
            ]
          },
          "metadata": {
            "tags": []
          },
          "execution_count": 73
        }
      ]
    },
    {
      "cell_type": "markdown",
      "metadata": {
        "id": "zETWMfIZ9Vp9"
      },
      "source": [
        "### Windowed adaptive HMC and NUTS samplers"
      ]
    },
    {
      "cell_type": "code",
      "metadata": {
        "colab": {
          "base_uri": "https://localhost:8080/",
          "height": 828
        },
        "id": "HWaHCIij-RQX",
        "outputId": "25e30220-7c42-4b0d-b09f-a4e82d2fbe05"
      },
      "source": [
        "fig, ax = plt.subplots(1, 2, figsize=(10, 4))\n",
        "for i, n_evidence in enumerate((10, 250)):\n",
        "  ax[i].set_title(f'n evidence = {n_evidence}')\n",
        "  ax[i].set_xlim(0, 2.5); ax[i].set_ylim(0, 3.5)\n",
        "  @tfd.JointDistributionCoroutine\n",
        "  def model():\n",
        "    Root = tfd.JointDistributionCoroutine.Root\n",
        "    c0 = yield Root(tfd.Gamma(2, 2, name='c0'))\n",
        "    c1 = yield Root(tfd.Gamma(2, 2, name='c1'))\n",
        "    counts = yield tfd.Sample(tfd.BetaBinomial(23, c1, c0), n_evidence, name='counts')\n",
        "  s = model.sample(seed=[20, 30])\n",
        "  print(s)\n",
        "  jd = model.experimental_pin(counts=s.counts)\n",
        "  states, trace = tf.function(tfp.experimental.mcmc.windowed_adaptive_hmc)(\n",
        "      100, jd, num_leapfrog_steps=5, seed=[100, 200])\n",
        "  ax[i].scatter(states.c0.numpy().reshape(-1), states.c1.numpy().reshape(-1), \n",
        "                marker='+', alpha=.1)\n",
        "  ax[i].scatter(s.c0, s.c1, marker='+', color='r')"
      ],
      "execution_count": 41,
      "outputs": [
        {
          "output_type": "stream",
          "text": [
            "StructTuple(\n",
            "  c0=<tf.Tensor: shape=(), dtype=float32, numpy=0.7161876>,\n",
            "  c1=<tf.Tensor: shape=(), dtype=float32, numpy=1.7696666>,\n",
            "  counts=<tf.Tensor: shape=(10,), dtype=float32, numpy=array([ 6., 10., 23.,  7.,  2., 20., 14., 16., 22., 17.], dtype=float32)>\n",
            ")\n",
            "WARNING:tensorflow:6 out of the last 6 calls to <function windowed_adaptive_hmc at 0x7fda42bed8c0> triggered tf.function retracing. Tracing is expensive and the excessive number of tracings could be due to (1) creating @tf.function repeatedly in a loop, (2) passing tensors with different shapes, (3) passing Python objects instead of tensors. For (1), please define your @tf.function outside of the loop. For (2), @tf.function has reduce_retracing=True option that relaxes argument shapes that can avoid unnecessary retracing. For (3), please refer to https://www.tensorflow.org/guide/function#controlling_retracing and https://www.tensorflow.org/api_docs/python/tf/function for  more details.\n",
            "StructTuple(\n",
            "  c0=<tf.Tensor: shape=(), dtype=float32, numpy=0.7161876>,\n",
            "  c1=<tf.Tensor: shape=(), dtype=float32, numpy=1.7696666>,\n",
            "  counts=<tf.Tensor: shape=(250,), dtype=float32, numpy=\n",
            "    array([ 6., 10., 23.,  7.,  2., 20., 14., 16., 22., 17., 22., 21.,  6.,\n",
            "           21., 12., 22., 23., 16., 18., 21., 16., 17., 17., 16., 21., 14.,\n",
            "           23., 15., 10., 19.,  8., 23., 23., 14.,  1., 23., 16., 22., 20.,\n",
            "           20., 22., 15., 16., 20., 20., 21., 23., 22., 21., 15., 18., 23.,\n",
            "           12., 16., 19., 23., 18.,  5., 22., 22., 22., 18., 12., 17., 17.,\n",
            "           16.,  8., 22., 20., 23.,  3., 12., 14., 18.,  7., 19., 19.,  9.,\n",
            "           10., 23., 14., 22., 22., 21., 13., 23., 14., 23., 10., 17., 23.,\n",
            "           17., 20., 16., 20., 19., 14.,  0., 17., 22., 12.,  2., 17., 15.,\n",
            "           14., 23., 19., 15., 23.,  2., 21., 23., 21.,  7., 21., 12., 23.,\n",
            "           17., 17.,  4., 22., 16., 14., 19., 19., 20.,  6., 16., 14., 18.,\n",
            "           21., 12., 21., 21., 22.,  2., 19., 11.,  6., 19.,  1., 23., 23.,\n",
            "           14.,  6., 23., 18.,  8., 20., 23., 13., 20., 18., 23., 17., 22.,\n",
            "           23., 20., 18., 22., 16., 23.,  9., 22., 21., 16., 20., 21., 16.,\n",
            "           23.,  7., 13., 23., 19.,  3., 13., 23., 23., 13., 19., 23., 20.,\n",
            "           18.,  8., 19., 14., 12.,  6.,  8., 23.,  3., 13., 21., 23., 22.,\n",
            "           23., 19., 22., 21., 15., 22., 21., 21., 23.,  9., 19., 20., 23.,\n",
            "           11., 23., 14., 23., 14., 21., 21., 10., 23.,  9., 13.,  1.,  8.,\n",
            "            8., 20., 21., 21., 21., 14., 16., 16.,  9., 23., 22., 11., 23.,\n",
            "           12., 18.,  1., 23.,  9.,  3., 21., 21., 23., 22., 18., 23., 16.,\n",
            "            3., 11., 16.], dtype=float32)>\n",
            ")\n"
          ],
          "name": "stdout"
        },
        {
          "output_type": "display_data",
          "data": {
            "image/png": "[encoded data removed]",
            "text/plain": [
              "<Figure size 720x288 with 2 Axes>"
            ]
          },
          "metadata": {
            "tags": [],
            "needs_background": "light"
          }
        }
      ]
    },
    {
      "cell_type": "markdown",
      "metadata": {
        "id": "UwebvDOFIpQ4"
      },
      "source": [
        "## Math, stats\n",
        "\n",
        "\n",
        "- Math/linalg\n",
        "  - Add `tfp.math.trapz` for trapezoidal integration.\n",
        "  - Add `tfp.math.log_bessel_kve`.\n",
        "  - Add `no_pivot_ldl` to `experimental.linalg`.\n",
        "  - Add `marginal_fn` argument to `GaussianProcess` (see `no_pivot_ldl`).\n",
        "  - Added `tfp.math.atan_difference(x, y)`\n",
        "  - Add `tfp.math.erfcx`, `tfp.math.logerfc` and `tfp.math.logerfcx`\n",
        "  - Add `tfp.math.dawsn` for Dawson's Integral.\n",
        "  - Add `tfp.math.igammaincinv`, `tfp.math.igammacinv`.\n",
        "  - Add `tfp.math.sqrt1pm1`.\n",
        "  - Add `LogitNormal.stddev_approx` and `LogitNormal.variance_approx`\n",
        "  - Add `tfp.math.owens_t` for the Owen's T function.\n",
        "  - Add `bracket_root` method to automatically initialize bounds for a root search.\n",
        "  - Add Chandrupatla's method for finding roots of scalar functions.\n",
        "\n",
        "- Stats\n",
        "  - `tfp.stats.windowed_mean` efficiently computes windowed means.\n",
        "  - `tfp.stats.windowed_variance` efficiently and accurately computes windowed variances.\n",
        "  - `tfp.stats.cumulative_variance` efficiently and accurately computes cumulative variances.\n",
        "  - `RunningCovariance` and friends can now be initialized from an example Tensor, not just from explicit shape and dtype.\n",
        "  - Cleaner API for `RunningCentralMoments`, `RunningMean`, `RunningPotentialScaleReduction`.\n"
      ]
    },
    {
      "cell_type": "markdown",
      "metadata": {
        "id": "f375DSTDA-DV"
      },
      "source": [
        "### Owen's T, Erfcx, Logerfc, Logerfcx, Dawson functions"
      ]
    },
    {
      "cell_type": "code",
      "metadata": {
        "id": "RH7qe5lpBI0M",
        "colab": {
          "base_uri": "https://localhost:8080/"
        },
        "outputId": "474e6455-a1d6-4b63-952d-d3085f5cf8f8"
      },
      "source": [
        "# Owen's T gives the probability that X > h, 0 < Y < a * X. Let's check that\n",
        "# with random sampling.\n",
        "h = np.array([1., 2.]).astype(np.float32)\n",
        "a = np.array([10., 11.5]).astype(np.float32)\n",
        "probs = tfp.math.owens_t(h, a)\n",
        "\n",
        "x = tfd.Normal(0., 1.).sample(int(1e5), seed=(6, 245)).numpy()\n",
        "y = tfd.Normal(0., 1.).sample(int(1e5), seed=(7, 245)).numpy()\n",
        "\n",
        "true_values = (\n",
        "    (x[..., np.newaxis] > h) &\n",
        "    (0. < y[..., np.newaxis]) &\n",
        "    (y[..., np.newaxis] < a * x[..., np.newaxis]))\n",
        "\n",
        "print('Calculated values: {}'.format(\n",
        "    np.count_nonzero(true_values, axis=0) / 1e5))\n",
        "\n",
        "print('Expected values: {}'.format(probs))"
      ],
      "execution_count": null,
      "outputs": [
        {
          "output_type": "stream",
          "text": [
            "Calculated values: [0.07896 0.01134]\n",
            "Expected values: [0.07932763 0.01137507]\n"
          ],
          "name": "stdout"
        }
      ]
    },
    {
      "cell_type": "code",
      "metadata": {
        "id": "VWZjRfnLG5sc",
        "colab": {
          "base_uri": "https://localhost:8080/",
          "height": 1000
        },
        "outputId": "7a2351f6-7f96-459e-e92b-ea9788807e4b"
      },
      "source": [
        "x = np.linspace(-3., 3., 100)\n",
        "plt.plot(x, tfp.math.erfcx(x))\n",
        "plt.ylabel('$erfcx(x)$')\n",
        "plt.show()\n",
        "\n",
        "plt.plot(x, tfp.math.logerfcx(x))\n",
        "plt.ylabel('$logerfcx(x)$')\n",
        "plt.show()\n",
        "\n",
        "plt.plot(x, tfp.math.logerfc(x))\n",
        "plt.ylabel('$logerfc(x)$')\n",
        "plt.show()\n",
        "\n",
        "plt.plot(x, tfp.math.dawsn(x))\n",
        "plt.ylabel('$dawsn(x)$')\n",
        "plt.show()"
      ],
      "execution_count": null,
      "outputs": [
        {
          "output_type": "display_data",
          "data": {
            "image/png": "[encoded data removed]",
            "text/plain": [
              "<Figure size 432x288 with 1 Axes>"
            ]
          },
          "metadata": {
            "tags": [],
            "needs_background": "light"
          }
        },
        {
          "output_type": "display_data",
          "data": {
            "image/png": "[encoded data removed]",
            "text/plain": [
              "<Figure size 432x288 with 1 Axes>"
            ]
          },
          "metadata": {
            "tags": [],
            "needs_background": "light"
          }
        },
        {
          "output_type": "display_data",
          "data": {
            "image/png": "[encoded data removed]",
            "text/plain": [
              "<Figure size 432x288 with 1 Axes>"
            ]
          },
          "metadata": {
            "tags": [],
            "needs_background": "light"
          }
        },
        {
          "output_type": "display_data",
          "data": {
            "image/png": "[encoded data removed]",
            "text/plain": [
              "<Figure size 432x288 with 1 Axes>"
            ]
          },
          "metadata": {
            "tags": [],
            "needs_background": "light"
          }
        }
      ]
    },
    {
      "cell_type": "markdown",
      "metadata": {
        "id": "TAo7wY-vIbeR"
      },
      "source": [
        "### igammainv /  igammacinv"
      ]
    },
    {
      "cell_type": "code",
      "metadata": {
        "id": "2Le6YC8JIkII",
        "colab": {
          "base_uri": "https://localhost:8080/"
        },
        "outputId": "ac8565b9-b377-4f55-e3a5-84c462289132"
      },
      "source": [
        "# Igammainv and Igammacinv are inverses to Igamma and Igammac\n",
        "\n",
        "x = np.linspace(1., 10., 10)\n",
        "y = tf.math.igamma(0.3, x)\n",
        "x_prime = tfp.math.igammainv(0.3, y)\n",
        "print('x: {}'.format(x))\n",
        "print('igammainv(igamma(a, x)):\\n {}'.format(x_prime))\n",
        "\n",
        "y = tf.math.igammac(0.3, x)\n",
        "x_prime = tfp.math.igammacinv(0.3, y)\n",
        "\n",
        "print('\\n')\n",
        "print('x: {}'.format(x))\n",
        "print('igammacinv(igammac(a, x)):\\n {}'.format(x_prime))"
      ],
      "execution_count": null,
      "outputs": [
        {
          "output_type": "stream",
          "text": [
            "x: [ 1.  2.  3.  4.  5.  6.  7.  8.  9. 10.]\n",
            "igammainv(igamma(a, x)):\n",
            " [1.        1.9999992 3.000003  4.0000024 5.0000257 5.999887  7.0002484\n",
            " 7.999243  8.99872   9.994673 ]\n",
            "\n",
            "\n",
            "x: [ 1.  2.  3.  4.  5.  6.  7.  8.  9. 10.]\n",
            "igammacinv(igammac(a, x)):\n",
            " [1.       2.       3.       4.       5.       6.       7.       8.000001\n",
            " 9.       9.999999]\n"
          ],
          "name": "stdout"
        }
      ]
    },
    {
      "cell_type": "markdown",
      "metadata": {
        "id": "WPNKYHVP9bs9"
      },
      "source": [
        "### log-kve"
      ]
    },
    {
      "cell_type": "code",
      "metadata": {
        "id": "OuQOhwJTHidN",
        "colab": {
          "base_uri": "https://localhost:8080/",
          "height": 298
        },
        "outputId": "4a6c52ef-1085-4b6d-ad39-82b7048318b5"
      },
      "source": [
        "x = np.linspace(0., 5., 100)\n",
        "for v in [0.5, 2., 3]:\n",
        "  plt.plot(x, tfp.math.log_bessel_kve(v, x).numpy())\n",
        "\n",
        "plt.title('Log(BesselKve(v, x)')"
      ],
      "execution_count": null,
      "outputs": [
        {
          "output_type": "execute_result",
          "data": {
            "text/plain": [
              "Text(0.5, 1.0, 'Log(BesselKve(v, x)')"
            ]
          },
          "metadata": {
            "tags": []
          },
          "execution_count": 26
        },
        {
          "output_type": "display_data",
          "data": {
            "image/png": "[encoded data removed]",
            "text/plain": [
              "<Figure size 432x288 with 1 Axes>"
            ]
          },
          "metadata": {
            "tags": [],
            "needs_background": "light"
          }
        }
      ]
    },
    {
      "cell_type": "markdown",
      "metadata": {
        "id": "y6UbD6n0jbgn"
      },
      "source": [
        "## Other\n",
        "\n",
        "\n",
        "- STS\n",
        "  - Speed up STS forecasting and decomposition using internal `tf.function` wrapping.\n",
        "  - Add option to speed up filtering in `LinearGaussianSSM` when only the final step's results are required.\n",
        "  - Variational Inference with joint distributions: [example notebook with the Radon model](https://www.tensorflow.org/probability/examples/Variational_Inference_and_Joint_Distributions).\n",
        "  - Add experimental support for transforming any distribution into a preconditioning bijector.\n",
        "\n",
        "- Adds `tfp.random.sanitize_seed`.\n",
        "- Adds `tfp.random.spherical_uniform`.\n",
        "\n"
      ]
    },
    {
      "cell_type": "code",
      "metadata": {
        "colab": {
          "base_uri": "https://localhost:8080/",
          "height": 265
        },
        "id": "bqEYFeZhG_yW",
        "outputId": "996eda02-ae31-4dc4-b0b4-086a1d5d1707"
      },
      "source": [
        "plt.figure(figsize=(4, 4))\n",
        "seed = tfp.random.sanitize_seed(123)\n",
        "seed1, seed2 = tfp.random.split_seed(seed)\n",
        "samps = tfp.random.spherical_uniform([30], dimension=2, seed=seed1)\n",
        "plt.scatter(*samps.numpy().T, marker='+')\n",
        "samps = tfp.random.spherical_uniform([30], dimension=2, seed=seed2)\n",
        "plt.scatter(*samps.numpy().T, marker='+');"
      ],
      "execution_count": 64,
      "outputs": [
        {
          "output_type": "display_data",
          "data": {
            "image/png": "[encoded data removed]",
            "text/plain": [
              "<Figure size 288x288 with 1 Axes>"
            ]
          },
          "metadata": {
            "tags": [],
            "needs_background": "light"
          }
        }
      ]
    },
    {
      "cell_type": "code",
      "metadata": {
        "id": "-oVNWDD0HHy_"
      },
      "source": [
        ""
      ],
      "execution_count": null,
      "outputs": []
    }
  ]
}