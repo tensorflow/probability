{
  "cells": [
    {
      "cell_type": "markdown",
      "metadata": {
        "colab_type": "text",
        "id": "73ztBH5yK_bS"
      },
      "source": [
        "# Multiple changepoint detection and Bayesian model selection\n"
      ]
    },
    {
      "cell_type": "code",
      "execution_count": 0,
      "metadata": {
        "colab": {},
        "colab_type": "code",
        "id": "n5om5yiB_zvF"
      },
      "outputs": [],
      "source": [
        "#@title Licensed under the Apache License, Version 2.0 (the \"License\"); { display-mode: \"form\" }\n",
        "# you may not use this file except in compliance with the License.\n",
        "# You may obtain a copy of the License at\n",
        "#\n",
        "# https://www.apache.org/licenses/LICENSE-2.0\n",
        "#\n",
        "# Unless required by applicable law or agreed to in writing, software\n",
        "# distributed under the License is distributed on an \"AS IS\" BASIS,\n",
        "# WITHOUT WARRANTIES OR CONDITIONS OF ANY KIND, either express or implied.\n",
        "# See the License for the specific language governing permissions and\n",
        "# limitations under the License."
      ]
    },
    {
      "cell_type": "markdown",
      "metadata": {
        "colab_type": "text",
        "id": "Qianaf6u_7G_"
      },
      "source": [
        "\u003ctable class=\"tfo-notebook-buttons\" align=\"left\"\u003e\n",
        "  \u003ctd\u003e\n",
        "    \u003ca target=\"_blank\" href=\"https://colab.research.google.com/github/tensorflow/probability/blob/master/tensorflow_probability/examples/jupyter_notebooks/Multiple_changepoint_detection_and_Bayesian_model_selection.ipynb\"\u003e\u003cimg src=\"https://www.tensorflow.org/images/colab_logo_32px.png\" /\u003eRun in Google Colab\u003c/a\u003e\n",
        "  \u003c/td\u003e\n",
        "  \u003ctd\u003e\n",
        "    \u003ca target=\"_blank\" href=\"https://github.com/tensorflow/probability/blob/master/tensorflow_probability/examples/jupyter_notebooks/Multiple_changepoint_detection_and_Bayesian_model_selection.ipynb\"\u003e\u003cimg src=\"https://www.tensorflow.org/images/GitHub-Mark-32px.png\" /\u003eView source on GitHub\u003c/a\u003e\n",
        "  \u003c/td\u003e\n",
        "\u003c/table\u003e"
      ]
    },
    {
      "cell_type": "markdown",
      "metadata": {
        "colab_type": "text",
        "id": "-o9zA5TO_-hx"
      },
      "source": [
        "## Imports"
      ]
    },
    {
      "cell_type": "code",
      "execution_count": 0,
      "metadata": {
        "colab": {},
        "colab_type": "code",
        "id": "No2QPkJ1_9z9"
      },
      "outputs": [],
      "source": [
        "import numpy as np\n",
        "import tensorflow as tf\n",
        "import tensorflow_probability as tfp\n",
        "from tensorflow_probability import distributions as tfd\n",
        "\n",
        "from matplotlib import pylab as plt\n",
        "%matplotlib inline\n",
        "import scipy.stats"
      ]
    },
    {
      "cell_type": "markdown",
      "metadata": {
        "colab_type": "text",
        "id": "UoIGcwDcLK8s"
      },
      "source": [
        "##  Task: changepoint detection with multiple changepoints"
      ]
    },
    {
      "cell_type": "markdown",
      "metadata": {
        "colab_type": "text",
        "id": "MkPCuGGp464l"
      },
      "source": [
        "Consider a changepoint detection task:  events happen at a rate that changes over time, driven by sudden shifts in the (unobserved) state of some system or process generating the data.\n",
        "\n",
        "For example, we might observe a series of counts like the following:"
      ]
    },
    {
      "cell_type": "code",
      "execution_count": 0,
      "metadata": {
        "colab": {
          "height": 296
        },
        "colab_type": "code",
        "executionInfo": {
          "elapsed": 581,
          "status": "ok",
          "timestamp": 1543643763961,
          "user": {
            "displayName": "",
            "photoUrl": "",
            "userId": ""
          },
          "user_tz": 480
        },
        "id": "kmk8w7-vuKSm",
        "outputId": "2aa8ac3f-84d2-43f2-d4cf-a4b87f20d966"
      },
      "outputs": [
        {
          "data": {
            "text/plain": [
              "[\u003cmatplotlib.lines.Line2D at 0x7fd0eab62f50\u003e]"
            ]
          },
          "execution_count": 14,
          "metadata": {
            "tags": []
          },
          "output_type": "execute_result"
        },
        {
          "data": {
            "image/png": "[encoded data removed]",
            "text/plain": [
              "\u003cmatplotlib.figure.Figure at 0x7fd0e998fe10\u003e"
            ]
          },
          "metadata": {
            "tags": []
          },
          "output_type": "display_data"
        }
      ],
      "source": [
        "true_rates = [40, 3, 20, 50]\n",
        "true_durations = [10, 20, 5, 35]\n",
        "\n",
        "observed_counts = np.concatenate([\n",
        "  scipy.stats.poisson(rate).rvs(num_steps)\n",
        "    for (rate, num_steps) in zip(true_rates, true_durations)\n",
        "]).astype(np.float32)\n",
        "\n",
        "plt.plot(observed_counts)"
      ]
    },
    {
      "cell_type": "markdown",
      "metadata": {
        "colab_type": "text",
        "id": "TWx9cuas0EcE"
      },
      "source": [
        "These could represent the number of failures in a datacenter, number of visitors to a webpage, number of packets on a network link, etc.\n",
        "\n",
        "Note it's not entirely apparent how many distinct system regimes there are just from looking at the data. Can you tell where each of the three switchpoints occurs?"
      ]
    },
    {
      "cell_type": "markdown",
      "metadata": {
        "colab_type": "text",
        "id": "09nB0iTzky85"
      },
      "source": [
        "## Known number of states\n",
        "\n",
        "We'll first consider the (perhaps unrealistic) case where the number of unobserved states is known a priori. Here, we'd assume we know there are four latent states.\n",
        "\n",
        "We model this problem as a switching (inhomogeneous) Poisson process: at each point in time, the number of events that occur is Poisson distributed, and the *rate* of events is determined by the unobserved system state $z_t$:\n",
        "\n",
        "$$x_t \\sim \\text{Poisson}(\\lambda_{z_t})$$\n",
        "\n",
        "The latent states are discrete: $z_t \\in \\{1, 2, 3, 4\\}$, so $\\lambda = [\\lambda_1, \\lambda_2, \\lambda_3, \\lambda_4]$ is a simple vector containing a Poisson rate for each state. To model the evolution of states over time, we'll define a simple transition model $p(z_t | z_{t-1})$: let's say that at each step we stay in the previous state with some probability $p$, and with probability $1-p$ we transition to a different state uniformly at random. The initial state is also chosen uniformly at random, so we have:\n",
        "\n",
        "$$\n",
        "\\begin{align*}\n",
        "z_1 \u0026\\sim \\text{Categorical}\\left(\\left\\{\\frac{1}{4}, \\frac{1}{4}, \\frac{1}{4}, \\frac{1}{4}\\right\\}\\right)\\\\\n",
        "z_t | z_{t-1} \u0026\\sim \\text{Categorical}\\left(\\left\\{\\begin{array}{cc}p \u0026 \\text{if } z_t = z_{t-1} \\\\ \\frac{1-p}{4-1} \u0026 \\text{otherwise}\\end{array}\\right\\}\\right)\n",
        "\\end{align*}$$\n",
        "\n",
        "These assumptions correspond to a [hidden Markov model](http://mlg.eng.cam.ac.uk/zoubin/papers/ijprai.pdf) with Poisson emissions. We can encode them in TFP using `tfd.HiddenMarkovModel`. First, we define the transition matrix and the uniform prior on the initial state:"
      ]
    },
    {
      "cell_type": "code",
      "execution_count": 0,
      "metadata": {
        "colab": {
          "height": 136
        },
        "colab_type": "code",
        "executionInfo": {
          "elapsed": 221,
          "status": "ok",
          "timestamp": 1543643764211,
          "user": {
            "displayName": "",
            "photoUrl": "",
            "userId": ""
          },
          "user_tz": 480
        },
        "id": "0qs_l4p4nygq",
        "outputId": "115e878b-0cd8-450f-d424-c03789498233"
      },
      "outputs": [
        {
          "name": "stdout",
          "output_type": "stream",
          "text": [
            "Initial state logits:\n",
            "[ 0.  0.  0.  0.]\n",
            "Transition matrix:\n",
            "[[ 0.94999999  0.01666667  0.01666667  0.01666667]\n",
            " [ 0.01666667  0.94999999  0.01666667  0.01666667]\n",
            " [ 0.01666667  0.01666667  0.94999999  0.01666667]\n",
            " [ 0.01666667  0.01666667  0.01666667  0.94999999]]\n"
          ]
        }
      ],
      "source": [
        "num_states = 4\n",
        "\n",
        "initial_state_logits = np.zeros([num_states], dtype=np.float32) # uniform distribution\n",
        "\n",
        "daily_change_prob = 0.05\n",
        "transition_probs = daily_change_prob / (num_states-1) * np.ones(\n",
        "    [num_states, num_states], dtype=np.float32)\n",
        "np.fill_diagonal(transition_probs,\n",
        "                 1-daily_change_prob)\n",
        "\n",
        "print(\"Initial state logits:\\n{}\".format(initial_state_logits))\n",
        "print(\"Transition matrix:\\n{}\".format(transition_probs))"
      ]
    },
    {
      "cell_type": "markdown",
      "metadata": {
        "colab_type": "text",
        "id": "vWshnDRepxaT"
      },
      "source": [
        "Next, we build a `tfd.HiddenMarkovModel` distribution, using a trainable variable to represent the rates associated with each system state. We parameterize the rates in log-space to ensure they are positive-valued."
      ]
    },
    {
      "cell_type": "code",
      "execution_count": 0,
      "metadata": {
        "colab": {},
        "colab_type": "code",
        "id": "bvEpqBxvoleY"
      },
      "outputs": [],
      "source": [
        "tf.reset_default_graph()\n",
        "\n",
        "# Define variable to represent the unknown log rates.\n",
        "trainable_rates = tf.exp(tf.get_variable(\n",
        "    'log_rates', initializer=(\n",
        "        np.log(np.mean(observed_counts)) + tf.random_normal([num_states]))))\n",
        "\n",
        "hmm = tfd.HiddenMarkovModel(\n",
        "  initial_distribution=tfd.Categorical(\n",
        "      logits=initial_state_logits),\n",
        "  transition_distribution=tfd.Categorical(probs=transition_probs),\n",
        "  observation_distribution=tfd.Poisson(trainable_rates),\n",
        "  num_steps=len(observed_counts))"
      ]
    },
    {
      "cell_type": "markdown",
      "metadata": {
        "colab_type": "text",
        "id": "4JA6D9EsqNTe"
      },
      "source": [
        "Finally, we define the model's total log density, including a weakly-informative LogNormal prior on the rates, and run an optimizer to compute the [maximum a posteriori](https://en.wikipedia.org/wiki/Maximum_a_posteriori_estimation) (MAP) fit to the observed count data."
      ]
    },
    {
      "cell_type": "code",
      "execution_count": 0,
      "metadata": {
        "colab": {},
        "colab_type": "code",
        "id": "6mirKxnNqJSu"
      },
      "outputs": [],
      "source": [
        "rate_prior = tfd.LogNormal(5, 5)\n",
        "total_log_prob = (\n",
        "    tf.reduce_sum(rate_prior.log_prob(trainable_rates)) +\n",
        "    hmm.log_prob(observed_counts))\n",
        "\n",
        "train_op = tf.train.AdamOptimizer(0.1).minimize(-total_log_prob)"
      ]
    },
    {
      "cell_type": "code",
      "execution_count": 0,
      "metadata": {
        "colab": {
          "height": 238
        },
        "colab_type": "code",
        "executionInfo": {
          "elapsed": 2243,
          "status": "ok",
          "timestamp": 1543643768052,
          "user": {
            "displayName": "",
            "photoUrl": "",
            "userId": ""
          },
          "user_tz": 480
        },
        "id": "gSjyTtkDrOHu",
        "outputId": "ac3f0d01-7362-4f1a-9d01-23da41292ce8"
      },
      "outputs": [
        {
          "name": "stdout",
          "output_type": "stream",
          "text": [
            "step 0: log prob -531.548522949 rates [ 34.28146362  33.39609146  23.77467155  52.43385696]\n",
            "step 20: log prob -256.470306396 rates [ 48.83695602  27.72482109   5.04360199  46.49458694]\n",
            "step 40: log prob -232.297744751 rates [ 48.91260529  17.41979027   2.83147216  41.95743942]\n",
            "step 60: log prob -231.924530029 rates [ 49.07848358  16.92751884   2.68086982  40.23476791]\n",
            "step 80: log prob -231.406188965 rates [ 49.08480072  18.099123     2.87654066  39.47866821]\n",
            "step 100: log prob -231.385375977 rates [ 49.04584503  18.16383362   2.97647762  39.24641418]\n",
            "step 120: log prob -231.381027222 rates [ 49.06874847  18.06420517   2.97097301  39.32009888]\n",
            "step 140: log prob -231.380187988 rates [ 49.06266403  18.02622032   2.95641661  39.35654449]\n",
            "step 160: log prob -231.380187988 rates [ 49.06277084  18.01802635   2.95617914  39.33675766]\n",
            "step 180: log prob -231.379974365 rates [ 49.06337738  18.01685715   2.95807815  39.34206772]\n",
            "step 200: log prob -231.380126953 rates [ 49.06301498  18.01676178   2.95801115  39.34083176]\n",
            "Inferred rates: [ 49.06301498  18.01676178   2.95801115  39.34083176]\n",
            "True rates: [40, 3, 20, 50]\n"
          ]
        }
      ],
      "source": [
        "with tf.Session() as sess:\n",
        "  sess.run(tf.global_variables_initializer())\n",
        "\n",
        "  for step in range(201):\n",
        "    _, loss_, rates_ = sess.run((train_op, total_log_prob, trainable_rates))\n",
        "\n",
        "    if step % 20 == 0:\n",
        "      print(\"step {}: log prob {} rates {}\".format(step, loss_, rates_))\n",
        "\n",
        "print(\"Inferred rates: {}\".format(rates_))\n",
        "print(\"True rates: {}\".format(true_rates))"
      ]
    },
    {
      "cell_type": "markdown",
      "metadata": {
        "colab_type": "text",
        "id": "9kGRv8gwrtP5"
      },
      "source": [
        "It worked! Note that the latent states in this model are identifiable only up to permutation, so the rates we recovered are in a different order, and there's a bit of noise, but generally they match pretty well."
      ]
    },
    {
      "cell_type": "markdown",
      "metadata": {
        "colab_type": "text",
        "id": "43AfcMTjvs7a"
      },
      "source": [
        "### Recovering the state trajectory\n",
        "\n",
        "Now that we've fit the model, we might want to reconstruct *which* state the model believes the system was in at each timestep.\n",
        "\n",
        "This is a *posterior inference* task: given the observed counts $x_{1:T}$ and model parameters (rates) $\\lambda$, we want to infer the sequence of discrete latent variables, following the posterior distribution $p(z_{1:T} | x_{1:T}, \\lambda)$. In a hidden Markov model, we can efficiently compute marginals and other properties of this distribution using standard message-passing algorithms such as the [forward-backward algorithm](https://en.wikipedia.org/wiki/Forward%E2%80%93backward_algorithm).\n",
        "\n",
        "**Coming soon:** support for posterior inference in `tfd.HiddenMarkovModel` is work in progress. We hope to expand this section soon!"
      ]
    },
    {
      "cell_type": "markdown",
      "metadata": {
        "colab_type": "text",
        "id": "7ytq0tN7tteU"
      },
      "source": [
        "## Unknown number of states\n",
        "\n",
        "In real problems, we may not know the 'true' number of states in the system we're modeling. This may not always be a concern: if you don't particularly care about the identities of the unknown states, you could just run a model with more states than you know the model will need, and learn (something like) a bunch of duplicate copies of the actual states. But let's assume you do care about inferring the 'true' number of latent states.\n",
        "\n",
        "We can view this as a case of [Bayesian model selection](http://alumni.media.mit.edu/~tpminka/statlearn/demo/): we have a set of candidate models, each with a different number of latent states, and we want to choose the one that is most likely to have generated the observed data. To do this, we compute the marginal likelihood of the data under each model (we could also add a prior on the models themselves, but that won't be necessary in this analysis; the [Bayesian Occam's razor](https://www.cs.princeton.edu/courses/archive/fall09/cos597A/papers/MacKay2003-Ch28.pdf) turns out to be sufficient to encode a preference towards simpler models).\n",
        "\n",
        "Unfortunately, the true marginal likelihood, which integrates over both the discrete states $z_{1:T}$ and the (vector of) rate parameters $\\lambda$, $$p(x_{1:T}) = \\int p(x_{1:T}, z_{1:T}, \\lambda) dz d\\lambda,$$ is not tractable for this model. For convenience, we'll approximate it using a so-called \"[empirical Bayes](https://www.cs.ubc.ca/~schmidtm/Courses/540-W16/L19.pdf)\" or \"type II maximum likelihood\" estimate: instead of fully integrating out the (unknown) rate parameters $\\lambda$ associated with each system state, we'll optimize over their values:\n",
        "\n",
        "$$\\tilde{p}(x_{1:T}) = \\max_\\lambda \\int p(x_{1:T}, z_{1:T}, \\lambda) dz$$\n",
        "\n",
        "This approximation may overfit, i.e., it will prefer more complex models than the true marginal likelihood would. We could consider more faithful approximations, e.g., optimizing a variational lower bound, or using a Monte Carlo estimator such as [annealed importance sampling](https://www.tensorflow.org/probability/api_docs/python/tfp/mcmc/sample_annealed_importance_chain); these are (sadly) beyond the scope of this notebook. (For more on Bayesian model selection and approximations, chapter 7 of the excellent [Machine Learning: a Probabilistic Perspective\n",
        "](https://www.cs.ubc.ca/~murphyk/MLbook/) is a good reference.)\n",
        "\n",
        "In principle, we could do this model comparison simply by rerunning the optimization above many times with different values of `num_states`, but that would be a lot of work. Here we'll show how to consider multiple models in parallel, using TFP's `batch_shape` mechanism for vectorization."
      ]
    },
    {
      "cell_type": "markdown",
      "metadata": {
        "colab_type": "text",
        "id": "dtClNe6fyZAD"
      },
      "source": [
        "**Transition matrix and initial state prior**: rather than building a single model description, now we'll build a *batch* of transition matrices and prior logits, one for each candidate model up to `max_num_states`. For easy batching we'll need to ensure that all computations have the same 'shape': this must correspond to the dimensions of the largest model we'll fit. To handle smaller models, we can  'embed' their descriptions in the topmost dimensions of the state space, effectively treating the remaining dimensions as dummy states that are never used."
      ]
    },
    {
      "cell_type": "code",
      "execution_count": 0,
      "metadata": {
        "colab": {
          "height": 442
        },
        "colab_type": "code",
        "executionInfo": {
          "elapsed": 259,
          "status": "ok",
          "timestamp": 1543643768350,
          "user": {
            "displayName": "",
            "photoUrl": "",
            "userId": ""
          },
          "user_tz": 480
        },
        "id": "vqyTuY5hrmdR",
        "outputId": "c7687565-d190-430c-8a29-23c51f7bcc5a"
      },
      "outputs": [
        {
          "name": "stdout",
          "output_type": "stream",
          "text": [
            "Shape of initial_state_logits: (10, 10)\n",
            "Shape of transition probs: (10, 10, 10)\n",
            "Example initial state logits for num_states==3:\n",
            "[   0.    0.    0. -100. -100. -100. -100. -100. -100. -100.]\n",
            "Example transition_probs for num_states==3:\n",
            "[[ 0.94999999  0.025       0.025       0.          0.          0.          0.\n",
            "   0.          0.          0.        ]\n",
            " [ 0.025       0.94999999  0.025       0.          0.          0.          0.\n",
            "   0.          0.          0.        ]\n",
            " [ 0.025       0.025       0.94999999  0.          0.          0.          0.\n",
            "   0.          0.          0.        ]\n",
            " [ 0.          0.          0.          1.          0.          0.          0.\n",
            "   0.          0.          0.        ]\n",
            " [ 0.          0.          0.          0.          1.          0.          0.\n",
            "   0.          0.          0.        ]\n",
            " [ 0.          0.          0.          0.          0.          1.          0.\n",
            "   0.          0.          0.        ]\n",
            " [ 0.          0.          0.          0.          0.          0.          1.\n",
            "   0.          0.          0.        ]\n",
            " [ 0.          0.          0.          0.          0.          0.          0.\n",
            "   1.          0.          0.        ]\n",
            " [ 0.          0.          0.          0.          0.          0.          0.\n",
            "   0.          1.          0.        ]\n",
            " [ 0.          0.          0.          0.          0.          0.          0.\n",
            "   0.          0.          1.        ]]\n"
          ]
        }
      ],
      "source": [
        "max_num_states = 10\n",
        "\n",
        "def build_latent_state(num_states, max_num_states, daily_change_prob=0.05):\n",
        "\n",
        "  # Give probability exp(-100) ~= 0 to states outside of the current model.\n",
        "  initial_state_logits = -100. * np.ones([max_num_states], dtype=np.float32)\n",
        "  initial_state_logits[:num_states] = 0.\n",
        "\n",
        "  # Build a transition matrix that transitions only within the current\n",
        "  # `num_states` states.\n",
        "  transition_probs = np.eye(max_num_states, dtype=np.float32)\n",
        "  if num_states \u003e 1:\n",
        "    transition_probs[:num_states, :num_states] = (\n",
        "        daily_change_prob / (num_states-1))\n",
        "    np.fill_diagonal(transition_probs[:num_states, :num_states],\n",
        "                     1-daily_change_prob)\n",
        "  return initial_state_logits, transition_probs\n",
        "\n",
        "# For each candidate model, build the initial state prior and transition matrix.\n",
        "batch_initial_state_logits = []\n",
        "batch_transition_probs = []\n",
        "for num_states in range(1, max_num_states+1):\n",
        "  initial_state_logits, transition_probs = build_latent_state(\n",
        "      num_states=num_states,\n",
        "      max_num_states=max_num_states)\n",
        "  batch_initial_state_logits.append(initial_state_logits)\n",
        "  batch_transition_probs.append(transition_probs)\n",
        "\n",
        "batch_initial_state_logits = np.array(batch_initial_state_logits)\n",
        "batch_transition_probs = np.array(batch_transition_probs)\n",
        "print(\"Shape of initial_state_logits: {}\".format(batch_initial_state_logits.shape))\n",
        "print(\"Shape of transition probs: {}\".format(batch_transition_probs.shape))\n",
        "print(\"Example initial state logits for num_states==3:\\n{}\".format(batch_initial_state_logits[2, :]))\n",
        "print(\"Example transition_probs for num_states==3:\\n{}\".format(batch_transition_probs[2, :, :]))"
      ]
    },
    {
      "cell_type": "markdown",
      "metadata": {
        "colab_type": "text",
        "id": "k9NMBMBq2UQw"
      },
      "source": [
        "Now we proceed similarly as above. This time we'll use an extra batch dimension in `trainable_rates` to separately fit the rates for each model under consideration."
      ]
    },
    {
      "cell_type": "code",
      "execution_count": 0,
      "metadata": {
        "colab": {},
        "colab_type": "code",
        "id": "Ok-3Nzt1suyw"
      },
      "outputs": [],
      "source": [
        "tf.reset_default_graph()\n",
        "\n",
        "trainable_rates = tf.exp(tf.get_variable(\n",
        "    'log_rates',\n",
        "    initializer=(\n",
        "        np.log(np.mean(observed_counts)) *\n",
        "        np.ones([batch_initial_state_logits.shape[0], max_num_states]) +\n",
        "        tf.random_normal([1, max_num_states]))))\n",
        "\n",
        "hmm = tfd.HiddenMarkovModel(\n",
        "  initial_distribution=tfd.Categorical(\n",
        "      logits=batch_initial_state_logits),\n",
        "  transition_distribution=tfd.Categorical(probs=batch_transition_probs),\n",
        "  observation_distribution=tfd.Poisson(trainable_rates),\n",
        "  num_steps=len(observed_counts))"
      ]
    },
    {
      "cell_type": "markdown",
      "metadata": {
        "colab_type": "text",
        "id": "eC5vFBX12PvA"
      },
      "source": [
        "In computing the total log prob, we are careful to sum over only the priors for the rates actually used by each model component:\n"
      ]
    },
    {
      "cell_type": "code",
      "execution_count": 0,
      "metadata": {
        "colab": {},
        "colab_type": "code",
        "id": "ly0mT_mqdubx"
      },
      "outputs": [],
      "source": [
        "rate_prior = tfd.LogNormal(5, 5)\n",
        "\n",
        "prior_lps = rate_prior.log_prob(trainable_rates)\n",
        "prior_lp = tf.stack([\n",
        "    tf.reduce_sum(prior_lps[i, :i+1])\n",
        "    for i in range(max_num_states)])"
      ]
    },
    {
      "cell_type": "code",
      "execution_count": 0,
      "metadata": {
        "colab": {},
        "colab_type": "code",
        "id": "PR5zL24UDkPW"
      },
      "outputs": [],
      "source": [
        "total_log_prob = (\n",
        "    prior_lp +\n",
        "    hmm.log_prob(observed_counts))\n",
        "\n",
        "train_op = tf.train.AdamOptimizer(0.1).minimize(-total_log_prob)"
      ]
    },
    {
      "cell_type": "markdown",
      "metadata": {
        "colab_type": "text",
        "id": "yPqvJ9TS5F98"
      },
      "source": [
        "Now we optimize the *batch* objective we've constructed, fitting all candidate models simultaneously:"
      ]
    },
    {
      "cell_type": "code",
      "execution_count": 0,
      "metadata": {
        "colab": {
          "height": 391
        },
        "colab_type": "code",
        "executionInfo": {
          "elapsed": 4922,
          "status": "ok",
          "timestamp": 1543643802331,
          "user": {
            "displayName": "",
            "photoUrl": "",
            "userId": ""
          },
          "user_tz": 480
        },
        "id": "hAb22rYe1K_O",
        "outputId": "0f60e535-0b30-4196-d4b5-e16cb02189e7"
      },
      "outputs": [
        {
          "name": "stdout",
          "output_type": "stream",
          "text": [
            "step 0: log probs [-899.05822754 -906.55596924 -817.51141357 -502.76776123 -251.90937805\n",
            " -258.59777832 -266.28643799 -271.79107666 -279.58920288 -283.63830566]\n",
            "step 20: log probs [-801.73425293 -321.13766479 -270.3046875  -264.35940552 -239.30255127\n",
            " -245.42329407 -251.56515503 -256.03234863 -261.42422485 -266.49874878]\n",
            "step 40: log probs [-798.96063232 -268.44519043 -233.29101562 -235.31030273 -237.91181946\n",
            " -243.64125061 -249.94987488 -253.97467041 -260.19268799 -265.63415527]\n",
            "step 60: log probs [-798.52374268 -268.05953979 -232.03849792 -232.02194214 -237.82244873\n",
            " -243.34812927 -249.53355408 -253.57041931 -259.61175537 -265.49990845]\n",
            "step 80: log probs [-798.29345703 -268.04885864 -232.0375061  -231.45372009 -237.79667664\n",
            " -242.77502441 -248.98866272 -252.73313904 -258.86920166 -265.48913574]\n",
            "step 100: log probs [-798.29345703 -267.93331909 -232.00497437 -231.38433838 -237.79568481\n",
            " -241.92132568 -248.14324951 -252.52075195 -258.58618164 -265.48760986]\n",
            "step 120: log probs [-798.29003906 -267.88543701 -231.99554443 -231.38174438 -237.79556274\n",
            " -241.80857849 -248.01449585 -252.40689087 -258.46948242 -265.48773193]\n",
            "step 140: log probs [-798.28955078 -267.87808228 -231.99484253 -231.37988281 -237.79541016\n",
            " -241.78787231 -247.99429321 -252.40643311 -258.4647522  -265.48764038]\n",
            "step 160: log probs [-798.28942871 -267.87796021 -231.99449158 -231.38011169 -237.79547119\n",
            " -241.78683472 -247.99351501 -252.40466309 -258.46325684 -265.48764038]\n",
            "step 180: log probs [-798.28936768 -267.87802124 -231.99456787 -231.37997437 -237.79545593\n",
            " -241.78694153 -247.99349976 -252.40455627 -258.46331787 -265.4876709 ]\n",
            "step 200: log probs [-798.28918457 -267.87805176 -231.99447632 -231.37985229 -237.79550171\n",
            " -241.78692627 -247.99353027 -252.40457153 -258.47277832 -265.48754883]\n"
          ]
        }
      ],
      "source": [
        "with tf.Session() as sess:\n",
        "  sess.run(tf.global_variables_initializer())\n",
        "\n",
        "  for step in range(201):\n",
        "    _, total_log_prob_ = sess.run((train_op, total_log_prob))\n",
        "\n",
        "    total_log_prob_ = sess.run((total_log_prob))\n",
        "    if step % 20 == 0:\n",
        "      print(\"step {}: log probs {}\".format(step, total_log_prob_))\n",
        "\n",
        "  learned_rates_ = sess.run(trainable_rates)"
      ]
    },
    {
      "cell_type": "code",
      "execution_count": 0,
      "metadata": {
        "colab": {
          "height": 324
        },
        "colab_type": "code",
        "executionInfo": {
          "elapsed": 575,
          "status": "ok",
          "timestamp": 1543643802934,
          "user": {
            "displayName": "",
            "photoUrl": "",
            "userId": ""
          },
          "user_tz": 480
        },
        "id": "_Jsthql_IxhW",
        "outputId": "dd6dff13-ecbe-4bbb-fc54-0e8be69f4e5f"
      },
      "outputs": [
        {
          "data": {
            "text/plain": [
              "\u003cmatplotlib.text.Text at 0x7fd0e9f44550\u003e"
            ]
          },
          "execution_count": 30,
          "metadata": {
            "tags": []
          },
          "output_type": "execute_result"
        },
        {
          "data": {
            "image/png": "[encoded data removed]",
            "text/plain": [
              "\u003cmatplotlib.figure.Figure at 0x7fd0e8117290\u003e"
            ]
          },
          "metadata": {
            "tags": []
          },
          "output_type": "display_data"
        }
      ],
      "source": [
        "num_states = np.arange(1, max_num_states+1)\n",
        "plt.plot(num_states, total_log_prob_)\n",
        "plt.ylim([-400, -200])\n",
        "plt.ylabel(\"marginal likelihood $\\\\tilde{p}(x)$\")\n",
        "plt.xlabel(\"number of latent states\")\n",
        "plt.title(\"Model selection on latent states\")"
      ]
    },
    {
      "cell_type": "markdown",
      "metadata": {
        "colab_type": "text",
        "id": "Kq7SKiR-6c1l"
      },
      "source": [
        "Examining the likelihoods, we see that the (approximate) marginal likelihood prefers a three- or four-state model (the specific ordering may vary between runs of this notebook). This seems quite plausible -- the 'true' model had four states, but from just looking at the data it's hard to rule out a three-state explanation.\n"
      ]
    },
    {
      "cell_type": "markdown",
      "metadata": {
        "colab_type": "text",
        "id": "u0tqU6Lo6pFD"
      },
      "source": [
        "We can also extract the rates fit for each candidate model:"
      ]
    },
    {
      "cell_type": "code",
      "execution_count": 0,
      "metadata": {
        "colab": {
          "height": 272
        },
        "colab_type": "code",
        "executionInfo": {
          "elapsed": 276,
          "status": "ok",
          "timestamp": 1543643803238,
          "user": {
            "displayName": "",
            "photoUrl": "",
            "userId": ""
          },
          "user_tz": 480
        },
        "id": "g3RiZCjzuL8o",
        "outputId": "921cd0ee-7b00-47f3-c3f7-2150a9ee2b8b"
      },
      "outputs": [
        {
          "name": "stdout",
          "output_type": "stream",
          "text": [
            "rates for 1-state model: [ 32.28687668]\n",
            "rates for 2-state model: [  4.42810249  45.73866272]\n",
            "rates for 3-state model: [ 18.0173893   46.86778259   2.95784855]\n",
            "rates for 4-state model: [ 18.01735115  39.34053802  49.0630722    2.95801497]\n",
            "rates for 5-state model: [ 39.29985428  49.01822281  49.01839828  18.01650047   2.95783567]\n",
            "rates for 6-state model: [ 39.28063965  49.01509094  49.01533508   2.91552424   2.91553688\n",
            "  18.01659012]\n",
            "rates for 7-state model: [ 39.2408371   49.03346252  49.03365326   2.91554856   2.91553354\n",
            "  18.01661301  39.24029541]\n",
            "rates for 8-state model: [ 39.25536346  48.97928619  48.97933197   2.87192702   2.87377501\n",
            "  18.01662445  48.97929764   2.87365103]\n",
            "rates for 9-state model: [ 39.20381927  49.28605652  48.99845123   2.87227631   2.87389278\n",
            "  18.01664162  49.02532959   2.87364078  39.20324707]\n",
            "rates for 10-state model: [ 39.19308853  48.99163055  48.99180603  17.65075874   2.91572142\n",
            "  17.65078926  48.99168777   2.91570425  39.19294739  17.65077209]\n"
          ]
        }
      ],
      "source": [
        "for i, learned_model_rates_ in enumerate(learned_rates_):\n",
        "  print(\"rates for {}-state model: {}\".format(i+1, learned_model_rates_[:i+1]))"
      ]
    },
    {
      "cell_type": "markdown",
      "metadata": {
        "colab_type": "text",
        "id": "fY5E0BaPI7lz"
      },
      "source": [
        "### Extensions\n",
        "\n",
        "The models in this notebook could be straightforwardly extended in many ways. For example:\n",
        "\n",
        "- allowing latent states to have different probabilities (some states may be common vs rare)\n",
        "- allowing nonuniform transitions between latent states (e.g., to learn that a machine crash is usually followed by a system reboot is usually followed by a period of good performance, etc.)\n",
        "- other emission models, e.g. `NegativeBinomial` to model varying dispersions in count data, or continous distributions such as `Normal` for real-valued data.\n"
      ]
    }
  ],
  "metadata": {
    "colab": {
      "collapsed_sections": [
        "-o9zA5TO_-hx"
      ],
      "name": "Multiple changepoint detection and Bayesian model selection",
      "provenance": [
        {
          "file_id": "1Wa4oGxkHrb7toU-pdFhMJi2PAYmvVFBT",
          "timestamp": 1543641172993
        }
      ],
      "version": "0.3.2"
    },
    "kernelspec": {
      "display_name": "Python 2",
      "name": "python2"
    }
  },
  "nbformat": 4,
  "nbformat_minor": 0
}
