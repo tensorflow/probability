{
  "nbformat": 4,
  "nbformat_minor": 0,
  "metadata": {
    "colab": {
      "name": "Probabilistic_PCA.ipynb",
      "version": "0.3.2",
      "provenance": [],
      "collapsed_sections": [],
      "toc_visible": true
    },
    "kernelspec": {
      "name": "python3",
      "display_name": "Python 3"
    }
  },
  "cells": [
    {
      "metadata": {
        "id": "P20Z1RhWhPzX",
        "colab_type": "text"
      },
      "cell_type": "markdown",
      "source": [
        "##### Copyright 2018 The TensorFlow Authors.\n",
        "\n",
        "Licensed under the Apache License, Version 2.0 (the \"License\");"
      ]
    },
    {
      "metadata": {
        "id": "qS8MroChhSxR",
        "colab_type": "code",
        "colab": {}
      },
      "cell_type": "code",
      "source": [
        "#@title Licensed under the Apache License, Version 2.0 (the \"License\"); { display-mode: \"form\" }\n",
        "# you may not use this file except in compliance with the License.\n",
        "# You may obtain a copy of the License at\n",
        "#\n",
        "# https://www.apache.org/licenses/LICENSE-2.0\n",
        "#\n",
        "# Unless required by applicable law or agreed to in writing, software\n",
        "# distributed under the License is distributed on an \"AS IS\" BASIS,\n",
        "# WITHOUT WARRANTIES OR CONDITIONS OF ANY KIND, either express or implied.\n",
        "# See the License for the specific language governing permissions and\n",
        "# limitations under the License."
      ],
      "execution_count": 0,
      "outputs": []
    },
    {
      "metadata": {
        "id": "0ufLLTrrPIhi",
        "colab_type": "text"
      },
      "cell_type": "markdown",
      "source": [
        "# Probabilistic PCA\n",
        "\n",
        "<table class=\"tfo-notebook-buttons\" align=\"left\">\n",
        "  <td>\n",
        "    <a target=\"_blank\" href=\"https://colab.research.google.com/github/tensorflow/probability/blob/master/tensorflow_probability/examples/jupyter_notebooks/Probabilistic_PCA.ipynb\"><img src=\"https://www.tensorflow.org/images/colab_logo_32px.png\" />Run in Google Colab</a>\n",
        "  </td>\n",
        "  <td>\n",
        "    <a target=\"_blank\" href=\"https://github.com/tensorflow/probability/blob/master/tensorflow_probability/examples/jupyter_notebooks/Probabilistic_PCA.ipynb\"><img src=\"https://www.tensorflow.org/images/GitHub-Mark-32px.png\" />View source on GitHub</a>\n",
        "  </td>\n",
        "</table>\n"
      ]
    },
    {
      "metadata": {
        "id": "Py-bl6M32ZXY",
        "colab_type": "text"
      },
      "cell_type": "markdown",
      "source": [
        "Probabilistic principal components analysis (PCA) is a\n",
        "dimensionality reduction technique that\n",
        "analyzes data via a lower dimensional latent space\n",
        "([Tipping and Bishop 1999](#1)). It is often\n",
        "used when there are missing values in the data or for multidimensional\n",
        "scaling."
      ]
    },
    {
      "metadata": {
        "id": "WHNNrlLNPbpA",
        "colab_type": "text"
      },
      "cell_type": "markdown",
      "source": [
        "## Imports"
      ]
    },
    {
      "metadata": {
        "id": "mbM5dCFdUior",
        "colab_type": "code",
        "colab": {}
      },
      "cell_type": "code",
      "source": [
        "import matplotlib.pyplot as plt\n",
        "import numpy as np\n",
        "import seaborn as sns\n",
        "\n",
        "import tensorflow as tf\n",
        "import tensorflow_probability as tfp\n",
        "from tensorflow_probability import edward2 as ed\n",
        "import warnings\n",
        "\n",
        "plt.style.use(\"ggplot\")\n",
        "warnings.filterwarnings('ignore')"
      ],
      "execution_count": 0,
      "outputs": []
    },
    {
      "metadata": {
        "id": "QjIXsU55eq-d",
        "colab_type": "text"
      },
      "cell_type": "markdown",
      "source": [
        "## The Model\n",
        "\n",
        "Consider a data set $\\mathbf{X} = \\{\\mathbf{x}_n\\}$ of $N$ data\n",
        "points, where each data point is $D$-dimensional, $\\mathbf{x}_n \\in\n",
        "\\mathbb{R}^D$. We aim to represent each $\\mathbf{x}_n$ under a latent\n",
        "variable $\\mathbf{z}_n \\in \\mathbb{R}^K$ with lower dimension, $K <\n",
        "D$. The set of principal axes $\\mathbf{W}$ relates the latent variables to\n",
        "the data.\n",
        "\n",
        "Specifically, we assume that each latent variable is normally distributed,\n",
        "\n",
        "\\begin{equation*}\n",
        "\\mathbf{z}_n \\sim N(\\mathbf{0}, \\mathbf{I}).\n",
        "\\end{equation*}\n",
        "\n",
        "The corresponding data point is generated via a projection,\n",
        "\n",
        "\\begin{equation*}\n",
        "\\mathbf{x}_n \\mid \\mathbf{z}_n\n",
        "\\sim N(\\mathbf{W}\\mathbf{z}_n, \\sigma^2\\mathbf{I}),\n",
        "\\end{equation*}\n",
        "\n",
        "where the matrix $\\mathbf{W}\\in\\mathbb{R}^{D\\times K}$ are known as\n",
        "the principal axes. In probabilistic PCA, we are typically interested in\n",
        "estimating the principal axes $\\mathbf{W}$ and the noise term\n",
        "$\\sigma^2$.\n",
        "\n",
        "Probabilistic PCA generalizes classical PCA. Marginalizing out the the\n",
        "latent variable, the distribution of each data point is\n",
        "\n",
        "\\begin{equation*}\n",
        "\\mathbf{x}_n \\sim N(\\mathbf{0}, \\mathbf{W}\\mathbf{W}^\\top + \\sigma^2\\mathbf{I}).\n",
        "\\end{equation*}\n",
        "\n",
        "Classical PCA is the specific case of probabilistic PCA when the\n",
        "covariance of the noise becomes infinitesimally small, $\\sigma^2 \\to 0$.\n",
        "\n",
        "We set up our model below. In our analysis, we assume $\\sigma$ is known, and\n",
        "instead of point estimating $\\mathbf{W}$ as a model parameter, we\n",
        "place a prior over it in order to infer a distribution over principal\n",
        "axes."
      ]
    },
    {
      "metadata": {
        "id": "Gwc6maZifKnb",
        "colab_type": "code",
        "colab": {}
      },
      "cell_type": "code",
      "source": [
        "def probabilistic_pca(data_dim, latent_dim, num_datapoints, stddv_datapoints): # (unmodeled) data\n",
        "  w = ed.Normal(loc=tf.zeros([data_dim, latent_dim]),\n",
        "                scale=2.0 * tf.ones([data_dim, latent_dim]),\n",
        "                name=\"w\")  # parameter\n",
        "  z = ed.Normal(loc=tf.zeros([latent_dim, num_datapoints]),\n",
        "                scale=tf.ones([latent_dim, num_datapoints]), \n",
        "                name=\"z\")  # parameter\n",
        "  x = ed.Normal(loc=tf.matmul(w, z),\n",
        "                scale=stddv_datapoints * tf.ones([data_dim, num_datapoints]),\n",
        "                name=\"x\")  # (modeled) data\n",
        "  return x, (w, z)\n",
        "\n",
        "log_joint = ed.make_log_joint_fn(probabilistic_pca)"
      ],
      "execution_count": 0,
      "outputs": []
    },
    {
      "metadata": {
        "id": "x2zF-wrTVSK4",
        "colab_type": "text"
      },
      "cell_type": "markdown",
      "source": [
        "## The Data"
      ]
    },
    {
      "metadata": {
        "id": "n4HYhXlTVZ1_",
        "colab_type": "text"
      },
      "cell_type": "markdown",
      "source": [
        "We can use the Edward2 model to generate data."
      ]
    },
    {
      "metadata": {
        "id": "b23iIkX8VVyn",
        "colab_type": "code",
        "colab": {
          "base_uri": "https://localhost:8080/",
          "height": 68
        },
        "outputId": "86fc2c3d-61f8-4625-e272-5d3c9b836aeb"
      },
      "cell_type": "code",
      "source": [
        "num_datapoints = 5000\n",
        "data_dim = 2\n",
        "latent_dim = 1\n",
        "stddv_datapoints = 0.5\n",
        "\n",
        "model = probabilistic_pca(data_dim=data_dim,\n",
        "                          latent_dim=latent_dim,\n",
        "                          num_datapoints=num_datapoints,\n",
        "                          stddv_datapoints=stddv_datapoints)\n",
        "\n",
        "with tf.Session() as sess:\n",
        "  x_train, (actual_w, actual_z) = sess.run(model)\n",
        "\n",
        "print(\"Principal axes:\")\n",
        "print(actual_w)"
      ],
      "execution_count": 5,
      "outputs": [
        {
          "output_type": "stream",
          "text": [
            "Principal axes:\n",
            "[[-0.10648464]\n",
            " [ 1.3358579 ]]\n"
          ],
          "name": "stdout"
        }
      ]
    },
    {
      "metadata": {
        "id": "O2ZdIFz7VuSO",
        "colab_type": "text"
      },
      "cell_type": "markdown",
      "source": [
        "We visualize the dataset."
      ]
    },
    {
      "metadata": {
        "id": "ubJJvk0KVyVW",
        "colab_type": "code",
        "colab": {
          "base_uri": "https://localhost:8080/",
          "height": 364
        },
        "outputId": "5f6effe3-f36d-474d-eb08-49f061c8b012"
      },
      "cell_type": "code",
      "source": [
        "plt.scatter(x_train[0, :], x_train[1, :], color='blue', alpha=0.1)\n",
        "plt.axis([-20, 20, -20, 20])\n",
        "plt.title(\"Data set\")\n",
        "plt.show()"
      ],
      "execution_count": 6,
      "outputs": [
        {
          "output_type": "display_data",
          "data": {
            "image/png": "[encoded data removed]",
            "text/plain": [
              "<matplotlib.figure.Figure at 0x7fc4297919e8>"
            ]
          },
          "metadata": {
            "tags": []
          }
        }
      ]
    },
    {
      "metadata": {
        "id": "qIZepLMgItfq",
        "colab_type": "text"
      },
      "cell_type": "markdown",
      "source": [
        "## Maximum a Posteriori Inference\n",
        "\n",
        "We first search for the point estimate of latent variables that maximizes the posterior probability density. This is known as maximum a posteriori (MAP) inference, and is done by calculating the values of $\\mathbf{W}$ and $\\mathbf{Z}$ that maximise the posterior density $p(\\mathbf{W}, \\mathbf{Z} \\mid \\mathbf{X}) \\propto p(\\mathbf{W}, \\mathbf{Z}, \\mathbf{X})$.\n"
      ]
    },
    {
      "metadata": {
        "id": "s2AvQAYqIh6K",
        "colab_type": "code",
        "colab": {}
      },
      "cell_type": "code",
      "source": [
        "tf.reset_default_graph()\n",
        "\n",
        "w = tf.Variable(np.ones([data_dim, latent_dim]), dtype=tf.float32)\n",
        "z = tf.Variable(np.ones([latent_dim, num_datapoints]), dtype=tf.float32)\n",
        "\n",
        "\n",
        "def target(w, z):\n",
        "  \"\"\"Unnormalized target density as a function of the parameters.\"\"\"\n",
        "  return log_joint(data_dim=data_dim,\n",
        "                   latent_dim=latent_dim,\n",
        "                   num_datapoints=num_datapoints,\n",
        "                   stddv_datapoints=stddv_datapoints,\n",
        "                   w=w, z=z, x=x_train)\n",
        "\n",
        "\n",
        "energy = -target(w, z)\n",
        "\n",
        "optimizer = tf.train.AdamOptimizer(learning_rate=0.05)\n",
        "train = optimizer.minimize(energy)\n",
        "\n",
        "init = tf.global_variables_initializer()\n",
        "\n",
        "t = []\n",
        "\n",
        "num_epochs = 200\n",
        "\n",
        "with tf.Session() as sess:\n",
        "  sess.run(init)\n",
        "\n",
        "  for i in range(num_epochs):\n",
        "    sess.run(train)\n",
        "    if i % 5 == 0:\n",
        "      cE, cw, cz = sess.run([energy, w, z])\n",
        "      t.append(cE)\n",
        "\n",
        "  w_inferred_map = sess.run(w)\n",
        "  z_inferred_map = sess.run(z)"
      ],
      "execution_count": 0,
      "outputs": []
    },
    {
      "metadata": {
        "id": "UL1PmOM34brs",
        "colab_type": "code",
        "colab": {
          "base_uri": "https://localhost:8080/",
          "height": 364
        },
        "outputId": "3929bdbb-0666-444d-a9c5-414bbc2acefc"
      },
      "cell_type": "code",
      "source": [
        "x = range(1, num_epochs, 5)\n",
        "plt.plot(x, t)"
      ],
      "execution_count": 8,
      "outputs": [
        {
          "output_type": "execute_result",
          "data": {
            "text/plain": [
              "[<matplotlib.lines.Line2D at 0x7fc422fcc898>]"
            ]
          },
          "metadata": {
            "tags": []
          },
          "execution_count": 8
        },
        {
          "output_type": "display_data",
          "data": {
            "image/png": "[encoded data removed]",
            "text/plain": [
              "<matplotlib.figure.Figure at 0x7fc429791198>"
            ]
          },
          "metadata": {
            "tags": []
          }
        }
      ]
    },
    {
      "metadata": {
        "id": "TqTuhkTsP90b",
        "colab_type": "text"
      },
      "cell_type": "markdown",
      "source": [
        "We can use the Edward2 model to sample data for the inferred values for $\\mathbf{W}$ and $\\mathbf{Z}$, and compare to the actual dataset we conditioned on. "
      ]
    },
    {
      "metadata": {
        "id": "T3O6PHe3XX8a",
        "colab_type": "code",
        "colab": {
          "base_uri": "https://localhost:8080/",
          "height": 402
        },
        "outputId": "56daaadd-1752-482a-f108-fdb3e22f6520"
      },
      "cell_type": "code",
      "source": [
        "print(\"MAP-estimated axes:\")\n",
        "print(w_inferred_map)\n",
        "\n",
        "def replace_latents(w=actual_w, z=actual_z):\n",
        "\n",
        "  def interceptor(rv_constructor, *rv_args, **rv_kwargs):\n",
        "    \"\"\"Replaces the priors with actual values to generate samples from.\"\"\"\n",
        "    name = rv_kwargs.pop(\"name\")\n",
        "    if name == \"w\":\n",
        "      rv_kwargs[\"value\"] = w\n",
        "    elif name == \"z\":\n",
        "      rv_kwargs[\"value\"] = z\n",
        "    return rv_constructor(*rv_args, **rv_kwargs)\n",
        "\n",
        "  return interceptor\n",
        "\n",
        "with ed.interception(replace_latents(w_inferred_map, z_inferred_map)):\n",
        "  generate = probabilistic_pca(\n",
        "      data_dim=data_dim, latent_dim=latent_dim,\n",
        "      num_datapoints=num_datapoints, stddv_datapoints=stddv_datapoints)\n",
        "\n",
        "with tf.Session() as sess:\n",
        "  x_generated, _ = sess.run(generate)\n",
        "\n",
        "plt.scatter(x_train[0, :], x_train[1, :], color='blue', alpha=0.1, label='Actual data')\n",
        "plt.scatter(x_generated[0, :], x_generated[1, :], color='red', alpha=0.1, label='Simulated data (MAP)')\n",
        "plt.legend()\n",
        "plt.axis([-20, 20, -20, 20])\n",
        "plt.show()"
      ],
      "execution_count": 9,
      "outputs": [
        {
          "output_type": "stream",
          "text": [
            "MAP-estimated axes:\n",
            "[[-0.20085734]\n",
            " [ 2.7221382 ]]\n"
          ],
          "name": "stdout"
        },
        {
          "output_type": "display_data",
          "data": {
            "image/png": "[encoded data removed]",
            "text/plain": [
              "<matplotlib.figure.Figure at 0x7fc422f9dd68>"
            ]
          },
          "metadata": {
            "tags": []
          }
        }
      ]
    },
    {
      "metadata": {
        "id": "YdtvGLvmg341",
        "colab_type": "text"
      },
      "cell_type": "markdown",
      "source": [
        "## Variational Inference\n",
        "\n",
        "MAP can be used to find the mode (or one of the modes) of the posterior distribution, but does not provide any other insights about it. We next use variational inference, where the posterior distribtion $p(\\mathbf{W}, \\mathbf{Z} \\mid \\mathbf{X})$ is approximated using a variational distribution $q(\\mathbf{W}, \\mathbf{Z})$ parametrised by $\\boldsymbol{\\lambda}$. The aim is to find the variational parameters $\\boldsymbol{\\lambda}$ that _minimize_ the KL divergence between q and the posterior, $\\mathrm{KL}(q(\\mathbf{W}, \\mathbf{Z}) \\mid\\mid p(\\mathbf{W}, \\mathbf{Z} \\mid \\mathbf{X}))$, or equivalently, that _maximize_ the evidence lower bound, $\\mathbb{E}_{q(\\mathbf{W},\\mathbf{Z};\\boldsymbol{\\lambda})}\\left[ \\log p(\\mathbf{W},\\mathbf{Z},\\mathbf{X}) - \\log q(\\mathbf{W},\\mathbf{Z}; \\boldsymbol{\\lambda}) \\right]$.\n"
      ]
    },
    {
      "metadata": {
        "id": "BfXGOtI9g7bG",
        "colab_type": "code",
        "colab": {}
      },
      "cell_type": "code",
      "source": [
        "tf.reset_default_graph()\n",
        "\n",
        "def variational_model(qw_mean, qw_stddv, qz_mean, qz_stddv):\n",
        "  qw = ed.Normal(loc=qw_mean, scale=qw_stddv, name=\"qw\")\n",
        "  qz = ed.Normal(loc=qz_mean, scale=qz_stddv, name=\"qz\")\n",
        "  return qw, qz\n",
        "\n",
        "\n",
        "log_q = ed.make_log_joint_fn(variational_model)\n",
        "\n",
        "def target_q(qw, qz):\n",
        "  return log_q(qw_mean=qw_mean, qw_stddv=qw_stddv,\n",
        "               qz_mean=qz_mean, qz_stddv=qz_stddv,\n",
        "               qw=qw, qz=qz)\n",
        "\n",
        "\n",
        "qw_mean = tf.Variable(np.ones([data_dim, latent_dim]), dtype=tf.float32)\n",
        "qz_mean = tf.Variable(np.ones([latent_dim, num_datapoints]), dtype=tf.float32)\n",
        "qw_stddv = tf.nn.softplus(tf.Variable(-4 * np.ones([data_dim, latent_dim]), dtype=tf.float32))\n",
        "qz_stddv = tf.nn.softplus(tf.Variable(-4 * np.ones([latent_dim, num_datapoints]), dtype=tf.float32))\n",
        "\n",
        "qw, qz = variational_model(qw_mean=qw_mean, qw_stddv=qw_stddv,\n",
        "                           qz_mean=qz_mean, qz_stddv=qz_stddv)\n",
        "\n",
        "energy = target(qw, qz)\n",
        "entropy = -target_q(qw, qz)\n",
        "\n",
        "elbo = energy + entropy\n",
        "\n",
        "\n",
        "optimizer = tf.train.AdamOptimizer(learning_rate = 0.05)\n",
        "train = optimizer.minimize(-elbo)\n",
        "\n",
        "init = tf.global_variables_initializer()\n",
        "\n",
        "t = []\n",
        "\n",
        "num_epochs = 100\n",
        "\n",
        "with tf.Session() as sess:\n",
        "  sess.run(init)\n",
        "\n",
        "  for i in range(num_epochs):\n",
        "    sess.run(train)\n",
        "    if i % 5 == 0:\n",
        "      t.append(sess.run([elbo]))\n",
        "\n",
        "  w_mean_inferred = sess.run(qw_mean)\n",
        "  w_stddv_inferred = sess.run(qw_stddv)\n",
        "  z_mean_inferred = sess.run(qz_mean)\n",
        "  z_stddv_inferred = sess.run(qz_stddv)"
      ],
      "execution_count": 0,
      "outputs": []
    },
    {
      "metadata": {
        "id": "CpSsruVIqAv5",
        "colab_type": "code",
        "colab": {
          "base_uri": "https://localhost:8080/",
          "height": 783
        },
        "outputId": "a47e3bb0-25ac-4544-87b4-13ae65d6096c"
      },
      "cell_type": "code",
      "source": [
        "print(\"Inferred axes:\")\n",
        "print(w_mean_inferred)\n",
        "print(\"Standard Deviation:\")\n",
        "print(w_stddv_inferred)\n",
        "\n",
        "plt.plot(range(1, num_epochs, 5), t)\n",
        "plt.show()\n",
        "\n",
        "with ed.interception(replace_latents(w_mean_inferred, z_mean_inferred)):\n",
        "  generate = probabilistic_pca(\n",
        "      data_dim=data_dim, latent_dim=latent_dim,\n",
        "      num_datapoints=num_datapoints, stddv_datapoints=stddv_datapoints)\n",
        "\n",
        "with tf.Session() as sess:\n",
        "  x_generated, _ = sess.run(generate)\n",
        "\n",
        "plt.scatter(x_train[0, :], x_train[1, :], color='blue', alpha=0.1, label='Actual data')\n",
        "plt.scatter(x_generated[0, :], x_generated[1, :], color='red', alpha=0.1, label='Simulated data (VI)')\n",
        "plt.legend()\n",
        "plt.axis([-20, 20, -20, 20])\n",
        "plt.show()"
      ],
      "execution_count": 11,
      "outputs": [
        {
          "output_type": "stream",
          "text": [
            "Inferred axes:\n",
            "[[-0.09666733]\n",
            " [ 1.4165041 ]]\n",
            "Standard Deviation:\n",
            "[[0.01517736]\n",
            " [0.01317804]]\n"
          ],
          "name": "stdout"
        },
        {
          "output_type": "display_data",
          "data": {
            "image/png": "[encoded data removed]",
            "text/plain": [
              "<matplotlib.figure.Figure at 0x7fc422f814e0>"
            ]
          },
          "metadata": {
            "tags": []
          }
        },
        {
          "output_type": "display_data",
          "data": {
            "image/png": "[encoded data removed]",
            "text/plain": [
              "<matplotlib.figure.Figure at 0x7fc422f9de48>"
            ]
          },
          "metadata": {
            "tags": []
          }
        }
      ]
    },
    {
      "metadata": {
        "id": "rWrL1mCNIcNy",
        "colab_type": "text"
      },
      "cell_type": "markdown",
      "source": [
        "## Acknowledgements\n",
        "\n",
        "This tutorial was originally written in Edward 1.0 ([source](https://github.com/blei-lab/edward/blob/master/notebooks/probabilistic_pca.ipynb)). We thank all contributors to writing and revising that version."
      ]
    },
    {
      "metadata": {
        "id": "ZJd8RbQxvyp6",
        "colab_type": "text"
      },
      "cell_type": "markdown",
      "source": [
        "#### References\n",
        "\n",
        "<a name='1'></a>[1]: Michael E. Tipping and Christopher M. Bishop. Probabilistic principal component analysis. _Journal of the Royal Statistical Society: Series B (Statistical Methodology)_, 61(3): 611-622, 1999."
      ]
    }
  ]
}