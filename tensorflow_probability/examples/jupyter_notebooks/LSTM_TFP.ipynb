{
  "nbformat": 4,
  "nbformat_minor": 0,
  "metadata": {
    "colab": {
      "name": "LSTM_TFP.ipynb",
      "version": "0.3.2",
      "provenance": [],
      "collapsed_sections": []
    },
    "kernelspec": {
      "display_name": "Python 3",
      "language": "python",
      "name": "python3"
    }
  },
  "cells": [
    {
      "metadata": {
        "id": "bLETbMQ07Z5S",
        "colab_type": "text"
      },
      "cell_type": "markdown",
      "source": [
        "##### Copyright 2018 The TensorFlow Authors.\n",
        "\n",
        "Licensed under the Apache License, Version 2.0 (the \"License\");"
      ]
    },
    {
      "metadata": {
        "id": "BYU_QwkC7L10",
        "colab_type": "code",
        "colab": {}
      },
      "cell_type": "code",
      "source": [
        "#@title Licensed under the Apache License, Version 2.0 (the \"License\"); { display-mode: \"form\" }\n",
        "# you may not use this file except in compliance with the License.\n",
        "# You may obtain a copy of the License at\n",
        "#\n",
        "# https://www.apache.org/licenses/LICENSE-2.0\n",
        "#\n",
        "# Unless required by applicable law or agreed to in writing, software\n",
        "# distributed under the License is distributed on an \"AS IS\" BASIS,\n",
        "# WITHOUT WARRANTIES OR CONDITIONS OF ANY KIND, either express or implied.\n",
        "# See the License for the specific language governing permissions and\n",
        "# limitations under the License."
      ],
      "execution_count": 0,
      "outputs": []
    },
    {
      "metadata": {
        "id": "ZNKo0BTDRd5t",
        "colab_type": "text"
      },
      "cell_type": "markdown",
      "source": [
        "# Long Short-Term Memory Network (LSTM) with TFP\n",
        "\n",
        "<table class=\"tfo-notebook-buttons\" align=\"left\">\n",
        "  <td>\n",
        "    <a target=\"_blank\" href=\"https://colab.research.google.com/github/tensorflow/probability/blob/master/tensorflow_probability/examples/jupyter_notebooks/deep_exponential_family_with_tfp.ipynb\"><img height=\"32px\" src=\"https://colab.research.google.com/img/colab_favicon.ico\" />Run in Google Colab</a>\n",
        "  </td>\n",
        "  <td>\n",
        "    <a target=\"_blank\" href=\"https://github.com/tensorflow/probability/blob/master/tensorflow_probability/examples/jupyter_notebooks/deep_exponential_family_with_tfp.ipynb\"><img src=\"https://www.tensorflow.org/images/GitHub-Mark-32px.png\" />View source on GitHub</a>\n",
        "  </td>\n",
        "</table>\n",
        "<br>\n",
        "<br>\n",
        "<br>\n",
        "\n",
        "Original content [this Repository](https://github.com/blei-lab/edward/blob/master/examples/lstm.py), created by [the Blei Lab](http://www.cs.columbia.edu/~blei/), with additional content from Chris Olah ([`@ch402`](https://twitter.com/ch402))\n",
        "\n",
        "Ported to [Tensorflow Probability](https://www.tensorflow.org/probability/) by Matthew McAteer ([`@MatthewMcAteer0`](https://twitter.com/MatthewMcAteer0)), with help from Bryan Seybold, Mike Shwe ([`@mikeshwe`](https://twitter.com/mikeshwe)), Josh Dillon, and the rest of the TFP team at  Google ([`tfprobability@tensorflow.org`](mailto:tfprobability@tensorflow.org)).\n",
        "\n",
        "---\n",
        "\n",
        "- Dependencies & Prerequisites\n",
        "  - Introduction\n",
        "  - Recurrent Neural Networks\n",
        "  - The Problem of Long-term Dependencies\n",
        "  - LSTM Networks\n",
        "  - The Core Idea Behind LSTMs\n",
        "  - Step-by-Step LSTM Walk Through\n",
        "- A LSTM language model run on text8\n",
        "  - Data\n",
        "  - Model\n",
        "  - Inference\n",
        "  - Variants on Long Short Term Memory\n",
        "  - Conclusions\n",
        "- References\n"
      ]
    },
    {
      "metadata": {
        "id": "_CrDtYMfz9bj",
        "colab_type": "text"
      },
      "cell_type": "markdown",
      "source": [
        "## Dependencies & Prerequisites\n",
        "\n",
        "<div class=\"alert alert-success\">\n",
        "    Tensorflow Probability is part of the colab default runtime, <b>so you don't need to install Tensorflow or Tensorflow Probability if you're running this in the colab</b>. \n",
        "    <br>\n",
        "    If you're running this notebook in Jupyter on your own machine (and you have already installed Tensorflow), you can use the following\n",
        "    <br>\n",
        "      <ul>\n",
        "    <li> For the most recent nightly installation: <code>pip3 install -q tfp-nightly</code></li>\n",
        "    <li> For the most recent stable TFP release: <code>pip3 install -q --upgrade tensorflow-probability</code></li>\n",
        "    <li> For the most recent stable GPU-connected version of TFP: <code>pip3 install -q --upgrade tensorflow-probability-gpu</code></li>\n",
        "    <li> For the most recent nightly GPU-connected version of TFP: <code>pip3 install -q tfp-nightly-gpu</code></li>\n",
        "    </ul>\n",
        "Again, if you are running this in a Colab, Tensorflow and TFP are already installed\n",
        "</div>"
      ]
    },
    {
      "metadata": {
        "id": "ADaJn1yq-bKF",
        "colab_type": "code",
        "colab": {}
      },
      "cell_type": "code",
      "source": [
        "#@title Imports and Global Variables  { display-mode: \"form\" }\n",
        "!pip3 install -q observations\n",
        "!pip3 install -q corner\n",
        "from __future__ import absolute_import, division, print_function\n",
        "\n",
        "#@markdown This sets the warning status (default is `ignore`, since this notebook runs correctly)\n",
        "warning_status = \"ignore\" #@param [\"ignore\", \"always\", \"module\", \"once\", \"default\", \"error\"]\n",
        "import warnings\n",
        "warnings.filterwarnings(warning_status)\n",
        "with warnings.catch_warnings():\n",
        "    warnings.filterwarnings(warning_status, category=DeprecationWarning)\n",
        "    warnings.filterwarnings(warning_status, category=UserWarning)\n",
        "\n",
        "import numpy as np\n",
        "import string\n",
        "from datetime import datetime\n",
        "import os\n",
        "#@markdown This sets the styles of the plotting (default is styled like plots from [FiveThirtyeight.com](https://fivethirtyeight.com/))\n",
        "matplotlib_style = 'fivethirtyeight' #@param ['fivethirtyeight', 'bmh', 'ggplot', 'seaborn', 'default', 'Solarize_Light2', 'classic', 'dark_background', 'seaborn-colorblind', 'seaborn-notebook']\n",
        "import matplotlib.pyplot as plt; plt.style.use(matplotlib_style)\n",
        "import matplotlib.axes as axes;\n",
        "from matplotlib.patches import Ellipse\n",
        "%matplotlib inline\n",
        "import seaborn as sns; sns.set_context('notebook')\n",
        "from IPython.core.pylabtools import figsize\n",
        "#@markdown This sets the resolution of the plot outputs (`retina` is the highest resolution)\n",
        "notebook_screen_res = 'retina' #@param ['retina', 'png', 'jpeg', 'svg', 'pdf']\n",
        "%config InlineBackend.figure_format = notebook_screen_res\n",
        "\n",
        "import tensorflow as tf\n",
        "tfe = tf.contrib.eager\n",
        "\n",
        "# Eager Execution\n",
        "#@markdown Check the box below if you want to use [Eager Execution](https://www.tensorflow.org/guide/eager)\n",
        "#@markdown Eager execution provides An intuitive interface, Easier debugging, and a control flow comparable to Numpy. You can read more about it on the [Google AI Blog](https://ai.googleblog.com/2017/10/eager-execution-imperative-define-by.html)\n",
        "use_tf_eager = False #@param {type:\"boolean\"}\n",
        "\n",
        "# Use try/except so we can easily re-execute the whole notebook.\n",
        "if use_tf_eager:\n",
        "  try:\n",
        "    tf.enable_eager_execution()\n",
        "  except:\n",
        "    pass\n",
        "\n",
        "import tensorflow_probability as tfp\n",
        "tfd = tfp.distributions\n",
        "tfb = tfp.bijectors\n",
        "\n",
        "  \n",
        "def evaluate(tensors):\n",
        "  \"\"\"Evaluates Tensor or EagerTensor to Numpy `ndarray`s.\n",
        "  Args:\n",
        "  tensors: Object of `Tensor` or EagerTensor`s; can be `list`, `tuple`,\n",
        "    `namedtuple` or combinations thereof.\n",
        " \n",
        "  Returns:\n",
        "    ndarrays: Object with same structure as `tensors` except with `Tensor` or\n",
        "      `EagerTensor`s replaced by Numpy `ndarray`s.\n",
        "  \"\"\"\n",
        "  if tf.executing_eagerly():\n",
        "    return tf.contrib.framework.nest.pack_sequence_as(\n",
        "        tensors,\n",
        "        [t.numpy() if tf.contrib.framework.is_tensor(t) else t\n",
        "         for t in tf.contrib.framework.nest.flatten(tensors)])\n",
        "  return sess.run(tensors)\n",
        "\n",
        "class _TFColor(object):\n",
        "    \"\"\"Enum of colors used in TF docs.\"\"\"\n",
        "    red = '#F15854'\n",
        "    blue = '#5DA5DA'\n",
        "    orange = '#FAA43A'\n",
        "    green = '#60BD68'\n",
        "    pink = '#F17CB0'\n",
        "    brown = '#B2912F'\n",
        "    purple = '#B276B2'\n",
        "    yellow = '#DECF3F'\n",
        "    gray = '#4D4D4D'\n",
        "    def __getitem__(self, i):\n",
        "        return [\n",
        "            self.red,\n",
        "            self.orange,\n",
        "            self.green,\n",
        "            self.blue,\n",
        "            self.pink,\n",
        "            self.brown,\n",
        "            self.purple,\n",
        "            self.yellow,\n",
        "            self.gray,\n",
        "        ][i % 9]\n",
        "TFColor = _TFColor()\n",
        "\n",
        "def session_options(enable_gpu_ram_resizing=True, enable_xla=True):\n",
        "    \"\"\"\n",
        "    Allowing the notebook to make use of GPUs if they're available.\n",
        "    \n",
        "    XLA (Accelerated Linear Algebra) is a domain-specific compiler for linear \n",
        "    algebra that optimizes TensorFlow computations.\n",
        "    \"\"\"\n",
        "    config = tf.ConfigProto()\n",
        "    config.log_device_placement = True\n",
        "    if enable_gpu_ram_resizing:\n",
        "        # `allow_growth=True` makes it possible to connect multiple colabs to your\n",
        "        # GPU. Otherwise the colab malloc's all GPU ram.\n",
        "        config.gpu_options.allow_growth = True\n",
        "    if enable_xla:\n",
        "        # Enable on XLA. https://www.tensorflow.org/performance/xla/.\n",
        "        config.graph_options.optimizer_options.global_jit_level = (\n",
        "            tf.OptimizerOptions.ON_1)\n",
        "    return config\n",
        "\n",
        "\n",
        "def reset_sess(config=None):\n",
        "    \"\"\"\n",
        "    Convenience function to create the TF graph & session or reset them.\n",
        "    \"\"\"\n",
        "    if config is None:\n",
        "        config = session_options()\n",
        "    global sess\n",
        "    tf.reset_default_graph()\n",
        "    try:\n",
        "        sess.close()\n",
        "    except:\n",
        "        pass\n",
        "    sess = tf.InteractiveSession(config=config)\n",
        "\n",
        "reset_sess()\n",
        "\n",
        "# from edward.models import Categorical\n",
        "# from edward.util import Progbar\n",
        "from observations import text8\n"
      ],
      "execution_count": 0,
      "outputs": []
    },
    {
      "metadata": {
        "id": "Cf60KUxeWfjW",
        "colab_type": "text"
      },
      "cell_type": "markdown",
      "source": [
        "## Introduction\n",
        "\n",
        "A lot of processes involve the use of time-series data. In many cases this will involve the use of an architecture like an LSTM, but"
      ]
    },
    {
      "metadata": {
        "id": "DnZ1BgTnRd5u",
        "colab_type": "text"
      },
      "cell_type": "markdown",
      "source": [
        "### Recurrent Neural Networks\n",
        "Humans don’t start their thinking from scratch every second. As you read this essay, you understand each word based on your understanding of previous words. You don’t throw everything away and start thinking from scratch again. Your thoughts have persistence.\n",
        "\n",
        "Traditional neural networks can’t do this, and it seems like a major shortcoming. For example, imagine you want to classify what kind of event is happening at every point in a movie. It’s unclear how a traditional neural network could use its reasoning about previous events in the film to inform later ones.\n",
        "\n",
        "Recurrent neural networks address this issue. They are networks with loops in them, allowing information to persist.\n",
        "\n",
        "<img src=\"http://colah.github.io/posts/2015-08-Understanding-LSTMs/img/RNN-rolled.png\" width=\"150\">\n",
        "\n",
        "In the above diagram, a chunk of neural network, A, looks at some input xt and outputs a value ht. A loop allows information to be passed from one step of the network to the next.\n",
        "\n",
        "These loops make recurrent neural networks seem kind of mysterious. However, if you think a bit more, it turns out that they aren’t all that different than a normal neural network. A recurrent neural network can be thought of as multiple copies of the same network, each passing a message to a successor. Consider what happens if we unroll the loop:\n",
        "\n",
        "<img src=\"http://colah.github.io/posts/2015-08-Understanding-LSTMs/img/RNN-unrolled.png\" width=\"600\">\n",
        "\n",
        "This chain-like nature reveals that recurrent neural networks are intimately related to sequences and lists. They’re the natural architecture of neural network to use for such data.\n",
        "\n",
        "And they certainly are used! In the last few years, there have been incredible success applying RNNs to a variety of problems: speech recognition, language modeling, translation, image captioning… The list goes on. I’ll leave discussion of the amazing feats one can achieve with RNNs to Andrej Karpathy’s excellent blog post, The Unreasonable Effectiveness of Recurrent Neural Networks. But they really are pretty amazing.\n",
        "\n",
        "Essential to these successes is the use of “LSTMs,” a very special kind of recurrent neural network which works, for many tasks, much much better than the standard version. Almost all exciting results based on recurrent neural networks are achieved with them. It’s these LSTMs that this essay will explore.\n"
      ]
    },
    {
      "metadata": {
        "id": "wlxx9V4SRd5v",
        "colab_type": "text"
      },
      "cell_type": "markdown",
      "source": [
        "### The Problem of Long-Term Dependencies\n",
        "\n",
        "One of the appeals of RNNs is the idea that they might be able to connect previous information to the present task, such as using previous video frames might inform the understanding of the present frame. If RNNs could do this, they’d be extremely useful. But can they? It depends.\n",
        "\n",
        "Sometimes, we only need to look at recent information to perform the present task. For example, consider a language model trying to predict the next word based on the previous ones. If we are trying to predict the last word in “the clouds are in the sky,” we don’t need any further context – it’s pretty obvious the next word is going to be sky. In such cases, where the gap between the relevant information and the place that it’s needed is small, RNNs can learn to use the past information.\n",
        "\n",
        "<img src=\"http://colah.github.io/posts/2015-08-Understanding-LSTMs/img/RNN-shorttermdepdencies.png\" width=\"600\">\n",
        "\n",
        "But there are also cases where we need more context. Consider trying to predict the last word in the text “I grew up in France… I speak fluent French.” Recent information suggests that the next word is probably the name of a language, but if we want to narrow down which language, we need the context of France, from further back. It’s entirely possible for the gap between the relevant information and the point where it is needed to become very large.\n",
        "\n",
        "Unfortunately, as that gap grows, RNNs become unable to learn to connect the information.\n",
        "\n",
        "<img src=\"http://colah.github.io/posts/2015-08-Understanding-LSTMs/img/RNN-longtermdependencies.png\" width=\"600\">\n",
        "\n",
        "In theory, RNNs are absolutely capable of handling such “long-term dependencies.” A human could carefully pick parameters for them to solve toy problems of this form. Sadly, in practice, RNNs don’t seem to be able to learn them. The problem was explored in depth by Hochreiter (1991) [German] and Bengio, et al. (1994), who found some pretty fundamental reasons why it might be difficult.\n",
        "\n",
        "Thankfully, LSTMs don’t have this problem!\n",
        "\n"
      ]
    },
    {
      "metadata": {
        "id": "ynVreZpNRd5v",
        "colab_type": "text"
      },
      "cell_type": "markdown",
      "source": [
        "### LSTM Networks\n",
        "Long Short Term Memory networks – usually just called “LSTMs” – are a special kind of RNN, capable of learning long-term dependencies. They were introduced by Hochreiter & Schmidhuber (1997), and were refined and popularized by many people in following work.1 They work tremendously well on a large variety of problems, and are now widely used.\n",
        "\n",
        "LSTMs are explicitly designed to avoid the long-term dependency problem. Remembering information for long periods of time is practically their default behavior, not something they struggle to learn!\n",
        "\n",
        "All recurrent neural networks have the form of a chain of repeating modules of neural network. In standard RNNs, this repeating module will have a very simple structure, such as a single tanh layer.\n",
        "\n",
        "<img src=\"http://colah.github.io/posts/2015-08-Understanding-LSTMs/img/LSTM3-SimpleRNN.png\" width=\"600\">\n",
        "\n",
        "The repeating module in a standard RNN contains a single layer.\n",
        "\n",
        "LSTMs also have this chain like structure, but the repeating module has a different structure. Instead of having a single neural network layer, there are four, interacting in a very special way.\n",
        "\n",
        "<img src=\"http://colah.github.io/posts/2015-08-Understanding-LSTMs/img/LSTM3-chain.png\" width=\"600\">\n",
        "\n",
        "The repeating module in an LSTM contains four interacting layers.\n",
        "\n",
        "Don’t worry about the details of what’s going on. We’ll walk through the LSTM diagram step by step later. For now, let’s just try to get comfortable with the notation we’ll be using.\n",
        "\n",
        "<img src=\"http://colah.github.io/posts/2015-08-Understanding-LSTMs/img/LSTM2-notation.png\" width=\"300\">\n",
        "\n",
        "In the above diagram, each line carries an entire vector, from the output of one node to the inputs of others. The pink circles represent pointwise operations, like vector addition, while the yellow boxes are learned neural network layers. Lines merging denote concatenation, while a line forking denote its content being copied and the copies going to different locations."
      ]
    },
    {
      "metadata": {
        "id": "cndUC7KcRd5v",
        "colab_type": "text"
      },
      "cell_type": "markdown",
      "source": [
        "### The Core Idea Behind LSTMs\n",
        "The key to LSTMs is the cell state, the horizontal line running through the top of the diagram.\n",
        "\n",
        "The cell state is kind of like a conveyor belt. It runs straight down the entire chain, with only some minor linear interactions. It’s very easy for information to just flow along it unchanged.\n",
        "\n",
        "![C-line](http://colah.github.io/posts/2015-08-Understanding-LSTMs/img/LSTM3-C-line.png)\n",
        "\n",
        "The LSTM does have the ability to remove or add information to the cell state, carefully regulated by structures called gates.\n",
        "\n",
        "Gates are a way to optionally let information through. They are composed out of a sigmoid neural net layer and a pointwise multiplication operation.\n",
        "\n",
        "![gate](http://colah.github.io/posts/2015-08-Understanding-LSTMs/img/LSTM3-gate.png)\n",
        "\n",
        "The sigmoid layer outputs numbers between zero and one, describing how much of each component should be let through. A value of zero means “let nothing through,” while a value of one means “let everything through!”\n",
        "\n",
        "An LSTM has three of these gates, to protect and control the cell state."
      ]
    },
    {
      "metadata": {
        "id": "NZFAePRbRd5x",
        "colab_type": "text"
      },
      "cell_type": "markdown",
      "source": [
        "### Step-by-Step LSTM Walk Through\n",
        "The first step in our LSTM is to decide what information we’re going to throw away from the cell state. This decision is made by a sigmoid layer called the “forget gate layer.” It looks at ht−1 and xt, and outputs a number between 0 and 1 for each number in the cell state Ct−1. A 1 represents “completely keep this” while a 0 represents “completely get rid of this.”\n",
        "\n",
        "Let’s go back to our example of a language model trying to predict the next word based on all the previous ones. In such a problem, the cell state might include the gender of the present subject, so that the correct pronouns can be used. When we see a new subject, we want to forget the gender of the old subject.\n",
        "\n",
        "<img src=\"http://colah.github.io/posts/2015-08-Understanding-LSTMs/img/LSTM3-focus-f.png\" width=\"600\">\n",
        "\n",
        "The next step is to decide what new information we’re going to store in the cell state. This has two parts. First, a sigmoid layer called the “input gate layer” decides which values we’ll update. Next, a tanh layer creates a vector of new candidate values, C~t, that could be added to the state. In the next step, we’ll combine these two to create an update to the state.\n",
        "\n",
        "In the example of our language model, we’d want to add the gender of the new subject to the cell state, to replace the old one we’re forgetting.\n",
        "\n",
        "<img src=\"http://colah.github.io/posts/2015-08-Understanding-LSTMs/img/LSTM3-focus-i.png\" width=\"600\">\n",
        "\n",
        "It’s now time to update the old cell state, Ct−1, into the new cell state Ct. The previous steps already decided what to do, we just need to actually do it.\n",
        "\n",
        "We multiply the old state by ft, forgetting the things we decided to forget earlier. Then we add it∗C~t. This is the new candidate values, scaled by how much we decided to update each state value.\n",
        "\n",
        "In the case of the language model, this is where we’d actually drop the information about the old subject’s gender and add the new information, as we decided in the previous steps.\n",
        "\n",
        "<img src=\"http://colah.github.io/posts/2015-08-Understanding-LSTMs/img/LSTM3-focus-C.png\" width=\"600\">\n",
        "\n",
        "Finally, we need to decide what we’re going to output. This output will be based on our cell state, but will be a filtered version. First, we run a sigmoid layer which decides what parts of the cell state we’re going to output. Then, we put the cell state through tanh (to push the values to be between −1 and 1) and multiply it by the output of the sigmoid gate, so that we only output the parts we decided to.\n",
        "\n",
        "For the language model example, since it just saw a subject, it might want to output information relevant to a verb, in case that’s what is coming next. For example, it might output whether the subject is singular or plural, so that we know what form a verb should be conjugated into if that’s what follows next.\n",
        "\n",
        "<img src=\"http://colah.github.io/posts/2015-08-Understanding-LSTMs/img/LSTM3-focus-o.png\" width=\"600\">\n"
      ]
    },
    {
      "metadata": {
        "id": "7CDI-DT7Rd50",
        "colab_type": "text"
      },
      "cell_type": "markdown",
      "source": [
        "## A LSTM language model run on text8.\n"
      ]
    },
    {
      "metadata": {
        "id": "T5GP3Iv0Rd50",
        "colab_type": "code",
        "colab": {}
      },
      "cell_type": "code",
      "source": [
        "#@title Hyperparameters\n",
        "# Set seed. Remove this line to generate different mixtures!\n",
        "tf.set_random_seed(77)\n",
        "\n",
        "data_dir = '/tmp/data' #@param {type:\"string\"}\n",
        "log_dir = '/tmp/log'   #@param {type:\"string\"}\n",
        "n_epoch = 200          #@param {type:\"number\"}\n",
        "batch_size = 128       #@param {type:\"number\"}\n",
        "hidden_size = 512      #@param {type:\"number\"}\n",
        "timesteps = 64         #@param {type:\"number\"}\n",
        "lr = 5e-3              #@param {type:\"number\"}\n",
        "\n",
        "timestamp = datetime.strftime(datetime.utcnow(), \"%Y%m%d_%H%M%S\")\n",
        "hyperparam_str = '_'.join([var + '_' + str(eval(var)).replace('.', '_') for var in ['batch_size', 'hidden_size', 'timesteps', 'lr']])\n",
        "log_dir = os.path.join(log_dir, timestamp + '_' + hyperparam_str)\n",
        "if not os.path.exists(log_dir):\n",
        "    os.makedirs(log_dir)"
      ],
      "execution_count": 0,
      "outputs": []
    },
    {
      "metadata": {
        "id": "s8jYyasvRd52",
        "colab_type": "code",
        "colab": {}
      },
      "cell_type": "code",
      "source": [
        "def lstm_cell(x, h, c, name=None, reuse=False):\n",
        "    \"\"\"\n",
        "    LSTM returning hidden state and content cell at a specific timestep.\n",
        "    \"\"\"\n",
        "    nin = x.shape[-1].value\n",
        "    nout = h.shape[-1].value\n",
        "    with tf.variable_scope(name, default_name=\"lstm\",\n",
        "                         values=[x, h, c], reuse=reuse):\n",
        "        wx = tf.get_variable(\"kernel/input\", [nin, nout * 4],\n",
        "                             dtype=tf.float32,\n",
        "                             initializer=tf.orthogonal_initializer(1.0))\n",
        "        wh = tf.get_variable(\"kernel/hidden\", [nout, nout * 4],\n",
        "                             dtype=tf.float32,\n",
        "                             initializer=tf.orthogonal_initializer(1.0))\n",
        "        b = tf.get_variable(\"bias\", [nout * 4],\n",
        "                            dtype=tf.float32,\n",
        "                            initializer=tf.constant_initializer(0.0))\n",
        "\n",
        "    z = tf.matmul(x, wx) + tf.matmul(h, wh) + b\n",
        "    i, f, o, u = tf.split(z, 4, axis=1)\n",
        "    i = tf.sigmoid(i)\n",
        "    f = tf.sigmoid(f + 1.0)\n",
        "    o = tf.sigmoid(o)\n",
        "    u = tf.tanh(u)\n",
        "    c = f * c + i * u\n",
        "    h = o * tf.tanh(c)\n",
        "    return h, c"
      ],
      "execution_count": 0,
      "outputs": []
    },
    {
      "metadata": {
        "id": "DSLi-ycbRd54",
        "colab_type": "code",
        "colab": {}
      },
      "cell_type": "code",
      "source": [
        "def generator(input, batch_size, timesteps, encoder):\n",
        "    \"\"\"\n",
        "    Generate batch with respect to input (a list). Encode its\n",
        "    strings to integers, returning an array of shape [batch_size, timesteps].\n",
        "    \"\"\"\n",
        "    while True:\n",
        "        imb = np.random.randint(0, len(input) - timesteps, batch_size)\n",
        "        encoded = np.asarray(\n",
        "            [[encoder[c] for c in input[i:(i + timesteps)]] for i in imb],\n",
        "            dtype=np.int32)\n",
        "    yield encoded"
      ],
      "execution_count": 0,
      "outputs": []
    },
    {
      "metadata": {
        "id": "Hi3NplAeza5E",
        "colab_type": "text"
      },
      "cell_type": "markdown",
      "source": [
        "### TFP in LSTMs\n",
        "\n",
        "Within the Language model, we're going to feed the logits to a Categorical distirbution from TFP.\n",
        "\n",
        "Form `p(x[0], ..., x[timesteps - 1])`,\n",
        "$$\n",
        "    \\prod_{t=0}^\\text{timesteps - 1} p(x[t] | x[:t]),\n",
        "$$\n",
        "To calculate the probability, we call `log_prob` on\n",
        "\n",
        "` x = [x[0], ..., x[timesteps - 1]]` given `input = [0, x[0], ..., x[timesteps - 2]]`.\n",
        "We implement this separately from the generative model so the forward pass, e.g., embedding/dense layers, can be parallelized. `[batch_size, timesteps] -> [batch_size, timesteps]`\n"
      ]
    },
    {
      "metadata": {
        "id": "8XiIvWpDRd56",
        "colab_type": "code",
        "outputId": "e2cf181f-f513-43d0-9393-81be73119294",
        "colab": {
          "base_uri": "https://localhost:8080/",
          "height": 863
        }
      },
      "cell_type": "code",
      "source": [
        "def language_model(input, vocab_size):\n",
        "    \"\"\"\n",
        "    Our Language model for processing the logits\n",
        "    \n",
        "    Args:\n",
        "      input: scalar of true price estimate, taken from state\n",
        "      vocab_size: scalar of prize 1 estimate, to be added to the  prize 1 \n",
        "    Returns: \n",
        "      Categorical distribution of the \n",
        "    Closure over: data_mu, data_std, mu_prior, std_prior\n",
        "    \"\"\"\n",
        "    x = tf.one_hot(input, depth=vocab_size, dtype=tf.float32)\n",
        "    h = tf.fill(tf.stack([tf.shape(x)[0], hidden_size]), 0.0)\n",
        "    c = tf.fill(tf.stack([tf.shape(x)[0], hidden_size]), 0.0)\n",
        "    hs = []\n",
        "    reuse = None\n",
        "    for t in range(timesteps):\n",
        "      if t > 0:\n",
        "        reuse = True\n",
        "      xt = x[:, t, :]\n",
        "      h, c = lstm_cell(xt, h, c, name=\"lstm\", reuse=reuse)\n",
        "      hs.append(h)\n",
        "\n",
        "    h = tf.stack(hs, 1)\n",
        "    logits = tf.layers.dense(h, vocab_size, name=\"dense\")\n",
        "    output = tfd.Categorical(logits=logits).sample().eval()\n",
        "    return output\n"
      ],
      "execution_count": 0,
      "outputs": [
        {
          "output_type": "stream",
          "text": [
            "<input>:10: DeprecationWarning: invalid escape sequence \\p\n",
            "<input>:10: DeprecationWarning: invalid escape sequence \\p\n",
            "<input>:10: DeprecationWarning: invalid escape sequence \\p\n",
            "<input>:10: DeprecationWarning: invalid escape sequence \\p\n",
            "<input>:10: DeprecationWarning: invalid escape sequence \\p\n",
            "<input>:10: DeprecationWarning: invalid escape sequence \\p\n",
            "<input>:10: DeprecationWarning: invalid escape sequence \\p\n",
            "<input>:10: DeprecationWarning: invalid escape sequence \\p\n",
            "<input>:10: DeprecationWarning: invalid escape sequence \\p\n",
            "<input>:10: DeprecationWarning: invalid escape sequence \\p\n",
            "<input>:10: DeprecationWarning: invalid escape sequence \\p\n",
            "<input>:10: DeprecationWarning: invalid escape sequence \\p\n",
            "<input>:10: DeprecationWarning: invalid escape sequence \\p\n",
            "<input>:10: DeprecationWarning: invalid escape sequence \\p\n",
            "<input>:10: DeprecationWarning: invalid escape sequence \\p\n",
            "<input>:10: DeprecationWarning: invalid escape sequence \\p\n",
            "<input>:10: DeprecationWarning: invalid escape sequence \\p\n",
            "<input>:10: DeprecationWarning: invalid escape sequence \\p\n",
            "<input>:10: DeprecationWarning: invalid escape sequence \\p\n",
            "<input>:10: DeprecationWarning: invalid escape sequence \\p\n",
            "<input>:10: DeprecationWarning: invalid escape sequence \\p\n",
            "<input>:10: DeprecationWarning: invalid escape sequence \\p\n",
            "<input>:10: DeprecationWarning: invalid escape sequence \\p\n",
            "<input>:10: DeprecationWarning: invalid escape sequence \\p\n",
            "<input>:10: DeprecationWarning: invalid escape sequence \\p\n",
            "<input>:10: DeprecationWarning: invalid escape sequence \\p\n",
            "<input>:10: DeprecationWarning: invalid escape sequence \\p\n",
            "<input>:10: DeprecationWarning: invalid escape sequence \\p\n",
            "<input>:10: DeprecationWarning: invalid escape sequence \\p\n",
            "<input>:10: DeprecationWarning: invalid escape sequence \\p\n",
            "<input>:10: DeprecationWarning: invalid escape sequence \\p\n",
            "<input>:10: DeprecationWarning: invalid escape sequence \\p\n",
            "<input>:10: DeprecationWarning: invalid escape sequence \\p\n",
            "<input>:10: DeprecationWarning: invalid escape sequence \\p\n",
            "<input>:10: DeprecationWarning: invalid escape sequence \\p\n",
            "<input>:10: DeprecationWarning: invalid escape sequence \\p\n",
            "<input>:10: DeprecationWarning: invalid escape sequence \\p\n",
            "<input>:10: DeprecationWarning: invalid escape sequence \\p\n",
            "<input>:10: DeprecationWarning: invalid escape sequence \\p\n",
            "<input>:10: DeprecationWarning: invalid escape sequence \\p\n",
            "<input>:10: DeprecationWarning: invalid escape sequence \\p\n",
            "<input>:10: DeprecationWarning: invalid escape sequence \\p\n",
            "<input>:10: DeprecationWarning: invalid escape sequence \\p\n",
            "<input>:10: DeprecationWarning: invalid escape sequence \\p\n",
            "<input>:10: DeprecationWarning: invalid escape sequence \\p\n",
            "<ipython-input-7-fa4783ea3cf8>:10: DeprecationWarning: invalid escape sequence \\p\n",
            "  \"\"\"\n"
          ],
          "name": "stderr"
        }
      ]
    },
    {
      "metadata": {
        "id": "8goTTWkNvYKt",
        "colab_type": "text"
      },
      "cell_type": "markdown",
      "source": [
        "We then define the generator for the language model, which can be summarized with the following relationship:\n",
        "$$\n",
        "x ~ \\prod p(x_t | x_{<t})\n",
        "$$\n",
        "From this we get an output of the `batch_size` and the `vocab_size`"
      ]
    },
    {
      "metadata": {
        "id": "DA2-8S61Rd57",
        "colab_type": "code",
        "colab": {}
      },
      "cell_type": "code",
      "source": [
        "def language_model_gen(batch_size, vocab_size):\n",
        "    \"\"\"\n",
        "    Generate x ~ prod p(x_t | x_{<t}). Output [batch_size, timesteps].\n",
        "    \"\"\"\n",
        "    # Initialize data input randomly.\n",
        "    x = tf.random_uniform([batch_size], 0, vocab_size, dtype=tf.int32)\n",
        "    h = tf.zeros([batch_size, hidden_size])\n",
        "    c = tf.zeros([batch_size, hidden_size])\n",
        "    xs = []\n",
        "    for _ in range(timesteps):\n",
        "        x = tf.one_hot(x, depth=vocab_size, dtype=tf.float32)\n",
        "        h, c = lstm_cell(x, h, c, name=\"lstm\")\n",
        "        logits = tf.layers.dense(h, vocab_size, name=\"dense\")\n",
        "        x = tfd.Categorical(logits=logits).sample(seed=77).eval()  # REPLACES    x = ed.Categorical(logits=logits).value())    \n",
        "        xs.append(x)\n",
        "\n",
        "    xs = tf.cast(tf.stack(xs, 1), tf.int32)\n",
        "    return xs"
      ],
      "execution_count": 0,
      "outputs": []
    },
    {
      "metadata": {
        "id": "0x5nGR6HRd59",
        "colab_type": "text"
      },
      "cell_type": "markdown",
      "source": [
        "Now that out functions have been defined, let's get our data\n",
        "\n",
        "### Data"
      ]
    },
    {
      "metadata": {
        "id": "zxJXREskRd5-",
        "colab_type": "code",
        "outputId": "c49928b7-5442-4cc9-b1fa-3220732fb8d2",
        "colab": {
          "base_uri": "https://localhost:8080/",
          "height": 127
        }
      },
      "cell_type": "code",
      "source": [
        "# Set seed. Remove this line to generate different mixtures!\n",
        "tf.set_random_seed(77)\n",
        "\n",
        "x_train, _, x_test = text8(data_dir)\n",
        "vocab = string.ascii_lowercase + ' '\n",
        "vocab_size = len(vocab)\n",
        "encoder = dict(zip(vocab, range(vocab_size)))\n",
        "decoder = {v: k for k, v in encoder.items()}\n",
        "\n",
        "data = generator(x_train, batch_size, timesteps, encoder)"
      ],
      "execution_count": 0,
      "outputs": [
        {
          "output_type": "stream",
          "text": [
            ">> Downloading /tmp/data/text8.zip.part \n",
            ">> [29.9 MB/29.9 MB] 100% @2.1 MB/s,[0s remaining, 14s elapsed]        \n",
            "URL http://mattmahoney.net/dc/text8.zip downloaded to /tmp/data/text8.zip \n"
          ],
          "name": "stdout"
        },
        {
          "output_type": "stream",
          "text": [
            "/usr/local/lib/python3.6/dist-packages/observations/util.py:601: ResourceWarning: unclosed <socket.socket fd=47, family=AddressFamily.AF_INET, type=SocketKind.SOCK_STREAM, proto=6, laddr=('172.28.0.2', 54610), raddr=('67.195.197.75', 80)>\n",
            "  download_file(url, filepath, hash_true, resume)\n"
          ],
          "name": "stderr"
        }
      ]
    },
    {
      "metadata": {
        "id": "sQgwN_wlRd6A",
        "colab_type": "text"
      },
      "cell_type": "markdown",
      "source": [
        "### Model"
      ]
    },
    {
      "metadata": {
        "id": "cDGBCgFVRd6C",
        "colab_type": "code",
        "colab": {}
      },
      "cell_type": "code",
      "source": [
        "x_ph = tf.placeholder(tf.int32, [None, timesteps])\n",
        "with tf.variable_scope(\"language_model\"):\n",
        "    # Shift input sequence to right by 1, [0, x[0], ..., x[timesteps - 2]].\n",
        "    x_ph_shift = tf.pad(x_ph, [[0, 0], [1, 0]])[:, :-1]\n",
        "    x = language_model(x_ph_shift, vocab_size)\n",
        "\n",
        "with tf.variable_scope(\"language_model\", reuse=True):\n",
        "    x_gen = language_model_gen(5, vocab_size)\n",
        "\n",
        "imb = range(0, len(x_test) - timesteps, timesteps)\n",
        "encoded_x_test = np.asarray(\n",
        "      [[encoder[c] for c in x_test[i:(i + timesteps)]] for i in imb],\n",
        "      dtype=np.int32)\n",
        "test_size = encoded_x_test.shape[0]\n",
        "print(\"Test set shape: {}\".format(encoded_x_test.shape))\n",
        "test_nll = -tf.reduce_sum(x.log_prob(x_ph))"
      ],
      "execution_count": 0,
      "outputs": []
    },
    {
      "metadata": {
        "id": "JkBu785NZac1",
        "colab_type": "text"
      },
      "cell_type": "markdown",
      "source": [
        "### Progress Bar Utility Functions"
      ]
    },
    {
      "metadata": {
        "id": "yAa7Kfj7ZaQw",
        "colab_type": "code",
        "colab": {}
      },
      "cell_type": "code",
      "source": [
        "#@title Progress Bar Utility Code (make sure to run this cell)  { display-mode: \"form\" }\n",
        "from __future__ import absolute_import\n",
        "from __future__ import division\n",
        "from __future__ import print_function\n",
        "\n",
        "import numpy as np\n",
        "import six\n",
        "import sys\n",
        "import time\n",
        "\n",
        "\n",
        "class Progbar(object):\n",
        "  def __init__(self, target, width=30, interval=0.01, verbose=1):\n",
        "    \"\"\"(Yet another) progress bar.\n",
        "    Args:\n",
        "      target: int.\n",
        "        Total number of steps expected.\n",
        "      width: int.\n",
        "        Width of progress bar.\n",
        "      interval: float.\n",
        "        Minimum time (in seconds) for progress bar to be displayed\n",
        "        during updates.\n",
        "      verbose: int.\n",
        "        Level of verbosity. 0 suppresses output; 1 is default.\n",
        "    \"\"\"\n",
        "    self.target = target\n",
        "    self.width = width\n",
        "    self.interval = interval\n",
        "    self.verbose = verbose\n",
        "\n",
        "    self.stored_values = {}\n",
        "    self.start = time.time()\n",
        "    self.last_update = 0\n",
        "    self.total_width = 0\n",
        "    self.seen_so_far = 0\n",
        "\n",
        "  def update(self, current, values=None, force=False):\n",
        "    \"\"\"Update progress bar, and print to standard output if `force`\n",
        "    is True, or the last update was completed longer than `interval`\n",
        "    amount of time ago, or `current` >= `target`.\n",
        "    The written output is the progress bar and all unique values.\n",
        "    Args:\n",
        "      current: int.\n",
        "        Index of current step.\n",
        "      values: dict of str to float.\n",
        "        Dict of name by value-for-last-step. The progress bar\n",
        "        will display averages for these values.\n",
        "      force: bool.\n",
        "        Whether to force visual progress update.\n",
        "    \"\"\"\n",
        "    if values is None:\n",
        "      values = {}\n",
        "\n",
        "    for k, v in six.iteritems(values):\n",
        "      self.stored_values[k] = v\n",
        "\n",
        "    self.seen_so_far = current\n",
        "\n",
        "    now = time.time()\n",
        "    if (not force and\n",
        "            (now - self.last_update) < self.interval and\n",
        "            current < self.target):\n",
        "      return\n",
        "\n",
        "    self.last_update = now\n",
        "    if self.verbose == 0:\n",
        "      return\n",
        "\n",
        "    prev_total_width = self.total_width\n",
        "    sys.stdout.write(\"\\b\" * prev_total_width)\n",
        "    sys.stdout.write(\"\\r\")\n",
        "\n",
        "    # Write progress bar to stdout.\n",
        "    n_digits = len(str(self.target))\n",
        "    bar = '%%%dd/%%%dd' % (n_digits, n_digits) % (current, self.target)\n",
        "    bar += ' [{0}%]'.format(str(int(current / self.target * 100)).rjust(3))\n",
        "    bar += ' '\n",
        "    prog_width = int(self.width * float(current) / self.target)\n",
        "    if prog_width > 0:\n",
        "      try:\n",
        "        bar += ('█' * prog_width)\n",
        "      except UnicodeEncodeError:\n",
        "        bar += ('*' * prog_width)\n",
        "\n",
        "    bar += (' ' * (self.width - prog_width))\n",
        "    sys.stdout.write(bar)\n",
        "\n",
        "    # Write values to stdout.\n",
        "    if current:\n",
        "      time_per_unit = (now - self.start) / current\n",
        "    else:\n",
        "      time_per_unit = 0\n",
        "\n",
        "    eta = time_per_unit * (self.target - current)\n",
        "    info = ''\n",
        "    if current < self.target:\n",
        "      info += ' ETA: %ds' % eta\n",
        "    else:\n",
        "      info += ' Elapsed: %ds' % (now - self.start)\n",
        "\n",
        "    for k, v in six.iteritems(self.stored_values):\n",
        "      info += ' | {0:s}: {1:0.3f}'.format(k, v)\n",
        "\n",
        "    self.total_width = len(bar) + len(info)\n",
        "    if prev_total_width > self.total_width:\n",
        "      info += ((prev_total_width - self.total_width) * \" \")\n",
        "\n",
        "    sys.stdout.write(info)\n",
        "    sys.stdout.flush()\n",
        "\n",
        "    if current >= self.target:\n",
        "      sys.stdout.write(\"\\n\")"
      ],
      "execution_count": 0,
      "outputs": []
    },
    {
      "metadata": {
        "id": "l9JwKjfTRd6D",
        "colab_type": "text"
      },
      "cell_type": "markdown",
      "source": [
        "### Inference\n",
        "\n",
        "For our optimization, we will use gradient descent to minimize our loss metric, `test_nll`, a stand in for \"**n**egative **l**og **l**oss\""
      ]
    },
    {
      "metadata": {
        "id": "UwuMCJF-Rd6E",
        "colab_type": "code",
        "colab": {}
      },
      "cell_type": "code",
      "source": [
        "train_op = tf.train.AdamOptimizer(learning_rate=lr).minimize(test_nll)\n",
        "\n",
        "print(\"Number of sets of parameters: {}\".format(\n",
        "      len(tf.trainable_variables())))\n",
        "print(\"Number of parameters: {}\".format(\n",
        "      np.sum([np.prod(v.shape.as_list()) for v in tf.trainable_variables()])))\n",
        "for v in tf.trainable_variables():\n",
        "    print(v)\n",
        "\n",
        "evaluate(tf.global_variables_initializer())\n",
        "\n",
        "# Double n_epoch and print progress every half an epoch.\n",
        "n_iter_per_epoch = len(x_train) // (batch_size * timesteps * 2)\n",
        "epoch = 0.0\n",
        "for _ in range(n_epoch * 2):\n",
        "    epoch += 0.5\n",
        "    print(\"Epoch: {0}\".format(epoch))\n",
        "    avg_nll = 0.0\n",
        "\n",
        "    pbar = Progbar(n_iter_per_epoch)\n",
        "    for t in range(1, n_iter_per_epoch + 1):\n",
        "        pbar.update(t)\n",
        "        x_batch = next(data)\n",
        "        _ = sess.run([train_op], feed_dict={x_ph: x_batch})\n",
        "        avg_nll += test_nll\n",
        "\n",
        "    # Print average bits per character over epoch.\n",
        "    avg_nll /= (n_iter_per_epoch * batch_size * timesteps *\n",
        "                np.log(2))\n",
        "    print(\"Train average bits/char: {:0.8f}\".format(avg_nll))\n",
        "\n",
        "    # Print per-data point log-likelihood on test set.\n",
        "    avg_nll = 0.0\n",
        "    for start in range(0, test_size, batch_size):\n",
        "        end = min(test_size, start + batch_size)\n",
        "        x_batch = encoded_x_test[start:end]\n",
        "        avg_nll += sess.run(test_nll, feed_dict={x_ph: x_batch})\n",
        "\n",
        "    avg_nll /= test_size\n",
        "    print(\"Test average NLL: {:0.8f}\".format(avg_nll))\n",
        "\n",
        "    # Generate samples from model.\n",
        "    samples = sess.run(x_gen)\n",
        "    samples = [''.join([decoder[c] for c in sample]) for sample in samples]\n",
        "    print(\"Samples:\")\n",
        "    for sample in samples:\n",
        "        print(sample)\n"
      ],
      "execution_count": 0,
      "outputs": []
    },
    {
      "metadata": {
        "id": "-087dAhYbyG_",
        "colab_type": "text"
      },
      "cell_type": "markdown",
      "source": [
        "Our default hyperparameters achieve ~78.4 NLL at epoch 50, ~76.1423 NLL at epoch 200;\n",
        "\n",
        "This takes about ~13s/epoch on a Titan X (Pascal).\n",
        "\n",
        "If you're impatient and just instantly want to know what that gets you, after 200 epochs, we should be getting samples like the following:\n",
        "```\n",
        "e the classmaker was cut apart rome the charts sometimes known a\n",
        "hemical place baining examples of equipment accepted manner clas\n",
        "uetean meeting sought to exist as this waiting an excerpt for of\n",
        "erally enjoyed a film writer of unto one two volunteer humphrey\n",
        "y captured by the saughton river goodness where stones were nota\n",
        "```"
      ]
    },
    {
      "metadata": {
        "id": "ClQMQoawRd6G",
        "colab_type": "text"
      },
      "cell_type": "markdown",
      "source": [
        "### Variants on Long Short Term Memory\n",
        "What I’ve described so far is a pretty normal LSTM. But not all LSTMs are the same as the above. In fact, it seems like almost every paper involving LSTMs uses a slightly different version. The differences are minor, but it’s worth mentioning some of them.\n",
        "\n",
        "One popular LSTM variant, introduced by Gers & Schmidhuber (2000), is adding “peephole connections.” This means that we let the gate layers look at the cell state.\n",
        "\n",
        "<img src=\"http://colah.github.io/posts/2015-08-Understanding-LSTMs/img/LSTM3-var-peepholes.png\" width=\"600\">\n",
        "\n",
        "The above diagram adds peepholes to all the gates, but many papers will give some peepholes and not others.\n",
        "\n",
        "Another variation is to use coupled forget and input gates. Instead of separately deciding what to forget and what we should add new information to, we make those decisions together. We only forget when we’re going to input something in its place. We only input new values to the state when we forget something older.\n",
        "\n",
        "<img src=\"http://colah.github.io/posts/2015-08-Understanding-LSTMs/img/LSTM3-var-tied.png\" width=\"600\">\n",
        "\n",
        "A slightly more dramatic variation on the LSTM is the Gated Recurrent Unit, or GRU, introduced by Cho, et al. (2014). It combines the forget and input gates into a single “update gate.” It also merges the cell state and hidden state, and makes some other changes. The resulting model is simpler than standard LSTM models, and has been growing increasingly popular.\n",
        "\n",
        "<img src=\"http://colah.github.io/posts/2015-08-Understanding-LSTMs/img/LSTM3-var-GRU.png\" width=\"600\">\n",
        "\n",
        "A gated recurrent unit neural network.\n",
        "These are only a few of the most notable LSTM variants. There are lots of others, like Depth Gated RNNs by Yao, et al. (2015). There’s also some completely different approach to tackling long-term dependencies, like Clockwork RNNs by Koutnik, et al. (2014).\n",
        "\n",
        "Which of these variants is best? Do the differences matter? Greff, et al. (2015) do a nice comparison of popular variants, finding that they’re all about the same. Jozefowicz, et al. (2015) tested more than ten thousand RNN architectures, finding some that worked better than LSTMs on certain tasks."
      ]
    },
    {
      "metadata": {
        "id": "_HNye143Rd6G",
        "colab_type": "text"
      },
      "cell_type": "markdown",
      "source": [
        "### Conclusions\n",
        "Earlier, I mentioned the remarkable results people are achieving with RNNs. Essentially all of these are achieved using LSTMs. They really work a lot better for most tasks!\n",
        "\n",
        "Written down as a set of equations, LSTMs look pretty intimidating. Hopefully, walking through them step by step in this essay has made them a bit more approachable.\n",
        "\n",
        "LSTMs were a big step in what we can accomplish with RNNs. It’s natural to wonder: is there another big step? A common opinion among researchers is: “Yes! There is a next step and it’s attention!” The idea is to let every step of an RNN pick information to look at from some larger collection of information. For example, if you are using an RNN to create a caption describing an image, it might pick a part of the image to look at for every word it outputs. In fact, Xu, et al. (2015) do exactly this – it might be a fun starting point if you want to explore attention! There’s been a number of really exciting results using attention, and it seems like a lot more are around the corner…\n",
        "\n",
        "Attention isn’t the only exciting thread in RNN research. For example, Grid LSTMs by Kalchbrenner, et al. (2015) seem extremely promising. Work using RNNs in generative models – such as Gregor, et al. (2015), Chung, et al. (2015), or Bayer & Osendorfer (2015) – also seems very interesting. The last few years have been an exciting time for recurrent neural networks, and the coming ones promise to only be more so!"
      ]
    },
    {
      "metadata": {
        "id": "20VCfdbBRd6G",
        "colab_type": "text"
      },
      "cell_type": "markdown",
      "source": [
        "## References\n",
        "\n",
        "[1] https://colah.github.io/posts/2015-08-Understanding-LSTMs/\n",
        "\n",
        "[2] https://karpathy.github.io/2015/05/21/rnn-effectiveness/\n",
        "\n",
        "[3] http://people.idsia.ch/~juergen/SeppHochreiter1991ThesisAdvisorSchmidhuber.pdf\n",
        "\n",
        "[4] http://www.bioinf.jku.at/publications/older/2604.pdf\n",
        "\n",
        "[5] ftp://ftp.idsia.ch/pub/juergen/TimeCount-IJCNN2000.pdf\n",
        "\n",
        "[6] https://arxiv.org/pdf/1406.1078v3.pdf\n",
        "\n",
        "[7] https://arxiv.org/pdf/1508.03790v2.pdf\n",
        "\n",
        "[8] https://arxiv.org/pdf/1402.3511v1.pdf\n",
        "\n",
        "[9] https://arxiv.org/pdf/1503.04069.pdf\n",
        "\n",
        "[10] http://proceedings.mlr.press/v37/jozefowicz15.pdf\n",
        "\n",
        "[11] https://arxiv.org/pdf/1502.03044v2.pdf\n",
        "\n",
        "[12] https://arxiv.org/pdf/1507.01526v1.pdf\n",
        "\n",
        "[13] https://arxiv.org/pdf/1502.04623.pdf\n",
        "\n",
        "[14] https://arxiv.org/pdf/1502.04623.pdf\n",
        "\n",
        "[15] https://arxiv.org/pdf/1411.7610v3.pdf"
      ]
    },
    {
      "metadata": {
        "id": "XS21078URd6H",
        "colab_type": "code",
        "colab": {}
      },
      "cell_type": "code",
      "source": [
        "from IPython.core.display import HTML\n",
        "def css_styling():\n",
        "    styles = open(\"../styles/custom.css\", \"r\").read()\n",
        "    return HTML(styles)\n",
        "css_styling()"
      ],
      "execution_count": 0,
      "outputs": []
    }
  ]
}