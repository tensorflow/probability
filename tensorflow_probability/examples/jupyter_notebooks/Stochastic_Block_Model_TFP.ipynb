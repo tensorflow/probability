{
  "nbformat": 4,
  "nbformat_minor": 0,
  "metadata": {
    "colab": {
      "name": "Stochastic_Block_Model_TFP.ipynb",
      "version": "0.3.2",
      "provenance": [],
      "collapsed_sections": []
    },
    "kernelspec": {
      "display_name": "Python 3",
      "language": "python",
      "name": "python3"
    }
  },
  "cells": [
    {
      "metadata": {
        "id": "1PeqMlDRWrSV",
        "colab_type": "text"
      },
      "cell_type": "markdown",
      "source": [
        "##### Copyright 2018 The TensorFlow Authors.\n",
        "\n",
        "Licensed under the Apache License, Version 2.0 (the \"License\");"
      ]
    },
    {
      "metadata": {
        "id": "iXfx7eO4WrHc",
        "colab_type": "code",
        "colab": {}
      },
      "cell_type": "code",
      "source": [
        "#@title Licensed under the Apache License, Version 2.0 (the \"License\"); { display-mode: \"form\" }\n",
        "# you may not use this file except in compliance with the License.\n",
        "# You may obtain a copy of the License at\n",
        "#\n",
        "# https://www.apache.org/licenses/LICENSE-2.0\n",
        "#\n",
        "# Unless required by applicable law or agreed to in writing, software\n",
        "# distributed under the License is distributed on an \"AS IS\" BASIS,\n",
        "# WITHOUT WARRANTIES OR CONDITIONS OF ANY KIND, either express or implied.\n",
        "# See the License for the specific language governing permissions and\n",
        "# limitations under the License."
      ],
      "execution_count": 0,
      "outputs": []
    },
    {
      "metadata": {
        "id": "Y7o7FF9yRqG2",
        "colab_type": "text"
      },
      "cell_type": "markdown",
      "source": [
        "# Stochastic Block Model with TFP\n",
        "\n",
        "<table class=\"tfo-notebook-buttons\" align=\"left\">\n",
        "  <td>\n",
        "    <a target=\"_blank\" href=\"https://colab.research.google.com/github/tensorflow/probability/blob/master/tensorflow_probability/examples/jupyter_notebooks/deep_exponential_family_with_tfp.ipynb\"><img height=\"32px\" src=\"https://colab.research.google.com/img/colab_favicon.ico\" />Run in Google Colab</a>\n",
        "  </td>\n",
        "  <td>\n",
        "    <a target=\"_blank\" href=\"https://github.com/tensorflow/probability/blob/master/tensorflow_probability/examples/jupyter_notebooks/deep_exponential_family_with_tfp.ipynb\"><img src=\"https://www.tensorflow.org/images/GitHub-Mark-32px.png\" />View source on GitHub</a>\n",
        "  </td>\n",
        "</table>\n",
        "<br>\n",
        "<br>\n",
        "<br>\n",
        "\n",
        "\n",
        "Original content [this Repository](https://github.com/blei-lab/edward/blob/master/examples/stochastic_block_model.py), created by [the Blei Lab](http://www.cs.columbia.edu/~blei/)\n",
        "\n",
        "Ported to [Tensorflow Probability](https://www.tensorflow.org/probability/) by Matthew McAteer ([`@MatthewMcAteer0`](https://twitter.com/MatthewMcAteer0)), with help from Bryan Seybold, Mike Shwe ([`@mikeshwe`](https://twitter.com/mikeshwe)), Josh Dillon, and the rest of the TFP team at  Google ([`tfprobability@tensorflow.org`](mailto:tfprobability@tensorflow.org)).\n",
        "\n",
        "---\n",
        "\n",
        "- Dependencies & Prerequisites\n",
        "  - Data & parameters\n",
        "  - Model\n",
        "  - Define the MAP loss\n",
        "  - Inference\n",
        "- References"
      ]
    },
    {
      "metadata": {
        "id": "C20bDrJTbYMs",
        "colab_type": "text"
      },
      "cell_type": "markdown",
      "source": [
        "## Dependencies & Prerequisites\n",
        "\n",
        "<div class=\"alert alert-success\">\n",
        "    Tensorflow Probability is part of the colab default runtime, <b>so you don't need to install Tensorflow or Tensorflow Probability if you're running this in the colab</b>. \n",
        "    <br>\n",
        "    If you're running this notebook in Jupyter on your own machine (and you have already installed Tensorflow), you can use the following\n",
        "    <br>\n",
        "      <ul>\n",
        "    <li> For the most recent nightly installation: <code>pip3 install -q tfp-nightly</code></li>\n",
        "    <li> For the most recent stable TFP release: <code>pip3 install -q --upgrade tensorflow-probability</code></li>\n",
        "    <li> For the most recent stable GPU-connected version of TFP: <code>pip3 install -q --upgrade tensorflow-probability-gpu</code></li>\n",
        "    <li> For the most recent nightly GPU-connected version of TFP: <code>pip3 install -q tfp-nightly-gpu</code></li>\n",
        "    </ul>\n",
        "Again, if you are running this in a Colab, Tensorflow and TFP are already installed\n",
        "</div>"
      ]
    },
    {
      "metadata": {
        "id": "Q9eVQSzYRqG5",
        "colab_type": "code",
        "colab": {}
      },
      "cell_type": "code",
      "source": [
        "#@title Imports and Global Variables  { display-mode: \"form\" }\n",
        "!pip3 install -q observations\n",
        "from __future__ import absolute_import, division, print_function\n",
        "\n",
        "#@markdown This sets the warning status (default is `ignore`, since this notebook runs correctly)\n",
        "warning_status = \"ignore\" #@param [\"ignore\", \"always\", \"module\", \"once\", \"default\", \"error\"]\n",
        "import warnings\n",
        "warnings.filterwarnings(warning_status)\n",
        "with warnings.catch_warnings():\n",
        "    warnings.filterwarnings(warning_status, category=DeprecationWarning)\n",
        "    warnings.filterwarnings(warning_status, category=UserWarning)\n",
        "\n",
        "import numpy as np\n",
        "import string\n",
        "from datetime import datetime\n",
        "import os\n",
        "#@markdown This sets the styles of the plotting (default is styled like plots from [FiveThirtyeight.com](https://fivethirtyeight.com/))\n",
        "matplotlib_style = 'fivethirtyeight' #@param ['fivethirtyeight', 'bmh', 'ggplot', 'seaborn', 'default', 'Solarize_Light2', 'classic', 'dark_background', 'seaborn-colorblind', 'seaborn-notebook']\n",
        "import matplotlib.pyplot as plt; plt.style.use(matplotlib_style)\n",
        "import matplotlib.axes as axes;\n",
        "from matplotlib.patches import Ellipse\n",
        "%matplotlib inline\n",
        "import seaborn as sns; sns.set_context('notebook')\n",
        "from IPython.core.pylabtools import figsize\n",
        "#@markdown This sets the resolution of the plot outputs (`retina` is the highest resolution)\n",
        "notebook_screen_res = 'retina' #@param ['retina', 'png', 'jpeg', 'svg', 'pdf']\n",
        "%config InlineBackend.figure_format = notebook_screen_res\n",
        "\n",
        "import tensorflow as tf\n",
        "tfe = tf.contrib.eager\n",
        "\n",
        "# Eager Execution\n",
        "#@markdown Check the box below if you want to use [Eager Execution](https://www.tensorflow.org/guide/eager)\n",
        "#@markdown Eager execution provides An intuitive interface, Easier debugging, and a control flow comparable to Numpy. You can read more about it on the [Google AI Blog](https://ai.googleblog.com/2017/10/eager-execution-imperative-define-by.html)\n",
        "use_tf_eager = False #@param {type:\"boolean\"}\n",
        "\n",
        "# Use try/except so we can easily re-execute the whole notebook.\n",
        "if use_tf_eager:\n",
        "  try:\n",
        "    tf.enable_eager_execution()\n",
        "  except:\n",
        "    pass\n",
        "\n",
        "import tensorflow_probability as tfp\n",
        "tfd = tfp.distributions\n",
        "tfb = tfp.bijectors\n",
        "\n",
        "  \n",
        "def evaluate(tensors):\n",
        "  \"\"\"Evaluates Tensor or EagerTensor to Numpy `ndarray`s.\n",
        "  Args:\n",
        "  tensors: Object of `Tensor` or EagerTensor`s; can be `list`, `tuple`,\n",
        "    `namedtuple` or combinations thereof.\n",
        " \n",
        "  Returns:\n",
        "    ndarrays: Object with same structure as `tensors` except with `Tensor` or\n",
        "      `EagerTensor`s replaced by Numpy `ndarray`s.\n",
        "  \"\"\"\n",
        "  if tf.executing_eagerly():\n",
        "    return tf.contrib.framework.nest.pack_sequence_as(\n",
        "        tensors,\n",
        "        [t.numpy() if tf.contrib.framework.is_tensor(t) else t\n",
        "         for t in tf.contrib.framework.nest.flatten(tensors)])\n",
        "  return sess.run(tensors)\n",
        "\n",
        "class _TFColor(object):\n",
        "    \"\"\"Enum of colors used in TF docs.\"\"\"\n",
        "    red = '#F15854'\n",
        "    blue = '#5DA5DA'\n",
        "    orange = '#FAA43A'\n",
        "    green = '#60BD68'\n",
        "    pink = '#F17CB0'\n",
        "    brown = '#B2912F'\n",
        "    purple = '#B276B2'\n",
        "    yellow = '#DECF3F'\n",
        "    gray = '#4D4D4D'\n",
        "    def __getitem__(self, i):\n",
        "        return [\n",
        "            self.red,\n",
        "            self.orange,\n",
        "            self.green,\n",
        "            self.blue,\n",
        "            self.pink,\n",
        "            self.brown,\n",
        "            self.purple,\n",
        "            self.yellow,\n",
        "            self.gray,\n",
        "        ][i % 9]\n",
        "TFColor = _TFColor()\n",
        "\n",
        "def session_options(enable_gpu_ram_resizing=True, enable_xla=True):\n",
        "    \"\"\"\n",
        "    Allowing the notebook to make use of GPUs if they're available.\n",
        "    \n",
        "    XLA (Accelerated Linear Algebra) is a domain-specific compiler for linear \n",
        "    algebra that optimizes TensorFlow computations.\n",
        "    \"\"\"\n",
        "    config = tf.ConfigProto()\n",
        "    config.log_device_placement = True\n",
        "    if enable_gpu_ram_resizing:\n",
        "        # `allow_growth=True` makes it possible to connect multiple colabs to your\n",
        "        # GPU. Otherwise the colab malloc's all GPU ram.\n",
        "        config.gpu_options.allow_growth = True\n",
        "    if enable_xla:\n",
        "        # Enable on XLA. https://www.tensorflow.org/performance/xla/.\n",
        "        config.graph_options.optimizer_options.global_jit_level = (\n",
        "            tf.OptimizerOptions.ON_1)\n",
        "    return config\n",
        "\n",
        "\n",
        "def reset_sess(config=None):\n",
        "    \"\"\"\n",
        "    Convenience function to create the TF graph & session or reset them.\n",
        "    \"\"\"\n",
        "    if config is None:\n",
        "        config = session_options()\n",
        "    global sess\n",
        "    tf.reset_default_graph()\n",
        "    try:\n",
        "        sess.close()\n",
        "    except:\n",
        "        pass\n",
        "    sess = tf.InteractiveSession(config=config)\n",
        "\n",
        "reset_sess()\n",
        "\n",
        "from sklearn.metrics.cluster import adjusted_rand_score\n",
        "from observations.util import maybe_download_and_extract\n",
        "from observations.karate import karate\n",
        "import networkx as nx"
      ],
      "execution_count": 0,
      "outputs": []
    },
    {
      "metadata": {
        "id": "QkCvgd12UFkH",
        "colab_type": "text"
      },
      "cell_type": "markdown",
      "source": [
        "## Introduction\n",
        "\n",
        "The stochastic block model  (also known as a \"Block-stochastic matrix\")is a generative model for random graphs. This model tends to produce graphs containing communities, subsets characterized by being connected with one another with particular edge densities. For example, edges may be more common within communities than between communities. The stochastic block model is important in statistics, machine learning, and network science, where it serves as a useful benchmark for the task of recovering community structure in graph data.\n",
        "\n",
        "The model itself is made up of the following pieces:\n",
        "\n",
        "- **each vertex $i$ has type $z_i \\in \\{1,...,k\\}$ ($k$ vertex types or groups)**\n",
        "- **stochastic block matrix $M$ of group-level connection probabilities**\n",
        "- **probability that $i, j$ are connected = $M_{z_i, z_j}$**\n",
        "\n",
        "From this, we define a community as being **vertices with the same pattern of inter-community connections**.\n"
      ]
    },
    {
      "metadata": {
        "id": "PhTEnVvmRqG-",
        "colab_type": "text"
      },
      "cell_type": "markdown",
      "source": [
        "### Data & parameters"
      ]
    },
    {
      "metadata": {
        "id": "F_4Ng4oB5Bw-",
        "colab_type": "text"
      },
      "cell_type": "markdown",
      "source": [
        "Load Zachary's Karate Club [@zachary1977information].  It is a social network of friendships between 34 members of a karate club at a US university from 1970 to 1972. During the study a conflict between instructor 'Mr. Hi' and administrator 'Officer' led the club to split into two. Half of the members formed a new club around 'Mr.  Hi'; other members found a new instructor or quit karate."
      ]
    },
    {
      "metadata": {
        "id": "TTe5oqLSSZPo",
        "colab_type": "code",
        "colab": {}
      },
      "cell_type": "code",
      "source": [
        "def karate(path):\n",
        "  path = os.path.expanduser(path)\n",
        "  filename = 'ucidata-zachary/out.ucidata-zachary'\n",
        "  if not os.path.exists(os.path.join(path, filename)):\n",
        "    url = 'http://konect.uni-koblenz.de/downloads/tsv/ucidata-zachary.tar.bz2'\n",
        "    maybe_download_and_extract(path, url)\n",
        "\n",
        "  node_order = [str(i) for i in range(1, 35)]\n",
        "  x_train = nx.read_edgelist(os.path.join(path, filename), comments='%')\n",
        "  x_train = nx.to_numpy_matrix(x_train, node_order).astype(int)\n",
        "  labels = [0, 1, 2, 3, 4, 5, 6, 7, 8, 10, 11, 12, 13, 16, 17, 19, 21]\n",
        "  y_train = np.array([0 if i in labels else 1\n",
        "                      for i in range(x_train.shape[0])], dtype=np.int)\n",
        "  return x_train, y_train"
      ],
      "execution_count": 0,
      "outputs": []
    },
    {
      "metadata": {
        "id": "mYu3-FJ_RqG_",
        "colab_type": "code",
        "outputId": "737d8200-67f2-4169-eab5-83fd1e1c15f1",
        "colab": {
          "base_uri": "https://localhost:8080/",
          "height": 122
        }
      },
      "cell_type": "code",
      "source": [
        "#@title Hyperparameters\n",
        "\n",
        "# Set seed. Remove this line to generate different mixtures!\n",
        "tf.set_random_seed(77)\n",
        "\n",
        "#@markdown Source of Data\n",
        "X_data, Z_true = karate(\"~/data\") #@param {type:\"raw\"}\n",
        "#@markdown number of vertices\n",
        "N = X_data.shape[0]               #@param {type:\"raw\"} \n",
        "#@markdown number of clusters\n",
        "K = 2                             #@param {type:\"number\"} \n",
        "#@markdown learning rate for optimizer\n",
        "learning_rate = 1e-7              #@param {type:\"number\"}\n",
        "#@markdown Number of steps for Optimizer\n",
        "max_steps = 250                   #@param {type:\"number\"}\n"
      ],
      "execution_count": 0,
      "outputs": [
        {
          "output_type": "stream",
          "text": [
            ">> Downloading /root/data/ucidata-zachary.tar.bz2.part \n",
            ">> [1.8 KB/1.8 KB] 56103% @3.4 MB/s,[0s remaining, 0s elapsed]        \n",
            "URL http://konect.uni-koblenz.de/downloads/tsv/ucidata-zachary.tar.bz2 downloaded to /root/data/ucidata-zachary.tar.bz2 \n"
          ],
          "name": "stdout"
        },
        {
          "output_type": "stream",
          "text": [
            "/usr/local/lib/python3.6/dist-packages/observations/util.py:601: ResourceWarning: unclosed <socket.socket fd=59, family=AddressFamily.AF_INET, type=SocketKind.SOCK_STREAM, proto=6, laddr=('172.28.0.2', 51754), raddr=('141.26.208.254', 80)>\n",
            "  download_file(url, filepath, hash_true, resume)\n"
          ],
          "name": "stderr"
        }
      ]
    },
    {
      "metadata": {
        "id": "-wVVUlMIRqHF",
        "colab_type": "text"
      },
      "cell_type": "markdown",
      "source": [
        "### Model"
      ]
    },
    {
      "metadata": {
        "id": "_l9A80WkgWc4",
        "colab_type": "code",
        "colab": {}
      },
      "cell_type": "code",
      "source": [
        "gamma = tfd.Dirichlet(name=\"gamma\", concentration=tf.ones([K]))\n",
        "Pi = tfd.Beta(name=\"Pi\", \n",
        "              concentration0=tf.ones([K, K]), \n",
        "              concentration1=tf.ones([K, K])\n",
        "             )\n",
        "Z = tfd.Multinomial(name=\"Z\", \n",
        "                    total_count=tf.fill([N], 1.0), \n",
        "                    probs=gamma.sample()\n",
        "                   )\n",
        "X = tfd.Bernoulli(name=\"X\", probs=tf.matmul(Z.sample(),\n",
        "                                            tf.matmul(\n",
        "                                                Pi.sample(),\n",
        "                                                tf.transpose(Z.sample())\n",
        "                                            )\n",
        "                                           ) \n",
        "                 )"
      ],
      "execution_count": 0,
      "outputs": []
    },
    {
      "metadata": {
        "id": "LiFbEKyMRqHJ",
        "colab_type": "text"
      },
      "cell_type": "markdown",
      "source": [
        "### Inference (EM Algorithm)"
      ]
    },
    {
      "metadata": {
        "id": "Hfgg9WCLRqHK",
        "colab_type": "code",
        "colab": {}
      },
      "cell_type": "code",
      "source": [
        "qgamma = tfd.Deterministic(tf.nn.softmax(tf.get_variable(\"qgamma/loc\", [K])))\n",
        "qPi = tfd.Deterministic(tf.nn.sigmoid(tf.get_variable(\"qPi/loc\", [K, K])))\n",
        "qZ = tfd.Deterministic(tf.nn.softmax(tf.get_variable(\"qZ/loc\", [N, K])))"
      ],
      "execution_count": 0,
      "outputs": []
    },
    {
      "metadata": {
        "id": "4C-3rIfnvjE4",
        "colab_type": "code",
        "colab": {}
      },
      "cell_type": "code",
      "source": [
        "#inference = ed.MAP({gamma: qgamma, Pi: qPi, Z: qZ}, data={X: X_data})\n",
        "\n",
        "log_prob = tf.reduce_sum(gamma.log_prob(qgamma.mean()))\n",
        "log_prob += tf.reduce_sum(Pi.log_prob(qPi.mean()))\n",
        "log_prob += tf.reduce_sum(Z.log_prob(qZ.mean()))\n",
        "log_prob = tf.reduce_sum(X.log_prob(X_data))\n",
        "#reg_penalty = tf.reduce_sum(tf.losses.get_regularization_losses())\n",
        "loss = -log_prob #+ reg_penalty"
      ],
      "execution_count": 0,
      "outputs": []
    },
    {
      "metadata": {
        "id": "1YyceYvP0Wgl",
        "colab_type": "code",
        "outputId": "1ddb37d4-67c3-4fbe-d846-6e8f640e089e",
        "colab": {
          "base_uri": "https://localhost:8080/",
          "height": 102
        }
      },
      "cell_type": "code",
      "source": [
        "optimizer = tf.train.AdamOptimizer(learning_rate=learning_rate)\n",
        "train_op = optimizer.minimize(loss)\n",
        "\n",
        "print(\"Number of sets of parameters: {}\".format(\n",
        "      len(tf.trainable_variables())))\n",
        "print(\"Number of parameters: {}\".format(\n",
        "      np.sum([np.prod(v.shape.as_list()) for v in tf.trainable_variables()])))\n",
        "for v in tf.trainable_variables():\n",
        "    print(v)\n"
      ],
      "execution_count": 0,
      "outputs": [
        {
          "output_type": "stream",
          "text": [
            "Number of sets of parameters: 3\n",
            "Number of parameters: 74\n",
            "<tf.Variable 'qgamma/loc:0' shape=(2,) dtype=float32_ref>\n",
            "<tf.Variable 'qPi/loc:0' shape=(2, 2) dtype=float32_ref>\n",
            "<tf.Variable 'qZ/loc:0' shape=(34, 2) dtype=float32_ref>\n"
          ],
          "name": "stdout"
        }
      ]
    },
    {
      "metadata": {
        "id": "SneZF9ZBCyyV",
        "colab_type": "text"
      },
      "cell_type": "markdown",
      "source": [
        "We can now run our inference."
      ]
    },
    {
      "metadata": {
        "id": "6u4lirGp0Ukw",
        "colab_type": "code",
        "outputId": "e25de533-2dc9-4faf-d064-73459511e627",
        "colab": {
          "base_uri": "https://localhost:8080/",
          "height": 442
        }
      },
      "cell_type": "code",
      "source": [
        "num_iters = int(max_steps)\n",
        "losses_ = np.zeros([num_iters + 1])\n",
        "\n",
        "evaluate(tf.global_variables_initializer())\n",
        "for iter_ in range(num_iters):\n",
        "    [\n",
        "        _,\n",
        "        losses_[iter_],\n",
        "    ] = evaluate([\n",
        "        train_op,\n",
        "        loss,\n",
        "    ])\n",
        "\n",
        "    if (iter_ % 10) == 0:\n",
        "        print('iter:{:>2}  loss:{: 9.3f}'.format(\n",
        "                  iter_, losses_[iter_]))\n"
      ],
      "execution_count": 0,
      "outputs": [
        {
          "output_type": "stream",
          "text": [
            "iter: 0  loss:   22.937\n",
            "iter:10  loss:   31.655\n",
            "iter:20  loss:   15.835\n",
            "iter:30  loss:   22.622\n",
            "iter:40  loss:   26.888\n",
            "iter:50  loss:   17.865\n",
            "iter:60  loss:   22.094\n",
            "iter:70  loss:   26.373\n",
            "iter:80  loss:   28.508\n",
            "iter:90  loss:   27.528\n",
            "iter:100  loss:   24.817\n",
            "iter:110  loss:   34.020\n",
            "iter:120  loss:   15.728\n",
            "iter:130  loss:   37.913\n",
            "iter:140  loss:   16.034\n",
            "iter:150  loss:   35.005\n",
            "iter:160  loss:   22.139\n",
            "iter:170  loss:   18.754\n",
            "iter:180  loss:   15.843\n",
            "iter:190  loss:   16.933\n",
            "iter:200  loss:   17.609\n",
            "iter:210  loss:   31.664\n",
            "iter:220  loss:   20.496\n",
            "iter:230  loss:   16.141\n",
            "iter:240  loss:   16.527\n"
          ],
          "name": "stdout"
        }
      ]
    },
    {
      "metadata": {
        "id": "r8kIuWkbDC7m",
        "colab_type": "code",
        "outputId": "5c13d268-77d9-4022-f767-fec5c9342421",
        "colab": {
          "base_uri": "https://localhost:8080/",
          "height": 378
        }
      },
      "cell_type": "code",
      "source": [
        "plt.plot(losses_)\n",
        "plt.ylabel('losses')\n",
        "plt.xlabel('iteration')"
      ],
      "execution_count": 0,
      "outputs": [
        {
          "output_type": "execute_result",
          "data": {
            "text/plain": [
              "Text(0.5,0,'iteration')"
            ]
          },
          "metadata": {
            "tags": []
          },
          "execution_count": 10
        },
        {
          "output_type": "display_data",
          "data": {
            "image/png": "[encoded data removed]",
            "text/plain": [
              "<matplotlib.figure.Figure at 0x7fc6b34fc630>"
            ]
          },
          "metadata": {
            "tags": [],
            "image/png": {
              "width": 553,
              "height": 344
            }
          }
        }
      ]
    },
    {
      "metadata": {
        "id": "4CFb6Mr3RqHM",
        "colab_type": "text"
      },
      "cell_type": "markdown",
      "source": [
        "### Criticism\n",
        "\n",
        "We can then criticize our model using a Rand index adjusted for chance.\n",
        "\n",
        "The Rand Index computes a similarity measure between two clusterings by considering all pairs of samples and counting pairs that are assigned in the same or different clusters in the predicted and true clusterings.\n",
        "\n",
        "The raw RI score is then “adjusted for chance” into the ARI score using the following scheme:\n",
        "```python\n",
        "ARI = (RI - Expected_RI) / (max(RI) - Expected_RI)\n",
        "```\n",
        "The adjusted Rand index is thus ensured to have a value close to 0.0 for random labeling independently of the number of clusters and samples and exactly 1.0 when the clusterings are identical (up to a permutation)."
      ]
    },
    {
      "metadata": {
        "id": "jGH6sfeGRqHN",
        "colab_type": "code",
        "outputId": "7f41a303-d44c-4c93-ee44-db604f1bbc96",
        "colab": {
          "base_uri": "https://localhost:8080/",
          "height": 153
        }
      },
      "cell_type": "code",
      "source": [
        "Z_pred = tf.math.argmax(\n",
        "    qZ.mean(),\n",
        "    axis=1,\n",
        "    name=\"Z_pred\")\n",
        "Z_pred_ = evaluate(Z_pred)\n",
        "print(\"Result (label flip can happen):\")\n",
        "print(\"Predicted\\n{}\\n\".format(Z_pred_))\n",
        "print(\"True\\n{}\\n\".format(Z_true))\n",
        "print(\"Adjusted Rand Index =\", adjusted_rand_score(Z_pred_, Z_true))"
      ],
      "execution_count": 0,
      "outputs": [
        {
          "output_type": "stream",
          "text": [
            "Result (label flip can happen):\n",
            "Predicted\n",
            "[0 1 0 1 0 0 1 1 1 0 1 1 1 0 0 1 1 0 0 1 0 0 1 0 0 1 1 0 1 0 1 1 1 0]\n",
            "\n",
            "True\n",
            "[0 0 0 0 0 0 0 0 0 1 0 0 0 0 1 1 0 0 1 0 1 0 1 1 1 1 1 1 1 1 1 1 1 1]\n",
            "\n",
            "Adjusted Rand Index = -0.016866688290626087\n"
          ],
          "name": "stdout"
        }
      ]
    },
    {
      "metadata": {
        "id": "b01hM5xjRqHR",
        "colab_type": "text"
      },
      "cell_type": "markdown",
      "source": [
        "## References\n",
        "\n",
        "[1] Tran, Dustin, et al. \"Edward: A Library for Probabilistic Modeling.\" Inference, and Criticism (2016)."
      ]
    },
    {
      "metadata": {
        "id": "sw0ybMH8RqHS",
        "colab_type": "code",
        "colab": {}
      },
      "cell_type": "code",
      "source": [
        "from IPython.core.display import HTML\n",
        "def css_styling():\n",
        "    styles = open(\"../styles/custom.css\", \"r\").read()\n",
        "    return HTML(styles)\n",
        "css_styling()"
      ],
      "execution_count": 0,
      "outputs": []
    }
  ]
}