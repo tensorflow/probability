{
  "nbformat": 4,
  "nbformat_minor": 0,
  "metadata": {
    "colab": {
      "name": "Rasch_Model_TFP.ipynb",
      "version": "0.3.2",
      "provenance": [],
      "collapsed_sections": []
    },
    "kernelspec": {
      "display_name": "Python 3",
      "language": "python",
      "name": "python3"
    }
  },
  "cells": [
    {
      "metadata": {
        "id": "LhEg5wk7tPRW",
        "colab_type": "text"
      },
      "cell_type": "markdown",
      "source": [
        "##### Copyright 2018 The TensorFlow Authors.\n",
        "\n",
        "Licensed under the Apache License, Version 2.0 (the \"License\");"
      ]
    },
    {
      "metadata": {
        "id": "IIFb83DWtPCP",
        "colab_type": "code",
        "colab": {}
      },
      "cell_type": "code",
      "source": [
        "#@title Licensed under the Apache License, Version 2.0 (the \"License\"); { display-mode: \"form\" }\n",
        "# you may not use this file except in compliance with the License.\n",
        "# You may obtain a copy of the License at\n",
        "#\n",
        "# https://www.apache.org/licenses/LICENSE-2.0\n",
        "#\n",
        "# Unless required by applicable law or agreed to in writing, software\n",
        "# distributed under the License is distributed on an \"AS IS\" BASIS,\n",
        "# WITHOUT WARRANTIES OR CONDITIONS OF ANY KIND, either express or implied.\n",
        "# See the License for the specific language governing permissions and\n",
        "# limitations under the License."
      ],
      "execution_count": 0,
      "outputs": []
    },
    {
      "metadata": {
        "id": "NuXdIcCQRXQf",
        "colab_type": "text"
      },
      "cell_type": "markdown",
      "source": [
        "# Rasch Model [(Rasch, 1960)](https://en.wikipedia.org/wiki/Rasch_model) with TFP\n",
        "\n",
        "<table class=\"tfo-notebook-buttons\" align=\"left\">\n",
        "  <td>\n",
        "    <a target=\"_blank\" href=\"https://colab.research.google.com/github/tensorflow/probability/blob/master/tensorflow_probability/examples/jupyter_notebooks/deep_exponential_family_with_tfp.ipynb\"><img height=\"32px\" src=\"https://colab.research.google.com/img/colab_favicon.ico\" />Run in Google Colab</a>\n",
        "  </td>\n",
        "  <td>\n",
        "    <a target=\"_blank\" href=\"https://github.com/tensorflow/probability/blob/master/tensorflow_probability/examples/jupyter_notebooks/deep_exponential_family_with_tfp.ipynb\"><img src=\"https://www.tensorflow.org/images/GitHub-Mark-32px.png\" />View source on GitHub</a>\n",
        "  </td>\n",
        "</table>\n",
        "<br>\n",
        "<br>\n",
        "<br>\n",
        "\n",
        "Original content [this Repository](https://github.com/blei-lab/edward/blob/master/examples/rasch_model.py), created by [the Blei Lab](http://www.cs.columbia.edu/~blei/)\n",
        "\n",
        "Ported to [Tensorflow Probability](https://www.tensorflow.org/probability/) by Matthew McAteer ([`@MatthewMcAteer0`](https://twitter.com/MatthewMcAteer0)), with help from Bryan Seybold, Mike Shwe ([`@mikeshwe`](https://twitter.com/mikeshwe)), Josh Dillon, and the rest of the TFP team at  Google ([`tfprobability@tensorflow.org`](mailto:tfprobability@tensorflow.org)).\n",
        "\n",
        "---\n",
        "\n",
        "- Dependencies & Prerequisites\n",
        "- Introduction\n",
        "  - Data\n",
        "  - Model\n",
        "  - Inference\n",
        "  - Criticism\n",
        "- References"
      ]
    },
    {
      "metadata": {
        "id": "p_Abm18-RSuj",
        "colab_type": "text"
      },
      "cell_type": "markdown",
      "source": [
        "## Dependencies & Prerequisites\n",
        "\n",
        "<div class=\"alert alert-success\">\n",
        "    Tensorflow Probability is part of the colab default runtime, <b>so you don't need to install Tensorflow or Tensorflow Probability if you're running this in the colab</b>. \n",
        "    <br>\n",
        "    If you're running this notebook in Jupyter on your own machine (and you have already installed Tensorflow), you can use the following\n",
        "    <br>\n",
        "      <ul>\n",
        "    <li> For the most recent nightly installation: <code>pip3 install -q tfp-nightly</code></li>\n",
        "    <li> For the most recent stable TFP release: <code>pip3 install -q --upgrade tensorflow-probability</code></li>\n",
        "    <li> For the most recent stable GPU-connected version of TFP: <code>pip3 install -q --upgrade tensorflow-probability-gpu</code></li>\n",
        "    <li> For the most recent nightly GPU-connected version of TFP: <code>pip3 install -q tfp-nightly-gpu</code></li>\n",
        "    </ul>\n",
        "Again, if you are running this in a Colab, Tensorflow and TFP are already installed\n",
        "</div>"
      ]
    },
    {
      "metadata": {
        "id": "7n9sHPFKRXQg",
        "colab_type": "code",
        "colab": {}
      },
      "cell_type": "code",
      "source": [
        "#@title Imports and Global Variables  { display-mode: \"form\" }\n",
        "!pip3 install -q observations\n",
        "from __future__ import absolute_import, division, print_function\n",
        "\n",
        "#@markdown This sets the warning status (default is `ignore`, since this notebook runs correctly)\n",
        "warning_status = \"ignore\" #@param [\"ignore\", \"always\", \"module\", \"once\", \"default\", \"error\"]\n",
        "import warnings\n",
        "warnings.filterwarnings(warning_status)\n",
        "with warnings.catch_warnings():\n",
        "    warnings.filterwarnings(warning_status, category=DeprecationWarning)\n",
        "    warnings.filterwarnings(warning_status, category=UserWarning)\n",
        "\n",
        "import numpy as np\n",
        "import string\n",
        "from datetime import datetime\n",
        "import os\n",
        "#@markdown This sets the styles of the plotting (default is styled like plots from [FiveThirtyeight.com](https://fivethirtyeight.com/))\n",
        "matplotlib_style = 'fivethirtyeight' #@param ['fivethirtyeight', 'bmh', 'ggplot', 'seaborn', 'default', 'Solarize_Light2', 'classic', 'dark_background', 'seaborn-colorblind', 'seaborn-notebook']\n",
        "import matplotlib.pyplot as plt; plt.style.use(matplotlib_style)\n",
        "import matplotlib.axes as axes;\n",
        "from matplotlib.patches import Ellipse\n",
        "%matplotlib inline\n",
        "import seaborn as sns; sns.set_context('notebook')\n",
        "from IPython.core.pylabtools import figsize\n",
        "#@markdown This sets the resolution of the plot outputs (`retina` is the highest resolution)\n",
        "notebook_screen_res = 'retina' #@param ['retina', 'png', 'jpeg', 'svg', 'pdf']\n",
        "%config InlineBackend.figure_format = notebook_screen_res\n",
        "\n",
        "import tensorflow as tf\n",
        "tfe = tf.contrib.eager\n",
        "\n",
        "# Eager Execution\n",
        "#@markdown Check the box below if you want to use [Eager Execution](https://www.tensorflow.org/guide/eager)\n",
        "#@markdown Eager execution provides An intuitive interface, Easier debugging, and a control flow comparable to Numpy. You can read more about it on the [Google AI Blog](https://ai.googleblog.com/2017/10/eager-execution-imperative-define-by.html)\n",
        "use_tf_eager = False #@param {type:\"boolean\"}\n",
        "\n",
        "# Use try/except so we can easily re-execute the whole notebook.\n",
        "if use_tf_eager:\n",
        "  try:\n",
        "    tf.enable_eager_execution()\n",
        "  except:\n",
        "    pass\n",
        "\n",
        "import tensorflow_probability as tfp\n",
        "tfd = tfp.distributions\n",
        "tfb = tfp.bijectors\n",
        "\n",
        "  \n",
        "def evaluate(tensors):\n",
        "  \"\"\"Evaluates Tensor or EagerTensor to Numpy `ndarray`s.\n",
        "  Args:\n",
        "  tensors: Object of `Tensor` or EagerTensor`s; can be `list`, `tuple`,\n",
        "    `namedtuple` or combinations thereof.\n",
        " \n",
        "  Returns:\n",
        "    ndarrays: Object with same structure as `tensors` except with `Tensor` or\n",
        "      `EagerTensor`s replaced by Numpy `ndarray`s.\n",
        "  \"\"\"\n",
        "  if tf.executing_eagerly():\n",
        "    return tf.contrib.framework.nest.pack_sequence_as(\n",
        "        tensors,\n",
        "        [t.numpy() if tf.contrib.framework.is_tensor(t) else t\n",
        "         for t in tf.contrib.framework.nest.flatten(tensors)])\n",
        "  return sess.run(tensors)\n",
        "\n",
        "class _TFColor(object):\n",
        "    \"\"\"Enum of colors used in TF docs.\"\"\"\n",
        "    red = '#F15854'\n",
        "    blue = '#5DA5DA'\n",
        "    orange = '#FAA43A'\n",
        "    green = '#60BD68'\n",
        "    pink = '#F17CB0'\n",
        "    brown = '#B2912F'\n",
        "    purple = '#B276B2'\n",
        "    yellow = '#DECF3F'\n",
        "    gray = '#4D4D4D'\n",
        "    def __getitem__(self, i):\n",
        "        return [\n",
        "            self.red,\n",
        "            self.orange,\n",
        "            self.green,\n",
        "            self.blue,\n",
        "            self.pink,\n",
        "            self.brown,\n",
        "            self.purple,\n",
        "            self.yellow,\n",
        "            self.gray,\n",
        "        ][i % 9]\n",
        "TFColor = _TFColor()\n",
        "\n",
        "def session_options(enable_gpu_ram_resizing=True, enable_xla=True):\n",
        "    \"\"\"\n",
        "    Allowing the notebook to make use of GPUs if they're available.\n",
        "    \n",
        "    XLA (Accelerated Linear Algebra) is a domain-specific compiler for linear \n",
        "    algebra that optimizes TensorFlow computations.\n",
        "    \"\"\"\n",
        "    config = tf.ConfigProto()\n",
        "    config.log_device_placement = True\n",
        "    if enable_gpu_ram_resizing:\n",
        "        # `allow_growth=True` makes it possible to connect multiple colabs to your\n",
        "        # GPU. Otherwise the colab malloc's all GPU ram.\n",
        "        config.gpu_options.allow_growth = True\n",
        "    if enable_xla:\n",
        "        # Enable on XLA. https://www.tensorflow.org/performance/xla/.\n",
        "        config.graph_options.optimizer_options.global_jit_level = (\n",
        "            tf.OptimizerOptions.ON_1)\n",
        "    return config\n",
        "\n",
        "\n",
        "def reset_sess(config=None):\n",
        "    \"\"\"\n",
        "    Convenience function to create the TF graph & session or reset them.\n",
        "    \"\"\"\n",
        "    if config is None:\n",
        "        config = session_options()\n",
        "    global sess\n",
        "    tf.reset_default_graph()\n",
        "    try:\n",
        "        sess.close()\n",
        "    except:\n",
        "        pass\n",
        "    sess = tf.InteractiveSession(config=config)\n",
        "\n",
        "reset_sess()\n",
        "\n",
        "# from edward.models import Bernoulli, Normal, Empirical\n",
        "from scipy.special import expit\n"
      ],
      "execution_count": 0,
      "outputs": []
    },
    {
      "metadata": {
        "id": "dOArs0r2Q1GY",
        "colab_type": "text"
      },
      "cell_type": "markdown",
      "source": [
        "## Introduction\n",
        "\n",
        "The Rasch model, named after Georg Rasch, is a family of psychometric models for creating measurements from categorical data, such as answers to questions on a reading assessment or questionnaire responses, as a function of the trade-off between (a) the respondent's abilities, attitudes, or personality traits and (b) the item difficulty.[1] For example, they may be used to estimate a student's reading ability or the extremity of a person's attitude to capital punishment from responses on a questionnaire. In addition to psychometrics and educational research, the Rasch model and its extensions are used in other areas, including the health profession[2] and market research[3] because of their general applicability.[4]\n",
        "\n",
        "For our example, we'll define a set of test subjects (`nsubj`), and items to which the subjects respond to (`nsubj`)."
      ]
    },
    {
      "metadata": {
        "id": "LnOGWHPHtFY6",
        "colab_type": "code",
        "colab": {}
      },
      "cell_type": "code",
      "source": [
        "#@title Hyperparameters\n",
        "#@markdown Number of subjects (default=200):\n",
        "nsubj = 200  #@param {type:\"number\"}\n",
        "#@markdown Number of items (default=25):\n",
        "nitem = 25   #@param {type:\"number\"}\n",
        "#@markdown Number of posterior samples (default=5000):\n",
        "T = 5000     #@param {type:\"number\"}"
      ],
      "execution_count": 0,
      "outputs": []
    },
    {
      "metadata": {
        "id": "2ZtWUjXYRXQi",
        "colab_type": "text"
      },
      "cell_type": "markdown",
      "source": [
        "### Data\n",
        "\n",
        "From the `nsubj`, and items to which the subjects respond to `nsubj`, we will create our `X_data`. The `nsubj` is used to create a matrix describing the true values of the trait in question, and `nitem` is used to create a threshold response to each item. We use `tfd.Multinomial` to create a mock dataset from these matrices."
      ]
    },
    {
      "metadata": {
        "id": "UYj77bTQRXQj",
        "colab_type": "code",
        "outputId": "2277c975-3e3c-4853-e252-ed1bcb79060f",
        "colab": {
          "base_uri": "https://localhost:8080/",
          "height": 119
        }
      },
      "cell_type": "code",
      "source": [
        "# Set seed. Remove this line to generate different mixtures!\n",
        "tf.set_random_seed(77)\n",
        "\n",
        "trait_true = tfd.Normal(loc=0., scale=1.).sample(sample_shape=[nsubj, 1], name=\"trait_true\")\n",
        "thresh_true = tfd.Normal(loc=0., scale=1.).sample(sample_shape=[1, nitem], name=\"thresh_true\")\n",
        "X_data = tfd.Multinomial(total_count=1., probs=tf.math.sigmoid(trait_true - thresh_true)).sample(name=\"X_data\")\n",
        "\n",
        "print(\"trait_true: \\n\", trait_true)\n",
        "print(\"thresh_true: \\n\", thresh_true)\n",
        "print(\"X_data: \\n\", X_data)"
      ],
      "execution_count": 0,
      "outputs": [
        {
          "output_type": "stream",
          "text": [
            "trait_true: \n",
            " Tensor(\"Normal/trait_true/Reshape:0\", shape=(200, 1), dtype=float32)\n",
            "thresh_true: \n",
            " Tensor(\"Normal_1/thresh_true/Reshape:0\", shape=(1, 25), dtype=float32)\n",
            "X_data: \n",
            " Tensor(\"Multinomial/X_data/Reshape_3:0\", shape=(200, 25), dtype=float32)\n"
          ],
          "name": "stdout"
        }
      ]
    },
    {
      "metadata": {
        "id": "QVZevU8GRXQl",
        "colab_type": "text"
      },
      "cell_type": "markdown",
      "source": [
        "### Model\n",
        "\n",
        "For our inference, we can safely assume that our `trait`s and `thresh`s can fit on a Normal distribution. Our data itself, having been generated by a Multinomial distribution, will be compared to a Bernoulli distribution."
      ]
    },
    {
      "metadata": {
        "id": "CBWeD8PPRXQl",
        "colab_type": "code",
        "outputId": "14ded731-71a7-4b38-ee13-9440dd04eab8",
        "colab": {
          "base_uri": "https://localhost:8080/",
          "height": 119
        }
      },
      "cell_type": "code",
      "source": [
        "trait = tfd.Normal(loc=0., scale=1.).sample(sample_shape=[nsubj, 1])\n",
        "thresh = tfd.Normal(loc=0., scale=1.).sample(sample_shape=[1, nitem])\n",
        "X = tfd.Bernoulli(logits=(trait - thresh))\n",
        "print(\"trait: \\n\", trait)\n",
        "print(\"thresh: \\n\", thresh)\n",
        "print(\"X: \\n\", X)"
      ],
      "execution_count": 0,
      "outputs": [
        {
          "output_type": "stream",
          "text": [
            "trait: \n",
            " Tensor(\"Normal_2/sample/Reshape:0\", shape=(200, 1), dtype=float32)\n",
            "thresh: \n",
            " Tensor(\"Normal_3/sample/Reshape:0\", shape=(1, 25), dtype=float32)\n",
            "X: \n",
            " tfp.distributions.Bernoulli(\"Bernoulli/\", batch_shape=(200, 25), event_shape=(), dtype=int32)\n"
          ],
          "name": "stdout"
        }
      ]
    },
    {
      "metadata": {
        "id": "pv_9cw8BRXQn",
        "colab_type": "text"
      },
      "cell_type": "markdown",
      "source": [
        "### Inference (Strategy #1: HMC)\n",
        "\n",
        "We can use a Hamiltonian Monte Carlo for our inference."
      ]
    },
    {
      "metadata": {
        "id": "JZ38fQ2nr4pI",
        "colab_type": "code",
        "colab": {}
      },
      "cell_type": "code",
      "source": [
        "def alt_joint_log_prob(X_data, q_trait, q_thresh):\n",
        "    \"\"\"\n",
        "    Joint log probability optimization function.\n",
        "        \n",
        "    Args:\n",
        "      X_data: Observed data to compare Bernoulli dist. outputs to\n",
        "      q_trait: Tensor array for traits\n",
        "      q_thresh: Tensor array for thresholds\n",
        "    Returns: \n",
        "      Joint log probability optimization function.\n",
        "    Closure over:\n",
        "      nsubj, nitem\n",
        "    \"\"\"\n",
        "    tfd = tfp.distributions\n",
        "    \n",
        "    rv_trait = tfd.Normal(loc=tf.fill([nsubj, 1], 0.), scale=tf.fill([nsubj, 1], 1.))\n",
        "    rv_thresh = tfd.Normal(loc=tf.fill([1, nitem], 0.), scale=tf.fill([1, nitem], 1.))\n",
        "    rv_X = tfd.Bernoulli(logits=(q_trait - q_thresh))\n",
        "\n",
        "    return (\n",
        "        tf.reduce_sum(rv_trait.log_prob(q_trait))\n",
        "        + tf.reduce_sum(rv_thresh.log_prob(q_thresh))\n",
        "        + tf.reduce_sum(rv_X.log_prob(tf.to_float(X_data)))\n",
        "    )"
      ],
      "execution_count": 0,
      "outputs": []
    },
    {
      "metadata": {
        "id": "7_XsnKlqqZEs",
        "colab_type": "text"
      },
      "cell_type": "markdown",
      "source": [
        "The HMC will converge based on the loss function that we've described."
      ]
    },
    {
      "metadata": {
        "id": "A09aYOcbod-_",
        "colab_type": "code",
        "colab": {}
      },
      "cell_type": "code",
      "source": [
        "number_of_steps = T\n",
        "burnin = 0\n",
        "\n",
        "# Set the chain's start state.\n",
        "initial_chain_state = [\n",
        "    0.2 * tf.ones([nsubj, 1], dtype=tf.float32, name=\"init_q_trait\"),\n",
        "    0.2 * tf.ones([1, nitem], dtype=tf.float32, name=\"init_q_thresh\")\n",
        "]\n",
        "\n",
        "# Since HMC operates over unconstrained space, we need to transform the\n",
        "# samples so they live in real-space.\n",
        "unconstraining_bijectors = [\n",
        "    tfp.bijectors.Identity(),   # Maps R to R.\n",
        "    tfp.bijectors.Identity()    # Maps R to R.\n",
        "]\n",
        "\n",
        "# Define a closure over our joint_log_prob.\n",
        "unnormalized_posterior_log_prob = lambda *args: alt_joint_log_prob(X_data, *args)\n",
        "\n",
        "# Initialize the step_size. (It will be automatically adapted.)\n",
        "with tf.variable_scope(tf.get_variable_scope(), reuse=tf.AUTO_REUSE):\n",
        "    step_size = tf.get_variable(\n",
        "        name='step_size',\n",
        "        initializer=tf.constant(0.005, dtype=tf.float32),\n",
        "        trainable=False,\n",
        "        use_resource=True\n",
        "    ) \n",
        "\n",
        "# Defining the HMC\n",
        "hmc=tfp.mcmc.TransformedTransitionKernel(\n",
        "    inner_kernel=tfp.mcmc.HamiltonianMonteCarlo(\n",
        "        target_log_prob_fn=unnormalized_posterior_log_prob,\n",
        "        num_leapfrog_steps=3,\n",
        "        step_size=step_size,\n",
        "        step_size_update_fn=tfp.mcmc.make_simple_step_size_update_policy(),\n",
        "        state_gradients_are_stopped=True),\n",
        "    bijector=unconstraining_bijectors)\n",
        "\n",
        "# Sample from the chain.\n",
        "[\n",
        "    q_trait,\n",
        "    q_thresh\n",
        "], kernel_results = tfp.mcmc.sample_chain(\n",
        "    num_results=number_of_steps,\n",
        "    num_burnin_steps=burnin,\n",
        "    current_state=initial_chain_state,\n",
        "    kernel=hmc)\n",
        "\n",
        "posterior_mean = tf.reduce_mean(q_trait[-100:], 0)\n",
        "trait_mse = tf.reduce_mean(tf.square(trait_true - tf.reduce_mean(q_trait[-100:], 0)))\n",
        "\n",
        "# Initialize any created variables.\n",
        "# This prevents a FailedPreconditionError\n",
        "init_g = tf.global_variables_initializer()\n",
        "init_l = tf.local_variables_initializer()\n"
      ],
      "execution_count": 0,
      "outputs": []
    },
    {
      "metadata": {
        "id": "aXvxyJvBp0r-",
        "colab_type": "text"
      },
      "cell_type": "markdown",
      "source": [
        "### Execute the TF graph to sample from the posterior"
      ]
    },
    {
      "metadata": {
        "id": "Yeu3Z0NFp0QC",
        "colab_type": "code",
        "outputId": "a3023352-db1b-4eec-a7a5-06759ac15f7d",
        "colab": {
          "base_uri": "https://localhost:8080/",
          "height": 34
        }
      },
      "cell_type": "code",
      "source": [
        "evaluate(init_g)\n",
        "evaluate(init_l)\n",
        "[\n",
        "    q_trait_,\n",
        "    trait_true_,\n",
        "    posterior_mean_,\n",
        "    trait_mse_,\n",
        "    q_thresh_,\n",
        "    kernel_results_\n",
        "] = evaluate([\n",
        "    q_trait,\n",
        "    trait_true,\n",
        "    posterior_mean,\n",
        "    trait_mse,\n",
        "    q_thresh,\n",
        "    kernel_results\n",
        "])\n",
        "\n",
        "print(\"acceptance rate: {}\".format(\n",
        "    kernel_results_.inner_results.is_accepted.mean()))"
      ],
      "execution_count": 0,
      "outputs": [
        {
          "output_type": "stream",
          "text": [
            "acceptance rate: 0.725\n"
          ],
          "name": "stdout"
        }
      ]
    },
    {
      "metadata": {
        "id": "OWSQgXM5t6hp",
        "colab_type": "text"
      },
      "cell_type": "markdown",
      "source": [
        "### Criticism (for Inference Strategy #1)\n",
        "\n",
        "For our inference criticism, we can plot the "
      ]
    },
    {
      "metadata": {
        "id": "iKFSuLmstzY0",
        "colab_type": "code",
        "outputId": "79772c5d-7e54-4709-fd12-c2ed200d0d33",
        "colab": {
          "base_uri": "https://localhost:8080/",
          "height": 380
        }
      },
      "cell_type": "code",
      "source": [
        "# Check that the inferred posterior mean captures the true traits.\n",
        "plt.scatter(trait_true_, posterior_mean_)\n",
        "plt.show()\n",
        "\n",
        "print(\"MSE between true traits and inferred posterior mean:\")\n",
        "print(trait_mse_)"
      ],
      "execution_count": 0,
      "outputs": [
        {
          "output_type": "display_data",
          "data": {
            "image/png": "[encoded data removed]",
            "text/plain": [
              "<matplotlib.figure.Figure at 0x7f23cc201710>"
            ]
          },
          "metadata": {
            "tags": [],
            "image/png": {
              "width": 542,
              "height": 329
            }
          }
        },
        {
          "output_type": "stream",
          "text": [
            "MSE between true traits and inferred posterior mean:\n",
            "1.0123535\n"
          ],
          "name": "stdout"
        }
      ]
    },
    {
      "metadata": {
        "id": "87uJs8BGoWp9",
        "colab_type": "text"
      },
      "cell_type": "markdown",
      "source": [
        "### Inference (Strategy #2: VI)\n",
        "\n",
        "Alternatively, we can use variational inference for our inference"
      ]
    },
    {
      "metadata": {
        "id": "dk-buVJbMidM",
        "colab_type": "code",
        "colab": {}
      },
      "cell_type": "code",
      "source": [
        "# First we define our Priors\n",
        "trait_prior = tfd.Normal(loc=tf.fill([nsubj, 1], 0.), scale=tf.fill([nsubj, 1], 1.))\n",
        "thresh_prior = tfd.Normal(loc=tf.fill([1, nitem], 0.), scale=tf.fill([1, nitem], 1.))\n",
        "\n",
        "# Then we define our trainable distributions\n",
        "q_trait = tfd.Normal(\n",
        "    loc=tf.get_variable(\"q_trait/loc\", [nsubj, 1]),\n",
        "    scale=tf.nn.softplus(\n",
        "        tf.get_variable(\"q_trait/scale\", [nsubj, 1])))\n",
        "q_thresh = tfd.Normal(\n",
        "    loc=tf.get_variable(\"q_thresh/loc\", [1, nitem]),\n",
        "    scale=tf.nn.softplus(\n",
        "        tf.get_variable(\"q_thresh/scale\", [1, nitem])))\n",
        "q_X = tfd.Bernoulli(logits=(q_trait.sample() - q_thresh.sample()))\n"
      ],
      "execution_count": 0,
      "outputs": []
    },
    {
      "metadata": {
        "id": "hr0hfq-QS0dX",
        "colab_type": "code",
        "outputId": "92201897-9eb7-4a3d-bb2c-d017d527c50f",
        "colab": {
          "base_uri": "https://localhost:8080/",
          "height": 255
        }
      },
      "cell_type": "code",
      "source": [
        "# Build TF graph for fitting Normal maximum likelihood estimator.\n",
        "kl = tf.reduce_mean(q_trait.kl_divergence(trait_prior))\n",
        "kl += tf.reduce_mean(q_thresh.kl_divergence(thresh_prior))\n",
        "loss = -tf.reduce_mean(q_X.log_prob(X_data))\n",
        "elbo = kl + loss\n",
        "train_op = tf.train.AdamOptimizer(learning_rate=2.**-2).minimize(elbo)\n",
        "mse = tf.reduce_mean(tf.squared_difference(X_data, q_X.mean()))\n",
        "\n",
        "init_op = tf.global_variables_initializer()\n",
        "\n",
        "# Run graph 2500 times.\n",
        "num_steps = 2500\n",
        "elbo_ = evaluate(tf.zeros(num_steps)) # Style: `_` to indicate evaluate result.\n",
        "mse_ = evaluate(tf.zeros(num_steps))\n",
        "kl_ = evaluate(tf.zeros(num_steps))\n",
        "\n",
        "evaluate(init_op)\n",
        "for it in range(elbo_.size):\n",
        "    _, elbo_[it], mse_[it], kl_[it] = evaluate([train_op, elbo, mse, kl])\n",
        "    if it % 200 == 0 or it == elbo_.size - 1:\n",
        "        print(\"iteration:{}  elbo:{:.6f}  mse:{:.6f}  KL divergence:{:.6f}\".format(it, elbo_[it], mse_[it], kl_[it]))"
      ],
      "execution_count": 0,
      "outputs": [
        {
          "output_type": "stream",
          "text": [
            "iteration:0  elbo:1.123550  mse:0.290071  KL divergence:0.326187\n",
            "iteration:200  elbo:0.843271  mse:0.225587  KL divergence:0.184257\n",
            "iteration:400  elbo:0.756884  mse:0.191169  KL divergence:0.190719\n",
            "iteration:600  elbo:0.818592  mse:0.216376  KL divergence:0.188345\n",
            "iteration:800  elbo:0.706349  mse:0.188709  KL divergence:0.146610\n",
            "iteration:1000  elbo:0.811762  mse:0.235512  KL divergence:0.142645\n",
            "iteration:1200  elbo:0.864419  mse:0.218567  KL divergence:0.229878\n",
            "iteration:1400  elbo:0.750865  mse:0.200397  KL divergence:0.158116\n",
            "iteration:1600  elbo:0.792725  mse:0.227470  KL divergence:0.140055\n",
            "iteration:1800  elbo:0.708222  mse:0.184832  KL divergence:0.159471\n",
            "iteration:2000  elbo:0.704452  mse:0.196289  KL divergence:0.124700\n",
            "iteration:2200  elbo:0.747243  mse:0.202052  KL divergence:0.159415\n",
            "iteration:2400  elbo:0.697272  mse:0.175523  KL divergence:0.168050\n",
            "iteration:2499  elbo:0.778157  mse:0.230418  KL divergence:0.108194\n"
          ],
          "name": "stdout"
        }
      ]
    },
    {
      "metadata": {
        "id": "hgVISCNARXQq",
        "colab_type": "text"
      },
      "cell_type": "markdown",
      "source": [
        "### Criticism (for Inference Strategy #2)\n",
        "\n",
        "We use the same criticism strategy as before (mean squared error) for the variational inference strategy"
      ]
    },
    {
      "metadata": {
        "id": "koz2cEKCRXQq",
        "colab_type": "code",
        "outputId": "a84642e8-0d43-457c-964b-a15f6c4958a0",
        "colab": {
          "base_uri": "https://localhost:8080/",
          "height": 380
        }
      },
      "cell_type": "code",
      "source": [
        "# Check that the inferred posterior mean captures the true traits.\n",
        "plt.scatter(trait_true_, evaluate(q_trait.mean()))\n",
        "plt.show()\n",
        "\n",
        "print(\"MSE between true traits and inferred posterior mean:\")\n",
        "print(np.mean(np.square(trait_true_ - evaluate(q_trait.mean()))))"
      ],
      "execution_count": 0,
      "outputs": [
        {
          "output_type": "display_data",
          "data": {
            "image/png": "[encoded data removed]",
            "text/plain": [
              "<matplotlib.figure.Figure at 0x7f23fceaf780>"
            ]
          },
          "metadata": {
            "tags": [],
            "image/png": {
              "width": 542,
              "height": 329
            }
          }
        },
        {
          "output_type": "stream",
          "text": [
            "MSE between true traits and inferred posterior mean:\n",
            "0.9907327\n"
          ],
          "name": "stdout"
        }
      ]
    },
    {
      "metadata": {
        "id": "RXvCKlQNRXQt",
        "colab_type": "text"
      },
      "cell_type": "markdown",
      "source": [
        "## References\n",
        "\n",
        "[1] Rasch, G. (1960/1980). Probabilistic models for some intelligence and attainment tests.(Copenhagen, Danish Institute for Educational Research), expanded edition (1980) with foreword and afterword by B.D. Wright. Chicago: The University of Chicago Press.\n",
        "\n",
        "[2] Bezruczko, N. (2005). Rasch measurement in health sciences. Maple Grove, MN: Jam Press.\n",
        "\n",
        "[3] Bechtel, G. G. (1985). Generalizing the Rasch model for consumer rating scales. Marketing Science, 4(1), 62-73.\n",
        "\n",
        "[4] Wright, B. D. (1977). Solving measurement problems with the Rasch model. Journal of Educational Measurement, 14(2), 97-116."
      ]
    }
  ]
}