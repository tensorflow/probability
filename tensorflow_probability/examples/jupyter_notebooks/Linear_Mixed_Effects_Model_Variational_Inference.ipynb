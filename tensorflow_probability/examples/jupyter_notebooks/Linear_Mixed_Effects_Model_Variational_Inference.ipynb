{
  "cells": [
    {
      "cell_type": "markdown",
      "metadata": {
        "colab_type": "text",
        "id": "u3Zq5VrfiDqB"
      },
      "source": [
        "##### Copyright 2018 The TensorFlow Authors.\n",
        "\n",
        "Licensed under the Apache License, Version 2.0 (the \"License\");"
      ]
    },
    {
      "cell_type": "code",
      "execution_count": 0,
      "metadata": {
        "colab": {},
        "colab_type": "code",
        "id": "3jTEqPzFiHQ0"
      },
      "outputs": [],
      "source": [
        "#@title Licensed under the Apache License, Version 2.0 (the \"License\"); { display-mode: \"form\" }\n",
        "# you may not use this file except in compliance with the License.\n",
        "# You may obtain a copy of the License at\n",
        "#\n",
        "# https://www.apache.org/licenses/LICENSE-2.0\n",
        "#\n",
        "# Unless required by applicable law or agreed to in writing, software\n",
        "# distributed under the License is distributed on an \"AS IS\" BASIS,\n",
        "# WITHOUT WARRANTIES OR CONDITIONS OF ANY KIND, either express or implied.\n",
        "# See the License for the specific language governing permissions and\n",
        "# limitations under the License."
      ]
    },
    {
      "cell_type": "markdown",
      "metadata": {
        "colab_type": "text",
        "id": "x97n3SaNmNpB"
      },
      "source": [
        "# Fitting Generalized Linear Mixed-effects Models Using Variational Inference\n",
        "\n",
        "\u003ctable class=\"tfo-notebook-buttons\" align=\"left\"\u003e\n",
        "  \u003ctd\u003e\n",
        "    \u003ca target=\"_blank\" href=\"https://colab.research.google.com/github/tensorflow/probability/blob/master/tensorflow_probability/examples/jupyter_notebooks/Linear_Mixed_Effects_Model_Variational_Inference.ipynb\"\u003e\u003cimg src=\"https://www.tensorflow.org/images/colab_logo_32px.png\" /\u003eRun in Google Colab\u003c/a\u003e\n",
        "  \u003c/td\u003e\n",
        "  \u003ctd\u003e\n",
        "    \u003ca target=\"_blank\" href=\"https://github.com/tensorflow/probability/blob/master/tensorflow_probability/examples/jupyter_notebooks/Linear_Mixed_Effects_Model_Variational_Inference.ipynb\"\u003e\u003cimg src=\"https://www.tensorflow.org/images/GitHub-Mark-32px.png\" /\u003eView source on GitHub\u003c/a\u003e\n",
        "  \u003c/td\u003e\n",
        "\u003c/table\u003e"
      ]
    },
    {
      "cell_type": "markdown",
      "metadata": {
        "colab_type": "text",
        "id": "0GVst7yy6Aww"
      },
      "source": [
        "## Abstract\n"
      ]
    },
    {
      "cell_type": "markdown",
      "metadata": {
        "colab_type": "text",
        "id": "Lt4RS9whJhQh"
      },
      "source": [
        "\n",
        "In this colab we demonstrate how to fit a Generalized Linear Mixed-effects Model using Variational Inference and TensorFlow.\n"
      ]
    },
    {
      "cell_type": "markdown",
      "metadata": {
        "colab_type": "text",
        "id": "0-lfIBVAzi7D"
      },
      "source": [
        "## Model Family"
      ]
    },
    {
      "cell_type": "markdown",
      "metadata": {
        "colab_type": "text",
        "id": "ljSRsKrXwqb6"
      },
      "source": [
        "[Generalized linear mixed-effect models](https://en.wikipedia.org/wiki/Generalized_linear_mixed_model) (GLMM) are similar to [generalized linear models](https://en.wikipedia.org/wiki/Generalized_linear_model) (GLM) except that they incorporate a sample specific noise into the predicted linear response.  This is useful in part because it allows rarely seen features to share information with more commonly seen features.\n",
        "\n"
      ]
    },
    {
      "cell_type": "markdown",
      "metadata": {
        "colab_type": "text",
        "id": "H-B38entvltq"
      },
      "source": [
        "As a generative process, a Generalized Linear Mixed-effects Model (GLMM) is characterized by:\n",
        "\n",
        "\\begin{align}\n",
        "\\text{for } \u0026 r = 1\\ldots R:  \\hspace{2.45cm}\\text{# for each random-effect group}\\\\\n",
        " \u0026\\begin{aligned}\n",
        "  \\text{for } \u0026c = 1\\ldots |C_r|:  \\hspace{1.3cm}\\text{# for each category (\"level\") of group $r$}\\\\\n",
        "  \u0026\\begin{aligned}\n",
        "    \\beta_{rc}\n",
        "    \u0026\\sim \\text{MultivariateNormal}(\\text{loc}=0_{D_r}, \\text{scale}=\\Sigma_r^{1/2})\n",
        "  \\end{aligned}\n",
        "\\end{aligned}\\\\\\\\\n",
        "\\text{for } \u0026 i = 1 \\ldots N:  \\hspace{2.45cm}\\text{# for each sample}\\\\\n",
        "\u0026\\begin{aligned}\n",
        "  \u0026\\eta_i = \\underbrace{\\vphantom{\\sum_{r=1}^R}x_i^\\top\\omega}_\\text{fixed-effects} + \\underbrace{\\sum_{r=1}^R z_{r,i}^\\top \\beta_{r,C_r(i) }}_\\text{random-effects} \\\\\n",
        "  \u0026Y_i|x_i,\\omega,\\{z_{r,i} , \\beta_r\\}_{r=1}^R \\sim \\text{Distribution}(\\text{mean}= g^{-1}(\\eta_i))\n",
        "\\end{aligned}\n",
        "\\end{align}\n"
      ]
    },
    {
      "cell_type": "markdown",
      "metadata": {
        "colab_type": "text",
        "id": "3gZmFJXAHwfy"
      },
      "source": [
        "where:\n",
        "\n",
        "\\begin{align}\n",
        "R \u0026= \\text{number of random-effect groups}\\\\\n",
        "|C_r| \u0026= \\text{number of categories for group $r$}\\\\\n",
        "N \u0026= \\text{number of training samples}\\\\\n",
        "x_i,\\omega \u0026\\in \\mathbb{R}^{D_0}\\\\\n",
        "D_0 \u0026= \\text{number of fixed-effects}\\\\\n",
        "C_r(i) \u0026= \\text{category (under group $r$) of the $i$th sample}\\\\\n",
        "z_{r,i} \u0026\\in \\mathbb{R}^{D_r}\\\\\n",
        "D_r \u0026= \\text{number of random-effects associated with group $r$}\\\\\n",
        "\\Sigma_{r} \u0026\\in \\{S\\in\\mathbb{R}^{D_r \\times D_r} : S \\succ 0 \\}\\\\\n",
        "\\eta_i\\mapsto g^{-1}(\\eta_i) \u0026= \\mu_i, \\text{inverse link function}\\\\\n",
        "\\text{Distribution} \u0026=\\text{some distribution parameterizable solely by its mean}\n",
        "\\end{align}"
      ]
    },
    {
      "cell_type": "markdown",
      "metadata": {
        "colab_type": "text",
        "id": "5AYonR45P1Hr"
      },
      "source": [
        "In words, this says that every category of each group is associated with an iid MVN, $\\beta_{rc}$. Although the $\\beta_{rc}$ draws are always independent, they are only indentically distributed for a group $r$; notice there is exactly one $\\Sigma_r$ for each $r\\in\\{1,\\ldots,R\\}$.\n",
        "\n",
        "When affinely combined with a sample's group's features ($z_{r,i}$), the result is sample-specific noise on the $i$-th predicted linear response (which is otherwise $x_i^\\top\\omega$)."
      ]
    },
    {
      "cell_type": "markdown",
      "metadata": {
        "colab_type": "text",
        "id": "__dP1MdYKda0"
      },
      "source": [
        "When we estimate $\\{\\Sigma_r:r\\in\\{1,\\ldots,R\\}\\}$ we're essentially estimating the amount of noise a random-effect group carries which would otherwise drown out the signal present in $x_i^\\top\\omega$."
      ]
    },
    {
      "cell_type": "markdown",
      "metadata": {
        "colab_type": "text",
        "id": "0EZXZzlYSbM7"
      },
      "source": [
        "There are a variety of options for the $\\text{Distribution}$ and [inverse link function](https://en.wikipedia.org/wiki/Generalized_linear_model#Link_function), $g^{-1}$. Common choices are:\n",
        "- $Y_i\\sim\\text{Normal}(\\text{mean}=\\eta_i, \\text{scale}=\\sigma)$,\n",
        "- $Y_i\\sim\\text{Binomial}(\\text{mean}=n_i \\cdot \\text{sigmoid}(\\eta_i), \\text{total_count}=n_i)$, and, \n",
        "- $Y_i\\sim\\text{Poisson}(\\text{mean}=\\exp(\\eta_i))$.\n",
        "\n",
        "For more possibilities, see the [`tfp.glm`](https://github.com/tensorflow/probability/tree/master/tensorflow_probability/python/glm) module."
      ]
    },
    {
      "cell_type": "markdown",
      "metadata": {
        "colab_type": "text",
        "id": "XajrojApx5cR"
      },
      "source": [
        "## Variational Inference"
      ]
    },
    {
      "cell_type": "markdown",
      "metadata": {
        "colab_type": "text",
        "id": "fIQn1mlYAUzx"
      },
      "source": [
        "Unfortunately, finding the maximum likelihood estimates of the parameters $\\beta,\\{\\Sigma_r\\}_r^R$ entails a non-analytical integral. To circumvent this problem, we instead find the parameters which minimize an upper bound.  Writing $\\phi(x)=\\exp(-x^2/2)/\\sqrt{2\\pi}$ we find:"
      ]
    },
    {
      "cell_type": "markdown",
      "metadata": {
        "colab_type": "text",
        "id": "9epWkJw0x8hw"
      },
      "source": [
        "$\\begin{align}\n",
        "-\\log \\overbrace{p(\\{y\\}_i^N|\\{x_i,z_i\\}_i^N,\\beta,\\{\\Sigma_r\\}_r^R)}^{\\text{evidence}}\n",
        "\u0026 = -\\log \\int_{\\mathbb{R}^{\\sum_r |C_r|D_r}} \\overbrace{\\left(\\prod_i^N p(y_i | \\eta_i(u)) \\right)}^{\\text{likelihood}} \\overbrace{\\left(\\prod_r^R |\\Sigma_r^{-1/2}| \\prod_c^{|C_r|} \\phi(\\Sigma_r^{-1/2} u_{rc}) \\right)}^{\\text{prior}} \\, du\\\\\n",
        "\u0026 = -\\log \\int_{\\mathbb{R}^{\\sum_r |C_r|D_r}} \\frac{\n",
        "  q_\\lambda(u|\\{x_i,y_i,z_i\\}_i^N,\\beta,\\{\\Sigma_r\\}_r^R)\n",
        " }{\n",
        "  q_\\lambda(u|\\{x_i,y_i,z_i\\}_i^N,\\beta,\\{\\Sigma_r\\}_r^R)} \\left( \\prod_i^N p(y_i | \\eta_i(u)) \\right) \\left(\\prod_r^R |\\Sigma_r^{-1/2}| \\prod_c^{|C_r|} \\phi(\\Sigma_r^{-1/2} u_{rc}) \\right) \\, du\\\\\n",
        "\u0026 \\le \\text{E}_{q_\\lambda(U|\\{x_i,y_i,z_i\\}_i^N,\\beta,\\{\\Sigma_r\\}_r^R)} \\left[ -\\log\n",
        "\\frac{\n",
        "  \\left( \\prod_i^N p(y_i | \\eta_i(U)) \\right) \\left(\\prod_r^R |\\Sigma_r^{-1/2}| \\prod_c^{|C_r|} \\phi(\\Sigma_r^{-1/2} U_{rc}) \\right)\n",
        "  }{\n",
        "    q_\\lambda(U|\\{x_i,y_i,z_i\\}_i^N,\\beta,\\{\\Sigma_r\\}_r^R)\n",
        "  }  \\right]\\\\\n",
        "\u0026= \\text{KL}\\left[q_\\lambda(U|\\{x_i,y_i,z_i\\}_i^N,\\beta,\\{\\Sigma_r\\}_r^R) \\Bigg| \\left( \\prod_i^N p(y_i | \\eta_i(U)) \\right) \\left(\\prod_r^R |\\Sigma_r^{-1/2}| \\prod_c^{|C_r|} \\phi(\\Sigma_r^{-1/2} U_{rc}) \\right) \\right]\n",
        "\\end{align}$"
      ]
    },
    {
      "cell_type": "markdown",
      "metadata": {
        "colab_type": "text",
        "id": "ecNUsIBQN-zz"
      },
      "source": [
        "The inequality follows from [Jensen's Inequality](https://en.wikipedia.org/wiki/Jensen%27s_inequality)."
      ]
    },
    {
      "cell_type": "markdown",
      "metadata": {
        "colab_type": "text",
        "id": "GCDXHiEx-dY5"
      },
      "source": [
        "So, instead of solving:\n",
        "\n",
        "$$\\begin{align}\n",
        "\\{\\beta^*, \\{\\Sigma_r^*\\}_r^R\\} = \\operatorname{\\arg\\min}_{\\beta,\\{\\Sigma_r\\}_r^R} \\left\\{\n",
        " -\\log  p(\\{y\\}_i^N|\\{x_i,z_i\\}_i^N,\\beta,\\{\\Sigma_r\\}_r^R)\n",
        "\\right\\}\n",
        "\\end{align}$$\n",
        "\n",
        "we solve:\n",
        "\n",
        "$$\\begin{align}\n",
        "\\{\\lambda^*, \\beta^*, \\{\\Sigma_r^*\\}_r^R\\} = \\operatorname{\\arg\\min}_{\\lambda,\\beta,\\{\\Sigma_r\\}_r^R} \\left\\{\n",
        "\\text{KL}\\left[q_\\lambda(U|\\{x_i,y_i,z_i\\}_i^N,\\beta,\\{\\Sigma_r\\}_r^R) \\Bigg| \\left( \\prod_i^N p(y_i | \\eta_i(U)) \\right) \\left(\\prod_r^R |\\Sigma_r^{-1/2}| \\prod_c^{|C_r|} \\phi(\\Sigma_r^{-1/2} U_{rc}) \\right) \\right]\n",
        "\\right\\}\n",
        "\\end{align}$$"
      ]
    },
    {
      "cell_type": "markdown",
      "metadata": {
        "colab_type": "text",
        "id": "Nu8B7ylx3UdL"
      },
      "source": [
        "## Toy Problem"
      ]
    },
    {
      "cell_type": "markdown",
      "metadata": {
        "colab_type": "text",
        "id": "vDmAfghTJcLo"
      },
      "source": [
        "[Gelman et al.'s (2007) \"radon dataset\"](http://www.stat.columbia.edu/~gelman/arm/) is a dataset sometimes used to demonstrate approaches for regression. (E.g., this closely related [PyMC3 blog post](http://twiecki.github.io/blog/2014/03/17/bayesian-glms-3/).) The radon dataset contains indoor measurements of Radon taken throughout the United States. [Radon](https://en.wikipedia.org/wiki/Radon) is naturally ocurring radioactive gas which is [toxic](http://www.radon.com/radon_facts/) in high concentrations.\n",
        "\n",
        "For our demonstration, let's suppose we're interested in validating the hypothesis that Radon levels are higher in households containing a basement. We also suspect Radon concentration is related to soil-type, i.e., geography matters.\n",
        "\n",
        "To frame this as an ML problem, we'll try to predict log-radon levels based on a linear function of the floor on which the reading was taken.  We'll also use the county as a random-effect and in so doing account for variances due to geography. In other words, we'll use a [generalized linear mixed-effect model](https://en.wikipedia.org/wiki/Generalized_linear_mixed_model)."
      ]
    },
    {
      "cell_type": "code",
      "execution_count": 0,
      "metadata": {
        "colab": {},
        "colab_type": "code",
        "id": "_zr34b0IBqgY"
      },
      "outputs": [],
      "source": [
        "%matplotlib inline\n",
        "\n",
        "from __future__ import absolute_import\n",
        "from __future__ import division\n",
        "from __future__ import print_function\n",
        "\n",
        "from pprint import pprint\n",
        "import collections\n",
        "import matplotlib.pyplot as plt; plt.style.use('ggplot')\n",
        "import numpy as np\n",
        "import pandas as pd\n",
        "import seaborn as sns; sns.set_context('notebook')\n",
        "import tensorflow as tf\n",
        "import warnings"
      ]
    },
    {
      "cell_type": "markdown",
      "metadata": {
        "colab_type": "text",
        "id": "UzepxbtrpHpD"
      },
      "source": [
        "### Obtain Dataset:"
      ]
    },
    {
      "cell_type": "code",
      "execution_count": 0,
      "metadata": {
        "colab": {},
        "colab_type": "code",
        "id": "Z5aSvBj8v_vp"
      },
      "outputs": [],
      "source": [
        "from six.moves import urllib\n",
        "CACHE_DIR = os.path.join(os.sep, 'tmp', 'radon')\n",
        "\n",
        "def cache_or_download_file(cache_dir, url_base, filename):\n",
        "  \"\"\"Read a cached file or download it.\"\"\"\n",
        "  filepath = os.path.join(cache_dir, filename)\n",
        "  if tf.gfile.Exists(filepath):\n",
        "    return filepath\n",
        "  if not tf.gfile.Exists(cache_dir):\n",
        "    tf.gfile.MakeDirs(cache_dir)\n",
        "  url = os.path.join(url_base, filename)\n",
        "  print(\"Downloading {url} to {filepath}.\".format(url=url, filepath=filepath))\n",
        "  urllib.request.urlretrieve(url, filepath)\n",
        "  return filepath\n",
        "\n",
        "\n",
        "def download_radon_dataset(cache_dir=CACHE_DIR):\n",
        "  \"\"\"Download the radon dataset and read as Pandas dataframe.\"\"\"\n",
        "  url_base = 'http://www.stat.columbia.edu/~gelman/arm/examples/radon/'\n",
        "  # Alternative source:\n",
        "  # url_base = ('https://raw.githubusercontent.com/pymc-devs/uq_chapter/'\n",
        "  #             'master/reference/data/')\n",
        "  srrs2 = pd.read_csv(cache_or_download_file(cache_dir, url_base, 'srrs2.dat'))\n",
        "  srrs2.rename(columns=str.strip, inplace=True)\n",
        "  cty = pd.read_csv(cache_or_download_file(cache_dir, url_base, 'cty.dat'))\n",
        "  cty.rename(columns=str.strip, inplace=True)\n",
        "  return srrs2, cty\n",
        "\n",
        "\n",
        "def preprocess_radon_dataset(srrs2, cty, state='MN'):\n",
        "  \"\"\"Preprocess radon dataset as done in \"Bayesian Data Analysis\" book.\"\"\"\n",
        "  srrs2 = srrs2[srrs2.state==state].copy()\n",
        "  cty = cty[cty.st==state].copy()\n",
        "  \n",
        "  # We will now join datasets on Federal Information Processing Standards\n",
        "  # (FIPS) id, ie, codes that link geographic units, counties and county\n",
        "  # equivalents. http://jeffgill.org/Teaching/rpqm_9.pdf\n",
        "  srrs2['fips'] = 1000 * srrs2.stfips + srrs2.cntyfips\n",
        "  cty['fips'] = 1000 * cty.stfips + cty.ctfips\n",
        "\n",
        "  df = srrs2.merge(cty[['fips', 'Uppm']], on='fips')\n",
        "  df = df.drop_duplicates(subset='idnum')\n",
        "  df = df.rename(index=str, columns={'Uppm': 'uranium_ppm'})\n",
        "  \n",
        "  df['radon'] = df.activity.apply(lambda x: x if x \u003e 0. else 0.1)\n",
        "  \n",
        "  # Remap categories to start from 0 and end at max(category).\n",
        "  county_name = sorted(df.county.unique())\n",
        "  df['county'] = df.county.astype(\n",
        "      pd.api.types.CategoricalDtype(categories=county_name)).cat.codes\n",
        "  county_name = map(str.strip, county_name)\n",
        "  \n",
        "  df['log_radon'] = df['radon'].apply(np.log)\n",
        "  df['log_uranium_ppm'] = df['uranium_ppm'].apply(np.log) \n",
        "  df = df[['log_radon', 'floor', 'county', 'log_uranium_ppm']]\n",
        " \n",
        "  return df, county_name"
      ]
    },
    {
      "cell_type": "code",
      "execution_count": 0,
      "metadata": {
        "colab": {},
        "colab_type": "code",
        "id": "DLn6q9fSNizw"
      },
      "outputs": [],
      "source": [
        "df, counties = preprocess_radon_dataset(*download_radon_dataset())"
      ]
    },
    {
      "cell_type": "code",
      "execution_count": 0,
      "metadata": {
        "colab": {
          "height": 204
        },
        "colab_type": "code",
        "executionInfo": {
          "elapsed": 94,
          "status": "ok",
          "timestamp": 1539910256381,
          "user": {
            "displayName": "",
            "photoUrl": "",
            "userId": ""
          },
          "user_tz": 420
        },
        "id": "5pXUQLVxi8E0",
        "outputId": "0cd5c907-23f6-4735-ec4b-7fdc5a05079f"
      },
      "outputs": [
        {
          "data": {
            "text/html": [
              "\u003cdiv style=\"max-width:1500px;overflow:auto;\"\u003e\n",
              "\u003cstyle scoped\u003e\n",
              "    .dataframe tbody tr th:only-of-type {\n",
              "        vertical-align: middle;\n",
              "    }\n",
              "\n",
              "    .dataframe tbody tr th {\n",
              "        vertical-align: top;\n",
              "    }\n",
              "\n",
              "    .dataframe thead th {\n",
              "        text-align: right;\n",
              "    }\n",
              "\u003c/style\u003e\n",
              "\u003ctable border=\"1\" class=\"dataframe\"\u003e\n",
              "  \u003cthead\u003e\n",
              "    \u003ctr style=\"text-align: right;\"\u003e\n",
              "      \u003cth\u003e\u003c/th\u003e\n",
              "      \u003cth\u003elog_radon\u003c/th\u003e\n",
              "      \u003cth\u003efloor\u003c/th\u003e\n",
              "      \u003cth\u003ecounty\u003c/th\u003e\n",
              "      \u003cth\u003elog_uranium_ppm\u003c/th\u003e\n",
              "    \u003c/tr\u003e\n",
              "  \u003c/thead\u003e\n",
              "  \u003ctbody\u003e\n",
              "    \u003ctr\u003e\n",
              "      \u003cth\u003e0\u003c/th\u003e\n",
              "      \u003ctd\u003e0.788457\u003c/td\u003e\n",
              "      \u003ctd\u003e1\u003c/td\u003e\n",
              "      \u003ctd\u003e0\u003c/td\u003e\n",
              "      \u003ctd\u003e-0.689048\u003c/td\u003e\n",
              "    \u003c/tr\u003e\n",
              "    \u003ctr\u003e\n",
              "      \u003cth\u003e1\u003c/th\u003e\n",
              "      \u003ctd\u003e0.788457\u003c/td\u003e\n",
              "      \u003ctd\u003e0\u003c/td\u003e\n",
              "      \u003ctd\u003e0\u003c/td\u003e\n",
              "      \u003ctd\u003e-0.689048\u003c/td\u003e\n",
              "    \u003c/tr\u003e\n",
              "    \u003ctr\u003e\n",
              "      \u003cth\u003e2\u003c/th\u003e\n",
              "      \u003ctd\u003e1.064711\u003c/td\u003e\n",
              "      \u003ctd\u003e0\u003c/td\u003e\n",
              "      \u003ctd\u003e0\u003c/td\u003e\n",
              "      \u003ctd\u003e-0.689048\u003c/td\u003e\n",
              "    \u003c/tr\u003e\n",
              "    \u003ctr\u003e\n",
              "      \u003cth\u003e3\u003c/th\u003e\n",
              "      \u003ctd\u003e0.000000\u003c/td\u003e\n",
              "      \u003ctd\u003e0\u003c/td\u003e\n",
              "      \u003ctd\u003e0\u003c/td\u003e\n",
              "      \u003ctd\u003e-0.689048\u003c/td\u003e\n",
              "    \u003c/tr\u003e\n",
              "    \u003ctr\u003e\n",
              "      \u003cth\u003e4\u003c/th\u003e\n",
              "      \u003ctd\u003e1.131402\u003c/td\u003e\n",
              "      \u003ctd\u003e0\u003c/td\u003e\n",
              "      \u003ctd\u003e1\u003c/td\u003e\n",
              "      \u003ctd\u003e-0.847313\u003c/td\u003e\n",
              "    \u003c/tr\u003e\n",
              "  \u003c/tbody\u003e\n",
              "\u003c/table\u003e\n",
              "\u003c/div\u003e"
            ],
            "text/plain": [
              "   log_radon  floor  county  log_uranium_ppm\n",
              "0   0.788457      1       0        -0.689048\n",
              "1   0.788457      0       0        -0.689048\n",
              "2   1.064711      0       0        -0.689048\n",
              "3   0.000000      0       0        -0.689048\n",
              "4   1.131402      0       1        -0.847313"
            ]
          },
          "execution_count": 4,
          "metadata": {
            "tags": []
          },
          "output_type": "execute_result"
        }
      ],
      "source": [
        "df.head()"
      ]
    },
    {
      "cell_type": "markdown",
      "metadata": {
        "colab_type": "text",
        "id": "_OxaVNnjYZyL"
      },
      "source": [
        "### Specializing the GLMM Family"
      ]
    },
    {
      "cell_type": "markdown",
      "metadata": {
        "colab_type": "text",
        "id": "niha5M54Yjf-"
      },
      "source": [
        "In this section, we specialize the GLMM family to the task of predicting radon levels. To do this, we first consider the fixed-effect special case of a GLMM.\n",
        "\n",
        "Using R notation, we might consider the following GLM:\n",
        "\n",
        "    log(radon) ~ 1 + floor\n",
        "\n",
        "This model posits that the `radon` response is governed by the floor of a building (e.g., \"ground floor\" of a \"two story\" home).  More concretely it states that the `log(radon)` reading is explainable (in expectation) by the formula `offset + weight_floor[floor]`, i.e., there's a weight learned for every floor and a universal `intercept` term. In R's \"tilde notation\", the `1` indicates there's a weight associated with the \"null feature\", i.e., a weight associated with every sample.\n",
        "\n",
        "Given our data, seems like it might be a good start. I.e.,"
      ]
    },
    {
      "cell_type": "code",
      "execution_count": 0,
      "metadata": {
        "colab": {
          "height": 578
        },
        "colab_type": "code",
        "executionInfo": {
          "elapsed": 641,
          "status": "ok",
          "timestamp": 1539910257083,
          "user": {
            "displayName": "",
            "photoUrl": "",
            "userId": ""
          },
          "user_tz": 420
        },
        "id": "YwzykNvJgfJo",
        "outputId": "c1f37499-7763-4597-f2d9-91c45627a15a"
      },
      "outputs": [
        {
          "data": {
            "text/plain": [
              "\u003cmatplotlib.text.Text at 0x7f9aebf26410\u003e"
            ]
          },
          "execution_count": 5,
          "metadata": {
            "tags": []
          },
          "output_type": "execute_result"
        },
        {
          "data": {
            "image/png": "[encoded data removed]",
            "text/plain": [
              "\u003cmatplotlib.figure.Figure at 0x7f9ae9c03790\u003e"
            ]
          },
          "metadata": {
            "tags": []
          },
          "output_type": "display_data"
        },
        {
          "data": {
            "image/png": "[encoded data removed]",
            "text/plain": [
              "\u003cmatplotlib.figure.Figure at 0x7f9ae9c03510\u003e"
            ]
          },
          "metadata": {
            "tags": []
          },
          "output_type": "display_data"
        }
      ],
      "source": [
        "df['log_radon'].plot(kind='density');\n",
        "plt.xlabel('log(radon)')\n",
        "plt.figure()\n",
        "df['floor'].value_counts().plot(kind='bar')\n",
        "plt.xlabel('Floor')\n",
        "plt.ylabel('Count')"
      ]
    },
    {
      "cell_type": "markdown",
      "metadata": {
        "colab_type": "text",
        "id": "8MqU1SefgRy5"
      },
      "source": [
        "Although this seems like a good start, including something about geography is probably even better. I.e.,\n",
        "\n",
        "    radon ~ 1 + floor + county\n",
        "\n",
        "This model posits that the `radon` response is goverened by `offset + weight_floor[floor] + weight_county[county]`, i.e., the same as before except with a county-specific weight."
      ]
    },
    {
      "cell_type": "markdown",
      "metadata": {
        "colab_type": "text",
        "id": "rcddRr2Ug1cH"
      },
      "source": [
        "In the absence of a training set, `radon ~ 1 + floor + county` feels right.  However, if we studied the training data, we'd discover that there's there's a large number of counties with a very small number of measurements. I.e.,"
      ]
    },
    {
      "cell_type": "code",
      "execution_count": 0,
      "metadata": {
        "colab": {
          "height": 350
        },
        "colab_type": "code",
        "executionInfo": {
          "elapsed": 1159,
          "status": "ok",
          "timestamp": 1539910258263,
          "user": {
            "displayName": "",
            "photoUrl": "",
            "userId": ""
          },
          "user_tz": 420
        },
        "id": "15f4k6gQg40_",
        "outputId": "4d5726ac-9e74-4fa5-a77e-d725e1a4470d"
      },
      "outputs": [
        {
          "data": {
            "image/png": "[encoded data removed]",
            "text/plain": [
              "\u003cmatplotlib.figure.Figure at 0x7f9aeb591490\u003e"
            ]
          },
          "metadata": {
            "tags": []
          },
          "output_type": "display_data"
        }
      ],
      "source": [
        "fig, ax = plt.subplots(figsize=(22, 5));\n",
        "county_freq = df['county'].value_counts()\n",
        "county_freq.plot(kind='bar');\n",
        "plt.xlabel('County Code');\n",
        "plt.ylabel('Count');"
      ]
    },
    {
      "cell_type": "markdown",
      "metadata": {
        "colab_type": "text",
        "id": "VxtwlODcdJZe"
      },
      "source": [
        "This is worrisome.  If we attempted to fit this model, the `weight_county` vector would likely end up memorizing the results for counties which had only a few training samples. Not good.\n",
        "\n",
        "GLMM's offer a happy middle to the above two GLMs.  I.e., we might consider fitting,\n",
        "\n",
        "    radon ~ 1 + floor + (1 | county)\n",
        "\n",
        "This model is exactly the same as the first, except we've introduced the random-effect, `(1 | county)`.  Adding this random effect has the effect of allowing per-county random fluctuations in radon  In words, `(1 | county)` means that across samples and within a county, the random fluctuation in observed radon will be the same draw from a random Normal . Furthermore, since the covariance is shared among a group (i.e., a \"random effect\"), the counties with more observations provide a hint at the variance of counties with few observations (since the variance is estimated from the whole group)."
      ]
    },
    {
      "cell_type": "markdown",
      "metadata": {
        "colab_type": "text",
        "id": "QjvAR2-ZYgxP"
      },
      "source": [
        "## Experiment"
      ]
    },
    {
      "cell_type": "markdown",
      "metadata": {
        "colab_type": "text",
        "id": "bioH0_7ZfC4Z"
      },
      "source": [
        "We'll now try to fit the `radon ~ 1 + floor + (1 | county)` GLMM using variational inference in TensorFlow. Our only remaining trick is to use stochastic gradient descent. (For brevity, we omit additional details.)"
      ]
    },
    {
      "cell_type": "markdown",
      "metadata": {
        "colab_type": "text",
        "id": "17Lf6EEfGMSJ"
      },
      "source": [
        "### Imports"
      ]
    },
    {
      "cell_type": "code",
      "execution_count": 0,
      "metadata": {
        "colab": {},
        "colab_type": "code",
        "id": "YKuwO2YmH9gG"
      },
      "outputs": [],
      "source": [
        "import tensorflow_probability as tfp\n",
        "\n",
        "tfd = tfp.distributions\n",
        "tfb = tfp.bijectors"
      ]
    },
    {
      "cell_type": "markdown",
      "metadata": {
        "colab_type": "text",
        "id": "J1qaYmpKYdX_"
      },
      "source": [
        "The following code allows `Session` customization.  Feel free to play with the `session_options` arguments and see how computational performance changes."
      ]
    },
    {
      "cell_type": "code",
      "execution_count": 0,
      "metadata": {
        "colab": {},
        "colab_type": "code",
        "id": "hX3rIfVZCAIk"
      },
      "outputs": [],
      "source": [
        "def session_options(enable_gpu_ram_resizing=True,\n",
        "                    enable_xla=False):\n",
        "  \"\"\"Convenience function which sets common `tf.Session` options.\"\"\"\n",
        "  config = tf.ConfigProto()\n",
        "  config.log_device_placement = True\n",
        "  if enable_gpu_ram_resizing:\n",
        "    # `allow_growth=True` makes it possible to connect multiple colabs to your\n",
        "    # GPU. Otherwise the colab malloc's all GPU ram.\n",
        "    config.gpu_options.allow_growth = True\n",
        "  if enable_xla:\n",
        "    # Enable on XLA. https://www.tensorflow.org/performance/xla/.\n",
        "    config.graph_options.optimizer_options.global_jit_level = (\n",
        "        tf.OptimizerOptions.ON_1)\n",
        "  return config\n",
        "\n",
        "def reset_sess(config=None):\n",
        "  \"\"\"Convenience function to create the TF graph and session, or reset them.\"\"\"\n",
        "  if config is None:\n",
        "    config = session_options()\n",
        "  tf.reset_default_graph()\n",
        "  global sess\n",
        "  try:\n",
        "    sess.close()\n",
        "  except:\n",
        "    pass\n",
        "  sess = tf.InteractiveSession(config=config)\n",
        "\n",
        "reset_sess()"
      ]
    },
    {
      "cell_type": "markdown",
      "metadata": {
        "colab_type": "text",
        "id": "VkJaseCAGes0"
      },
      "source": [
        "### Setup"
      ]
    },
    {
      "cell_type": "markdown",
      "metadata": {
        "colab_type": "text",
        "id": "1dwMTHinKHe5"
      },
      "source": [
        "For transparency, we'll record all knob settings here."
      ]
    },
    {
      "cell_type": "code",
      "execution_count": 0,
      "metadata": {
        "colab": {},
        "colab_type": "code",
        "id": "QFy2NhmkBfGL"
      },
      "outputs": [],
      "source": [
        "hparams = tf.contrib.training.HParams(\n",
        "    train_test_split = 0.8,\n",
        "    train_batch_size = 100,\n",
        "    test_batch_size = 10,\n",
        "\n",
        "    dtype=np.float32,\n",
        "    init_raw_scale=np.log(np.expm1(1.)),  # approx= 0.5413\n",
        "    scale_diag_offset=1e-3,\n",
        "\n",
        "    surrogate_posterior_rank=1,\n",
        "\n",
        "    num_monte_carlo_draws=2,\n",
        "\n",
        "    train_iterations = int(3e3),\n",
        "\n",
        "    learning_rate_start = 1e-2,\n",
        "    learning_rate_num_epochs_per_decay = 10,\n",
        "    learning_rate_decay_factor = 0.99,\n",
        ")"
      ]
    },
    {
      "cell_type": "markdown",
      "metadata": {
        "colab_type": "text",
        "id": "iJz56O8kGPsM"
      },
      "source": [
        "### Data Munging"
      ]
    },
    {
      "cell_type": "markdown",
      "metadata": {
        "colab_type": "text",
        "id": "InypzQj8KViU"
      },
      "source": [
        "We'll use `tf.data.Dataset` to feed the data into the TensorFlow graph. For a nice tutorial on different data loading patterns, see [\"How to use Dataset in TensorFlow\"](https://towardsdatascience.com/how-to-use-dataset-in-tensorflow-c758ef9e4428)."
      ]
    },
    {
      "cell_type": "code",
      "execution_count": 0,
      "metadata": {
        "colab": {},
        "colab_type": "code",
        "id": "zA_Lt3BO9vZa"
      },
      "outputs": [],
      "source": [
        "def dataset(df, batch_size):\n",
        "  with tf.name_scope(name='dataset'):\n",
        "    feature_cols=['county', 'floor']\n",
        "    label_cols=['log_radon']\n",
        "    dataset = tf.data.Dataset.from_tensor_slices((\n",
        "        df[feature_cols].values.astype(np.int32),\n",
        "        df[label_cols].values.astype(np.float32),\n",
        "    )).repeat().batch(batch_size)\n",
        "    iter_ = tf.data.Iterator.from_structure(\n",
        "        dataset.output_types, dataset.output_shapes)\n",
        "    init_op = iter_.make_initializer(dataset)\n",
        "    features, labels = iter_.get_next()\n",
        "    features.set_shape([batch_size, 2])\n",
        "    labels.set_shape([batch_size, 1])\n",
        "    return init_op, features, labels\n",
        "\n",
        "\n",
        "DataStats = collections.namedtuple(\n",
        "    'DataStats',\n",
        "    [\n",
        "        'num_train',\n",
        "        'num_test',\n",
        "        'num_unique_county',\n",
        "        'num_unique_floor',\n",
        "    ])\n",
        "\n",
        "\n",
        "def split_dataset(df, train_test_split, train_batch_size, test_batch_size):\n",
        "  \"\"\"Creates train/test split data.\"\"\"\n",
        "  with tf.name_scope(name='split_dataset'):\n",
        "    train_df = df.sample(frac=train_test_split, random_state=42)\n",
        "    test_df = df.drop(train_df.index)\n",
        "    data_stats = DataStats(\n",
        "        num_train=len(train_df),\n",
        "        num_test=len(test_df),\n",
        "        num_unique_county=1 + df['county'].max(),\n",
        "        num_unique_floor=1 + df['floor'].max(),\n",
        "    )\n",
        "    train_init_op, train_features, train_labels = dataset(\n",
        "        train_df,\n",
        "        train_batch_size)\n",
        "    test_init_op, test_features, test_labels = dataset(\n",
        "        test_df,\n",
        "        test_batch_size)\n",
        "    return [\n",
        "        tf.group([train_init_op, test_init_op]),  # dataset_init\n",
        "        train_features,\n",
        "        train_labels,\n",
        "        test_features,\n",
        "        test_labels,\n",
        "        data_stats,\n",
        "    ]"
      ]
    },
    {
      "cell_type": "markdown",
      "metadata": {
        "colab_type": "text",
        "id": "ZWvgUUAbGgkc"
      },
      "source": [
        "### Specify Model"
      ]
    },
    {
      "cell_type": "code",
      "execution_count": 0,
      "metadata": {
        "colab": {},
        "colab_type": "code",
        "id": "rcl2AuF1GePi"
      },
      "outputs": [],
      "source": [
        "def make_prior():\n",
        "  def _fn():\n",
        "    dims = data_stats.num_unique_county\n",
        "    prior_raw_scale = tf.get_variable(\n",
        "        name='prior_raw_scale',\n",
        "        initializer=np.array(hparams.init_raw_scale, hparams.dtype))\n",
        "    scale = tf.nn.softplus(prior_raw_scale) + hparams.scale_diag_offset\n",
        "    return tfd.Independent(\n",
        "        tfd.Normal(loc=np.zeros(dims, hparams.dtype), scale=scale),\n",
        "        reinterpreted_batch_ndims=1,\n",
        "        name='prior')\n",
        "  return tf.make_template('make_prior', _fn)()\n",
        "\n",
        "\n",
        "def make_likelihood(x, u):\n",
        "  def _fn():\n",
        "    intercept = tf.get_variable(\n",
        "      name='intercept',\n",
        "      initializer=np.zeros(1, hparams.dtype))\n",
        "    weights_floor = tf.pad(\n",
        "        tf.get_variable(\n",
        "            name='weights_floor',\n",
        "            initializer=np.zeros(data_stats.num_unique_floor - 1,\n",
        "                                 hparams.dtype)),\n",
        "        paddings=[[1, 0]])\n",
        "    random_effect = tf.transpose(tf.gather(tf.transpose(u), x[:, 0]))\n",
        "    fixed_effect = intercept + tf.gather(weights_floor, x[:, 1])\n",
        "    predicted_linear_response = fixed_effect + random_effect\n",
        "    likelihood_raw_scale = tf.get_variable(\n",
        "        name='likelihood_raw_scale',\n",
        "        initializer=np.array(hparams.init_raw_scale, hparams.dtype))\n",
        "    scale = tf.nn.softplus(likelihood_raw_scale) + hparams.scale_diag_offset\n",
        "    return tfd.Independent(\n",
        "        tfd.Normal(loc=predicted_linear_response[..., tf.newaxis],\n",
        "                   scale=scale),\n",
        "        reinterpreted_batch_ndims=2,\n",
        "        name='likelihood')\n",
        "\n",
        "  return tf.make_template('make_likelihood', _fn)()\n",
        "\n",
        "\n",
        "def make_surrogate_posterior():\n",
        "  dims = data_stats.num_unique_county\n",
        "  def _tril():\n",
        "    loc = tf.get_variable(\n",
        "        name='surrogate_loc',\n",
        "        shape=[dims],\n",
        "        initializer=tf.zeros_initializer())\n",
        "    raw_scale_tril = tf.get_variable(\n",
        "        name='surrogate_raw_scale_tril',\n",
        "        initializer=np.zeros(dims * (dims + 1) // 2, hparams.dtype))\n",
        "    scale_tril = tfd.fill_triangular(raw_scale_tril)\n",
        "    new_diag = hparams.scale_diag_offset + tf.nn.softplus(\n",
        "        hparams.init_raw_scale + tf.diag_part(scale_tril))\n",
        "    scale_tril = tf.linalg.set_diag(scale_tril, new_diag)\n",
        "    return tfd.MultivariateNormalTriL(\n",
        "        loc=loc,\n",
        "        scale_tril=scale_tril,\n",
        "        name='surrogate_posterior')\n",
        "  def _lowrank():\n",
        "    rank = 1\n",
        "    loc = tf.get_variable(\n",
        "        name='surrogate_loc',\n",
        "        shape=[dims],\n",
        "        initializer=tf.zeros_initializer())\n",
        "    raw_scale = tf.get_variable(\n",
        "        name='surrogate_raw_scale',\n",
        "        initializer=np.zeros(dims * (1 + rank), hparams.dtype))\n",
        "    return tfd.MultivariateNormalDiagPlusLowRank(\n",
        "        loc=loc,\n",
        "        scale_diag=tf.nn.softplus(hparams.init_raw_scale + raw_scale[:dims]),\n",
        "        scale_perturb_factor=tf.reshape(raw_scale[dims:], [dims, rank]),\n",
        "        name='surrogate_posterior')\n",
        "  return tf.make_template(\n",
        "      'make_surrogate_posterior',\n",
        "      _tril if hparams.surrogate_posterior_rank \u003e= dims else _lowrank)()"
      ]
    },
    {
      "cell_type": "markdown",
      "metadata": {
        "colab_type": "text",
        "id": "8cd1whNpMPwL"
      },
      "source": [
        "### Main"
      ]
    },
    {
      "cell_type": "code",
      "execution_count": 0,
      "metadata": {
        "colab": {
          "height": 187
        },
        "colab_type": "code",
        "executionInfo": {
          "elapsed": 2669,
          "status": "ok",
          "timestamp": 1539910269007,
          "user": {
            "displayName": "",
            "photoUrl": "",
            "userId": ""
          },
          "user_tz": 420
        },
        "id": "85FS-MhiFHjF",
        "outputId": "08820d83-550b-4e65-d046-6148a403b010"
      },
      "outputs": [
        {
          "name": "stdout",
          "output_type": "stream",
          "text": [
            "tfp.distributions.Independent(\"make_prior/prior/\", batch_shape=(), event_shape=(85,), dtype=float32)\n",
            "tfp.distributions.MultivariateNormalDiagPlusLowRank(\"make_surrogate_posterior/surrogate_posterior/\", batch_shape=(), event_shape=(85,), dtype=float32)\n",
            "tfp.distributions.Independent(\"elbo_loss/expectation/make_likelihood/likelihood/\", batch_shape=(2,), event_shape=(100, 1), dtype=float32)\n",
            "Tensor(\"elbo_loss/expectation/Mean:0\", shape=(), dtype=float32)\n",
            "[\u003ctf.Variable 'make_prior/prior_raw_scale:0' shape=() dtype=float32_ref\u003e,\n",
            " \u003ctf.Variable 'make_surrogate_posterior/surrogate_loc:0' shape=(85,) dtype=float32_ref\u003e,\n",
            " \u003ctf.Variable 'make_surrogate_posterior/surrogate_raw_scale:0' shape=(170,) dtype=float32_ref\u003e,\n",
            " \u003ctf.Variable 'make_likelihood/intercept:0' shape=(1,) dtype=float32_ref\u003e,\n",
            " \u003ctf.Variable 'make_likelihood/weights_floor:0' shape=(1,) dtype=float32_ref\u003e,\n",
            " \u003ctf.Variable 'make_likelihood/likelihood_raw_scale:0' shape=() dtype=float32_ref\u003e]\n"
          ]
        }
      ],
      "source": [
        "reset_sess()\n",
        "\n",
        "[\n",
        "  data_init,\n",
        "  train_features,\n",
        "  train_labels,\n",
        "  test_features,\n",
        "  test_labels,\n",
        "  data_stats,\n",
        "] = split_dataset(\n",
        "    df,\n",
        "    hparams.train_test_split,\n",
        "    hparams.train_batch_size,\n",
        "    hparams.test_batch_size,\n",
        ")\n",
        "\n",
        "prior = make_prior()\n",
        "print(prior)\n",
        "\n",
        "surrogate_posterior = make_surrogate_posterior()\n",
        "print(surrogate_posterior)\n",
        "\n",
        "minibatch_correction_factor = data_stats.num_train / hparams.train_batch_size\n",
        "\n",
        "def unnormalized_approx_posterior_log_prob(u):\n",
        "  likelihood = make_likelihood(train_features, u)\n",
        "  print(likelihood)\n",
        "  return (likelihood.log_prob(train_labels) * minibatch_correction_factor\n",
        "          + prior.log_prob(u))\n",
        "\n",
        "elbo_loss = tfp.vi.monte_carlo_csiszar_f_divergence(\n",
        "    f=tfp.vi.kl_reverse,  # same as: Evidence Lower BOund\n",
        "    p_log_prob=unnormalized_approx_posterior_log_prob,\n",
        "    q=surrogate_posterior,\n",
        "    num_draws=hparams.num_monte_carlo_draws,\n",
        "    name='elbo_loss')\n",
        "print(elbo_loss)\n",
        "\n",
        "global_step = tf.train.get_or_create_global_step()\n",
        "learning_rate = tf.train.exponential_decay(\n",
        "    learning_rate=hparams.learning_rate_start,\n",
        "    global_step=global_step,\n",
        "    decay_steps=minibatch_correction_factor * hparams.learning_rate_num_epochs_per_decay,\n",
        "    decay_rate=hparams.learning_rate_decay_factor,\n",
        "    staircase=True)\n",
        "opt = tf.train.AdamOptimizer(learning_rate=learning_rate)\n",
        "train = opt.minimize(elbo_loss, global_step=global_step)\n",
        "\n",
        "pprint(tf.trainable_variables())\n",
        "\n",
        "var_init = tf.global_variables_initializer()"
      ]
    },
    {
      "cell_type": "code",
      "execution_count": 0,
      "metadata": {
        "colab": {
          "height": 289
        },
        "colab_type": "code",
        "executionInfo": {
          "elapsed": 27500,
          "status": "ok",
          "timestamp": 1539910296555,
          "user": {
            "displayName": "",
            "photoUrl": "",
            "userId": ""
          },
          "user_tz": 420
        },
        "id": "e9IaaqZPK9V8",
        "outputId": "8ba3ffa7-29b7-4089-e854-434fce3fb2ad"
      },
      "outputs": [
        {
          "name": "stdout",
          "output_type": "stream",
          "text": [
            "iter:   0  loss:1966.783\n",
            "iter: 200  loss:1020.058\n",
            "iter: 400  loss:833.788\n",
            "iter: 600  loss:994.871\n",
            "iter: 800  loss:883.134\n",
            "iter:1000  loss:892.679\n",
            "iter:1200  loss:846.151\n",
            "iter:1400  loss:857.963\n",
            "iter:1600  loss:902.009\n",
            "iter:1800  loss:893.753\n",
            "iter:2000  loss:814.118\n",
            "iter:2200  loss:841.195\n",
            "iter:2400  loss:906.226\n",
            "iter:2600  loss:881.371\n",
            "iter:2800  loss:839.190\n",
            "iter:2999  loss:832.338\n"
          ]
        }
      ],
      "source": [
        "loss_ = np.zeros(hparams.train_iterations)\n",
        "\n",
        "sess.run([var_init, data_init])\n",
        "\n",
        "for iter_ in range(hparams.train_iterations):\n",
        "  [\n",
        "      _,\n",
        "      train_features_,\n",
        "      train_labels_,\n",
        "      test_features_,\n",
        "      test_labels_,\n",
        "      loss_[iter_],\n",
        "  ] = sess.run([\n",
        "      train,\n",
        "      train_features,\n",
        "      train_labels,\n",
        "      test_features,\n",
        "      test_labels,\n",
        "      elbo_loss,\n",
        "  ])\n",
        "  if iter_ % 200 == 0 or iter_ == hparams.train_iterations - 1:\n",
        "    print(\"iter:{:\u003e4}  loss:{:.3f}\".format(\n",
        "        iter_, loss_[iter_]))"
      ]
    },
    {
      "cell_type": "markdown",
      "metadata": {
        "colab_type": "text",
        "id": "6H7RVU-SXexC"
      },
      "source": [
        "### Results"
      ]
    },
    {
      "cell_type": "code",
      "execution_count": 0,
      "metadata": {
        "colab": {
          "height": 68
        },
        "colab_type": "code",
        "executionInfo": {
          "elapsed": 244,
          "status": "ok",
          "timestamp": 1539910296839,
          "user": {
            "displayName": "",
            "photoUrl": "",
            "userId": ""
          },
          "user_tz": 420
        },
        "id": "OmiHUfBDUZg4",
        "outputId": "9c99721d-fa5c-4b3c-acff-d78ae6fc62ba"
      },
      "outputs": [
        {
          "name": "stdout",
          "output_type": "stream",
          "text": [
            "    intercept:  [ 1.46341455]\n",
            "weights_floor:  [-0.71115714]\n",
            "  prior_scale:  0.333418\n"
          ]
        }
      ],
      "source": [
        "surrogate_posterior_cov = surrogate_posterior.covariance()\n",
        "surrogate_posterior_scale = tf.cholesky(surrogate_posterior_cov )\n",
        "\n",
        "with tf.variable_scope('make_likelihood', reuse=True):\n",
        "  intercept = tf.get_variable(name='intercept')\n",
        "  weights_floor = tf.get_variable(name='weights_floor')\n",
        "\n",
        "[\n",
        "    surrogate_posterior_scale_,\n",
        "    surrogate_posterior_cov_,\n",
        "    intercept_,\n",
        "    weights_floor_,\n",
        "    prior_scale_,\n",
        "] = sess.run([\n",
        "    surrogate_posterior_scale,\n",
        "    surrogate_posterior_cov,\n",
        "    intercept,\n",
        "    weights_floor,\n",
        "    prior.distribution.scale,\n",
        "])\n",
        "\n",
        "\n",
        "print('    intercept: ', intercept_)\n",
        "print('weights_floor: ', weights_floor_)\n",
        "print('  prior_scale: ', prior_scale_)"
      ]
    },
    {
      "cell_type": "markdown",
      "metadata": {
        "colab_type": "text",
        "id": "eG8Z-HVwiz63"
      },
      "source": [
        "We will now plot the training-set loss as a function of training iteration. Note that although the `learning_rate` decays to `0`, there's still noise in the loss owing to the learned parameters being evaluated over different mini-batches."
      ]
    },
    {
      "cell_type": "code",
      "execution_count": 0,
      "metadata": {
        "colab": {
          "height": 291
        },
        "colab_type": "code",
        "executionInfo": {
          "elapsed": 545,
          "status": "ok",
          "timestamp": 1539910297467,
          "user": {
            "displayName": "",
            "photoUrl": "",
            "userId": ""
          },
          "user_tz": 420
        },
        "id": "qa63HEgPu2Zn",
        "outputId": "be9d43df-d94f-4513-d2ad-b090ce2a8c73"
      },
      "outputs": [
        {
          "data": {
            "image/png": "[encoded data removed]",
            "text/plain": [
              "\u003cmatplotlib.figure.Figure at 0x7f9ae7f89150\u003e"
            ]
          },
          "metadata": {
            "tags": []
          },
          "output_type": "display_data"
        }
      ],
      "source": [
        "plt.plot(loss_, 'b-');\n",
        "plt.xlabel('iter');\n",
        "plt.ylabel('loss');"
      ]
    },
    {
      "cell_type": "markdown",
      "metadata": {
        "colab_type": "text",
        "id": "WJHWXM33i_3o"
      },
      "source": [
        "We now plot a nonparametric estimate of the density of the diagonal of the surrogate posterior covariance. Roughly speaking, this shows us how much intrinsic variability there is in each county's `log(radon)` readings."
      ]
    },
    {
      "cell_type": "code",
      "execution_count": 0,
      "metadata": {
        "colab": {
          "height": 291
        },
        "colab_type": "code",
        "executionInfo": {
          "elapsed": 349,
          "status": "ok",
          "timestamp": 1539910297889,
          "user": {
            "displayName": "",
            "photoUrl": "",
            "userId": ""
          },
          "user_tz": 420
        },
        "id": "Pa47BzL0u2KA",
        "outputId": "c0a4dc47-b693-4bde-db0d-843c4adc80a7"
      },
      "outputs": [
        {
          "data": {
            "image/png": "[encoded data removed]",
            "text/plain": [
              "\u003cmatplotlib.figure.Figure at 0x7f9ae7f89850\u003e"
            ]
          },
          "metadata": {
            "tags": []
          },
          "output_type": "display_data"
        }
      ],
      "source": [
        "surrogate_posterior_diag_scale_ = np.diag(surrogate_posterior_scale_)\n",
        "with warnings.catch_warnings():\n",
        "  warnings.simplefilter(\"ignore\")\n",
        "  sns.kdeplot(surrogate_posterior_diag_scale_, shade=True, color=\"r\");\n",
        "  plt.xlabel('posterior std. deviation');\n",
        "  plt.ylabel('density');"
      ]
    },
    {
      "cell_type": "markdown",
      "metadata": {
        "colab_type": "text",
        "id": "L9WYd1WxjQ2u"
      },
      "source": [
        "We now show a heat map of the covariance matrix. This shows us that just looking at the diagonal was a perfectly reasonable thing to do; the matrix is clearly [diagonally dominant](https://en.wikipedia.org/wiki/Diagonally_dominant_matrix)."
      ]
    },
    {
      "cell_type": "code",
      "execution_count": 0,
      "metadata": {
        "colab": {
          "height": 306
        },
        "colab_type": "code",
        "executionInfo": {
          "elapsed": 628,
          "status": "ok",
          "timestamp": 1539910298599,
          "user": {
            "displayName": "",
            "photoUrl": "",
            "userId": ""
          },
          "user_tz": 420
        },
        "id": "-etGwnAHu2Br",
        "outputId": "d45db3fa-94f9-406f-e9ad-a6b4a1a0a56f"
      },
      "outputs": [
        {
          "data": {
            "text/plain": [
              "\u003cmatplotlib.text.Text at 0x7f9ae4c3ec90\u003e"
            ]
          },
          "execution_count": 17,
          "metadata": {
            "tags": []
          },
          "output_type": "execute_result"
        },
        {
          "data": {
            "image/png": "[encoded data removed]",
            "text/plain": [
              "\u003cmatplotlib.figure.Figure at 0x7f9ae50636d0\u003e"
            ]
          },
          "metadata": {
            "tags": []
          },
          "output_type": "display_data"
        }
      ],
      "source": [
        "sns.heatmap(surrogate_posterior_cov_)\n",
        "plt.title('Surrogate Posterior Covariance')"
      ]
    },
    {
      "cell_type": "markdown",
      "metadata": {
        "colab_type": "text",
        "id": "unU7DMKVjel7"
      },
      "source": [
        "We now conjecture that the county-wise standard deviations might be log-correlated with the number of observations for that county."
      ]
    },
    {
      "cell_type": "code",
      "execution_count": 0,
      "metadata": {
        "colab": {
          "height": 291
        },
        "colab_type": "code",
        "executionInfo": {
          "elapsed": 473,
          "status": "ok",
          "timestamp": 1539910299096,
          "user": {
            "displayName": "",
            "photoUrl": "",
            "userId": ""
          },
          "user_tz": 420
        },
        "id": "PqpaImuYu14c",
        "outputId": "faea9de6-6bed-4971-b5e3-83aad474cef3"
      },
      "outputs": [
        {
          "data": {
            "image/png": "[encoded data removed]",
            "text/plain": [
              "\u003cmatplotlib.figure.Figure at 0x7f9ae4add790\u003e"
            ]
          },
          "metadata": {
            "tags": []
          },
          "output_type": "display_data"
        }
      ],
      "source": [
        "cnt = np.histogram(\n",
        "    df['county'],\n",
        "    np.arange(data_stats.num_unique_county+1))[0]\n",
        "\n",
        "y = np.stack([cnt, surrogate_posterior_diag_scale_]).T\n",
        "y = y[y[:,0].argsort()]  # sort by zero-th col\n",
        "sns.regplot(x=np.log(y[:,0]), y=y[:, 1], color='g')\n",
        "plt.xlabel('county log-count');\n",
        "plt.ylabel('posterior std. deviation');"
      ]
    },
    {
      "cell_type": "markdown",
      "metadata": {
        "colab_type": "text",
        "id": "JYJL76jkcFjl"
      },
      "source": [
        "Indeed--we do appear to have learned a log-linear relationship between std. deviation and county frequency. This is neat because we never expressed this idea in the model; it is simply apparently true."
      ]
    },
    {
      "cell_type": "markdown",
      "metadata": {
        "colab_type": "text",
        "id": "AxhvAIeFs2cL"
      },
      "source": [
        "\n",
        "## Comparing to `lme4` in R"
      ]
    },
    {
      "cell_type": "code",
      "execution_count": 0,
      "metadata": {
        "colab": {
          "height": 17
        },
        "colab_type": "code",
        "executionInfo": {
          "elapsed": 122,
          "status": "ok",
          "timestamp": 1539910299300,
          "user": {
            "displayName": "",
            "photoUrl": "",
            "userId": ""
          },
          "user_tz": 420
        },
        "id": "hvRDd7T-s7qY",
        "outputId": "148be309-259f-4ce0-b244-0e935714ffd7"
      },
      "outputs": [
        {
          "data": {
            "application/javascript": [
              "window[\"233734b6-d339-11e8-9731-705a0f466c11\"] = colab.output.setWordWrap(true);\n",
              "//# sourceURL=js_bab784b33f"
            ],
            "text/plain": [
              "\u003cIPython.core.display.Javascript at 0x7f9ae4af75d0\u003e"
            ]
          },
          "metadata": {
            "tags": []
          },
          "output_type": "display_data"
        },
        {
          "data": {
            "application/javascript": [
              "window[\"233734b7-d339-11e8-9731-705a0f466c11\"] = jQuery(\"\u003cdiv class=id_794834720 style=\\\"margin-right:10px; display:flex;align-items:center;margin-top:10px;\\\"\u003e\u003cspan style=\\\"margin-right: 3px;\\\"\u003e\u003c/span\u003e\u003c/div\u003e\");\n",
              "//# sourceURL=js_9837565a48"
            ],
            "text/plain": [
              "\u003cIPython.core.display.Javascript at 0x7f9ae4af70d0\u003e"
            ]
          },
          "metadata": {
            "tags": []
          },
          "output_type": "display_data"
        },
        {
          "data": {
            "application/javascript": [
              "window[\"233734b8-d339-11e8-9731-705a0f466c11\"] = jQuery(\"#output-footer\");\n",
              "//# sourceURL=js_10f14ea08c"
            ],
            "text/plain": [
              "\u003cIPython.core.display.Javascript at 0x7f9ae4af7090\u003e"
            ]
          },
          "metadata": {
            "tags": []
          },
          "output_type": "display_data"
        },
        {
          "data": {
            "application/javascript": [
              "window[\"233734b9-d339-11e8-9731-705a0f466c11\"] = window[\"233734b7-d339-11e8-9731-705a0f466c11\"].appendTo(window[\"233734b8-d339-11e8-9731-705a0f466c11\"]);\n",
              "//# sourceURL=js_ca34337bf1"
            ],
            "text/plain": [
              "\u003cIPython.core.display.Javascript at 0x7f9ae7b59850\u003e"
            ]
          },
          "metadata": {
            "tags": []
          },
          "output_type": "display_data"
        },
        {
          "data": {
            "application/javascript": [
              "window[\"233734ba-d339-11e8-9731-705a0f466c11\"] = jQuery(\".id_794834720 span\");\n",
              "//# sourceURL=js_160caf1f8a"
            ],
            "text/plain": [
              "\u003cIPython.core.display.Javascript at 0x7f9ae4af73d0\u003e"
            ]
          },
          "metadata": {
            "tags": []
          },
          "output_type": "display_data"
        },
        {
          "data": {
            "application/javascript": [
              "window[\"233734bb-d339-11e8-9731-705a0f466c11\"] = window[\"233734ba-d339-11e8-9731-705a0f466c11\"].text(\"\u003e\");\n",
              "//# sourceURL=js_dabcd62bdd"
            ],
            "text/plain": [
              "\u003cIPython.core.display.Javascript at 0x7f9ae4af7410\u003e"
            ]
          },
          "metadata": {
            "tags": []
          },
          "output_type": "display_data"
        },
        {
          "data": {
            "application/javascript": [
              "window[\"233734bd-d339-11e8-9731-705a0f466c11\"] = jQuery(\".id_794834720\");\n",
              "//# sourceURL=js_c662bff62a"
            ],
            "text/plain": [
              "\u003cIPython.core.display.Javascript at 0x7f9ae7b59310\u003e"
            ]
          },
          "metadata": {
            "tags": []
          },
          "output_type": "display_data"
        },
        {
          "data": {
            "application/javascript": [
              "window[\"233734be-d339-11e8-9731-705a0f466c11\"] = window[\"233734bd-d339-11e8-9731-705a0f466c11\"].remove();\n",
              "//# sourceURL=js_a7ead95b84"
            ],
            "text/plain": [
              "\u003cIPython.core.display.Javascript at 0x7f9ae7b598d0\u003e"
            ]
          },
          "metadata": {
            "tags": []
          },
          "output_type": "display_data"
        }
      ],
      "source": [
        "%%shell\n",
        "exit  # Trick to make this block not execute.\n",
        "\n",
        "radon = read.csv('srrs2.dat', header = TRUE)\n",
        "radon = radon[radon$state=='MN',]\n",
        "radon$radon = ifelse(radon$activity==0., 0.1, radon$activity)\n",
        "radon$log_radon = log(radon$radon)\n",
        "\n",
        "# install.packages('lme4')\n",
        "library(lme4)\n",
        "fit \u003c- lmer(log_radon ~ 1 + floor + (1 | county), data=radon)\n",
        "fit\n",
        "\n",
        "# Linear mixed model fit by REML ['lmerMod']\n",
        "# Formula: log_radon ~ 1 + floor + (1 | county)\n",
        "#    Data: radon\n",
        "# REML criterion at convergence: 2171.305\n",
        "# Random effects:\n",
        "#  Groups   Name        Std.Dev.\n",
        "#  county   (Intercept) 0.3282\n",
        "#  Residual             0.7556\n",
        "# Number of obs: 919, groups:  county, 85\n",
        "# Fixed Effects:\n",
        "# (Intercept)        floor\n",
        "#       1.462       -0.693"
      ]
    },
    {
      "cell_type": "markdown",
      "metadata": {
        "colab_type": "text",
        "id": "n5IqiHERv91u"
      },
      "source": [
        "The following table summarizes the results."
      ]
    },
    {
      "cell_type": "code",
      "execution_count": 0,
      "metadata": {
        "colab": {
          "height": 68
        },
        "colab_type": "code",
        "executionInfo": {
          "elapsed": 50,
          "status": "ok",
          "timestamp": 1539910299423,
          "user": {
            "displayName": "",
            "photoUrl": "",
            "userId": ""
          },
          "user_tz": 420
        },
        "id": "D0sUh3NNuqlw",
        "outputId": "f0876c02-0822-464a-ee44-e1d53e94dea1"
      },
      "outputs": [
        {
          "name": "stdout",
          "output_type": "stream",
          "text": [
            "         floor  intercept     scale\n",
            "lme4 -0.693000   1.462000  0.328200\n",
            "vi   -0.711157   1.463415  0.333418\n"
          ]
        }
      ],
      "source": [
        "print(pd.DataFrame(data=dict(intercept=[1.462, intercept_[0]],\n",
        "                             floor=[-0.693, weights_floor_[0]],\n",
        "                             scale=[0.3282, prior_scale_]),\n",
        "                   index=['lme4', 'vi']))"
      ]
    },
    {
      "cell_type": "markdown",
      "metadata": {
        "colab_type": "text",
        "id": "nVjHJxVdwBXb"
      },
      "source": [
        "This table indicates the VI results are within ~10% of `lme4`'s.  This is somewhat surprising since:\n",
        "- `lme4` is based on [Laplace's method](https://www.jstatsoft.org/article/view/v067i01/) (not VI),\n",
        "- we used mini-batch SGD,\n",
        "- no effort was made in this colab to actually converge,\n",
        "- minimal effort was made to tune hyperparameters,\n",
        "- no effort was taken regularize or preprocess the data (eg, center features, etc.)."
      ]
    },
    {
      "cell_type": "markdown",
      "metadata": {
        "colab_type": "text",
        "id": "ApP0PtwYN_ah"
      },
      "source": [
        "## Conclusion"
      ]
    },
    {
      "cell_type": "markdown",
      "metadata": {
        "colab_type": "text",
        "id": "eIFHW00tOJwo"
      },
      "source": [
        "In this colab we described Generalized Linear Mixed-effects Models and showed how to use variational inference to fit them using TensorFlow. Although the toy problem only had a few 100 training samples, the techniques used here are identical to what's needed at scale."
      ]
    }
  ],
  "metadata": {
    "colab": {
      "collapsed_sections": [],
      "last_runtime": {
        "build_target": "",
        "kind": "local"
      },
      "name": "Linear_Mixed_Effects_Model_Variational_Inference.ipynb",
      "provenance": [
        {
          "file_id": "0BzyyOViReY2iQkNuLVhLTkpOT3c",
          "timestamp": 1528820332081
        }
      ],
      "version": "0.3.2"
    }
  },
  "nbformat": 4,
  "nbformat_minor": 0
}
