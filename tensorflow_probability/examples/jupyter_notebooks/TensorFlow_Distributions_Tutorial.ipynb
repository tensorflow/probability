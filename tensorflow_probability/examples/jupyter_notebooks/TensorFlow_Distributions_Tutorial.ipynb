{
  "nbformat": 4,
  "nbformat_minor": 0,
  "metadata": {
    "colab": {
      "name": "TensorFlow_Distributions_Tutorial.ipynb",
      "version": "0.3.2",
      "provenance": [],
      "collapsed_sections": [],
      "toc_visible": true
    },
    "kernelspec": {
      "name": "python3",
      "display_name": "Python 3"
    }
  },
  "cells": [
    {
      "metadata": {
        "id": "Fqp93JixVuiN",
        "colab_type": "text"
      },
      "cell_type": "markdown",
      "source": [
        "##### Copyright 2018 The TensorFlow Authors.\n",
        "\n",
        "Licensed under the Apache License, Version 2.0 (the \"License\");"
      ]
    },
    {
      "metadata": {
        "id": "MeKZo1dnV1cE",
        "colab_type": "code",
        "colab": {}
      },
      "cell_type": "code",
      "source": [
        "#@title Licensed under the Apache License, Version 2.0 (the \"License\"); { display-mode: \"form\" }\n",
        "# you may not use this file except in compliance with the License.\n",
        "# You may obtain a copy of the License at\n",
        "#\n",
        "# https://www.apache.org/licenses/LICENSE-2.0\n",
        "#\n",
        "# Unless required by applicable law or agreed to in writing, software\n",
        "# distributed under the License is distributed on an \"AS IS\" BASIS,\n",
        "# WITHOUT WARRANTIES OR CONDITIONS OF ANY KIND, either express or implied.\n",
        "# See the License for the specific language governing permissions and\n",
        "# limitations under the License."
      ],
      "execution_count": 0,
      "outputs": []
    },
    {
      "metadata": {
        "id": "DcriL2xPrG3_",
        "colab_type": "text"
      },
      "cell_type": "markdown",
      "source": [
        "# TensorFlow Distributions: A Gentle Introduction\n",
        "\n",
        "<table class=\"tfo-notebook-buttons\" align=\"left\">\n",
        "  <td>\n",
        "    <a target=\"_blank\" href=\"https://colab.research.google.com/github/tensorflow/probability/blob/master/tensorflow_probability/examples/jupyter_notebooks/TensorFlow_Distributions_Tutorial.ipynb\"><img src=\"https://www.tensorflow.org/images/colab_logo_32px.png\" />Run in Google Colab</a>\n",
        "  </td>\n",
        "  <td>\n",
        "    <a target=\"_blank\" href=\"https://github.com/tensorflow/probability/blob/master/tensorflow_probability/examples/jupyter_notebooks/TensorFlow_Distributions_Tutorial.ipynb\"><img src=\"https://www.tensorflow.org/images/GitHub-Mark-32px.png\" />View source on GitHub</a>\n",
        "  </td>\n",
        "</table>"
      ]
    },
    {
      "metadata": {
        "id": "10i0wSQfJClb",
        "colab_type": "text"
      },
      "cell_type": "markdown",
      "source": [
        "In this notebook, we'll explore TensorFlow Distributions (TFD for short). The goal of this notebook is to get you gently up the learning curve, including understanding TFD's handling of tensor shapes. This notebook tries to present examples before rather than abstract concepts. We'll present canonical easy ways to do things first, and save the most general abstract view until the end. If you're the type who prefers a more abstract and reference-style tutorial, check out [Understanding TensorFlow Distributions Shapes](https://github.com/tensorflow/probability/blob/master/tensorflow_probability/examples/jupyter_notebooks/Understanding_TensorFlow_Distributions_Shapes.ipynb). If you have any questions about the material here, don't hesitate to contact (or join) [the TensorFlow Probability mailing list](https://groups.google.com/a/tensorflow.org/forum/#!forum/tfprobability). We're happy to help."
      ]
    },
    {
      "metadata": {
        "id": "kII2QSIEJn0X",
        "colab_type": "text"
      },
      "cell_type": "markdown",
      "source": [
        "Before we start, we need to import the appropriate libraries. Our overall library is `tensorflow_probability`. By convention, we generally refer to the distributions library as `tfd`.\n",
        "\n",
        "[Tensorflow Eager](https://www.tensorflow.org/guide/eager) is an imperative execution environment for TensorFlow. In TensorFlow eager, every TF operation is immediately evaluated and produces a result. This is in contrast to TensorFlow's standard \"graph\" mode, in which TF operations add nodes to a graph which is later executed. This entire notebook is written using TF Eager, although none of the concepts presented here rely on that, and TFP can be used in graph mode."
      ]
    },
    {
      "metadata": {
        "id": "J6t0EUihrG4B",
        "colab_type": "code",
        "colab": {}
      },
      "cell_type": "code",
      "source": [
        "import collections\n",
        "\n",
        "import tensorflow as tf\n",
        "import tensorflow_probability as tfp\n",
        "tfd = tfp.distributions\n",
        "\n",
        "try:\n",
        "  tf.compat.v1.enable_eager_execution()\n",
        "except ValueError:\n",
        "  pass\n",
        "\n",
        "import matplotlib.pyplot as plt\n",
        "\n",
        "from __future__ import print_function"
      ],
      "execution_count": 0,
      "outputs": []
    },
    {
      "metadata": {
        "id": "QD5lzFZerG4H",
        "colab_type": "text"
      },
      "cell_type": "markdown",
      "source": [
        "## Basic Univariate Distributions\n"
      ]
    },
    {
      "metadata": {
        "id": "Gos16Z82LSQQ",
        "colab_type": "text"
      },
      "cell_type": "markdown",
      "source": [
        "Let's dive right in and create a normal distribution:"
      ]
    },
    {
      "metadata": {
        "id": "r3zofkWpLEvY",
        "colab_type": "code",
        "colab": {
          "base_uri": "https://localhost:8080/",
          "height": 34
        },
        "outputId": "3e8505be-04d5-4efb-d5c9-38aac70654b8"
      },
      "cell_type": "code",
      "source": [
        "n = tfd.Normal(loc=0., scale=1.)\n",
        "n"
      ],
      "execution_count": 4,
      "outputs": [
        {
          "output_type": "execute_result",
          "data": {
            "text/plain": [
              "<tfp.distributions.Normal 'Normal/' batch_shape=() event_shape=() dtype=float32>"
            ]
          },
          "metadata": {
            "tags": []
          },
          "execution_count": 4
        }
      ]
    },
    {
      "metadata": {
        "id": "7rlXP5HaLVsc",
        "colab_type": "text"
      },
      "cell_type": "markdown",
      "source": [
        "We can draw a sample from it:"
      ]
    },
    {
      "metadata": {
        "id": "14RRJONELX3O",
        "colab_type": "code",
        "colab": {
          "base_uri": "https://localhost:8080/",
          "height": 34
        },
        "outputId": "ede9fc2a-749a-4d4b-9b3c-f37e24817328"
      },
      "cell_type": "code",
      "source": [
        "n.sample()"
      ],
      "execution_count": 5,
      "outputs": [
        {
          "output_type": "execute_result",
          "data": {
            "text/plain": [
              "<tf.Tensor: id=23, shape=(), dtype=float32, numpy=-1.2775375>"
            ]
          },
          "metadata": {
            "tags": []
          },
          "execution_count": 5
        }
      ]
    },
    {
      "metadata": {
        "id": "NsDAltf5Le33",
        "colab_type": "text"
      },
      "cell_type": "markdown",
      "source": [
        "We can draw multiple samples:"
      ]
    },
    {
      "metadata": {
        "id": "v5jdTzbqLhrl",
        "colab_type": "code",
        "colab": {
          "base_uri": "https://localhost:8080/",
          "height": 34
        },
        "outputId": "1d6619a0-4855-4e4b-f884-9f3a4587b034"
      },
      "cell_type": "code",
      "source": [
        "n.sample(3)"
      ],
      "execution_count": 6,
      "outputs": [
        {
          "output_type": "execute_result",
          "data": {
            "text/plain": [
              "<tf.Tensor: id=44, shape=(3,), dtype=float32, numpy=array([ 0.49041903,  1.3672128 , -0.39134106], dtype=float32)>"
            ]
          },
          "metadata": {
            "tags": []
          },
          "execution_count": 6
        }
      ]
    },
    {
      "metadata": {
        "id": "4wX5cjUXLmrD",
        "colab_type": "text"
      },
      "cell_type": "markdown",
      "source": [
        "We can evaluate a log prob:"
      ]
    },
    {
      "metadata": {
        "id": "hrCTzv2cLoLw",
        "colab_type": "code",
        "colab": {
          "base_uri": "https://localhost:8080/",
          "height": 34
        },
        "outputId": "8a4ded54-7a40-47db-fef4-a9cd72201f90"
      },
      "cell_type": "code",
      "source": [
        "n.log_prob(0.)"
      ],
      "execution_count": 7,
      "outputs": [
        {
          "output_type": "execute_result",
          "data": {
            "text/plain": [
              "<tf.Tensor: id=55, shape=(), dtype=float32, numpy=-0.9189385>"
            ]
          },
          "metadata": {
            "tags": []
          },
          "execution_count": 7
        }
      ]
    },
    {
      "metadata": {
        "id": "lHYIb0psLrzE",
        "colab_type": "text"
      },
      "cell_type": "markdown",
      "source": [
        "We can evaluate multiple log probabilities:"
      ]
    },
    {
      "metadata": {
        "id": "4dgwzazNLw6H",
        "colab_type": "code",
        "colab": {
          "base_uri": "https://localhost:8080/",
          "height": 34
        },
        "outputId": "32ef6ae1-89e9-4a20-877a-cadd481e17ef"
      },
      "cell_type": "code",
      "source": [
        "n.log_prob([0., 2., 4.])"
      ],
      "execution_count": 8,
      "outputs": [
        {
          "output_type": "execute_result",
          "data": {
            "text/plain": [
              "<tf.Tensor: id=64, shape=(3,), dtype=float32, numpy=array([-0.9189385, -2.9189386, -8.918939 ], dtype=float32)>"
            ]
          },
          "metadata": {
            "tags": []
          },
          "execution_count": 8
        }
      ]
    },
    {
      "metadata": {
        "id": "mY5hHMClL-i1",
        "colab_type": "text"
      },
      "cell_type": "markdown",
      "source": [
        "We have a wide range of distributions. Let's try a Bernoulli:"
      ]
    },
    {
      "metadata": {
        "id": "OIJErPQWMDfP",
        "colab_type": "code",
        "colab": {
          "base_uri": "https://localhost:8080/",
          "height": 34
        },
        "outputId": "32cf6e94-3fd8-42d3-ec93-be5b6ee9ca75"
      },
      "cell_type": "code",
      "source": [
        "b = tfd.Bernoulli(probs=0.7)\n",
        "b"
      ],
      "execution_count": 9,
      "outputs": [
        {
          "output_type": "execute_result",
          "data": {
            "text/plain": [
              "<tfp.distributions.Bernoulli 'Bernoulli/' batch_shape=() event_shape=() dtype=int32>"
            ]
          },
          "metadata": {
            "tags": []
          },
          "execution_count": 9
        }
      ]
    },
    {
      "metadata": {
        "id": "oqDcgYE8Mck2",
        "colab_type": "code",
        "colab": {
          "base_uri": "https://localhost:8080/",
          "height": 34
        },
        "outputId": "93fd5c06-3cb5-4423-fa63-07b9096d145d"
      },
      "cell_type": "code",
      "source": [
        "b.sample()"
      ],
      "execution_count": 10,
      "outputs": [
        {
          "output_type": "execute_result",
          "data": {
            "text/plain": [
              "<tf.Tensor: id=92, shape=(), dtype=int32, numpy=1>"
            ]
          },
          "metadata": {
            "tags": []
          },
          "execution_count": 10
        }
      ]
    },
    {
      "metadata": {
        "id": "6HbbzPNTMgXh",
        "colab_type": "code",
        "colab": {
          "base_uri": "https://localhost:8080/",
          "height": 34
        },
        "outputId": "c08b6f20-a6c3-4ac1-c738-7f8c7745e00d"
      },
      "cell_type": "code",
      "source": [
        "b.sample(8)"
      ],
      "execution_count": 11,
      "outputs": [
        {
          "output_type": "execute_result",
          "data": {
            "text/plain": [
              "<tf.Tensor: id=114, shape=(8,), dtype=int32, numpy=array([0, 1, 1, 1, 1, 1, 0, 1], dtype=int32)>"
            ]
          },
          "metadata": {
            "tags": []
          },
          "execution_count": 11
        }
      ]
    },
    {
      "metadata": {
        "id": "LNy0tIKmMuL3",
        "colab_type": "code",
        "colab": {
          "base_uri": "https://localhost:8080/",
          "height": 34
        },
        "outputId": "fd5660c1-6869-45b5-d3d3-7bb073ec22bb"
      },
      "cell_type": "code",
      "source": [
        "b.log_prob(1)"
      ],
      "execution_count": 12,
      "outputs": [
        {
          "output_type": "execute_result",
          "data": {
            "text/plain": [
              "<tf.Tensor: id=129, shape=(), dtype=float32, numpy=-0.35667494>"
            ]
          },
          "metadata": {
            "tags": []
          },
          "execution_count": 12
        }
      ]
    },
    {
      "metadata": {
        "id": "sghhA8onM0IN",
        "colab_type": "code",
        "colab": {
          "base_uri": "https://localhost:8080/",
          "height": 34
        },
        "outputId": "06985a12-bbba-471f-94f1-4304e99306fa"
      },
      "cell_type": "code",
      "source": [
        "b.log_prob([1, 0, 1, 0])"
      ],
      "execution_count": 13,
      "outputs": [
        {
          "output_type": "execute_result",
          "data": {
            "text/plain": [
              "<tf.Tensor: id=149, shape=(4,), dtype=float32, numpy=array([-0.35667494, -1.2039728 , -0.35667494, -1.2039728 ], dtype=float32)>"
            ]
          },
          "metadata": {
            "tags": []
          },
          "execution_count": 13
        }
      ]
    },
    {
      "metadata": {
        "id": "ztM2d-N9nNX2",
        "colab_type": "text"
      },
      "cell_type": "markdown",
      "source": [
        "## Multivariate Distributions"
      ]
    },
    {
      "metadata": {
        "id": "MT2ZyGCoHMla",
        "colab_type": "text"
      },
      "cell_type": "markdown",
      "source": [
        "We'll create a multivariate normal with a diagonal covariance:"
      ]
    },
    {
      "metadata": {
        "id": "MuFrhR4enQI5",
        "colab_type": "code",
        "colab": {
          "base_uri": "https://localhost:8080/",
          "height": 34
        },
        "outputId": "0d7d7748-3a15-4af6-fbcd-3b0dce458978"
      },
      "cell_type": "code",
      "source": [
        "nd = tfd.MultivariateNormalDiag(loc=[0., 10.], scale_diag=[1., 4.])\n",
        "nd"
      ],
      "execution_count": 14,
      "outputs": [
        {
          "output_type": "execute_result",
          "data": {
            "text/plain": [
              "<tfp.distributions.MultivariateNormalDiag 'MultivariateNormalDiag/' batch_shape=() event_shape=(2,) dtype=float32>"
            ]
          },
          "metadata": {
            "tags": []
          },
          "execution_count": 14
        }
      ]
    },
    {
      "metadata": {
        "id": "QUcnlm3vHFRj",
        "colab_type": "text"
      },
      "cell_type": "markdown",
      "source": [
        "Comparing this to the univariate normal we created earlier, what's different? "
      ]
    },
    {
      "metadata": {
        "id": "ggInhJ-LHVhR",
        "colab_type": "code",
        "colab": {
          "base_uri": "https://localhost:8080/",
          "height": 34
        },
        "outputId": "c4f41e0a-0fa4-4680-d825-86a35977b5f6"
      },
      "cell_type": "code",
      "source": [
        "tfd.Normal(loc=0., scale=1.)"
      ],
      "execution_count": 15,
      "outputs": [
        {
          "output_type": "execute_result",
          "data": {
            "text/plain": [
              "<tfp.distributions.Normal 'Normal/' batch_shape=() event_shape=() dtype=float32>"
            ]
          },
          "metadata": {
            "tags": []
          },
          "execution_count": 15
        }
      ]
    },
    {
      "metadata": {
        "id": "0ze8A19LnqO5",
        "colab_type": "text"
      },
      "cell_type": "markdown",
      "source": [
        "We see that the univariate normal has an `event_shape` of `()`, indicating it's a scalar distribution. The multivariate normal has an `event_shape` of `2`, indicating the basic [event space](https://en.wikipedia.org/wiki/Event_(probability_theory&#41;) of this distribution is two-dimensional."
      ]
    },
    {
      "metadata": {
        "id": "lJTTGCuuHpf5",
        "colab_type": "text"
      },
      "cell_type": "markdown",
      "source": [
        "Sampling works just as before:"
      ]
    },
    {
      "metadata": {
        "id": "xQzfj0vHnw-5",
        "colab_type": "code",
        "colab": {
          "base_uri": "https://localhost:8080/",
          "height": 34
        },
        "outputId": "9f3336da-61f2-44cf-831e-321d3f0777cb"
      },
      "cell_type": "code",
      "source": [
        "nd.sample()"
      ],
      "execution_count": 16,
      "outputs": [
        {
          "output_type": "execute_result",
          "data": {
            "text/plain": [
              "<tf.Tensor: id=317, shape=(2,), dtype=float32, numpy=array([-0.43942595,  9.620465  ], dtype=float32)>"
            ]
          },
          "metadata": {
            "tags": []
          },
          "execution_count": 16
        }
      ]
    },
    {
      "metadata": {
        "id": "dSyxxVmNnzT1",
        "colab_type": "code",
        "colab": {
          "base_uri": "https://localhost:8080/",
          "height": 119
        },
        "outputId": "7d87a4d0-1a63-4c56-cf25-f17ba1ecdb07"
      },
      "cell_type": "code",
      "source": [
        "nd.sample(5)"
      ],
      "execution_count": 17,
      "outputs": [
        {
          "output_type": "execute_result",
          "data": {
            "text/plain": [
              "<tf.Tensor: id=425, shape=(5, 2), dtype=float32, numpy=\n",
              "array([[-0.10185293,  9.465504  ],\n",
              "       [ 1.3469841 , 11.134725  ],\n",
              "       [ 3.049023  , -3.3670492 ],\n",
              "       [ 0.26367915, 18.198818  ],\n",
              "       [-0.8832267 , 11.224263  ]], dtype=float32)>"
            ]
          },
          "metadata": {
            "tags": []
          },
          "execution_count": 17
        }
      ]
    },
    {
      "metadata": {
        "id": "SC0fmV3hn0Zp",
        "colab_type": "code",
        "colab": {
          "base_uri": "https://localhost:8080/",
          "height": 34
        },
        "outputId": "032b014a-dc88-4b9a-abcb-333453e64297"
      },
      "cell_type": "code",
      "source": [
        "nd.log_prob([0., 10])"
      ],
      "execution_count": 18,
      "outputs": [
        {
          "output_type": "execute_result",
          "data": {
            "text/plain": [
              "<tf.Tensor: id=526, shape=(), dtype=float32, numpy=-3.2241714>"
            ]
          },
          "metadata": {
            "tags": []
          },
          "execution_count": 18
        }
      ]
    },
    {
      "metadata": {
        "id": "lmI_pjVJIT4I",
        "colab_type": "text"
      },
      "cell_type": "markdown",
      "source": [
        "Multivariate normals do not in general have diagonal covariance. TFD offers multiple ways to create multivariate normals, including a full-covariance specification, which we use here."
      ]
    },
    {
      "metadata": {
        "id": "qPEWjisBolk2",
        "colab_type": "code",
        "colab": {
          "base_uri": "https://localhost:8080/",
          "height": 362
        },
        "outputId": "2dbc9f74-a85f-43d5-91ee-fdc0896658c6"
      },
      "cell_type": "code",
      "source": [
        "nd = tfd.MultivariateNormalFullCovariance(\n",
        "    loc = [0., 5], covariance_matrix = [[1., .7], [.7, 1.]])\n",
        "data = nd.sample(200)\n",
        "plt.scatter(data[:, 0], data[:, 1], color='blue', alpha=0.4)\n",
        "plt.axis([-5, 5, 0, 10])\n",
        "plt.title(\"Data set\")\n",
        "plt.show()"
      ],
      "execution_count": 19,
      "outputs": [
        {
          "output_type": "display_data",
          "data": {
            "image/png": "[encoded data removed]",
            "text/plain": [
              "<matplotlib.figure.Figure at 0x7f03db425278>"
            ]
          },
          "metadata": {
            "tags": []
          }
        }
      ]
    },
    {
      "metadata": {
        "id": "57lLzC7MQV-9",
        "colab_type": "text"
      },
      "cell_type": "markdown",
      "source": [
        "## Multiple Distributions"
      ]
    },
    {
      "metadata": {
        "id": "aRYY7-KvQupB",
        "colab_type": "text"
      },
      "cell_type": "markdown",
      "source": [
        "Our first Bernoulli distribution represented a flip of a single fair coin. We can also create a batch of independent Bernoulli distributions, each with their own parameters, in a single `Distribution` object:"
      ]
    },
    {
      "metadata": {
        "id": "as9fo-XtRAFo",
        "colab_type": "code",
        "colab": {
          "base_uri": "https://localhost:8080/",
          "height": 34
        },
        "outputId": "bcc6df15-80f5-46ee-bdc4-7cd1650b2888"
      },
      "cell_type": "code",
      "source": [
        "b3 = tfd.Bernoulli(probs=[.3, .5, .7])\n",
        "b3"
      ],
      "execution_count": 20,
      "outputs": [
        {
          "output_type": "execute_result",
          "data": {
            "text/plain": [
              "<tfp.distributions.Bernoulli 'Bernoulli/' batch_shape=(3,) event_shape=() dtype=int32>"
            ]
          },
          "metadata": {
            "tags": []
          },
          "execution_count": 20
        }
      ]
    },
    {
      "metadata": {
        "id": "x_7t57XzRGVD",
        "colab_type": "text"
      },
      "cell_type": "markdown",
      "source": [
        "It's important to be clear on what this means. The above call defines three independent Bernoulli distributions, which happen to be contained in the same Python `Distribution` object. The three distributions cannot be manipulated individually. Note how the `batch_shape` is `(3,)`, indicating a batch of three distributions, and the `event_shape` is `()`, indicating the individual distributions have a univariate event space.\n",
        "\n",
        "\n",
        "If we call `sample`, we get a sample from all three:"
      ]
    },
    {
      "metadata": {
        "id": "bQQJ_N7XRkuh",
        "colab_type": "code",
        "colab": {
          "base_uri": "https://localhost:8080/",
          "height": 34
        },
        "outputId": "a8e94d92-8b25-4d43-95f2-2e9e7e7fb9d2"
      },
      "cell_type": "code",
      "source": [
        "b3.sample()"
      ],
      "execution_count": 21,
      "outputs": [
        {
          "output_type": "execute_result",
          "data": {
            "text/plain": [
              "<tf.Tensor: id=744, shape=(3,), dtype=int32, numpy=array([1, 0, 1], dtype=int32)>"
            ]
          },
          "metadata": {
            "tags": []
          },
          "execution_count": 21
        }
      ]
    },
    {
      "metadata": {
        "id": "aM6JOl3HSQb3",
        "colab_type": "code",
        "colab": {
          "base_uri": "https://localhost:8080/",
          "height": 136
        },
        "outputId": "d53d6740-2a2a-488c-dc60-b38b96015f8a"
      },
      "cell_type": "code",
      "source": [
        "b3.sample(6)"
      ],
      "execution_count": 22,
      "outputs": [
        {
          "output_type": "execute_result",
          "data": {
            "text/plain": [
              "<tf.Tensor: id=766, shape=(6, 3), dtype=int32, numpy=\n",
              "array([[0, 0, 1],\n",
              "       [0, 1, 1],\n",
              "       [1, 0, 1],\n",
              "       [0, 0, 1],\n",
              "       [0, 1, 1],\n",
              "       [0, 0, 1]], dtype=int32)>"
            ]
          },
          "metadata": {
            "tags": []
          },
          "execution_count": 22
        }
      ]
    },
    {
      "metadata": {
        "id": "7NRbaUyLR2yf",
        "colab_type": "text"
      },
      "cell_type": "markdown",
      "source": [
        "If we call  `prob`, (this has the same shape semantics as `log_prob`; we use `prob` with these small Bernoulli examples for clarity, although `log_prob` is usually preferred in applications) we can pass it a vector and evaluate the probability of each coin yielding that value:"
      ]
    },
    {
      "metadata": {
        "id": "UKRV_z47NUV9",
        "colab_type": "code",
        "colab": {
          "base_uri": "https://localhost:8080/",
          "height": 34
        },
        "outputId": "4fea41bd-95d4-4feb-bebd-7d5a58c83d2f"
      },
      "cell_type": "code",
      "source": [
        "b3.prob([1, 1, 0])"
      ],
      "execution_count": 23,
      "outputs": [
        {
          "output_type": "execute_result",
          "data": {
            "text/plain": [
              "<tf.Tensor: id=782, shape=(3,), dtype=float32, numpy=array([0.29999998, 0.5       , 0.29999998], dtype=float32)>"
            ]
          },
          "metadata": {
            "tags": []
          },
          "execution_count": 23
        }
      ]
    },
    {
      "metadata": {
        "id": "Y3MexqrtREPP",
        "colab_type": "text"
      },
      "cell_type": "markdown",
      "source": [
        "Why does the API include batch shape? Semantically, one could perform the same computations by creating a list of distributions and iterating over them with a `for` loop (at least in Eager mode, in TF graph mode you'd need a `tf.while` loop). However, having a (potentially large) set of identically parameterized distributions is extremely common, and the use of vectorized computations whenever possible is a key ingredient in being able to perform fast computations using hardware accelerators."
      ]
    },
    {
      "metadata": {
        "id": "t52ptQXvUO07",
        "colab_type": "text"
      },
      "cell_type": "markdown",
      "source": [
        "## Using Independent To Aggregate Batches to Events"
      ]
    },
    {
      "metadata": {
        "id": "oN3mut1NTOXX",
        "colab_type": "text"
      },
      "cell_type": "markdown",
      "source": [
        "In the previous section, we created `b3`, a single `Distribution` object that represented three coin flips. If we called `b3.prob` on a vector $v$, the $i$'th entry was the probability that the $i$th coin takes value $v[i]$.\n",
        "\n",
        "Suppose we'd instead like to specify a \"joint\" distribution over independent random variables from the same underlying family. This is a different object mathematically, in that for this new distribution, `prob` on a vector $v$ will return a single value representing the probability that the entire set of coins matches the vector $v$.\n",
        "\n",
        "How do we accomplish this? We use a \"higher-order\" distribution called `Independent`, which takes a distribution and yields a new distribution with the batch shape moved to the event shape:"
      ]
    },
    {
      "metadata": {
        "id": "V_DcGAG2Tqxj",
        "colab_type": "code",
        "colab": {
          "base_uri": "https://localhost:8080/",
          "height": 34
        },
        "outputId": "b939abf1-2d03-4d94-8862-fe1adb7e4244"
      },
      "cell_type": "code",
      "source": [
        "b3_joint = tfd.Independent(b3, reinterpreted_batch_ndims=1)\n",
        "b3_joint"
      ],
      "execution_count": 24,
      "outputs": [
        {
          "output_type": "execute_result",
          "data": {
            "text/plain": [
              "<tfp.distributions.Independent 'IndependentBernoulli/' batch_shape=() event_shape=(3,) dtype=int32>"
            ]
          },
          "metadata": {
            "tags": []
          },
          "execution_count": 24
        }
      ]
    },
    {
      "metadata": {
        "id": "Zkv5TRVFVLUo",
        "colab_type": "text"
      },
      "cell_type": "markdown",
      "source": [
        "Compare the shape to that of the original `b3`:"
      ]
    },
    {
      "metadata": {
        "id": "5bBsLX-6VT36",
        "colab_type": "code",
        "colab": {
          "base_uri": "https://localhost:8080/",
          "height": 34
        },
        "outputId": "753e7a48-c98f-4ca6-92fe-d417e8cc1a5c"
      },
      "cell_type": "code",
      "source": [
        "b3"
      ],
      "execution_count": 25,
      "outputs": [
        {
          "output_type": "execute_result",
          "data": {
            "text/plain": [
              "<tfp.distributions.Bernoulli 'Bernoulli/' batch_shape=(3,) event_shape=() dtype=int32>"
            ]
          },
          "metadata": {
            "tags": []
          },
          "execution_count": 25
        }
      ]
    },
    {
      "metadata": {
        "id": "0uveNoPNVVYy",
        "colab_type": "text"
      },
      "cell_type": "markdown",
      "source": [
        "As promised, we see that that `Independent` has moved the batch shape into the event shape: `b3_joint` is a single distribution (`batch_shape = ()`) over a three-dimensional event space (`event_shape = (3,)`).\n",
        "\n",
        "Let's check the semantics:"
      ]
    },
    {
      "metadata": {
        "id": "eDsO2gLcVlY9",
        "colab_type": "code",
        "colab": {
          "base_uri": "https://localhost:8080/",
          "height": 34
        },
        "outputId": "482445e7-304a-420b-e5b7-53a2cf73da56"
      },
      "cell_type": "code",
      "source": [
        "b3_joint.prob([1, 1, 0])"
      ],
      "execution_count": 26,
      "outputs": [
        {
          "output_type": "execute_result",
          "data": {
            "text/plain": [
              "<tf.Tensor: id=801, shape=(), dtype=float32, numpy=0.044999998>"
            ]
          },
          "metadata": {
            "tags": []
          },
          "execution_count": 26
        }
      ]
    },
    {
      "metadata": {
        "id": "IktKInQ5WQJz",
        "colab_type": "text"
      },
      "cell_type": "markdown",
      "source": [
        "An alternate way to get the same result would be to compute probabilities using `b3` and do the reduction manually by multiplying (or, in the more usual case where log probabilities are used, summing):"
      ]
    },
    {
      "metadata": {
        "id": "rRIVEchSV-RZ",
        "colab_type": "code",
        "colab": {
          "base_uri": "https://localhost:8080/",
          "height": 34
        },
        "outputId": "bd69ff28-7bf0-48c6-ef36-86f687a30b6b"
      },
      "cell_type": "code",
      "source": [
        "tf.reduce_prod(b3.prob([1, 1, 0]))"
      ],
      "execution_count": 27,
      "outputs": [
        {
          "output_type": "execute_result",
          "data": {
            "text/plain": [
              "<tf.Tensor: id=818, shape=(), dtype=float32, numpy=0.044999994>"
            ]
          },
          "metadata": {
            "tags": []
          },
          "execution_count": 27
        }
      ]
    },
    {
      "metadata": {
        "id": "ikayH3d2Wcf-",
        "colab_type": "text"
      },
      "cell_type": "markdown",
      "source": [
        "`Indpendent` allows the user to more explicitly represent the desired concept. We view this as extremely useful, although it's not strictly necessary."
      ]
    },
    {
      "metadata": {
        "id": "wVivnv1qWi9f",
        "colab_type": "text"
      },
      "cell_type": "markdown",
      "source": [
        "Fun facts:\n",
        "\n",
        "\n",
        "*   `b3.sample` and `b3_joint.sample` have different conceptual implementations, but indistinguishable outputs: the difference between a batch of independent distributions and a single distribution created from the batch using `Independent` shows up when computing probabilites, not when sampling.\n",
        "*   `MultivariateNormalDiag` could be trivially implemented using the scalar `Normal` and `Independent` distributions (it isn't actually implemented this way, but it could be).\n",
        "\n"
      ]
    },
    {
      "metadata": {
        "id": "INu1viAVXz93",
        "colab_type": "text"
      },
      "cell_type": "markdown",
      "source": [
        "## Batches of Multivariate Distirbutions"
      ]
    },
    {
      "metadata": {
        "id": "G_cEhLU-Tjhm",
        "colab_type": "text"
      },
      "cell_type": "markdown",
      "source": [
        "Let's create a batch of three full-covariance two-dimensional multivariate normals: "
      ]
    },
    {
      "metadata": {
        "id": "mtxwqizfTwKi",
        "colab_type": "code",
        "colab": {
          "base_uri": "https://localhost:8080/",
          "height": 34
        },
        "outputId": "8eb1c64d-e264-4ed6-c6f3-a3fa624e7f6d"
      },
      "cell_type": "code",
      "source": [
        "nd_batch = tfd.MultivariateNormalFullCovariance(\n",
        "    loc = [[0., 0.], [1., 1.], [2., 2.]],\n",
        "    covariance_matrix = [[[1., .1], [.1, 1.]], \n",
        "                         [[1., .3], [.3, 1.]],\n",
        "                         [[1., .5], [.5, 1.]]])\n",
        "nd_batch"
      ],
      "execution_count": 28,
      "outputs": [
        {
          "output_type": "execute_result",
          "data": {
            "text/plain": [
              "<tfp.distributions.MultivariateNormalFullCovariance 'MultivariateNormalFullCovariance/' batch_shape=(3,) event_shape=(2,) dtype=float32>"
            ]
          },
          "metadata": {
            "tags": []
          },
          "execution_count": 28
        }
      ]
    },
    {
      "metadata": {
        "id": "osDjz1vXUVkr",
        "colab_type": "text"
      },
      "cell_type": "markdown",
      "source": [
        "We see `batch_shape = (3,)`, so there are three independent multivariate normals, and `event_shape =  (2,)`, so each multivariate normal is two-dimensional. In this example, the individual distributions do not have independent elements.\n",
        "\n",
        "Sampling works:"
      ]
    },
    {
      "metadata": {
        "id": "82u32RUpYKeK",
        "colab_type": "code",
        "colab": {
          "base_uri": "https://localhost:8080/",
          "height": 289
        },
        "outputId": "566841e3-1504-4977-c213-574dcc35463e"
      },
      "cell_type": "code",
      "source": [
        "nd_batch.sample(4)"
      ],
      "execution_count": 29,
      "outputs": [
        {
          "output_type": "execute_result",
          "data": {
            "text/plain": [
              "<tf.Tensor: id=992, shape=(4, 3, 2), dtype=float32, numpy=\n",
              "array([[[ 0.8355589 ,  1.0287906 ],\n",
              "        [ 0.6796141 ,  1.7522928 ],\n",
              "        [ 0.603493  ,  0.13745153]],\n",
              "\n",
              "       [[-0.49636343, -1.3271412 ],\n",
              "        [ 0.89452106,  0.6159041 ],\n",
              "        [ 0.7503762 ,  1.1700599 ]],\n",
              "\n",
              "       [[-0.3203717 ,  0.99095964],\n",
              "        [ 0.22984672, -1.4632237 ],\n",
              "        [ 2.1868286 ,  2.476635  ]],\n",
              "\n",
              "       [[ 1.0310459 , -0.35648566],\n",
              "        [ 1.6214066 ,  0.5076788 ],\n",
              "        [ 1.9965721 ,  2.3196375 ]]], dtype=float32)>"
            ]
          },
          "metadata": {
            "tags": []
          },
          "execution_count": 29
        }
      ]
    },
    {
      "metadata": {
        "id": "2I-cYckNYTmf",
        "colab_type": "text"
      },
      "cell_type": "markdown",
      "source": [
        "Since `batch_shape = (3,)` and `event_shape = (2,)`, we pass a tensor of shape `(3, 2)` to `log_prob`:"
      ]
    },
    {
      "metadata": {
        "id": "-7p02_66YRpX",
        "colab_type": "code",
        "colab": {
          "base_uri": "https://localhost:8080/",
          "height": 34
        },
        "outputId": "2b4d3d30-194f-4794-95e1-345fa19ffa9c"
      },
      "cell_type": "code",
      "source": [
        "nd_batch.log_prob([[0., 0.], [1., 1.], [2., 2.]])"
      ],
      "execution_count": 30,
      "outputs": [
        {
          "output_type": "execute_result",
          "data": {
            "text/plain": [
              "<tf.Tensor: id=1090, shape=(3,), dtype=float32, numpy=array([-1.8328519, -1.7907217, -1.694036 ], dtype=float32)>"
            ]
          },
          "metadata": {
            "tags": []
          },
          "execution_count": 30
        }
      ]
    },
    {
      "metadata": {
        "id": "72uiME85SmEH",
        "colab_type": "text"
      },
      "cell_type": "markdown",
      "source": [
        "## Broadcasting, aka Why Is This So Confusing?"
      ]
    },
    {
      "metadata": {
        "id": "3aWnXjyYZYtp",
        "colab_type": "text"
      },
      "cell_type": "markdown",
      "source": [
        "Abstracting out what we've done so far, every distribution has an batch shape `B` and an event shape `E`. Let `BE` be the concatenation of the event shapes:\n",
        "\n",
        "\n",
        "* For the univariate scalar distributions `n` and `b`, `BE = ().`.\n",
        "* For the two-dimensional multivariate normals `nd`. `BE = (2).`\n",
        "* For both `b3` and `b3_joint`, `BE = (3).`\n",
        "* For the batch of multivariate normals `ndb`, `BE = (3, 2).`\n",
        "\n",
        "The \"evaluation rules\" we've been using so far are:\n",
        "\n",
        "*   Sample with no argument returns a tensor with shape `BE`; sampling with a scalar n returns an \"n by `BE`\" tensor.\n",
        "*   `prob` and `log_prob` take a tensor of shape `BE` and return a result of shape `B`.\n",
        "\n",
        "The actual \"evaluation rule\" for `prob` and `log_prob` is more complicated, in a way that offers potential power and speed but also complexity and challenges.  The actual rule is (essentially) that **the argument to `log_prob` *must*  be [broadcastable](https://docs.scipy.org/doc/numpy/user/basics.broadcasting.html) against `BE`; any \"extra\" dimensions are preserved in the output.** "
      ]
    },
    {
      "metadata": {
        "id": "iwv81UjpmlkX",
        "colab_type": "text"
      },
      "cell_type": "markdown",
      "source": [
        "Let's explore the implications. For the univariate normal `n`, `BE = ()`, so `log_prob` expects a scalar. If we pass `log_prob` a tensor with non-empty shape, those show up as batch dimensions in the output:"
      ]
    },
    {
      "metadata": {
        "id": "xRMkZd2cnqnG",
        "colab_type": "code",
        "colab": {
          "base_uri": "https://localhost:8080/",
          "height": 34
        },
        "outputId": "7c2f214d-8310-4371-bb27-69472758e149"
      },
      "cell_type": "code",
      "source": [
        "n = tfd.Normal(loc=0., scale=1.)\n",
        "n"
      ],
      "execution_count": 31,
      "outputs": [
        {
          "output_type": "execute_result",
          "data": {
            "text/plain": [
              "<tfp.distributions.Normal 'Normal/' batch_shape=() event_shape=() dtype=float32>"
            ]
          },
          "metadata": {
            "tags": []
          },
          "execution_count": 31
        }
      ]
    },
    {
      "metadata": {
        "id": "mci1cs1NnLDb",
        "colab_type": "code",
        "colab": {
          "base_uri": "https://localhost:8080/",
          "height": 34
        },
        "outputId": "96d90874-2c43-45e6-aadc-0c48e5ff7f4b"
      },
      "cell_type": "code",
      "source": [
        "n.log_prob(0.)"
      ],
      "execution_count": 32,
      "outputs": [
        {
          "output_type": "execute_result",
          "data": {
            "text/plain": [
              "<tf.Tensor: id=1099, shape=(), dtype=float32, numpy=-0.9189385>"
            ]
          },
          "metadata": {
            "tags": []
          },
          "execution_count": 32
        }
      ]
    },
    {
      "metadata": {
        "id": "MQW1XSB1nRlH",
        "colab_type": "code",
        "colab": {
          "base_uri": "https://localhost:8080/",
          "height": 34
        },
        "outputId": "21cd60fa-9e6b-4d42-b084-ae869e342b06"
      },
      "cell_type": "code",
      "source": [
        "n.log_prob([0.])"
      ],
      "execution_count": 33,
      "outputs": [
        {
          "output_type": "execute_result",
          "data": {
            "text/plain": [
              "<tf.Tensor: id=1108, shape=(1,), dtype=float32, numpy=array([-0.9189385], dtype=float32)>"
            ]
          },
          "metadata": {
            "tags": []
          },
          "execution_count": 33
        }
      ]
    },
    {
      "metadata": {
        "id": "z-6d3PtTnT1W",
        "colab_type": "code",
        "colab": {
          "base_uri": "https://localhost:8080/",
          "height": 68
        },
        "outputId": "37a065b6-e68c-472a-86f4-52fd204c2139"
      },
      "cell_type": "code",
      "source": [
        "n.log_prob([[0., 1.], [-1., 2.]])"
      ],
      "execution_count": 34,
      "outputs": [
        {
          "output_type": "execute_result",
          "data": {
            "text/plain": [
              "<tf.Tensor: id=1117, shape=(2, 2), dtype=float32, numpy=\n",
              "array([[-0.9189385, -1.4189385],\n",
              "       [-1.4189385, -2.9189386]], dtype=float32)>"
            ]
          },
          "metadata": {
            "tags": []
          },
          "execution_count": 34
        }
      ]
    },
    {
      "metadata": {
        "id": "6BkE19lEh9XY",
        "colab_type": "text"
      },
      "cell_type": "markdown",
      "source": [
        "Let's turn to the two-dimensional multivariate normal `nd` (parameters changed for illustrative purposes):"
      ]
    },
    {
      "metadata": {
        "id": "Y1D3zg9kn8HJ",
        "colab_type": "code",
        "colab": {
          "base_uri": "https://localhost:8080/",
          "height": 34
        },
        "outputId": "1260dd68-dce6-43aa-d610-2a4d90859837"
      },
      "cell_type": "code",
      "source": [
        "nd = tfd.MultivariateNormalDiag(loc=[0., 1.], scale_diag=[1., 1.])\n",
        "nd"
      ],
      "execution_count": 35,
      "outputs": [
        {
          "output_type": "execute_result",
          "data": {
            "text/plain": [
              "<tfp.distributions.MultivariateNormalDiag 'MultivariateNormalDiag/' batch_shape=() event_shape=(2,) dtype=float32>"
            ]
          },
          "metadata": {
            "tags": []
          },
          "execution_count": 35
        }
      ]
    },
    {
      "metadata": {
        "id": "SyZS-on4oCR4",
        "colab_type": "text"
      },
      "cell_type": "markdown",
      "source": [
        "`log_prob` \"expects\" an argument with shape `(2,)`, but it will accept any argument that broadcasts against this shape: "
      ]
    },
    {
      "metadata": {
        "id": "RHyn5rV7oMzq",
        "colab_type": "code",
        "colab": {
          "base_uri": "https://localhost:8080/",
          "height": 34
        },
        "outputId": "5933ca68-6520-4364-a358-4233274144a5"
      },
      "cell_type": "code",
      "source": [
        "nd.log_prob([0., 0.])"
      ],
      "execution_count": 36,
      "outputs": [
        {
          "output_type": "execute_result",
          "data": {
            "text/plain": [
              "<tf.Tensor: id=1272, shape=(), dtype=float32, numpy=-2.337877>"
            ]
          },
          "metadata": {
            "tags": []
          },
          "execution_count": 36
        }
      ]
    },
    {
      "metadata": {
        "id": "DTnAETFGo17O",
        "colab_type": "text"
      },
      "cell_type": "markdown",
      "source": [
        "But we can pass in \"more\" examples, and evaluate all their `log_prob`'s at once:"
      ]
    },
    {
      "metadata": {
        "id": "-eSm6Hnlo1sn",
        "colab_type": "code",
        "colab": {
          "base_uri": "https://localhost:8080/",
          "height": 34
        },
        "outputId": "65b21dbc-d4ff-4795-83f4-9da5dd98989a"
      },
      "cell_type": "code",
      "source": [
        "nd.log_prob([[0., 0.],\n",
        "             [1., 1.],\n",
        "             [2., 2.]])"
      ],
      "execution_count": 37,
      "outputs": [
        {
          "output_type": "execute_result",
          "data": {
            "text/plain": [
              "<tf.Tensor: id=1352, shape=(3,), dtype=float32, numpy=array([-2.337877 , -2.337877 , -4.3378773], dtype=float32)>"
            ]
          },
          "metadata": {
            "tags": []
          },
          "execution_count": 37
        }
      ]
    },
    {
      "metadata": {
        "id": "dgxneFROpG7L",
        "colab_type": "text"
      },
      "cell_type": "markdown",
      "source": [
        "Perhaps less appealingly, we can broadcast over the event dimensions:"
      ]
    },
    {
      "metadata": {
        "id": "-YRxLZLcoW29",
        "colab_type": "code",
        "colab": {
          "base_uri": "https://localhost:8080/",
          "height": 34
        },
        "outputId": "9345fd61-b0e3-4a92-f51b-7088caecf3ae"
      },
      "cell_type": "code",
      "source": [
        "nd.log_prob([0.])"
      ],
      "execution_count": 38,
      "outputs": [
        {
          "output_type": "execute_result",
          "data": {
            "text/plain": [
              "<tf.Tensor: id=1432, shape=(), dtype=float32, numpy=-2.337877>"
            ]
          },
          "metadata": {
            "tags": []
          },
          "execution_count": 38
        }
      ]
    },
    {
      "metadata": {
        "id": "Md6RkXrcpNiK",
        "colab_type": "code",
        "colab": {
          "base_uri": "https://localhost:8080/",
          "height": 34
        },
        "outputId": "accdde07-550b-45d2-f4b6-0b33985af8e4"
      },
      "cell_type": "code",
      "source": [
        "nd.log_prob([[0.], [1.], [2.]])"
      ],
      "execution_count": 39,
      "outputs": [
        {
          "output_type": "execute_result",
          "data": {
            "text/plain": [
              "<tf.Tensor: id=1512, shape=(3,), dtype=float32, numpy=array([-2.337877 , -2.337877 , -4.3378773], dtype=float32)>"
            ]
          },
          "metadata": {
            "tags": []
          },
          "execution_count": 39
        }
      ]
    },
    {
      "metadata": {
        "id": "266h1o2KoZZL",
        "colab_type": "text"
      },
      "cell_type": "markdown",
      "source": [
        "Broadcasting this way is a consequence of our \"enable broadcasting whenever possible\" design; this usage is somewhat controversial and could potentially be removed in a future version of TFP.\n",
        "\n",
        "Now let's look at the three coins example again:"
      ]
    },
    {
      "metadata": {
        "id": "mKHtmSP6SnvY",
        "colab_type": "code",
        "colab": {}
      },
      "cell_type": "code",
      "source": [
        "b3 = tfd.Bernoulli(probs=[.3, .5, .7])"
      ],
      "execution_count": 0,
      "outputs": []
    },
    {
      "metadata": {
        "id": "bGOJAgv_p059",
        "colab_type": "text"
      },
      "cell_type": "markdown",
      "source": [
        "Here, using broadcasting to represent the probability that *each* coin comes up heads is quite intuitive:"
      ]
    },
    {
      "metadata": {
        "id": "ZYC6J8-dp50r",
        "colab_type": "code",
        "colab": {
          "base_uri": "https://localhost:8080/",
          "height": 34
        },
        "outputId": "57d538df-af70-43d1-b152-d482990700e8"
      },
      "cell_type": "code",
      "source": [
        "b3.prob([1])"
      ],
      "execution_count": 41,
      "outputs": [
        {
          "output_type": "execute_result",
          "data": {
            "text/plain": [
              "<tf.Tensor: id=1539, shape=(3,), dtype=float32, numpy=array([0.29999998, 0.5       , 0.7       ], dtype=float32)>"
            ]
          },
          "metadata": {
            "tags": []
          },
          "execution_count": 41
        }
      ]
    },
    {
      "metadata": {
        "id": "5gxdAEjBiLiw",
        "colab_type": "text"
      },
      "cell_type": "markdown",
      "source": [
        "(Compare this to `b3.prob([1., 1., 1.])`, which we would have used back where `b3` was introduced.)\n",
        "\n",
        "Now suppose we want to know, for each coin, the probability the coin comes up heads *and* the probability it comes up tails. We could imagine trying:\n",
        "\n",
        "`b3.log_prob([0, 1])`\n",
        "\n",
        "Unfortunately, this produces an error with a long and not-very-readable stack trace. `b3` has `BE = (3)`, so we must pass `b3.prob` something broadcastable against `(3,)`. `[0, 1]` has shape `(2)`, so it doesn't broadcast and creates an error.  Instead, we have to say:"
      ]
    },
    {
      "metadata": {
        "id": "_ry9LMiIieUx",
        "colab_type": "code",
        "colab": {
          "base_uri": "https://localhost:8080/",
          "height": 68
        },
        "outputId": "f42d35db-b5b9-4eff-8762-f5d345ed03b7"
      },
      "cell_type": "code",
      "source": [
        "b3.prob([[0], [1]])"
      ],
      "execution_count": 42,
      "outputs": [
        {
          "output_type": "execute_result",
          "data": {
            "text/plain": [
              "<tf.Tensor: id=1560, shape=(2, 3), dtype=float32, numpy=\n",
              "array([[0.7       , 0.5       , 0.29999998],\n",
              "       [0.29999998, 0.5       , 0.7       ]], dtype=float32)>"
            ]
          },
          "metadata": {
            "tags": []
          },
          "execution_count": 42
        }
      ]
    },
    {
      "metadata": {
        "id": "mxZ1WeK1qRcc",
        "colab_type": "text"
      },
      "cell_type": "markdown",
      "source": [
        "Why? `[[0], [1]]` has shape `(2, 1)`,  so it broadcasts against shape `(3)` to make a broadcast shape of `(2, 3)`."
      ]
    },
    {
      "metadata": {
        "id": "WJBxD-zOrLDQ",
        "colab_type": "text"
      },
      "cell_type": "markdown",
      "source": [
        "Broadcasting is quite powerful: there are cases where it allows order-of-magnitude reduction in the amount of memory used, and it often makes user code shorter. However, it can be challenging to program with. If you call `log_prob` and get an error, a failure to broadcast is nearly always the problem."
      ]
    },
    {
      "metadata": {
        "id": "JpjjIGThrj8Q",
        "colab_type": "text"
      },
      "cell_type": "markdown",
      "source": [
        "## Going Farther\n",
        "\n",
        "In this tutorial, we've (hopefully) provided a simple introduction. A few pointers for going further:\n",
        "\n",
        "*   `event_shape`, `batch_shape` and `sample_shape` can be arbitrary rank (in this tutorial they are always either scalar or rank 1). This increases the power but again can lead to programming challenges, especially when broadcasting is involved. For an additional deep dive into shape manipulation, see the [Understanding TensorFlow Distributions Shapes](https://github.com/tensorflow/probability/blob/master/tensorflow_probability/examples/jupyter_notebooks/Understanding_TensorFlow_Distributions_Shapes.ipynb). \n",
        "*   TFP includes a powerful abstraction known as `Bijectors`, which in conjunction with `TransformedDistribution`, yields a flexible, compositional way to easily create new distributions that are invertible transformations of existing distributions. We'll try to write a tutorial on this soon, but in the meantime, check out [the documentation](https://www.tensorflow.org/probability/api_docs/python/tfp/distributions/TransformedDistribution)\n",
        "\n"
      ]
    }
  ]
}
