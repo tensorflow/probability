{
 "cells": [
  {
   "cell_type": "markdown",
   "metadata": {
    "id": "2gzMGSGB5hHo"
   },
   "source": [
    "##### Copyright 2020 The TensorFlow Probability Authors.\n",
    "\n",
    "Licensed under the Apache License, Version 2.0 (the \"License\");"
   ]
  },
  {
   "cell_type": "code",
   "execution_count": 0,
   "metadata": {
    "id": "_RX4_K8Z5msT"
   },
   "outputs": [],
   "source": [
    "#@title Licensed under the Apache License, Version 2.0 (the \"License\"); { display-mode: \"form\" }\n",
    "# you may not use this file except in compliance with the License.\n",
    "# You may obtain a copy of the License at\n",
    "#\n",
    "# https://www.apache.org/licenses/LICENSE-2.0\n",
    "#\n",
    "# Unless required by applicable law or agreed to in writing, software\n",
    "# distributed under the License is distributed on an \"AS IS\" BASIS,\n",
    "# WITHOUT WARRANTIES OR CONDITIONS OF ANY KIND, either express or implied.\n",
    "# See the License for the specific language governing permissions and\n",
    "# limitations under the License."
   ]
  },
  {
   "cell_type": "markdown",
   "metadata": {
    "id": "kCQeUqKYe2dC"
   },
   "source": [
    "# Distributed Inference with JAX\n",
    "\n",
    "<table class=\"tfo-notebook-buttons\" align=\"left\">\n",
    "  <td>\n",
    "    <a target=\"_blank\" href=\"https://www.tensorflow.org/probability/examples/Distributed_Inference_with_JAX\"><img src=\"https://www.tensorflow.org/images/tf_logo_32px.png\" />View on TensorFlow.org</a>\n",
    "  </td>\n",
    "  <td>\n",
    "    <a target=\"_blank\" href=\"https://colab.research.google.com/github/tensorflow/probability/blob/main/tensorflow_probability/examples/jupyter_notebooks/Distributed_Inference_with_JAX.ipynb\"><img src=\"https://www.tensorflow.org/images/colab_logo_32px.png\" />Run in Google Colab</a>\n",
    "  </td>\n",
    "  <td>\n",
    "    <a target=\"_blank\" href=\"https://github.com/tensorflow/probability/blob/main/tensorflow_probability/examples/jupyter_notebooks/Distributed_Inference_with_JAX.ipynb\"><img src=\"https://www.tensorflow.org/images/GitHub-Mark-32px.png\" />View source on GitHub</a>\n",
    "  </td>\n",
    "  <td>\n",
    "    <a href=\"https://storage.googleapis.com/tensorflow_docs/probability/tensorflow_probability/examples/jupyter_notebooks/Distributed_Inference_with_JAX.ipynb\"><img src=\"https://www.tensorflow.org/images/download_logo_32px.png\" />Download notebook</a>\n",
    "  </td>\n",
    "</table>"
   ]
  },
  {
   "cell_type": "markdown",
   "metadata": {
    "id": "stPyOUvle5ZG"
   },
   "source": [
    "TensorFlow Probability (TFP) on JAX now has tools for distributed numerical computing. To scale to large numbers of accelerators, the tools are built around writing code using the \"single-program multiple-data\" paradigm, or SPMD for short. \n",
    "\n",
    "In this notebook, we'll go over how to \"think in SPMD\" and introduce the new TFP abstractions for scaling to configurations such as TPU pods, or clusters of GPUs. If you're running this code yourself, make sure to select a TPU runtime."
   ]
  },
  {
   "cell_type": "markdown",
   "metadata": {
    "id": "FOV8NaLkgBvW"
   },
   "source": [
    "We'll first install the latest versions TFP, JAX and TF."
   ]
  },
  {
   "cell_type": "code",
   "execution_count": 0,
   "metadata": {
    "colab": {
     "base_uri": "https://localhost:8080/"
    },
    "id": "O0AI1GXeNgiw",
    "outputId": "f5d707d6-6ace-4611-b75e-7d03f064f08f"
   },
   "outputs": [
    {
     "name": "stdout",
     "output_type": "stream",
     "text": [
      "\u001b[31mERROR: tensorflow 2.4.1 has requirement gast==0.3.3, but you'll have gast 0.4.0 which is incompatible.\u001b[0m\n",
      "\u001b[31mERROR: tensorflow 2.4.1 has requirement grpcio~=1.32.0, but you'll have grpcio 1.34.1 which is incompatible.\u001b[0m\n",
      "\u001b[31mERROR: tensorflow 2.4.1 has requirement h5py~=2.10.0, but you'll have h5py 3.1.0 which is incompatible.\u001b[0m\n",
      "\u001b[31mERROR: google-colab 1.0.0 has requirement requests~=2.23.0, but you'll have requests 2.25.1 which is incompatible.\u001b[0m\n",
      "\u001b[31mERROR: datascience 0.10.6 has requirement folium==0.2.1, but you'll have folium 0.8.3 which is incompatible.\u001b[0m\n",
      "\u001b[31mERROR: albumentations 0.1.12 has requirement imgaug<0.2.7,>=0.2.5, but you'll have imgaug 0.2.9 which is incompatible.\u001b[0m\n",
      "\u001b[31mERROR: tf-nightly-cpu 2.6.0.dev20210401 has requirement numpy~=1.19.2, but you'll have numpy 1.20.2 which is incompatible.\u001b[0m\n",
      "\u001b[31mERROR: tensorflow 2.4.1 has requirement gast==0.3.3, but you'll have gast 0.4.0 which is incompatible.\u001b[0m\n",
      "\u001b[31mERROR: tensorflow 2.4.1 has requirement grpcio~=1.32.0, but you'll have grpcio 1.34.1 which is incompatible.\u001b[0m\n",
      "\u001b[31mERROR: tensorflow 2.4.1 has requirement h5py~=2.10.0, but you'll have h5py 3.1.0 which is incompatible.\u001b[0m\n",
      "\u001b[31mERROR: tensorflow 2.4.1 has requirement numpy~=1.19.2, but you'll have numpy 1.20.2 which is incompatible.\u001b[0m\n",
      "\u001b[31mERROR: google-colab 1.0.0 has requirement requests~=2.23.0, but you'll have requests 2.25.1 which is incompatible.\u001b[0m\n",
      "\u001b[31mERROR: datascience 0.10.6 has requirement folium==0.2.1, but you'll have folium 0.8.3 which is incompatible.\u001b[0m\n",
      "\u001b[31mERROR: albumentations 0.1.12 has requirement imgaug<0.2.7,>=0.2.5, but you'll have imgaug 0.2.9 which is incompatible.\u001b[0m\n"
     ]
    }
   ],
   "source": [
    "#@title Installs\n",
    "!pip install jaxlib --upgrade -q 2>&1 1> /dev/null\n",
    "!pip install tfp-nightly[jax] --upgrade -q 2>&1 1> /dev/null\n",
    "!pip install tf-nightly-cpu -q -I 2>&1 1> /dev/null\n",
    "!pip install jax -I -q --upgrade 2>&1 1>/dev/null"
   ]
  },
  {
   "cell_type": "markdown",
   "metadata": {
    "id": "iEZhgnkYgG-N"
   },
   "source": [
    "We'll import some general libraries, along with some JAX utilities."
   ]
  },
  {
   "cell_type": "code",
   "execution_count": 0,
   "metadata": {
    "colab": {
     "base_uri": "https://localhost:8080/"
    },
    "id": "Z0wJAO4FNaMx",
    "outputId": "e2651b04-a302-4ac1-d390-c9d54a865f15"
   },
   "outputs": [
    {
     "name": "stdout",
     "output_type": "stream",
     "text": [
      "INFO:tensorflow:Enabling eager execution\n",
      "INFO:tensorflow:Enabling v2 tensorshape\n",
      "INFO:tensorflow:Enabling resource variables\n",
      "INFO:tensorflow:Enabling tensor equality\n",
      "INFO:tensorflow:Enabling control flow v2\n"
     ]
    }
   ],
   "source": [
    "#@title Setup and Imports\n",
    "import functools\n",
    "import collections\n",
    "import contextlib\n",
    "\n",
    "import jax\n",
    "import jax.numpy as jnp\n",
    "from jax import lax\n",
    "from jax import random\n",
    "import jax.numpy as jnp\n",
    "\n",
    "import numpy as np\n",
    "import matplotlib.pyplot as plt\n",
    "import seaborn as sns\n",
    "import pandas as pd\n",
    "import tensorflow_datasets as tfds\n",
    "\n",
    "from tensorflow_probability.substrates import jax as tfp\n",
    "\n",
    "sns.set(style='white')"
   ]
  },
  {
   "cell_type": "markdown",
   "metadata": {
    "id": "5DHdAK2rgM5F"
   },
   "source": [
    "We'll also set up some handy TFP aliases. The new abstractions are currently provided in `tfp.experimental.distribute` and `tfp.experimental.mcmc`."
   ]
  },
  {
   "cell_type": "code",
   "execution_count": 0,
   "metadata": {
    "id": "X4Pe3mZKgO6i"
   },
   "outputs": [],
   "source": [
    "tfd = tfp.distributions\n",
    "tfb = tfp.bijectors\n",
    "tfm = tfp.mcmc\n",
    "tfed = tfp.experimental.distribute\n",
    "tfde = tfp.experimental.distributions\n",
    "tfem = tfp.experimental.mcmc\n",
    "\n",
    "Root = tfed.JointDistributionCoroutine.Root"
   ]
  },
  {
   "cell_type": "markdown",
   "metadata": {
    "id": "b_Xkt7MtgThA"
   },
   "source": [
    "To connect the notebook to a TPU, we use the following helper from JAX. To confirm that we're connected, we print out the number of devices, which should be eight."
   ]
  },
  {
   "cell_type": "code",
   "execution_count": 0,
   "metadata": {
    "colab": {
     "base_uri": "https://localhost:8080/"
    },
    "id": "HfgK8wpJgRdw",
    "outputId": "da2863e9-77c1-4da6-8822-675c59ae6854"
   },
   "outputs": [
    {
     "name": "stdout",
     "output_type": "stream",
     "text": [
      "Found 8 devices\n"
     ]
    }
   ],
   "source": [
    "from jax.tools import colab_tpu\n",
    "colab_tpu.setup_tpu()\n",
    "print(f'Found {jax.device_count()} devices')"
   ]
  },
  {
   "cell_type": "markdown",
   "metadata": {
    "id": "2a__PBkDZBjm"
   },
   "source": [
    "# A quick introduction to `jax.pmap`"
   ]
  },
  {
   "cell_type": "markdown",
   "metadata": {
    "id": "tTNW_FyuZEiM"
   },
   "source": [
    "After connecting to a TPU, we have access to *eight* devices. However, when we run JAX code eagerly, JAX defaults to running computations on just one.\n",
    "\n",
    "The simplest way of executing a computation across many devices is to map a function, having each device execute one index of the map. JAX provides the `jax.pmap` (\"parallel map\") transformation which turns a function into one that maps the function across several devices.\n",
    "\n",
    "In the following example, we create an array of size 8 (to match the number of available devices) and map a function that adds 5 across it."
   ]
  },
  {
   "cell_type": "code",
   "execution_count": 0,
   "metadata": {
    "colab": {
     "base_uri": "https://localhost:8080/"
    },
    "id": "EV8gboOzZ9pt",
    "outputId": "f3140e2b-c507-4dcb-ed06-d71fc64f49ed"
   },
   "outputs": [
    {
     "name": "stdout",
     "output_type": "stream",
     "text": [
      "<class 'jax.interpreters.pxla.ShardedDeviceArray'> [ 5.  6.  7.  8.  9. 10. 11. 12.]\n"
     ]
    }
   ],
   "source": [
    "xs = jnp.arange(8.)\n",
    "out = jax.pmap(lambda x: x + 5.)(xs)\n",
    "print(type(out), out)"
   ]
  },
  {
   "cell_type": "markdown",
   "metadata": {
    "id": "1C5WNNsmaTiE"
   },
   "source": [
    "Note that we receive a `ShardedDeviceArray` type back, indicating that the output array is physically split across devices."
   ]
  },
  {
   "cell_type": "markdown",
   "metadata": {
    "id": "xWy1APt11voc"
   },
   "source": [
    "`jax.pmap` acts semantically like a map, but has a few important options that modify its behavior. By default, `pmap` assumes all inputs to the function are being mapped over, but we can modify this behavior with the `in_axes` argument."
   ]
  },
  {
   "cell_type": "code",
   "execution_count": 0,
   "metadata": {
    "colab": {
     "base_uri": "https://localhost:8080/"
    },
    "id": "4eQ1g-xe42kY",
    "outputId": "7a482508-baa7-4cfb-9019-87878d4fb728"
   },
   "outputs": [
    {
     "name": "stdout",
     "output_type": "stream",
     "text": [
      "[ 5.  6.  7.  8.  9. 10. 11. 12.]\n"
     ]
    }
   ],
   "source": [
    "xs = jnp.arange(8.)\n",
    "y = 5.\n",
    "# Map over the 0-axis of `xs` and don't map over `y`\n",
    "out = jax.pmap(lambda x, y: x + y, in_axes=(0, None))(xs, y)\n",
    "print(out)"
   ]
  },
  {
   "cell_type": "markdown",
   "metadata": {
    "id": "5GEq6tVq5Ux4"
   },
   "source": [
    "Analogously, the `out_axes` argument to `pmap` determines whether or not to return the values on every device. Setting `out_axes` to `None` automatically returns the value on the 1st device and should only be used if we are confident the values are the same on every device."
   ]
  },
  {
   "cell_type": "code",
   "execution_count": 0,
   "metadata": {
    "colab": {
     "base_uri": "https://localhost:8080/"
    },
    "id": "ex1jYXJ95jlG",
    "outputId": "c1c938c0-7b45-4727-be54-ad93269b9c1b"
   },
   "outputs": [
    {
     "name": "stdout",
     "output_type": "stream",
     "text": [
      "2.0\n"
     ]
    }
   ],
   "source": [
    "xs = jnp.ones(8) # Value is the same on each device\n",
    "out = jax.pmap(lambda x: x + 1, out_axes=None)(xs)\n",
    "print(out)"
   ]
  },
  {
   "cell_type": "markdown",
   "metadata": {
    "id": "pEEXyAODauyi"
   },
   "source": [
    "What happens when what we'd like to do isn't easily expressible as a mapped pure function? For example, what if we'd like to do a sum across the axis we're mapping over? JAX offers \"collectives\", functions that communicate across devices, to enable writing more interesting and complex distributed programs. To understand how exactly they work, we'll introduce SPMD."
   ]
  },
  {
   "cell_type": "markdown",
   "metadata": {
    "id": "e4MmQQamg7Wn"
   },
   "source": [
    "# What is SPMD?"
   ]
  },
  {
   "cell_type": "markdown",
   "metadata": {
    "id": "DJKyMsQNnFUI"
   },
   "source": [
    "Single-program multiple-data (SPMD) is a concurrent programming model in which a single program (i.e. the same code) is executed simultaneously across devices, but the inputs to each of the running programs can differ.\n",
    "\n",
    "If our program is a simple function of its inputs (i.e. something like `x + 5`), running a program in SPMD is just mapping it over different data, like we did with `jax.pmap` earlier. However, we can do more than just \"map\" a function.  JAX offers \"collectives\", which are functions that communicate across devices.\n",
    "\n",
    "For example, maybe we'd like to take the sum of a quantity across all our devices. Before we do that, we need to assign a name to the axis we're mapping over in the `pmap`. We then use the `lax.psum` (\"parallel sum\") function to perform a sum across devices, ensuring we identify the named axis we're summing over."
   ]
  },
  {
   "cell_type": "code",
   "execution_count": 0,
   "metadata": {
    "colab": {
     "base_uri": "https://localhost:8080/"
    },
    "id": "fsZfnmr3eMYj",
    "outputId": "ddc7f720-8158-4293-a78b-b3c38ffdbf47"
   },
   "outputs": [
    {
     "data": {
      "text/plain": [
       "ShardedDeviceArray([28., 28., 28., 28., 28., 28., 28., 28.], dtype=float32)"
      ]
     },
     "execution_count": 0,
     "metadata": {
      "tags": []
     },
     "output_type": "execute_result"
    }
   ],
   "source": [
    "def f(x):\n",
    "  out = lax.psum(x, axis_name='i')\n",
    "  return out\n",
    "xs = jnp.arange(8.) # Length of array matches number of devices\n",
    "jax.pmap(f, axis_name='i')(xs)"
   ]
  },
  {
   "cell_type": "markdown",
   "metadata": {
    "id": "eF2Nv7KXeTrb"
   },
   "source": [
    "The `psum` collective aggregates the value of `x` on each device and synchronizes its value across the map i.e. `out` is `28.` on each device.\n",
    "We're no longer performing a simple \"map\", but we're executing an SPMD program where each device's computation can now interact with the same computation on other devices, albeit in a limited way using collectives. In this scenario, we can use `out_axes = None`, because `psum` will synchronize the value."
   ]
  },
  {
   "cell_type": "code",
   "execution_count": 0,
   "metadata": {
    "colab": {
     "base_uri": "https://localhost:8080/"
    },
    "id": "n2dPYYQO5-vz",
    "outputId": "fd72f196-8d8a-423c-ec79-6e6067b16f59"
   },
   "outputs": [
    {
     "data": {
      "text/plain": [
       "ShardedDeviceArray(28., dtype=float32)"
      ]
     },
     "execution_count": 0,
     "metadata": {
      "tags": []
     },
     "output_type": "execute_result"
    }
   ],
   "source": [
    "def f(x):\n",
    "  out = lax.psum(x, axis_name='i')\n",
    "  return out\n",
    "jax.pmap(f, axis_name='i', out_axes=None)(jnp.arange(8.))"
   ]
  },
  {
   "cell_type": "markdown",
   "metadata": {
    "id": "JsoseMKEf-nA"
   },
   "source": [
    "SPMD enables us to write one program that is run on every device in any TPU configuration simultaneously. The same code that is used to do machine learning on 8 TPU cores can be used on a TPU pod that may have hundreds to thousands of cores! For a more detailed tutorial about `jax.pmap` and SPMD, you can refer to the the [JAX 101 tutorial](https://jax.readthedocs.io/en/latest/jax-101/06-parallelism.html)."
   ]
  },
  {
   "cell_type": "markdown",
   "metadata": {
    "id": "TpRG6flRfoed"
   },
   "source": [
    "# MCMC at scale"
   ]
  },
  {
   "cell_type": "markdown",
   "metadata": {
    "id": "ulERQF93geL1"
   },
   "source": [
    "In this notebook, we focus on using Markov Chain Monte Carlo (MCMC) methods for Bayesian inference. There are may ways we utilize many devices for MCMC, but in this notebook, we'll focus on two:\n",
    "1. Running independent Markov chains on different devices. This case is fairly simple and is possible to do with vanilla TFP.\n",
    "2. Sharding a dataset across devices. This case is a bit more complex and requires recently added TFP machinery."
   ]
  },
  {
   "cell_type": "markdown",
   "metadata": {
    "id": "QfSa12Hqhy09"
   },
   "source": [
    "## Independent Chains"
   ]
  },
  {
   "cell_type": "markdown",
   "metadata": {
    "id": "hqos2uVgh2Zw"
   },
   "source": [
    "Say we'd like to do Bayesian inference on a problem using MCMC and would like to run several chains in parallel across several devices (say 2 on each device). This turns out to be a program we can just \"map\" across devices, i.e. one that needs no collectives. To make sure each program executes a different Markov chain (as opposed to running the same one), we pass in a different value for the random seed to each device.\n",
    "\n",
    "Let's try it on a toy problem of sampling from a 2-D Gaussian distribution. We can use TFP's existing MCMC functionality out of the box.\n",
    "In general, we try to put most of the logic inside of our mapped function to more explicitly distinguish between what's running on all the devices versus just the first."
   ]
  },
  {
   "cell_type": "code",
   "execution_count": 0,
   "metadata": {
    "id": "LQAqJ4O3h1oM"
   },
   "outputs": [],
   "source": [
    "def run(seed):\n",
    "  target_log_prob = tfd.Sample(tfd.Normal(0., 1.), 2).log_prob\n",
    "\n",
    "  initial_state = jnp.zeros([2, 2]) # 2 chains\n",
    "  kernel = tfm.HamiltonianMonteCarlo(target_log_prob, 1e-1, 10)\n",
    "  def trace_fn(state, pkr):\n",
    "    return target_log_prob(state)\n",
    "\n",
    "  states, log_prob = tfm.sample_chain(\n",
    "    num_results=1000,\n",
    "    num_burnin_steps=1000,\n",
    "    kernel=kernel,\n",
    "    current_state=initial_state,\n",
    "    trace_fn=trace_fn,\n",
    "    seed=seed\n",
    "  )\n",
    "  return states, log_prob"
   ]
  },
  {
   "cell_type": "markdown",
   "metadata": {
    "id": "sFPWI5GijOj4"
   },
   "source": [
    "By itself, the `run` function takes in a stateless random seed (to see how stateless randomness work, you can read the [TFP on JAX](https://www.tensorflow.org/probability/examples/TensorFlow_Probability_on_JAX) notebook or see the [JAX 101 tutorial](https://jax.readthedocs.io/en/latest/jax-101/05-random-numbers.html)). Mapping `run` over different seeds will result in running several independent Markov chains."
   ]
  },
  {
   "cell_type": "code",
   "execution_count": 0,
   "metadata": {
    "colab": {
     "base_uri": "https://localhost:8080/"
    },
    "id": "N3mzWLKPjpsB",
    "outputId": "3e508a4b-d8b4-4047-afaf-65960d6a7eeb"
   },
   "outputs": [
    {
     "name": "stdout",
     "output_type": "stream",
     "text": [
      "(8, 1000, 2, 2) (8, 1000, 2)\n"
     ]
    }
   ],
   "source": [
    "states, log_probs = jax.pmap(run)(random.split(random.PRNGKey(0), 8))\n",
    "print(states.shape, log_probs.shape)\n",
    "# states is (8 devices, 1000 samples, 2 chains, 2 dimensions)\n",
    "# log_prob is (8 devices, 1000 samples, 2 chains)"
   ]
  },
  {
   "cell_type": "markdown",
   "metadata": {
    "id": "pt5aCj0Ej3pA"
   },
   "source": [
    "Note how we now have an extra axis corresponding to each device. We can rearrange the dimensions and flatten them to get an axis for the 16 chains."
   ]
  },
  {
   "cell_type": "code",
   "execution_count": 0,
   "metadata": {
    "id": "uz1etedpjw_f"
   },
   "outputs": [],
   "source": [
    "states = states.transpose([0, 2, 1, 3]).reshape([-1, 1000, 2])\n",
    "log_probs = log_probs.transpose([0, 2, 1]).reshape([-1, 1000])"
   ]
  },
  {
   "cell_type": "code",
   "execution_count": 0,
   "metadata": {
    "colab": {
     "base_uri": "https://localhost:8080/",
     "height": 322
    },
    "id": "rrw6e5rhkLYy",
    "outputId": "3f4ad6ed-0356-47da-fa1f-e09adb90242e"
   },
   "outputs": [
    {
     "data": {
      "image/png": "[encoded data removed]",
      "text/plain": [
       "<Figure size 720x360 with 2 Axes>"
      ]
     },
     "metadata": {
      "needs_background": "light",
      "tags": []
     },
     "output_type": "display_data"
    }
   ],
   "source": [
    "fig, ax = plt.subplots(1, 2, figsize=(10, 5))\n",
    "ax[0].plot(log_probs.T, alpha=0.4)\n",
    "ax[1].scatter(*states.reshape([-1, 2]).T, alpha=0.1)\n",
    "plt.show()"
   ]
  },
  {
   "cell_type": "markdown",
   "metadata": {
    "id": "q7hL_vVAkuaR"
   },
   "source": [
    "When running independent chains on many devices, it's as easy as `pmap`-ing over a function that uses `tfp.mcmc`, ensuring we pass different values for the random seed to each device."
   ]
  },
  {
   "cell_type": "markdown",
   "metadata": {
    "id": "EfbcQmFzlYau"
   },
   "source": [
    "## Sharding data"
   ]
  },
  {
   "cell_type": "markdown",
   "metadata": {
    "id": "iKWgLWSPlfOv"
   },
   "source": [
    "When we do MCMC, the target distribution is often a posterior distribution obtained by conditioning on a dataset, and computing an unnormalized log-density involves summing likelihoods for each observed data. \n",
    "\n",
    "With very large datasets, it can be prohibitively expensive to even run one chain on a single device. However, when we have access to multiple devices, we can split up the dataset across the devices to better leverage the compute we have available.\n",
    "\n",
    "If we'd like to do MCMC with a sharded dataset, we need to ensure the unnormalized log-density we compute on each device represents the *total*, i.e. the density over all data, otherwise each device will be doing MCMC with their own incorrect target distribution. To this end, TFP now has new tools (i.e. `tfp.experimental.distribute` and `tfp.experimental.mcmc`) that enable computing \"sharded\" log probabilities and doing MCMC with them."
   ]
  },
  {
   "cell_type": "markdown",
   "metadata": {
    "id": "FTl2U7kCmhC_"
   },
   "source": [
    "### Sharded distributions"
   ]
  },
  {
   "cell_type": "markdown",
   "metadata": {
    "id": "GgqqVZjlmj3w"
   },
   "source": [
    "The core abstraction TFP now provides for computing sharded log probabiliities is the `Sharded` meta-distribution, which takes a distribution as input and returns a new distribution that has specific properties when executed in an SPMD context. `Sharded` lives in `tfp.experimental.distribute`.\n",
    "\n",
    "Intuitively, a `Sharded` distribution corresponds to a set of random variables that have been \"split\" across devices. On each device, they will produce different samples, and can individually have different log-densities. Alternatively, a `Sharded` distribution corresponds to a \"plate\" in graphical model parlance, where the plate size is the number of devices.\n"
   ]
  },
  {
   "cell_type": "markdown",
   "metadata": {
    "id": "wNlR4OaWm1w8"
   },
   "source": [
    "#### Sampling a `Sharded` distribution"
   ]
  },
  {
   "cell_type": "markdown",
   "metadata": {
    "id": "MJ0oarZsnBHP"
   },
   "source": [
    "If we sample from a `Normal` distribution in a program being `pmap`-ed using the same seed on each device, we will get the same sample on each device. We can think of the following function as sampling a single random variable that is synchronized across devices."
   ]
  },
  {
   "cell_type": "code",
   "execution_count": 0,
   "metadata": {
    "colab": {
     "base_uri": "https://localhost:8080/"
    },
    "id": "fyiT7iPQm3cK",
    "outputId": "325ca0cd-864f-4248-89fe-dea76645c167"
   },
   "outputs": [
    {
     "data": {
      "text/plain": [
       "ShardedDeviceArray([-0.20584236, -0.20584236, -0.20584236, -0.20584236,\n",
       "                    -0.20584236, -0.20584236, -0.20584236, -0.20584236],                   dtype=float32)"
      ]
     },
     "execution_count": 0,
     "metadata": {
      "tags": []
     },
     "output_type": "execute_result"
    }
   ],
   "source": [
    "# `pmap` expects at least one value to be mapped over, so we provide a dummy one\n",
    "def f(seed, _):\n",
    "  return tfd.Normal(0., 1.).sample(seed=seed)\n",
    "jax.pmap(f, in_axes=(None, 0))(random.PRNGKey(0), jnp.arange(8.))"
   ]
  },
  {
   "cell_type": "markdown",
   "metadata": {
    "id": "TVJ48nEdnYmB"
   },
   "source": [
    "If we wrap `tfd.Normal(0., 1.)` with a `tfed.Sharded`, we logically now have eight different random variables (one on each device) and will therefore produce a different sample for each one, despite passing in the same seed."
   ]
  },
  {
   "cell_type": "code",
   "execution_count": 0,
   "metadata": {
    "colab": {
     "base_uri": "https://localhost:8080/"
    },
    "id": "f-W8UhTxnmmy",
    "outputId": "c39ef11d-ec42-4dff-f876-64320240288c"
   },
   "outputs": [
    {
     "data": {
      "text/plain": [
       "ShardedDeviceArray([ 1.2152631 ,  0.7818249 ,  0.32549605,  0.6828047 ,\n",
       "                     1.3973192 , -0.57830244,  0.37862757,  2.7706041 ],                   dtype=float32)"
      ]
     },
     "execution_count": 0,
     "metadata": {
      "tags": []
     },
     "output_type": "execute_result"
    }
   ],
   "source": [
    "def f(seed, _):\n",
    "  return tfed.Sharded(tfd.Normal(0., 1.), shard_axis_name='i').sample(seed=seed)\n",
    "jax.pmap(f, in_axes=(None, 0), axis_name='i')(random.PRNGKey(0), jnp.arange(8.))"
   ]
  },
  {
   "cell_type": "markdown",
   "metadata": {
    "id": "BqTKixQfARlQ"
   },
   "source": [
    "An equivalent representation of this distribution on a single device is just a 8 independent normal samples. Even though the value of the sample will be different (`tfed.Sharded` does pseudo-random number generation slightly differently), they both represent the same distribution."
   ]
  },
  {
   "cell_type": "code",
   "execution_count": 0,
   "metadata": {
    "colab": {
     "base_uri": "https://localhost:8080/"
    },
    "id": "YwYeBAJHAYqm",
    "outputId": "132b416d-adb1-42af-9e9c-4dea25da155d"
   },
   "outputs": [
    {
     "data": {
      "text/plain": [
       "DeviceArray([ 0.08086783, -0.38624594, -0.3756545 ,  1.668957  ,\n",
       "             -1.2758069 ,  2.1192007 , -0.85821325,  1.1305912 ],            dtype=float32)"
      ]
     },
     "execution_count": 0,
     "metadata": {
      "tags": []
     },
     "output_type": "execute_result"
    }
   ],
   "source": [
    "dist = tfd.Sample(tfd.Normal(0., 1.), jax.device_count())\n",
    "dist.sample(seed=random.PRNGKey(0))"
   ]
  },
  {
   "cell_type": "markdown",
   "metadata": {
    "id": "7vV2kIhxom_9"
   },
   "source": [
    "#### Taking the log-density of a `Sharded` distribution"
   ]
  },
  {
   "cell_type": "markdown",
   "metadata": {
    "id": "9NLOMW6Po3E6"
   },
   "source": [
    "Let's see what happens when we compute the log-density of a sample from a regular distribution in an SPMD context."
   ]
  },
  {
   "cell_type": "code",
   "execution_count": 0,
   "metadata": {
    "colab": {
     "base_uri": "https://localhost:8080/"
    },
    "id": "Wo_1xYRForc_",
    "outputId": "239f8b9c-7a3d-4b4a-9534-6be1f1ae1bb2"
   },
   "outputs": [
    {
     "data": {
      "text/plain": [
       "(ShardedDeviceArray([-0.20584236, -0.20584236, -0.20584236, -0.20584236,\n",
       "                     -0.20584236, -0.20584236, -0.20584236, -0.20584236],                   dtype=float32),\n",
       " ShardedDeviceArray([-0.94012403, -0.94012403, -0.94012403, -0.94012403,\n",
       "                     -0.94012403, -0.94012403, -0.94012403, -0.94012403],                   dtype=float32))"
      ]
     },
     "execution_count": 0,
     "metadata": {
      "tags": []
     },
     "output_type": "execute_result"
    }
   ],
   "source": [
    "def f(seed, _):\n",
    "  dist = tfd.Normal(0., 1.)\n",
    "  x = dist.sample(seed=seed)\n",
    "  return x, dist.log_prob(x)\n",
    "jax.pmap(f, in_axes=(None, 0))(random.PRNGKey(0), jnp.arange(8.))"
   ]
  },
  {
   "cell_type": "markdown",
   "metadata": {
    "id": "N1liUvISo8Lm"
   },
   "source": [
    "Each sample is the same on each device, so we compute the same density on each device too. Intuitively, here we only have a distribution over a single normally distributed variable.\n",
    "\n",
    "With a `Sharded` distribution, we have a distribution over 8 random variables, so when we compute the `log_prob` of a sample, we sum, across devices, over each of the individual log densities. (You might notice that this total log_prob value is larger than the singleton log_prob computed above.)"
   ]
  },
  {
   "cell_type": "code",
   "execution_count": 0,
   "metadata": {
    "colab": {
     "base_uri": "https://localhost:8080/"
    },
    "id": "i4__zjePpVul",
    "outputId": "228b3ed0-b1a3-4ff2-ec57-58351c5ee1ec"
   },
   "outputs": [
    {
     "name": "stdout",
     "output_type": "stream",
     "text": [
      "Sample: [ 1.2152631   0.7818249   0.32549605  0.6828047   1.3973192  -0.57830244\n",
      "  0.37862757  2.7706041 ]\n",
      "Log Prob: [-13.7349205 -13.7349205 -13.7349205 -13.7349205 -13.7349205 -13.7349205\n",
      " -13.7349205 -13.7349205]\n"
     ]
    }
   ],
   "source": [
    "def f(seed, _):\n",
    "  dist = tfed.Sharded(tfd.Normal(0., 1.), shard_axis_name='i')\n",
    "  x = dist.sample(seed=seed)\n",
    "  return x, dist.log_prob(x)\n",
    "sample, log_prob = jax.pmap(f, in_axes=(None, 0), axis_name='i')(\n",
    "    random.PRNGKey(0), jnp.arange(8.))\n",
    "print('Sample:', sample)\n",
    "print('Log Prob:', log_prob)"
   ]
  },
  {
   "cell_type": "markdown",
   "metadata": {
    "id": "u8iNYSVCBSEX"
   },
   "source": [
    "The equivalent, \"unsharded\" distribution produces the same log density."
   ]
  },
  {
   "cell_type": "code",
   "execution_count": 0,
   "metadata": {
    "colab": {
     "base_uri": "https://localhost:8080/"
    },
    "id": "UM0QvFGJA7BA",
    "outputId": "f8af42f8-bbbe-42c8-bfb4-20cfdbaaf660"
   },
   "outputs": [
    {
     "data": {
      "text/plain": [
       "DeviceArray(-13.7349205, dtype=float32)"
      ]
     },
     "execution_count": 0,
     "metadata": {
      "tags": []
     },
     "output_type": "execute_result"
    }
   ],
   "source": [
    "dist = tfd.Sample(tfd.Normal(0., 1.), jax.device_count())\n",
    "dist.log_prob(sample)"
   ]
  },
  {
   "cell_type": "markdown",
   "metadata": {
    "id": "3d94dKwmpcFh"
   },
   "source": [
    "A `Sharded` distribution produces different values from `sample` on each device, but get the same value for `log_prob` on each device. What's happening here? A `Sharded` distribution does a `psum` internally to ensure the `log_prob` values are in sync across devices. Why would we want this behavior? If we're running the *same* MCMC chain on each device, we'd like the `target_log_prob` to be the same across each device, even if some random variables in the computation are sharded across devices."
   ]
  },
  {
   "cell_type": "markdown",
   "metadata": {
    "id": "CJBg-y09jI4L"
   },
   "source": [
    "Additionally, a `Sharded` distribution ensures that gradients across devices are the correct, to ensure that algorithms like HMC, which take gradients of the log-density function as part of the transition function, produce proper samples."
   ]
  },
  {
   "cell_type": "markdown",
   "metadata": {
    "id": "ospRyIUlqld2"
   },
   "source": [
    "### Sharded `JointDistribution`s"
   ]
  },
  {
   "cell_type": "markdown",
   "metadata": {
    "id": "_dLU_CC9rime"
   },
   "source": [
    "We can create models with multiple `Sharded` random variables by using `JointDistribution`s (JDs). Unfortunately, `Sharded` distributions cannot be safely used with vanilla `tfd.JointDistribution`s, but `tfp.experimental.distribute` exports \"patched\" JDs that will behave like `Sharded` distributions."
   ]
  },
  {
   "cell_type": "code",
   "execution_count": 0,
   "metadata": {
    "colab": {
     "base_uri": "https://localhost:8080/"
    },
    "id": "CZHp912esU1l",
    "outputId": "36ef8d60-fab8-4d15-9f65-936fc584c893"
   },
   "outputs": [
    {
     "data": {
      "text/plain": [
       "([ShardedDeviceArray([1.6121525, 1.6121525, 1.6121525, 1.6121525, 1.6121525,\n",
       "                      1.6121525, 1.6121525, 1.6121525], dtype=float32),\n",
       "  ShardedDeviceArray([ 0.8690128 , -0.83167845,  1.2209264 ,  0.88412696,\n",
       "                       0.76478404, -0.66208494, -0.0129658 ,  0.7391483 ],                   dtype=float32)],\n",
       " ShardedDeviceArray([-12.214451, -12.214451, -12.214451, -12.214451,\n",
       "                     -12.214451, -12.214451, -12.214451, -12.214451],                   dtype=float32))"
      ]
     },
     "execution_count": 0,
     "metadata": {
      "tags": []
     },
     "output_type": "execute_result"
    }
   ],
   "source": [
    "def f(seed, _):\n",
    "  dist = tfed.JointDistributionSequential([\n",
    "    tfd.Normal(0., 1.),\n",
    "    tfed.Sharded(tfd.Normal(0., 1.), shard_axis_name='i'),\n",
    "  ])\n",
    "  x = dist.sample(seed=seed)\n",
    "  return x, dist.log_prob(x)\n",
    "jax.pmap(f, in_axes=(None, 0), axis_name='i')(random.PRNGKey(0), jnp.arange(8.))"
   ]
  },
  {
   "cell_type": "markdown",
   "metadata": {
    "id": "2Jem6vNLsjgm"
   },
   "source": [
    "These sharded JDs can have both `Sharded` and vanilla TFP distributions as components. For the unsharded distributions, we obtain the same sample on each device, and for the sharded distributions, we get different samples. The `log_prob` on each device is synchronized as well."
   ]
  },
  {
   "cell_type": "markdown",
   "metadata": {
    "id": "yGa7snFos2de"
   },
   "source": [
    "### MCMC with `Sharded` distributions"
   ]
  },
  {
   "cell_type": "markdown",
   "metadata": {
    "id": "voZoIikGs69-"
   },
   "source": [
    "How do we think about `Sharded` distributions in the context of MCMC? If we have a generative model that can be expressed as a `JointDistribution`, we can pick some axis of that model to \"shard\" across. Typically, one random variable in the model will correspond to observed data, and if we have a large dataset that we'd like to shard across devices, we want the variables that are associated to data points to be sharded as well. We also may have \"local\" random variables that are one-to-one with the observations we are sharding, so we will have to additionally shard those random variables.\n",
    "\n",
    "We'll go over examples of the usage of `Sharded` distributions with TFP MCMC in this section. We'll start with a simpler Bayesian logistic regression example, and conclude with a matrix factorization example, with the goal of demonstrating some use-cases for the `distribute` library.\n"
   ]
  },
  {
   "cell_type": "markdown",
   "metadata": {
    "id": "tTDEJ-20t-RU"
   },
   "source": [
    "##### Example: Bayesian logistic regression for MNIST"
   ]
  },
  {
   "cell_type": "markdown",
   "metadata": {
    "id": "Btckhsht7TOd"
   },
   "source": [
    "We'd like to do Bayesian logistic regression on a large dataset; the model has a prior $p(\\theta)$ over the regression weights, and a likelihood $p(y_i | \\theta, x_i)$ that is summed over all data $\\{x_i, y_i\\}_{i = 1}^N$ to obtain the total joint log density. If we shard our data, we'd shard the observed random variables $x_i$ and $y_i$ in our model. "
   ]
  },
  {
   "cell_type": "markdown",
   "metadata": {
    "id": "wUeySkfVuqI-"
   },
   "source": [
    "We use the following Bayesian logistic regression model for MNIST classification:\n",
    "$$\n",
    "\\begin{align*}\n",
    "w &\\sim \\mathcal{N}(0, 1) \\\\\n",
    "b &\\sim \\mathcal{N}(0, 1) \\\\\n",
    "y_i | w, b, x_i &\\sim \\textrm{Categorical}(w^T x_i + b)\n",
    "\\end{align*}\n",
    "$$"
   ]
  },
  {
   "cell_type": "markdown",
   "metadata": {
    "id": "Q16-CWWi7ju5"
   },
   "source": [
    "Let's load MNIST using TensorFlow Datasets."
   ]
  },
  {
   "cell_type": "code",
   "execution_count": 0,
   "metadata": {
    "colab": {
     "base_uri": "https://localhost:8080/",
     "height": 202,
     "referenced_widgets": [
      "a302adcb8d824d00be0125331fe7df1a",
      "4da2d87727e942c9956a2c507109c107",
      "eb1aba62376345729c10817275841ad1",
      "9a546ada258846cbad21774eea3af7cc",
      "a019862f72874e7cbc77c57cc1e31f9c",
      "f48b175a5b8e469da891b76be737e8cd",
      "bbfbc2dbad584046835b3fcac9917d57",
      "b14fcb50f7644de7b40c89486ab999ba"
     ]
    },
    "id": "Tzsu879puFmo",
    "outputId": "87f3bc0b-55f4-4d98-f24f-3993cef281a3"
   },
   "outputs": [
    {
     "name": "stdout",
     "output_type": "stream",
     "text": [
      "\u001b[1mDownloading and preparing dataset mnist/3.0.1 (download: 11.06 MiB, generated: 21.00 MiB, total: 32.06 MiB) to /root/tensorflow_datasets/mnist/3.0.1...\u001b[0m\n"
     ]
    },
    {
     "name": "stderr",
     "output_type": "stream",
     "text": [
      "WARNING:absl:Dataset mnist is hosted on GCS. It will automatically be downloaded to your\n",
      "local data directory. If you'd instead prefer to read directly from our public\n",
      "GCS bucket (recommended if you're running on GCP), you can instead pass\n",
      "`try_gcs=True` to `tfds.load` or set `data_dir=gs://tfds-data/datasets`.\n",
      "\n"
     ]
    },
    {
     "data": {
      "application/vnd.jupyter.widget-view+json": {
       "model_id": "a302adcb8d824d00be0125331fe7df1a",
       "version_major": 2,
       "version_minor": 0
      },
      "text/plain": [
       "HBox(children=(FloatProgress(value=0.0, description='Dl Completed...', max=4.0, style=ProgressStyle(descriptio…"
      ]
     },
     "metadata": {
      "tags": []
     },
     "output_type": "display_data"
    },
    {
     "name": "stdout",
     "output_type": "stream",
     "text": [
      "\n",
      "\n",
      "\u001b[1mDataset mnist downloaded and prepared to /root/tensorflow_datasets/mnist/3.0.1. Subsequent calls will reuse this data.\u001b[0m\n"
     ]
    }
   ],
   "source": [
    "mnist = tfds.as_numpy(tfds.load('mnist', batch_size=-1))\n",
    "raw_train_images, train_labels = mnist['train']['image'], mnist['train']['label']\n",
    "train_images = raw_train_images.reshape([raw_train_images.shape[0], -1]) / 255.\n",
    "\n",
    "raw_test_images, test_labels = mnist['test']['image'], mnist['test']['label']\n",
    "test_images = raw_test_images.reshape([raw_test_images.shape[0], -1]) / 255."
   ]
  },
  {
   "cell_type": "markdown",
   "metadata": {
    "id": "dTXbO3FyuoqE"
   },
   "source": [
    "We have 60000 training images but let's take advantage of our 8 available cores and split it 8 ways. We'll use this handy `shard` utility function."
   ]
  },
  {
   "cell_type": "code",
   "execution_count": 0,
   "metadata": {
    "id": "cRvMbzl8vO3h"
   },
   "outputs": [],
   "source": [
    "def shard_value(x):\n",
    "  x = x.reshape((jax.device_count(), -1, *x.shape[1:]))\n",
    "  return jax.pmap(lambda x: x)(x) # pmap will physically place values on devices\n",
    "\n",
    "shard = functools.partial(jax.tree.map, shard_value)"
   ]
  },
  {
   "cell_type": "code",
   "execution_count": 0,
   "metadata": {
    "colab": {
     "base_uri": "https://localhost:8080/"
    },
    "id": "w7MneZdGuTvk",
    "outputId": "44abc612-258a-463b-ee14-bef65c1c23b6"
   },
   "outputs": [
    {
     "name": "stdout",
     "output_type": "stream",
     "text": [
      "(8, 7500, 784) (8, 7500)\n"
     ]
    }
   ],
   "source": [
    "sharded_train_images, sharded_train_labels = shard((train_images, train_labels))\n",
    "print(sharded_train_images.shape, sharded_train_labels.shape)"
   ]
  },
  {
   "cell_type": "markdown",
   "metadata": {
    "id": "h4cSdTI21z_W"
   },
   "source": [
    "Before we continue, let's quickly discuss precision on TPUs and its impact on HMC. TPUs execute matrix multiplications using low `bfloat16` precision for speed. `bfloat16` matrix multiplications are often sufficient for many deep learning applications, but when used with HMC, we have empirically found the lower precision can lead to diverging trajectories, causing rejections. We can use higher precision matrix multiplications, at the cost of some additional compute.\n",
    "\n",
    "To increase our matmul precision, we can use the `jax.default_matmul_precision` decorator with `\"tensorfloat32\"` precision (for even higher precision we could use `\"float32\"` precision)."
   ]
  },
  {
   "cell_type": "markdown",
   "metadata": {
    "id": "67WV7IcdvUtg"
   },
   "source": [
    "Let's now define our `run` function, which will take in a random seed (which will be the same on each device) and a shard of MNIST. The function will implement the aforementioned model and we will then use TFP's vanilla MCMC functionality to run a single chain. We'll make sure to decorate `run` with the `jax.default_matmul_precision` decorator to make sure the matrix multiplication is run with higher precision, though in the particular example below, we could just as well use `jnp.dot(images, w, precision=lax.Precision.HIGH)`."
   ]
  },
  {
   "cell_type": "code",
   "execution_count": 0,
   "metadata": {
    "id": "VuJ9Um1xvSPt"
   },
   "outputs": [],
   "source": [
    "# We can use `out_axes=None` in the `pmap` because the results will be the same\n",
    "# on every device. \n",
    "@functools.partial(jax.pmap, axis_name='data', in_axes=(None, 0), out_axes=None)\n",
    "@jax.default_matmul_precision('tensorfloat32')\n",
    "def run(seed, data):\n",
    "  images, labels = data # a sharded dataset\n",
    "  num_examples, dim = images.shape\n",
    "  num_classes = 10\n",
    "\n",
    "  def model_fn():\n",
    "    w = yield Root(tfd.Sample(tfd.Normal(0., 1.), [dim, num_classes]))\n",
    "    b = yield Root(tfd.Sample(tfd.Normal(0., 1.), [num_classes]))\n",
    "    logits = jnp.dot(images, w) + b\n",
    "    yield tfed.Sharded(tfd.Independent(tfd.Categorical(logits=logits), 1),\n",
    "                       shard_axis_name='data')\n",
    "  model = tfed.JointDistributionCoroutine(model_fn)\n",
    "\n",
    "  init_seed, sample_seed = random.split(seed)\n",
    "\n",
    "  initial_state = model.sample(seed=init_seed)[:-1] # throw away `y`\n",
    "\n",
    "  def target_log_prob(*state):\n",
    "    return model.log_prob((*state, labels))\n",
    "\n",
    "  def accuracy(w, b):\n",
    "    logits = images.dot(w) + b\n",
    "    preds = logits.argmax(axis=-1)\n",
    "    # We take the average accuracy across devices by using `lax.pmean`\n",
    "    return lax.pmean((preds == labels).mean(), 'data')\n",
    "\n",
    "  kernel = tfm.HamiltonianMonteCarlo(target_log_prob, 1e-2, 100)\n",
    "  kernel = tfm.DualAveragingStepSizeAdaptation(kernel, 500)\n",
    "  def trace_fn(state, pkr):\n",
    "    return (\n",
    "        target_log_prob(*state),\n",
    "        accuracy(*state),\n",
    "        pkr.new_step_size)\n",
    "  states, trace = tfm.sample_chain(\n",
    "    num_results=1000,\n",
    "    num_burnin_steps=1000,\n",
    "    current_state=initial_state,\n",
    "    kernel=kernel,\n",
    "    trace_fn=trace_fn,\n",
    "    seed=sample_seed\n",
    "  )\n",
    "  return states, trace"
   ]
  },
  {
   "cell_type": "markdown",
   "metadata": {
    "id": "pMq6alT_OmCC"
   },
   "source": [
    "`jax.pmap` includes a JIT compile but the compiled function is cached after the first call. We'll call `run` and ignore the output to cache the compilation."
   ]
  },
  {
   "cell_type": "code",
   "execution_count": 0,
   "metadata": {
    "colab": {
     "base_uri": "https://localhost:8080/"
    },
    "id": "LYsRQkTUxCPD",
    "outputId": "06062688-9df6-4a98-d526-a1a639ba692b"
   },
   "outputs": [
    {
     "name": "stdout",
     "output_type": "stream",
     "text": [
      "CPU times: user 24.5 s, sys: 48.2 s, total: 1min 12s\n",
      "Wall time: 1min 54s\n"
     ]
    }
   ],
   "source": [
    "%%time\n",
    "output = run(random.PRNGKey(0), (sharded_train_images, sharded_train_labels))\n",
    "jax.tree.map(lambda x: x.block_until_ready(), output)"
   ]
  },
  {
   "cell_type": "markdown",
   "metadata": {
    "id": "AZhCrhKqOxkc"
   },
   "source": [
    "We'll now call `run` again to see how long the actual execution takes."
   ]
  },
  {
   "cell_type": "code",
   "execution_count": 0,
   "metadata": {
    "colab": {
     "base_uri": "https://localhost:8080/"
    },
    "id": "5SuYWRhUDGWB",
    "outputId": "88447cdc-6988-47d1-bd8c-1233bf09af51"
   },
   "outputs": [
    {
     "name": "stdout",
     "output_type": "stream",
     "text": [
      "CPU times: user 13.1 s, sys: 45.2 s, total: 58.3 s\n",
      "Wall time: 1min 43s\n"
     ]
    }
   ],
   "source": [
    "%%time\n",
    "states, trace = run(random.PRNGKey(0), (sharded_train_images, sharded_train_labels))\n",
    "jax.tree.map(lambda x: x.block_until_ready(), trace)"
   ]
  },
  {
   "cell_type": "markdown",
   "metadata": {
    "id": "6njumqgPO1zG"
   },
   "source": [
    "We're executing 200,000 leapfrog steps, each of which computes a gradient over the entire dataset. Splitting the computation over 8 cores enables us to compute the equivalent of 200,000 epochs of training in about 95 seconds, about 2,100 epochs per second!"
   ]
  },
  {
   "cell_type": "markdown",
   "metadata": {
    "id": "vWciJ-eLPRkr"
   },
   "source": [
    "Let's plot the log-density of each sample and each sample's accuracy:"
   ]
  },
  {
   "cell_type": "code",
   "execution_count": 0,
   "metadata": {
    "colab": {
     "base_uri": "https://localhost:8080/",
     "height": 338
    },
    "id": "2PNzYZOXxd1R",
    "outputId": "6219df98-19ea-4c00-e82e-711cbc19e540"
   },
   "outputs": [
    {
     "data": {
      "image/png": "[encoded data removed]",
      "text/plain": [
       "<Figure size 1080x360 with 3 Axes>"
      ]
     },
     "metadata": {
      "needs_background": "light",
      "tags": []
     },
     "output_type": "display_data"
    }
   ],
   "source": [
    "fig, ax = plt.subplots(1, 3, figsize=(15, 5))\n",
    "ax[0].plot(trace[0])\n",
    "ax[0].set_title('Log Prob')\n",
    "ax[1].plot(trace[1])\n",
    "ax[1].set_title('Accuracy')\n",
    "ax[2].plot(trace[2])\n",
    "ax[2].set_title('Step Size')\n",
    "plt.show()"
   ]
  },
  {
   "cell_type": "markdown",
   "metadata": {
    "id": "dTz4X8_8PXZP"
   },
   "source": [
    "If we ensemble the samples, we can compute a Bayesian model average to improve our performance."
   ]
  },
  {
   "cell_type": "code",
   "execution_count": 0,
   "metadata": {
    "colab": {
     "base_uri": "https://localhost:8080/"
    },
    "id": "mP5Vd7w4PbJ2",
    "outputId": "4b04c2e8-9436-41bc-9884-6b27f95986e4"
   },
   "outputs": [
    {
     "name": "stdout",
     "output_type": "stream",
     "text": [
      "Average Accuracy: 0.9188529253005981\n",
      "BMA Accuracy: 0.9264000058174133\n",
      "Accuracy Improvement: 0.0075470805168151855\n"
     ]
    }
   ],
   "source": [
    "@functools.partial(jax.pmap, axis_name='data', in_axes=(0, None), out_axes=None)\n",
    "def bayesian_model_average(data, states):\n",
    "  images, labels = data\n",
    "  logits = jax.vmap(lambda w, b: images.dot(w) + b)(*states)\n",
    "  probs = jax.nn.softmax(logits, axis=-1)\n",
    "  bma_accuracy = (probs.mean(axis=0).argmax(axis=-1) == labels).mean()\n",
    "  avg_accuracy = (probs.argmax(axis=-1) == labels).mean()\n",
    "  return lax.pmean(bma_accuracy, axis_name='data'), lax.pmean(avg_accuracy, axis_name='data')\n",
    "\n",
    "sharded_test_images, sharded_test_labels = shard((test_images, test_labels))\n",
    "bma_acc, avg_acc = bayesian_model_average((sharded_test_images, sharded_test_labels), states)\n",
    "print(f'Average Accuracy: {avg_acc}')\n",
    "print(f'BMA Accuracy: {bma_acc}')\n",
    "print(f'Accuracy Improvement: {bma_acc - avg_acc}')"
   ]
  },
  {
   "cell_type": "markdown",
   "metadata": {
    "id": "c2CjiAMgQ9Vd"
   },
   "source": [
    "A Bayesian model average increases our accuracy by almost 1%!"
   ]
  },
  {
   "cell_type": "markdown",
   "metadata": {
    "id": "d9CYg3YC6XbK"
   },
   "source": [
    "##### Example: MovieLens recommendation system"
   ]
  },
  {
   "cell_type": "markdown",
   "metadata": {
    "id": "kMd9c6SI7rm7"
   },
   "source": [
    "Let's now try doing inference with the MovieLens recommendations dataset, which is a collection of users and their ratings of various movies. Specifically, we can represent MovieLens as an $N \\times M$ watch matrix $W$ where $N$ is the number of users and $M$ is the number of movies; we expect $N > M$. The entries of $W_{ij}$ are a boolean indicating whether or not user $i$ watched movie $j$. Note that MovieLens provides user ratings, but we're ignoring them to simplify the problem.\n",
    "\n",
    "\n",
    "First, we'll load the dataset. We'll use the version with 1 million ratings."
   ]
  },
  {
   "cell_type": "code",
   "execution_count": 0,
   "metadata": {
    "colab": {
     "base_uri": "https://localhost:8080/",
     "height": 298,
     "referenced_widgets": [
      "0509d5f63e8447c5bf3047dec3c9b436",
      "62ff554eba004da3809a1dd2e21311fb",
      "74764971a48a4f79a495f1132d805db0",
      "30b99f5c7029409ebca66ffedb065879",
      "76f980ecbd2b4b49a7c44b683f74e8c8",
      "cf5ca2562e75411c9e14dcb5d58736ed",
      "a03a5d0680884fa3a77c4b95ebfa0b98",
      "0033084241f445c9a6815a48a868d64b",
      "24c536ef29c547ef965bb3270637bcc2",
      "33822c1d39ca42f5b5a44f330ba19df3",
      "8074ff27fdd24ba6844f3a3f4eda7aed",
      "a1966d13e72d4a9f9fcda67545e8fee3",
      "f7503cf63443454a83edfeaa1bc3ca59",
      "6bd23dc4d2f04752a269bf7f3a25e10b",
      "ee5454904d4649e1a23c7b29eee96b27",
      "10eb91732d5b430481b75769cfdf6100",
      "95e6e8cbf69f495eb7fb6c84f2781d12",
      "cd2ca5c8fc214489a02e62e7750df78d",
      "56b9e4a682864227a14f95274afea6c8",
      "912901341ef44cf385d366dd62d64016",
      "e177f0e205af4369ad4e16af5c5f5f6a",
      "57ffaf62ae774f0cbcc3526d12902a76",
      "c400310f418546909ba8ffe2e10e3e12",
      "b4dbdb532ffd4b46ba6ebac9f1366b14",
      "445cf583fac44e3895e51e2cde2a350c",
      "cd2ab853d5d143daae3516a910d2cd87",
      "dd3fe337112740738f3b9fd788ba9405",
      "3ee6fe19d17d4df99ffeb289775b1c2e",
      "698a2d7c08864520af367c353735814f",
      "7154891fb6ac45c4a24e151af3fb6903",
      "3c0c2c21823b4206b1e217601b8b2533",
      "c2e9d94dd4cd459da8cd6c5d253b7ed5",
      "48ec20644a394848927cf72e8bea86b5",
      "4fc929851e25400eaa789a41aead047b",
      "55840316f537476b81ffe69cec8b7092",
      "a250abd4702646e8a30b3ff946418bc7",
      "ef4b4c0fa6be4907a9e86c77eb4249f6",
      "5f993f93d9764230b0fd70f0945a3739",
      "bc2e9dd37de44b5192881851fc42099d",
      "e3f937fc3dfb4486bfd7211b52877a80"
     ]
    },
    "id": "8Ra9LNDC-bF9",
    "outputId": "16054a5b-648f-49e5-b51d-dfaaf303b025"
   },
   "outputs": [
    {
     "name": "stdout",
     "output_type": "stream",
     "text": [
      "\u001b[1mDownloading and preparing dataset movielens/1m-ratings/0.1.0 (download: Unknown size, generated: Unknown size, total: Unknown size) to /root/tensorflow_datasets/movielens/1m-ratings/0.1.0...\u001b[0m\n"
     ]
    },
    {
     "data": {
      "application/vnd.jupyter.widget-view+json": {
       "model_id": "0509d5f63e8447c5bf3047dec3c9b436",
       "version_major": 2,
       "version_minor": 0
      },
      "text/plain": [
       "HBox(children=(FloatProgress(value=1.0, bar_style='info', description='Dl Completed...', max=1.0, style=Progre…"
      ]
     },
     "metadata": {
      "tags": []
     },
     "output_type": "display_data"
    },
    {
     "data": {
      "application/vnd.jupyter.widget-view+json": {
       "model_id": "24c536ef29c547ef965bb3270637bcc2",
       "version_major": 2,
       "version_minor": 0
      },
      "text/plain": [
       "HBox(children=(FloatProgress(value=1.0, bar_style='info', description='Dl Size...', max=1.0, style=ProgressSty…"
      ]
     },
     "metadata": {
      "tags": []
     },
     "output_type": "display_data"
    },
    {
     "data": {
      "application/vnd.jupyter.widget-view+json": {
       "model_id": "95e6e8cbf69f495eb7fb6c84f2781d12",
       "version_major": 2,
       "version_minor": 0
      },
      "text/plain": [
       "HBox(children=(FloatProgress(value=1.0, bar_style='info', description='Extraction completed...', max=1.0, styl…"
      ]
     },
     "metadata": {
      "tags": []
     },
     "output_type": "display_data"
    },
    {
     "name": "stdout",
     "output_type": "stream",
     "text": [
      "\n",
      "\n",
      "\n",
      "\n",
      "\n",
      "\n"
     ]
    },
    {
     "data": {
      "application/vnd.jupyter.widget-view+json": {
       "model_id": "445cf583fac44e3895e51e2cde2a350c",
       "version_major": 2,
       "version_minor": 0
      },
      "text/plain": [
       "HBox(children=(FloatProgress(value=1.0, bar_style='info', max=1.0), HTML(value='')))"
      ]
     },
     "metadata": {
      "tags": []
     },
     "output_type": "display_data"
    },
    {
     "name": "stdout",
     "output_type": "stream",
     "text": [
      "\r",
      "Shuffling and writing examples to /root/tensorflow_datasets/movielens/1m-ratings/0.1.0.incompleteYKA3TG/movielens-train.tfrecord\n"
     ]
    },
    {
     "data": {
      "application/vnd.jupyter.widget-view+json": {
       "model_id": "48ec20644a394848927cf72e8bea86b5",
       "version_major": 2,
       "version_minor": 0
      },
      "text/plain": [
       "HBox(children=(FloatProgress(value=0.0, max=1000209.0), HTML(value='')))"
      ]
     },
     "metadata": {
      "tags": []
     },
     "output_type": "display_data"
    },
    {
     "name": "stdout",
     "output_type": "stream",
     "text": [
      "\u001b[1mDataset movielens downloaded and prepared to /root/tensorflow_datasets/movielens/1m-ratings/0.1.0. Subsequent calls will reuse this data.\u001b[0m\n",
      "\r"
     ]
    }
   ],
   "source": [
    "movielens = tfds.as_numpy(tfds.load('movielens/1m-ratings', batch_size=-1))\n",
    "GENRES = ['Action', 'Adventure', 'Animation', 'Children', 'Comedy',\n",
    "          'Crime', 'Documentary', 'Drama', 'Fantasy', 'Film-Noir',\n",
    "          'Horror', 'IMAX', 'Musical', 'Mystery', 'Romance', 'Sci-Fi',\n",
    "          'Thriller', 'Unknown', 'War', 'Western', '(no genres listed)'] "
   ]
  },
  {
   "cell_type": "markdown",
   "metadata": {
    "id": "U5opyYKv-ioM"
   },
   "source": [
    "We'll do some preprocessing of the dataset to obtain the watch matrix $W$."
   ]
  },
  {
   "cell_type": "code",
   "execution_count": 0,
   "metadata": {
    "colab": {
     "base_uri": "https://localhost:8080/"
    },
    "id": "OGK5nn3u-ltG",
    "outputId": "9ebed1be-b197-40af-85eb-117e5b3bb89e"
   },
   "outputs": [
    {
     "name": "stdout",
     "output_type": "stream",
     "text": [
      "(6040, 3706)\n"
     ]
    }
   ],
   "source": [
    "raw_movie_ids = movielens['train']['movie_id']\n",
    "raw_user_ids = movielens['train']['user_id']\n",
    "genres = movielens['train']['movie_genres']\n",
    "\n",
    "movie_ids, movie_labels = pd.factorize(movielens['train']['movie_id'])\n",
    "user_ids, user_labels = pd.factorize(movielens['train']['user_id'])\n",
    "\n",
    "num_movies = movie_ids.max() + 1\n",
    "num_users = user_ids.max() + 1\n",
    "\n",
    "movie_titles = dict(zip(movielens['train']['movie_id'],\n",
    "                        movielens['train']['movie_title']))\n",
    "movie_genres = dict(zip(movielens['train']['movie_id'],\n",
    "                        genres))\n",
    "movie_id_to_title = [movie_titles[movie_labels[id]].decode('utf-8')\n",
    "                     for id in range(num_movies)]\n",
    "movie_id_to_genre = [GENRES[movie_genres[movie_labels[id]][0]] for id in range(num_movies)]\n",
    "\n",
    "watch_matrix = np.zeros((num_users, num_movies), bool)\n",
    "watch_matrix[user_ids, movie_ids] = True\n",
    "print(watch_matrix.shape)"
   ]
  },
  {
   "cell_type": "markdown",
   "metadata": {
    "id": "H8hKi0Aw-KVT"
   },
   "source": [
    "We can define a generative model for $W$, using a simple probabilistic matrix factorization model. We assume a latent $N \\times D$ user matrix $U$ and a latent $M \\times D$ movie matrix $V$, which when multiplied produce the logits of a Bernoulli for the watch matrix $W$. We'll also include a bias vectors for users and movies, $u$ and $v$.\n",
    "$$\n",
    "\\begin{align*}\n",
    "  U &\\sim \\mathcal{N}(0, 1) \\quad \n",
    "  u \\sim \\mathcal{N}(0, 1)\\\\\n",
    "  V &\\sim \\mathcal{N}(0, 1) \\quad\n",
    "  v \\sim \\mathcal{N}(0, 1)\\\\\n",
    "  W_{ij} &\\sim \\textrm{Bernoulli}\\left(\\sigma\\left(\\left(UV^T\\right)_{ij} + u_i + v_j\\right)\\right)\n",
    "\\end{align*}\n",
    "$$"
   ]
  },
  {
   "cell_type": "markdown",
   "metadata": {
    "id": "la6o8iam9nTN"
   },
   "source": [
    "This is a pretty big matrix; 6040 user and 3706 movies leads to a matrix with over 22 million entries in it.\n",
    "How do we approach sharding this model? Well, if we assume that $N > M$ (i.e. there are more users than movies), then it would make sense to shard the watch matrix across the user axis, so each device would have a chunk of watch matrix corresponding to a subset of users. Unlike the previous example, however, we'll also have to shard up the $U$ matrix, since it has an embedding for each user, so each device will be responsible for a shard of $U$ and a shard of $W$. On the other hand, $V$ will be unsharded and be synchronized across devices."
   ]
  },
  {
   "cell_type": "code",
   "execution_count": 0,
   "metadata": {
    "id": "4SUlkEg__ElT"
   },
   "outputs": [],
   "source": [
    "sharded_watch_matrix = shard(watch_matrix)"
   ]
  },
  {
   "cell_type": "markdown",
   "metadata": {
    "id": "zdZgFkzH_BYI"
   },
   "source": [
    "Before we write our `run`, let's quickly discuss the additional challenges with sharding the local random variable $U$. When running HMC, the vanilla `tfp.mcmc.HamiltonianMonteCarlo` kernel will sample momenta for each element of the chain's state. Previously, only unsharded random variables were part of that state, and the momenta were the same on each device. When we now have a sharded $U$, we need to sample different momenta on each device for $U$, while sampling the same momenta for $V$. To accomplish this, we can use `tfp.experimental.mcmc.PreconditionedHamiltonianMonteCarlo` with a `Sharded` momentum distribution. As we continue to make parallel computation first-class, we may simplify this, e.g. by taking a shardedness indicator to the HMC kernel."
   ]
  },
  {
   "cell_type": "code",
   "execution_count": 0,
   "metadata": {
    "id": "XEPHnzdo-_G2"
   },
   "outputs": [],
   "source": [
    "def make_run(*,\n",
    "             axis_name,\n",
    "             dim=20,\n",
    "             num_chains=2,\n",
    "             prior_variance=1.,\n",
    "             step_size=1e-2,\n",
    "             num_leapfrog_steps=100,\n",
    "             num_burnin_steps=1000,\n",
    "             num_results=500,\n",
    "             ):\n",
    "  @functools.partial(jax.pmap, in_axes=(None, 0), axis_name=axis_name)\n",
    "  @jax.default_matmul_precision('tensorfloat32')\n",
    "  def run(key, watch_matrix):\n",
    "    num_users, num_movies = watch_matrix.shape\n",
    "\n",
    "    Sharded = functools.partial(tfed.Sharded, shard_axis_name=axis_name)\n",
    "\n",
    "    def prior_fn():\n",
    "      user_embeddings = yield Root(Sharded(tfd.Sample(tfd.Normal(0., 1.), [num_users, dim]), name='user_embeddings'))\n",
    "      user_bias = yield Root(Sharded(tfd.Sample(tfd.Normal(0., 1.), [num_users]), name='user_bias'))\n",
    "      movie_embeddings = yield Root(tfd.Sample(tfd.Normal(0., 1.), [num_movies, dim], name='movie_embeddings'))\n",
    "      movie_bias = yield Root(tfd.Sample(tfd.Normal(0., 1.), [num_movies], name='movie_bias'))\n",
    "      return (user_embeddings, user_bias, movie_embeddings, movie_bias)\n",
    "    prior = tfed.JointDistributionCoroutine(prior_fn)\n",
    "\n",
    "    def model_fn():\n",
    "      user_embeddings, user_bias, movie_embeddings, movie_bias = yield from prior_fn()\n",
    "      logits = (jnp.einsum('...nd,...md->...nm', user_embeddings, movie_embeddings)\n",
    "                + user_bias[..., :, None] + movie_bias[..., None, :])\n",
    "      yield Sharded(tfd.Independent(tfd.Bernoulli(logits=logits), 2), name='watch')\n",
    "    model = tfed.JointDistributionCoroutine(model_fn)\n",
    "\n",
    "    init_key, sample_key = random.split(key)\n",
    "    initial_state = prior.sample(seed=init_key, sample_shape=num_chains)\n",
    "\n",
    "    def target_log_prob(*state):\n",
    "      return model.log_prob((*state, watch_matrix))\n",
    "\n",
    "    momentum_distribution = tfed.JointDistributionSequential([\n",
    "      Sharded(tfd.Independent(tfd.Normal(jnp.zeros([num_chains, num_users, dim]), 1.), 2)),\n",
    "      Sharded(tfd.Independent(tfd.Normal(jnp.zeros([num_chains, num_users]), 1.), 1)),\n",
    "      tfd.Independent(tfd.Normal(jnp.zeros([num_chains, num_movies, dim]), 1.), 2),\n",
    "      tfd.Independent(tfd.Normal(jnp.zeros([num_chains, num_movies]), 1.), 1),\n",
    "    ])\n",
    "    \n",
    "    # We pass in momentum_distribution here to ensure that the momenta for \n",
    "    # user_embeddings and user_bias are also sharded\n",
    "    kernel = tfem.PreconditionedHamiltonianMonteCarlo(target_log_prob, step_size,\n",
    "                                                      num_leapfrog_steps,\n",
    "                                                      momentum_distribution=momentum_distribution)\n",
    "\n",
    "    num_adaptation_steps = int(0.8 * num_burnin_steps)\n",
    "    kernel = tfm.DualAveragingStepSizeAdaptation(kernel, num_adaptation_steps)\n",
    "\n",
    "    def trace_fn(state, pkr):\n",
    "      return {\n",
    "        'log_prob': target_log_prob(*state),\n",
    "        'log_accept_ratio': pkr.inner_results.log_accept_ratio,\n",
    "      }\n",
    "    return tfm.sample_chain(\n",
    "        num_results, initial_state,\n",
    "        kernel=kernel,\n",
    "        num_burnin_steps=num_burnin_steps,\n",
    "        trace_fn=trace_fn,\n",
    "        seed=sample_key)\n",
    "  return run"
   ]
  },
  {
   "cell_type": "markdown",
   "metadata": {
    "id": "3cUqCRXSWtOg"
   },
   "source": [
    "We'll again run it once to cache the compiled `run`."
   ]
  },
  {
   "cell_type": "code",
   "execution_count": 0,
   "metadata": {
    "colab": {
     "base_uri": "https://localhost:8080/"
    },
    "id": "gNQFjD0lBA7N",
    "outputId": "ed5b6434-1129-4709-830c-f06807488018"
   },
   "outputs": [
    {
     "name": "stdout",
     "output_type": "stream",
     "text": [
      "CPU times: user 56 s, sys: 1min 24s, total: 2min 20s\n",
      "Wall time: 3min 35s\n"
     ]
    }
   ],
   "source": [
    "%%time\n",
    "run = make_run(axis_name='data')\n",
    "output = run(random.PRNGKey(0), sharded_watch_matrix)\n",
    "jax.tree.map(lambda x: x.block_until_ready(), output)"
   ]
  },
  {
   "cell_type": "markdown",
   "metadata": {
    "id": "hBLG3HwyWx3c"
   },
   "source": [
    "Now we'll run it again without the compilation overhead."
   ]
  },
  {
   "cell_type": "code",
   "execution_count": 0,
   "metadata": {
    "colab": {
     "base_uri": "https://localhost:8080/"
    },
    "id": "tfwsOUhmBMNB",
    "outputId": "8a4f5fb3-5cf4-44e0-94bc-e7429f003fe2"
   },
   "outputs": [
    {
     "name": "stdout",
     "output_type": "stream",
     "text": [
      "CPU times: user 28.8 s, sys: 1min 16s, total: 1min 44s\n",
      "Wall time: 3min 1s\n"
     ]
    }
   ],
   "source": [
    "%%time\n",
    "states, trace = run(random.PRNGKey(0), sharded_watch_matrix)\n",
    "jax.tree.map(lambda x: x.block_until_ready(), trace)"
   ]
  },
  {
   "cell_type": "markdown",
   "metadata": {
    "id": "fl1uGAVWW1sR"
   },
   "source": [
    "Looks like we completed about 150,000 leapfrog steps in about 3 minutes, so about 83 leapfrog steps per second! Let's plot the accept ratio and log density of our samples."
   ]
  },
  {
   "cell_type": "code",
   "execution_count": 0,
   "metadata": {
    "colab": {
     "base_uri": "https://localhost:8080/",
     "height": 338
    },
    "id": "1wJrfbgYBS0t",
    "outputId": "232e5062-cddf-4779-a2ae-e4ac6ca22a67"
   },
   "outputs": [
    {
     "data": {
      "image/png": "[encoded data removed]",
      "text/plain": [
       "<Figure size 720x360 with 2 Axes>"
      ]
     },
     "metadata": {
      "needs_background": "light",
      "tags": []
     },
     "output_type": "display_data"
    }
   ],
   "source": [
    "fig, axs = plt.subplots(1, len(trace), figsize=(5 * len(trace), 5))\n",
    "for ax, (key, val) in zip(axs, trace.items()):\n",
    "  ax.plot(val[0]) # Indexing into a sharded array, each element is the same\n",
    "  ax.set_title(key);"
   ]
  },
  {
   "cell_type": "markdown",
   "metadata": {
    "id": "zGX10FOXYfvl"
   },
   "source": [
    "Now that we have some samples from our Markov chain, let's use them to make some predictions. First, let's extract each of the components. Remember that the `user_embeddings` and `user_bias` are split across device, so we need to concatenate our `ShardedArray` to obtain them all. On the other hand, `movie_embeddings` and `movie_bias` are the same on every device, so we can just pick the value from the first shard.  We'll use regular `numpy` to copy the values from the TPUs back to CPU."
   ]
  },
  {
   "cell_type": "code",
   "execution_count": 0,
   "metadata": {
    "colab": {
     "base_uri": "https://localhost:8080/"
    },
    "id": "OtN1xACUYw5O",
    "outputId": "71ea5fdf-390b-4ae1-e332-d7ab46e7536c"
   },
   "outputs": [
    {
     "name": "stdout",
     "output_type": "stream",
     "text": [
      "User embeddings: (500, 2, 6040, 20)\n",
      "User bias: (500, 2, 6040)\n",
      "Movie embeddings: (500, 2, 3706, 20)\n",
      "Movie bias: (500, 2, 3706)\n"
     ]
    }
   ],
   "source": [
    "user_embeddings = np.concatenate(np.array(states.user_embeddings, np.float32), axis=2)\n",
    "user_bias = np.concatenate(np.array(states.user_bias, np.float32), axis=2)\n",
    "movie_embeddings = np.array(states.movie_embeddings[0], dtype=np.float32)\n",
    "movie_bias = np.array(states.movie_bias[0], dtype=np.float32)\n",
    "samples = (user_embeddings, user_bias, movie_embeddings, movie_bias)\n",
    "print(f'User embeddings: {user_embeddings.shape}')\n",
    "print(f'User bias: {user_bias.shape}')\n",
    "print(f'Movie embeddings: {movie_embeddings.shape}')\n",
    "print(f'Movie bias: {movie_bias.shape}')"
   ]
  },
  {
   "cell_type": "markdown",
   "metadata": {
    "id": "Zn0qF_1uc17L"
   },
   "source": [
    "Let's try to build a simple recommender system that utilizes the uncertainty captured in these samples. Let's first write a function that ranks movies according to the watch probability."
   ]
  },
  {
   "cell_type": "code",
   "execution_count": 0,
   "metadata": {
    "id": "q-cc2vAfZYyz"
   },
   "outputs": [],
   "source": [
    "@jax.jit\n",
    "def recommend(sample, user_id):\n",
    "  user_embeddings, user_bias, movie_embeddings, movie_bias = sample\n",
    "  movie_logits = (\n",
    "      jnp.einsum('d,md->m', user_embeddings[user_id], movie_embeddings)\n",
    "      + user_bias[user_id] + movie_bias)\n",
    "  return movie_logits.argsort()[::-1]"
   ]
  },
  {
   "cell_type": "markdown",
   "metadata": {
    "id": "2sRtm0NaeTFG"
   },
   "source": [
    "We can now write a function that loops over all the samples and for each one, picks the top ranked movie that the user hasn't watched already. We can then see the counts of all recommended movies across the samples."
   ]
  },
  {
   "cell_type": "code",
   "execution_count": 0,
   "metadata": {
    "id": "hfAjsSmueSZH"
   },
   "outputs": [],
   "source": [
    "def get_recommendations(user_id): \n",
    "  movie_ids = []\n",
    "  already_watched = set(jnp.arange(num_movies)[watch_matrix[user_id] == 1])\n",
    "  for i in range(500):\n",
    "    for j in range(2):\n",
    "      sample = jax.tree.map(lambda x: x[i, j], samples)\n",
    "      ranking = recommend(sample, user_id)\n",
    "      for movie_id in ranking:\n",
    "        if int(movie_id) not in already_watched:\n",
    "          movie_ids.append(movie_id)\n",
    "          break\n",
    "  return movie_ids\n",
    "\n",
    "def plot_recommendations(movie_ids, ax=None):\n",
    "  titles = collections.Counter([movie_id_to_title[i] for i in movie_ids])\n",
    "  ax = ax or plt.gca()\n",
    "  names, counts = zip(*sorted(titles.items(), key=lambda x: -x[1]))\n",
    "  ax.bar(names, counts)\n",
    "  ax.set_xticklabels(names, rotation=90)"
   ]
  },
  {
   "cell_type": "markdown",
   "metadata": {
    "id": "XLmgJwXYecl9"
   },
   "source": [
    "Let's take the user who has seen the most movies versus the one who has seen the least."
   ]
  },
  {
   "cell_type": "code",
   "execution_count": 0,
   "metadata": {
    "colab": {
     "base_uri": "https://localhost:8080/"
    },
    "id": "ncwX6MGSfVqf",
    "outputId": "877fa292-0165-45c2-8075-be602baf75ec"
   },
   "outputs": [
    {
     "name": "stdout",
     "output_type": "stream",
     "text": [
      "2314 20\n"
     ]
    }
   ],
   "source": [
    "user_watch_counts = watch_matrix.sum(axis=1)\n",
    "user_most = user_watch_counts.argmax()\n",
    "user_least = user_watch_counts.argmin()\n",
    "print(user_watch_counts[user_most], user_watch_counts[user_least])"
   ]
  },
  {
   "cell_type": "markdown",
   "metadata": {
    "id": "e2UfkAagel78"
   },
   "source": [
    "We hope our system has more certainty about `user_most` than `user_least`, given that we have more information about what sorts of movies `user_most` is  more likely to watch."
   ]
  },
  {
   "cell_type": "code",
   "execution_count": 0,
   "metadata": {
    "colab": {
     "base_uri": "https://localhost:8080/",
     "height": 791
    },
    "id": "CS0clOvEelD6",
    "outputId": "2109267c-9a9f-451a-cb97-8ccefba2ae5d"
   },
   "outputs": [
    {
     "data": {
      "image/png": "[encoded data removed]",
      "text/plain": [
       "<Figure size 1440x720 with 2 Axes>"
      ]
     },
     "metadata": {
      "needs_background": "light",
      "tags": []
     },
     "output_type": "display_data"
    }
   ],
   "source": [
    "fig, ax = plt.subplots(1, 2, figsize=(20, 10))\n",
    "most_recommendations = get_recommendations(user_most)\n",
    "plot_recommendations(most_recommendations, ax=ax[0])\n",
    "ax[0].set_title('Recommendation for user_most')\n",
    "least_recommendations = get_recommendations(user_least)\n",
    "plot_recommendations(least_recommendations, ax=ax[1])\n",
    "ax[1].set_title('Recommendation for user_least');"
   ]
  },
  {
   "cell_type": "markdown",
   "metadata": {
    "id": "fIReD8VthTUL"
   },
   "source": [
    "We see that there is more variance in our recommendations for `user_least` reflecting our additional uncertainty in their watch preferences.\n",
    "\n",
    "We can also see look at the genres of the recommended movies."
   ]
  },
  {
   "cell_type": "code",
   "execution_count": 0,
   "metadata": {
    "colab": {
     "base_uri": "https://localhost:8080/",
     "height": 482
    },
    "id": "MEmslkFVgaOP",
    "outputId": "21bd9181-22be-44b4-b95e-cf5a076fe0e2"
   },
   "outputs": [
    {
     "data": {
      "image/png": "[encoded data removed]",
      "text/plain": [
       "<Figure size 1440x720 with 2 Axes>"
      ]
     },
     "metadata": {
      "needs_background": "light",
      "tags": []
     },
     "output_type": "display_data"
    }
   ],
   "source": [
    "most_genres = collections.Counter([movie_id_to_genre[i] for i in most_recommendations])\n",
    "least_genres = collections.Counter([movie_id_to_genre[i] for i in least_recommendations])\n",
    "fig, ax = plt.subplots(1, 2, figsize=(20, 10))\n",
    "ax[0].bar(most_genres.keys(), most_genres.values())\n",
    "ax[0].set_title('Genres recommended for user_most')\n",
    "ax[1].bar(least_genres.keys(), least_genres.values())\n",
    "ax[1].set_title('Genres recommended for user_least');"
   ]
  },
  {
   "cell_type": "markdown",
   "metadata": {
    "id": "ZwCsrFFgnALF"
   },
   "source": [
    "`user_most` has seen a lot of movies and has been recommended more niche genres like mystery and crime whereas `user_least` has not watched many movies and was recommended more mainstream movies, which skew comedy and action."
   ]
  }
 ],
 "metadata": {
  "accelerator": "TPU",
  "colab": {
   "collapsed_sections": [],
   "name": "Distributed Inference with JAX",
   "toc_visible": true
  },
  "kernelspec": {
   "display_name": "Python 3",
   "name": "python3"
  },
  "widgets": {
   "application/vnd.jupyter.widget-state+json": {
    "0033084241f445c9a6815a48a868d64b": {
     "model_module": "@jupyter-widgets/base",
     "model_name": "LayoutModel",
     "state": {
      "_model_module": "@jupyter-widgets/base",
      "_model_module_version": "1.2.0",
      "_model_name": "LayoutModel",
      "_view_count": null,
      "_view_module": "@jupyter-widgets/base",
      "_view_module_version": "1.2.0",
      "_view_name": "LayoutView",
      "align_content": null,
      "align_items": null,
      "align_self": null,
      "border": null,
      "bottom": null,
      "display": null,
      "flex": null,
      "flex_flow": null,
      "grid_area": null,
      "grid_auto_columns": null,
      "grid_auto_flow": null,
      "grid_auto_rows": null,
      "grid_column": null,
      "grid_gap": null,
      "grid_row": null,
      "grid_template_areas": null,
      "grid_template_columns": null,
      "grid_template_rows": null,
      "height": null,
      "justify_content": null,
      "justify_items": null,
      "left": null,
      "margin": null,
      "max_height": null,
      "max_width": null,
      "min_height": null,
      "min_width": null,
      "object_fit": null,
      "object_position": null,
      "order": null,
      "overflow": null,
      "overflow_x": null,
      "overflow_y": null,
      "padding": null,
      "right": null,
      "top": null,
      "visibility": null,
      "width": null
     }
    },
    "0509d5f63e8447c5bf3047dec3c9b436": {
     "model_module": "@jupyter-widgets/controls",
     "model_name": "HBoxModel",
     "state": {
      "_dom_classes": [],
      "_model_module": "@jupyter-widgets/controls",
      "_model_module_version": "1.5.0",
      "_model_name": "HBoxModel",
      "_view_count": null,
      "_view_module": "@jupyter-widgets/controls",
      "_view_module_version": "1.5.0",
      "_view_name": "HBoxView",
      "box_style": "",
      "children": [
       "IPY_MODEL_74764971a48a4f79a495f1132d805db0",
       "IPY_MODEL_30b99f5c7029409ebca66ffedb065879"
      ],
      "layout": "IPY_MODEL_62ff554eba004da3809a1dd2e21311fb"
     }
    },
    "10eb91732d5b430481b75769cfdf6100": {
     "model_module": "@jupyter-widgets/base",
     "model_name": "LayoutModel",
     "state": {
      "_model_module": "@jupyter-widgets/base",
      "_model_module_version": "1.2.0",
      "_model_name": "LayoutModel",
      "_view_count": null,
      "_view_module": "@jupyter-widgets/base",
      "_view_module_version": "1.2.0",
      "_view_name": "LayoutView",
      "align_content": null,
      "align_items": null,
      "align_self": null,
      "border": null,
      "bottom": null,
      "display": null,
      "flex": null,
      "flex_flow": null,
      "grid_area": null,
      "grid_auto_columns": null,
      "grid_auto_flow": null,
      "grid_auto_rows": null,
      "grid_column": null,
      "grid_gap": null,
      "grid_row": null,
      "grid_template_areas": null,
      "grid_template_columns": null,
      "grid_template_rows": null,
      "height": null,
      "justify_content": null,
      "justify_items": null,
      "left": null,
      "margin": null,
      "max_height": null,
      "max_width": null,
      "min_height": null,
      "min_width": null,
      "object_fit": null,
      "object_position": null,
      "order": null,
      "overflow": null,
      "overflow_x": null,
      "overflow_y": null,
      "padding": null,
      "right": null,
      "top": null,
      "visibility": null,
      "width": null
     }
    },
    "24c536ef29c547ef965bb3270637bcc2": {
     "model_module": "@jupyter-widgets/controls",
     "model_name": "HBoxModel",
     "state": {
      "_dom_classes": [],
      "_model_module": "@jupyter-widgets/controls",
      "_model_module_version": "1.5.0",
      "_model_name": "HBoxModel",
      "_view_count": null,
      "_view_module": "@jupyter-widgets/controls",
      "_view_module_version": "1.5.0",
      "_view_name": "HBoxView",
      "box_style": "",
      "children": [
       "IPY_MODEL_8074ff27fdd24ba6844f3a3f4eda7aed",
       "IPY_MODEL_a1966d13e72d4a9f9fcda67545e8fee3"
      ],
      "layout": "IPY_MODEL_33822c1d39ca42f5b5a44f330ba19df3"
     }
    },
    "30b99f5c7029409ebca66ffedb065879": {
     "model_module": "@jupyter-widgets/controls",
     "model_name": "HTMLModel",
     "state": {
      "_dom_classes": [],
      "_model_module": "@jupyter-widgets/controls",
      "_model_module_version": "1.5.0",
      "_model_name": "HTMLModel",
      "_view_count": null,
      "_view_module": "@jupyter-widgets/controls",
      "_view_module_version": "1.5.0",
      "_view_name": "HTMLView",
      "description": "",
      "description_tooltip": null,
      "layout": "IPY_MODEL_0033084241f445c9a6815a48a868d64b",
      "placeholder": "​",
      "style": "IPY_MODEL_a03a5d0680884fa3a77c4b95ebfa0b98",
      "value": " 1/1 [00:01&lt;00:00,  1.17s/ url]"
     }
    },
    "33822c1d39ca42f5b5a44f330ba19df3": {
     "model_module": "@jupyter-widgets/base",
     "model_name": "LayoutModel",
     "state": {
      "_model_module": "@jupyter-widgets/base",
      "_model_module_version": "1.2.0",
      "_model_name": "LayoutModel",
      "_view_count": null,
      "_view_module": "@jupyter-widgets/base",
      "_view_module_version": "1.2.0",
      "_view_name": "LayoutView",
      "align_content": null,
      "align_items": null,
      "align_self": null,
      "border": null,
      "bottom": null,
      "display": null,
      "flex": null,
      "flex_flow": null,
      "grid_area": null,
      "grid_auto_columns": null,
      "grid_auto_flow": null,
      "grid_auto_rows": null,
      "grid_column": null,
      "grid_gap": null,
      "grid_row": null,
      "grid_template_areas": null,
      "grid_template_columns": null,
      "grid_template_rows": null,
      "height": null,
      "justify_content": null,
      "justify_items": null,
      "left": null,
      "margin": null,
      "max_height": null,
      "max_width": null,
      "min_height": null,
      "min_width": null,
      "object_fit": null,
      "object_position": null,
      "order": null,
      "overflow": null,
      "overflow_x": null,
      "overflow_y": null,
      "padding": null,
      "right": null,
      "top": null,
      "visibility": null,
      "width": null
     }
    },
    "3c0c2c21823b4206b1e217601b8b2533": {
     "model_module": "@jupyter-widgets/controls",
     "model_name": "DescriptionStyleModel",
     "state": {
      "_model_module": "@jupyter-widgets/controls",
      "_model_module_version": "1.5.0",
      "_model_name": "DescriptionStyleModel",
      "_view_count": null,
      "_view_module": "@jupyter-widgets/base",
      "_view_module_version": "1.2.0",
      "_view_name": "StyleView",
      "description_width": ""
     }
    },
    "3ee6fe19d17d4df99ffeb289775b1c2e": {
     "model_module": "@jupyter-widgets/controls",
     "model_name": "HTMLModel",
     "state": {
      "_dom_classes": [],
      "_model_module": "@jupyter-widgets/controls",
      "_model_module_version": "1.5.0",
      "_model_name": "HTMLModel",
      "_view_count": null,
      "_view_module": "@jupyter-widgets/controls",
      "_view_module_version": "1.5.0",
      "_view_name": "HTMLView",
      "description": "",
      "description_tooltip": null,
      "layout": "IPY_MODEL_c2e9d94dd4cd459da8cd6c5d253b7ed5",
      "placeholder": "​",
      "style": "IPY_MODEL_3c0c2c21823b4206b1e217601b8b2533",
      "value": " 1000209/0 [20:19&lt;00:00, 751.68 examples/s]"
     }
    },
    "445cf583fac44e3895e51e2cde2a350c": {
     "model_module": "@jupyter-widgets/controls",
     "model_name": "HBoxModel",
     "state": {
      "_dom_classes": [],
      "_model_module": "@jupyter-widgets/controls",
      "_model_module_version": "1.5.0",
      "_model_name": "HBoxModel",
      "_view_count": null,
      "_view_module": "@jupyter-widgets/controls",
      "_view_module_version": "1.5.0",
      "_view_name": "HBoxView",
      "box_style": "",
      "children": [
       "IPY_MODEL_dd3fe337112740738f3b9fd788ba9405",
       "IPY_MODEL_3ee6fe19d17d4df99ffeb289775b1c2e"
      ],
      "layout": "IPY_MODEL_cd2ab853d5d143daae3516a910d2cd87"
     }
    },
    "48ec20644a394848927cf72e8bea86b5": {
     "model_module": "@jupyter-widgets/controls",
     "model_name": "HBoxModel",
     "state": {
      "_dom_classes": [],
      "_model_module": "@jupyter-widgets/controls",
      "_model_module_version": "1.5.0",
      "_model_name": "HBoxModel",
      "_view_count": null,
      "_view_module": "@jupyter-widgets/controls",
      "_view_module_version": "1.5.0",
      "_view_name": "HBoxView",
      "box_style": "",
      "children": [
       "IPY_MODEL_55840316f537476b81ffe69cec8b7092",
       "IPY_MODEL_a250abd4702646e8a30b3ff946418bc7"
      ],
      "layout": "IPY_MODEL_4fc929851e25400eaa789a41aead047b"
     }
    },
    "4da2d87727e942c9956a2c507109c107": {
     "model_module": "@jupyter-widgets/base",
     "model_name": "LayoutModel",
     "state": {
      "_model_module": "@jupyter-widgets/base",
      "_model_module_version": "1.2.0",
      "_model_name": "LayoutModel",
      "_view_count": null,
      "_view_module": "@jupyter-widgets/base",
      "_view_module_version": "1.2.0",
      "_view_name": "LayoutView",
      "align_content": null,
      "align_items": null,
      "align_self": null,
      "border": null,
      "bottom": null,
      "display": null,
      "flex": null,
      "flex_flow": null,
      "grid_area": null,
      "grid_auto_columns": null,
      "grid_auto_flow": null,
      "grid_auto_rows": null,
      "grid_column": null,
      "grid_gap": null,
      "grid_row": null,
      "grid_template_areas": null,
      "grid_template_columns": null,
      "grid_template_rows": null,
      "height": null,
      "justify_content": null,
      "justify_items": null,
      "left": null,
      "margin": null,
      "max_height": null,
      "max_width": null,
      "min_height": null,
      "min_width": null,
      "object_fit": null,
      "object_position": null,
      "order": null,
      "overflow": null,
      "overflow_x": null,
      "overflow_y": null,
      "padding": null,
      "right": null,
      "top": null,
      "visibility": null,
      "width": null
     }
    },
    "4fc929851e25400eaa789a41aead047b": {
     "model_module": "@jupyter-widgets/base",
     "model_name": "LayoutModel",
     "state": {
      "_model_module": "@jupyter-widgets/base",
      "_model_module_version": "1.2.0",
      "_model_name": "LayoutModel",
      "_view_count": null,
      "_view_module": "@jupyter-widgets/base",
      "_view_module_version": "1.2.0",
      "_view_name": "LayoutView",
      "align_content": null,
      "align_items": null,
      "align_self": null,
      "border": null,
      "bottom": null,
      "display": null,
      "flex": null,
      "flex_flow": null,
      "grid_area": null,
      "grid_auto_columns": null,
      "grid_auto_flow": null,
      "grid_auto_rows": null,
      "grid_column": null,
      "grid_gap": null,
      "grid_row": null,
      "grid_template_areas": null,
      "grid_template_columns": null,
      "grid_template_rows": null,
      "height": null,
      "justify_content": null,
      "justify_items": null,
      "left": null,
      "margin": null,
      "max_height": null,
      "max_width": null,
      "min_height": null,
      "min_width": null,
      "object_fit": null,
      "object_position": null,
      "order": null,
      "overflow": null,
      "overflow_x": null,
      "overflow_y": null,
      "padding": null,
      "right": null,
      "top": null,
      "visibility": null,
      "width": null
     }
    },
    "55840316f537476b81ffe69cec8b7092": {
     "model_module": "@jupyter-widgets/controls",
     "model_name": "FloatProgressModel",
     "state": {
      "_dom_classes": [],
      "_model_module": "@jupyter-widgets/controls",
      "_model_module_version": "1.5.0",
      "_model_name": "FloatProgressModel",
      "_view_count": null,
      "_view_module": "@jupyter-widgets/controls",
      "_view_module_version": "1.5.0",
      "_view_name": "ProgressView",
      "bar_style": "danger",
      "description": "100%",
      "description_tooltip": null,
      "layout": "IPY_MODEL_5f993f93d9764230b0fd70f0945a3739",
      "max": 1000209,
      "min": 0,
      "orientation": "horizontal",
      "style": "IPY_MODEL_ef4b4c0fa6be4907a9e86c77eb4249f6",
      "value": 999347
     }
    },
    "56b9e4a682864227a14f95274afea6c8": {
     "model_module": "@jupyter-widgets/controls",
     "model_name": "FloatProgressModel",
     "state": {
      "_dom_classes": [],
      "_model_module": "@jupyter-widgets/controls",
      "_model_module_version": "1.5.0",
      "_model_name": "FloatProgressModel",
      "_view_count": null,
      "_view_module": "@jupyter-widgets/controls",
      "_view_module_version": "1.5.0",
      "_view_name": "ProgressView",
      "bar_style": "success",
      "description": "Extraction completed...: 100%",
      "description_tooltip": null,
      "layout": "IPY_MODEL_57ffaf62ae774f0cbcc3526d12902a76",
      "max": 1,
      "min": 0,
      "orientation": "horizontal",
      "style": "IPY_MODEL_e177f0e205af4369ad4e16af5c5f5f6a",
      "value": 1
     }
    },
    "57ffaf62ae774f0cbcc3526d12902a76": {
     "model_module": "@jupyter-widgets/base",
     "model_name": "LayoutModel",
     "state": {
      "_model_module": "@jupyter-widgets/base",
      "_model_module_version": "1.2.0",
      "_model_name": "LayoutModel",
      "_view_count": null,
      "_view_module": "@jupyter-widgets/base",
      "_view_module_version": "1.2.0",
      "_view_name": "LayoutView",
      "align_content": null,
      "align_items": null,
      "align_self": null,
      "border": null,
      "bottom": null,
      "display": null,
      "flex": null,
      "flex_flow": null,
      "grid_area": null,
      "grid_auto_columns": null,
      "grid_auto_flow": null,
      "grid_auto_rows": null,
      "grid_column": null,
      "grid_gap": null,
      "grid_row": null,
      "grid_template_areas": null,
      "grid_template_columns": null,
      "grid_template_rows": null,
      "height": null,
      "justify_content": null,
      "justify_items": null,
      "left": null,
      "margin": null,
      "max_height": null,
      "max_width": null,
      "min_height": null,
      "min_width": null,
      "object_fit": null,
      "object_position": null,
      "order": null,
      "overflow": null,
      "overflow_x": null,
      "overflow_y": null,
      "padding": null,
      "right": null,
      "top": null,
      "visibility": null,
      "width": null
     }
    },
    "5f993f93d9764230b0fd70f0945a3739": {
     "model_module": "@jupyter-widgets/base",
     "model_name": "LayoutModel",
     "state": {
      "_model_module": "@jupyter-widgets/base",
      "_model_module_version": "1.2.0",
      "_model_name": "LayoutModel",
      "_view_count": null,
      "_view_module": "@jupyter-widgets/base",
      "_view_module_version": "1.2.0",
      "_view_name": "LayoutView",
      "align_content": null,
      "align_items": null,
      "align_self": null,
      "border": null,
      "bottom": null,
      "display": null,
      "flex": null,
      "flex_flow": null,
      "grid_area": null,
      "grid_auto_columns": null,
      "grid_auto_flow": null,
      "grid_auto_rows": null,
      "grid_column": null,
      "grid_gap": null,
      "grid_row": null,
      "grid_template_areas": null,
      "grid_template_columns": null,
      "grid_template_rows": null,
      "height": null,
      "justify_content": null,
      "justify_items": null,
      "left": null,
      "margin": null,
      "max_height": null,
      "max_width": null,
      "min_height": null,
      "min_width": null,
      "object_fit": null,
      "object_position": null,
      "order": null,
      "overflow": null,
      "overflow_x": null,
      "overflow_y": null,
      "padding": null,
      "right": null,
      "top": null,
      "visibility": null,
      "width": null
     }
    },
    "62ff554eba004da3809a1dd2e21311fb": {
     "model_module": "@jupyter-widgets/base",
     "model_name": "LayoutModel",
     "state": {
      "_model_module": "@jupyter-widgets/base",
      "_model_module_version": "1.2.0",
      "_model_name": "LayoutModel",
      "_view_count": null,
      "_view_module": "@jupyter-widgets/base",
      "_view_module_version": "1.2.0",
      "_view_name": "LayoutView",
      "align_content": null,
      "align_items": null,
      "align_self": null,
      "border": null,
      "bottom": null,
      "display": null,
      "flex": null,
      "flex_flow": null,
      "grid_area": null,
      "grid_auto_columns": null,
      "grid_auto_flow": null,
      "grid_auto_rows": null,
      "grid_column": null,
      "grid_gap": null,
      "grid_row": null,
      "grid_template_areas": null,
      "grid_template_columns": null,
      "grid_template_rows": null,
      "height": null,
      "justify_content": null,
      "justify_items": null,
      "left": null,
      "margin": null,
      "max_height": null,
      "max_width": null,
      "min_height": null,
      "min_width": null,
      "object_fit": null,
      "object_position": null,
      "order": null,
      "overflow": null,
      "overflow_x": null,
      "overflow_y": null,
      "padding": null,
      "right": null,
      "top": null,
      "visibility": null,
      "width": null
     }
    },
    "698a2d7c08864520af367c353735814f": {
     "model_module": "@jupyter-widgets/controls",
     "model_name": "ProgressStyleModel",
     "state": {
      "_model_module": "@jupyter-widgets/controls",
      "_model_module_version": "1.5.0",
      "_model_name": "ProgressStyleModel",
      "_view_count": null,
      "_view_module": "@jupyter-widgets/base",
      "_view_module_version": "1.2.0",
      "_view_name": "StyleView",
      "bar_color": null,
      "description_width": "initial"
     }
    },
    "6bd23dc4d2f04752a269bf7f3a25e10b": {
     "model_module": "@jupyter-widgets/base",
     "model_name": "LayoutModel",
     "state": {
      "_model_module": "@jupyter-widgets/base",
      "_model_module_version": "1.2.0",
      "_model_name": "LayoutModel",
      "_view_count": null,
      "_view_module": "@jupyter-widgets/base",
      "_view_module_version": "1.2.0",
      "_view_name": "LayoutView",
      "align_content": null,
      "align_items": null,
      "align_self": null,
      "border": null,
      "bottom": null,
      "display": null,
      "flex": null,
      "flex_flow": null,
      "grid_area": null,
      "grid_auto_columns": null,
      "grid_auto_flow": null,
      "grid_auto_rows": null,
      "grid_column": null,
      "grid_gap": null,
      "grid_row": null,
      "grid_template_areas": null,
      "grid_template_columns": null,
      "grid_template_rows": null,
      "height": null,
      "justify_content": null,
      "justify_items": null,
      "left": null,
      "margin": null,
      "max_height": null,
      "max_width": null,
      "min_height": null,
      "min_width": null,
      "object_fit": null,
      "object_position": null,
      "order": null,
      "overflow": null,
      "overflow_x": null,
      "overflow_y": null,
      "padding": null,
      "right": null,
      "top": null,
      "visibility": null,
      "width": null
     }
    },
    "7154891fb6ac45c4a24e151af3fb6903": {
     "model_module": "@jupyter-widgets/base",
     "model_name": "LayoutModel",
     "state": {
      "_model_module": "@jupyter-widgets/base",
      "_model_module_version": "1.2.0",
      "_model_name": "LayoutModel",
      "_view_count": null,
      "_view_module": "@jupyter-widgets/base",
      "_view_module_version": "1.2.0",
      "_view_name": "LayoutView",
      "align_content": null,
      "align_items": null,
      "align_self": null,
      "border": null,
      "bottom": null,
      "display": null,
      "flex": null,
      "flex_flow": null,
      "grid_area": null,
      "grid_auto_columns": null,
      "grid_auto_flow": null,
      "grid_auto_rows": null,
      "grid_column": null,
      "grid_gap": null,
      "grid_row": null,
      "grid_template_areas": null,
      "grid_template_columns": null,
      "grid_template_rows": null,
      "height": null,
      "justify_content": null,
      "justify_items": null,
      "left": null,
      "margin": null,
      "max_height": null,
      "max_width": null,
      "min_height": null,
      "min_width": null,
      "object_fit": null,
      "object_position": null,
      "order": null,
      "overflow": null,
      "overflow_x": null,
      "overflow_y": null,
      "padding": null,
      "right": null,
      "top": null,
      "visibility": null,
      "width": null
     }
    },
    "74764971a48a4f79a495f1132d805db0": {
     "model_module": "@jupyter-widgets/controls",
     "model_name": "FloatProgressModel",
     "state": {
      "_dom_classes": [],
      "_model_module": "@jupyter-widgets/controls",
      "_model_module_version": "1.5.0",
      "_model_name": "FloatProgressModel",
      "_view_count": null,
      "_view_module": "@jupyter-widgets/controls",
      "_view_module_version": "1.5.0",
      "_view_name": "ProgressView",
      "bar_style": "success",
      "description": "Dl Completed...: 100%",
      "description_tooltip": null,
      "layout": "IPY_MODEL_cf5ca2562e75411c9e14dcb5d58736ed",
      "max": 1,
      "min": 0,
      "orientation": "horizontal",
      "style": "IPY_MODEL_76f980ecbd2b4b49a7c44b683f74e8c8",
      "value": 1
     }
    },
    "76f980ecbd2b4b49a7c44b683f74e8c8": {
     "model_module": "@jupyter-widgets/controls",
     "model_name": "ProgressStyleModel",
     "state": {
      "_model_module": "@jupyter-widgets/controls",
      "_model_module_version": "1.5.0",
      "_model_name": "ProgressStyleModel",
      "_view_count": null,
      "_view_module": "@jupyter-widgets/base",
      "_view_module_version": "1.2.0",
      "_view_name": "StyleView",
      "bar_color": null,
      "description_width": "initial"
     }
    },
    "8074ff27fdd24ba6844f3a3f4eda7aed": {
     "model_module": "@jupyter-widgets/controls",
     "model_name": "FloatProgressModel",
     "state": {
      "_dom_classes": [],
      "_model_module": "@jupyter-widgets/controls",
      "_model_module_version": "1.5.0",
      "_model_name": "FloatProgressModel",
      "_view_count": null,
      "_view_module": "@jupyter-widgets/controls",
      "_view_module_version": "1.5.0",
      "_view_name": "ProgressView",
      "bar_style": "success",
      "description": "Dl Size...: 100%",
      "description_tooltip": null,
      "layout": "IPY_MODEL_6bd23dc4d2f04752a269bf7f3a25e10b",
      "max": 1,
      "min": 0,
      "orientation": "horizontal",
      "style": "IPY_MODEL_f7503cf63443454a83edfeaa1bc3ca59",
      "value": 1
     }
    },
    "912901341ef44cf385d366dd62d64016": {
     "model_module": "@jupyter-widgets/controls",
     "model_name": "HTMLModel",
     "state": {
      "_dom_classes": [],
      "_model_module": "@jupyter-widgets/controls",
      "_model_module_version": "1.5.0",
      "_model_name": "HTMLModel",
      "_view_count": null,
      "_view_module": "@jupyter-widgets/controls",
      "_view_module_version": "1.5.0",
      "_view_name": "HTMLView",
      "description": "",
      "description_tooltip": null,
      "layout": "IPY_MODEL_b4dbdb532ffd4b46ba6ebac9f1366b14",
      "placeholder": "​",
      "style": "IPY_MODEL_c400310f418546909ba8ffe2e10e3e12",
      "value": " 1/1 [00:01&lt;00:00,  1.04s/ file]"
     }
    },
    "95e6e8cbf69f495eb7fb6c84f2781d12": {
     "model_module": "@jupyter-widgets/controls",
     "model_name": "HBoxModel",
     "state": {
      "_dom_classes": [],
      "_model_module": "@jupyter-widgets/controls",
      "_model_module_version": "1.5.0",
      "_model_name": "HBoxModel",
      "_view_count": null,
      "_view_module": "@jupyter-widgets/controls",
      "_view_module_version": "1.5.0",
      "_view_name": "HBoxView",
      "box_style": "",
      "children": [
       "IPY_MODEL_56b9e4a682864227a14f95274afea6c8",
       "IPY_MODEL_912901341ef44cf385d366dd62d64016"
      ],
      "layout": "IPY_MODEL_cd2ca5c8fc214489a02e62e7750df78d"
     }
    },
    "9a546ada258846cbad21774eea3af7cc": {
     "model_module": "@jupyter-widgets/controls",
     "model_name": "HTMLModel",
     "state": {
      "_dom_classes": [],
      "_model_module": "@jupyter-widgets/controls",
      "_model_module_version": "1.5.0",
      "_model_name": "HTMLModel",
      "_view_count": null,
      "_view_module": "@jupyter-widgets/controls",
      "_view_module_version": "1.5.0",
      "_view_name": "HTMLView",
      "description": "",
      "description_tooltip": null,
      "layout": "IPY_MODEL_b14fcb50f7644de7b40c89486ab999ba",
      "placeholder": "​",
      "style": "IPY_MODEL_bbfbc2dbad584046835b3fcac9917d57",
      "value": " 4/4 [00:01&lt;00:00,  2.08 file/s]"
     }
    },
    "a019862f72874e7cbc77c57cc1e31f9c": {
     "model_module": "@jupyter-widgets/controls",
     "model_name": "ProgressStyleModel",
     "state": {
      "_model_module": "@jupyter-widgets/controls",
      "_model_module_version": "1.5.0",
      "_model_name": "ProgressStyleModel",
      "_view_count": null,
      "_view_module": "@jupyter-widgets/base",
      "_view_module_version": "1.2.0",
      "_view_name": "StyleView",
      "bar_color": null,
      "description_width": "initial"
     }
    },
    "a03a5d0680884fa3a77c4b95ebfa0b98": {
     "model_module": "@jupyter-widgets/controls",
     "model_name": "DescriptionStyleModel",
     "state": {
      "_model_module": "@jupyter-widgets/controls",
      "_model_module_version": "1.5.0",
      "_model_name": "DescriptionStyleModel",
      "_view_count": null,
      "_view_module": "@jupyter-widgets/base",
      "_view_module_version": "1.2.0",
      "_view_name": "StyleView",
      "description_width": ""
     }
    },
    "a1966d13e72d4a9f9fcda67545e8fee3": {
     "model_module": "@jupyter-widgets/controls",
     "model_name": "HTMLModel",
     "state": {
      "_dom_classes": [],
      "_model_module": "@jupyter-widgets/controls",
      "_model_module_version": "1.5.0",
      "_model_name": "HTMLModel",
      "_view_count": null,
      "_view_module": "@jupyter-widgets/controls",
      "_view_module_version": "1.5.0",
      "_view_name": "HTMLView",
      "description": "",
      "description_tooltip": null,
      "layout": "IPY_MODEL_10eb91732d5b430481b75769cfdf6100",
      "placeholder": "​",
      "style": "IPY_MODEL_ee5454904d4649e1a23c7b29eee96b27",
      "value": " 5/5 [00:01&lt;00:00,  4.53 MiB/s]"
     }
    },
    "a250abd4702646e8a30b3ff946418bc7": {
     "model_module": "@jupyter-widgets/controls",
     "model_name": "HTMLModel",
     "state": {
      "_dom_classes": [],
      "_model_module": "@jupyter-widgets/controls",
      "_model_module_version": "1.5.0",
      "_model_name": "HTMLModel",
      "_view_count": null,
      "_view_module": "@jupyter-widgets/controls",
      "_view_module_version": "1.5.0",
      "_view_name": "HTMLView",
      "description": "",
      "description_tooltip": null,
      "layout": "IPY_MODEL_e3f937fc3dfb4486bfd7211b52877a80",
      "placeholder": "​",
      "style": "IPY_MODEL_bc2e9dd37de44b5192881851fc42099d",
      "value": " 999347/1000209 [00:09&lt;00:00, 188965.53 examples/s]"
     }
    },
    "a302adcb8d824d00be0125331fe7df1a": {
     "model_module": "@jupyter-widgets/controls",
     "model_name": "HBoxModel",
     "state": {
      "_dom_classes": [],
      "_model_module": "@jupyter-widgets/controls",
      "_model_module_version": "1.5.0",
      "_model_name": "HBoxModel",
      "_view_count": null,
      "_view_module": "@jupyter-widgets/controls",
      "_view_module_version": "1.5.0",
      "_view_name": "HBoxView",
      "box_style": "",
      "children": [
       "IPY_MODEL_eb1aba62376345729c10817275841ad1",
       "IPY_MODEL_9a546ada258846cbad21774eea3af7cc"
      ],
      "layout": "IPY_MODEL_4da2d87727e942c9956a2c507109c107"
     }
    },
    "b14fcb50f7644de7b40c89486ab999ba": {
     "model_module": "@jupyter-widgets/base",
     "model_name": "LayoutModel",
     "state": {
      "_model_module": "@jupyter-widgets/base",
      "_model_module_version": "1.2.0",
      "_model_name": "LayoutModel",
      "_view_count": null,
      "_view_module": "@jupyter-widgets/base",
      "_view_module_version": "1.2.0",
      "_view_name": "LayoutView",
      "align_content": null,
      "align_items": null,
      "align_self": null,
      "border": null,
      "bottom": null,
      "display": null,
      "flex": null,
      "flex_flow": null,
      "grid_area": null,
      "grid_auto_columns": null,
      "grid_auto_flow": null,
      "grid_auto_rows": null,
      "grid_column": null,
      "grid_gap": null,
      "grid_row": null,
      "grid_template_areas": null,
      "grid_template_columns": null,
      "grid_template_rows": null,
      "height": null,
      "justify_content": null,
      "justify_items": null,
      "left": null,
      "margin": null,
      "max_height": null,
      "max_width": null,
      "min_height": null,
      "min_width": null,
      "object_fit": null,
      "object_position": null,
      "order": null,
      "overflow": null,
      "overflow_x": null,
      "overflow_y": null,
      "padding": null,
      "right": null,
      "top": null,
      "visibility": null,
      "width": null
     }
    },
    "b4dbdb532ffd4b46ba6ebac9f1366b14": {
     "model_module": "@jupyter-widgets/base",
     "model_name": "LayoutModel",
     "state": {
      "_model_module": "@jupyter-widgets/base",
      "_model_module_version": "1.2.0",
      "_model_name": "LayoutModel",
      "_view_count": null,
      "_view_module": "@jupyter-widgets/base",
      "_view_module_version": "1.2.0",
      "_view_name": "LayoutView",
      "align_content": null,
      "align_items": null,
      "align_self": null,
      "border": null,
      "bottom": null,
      "display": null,
      "flex": null,
      "flex_flow": null,
      "grid_area": null,
      "grid_auto_columns": null,
      "grid_auto_flow": null,
      "grid_auto_rows": null,
      "grid_column": null,
      "grid_gap": null,
      "grid_row": null,
      "grid_template_areas": null,
      "grid_template_columns": null,
      "grid_template_rows": null,
      "height": null,
      "justify_content": null,
      "justify_items": null,
      "left": null,
      "margin": null,
      "max_height": null,
      "max_width": null,
      "min_height": null,
      "min_width": null,
      "object_fit": null,
      "object_position": null,
      "order": null,
      "overflow": null,
      "overflow_x": null,
      "overflow_y": null,
      "padding": null,
      "right": null,
      "top": null,
      "visibility": null,
      "width": null
     }
    },
    "bbfbc2dbad584046835b3fcac9917d57": {
     "model_module": "@jupyter-widgets/controls",
     "model_name": "DescriptionStyleModel",
     "state": {
      "_model_module": "@jupyter-widgets/controls",
      "_model_module_version": "1.5.0",
      "_model_name": "DescriptionStyleModel",
      "_view_count": null,
      "_view_module": "@jupyter-widgets/base",
      "_view_module_version": "1.2.0",
      "_view_name": "StyleView",
      "description_width": ""
     }
    },
    "bc2e9dd37de44b5192881851fc42099d": {
     "model_module": "@jupyter-widgets/controls",
     "model_name": "DescriptionStyleModel",
     "state": {
      "_model_module": "@jupyter-widgets/controls",
      "_model_module_version": "1.5.0",
      "_model_name": "DescriptionStyleModel",
      "_view_count": null,
      "_view_module": "@jupyter-widgets/base",
      "_view_module_version": "1.2.0",
      "_view_name": "StyleView",
      "description_width": ""
     }
    },
    "c2e9d94dd4cd459da8cd6c5d253b7ed5": {
     "model_module": "@jupyter-widgets/base",
     "model_name": "LayoutModel",
     "state": {
      "_model_module": "@jupyter-widgets/base",
      "_model_module_version": "1.2.0",
      "_model_name": "LayoutModel",
      "_view_count": null,
      "_view_module": "@jupyter-widgets/base",
      "_view_module_version": "1.2.0",
      "_view_name": "LayoutView",
      "align_content": null,
      "align_items": null,
      "align_self": null,
      "border": null,
      "bottom": null,
      "display": null,
      "flex": null,
      "flex_flow": null,
      "grid_area": null,
      "grid_auto_columns": null,
      "grid_auto_flow": null,
      "grid_auto_rows": null,
      "grid_column": null,
      "grid_gap": null,
      "grid_row": null,
      "grid_template_areas": null,
      "grid_template_columns": null,
      "grid_template_rows": null,
      "height": null,
      "justify_content": null,
      "justify_items": null,
      "left": null,
      "margin": null,
      "max_height": null,
      "max_width": null,
      "min_height": null,
      "min_width": null,
      "object_fit": null,
      "object_position": null,
      "order": null,
      "overflow": null,
      "overflow_x": null,
      "overflow_y": null,
      "padding": null,
      "right": null,
      "top": null,
      "visibility": null,
      "width": null
     }
    },
    "c400310f418546909ba8ffe2e10e3e12": {
     "model_module": "@jupyter-widgets/controls",
     "model_name": "DescriptionStyleModel",
     "state": {
      "_model_module": "@jupyter-widgets/controls",
      "_model_module_version": "1.5.0",
      "_model_name": "DescriptionStyleModel",
      "_view_count": null,
      "_view_module": "@jupyter-widgets/base",
      "_view_module_version": "1.2.0",
      "_view_name": "StyleView",
      "description_width": ""
     }
    },
    "cd2ab853d5d143daae3516a910d2cd87": {
     "model_module": "@jupyter-widgets/base",
     "model_name": "LayoutModel",
     "state": {
      "_model_module": "@jupyter-widgets/base",
      "_model_module_version": "1.2.0",
      "_model_name": "LayoutModel",
      "_view_count": null,
      "_view_module": "@jupyter-widgets/base",
      "_view_module_version": "1.2.0",
      "_view_name": "LayoutView",
      "align_content": null,
      "align_items": null,
      "align_self": null,
      "border": null,
      "bottom": null,
      "display": null,
      "flex": null,
      "flex_flow": null,
      "grid_area": null,
      "grid_auto_columns": null,
      "grid_auto_flow": null,
      "grid_auto_rows": null,
      "grid_column": null,
      "grid_gap": null,
      "grid_row": null,
      "grid_template_areas": null,
      "grid_template_columns": null,
      "grid_template_rows": null,
      "height": null,
      "justify_content": null,
      "justify_items": null,
      "left": null,
      "margin": null,
      "max_height": null,
      "max_width": null,
      "min_height": null,
      "min_width": null,
      "object_fit": null,
      "object_position": null,
      "order": null,
      "overflow": null,
      "overflow_x": null,
      "overflow_y": null,
      "padding": null,
      "right": null,
      "top": null,
      "visibility": null,
      "width": null
     }
    },
    "cd2ca5c8fc214489a02e62e7750df78d": {
     "model_module": "@jupyter-widgets/base",
     "model_name": "LayoutModel",
     "state": {
      "_model_module": "@jupyter-widgets/base",
      "_model_module_version": "1.2.0",
      "_model_name": "LayoutModel",
      "_view_count": null,
      "_view_module": "@jupyter-widgets/base",
      "_view_module_version": "1.2.0",
      "_view_name": "LayoutView",
      "align_content": null,
      "align_items": null,
      "align_self": null,
      "border": null,
      "bottom": null,
      "display": null,
      "flex": null,
      "flex_flow": null,
      "grid_area": null,
      "grid_auto_columns": null,
      "grid_auto_flow": null,
      "grid_auto_rows": null,
      "grid_column": null,
      "grid_gap": null,
      "grid_row": null,
      "grid_template_areas": null,
      "grid_template_columns": null,
      "grid_template_rows": null,
      "height": null,
      "justify_content": null,
      "justify_items": null,
      "left": null,
      "margin": null,
      "max_height": null,
      "max_width": null,
      "min_height": null,
      "min_width": null,
      "object_fit": null,
      "object_position": null,
      "order": null,
      "overflow": null,
      "overflow_x": null,
      "overflow_y": null,
      "padding": null,
      "right": null,
      "top": null,
      "visibility": null,
      "width": null
     }
    },
    "cf5ca2562e75411c9e14dcb5d58736ed": {
     "model_module": "@jupyter-widgets/base",
     "model_name": "LayoutModel",
     "state": {
      "_model_module": "@jupyter-widgets/base",
      "_model_module_version": "1.2.0",
      "_model_name": "LayoutModel",
      "_view_count": null,
      "_view_module": "@jupyter-widgets/base",
      "_view_module_version": "1.2.0",
      "_view_name": "LayoutView",
      "align_content": null,
      "align_items": null,
      "align_self": null,
      "border": null,
      "bottom": null,
      "display": null,
      "flex": null,
      "flex_flow": null,
      "grid_area": null,
      "grid_auto_columns": null,
      "grid_auto_flow": null,
      "grid_auto_rows": null,
      "grid_column": null,
      "grid_gap": null,
      "grid_row": null,
      "grid_template_areas": null,
      "grid_template_columns": null,
      "grid_template_rows": null,
      "height": null,
      "justify_content": null,
      "justify_items": null,
      "left": null,
      "margin": null,
      "max_height": null,
      "max_width": null,
      "min_height": null,
      "min_width": null,
      "object_fit": null,
      "object_position": null,
      "order": null,
      "overflow": null,
      "overflow_x": null,
      "overflow_y": null,
      "padding": null,
      "right": null,
      "top": null,
      "visibility": null,
      "width": null
     }
    },
    "dd3fe337112740738f3b9fd788ba9405": {
     "model_module": "@jupyter-widgets/controls",
     "model_name": "FloatProgressModel",
     "state": {
      "_dom_classes": [],
      "_model_module": "@jupyter-widgets/controls",
      "_model_module_version": "1.5.0",
      "_model_name": "FloatProgressModel",
      "_view_count": null,
      "_view_module": "@jupyter-widgets/controls",
      "_view_module_version": "1.5.0",
      "_view_name": "ProgressView",
      "bar_style": "info",
      "description": "",
      "description_tooltip": null,
      "layout": "IPY_MODEL_7154891fb6ac45c4a24e151af3fb6903",
      "max": 1,
      "min": 0,
      "orientation": "horizontal",
      "style": "IPY_MODEL_698a2d7c08864520af367c353735814f",
      "value": 1
     }
    },
    "e177f0e205af4369ad4e16af5c5f5f6a": {
     "model_module": "@jupyter-widgets/controls",
     "model_name": "ProgressStyleModel",
     "state": {
      "_model_module": "@jupyter-widgets/controls",
      "_model_module_version": "1.5.0",
      "_model_name": "ProgressStyleModel",
      "_view_count": null,
      "_view_module": "@jupyter-widgets/base",
      "_view_module_version": "1.2.0",
      "_view_name": "StyleView",
      "bar_color": null,
      "description_width": "initial"
     }
    },
    "e3f937fc3dfb4486bfd7211b52877a80": {
     "model_module": "@jupyter-widgets/base",
     "model_name": "LayoutModel",
     "state": {
      "_model_module": "@jupyter-widgets/base",
      "_model_module_version": "1.2.0",
      "_model_name": "LayoutModel",
      "_view_count": null,
      "_view_module": "@jupyter-widgets/base",
      "_view_module_version": "1.2.0",
      "_view_name": "LayoutView",
      "align_content": null,
      "align_items": null,
      "align_self": null,
      "border": null,
      "bottom": null,
      "display": null,
      "flex": null,
      "flex_flow": null,
      "grid_area": null,
      "grid_auto_columns": null,
      "grid_auto_flow": null,
      "grid_auto_rows": null,
      "grid_column": null,
      "grid_gap": null,
      "grid_row": null,
      "grid_template_areas": null,
      "grid_template_columns": null,
      "grid_template_rows": null,
      "height": null,
      "justify_content": null,
      "justify_items": null,
      "left": null,
      "margin": null,
      "max_height": null,
      "max_width": null,
      "min_height": null,
      "min_width": null,
      "object_fit": null,
      "object_position": null,
      "order": null,
      "overflow": null,
      "overflow_x": null,
      "overflow_y": null,
      "padding": null,
      "right": null,
      "top": null,
      "visibility": null,
      "width": null
     }
    },
    "eb1aba62376345729c10817275841ad1": {
     "model_module": "@jupyter-widgets/controls",
     "model_name": "FloatProgressModel",
     "state": {
      "_dom_classes": [],
      "_model_module": "@jupyter-widgets/controls",
      "_model_module_version": "1.5.0",
      "_model_name": "FloatProgressModel",
      "_view_count": null,
      "_view_module": "@jupyter-widgets/controls",
      "_view_module_version": "1.5.0",
      "_view_name": "ProgressView",
      "bar_style": "success",
      "description": "Dl Completed...: 100%",
      "description_tooltip": null,
      "layout": "IPY_MODEL_f48b175a5b8e469da891b76be737e8cd",
      "max": 4,
      "min": 0,
      "orientation": "horizontal",
      "style": "IPY_MODEL_a019862f72874e7cbc77c57cc1e31f9c",
      "value": 4
     }
    },
    "ee5454904d4649e1a23c7b29eee96b27": {
     "model_module": "@jupyter-widgets/controls",
     "model_name": "DescriptionStyleModel",
     "state": {
      "_model_module": "@jupyter-widgets/controls",
      "_model_module_version": "1.5.0",
      "_model_name": "DescriptionStyleModel",
      "_view_count": null,
      "_view_module": "@jupyter-widgets/base",
      "_view_module_version": "1.2.0",
      "_view_name": "StyleView",
      "description_width": ""
     }
    },
    "ef4b4c0fa6be4907a9e86c77eb4249f6": {
     "model_module": "@jupyter-widgets/controls",
     "model_name": "ProgressStyleModel",
     "state": {
      "_model_module": "@jupyter-widgets/controls",
      "_model_module_version": "1.5.0",
      "_model_name": "ProgressStyleModel",
      "_view_count": null,
      "_view_module": "@jupyter-widgets/base",
      "_view_module_version": "1.2.0",
      "_view_name": "StyleView",
      "bar_color": null,
      "description_width": "initial"
     }
    },
    "f48b175a5b8e469da891b76be737e8cd": {
     "model_module": "@jupyter-widgets/base",
     "model_name": "LayoutModel",
     "state": {
      "_model_module": "@jupyter-widgets/base",
      "_model_module_version": "1.2.0",
      "_model_name": "LayoutModel",
      "_view_count": null,
      "_view_module": "@jupyter-widgets/base",
      "_view_module_version": "1.2.0",
      "_view_name": "LayoutView",
      "align_content": null,
      "align_items": null,
      "align_self": null,
      "border": null,
      "bottom": null,
      "display": null,
      "flex": null,
      "flex_flow": null,
      "grid_area": null,
      "grid_auto_columns": null,
      "grid_auto_flow": null,
      "grid_auto_rows": null,
      "grid_column": null,
      "grid_gap": null,
      "grid_row": null,
      "grid_template_areas": null,
      "grid_template_columns": null,
      "grid_template_rows": null,
      "height": null,
      "justify_content": null,
      "justify_items": null,
      "left": null,
      "margin": null,
      "max_height": null,
      "max_width": null,
      "min_height": null,
      "min_width": null,
      "object_fit": null,
      "object_position": null,
      "order": null,
      "overflow": null,
      "overflow_x": null,
      "overflow_y": null,
      "padding": null,
      "right": null,
      "top": null,
      "visibility": null,
      "width": null
     }
    },
    "f7503cf63443454a83edfeaa1bc3ca59": {
     "model_module": "@jupyter-widgets/controls",
     "model_name": "ProgressStyleModel",
     "state": {
      "_model_module": "@jupyter-widgets/controls",
      "_model_module_version": "1.5.0",
      "_model_name": "ProgressStyleModel",
      "_view_count": null,
      "_view_module": "@jupyter-widgets/base",
      "_view_module_version": "1.2.0",
      "_view_name": "StyleView",
      "bar_color": null,
      "description_width": "initial"
     }
    }
   }
  }
 },
 "nbformat": 4,
 "nbformat_minor": 0
}
