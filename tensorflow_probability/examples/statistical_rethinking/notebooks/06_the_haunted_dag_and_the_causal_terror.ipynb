{
 "cells": [
  {
   "cell_type": "markdown",
   "metadata": {},
   "source": [
    "##### Copyright 2020 The TensorFlow Authors.\n",
    "\n",
    "Licensed under the Apache License, Version 2.0 (the \"License\");"
   ]
  },
  {
   "cell_type": "code",
   "execution_count": 1,
   "metadata": {},
   "outputs": [],
   "source": [
    "#@title Licensed under the Apache License, Version 2.0 (the \"License\"); { display-mode: \"form\" }\n",
    "# you may not use this file except in compliance with the License.\n",
    "# You may obtain a copy of the License at\n",
    "#\n",
    "# https://www.apache.org/licenses/LICENSE-2.0\n",
    "#\n",
    "# Unless required by applicable law or agreed to in writing, software\n",
    "# distributed under the License is distributed on an \"AS IS\" BASIS,\n",
    "# WITHOUT WARRANTIES OR CONDITIONS OF ANY KIND, either express or implied.\n",
    "# See the License for the specific language governing permissions and\n",
    "# limitations under the License."
   ]
  },
  {
   "cell_type": "markdown",
   "metadata": {},
   "source": [
    "# Chapter 6 - The Haunted Dag and The Causal Terror\n",
    "\n",
    "<table class=\"tfo-notebook-buttons\" align=\"left\">\n",
    "  <td>\n",
    "    <a target=\"_blank\" href=\"https://www.tensorflow.org/probability/examples/statistical_rethinking/notebooks/06_the_haunted_dag_and_the_causal_terror\"><img src=\"https://www.tensorflow.org/images/tf_logo_32px.png\" />View on TensorFlow.org</a>\n",
    "  </td>\n",
    "  <td>\n",
    "    <a target=\"_blank\" href=\"https://colab.research.google.com/github/tensorflow/probability/blob/master/tensorflow_probability/examples/statistical_rethinking/notebooks/06_the_haunted_dag_and_the_causal_terror.ipynb\"><img src=\"https://www.tensorflow.org/images/colab_logo_32px.png\" />Run in Google Colab</a>\n",
    "  </td>\n",
    "  <td>\n",
    "    <a target=\"_blank\" href=\"https://github.com/tensorflow/probability/blob/master/tensorflow_probability/examples/statistical_rethinking/notebooks/06_the_haunted_dag_and_the_causal_terror.ipynb\"><img src=\"https://www.tensorflow.org/images/GitHub-Mark-32px.png\" />View source on GitHub</a>\n",
    "  </td>\n",
    "  <td>\n",
    "    <a href=\"https://storage.googleapis.com/tensorflow_docs/probability/examples/statistical_rethinking/notebooks/06_the_haunted_dag_and_the_causal_terror.ipynb\"><img src=\"https://www.tensorflow.org/images/download_logo_32px.png\" />Download notebook</a>\n",
    "  </td>\n",
    "</table>"
   ]
  },
  {
   "cell_type": "markdown",
   "metadata": {},
   "source": [
    "## Imports and utility functions"
   ]
  },
  {
   "cell_type": "code",
   "execution_count": 2,
   "metadata": {},
   "outputs": [],
   "source": [
    "#@title Install { display-mode: \"form\" }\n",
    "TF_Installation = 'System' #@param ['TF Nightly', 'TF Stable', 'System']\n",
    "\n",
    "if TF_Installation == 'TF Nightly':\n",
    "  !pip install -q --upgrade tf-nightly\n",
    "  print('Installation of `tf-nightly` complete.')\n",
    "elif TF_Installation == 'TF Stable':\n",
    "  !pip install -q --upgrade tensorflow\n",
    "  print('Installation of `tensorflow` complete.')\n",
    "elif TF_Installation == 'System':\n",
    "  pass\n",
    "else:\n",
    "  raise ValueError('Selection Error: Please select a valid '\n",
    "                   'installation option.')"
   ]
  },
  {
   "cell_type": "code",
   "execution_count": null,
   "metadata": {},
   "outputs": [],
   "source": [
    "#@title Install { display-mode: \"form\" }\n",
    "TFP_Installation = \"System\" #@param [\"Nightly\", \"Stable\", \"System\"]\n",
    "\n",
    "if TFP_Installation == \"Nightly\":\n",
    "  !pip install -q tfp-nightly\n",
    "  print(\"Installation of `tfp-nightly` complete.\")\n",
    "elif TFP_Installation == \"Stable\":\n",
    "  !pip install -q --upgrade tensorflow-probability\n",
    "  print(\"Installation of `tensorflow-probability` complete.\")\n",
    "elif TFP_Installation == \"System\":\n",
    "  pass\n",
    "else:\n",
    "  raise ValueError(\"Selection Error: Please select a valid \"\n",
    "                   \"installation option.\")"
   ]
  },
  {
   "cell_type": "code",
   "execution_count": 3,
   "metadata": {},
   "outputs": [],
   "source": [
    "#@title Install { display-mode: \"form\" }\n",
    "\n",
    "# Install packages that are not installed in colab\n",
    "try:\n",
    "  import google.colab\n",
    "  IN_COLAB = True\n",
    "except:\n",
    "  IN_COLAB = False\n",
    "\n",
    "if IN_COLAB:\n",
    "    print(\"Upgrading daft ...\")\n",
    "    !pip install --upgrade -q daft\n",
    "    print(\"Installing arviz, causalgraphicalmodels ...\")\n",
    "    !pip install -q causalgraphicalmodels\n",
    "    !pip install -q arviz"
   ]
  },
  {
   "cell_type": "code",
   "execution_count": 4,
   "metadata": {},
   "outputs": [],
   "source": [
    "# Core\n",
    "import collections\n",
    "import numpy as np\n",
    "import arviz as az\n",
    "import pandas as pd\n",
    "import tensorflow as tf\n",
    "import tensorflow_probability as tfp\n",
    "from statsmodels.regression import linear_model\n",
    "\n",
    "# visualization \n",
    "import matplotlib.pyplot as plt\n",
    "\n",
    "import daft\n",
    "from causalgraphicalmodels import CausalGraphicalModel\n",
    "\n",
    "# aliases\n",
    "tfd = tfp.distributions\n",
    "tfb = tfp.bijectors\n",
    "Root = tfd.JointDistributionCoroutine.Root"
   ]
  },
  {
   "cell_type": "code",
   "execution_count": 5,
   "metadata": {},
   "outputs": [],
   "source": [
    "az.style.use('seaborn-colorblind')"
   ]
  },
  {
   "cell_type": "markdown",
   "metadata": {},
   "source": [
    "### Sampling helpers\n"
   ]
  },
  {
   "cell_type": "code",
   "execution_count": 6,
   "metadata": {},
   "outputs": [],
   "source": [
    "USE_XLA = False              #@param\n",
    "# inference type\n",
    "# Set USE_MCMC to False if you want to use\n",
    "# mean field variational inference\n",
    "USE_MCMC = True                    #@param"
   ]
  },
  {
   "cell_type": "code",
   "execution_count": 7,
   "metadata": {},
   "outputs": [],
   "source": [
    "def _trace_to_arviz(trace=None,\n",
    "                   sample_stats=None,\n",
    "                   observed_data=None,\n",
    "                   prior_predictive=None,\n",
    "                   posterior_predictive=None,\n",
    "                   inplace=True):\n",
    "\n",
    "    if trace is not None and isinstance(trace, dict):\n",
    "        trace = {k: v.numpy()\n",
    "                 for k, v in trace.items()}\n",
    "    if sample_stats is not None and isinstance(sample_stats, dict):\n",
    "        sample_stats = {k: v.numpy().T for k, v in sample_stats.items()}\n",
    "    if prior_predictive is not None and isinstance(prior_predictive, dict):\n",
    "        prior_predictive = {k: v[np.newaxis]\n",
    "                            for k, v in prior_predictive.items()}\n",
    "    if posterior_predictive is not None and isinstance(posterior_predictive, dict):\n",
    "        if isinstance(trace, az.InferenceData) and inplace == True:\n",
    "            return trace + az.from_dict(posterior_predictive=posterior_predictive)\n",
    "        else:\n",
    "            trace = None\n",
    "\n",
    "    return az.from_dict(\n",
    "        posterior=trace,\n",
    "        sample_stats=sample_stats,\n",
    "        prior_predictive=prior_predictive,\n",
    "        posterior_predictive=posterior_predictive,\n",
    "        observed_data=observed_data,\n",
    "    )"
   ]
  },
  {
   "cell_type": "code",
   "execution_count": 8,
   "metadata": {},
   "outputs": [],
   "source": [
    "NUMBER_OF_SAMPLES = 2000           #@param\n",
    "\n",
    "MCMC_NUMBER_OF_CHAINS  = 2        #@param \n",
    "MCMC_NUMBER_OF_BURNIN  = 500      #@param\n",
    "MCMC_NUMBER_OF_LEAPFROG_STEPS = 4 #@param\n",
    "\n",
    "VI_LEARNING_RATE = 0.1            #@param\n",
    "VI_NUMBER_OF_STEPS = 2000         #@param\n",
    "VI_SAMPLE_SIZE = 1                #@param\n",
    "\n",
    "\n",
    "@tf.function(autograph=False, experimental_compile=USE_XLA)\n",
    "def run_hmc_chain(init_state,\n",
    "                  bijectors, \n",
    "                  step_size, \n",
    "                  target_log_prob_fn, \n",
    "                  num_leapfrog_steps=MCMC_NUMBER_OF_LEAPFROG_STEPS,\n",
    "                  num_samples=NUMBER_OF_SAMPLES,\n",
    "                  burnin=MCMC_NUMBER_OF_BURNIN):    \n",
    "\n",
    "    def _trace_fn_transitioned(_, pkr):\n",
    "        return (\n",
    "            pkr.inner_results.inner_results.log_accept_ratio\n",
    "        )\n",
    "\n",
    "    hmc_kernel = tfp.mcmc.HamiltonianMonteCarlo(\n",
    "        target_log_prob_fn,\n",
    "        num_leapfrog_steps=num_leapfrog_steps,\n",
    "        step_size=step_size,\n",
    "    )         \n",
    "\n",
    "    inner_kernel = tfp.mcmc.TransformedTransitionKernel(\n",
    "        inner_kernel=hmc_kernel,\n",
    "        bijector=bijectors,\n",
    "    )       \n",
    "\n",
    "    kernel = tfp.mcmc.SimpleStepSizeAdaptation(\n",
    "        inner_kernel=inner_kernel,\n",
    "        target_accept_prob=.8,\n",
    "        num_adaptation_steps=int(0.8*burnin),\n",
    "        log_accept_prob_getter_fn=lambda pkr: pkr.inner_results.log_accept_ratio\n",
    "    )    \n",
    "\n",
    "    results, sampler_stat = tfp.mcmc.sample_chain(\n",
    "        num_results=num_samples,\n",
    "        num_burnin_steps=burnin,\n",
    "        current_state=init_state,\n",
    "        kernel=kernel,\n",
    "        trace_fn=_trace_fn_transitioned)\n",
    "\n",
    "    return results, sampler_stat    \n",
    "\n",
    "\n",
    "def sample_posterior_vi(\n",
    "              jdc, \n",
    "              observed_data,\n",
    "              init_config,\n",
    "              vi_config=dict(),\n",
    "              num_samples=NUMBER_OF_SAMPLES):\n",
    "    \n",
    "    assert init_config is not None\n",
    "    \n",
    "    # expecting the order of keys is same \n",
    "    # as that of definition in the model function\n",
    "    params = init_config.keys()\n",
    "    \n",
    "    init_state = dict()\n",
    "    constraining_bijectors = dict()\n",
    "    for p in params:\n",
    "        init_state[p] = init_config[p]['state'][0]\n",
    "        constraining_bijectors[p] = init_config[p]['bijector']\n",
    "        \n",
    "    initial_unconstrained_loc = tf.nest.map_structure(\n",
    "                lambda b, x: b.inverse(x) if b is not None else x,\n",
    "                constraining_bijectors, init_state)\n",
    "\n",
    "    def target_log_prob_fn(*args, **kwargs):\n",
    "      newargs = []\n",
    "      for k in params:\n",
    "        newargs.append(kwargs[k])\n",
    "\n",
    "      newargs = newargs + list(observed_data)\n",
    "      return jdc.log_prob(*newargs)\n",
    "        \n",
    "    surrogate_posterior = tfp.experimental.vi.build_factored_surrogate_posterior(\n",
    "                event_shape=tf.nest.map_structure(tf.shape, init_state),\n",
    "                constraining_bijectors=constraining_bijectors,\n",
    "                initial_unconstrained_loc=initial_unconstrained_loc,\n",
    "                initial_unconstrained_scale=1e-4)  \n",
    "    \n",
    "    learning_rate = vi_config.get('learning_rate', VI_LEARNING_RATE)\n",
    "    num_steps     = vi_config.get('num_steps', VI_NUMBER_OF_STEPS)\n",
    "    sample_size   = vi_config.get('sample_size', VI_SAMPLE_SIZE)\n",
    "    \n",
    "    losses = tfp.vi.fit_surrogate_posterior(\n",
    "                  target_log_prob_fn,\n",
    "                  surrogate_posterior=surrogate_posterior,\n",
    "                  num_steps=num_steps,\n",
    "                  optimizer=tf.optimizers.Adam(learning_rate),\n",
    "                  sample_size=sample_size)\n",
    "\n",
    "    results = surrogate_posterior.sample((MCMC_NUMBER_OF_CHAINS, num_samples))\n",
    "        \n",
    "    az_trace = _trace_to_arviz(trace=sorted_results)\n",
    "\n",
    "    return sorted_results, az_trace\n",
    "\n",
    "def sample_posterior_hmc(\n",
    "              jdc, \n",
    "              observed_data,\n",
    "              init_config,\n",
    "              mcmc_config=dict(),\n",
    "              num_samples=NUMBER_OF_SAMPLES):\n",
    "    \n",
    "    assert init_config is not None\n",
    "    \n",
    "    # expecting the order of keys is same \n",
    "    # as that of definition in the model function\n",
    "    params = init_config.keys()\n",
    "    \n",
    "    init_state = []\n",
    "    bijectors = []\n",
    "    for p in params:\n",
    "        init_state.append(init_config[p]['state'])\n",
    "        bijectors.append(init_config[p]['bijector'])\n",
    "\n",
    "    target_log_prob_fn = lambda *x: jdc.log_prob(x + observed_data)  \n",
    "    \n",
    "    \n",
    "    step_size  = mcmc_config.get('step_size', 0.1)\n",
    "    num_chains = mcmc_config.get('num_chains', MCMC_NUMBER_OF_CHAINS)\n",
    "    burnin     = mcmc_config.get('burnin', MCMC_NUMBER_OF_BURNIN)\n",
    "    \n",
    "    results, sample_stats = run_hmc_chain(\n",
    "        init_state,\n",
    "        bijectors,\n",
    "        step_size=step_size,\n",
    "        target_log_prob_fn=target_log_prob_fn,                                      \n",
    "        num_samples=num_samples, \n",
    "        burnin=burnin,\n",
    "    )\n",
    "\n",
    "    stat_names = ['mean_tree_accept']\n",
    "    sampler_stats = dict(zip(stat_names, [sample_stats]))      \n",
    "        \n",
    "    transposed_results = []\n",
    "    \n",
    "    for r in results:        \n",
    "        if len(r.shape) == 2:\n",
    "            transposed_shape = [1,0]\n",
    "        elif len(r.shape) == 3:\n",
    "            transposed_shape = [1,0,2] \n",
    "        else:\n",
    "            transposed_shape = [1,0,2,3] \n",
    "        \n",
    "        transposed_results.append(tf.transpose(r, transposed_shape))\n",
    "\n",
    "    posterior = dict(zip(params, transposed_results))        \n",
    "\n",
    "    az_trace = _trace_to_arviz(trace=posterior, sample_stats=sampler_stats)\n",
    "\n",
    "    return posterior, az_trace\n",
    "\n",
    "def sample_posterior(\n",
    "              jdc, \n",
    "              observed_data,\n",
    "              init_config,\n",
    "              mcmc_config=dict(),\n",
    "              vi_config=dict(),\n",
    "              num_samples=NUMBER_OF_SAMPLES):\n",
    "    \n",
    "    if USE_MCMC:\n",
    "        return sample_posterior_hmc(jdc, observed_data, init_config,mcmc_config,num_samples)\n",
    "    \n",
    "    return sample_posterior_vi(jdc, observed_data, init_config,mcmc_config,num_samples)    \n",
    "    "
   ]
  },
  {
   "cell_type": "markdown",
   "metadata": {},
   "source": [
    "### DATASET URLS & Utils"
   ]
  },
  {
   "cell_type": "code",
   "execution_count": 9,
   "metadata": {},
   "outputs": [],
   "source": [
    "# You could change base url to local dir or a remoate raw github content\n",
    "_BASE_URL = \"https://raw.githubusercontent.com/rmcelreath/rethinking/master/data\"\n",
    "\n",
    "WAFFLE_DIVORCE_DATASET_PATH = f\"{_BASE_URL}/WaffleDivorce.csv\"\n",
    "MILK_DATASET_PATH = f\"{_BASE_URL}/milk.csv\"\n",
    "HOWELL_DATASET_PATH = f\"{_BASE_URL}/Howell1.csv\""
   ]
  },
  {
   "cell_type": "code",
   "execution_count": 10,
   "metadata": {},
   "outputs": [],
   "source": [
    "# A utility method to convert data (columns) from pandas dataframe\n",
    "# into tensors with appropriate type\n",
    "def df_to_tensors(name, df, columns, default_type=tf.float32):\n",
    "    \"\"\" name : Name of the dataset\n",
    "        df : pandas dataframe\n",
    "        colums : a list of names that have the same type or\n",
    "                 a dictionary where keys are the column names and values are the tensorflow type (e.g. tf.float32)\n",
    "    \"\"\"\n",
    "    if isinstance(columns,dict):\n",
    "        column_names = columns.keys()\n",
    "        fields = [tf.cast(df[k].values, dtype=v) for k,v in columns.items()]    \n",
    "    else:\n",
    "        column_names = columns        \n",
    "        fields = [tf.cast(df[k].values, dtype=default_type) for k in column_names]    \n",
    "        \n",
    "    # build the cls\n",
    "    tuple_cls = collections.namedtuple(name, column_names)    \n",
    "    # build the obj\n",
    "    return tuple_cls._make(fields) "
   ]
  },
  {
   "cell_type": "markdown",
   "metadata": {},
   "source": [
    "## Introduction\n",
    "\n",
    "**Berkson's paradox** - A *false* observation of a *negative* coorelation between 2 positive traits.\n",
    "\n",
    "Members of a population which have some positive trait tend to lack a second even though -:\n",
    "\n",
    "* The traits may be unrelated\n",
    "\n",
    "* Or, they may be even positively related.\n",
    "\n",
    "e.g Resturants at good location have bad food even though location & food have no correlation\n",
    "\n",
    "**Berkon's paradox** is also called **selection-distortion effect**.\n",
    "\n",
    "The gist of the idea here is that when a sample is selected on a combination of 2 (or more) variables, the relationship between those 2 variables is different after selection than it was before. \n",
    "\n",
    "Because of above, we should always be cautious of adding more predictor variables to our regression as it may introduce statistical selection with in the model. The phenomenon has a name and it is called **COLLIDER BIAS**.\n",
    "\n",
    "There are actually 3 types of hazards when we add more predictor variables -\n",
    "\n",
    "* Multicollinearity \n",
    "* Post treatment bias\n",
    "* Collider bias\n",
    "\n",
    "Collider - a beam in which two particles are made to collide (collision)\n",
    "\n"
   ]
  },
  {
   "cell_type": "markdown",
   "metadata": {},
   "source": [
    "### Overthinking : Simulated Science Distorion\n",
    "\n",
    "\n",
    "\n"
   ]
  },
  {
   "cell_type": "markdown",
   "metadata": {},
   "source": [
    "##### Code 6.1\n",
    "\n",
    "A simulated example to demonstrate selection-distortion effect. It has been observed that newsworthiness and trustworthiness of papers accepted by journal are factors in getting the funding.\n",
    "\n",
    "Below code shows how they correlated with each other."
   ]
  },
  {
   "cell_type": "code",
   "execution_count": 11,
   "metadata": {},
   "outputs": [
    {
     "data": {
      "text/plain": [
       "-0.828225254885134"
      ]
     },
     "execution_count": 11,
     "metadata": {},
     "output_type": "execute_result"
    }
   ],
   "source": [
    "# A simulated example to demonstrate selection-disortion \n",
    "#\n",
    "# Here\n",
    "\n",
    "_SEED = 1914\n",
    "\n",
    "N = 200\n",
    "p = 0.1  # proportion to select\n",
    "\n",
    "# uncorrelated newsworthiness & trustworthiness\n",
    "seed = tfp.util.SeedStream(_SEED, salt=\"\")\n",
    "nw = tfd.Normal(loc=0., scale=1.).sample(N, seed=seed()).numpy()\n",
    "seed = tfp.util.SeedStream(_SEED, salt=\"\")\n",
    "tw = tfd.Normal(loc=0., scale=1.).sample(N, seed=seed()).numpy()\n",
    "\n",
    "# select top 10% of combined scores\n",
    "s = nw + tw  # total score\n",
    "q = np.quantile(s, 1 - p)  # top 10% threshold\n",
    "\n",
    "selected = np.where(s >= q, True, False)\n",
    "\n",
    "np.corrcoef(tw[selected], nw[selected])[0, 1]"
   ]
  },
  {
   "cell_type": "markdown",
   "metadata": {},
   "source": [
    "This shows that nw (newsworthiness) & tw (trustworthiness) are **heavily negivately correlated**."
   ]
  },
  {
   "cell_type": "markdown",
   "metadata": {},
   "source": [
    "## 6.1 Multicollinearity\n",
    "\n",
    "**Multicollinearity** happens when the predictor variables are stronly correlated.\n",
    "\n",
    "When this happens the posterior distribution will seem to suggest that none of the variables is reliably associated with the outcome. \n",
    "\n",
    "Model will still infer correct results but it would be difficult to understand it."
   ]
  },
  {
   "cell_type": "markdown",
   "metadata": {},
   "source": [
    "### 6.1.1 Multicollinear legs\n",
    "\n",
    "Here we create an artifical dataset about height & its relation to the length of the legs as predictor variables.\n",
    "\n",
    "The two legs are more or less of same length so they are correlated with each other. Including both of the legs as the predictors result in multicollinearity"
   ]
  },
  {
   "cell_type": "markdown",
   "metadata": {},
   "source": [
    "##### Code 6.2\n",
    "\n"
   ]
  },
  {
   "cell_type": "code",
   "execution_count": 12,
   "metadata": {},
   "outputs": [
    {
     "data": {
      "text/html": [
       "<div>\n",
       "<style scoped>\n",
       "    .dataframe tbody tr th:only-of-type {\n",
       "        vertical-align: middle;\n",
       "    }\n",
       "\n",
       "    .dataframe tbody tr th {\n",
       "        vertical-align: top;\n",
       "    }\n",
       "\n",
       "    .dataframe thead th {\n",
       "        text-align: right;\n",
       "    }\n",
       "</style>\n",
       "<table border=\"1\" class=\"dataframe\">\n",
       "  <thead>\n",
       "    <tr style=\"text-align: right;\">\n",
       "      <th></th>\n",
       "      <th>height</th>\n",
       "      <th>leg_left</th>\n",
       "      <th>leg_right</th>\n",
       "    </tr>\n",
       "  </thead>\n",
       "  <tbody>\n",
       "    <tr>\n",
       "      <th>count</th>\n",
       "      <td>100.000000</td>\n",
       "      <td>100.000000</td>\n",
       "      <td>100.000000</td>\n",
       "    </tr>\n",
       "    <tr>\n",
       "      <th>mean</th>\n",
       "      <td>10.244188</td>\n",
       "      <td>4.586804</td>\n",
       "      <td>4.589090</td>\n",
       "    </tr>\n",
       "    <tr>\n",
       "      <th>std</th>\n",
       "      <td>1.971723</td>\n",
       "      <td>0.856999</td>\n",
       "      <td>0.857432</td>\n",
       "    </tr>\n",
       "    <tr>\n",
       "      <th>min</th>\n",
       "      <td>6.569585</td>\n",
       "      <td>2.711091</td>\n",
       "      <td>2.734310</td>\n",
       "    </tr>\n",
       "    <tr>\n",
       "      <th>25%</th>\n",
       "      <td>8.705090</td>\n",
       "      <td>3.959075</td>\n",
       "      <td>3.970327</td>\n",
       "    </tr>\n",
       "    <tr>\n",
       "      <th>50%</th>\n",
       "      <td>10.478082</td>\n",
       "      <td>4.628943</td>\n",
       "      <td>4.644671</td>\n",
       "    </tr>\n",
       "    <tr>\n",
       "      <th>75%</th>\n",
       "      <td>11.372977</td>\n",
       "      <td>5.143220</td>\n",
       "      <td>5.147640</td>\n",
       "    </tr>\n",
       "    <tr>\n",
       "      <th>max</th>\n",
       "      <td>15.219750</td>\n",
       "      <td>7.189007</td>\n",
       "      <td>7.178730</td>\n",
       "    </tr>\n",
       "  </tbody>\n",
       "</table>\n",
       "</div>"
      ],
      "text/plain": [
       "           height    leg_left   leg_right\n",
       "count  100.000000  100.000000  100.000000\n",
       "mean    10.244188    4.586804    4.589090\n",
       "std      1.971723    0.856999    0.857432\n",
       "min      6.569585    2.711091    2.734310\n",
       "25%      8.705090    3.959075    3.970327\n",
       "50%     10.478082    4.628943    4.644671\n",
       "75%     11.372977    5.143220    5.147640\n",
       "max     15.219750    7.189007    7.178730"
      ]
     },
     "execution_count": 12,
     "metadata": {},
     "output_type": "execute_result"
    }
   ],
   "source": [
    "_SEED = 909\n",
    "\n",
    "N = 100\n",
    "\n",
    "def generate_height_leg_data():\n",
    "    seed = tfp.util.SeedStream(_SEED, salt=\"leg_exp\")\n",
    "    height = tfd.Normal(loc=10., scale=2.).sample(N, seed=seed()).numpy()\n",
    "    leg_prop = tfd.Uniform(low=0.4, high=0.5).sample(N, seed=seed()).numpy()\n",
    "\n",
    "    # left & right leg as proportion + error\n",
    "    leg_left = leg_prop * height + tfd.Normal(loc=0, scale=0.02).sample(N, seed=seed()).numpy()\n",
    "\n",
    "    leg_right = leg_prop * height + tfd.Normal(loc=0, scale=0.02).sample(N, seed=seed()).numpy()\n",
    "\n",
    "    # build a dataframe using above\n",
    "    d = pd.DataFrame({\n",
    "        \"height\" : height,\n",
    "        \"leg_left\" : leg_left,\n",
    "        \"leg_right\" : leg_right\n",
    "    })\n",
    "\n",
    "    return d\n",
    "\n",
    "d = generate_height_leg_data()\n",
    "\n",
    "d.describe()"
   ]
  },
  {
   "cell_type": "markdown",
   "metadata": {},
   "source": [
    "##### Code 6.3 \n",
    "\n",
    "Very vague and bad priors are used in the model here so that we can be sure that priors are not responsible for what we are about to observe"
   ]
  },
  {
   "cell_type": "code",
   "execution_count": 13,
   "metadata": {},
   "outputs": [],
   "source": [
    "tdf = df_to_tensors('SimulatedHeight', d, ['leg_left', 'leg_right', 'height'])\n",
    "\n",
    "def model_6_1(leg_left_data, leg_right_data):\n",
    "    def _generator():\n",
    "      alpha = yield Root(tfd.Sample(tfd.Normal(loc=10., scale=100., name=\"alpha\"), sample_shape=1))\n",
    "      betaL = yield Root(tfd.Sample(tfd.Normal(loc=2., scale=10., name=\"betaL\"), sample_shape=1))\n",
    "      betaR = yield Root(tfd.Sample(tfd.Normal(loc=2., scale=10., name=\"betaR\"), sample_shape=1))\n",
    "      sigma = yield Root(tfd.Sample(tfd.Exponential(rate=1., name=\"sigma\"), sample_shape=1))\n",
    "\n",
    "      mu = tf.squeeze(\n",
    "          alpha[...,tf.newaxis] + \\\n",
    "          betaL[...,tf.newaxis] * leg_left_data + \\\n",
    "          betaR[...,tf.newaxis] * leg_right_data\n",
    "      )\n",
    "        \n",
    "      scale = sigma[...,tf.newaxis]\n",
    "        \n",
    "      height = yield tfd.Independent(\n",
    "                      tfd.Normal(loc=mu, scale=scale, name=\"height\"), \n",
    "                      reinterpreted_batch_ndims=1)\n",
    "\n",
    "    return tfd.JointDistributionCoroutine(_generator, validate_args=False)    \n",
    "    \n",
    "jdc_6_1 = model_6_1(tdf.leg_left, tdf.leg_right)"
   ]
  },
  {
   "cell_type": "code",
   "execution_count": 14,
   "metadata": {},
   "outputs": [
    {
     "name": "stdout",
     "output_type": "stream",
     "text": [
      "WARNING:tensorflow:From /Users/ksachdeva/Desktop/Dev/myoss/rethinking-tfp-interim/env/lib/python3.7/site-packages/tensorflow_probability/python/mcmc/kernel.py:104: calling HamiltonianMonteCarlo.__init__ (from tensorflow_probability.python.mcmc.hmc) with step_size_update_fn is deprecated and will be removed after 2019-05-22.\n",
      "Instructions for updating:\n",
      "The `step_size_update_fn` argument is deprecated. Use `tfp.mcmc.SimpleStepSizeAdaptation` instead.\n",
      "WARNING:tensorflow:From /Users/ksachdeva/Desktop/Dev/myoss/rethinking-tfp-interim/env/lib/python3.7/site-packages/tensorflow/python/util/deprecation.py:507: calling HamiltonianMonteCarlo.__init__ (from tensorflow_probability.python.mcmc.hmc) with seed is deprecated and will be removed after 2020-09-20.\n",
      "Instructions for updating:\n",
      "The `seed` argument is deprecated (but will work until removed). Pass seed to `tfp.mcmc.sample_chain` instead.\n"
     ]
    },
    {
     "data": {
      "text/html": [
       "<div>\n",
       "<style scoped>\n",
       "    .dataframe tbody tr th:only-of-type {\n",
       "        vertical-align: middle;\n",
       "    }\n",
       "\n",
       "    .dataframe tbody tr th {\n",
       "        vertical-align: top;\n",
       "    }\n",
       "\n",
       "    .dataframe thead th {\n",
       "        text-align: right;\n",
       "    }\n",
       "</style>\n",
       "<table border=\"1\" class=\"dataframe\">\n",
       "  <thead>\n",
       "    <tr style=\"text-align: right;\">\n",
       "      <th></th>\n",
       "      <th>mean</th>\n",
       "      <th>sd</th>\n",
       "      <th>hdi_5.5%</th>\n",
       "      <th>hdi_94.5%</th>\n",
       "      <th>mcse_mean</th>\n",
       "      <th>mcse_sd</th>\n",
       "      <th>ess_mean</th>\n",
       "      <th>ess_sd</th>\n",
       "      <th>ess_bulk</th>\n",
       "      <th>ess_tail</th>\n",
       "      <th>r_hat</th>\n",
       "    </tr>\n",
       "  </thead>\n",
       "  <tbody>\n",
       "    <tr>\n",
       "      <th>alpha</th>\n",
       "      <td>0.277</td>\n",
       "      <td>0.381</td>\n",
       "      <td>-0.362</td>\n",
       "      <td>0.814</td>\n",
       "      <td>0.065</td>\n",
       "      <td>0.046</td>\n",
       "      <td>35.0</td>\n",
       "      <td>35.0</td>\n",
       "      <td>35.0</td>\n",
       "      <td>85.0</td>\n",
       "      <td>1.05</td>\n",
       "    </tr>\n",
       "    <tr>\n",
       "      <th>betaL</th>\n",
       "      <td>-0.169</td>\n",
       "      <td>2.329</td>\n",
       "      <td>-3.984</td>\n",
       "      <td>2.588</td>\n",
       "      <td>1.492</td>\n",
       "      <td>1.216</td>\n",
       "      <td>2.0</td>\n",
       "      <td>2.0</td>\n",
       "      <td>3.0</td>\n",
       "      <td>15.0</td>\n",
       "      <td>1.92</td>\n",
       "    </tr>\n",
       "    <tr>\n",
       "      <th>betaR</th>\n",
       "      <td>2.340</td>\n",
       "      <td>2.318</td>\n",
       "      <td>-0.414</td>\n",
       "      <td>6.143</td>\n",
       "      <td>1.489</td>\n",
       "      <td>1.215</td>\n",
       "      <td>2.0</td>\n",
       "      <td>2.0</td>\n",
       "      <td>3.0</td>\n",
       "      <td>16.0</td>\n",
       "      <td>1.96</td>\n",
       "    </tr>\n",
       "    <tr>\n",
       "      <th>sigma</th>\n",
       "      <td>0.664</td>\n",
       "      <td>0.047</td>\n",
       "      <td>0.587</td>\n",
       "      <td>0.734</td>\n",
       "      <td>0.001</td>\n",
       "      <td>0.001</td>\n",
       "      <td>1365.0</td>\n",
       "      <td>1365.0</td>\n",
       "      <td>1359.0</td>\n",
       "      <td>2387.0</td>\n",
       "      <td>1.00</td>\n",
       "    </tr>\n",
       "  </tbody>\n",
       "</table>\n",
       "</div>"
      ],
      "text/plain": [
       "        mean     sd  hdi_5.5%  hdi_94.5%  mcse_mean  mcse_sd  ess_mean  \\\n",
       "alpha  0.277  0.381    -0.362      0.814      0.065    0.046      35.0   \n",
       "betaL -0.169  2.329    -3.984      2.588      1.492    1.216       2.0   \n",
       "betaR  2.340  2.318    -0.414      6.143      1.489    1.215       2.0   \n",
       "sigma  0.664  0.047     0.587      0.734      0.001    0.001    1365.0   \n",
       "\n",
       "       ess_sd  ess_bulk  ess_tail  r_hat  \n",
       "alpha    35.0      35.0      85.0   1.05  \n",
       "betaL     2.0       3.0      15.0   1.92  \n",
       "betaR     2.0       3.0      16.0   1.96  \n",
       "sigma  1365.0    1359.0    2387.0   1.00  "
      ]
     },
     "execution_count": 14,
     "metadata": {},
     "output_type": "execute_result"
    }
   ],
   "source": [
    "NUM_CHAINS_FOR_6_1 = 2\n",
    "\n",
    "# Note - \n",
    "# I got somewhat ok looking results with this init values\n",
    "init_state = [\n",
    "    tf.ones([NUM_CHAINS_FOR_6_1]),\n",
    "    tf.ones([NUM_CHAINS_FOR_6_1]),\n",
    "    tf.ones([NUM_CHAINS_FOR_6_1]),\n",
    "    tf.ones([NUM_CHAINS_FOR_6_1])    \n",
    "]\n",
    "\n",
    "init_config = dict(\n",
    "    alpha = dict(state=init_state[0], bijector=tfb.Identity()),\n",
    "    betaL = dict(state=init_state[1], bijector=tfb.Identity()),\n",
    "    betaR = dict(state=init_state[2], bijector=tfb.Identity()),\n",
    "    sigma = dict(state=init_state[3], bijector=tfb.Exp()),\n",
    ")\n",
    "\n",
    "mcmc_config = dict(burnin=500, num_chains=NUM_CHAINS_FOR_6_1)\n",
    "\n",
    "observed_data = (tdf.height, )\n",
    "\n",
    "posterior_6_1, trace_6_1 = sample_posterior(\n",
    "                                jdc_6_1, \n",
    "                                observed_data=observed_data, \n",
    "                                num_samples=4000,\n",
    "                                init_config=init_config)\n",
    "\n",
    "az.summary(trace_6_1, hdi_prob=0.89)"
   ]
  },
  {
   "cell_type": "markdown",
   "metadata": {},
   "source": [
    "Notice betaL and betaR values. How can they be so different ? Afterall we know that the legs are more or less of same lenght so their effects should be both equal. This is confusing indeed !"
   ]
  },
  {
   "cell_type": "code",
   "execution_count": 15,
   "metadata": {},
   "outputs": [
    {
     "data": {
      "image/png": "[encoded data removed]",
      "text/plain": [
       "<Figure size 432x532.8 with 1 Axes>"
      ]
     },
     "metadata": {
      "needs_background": "light"
     },
     "output_type": "display_data"
    }
   ],
   "source": [
    "az.plot_forest(trace_6_1, hdi_prob=0.89, combined=True);"
   ]
  },
  {
   "cell_type": "markdown",
   "metadata": {},
   "source": [
    "##### Code 6.5 \n",
    "\n",
    "Looking at the bivariate posterior distribution for betaR & betaL.\n",
    "\n",
    "Since both variables contain identical information, the posterior is a narrow ridge of negatively correlated values."
   ]
  },
  {
   "cell_type": "code",
   "execution_count": 16,
   "metadata": {},
   "outputs": [
    {
     "data": {
      "image/png": "[encoded data removed]",
      "text/plain": [
       "<Figure size 504x216 with 1 Axes>"
      ]
     },
     "metadata": {
      "needs_background": "light"
     },
     "output_type": "display_data"
    }
   ],
   "source": [
    "fig, ax = plt.subplots(1, 1, figsize=[7, 3])\n",
    "\n",
    "plt.scatter(posterior_6_1['betaR'], posterior_6_1['betaL'], alpha=0.05, s=20)\n",
    "ax.set_xlabel(\"br\")\n",
    "ax.set_ylabel(\"bl\");"
   ]
  },
  {
   "cell_type": "markdown",
   "metadata": {},
   "source": [
    "##### Code 6.6 \n",
    "\n",
    "Below plot shows that the posterior distribution of sum of the two parameters is centered on the proper association of either leg with height"
   ]
  },
  {
   "cell_type": "code",
   "execution_count": 17,
   "metadata": {},
   "outputs": [
    {
     "data": {
      "image/png": "[encoded data removed]",
      "text/plain": [
       "<Figure size 432x288 with 1 Axes>"
      ]
     },
     "metadata": {
      "needs_background": "light"
     },
     "output_type": "display_data"
    }
   ],
   "source": [
    "sum_blbr = posterior_6_1[\"betaL\"] + posterior_6_1[\"betaR\"]\n",
    "az.plot_kde(sum_blbr, label=\"sum of bl and br\");"
   ]
  },
  {
   "cell_type": "markdown",
   "metadata": {},
   "source": [
    "##### Code 6.7\n",
    "\n",
    "We will now do the regression using only one leg and the posterior mean will be approximately the same.\n",
    "\n",
    "Building the model using only left leg."
   ]
  },
  {
   "cell_type": "code",
   "execution_count": 18,
   "metadata": {},
   "outputs": [],
   "source": [
    "def model_6_2(leg_left_data):\n",
    "    def _generator():\n",
    "      alpha = yield Root(tfd.Sample(tfd.Normal(loc=10., scale=100., name=\"alpha\"), sample_shape=1))\n",
    "      betaL = yield Root(tfd.Sample(tfd.Normal(loc=2., scale=10., name=\"betaL\"), sample_shape=1))\n",
    "      sigma = yield Root(tfd.Sample(tfd.Exponential(rate=1., name=\"sigma\"), sample_shape=1))\n",
    "\n",
    "      mu = tf.squeeze(\n",
    "          alpha[...,tf.newaxis] + \\\n",
    "          betaL[...,tf.newaxis] * leg_left_data\n",
    "      )\n",
    "        \n",
    "      scale = sigma[...,tf.newaxis]\n",
    "        \n",
    "      height = yield tfd.Independent(\n",
    "                      tfd.Normal(loc=mu, scale=scale, name=\"height\"), \n",
    "                      reinterpreted_batch_ndims=1)\n",
    "\n",
    "    return tfd.JointDistributionCoroutine(_generator, validate_args=False)    \n",
    "    \n",
    "jdc_6_2 = model_6_2(tdf.leg_left)"
   ]
  },
  {
   "cell_type": "code",
   "execution_count": 19,
   "metadata": {},
   "outputs": [
    {
     "data": {
      "text/html": [
       "<div>\n",
       "<style scoped>\n",
       "    .dataframe tbody tr th:only-of-type {\n",
       "        vertical-align: middle;\n",
       "    }\n",
       "\n",
       "    .dataframe tbody tr th {\n",
       "        vertical-align: top;\n",
       "    }\n",
       "\n",
       "    .dataframe thead th {\n",
       "        text-align: right;\n",
       "    }\n",
       "</style>\n",
       "<table border=\"1\" class=\"dataframe\">\n",
       "  <thead>\n",
       "    <tr style=\"text-align: right;\">\n",
       "      <th></th>\n",
       "      <th>mean</th>\n",
       "      <th>sd</th>\n",
       "      <th>hdi_5.5%</th>\n",
       "      <th>hdi_94.5%</th>\n",
       "      <th>mcse_mean</th>\n",
       "      <th>mcse_sd</th>\n",
       "      <th>ess_mean</th>\n",
       "      <th>ess_sd</th>\n",
       "      <th>ess_bulk</th>\n",
       "      <th>ess_tail</th>\n",
       "      <th>r_hat</th>\n",
       "    </tr>\n",
       "  </thead>\n",
       "  <tbody>\n",
       "    <tr>\n",
       "      <th>alpha</th>\n",
       "      <td>0.286</td>\n",
       "      <td>0.404</td>\n",
       "      <td>-0.355</td>\n",
       "      <td>0.769</td>\n",
       "      <td>0.147</td>\n",
       "      <td>0.109</td>\n",
       "      <td>8.0</td>\n",
       "      <td>8.0</td>\n",
       "      <td>8.0</td>\n",
       "      <td>14.0</td>\n",
       "      <td>1.18</td>\n",
       "    </tr>\n",
       "    <tr>\n",
       "      <th>betaL</th>\n",
       "      <td>2.172</td>\n",
       "      <td>0.085</td>\n",
       "      <td>2.071</td>\n",
       "      <td>2.312</td>\n",
       "      <td>0.030</td>\n",
       "      <td>0.022</td>\n",
       "      <td>8.0</td>\n",
       "      <td>8.0</td>\n",
       "      <td>9.0</td>\n",
       "      <td>15.0</td>\n",
       "      <td>1.16</td>\n",
       "    </tr>\n",
       "    <tr>\n",
       "      <th>sigma</th>\n",
       "      <td>0.674</td>\n",
       "      <td>0.160</td>\n",
       "      <td>0.586</td>\n",
       "      <td>0.736</td>\n",
       "      <td>0.013</td>\n",
       "      <td>0.009</td>\n",
       "      <td>156.0</td>\n",
       "      <td>156.0</td>\n",
       "      <td>216.0</td>\n",
       "      <td>198.0</td>\n",
       "      <td>1.02</td>\n",
       "    </tr>\n",
       "  </tbody>\n",
       "</table>\n",
       "</div>"
      ],
      "text/plain": [
       "        mean     sd  hdi_5.5%  hdi_94.5%  mcse_mean  mcse_sd  ess_mean  \\\n",
       "alpha  0.286  0.404    -0.355      0.769      0.147    0.109       8.0   \n",
       "betaL  2.172  0.085     2.071      2.312      0.030    0.022       8.0   \n",
       "sigma  0.674  0.160     0.586      0.736      0.013    0.009     156.0   \n",
       "\n",
       "       ess_sd  ess_bulk  ess_tail  r_hat  \n",
       "alpha     8.0       8.0      14.0   1.18  \n",
       "betaL     8.0       9.0      15.0   1.16  \n",
       "sigma   156.0     216.0     198.0   1.02  "
      ]
     },
     "execution_count": 19,
     "metadata": {},
     "output_type": "execute_result"
    }
   ],
   "source": [
    "NUM_CHAINS_FOR_6_2 = 2\n",
    "\n",
    "# Note - \n",
    "# I got somewhat ok looking results with this init values\n",
    "init_state = [\n",
    "    tf.ones([NUM_CHAINS_FOR_6_2]),\n",
    "    tf.ones([NUM_CHAINS_FOR_6_2]),\n",
    "    tf.ones([NUM_CHAINS_FOR_6_1])    \n",
    "]\n",
    "\n",
    "init_config = dict(\n",
    "    alpha = dict(state=init_state[0], bijector=tfb.Identity()),\n",
    "    betaL = dict(state=init_state[1], bijector=tfb.Identity()),\n",
    "    sigma = dict(state=init_state[2], bijector=tfb.Exp()),\n",
    ")\n",
    "\n",
    "mcmc_config = dict(burnin=500, num_chains=NUM_CHAINS_FOR_6_2)\n",
    "\n",
    "observed_data = (tdf.height, )\n",
    "\n",
    "posterior_6_2, trace_6_2 = sample_posterior(\n",
    "                                jdc_6_2, \n",
    "                                init_config=init_config,\n",
    "                                mcmc_config=mcmc_config,\n",
    "                                observed_data=observed_data, \n",
    "                                num_samples=4000)\n",
    "\n",
    "az.summary(trace_6_2, hdi_prob=0.89)"
   ]
  },
  {
   "cell_type": "markdown",
   "metadata": {},
   "source": [
    "The value of `betaL` is now identical to `sum of betaL & betaL` (see the chart from Code 6.6) from previous models"
   ]
  },
  {
   "cell_type": "markdown",
   "metadata": {},
   "source": [
    "### 6.1.2 Multicollinear milk\n",
    "\n",
    "In real datasets, it may be difficult to identify the highly correlated predictors. This has the consequence of coming to a conclusion that none of the predictor is significant.\n",
    "\n",
    "Here the primate milk dataset is used as another example for multicollinearity challenge."
   ]
  },
  {
   "cell_type": "markdown",
   "metadata": {},
   "source": [
    "##### Code 6.8\n",
    "\n",
    "Loading the dataset and creating new standardized (centered) columns"
   ]
  },
  {
   "cell_type": "code",
   "execution_count": 20,
   "metadata": {},
   "outputs": [],
   "source": [
    "d = pd.read_csv(MILK_DATASET_PATH, sep=\";\")\n",
    "\n",
    "d[\"K\"] = d[\"kcal.per.g\"].pipe(lambda x: (x - x.mean()) / x.std())\n",
    "d[\"F\"] = d[\"perc.fat\"].pipe(lambda x: (x - x.mean()) / x.std())\n",
    "d[\"L\"] = d[\"perc.lactose\"].pipe(lambda x: (x - x.mean()) / x.std())"
   ]
  },
  {
   "cell_type": "code",
   "execution_count": 21,
   "metadata": {},
   "outputs": [],
   "source": [
    "tdf = df_to_tensors(\"Milk\", d, ['K', 'F', 'L'])"
   ]
  },
  {
   "cell_type": "markdown",
   "metadata": {},
   "source": [
    "##### Code 6.9\n",
    "\n",
    "We are building 2 models here.\n",
    "\n",
    "* KCal regressed on perc.fat\n",
    "* KCal regressed on perc.lactose"
   ]
  },
  {
   "cell_type": "code",
   "execution_count": 22,
   "metadata": {},
   "outputs": [],
   "source": [
    "# KCal is regressed on perc.fat\n",
    "\n",
    "def model_6_3(per_fat):\n",
    "    def _generator():\n",
    "      alpha = yield Root(tfd.Sample(tfd.Normal(loc=0., scale=0.2, name=\"alpha\"), sample_shape=1))\n",
    "      betaF = yield Root(tfd.Sample(tfd.Normal(loc=0., scale=0.5, name=\"betaF\"), sample_shape=1))      \n",
    "      sigma = yield Root(tfd.Sample(tfd.Exponential(rate=1., name=\"sigma\"), sample_shape=1))    \n",
    "\n",
    "      mu =  alpha[...,tf.newaxis] + betaF[...,tf.newaxis] * tf.transpose(per_fat[...,tf.newaxis])\n",
    "      scale = sigma[..., tf.newaxis]  \n",
    "        \n",
    "      K = yield tfd.Independent(tfd.Normal(loc=mu, scale=scale, name=\"K\"), reinterpreted_batch_ndims=1)\n",
    "\n",
    "    return tfd.JointDistributionCoroutine(_generator, validate_args=False)    \n",
    "    \n",
    "jdc_6_3 = model_6_3(tdf.F)"
   ]
  },
  {
   "cell_type": "code",
   "execution_count": 23,
   "metadata": {},
   "outputs": [],
   "source": [
    "NUM_CHAINS_FOR_6_3 = 2\n",
    "\n",
    "init_state = [\n",
    "    tf.zeros([NUM_CHAINS_FOR_6_3]),\n",
    "    tf.zeros([NUM_CHAINS_FOR_6_3]),\n",
    "    tf.ones([NUM_CHAINS_FOR_6_3]),    \n",
    "]\n",
    "\n",
    "init_config = dict(\n",
    "    alpha = dict(state=init_state[0], bijector=tfb.Identity()),\n",
    "    betaF = dict(state=init_state[1], bijector=tfb.Identity()),\n",
    "    sigma = dict(state=init_state[2], bijector=tfb.Exp()),\n",
    ")\n",
    "\n",
    "\n",
    "posterior_6_3, trace_6_3 = sample_posterior(\n",
    "                            jdc_6_3, \n",
    "                            init_config=init_config,\n",
    "                            observed_data=(tdf.K,))"
   ]
  },
  {
   "cell_type": "code",
   "execution_count": 24,
   "metadata": {},
   "outputs": [],
   "source": [
    "# KCal is regressed on perc.lactose\n",
    "\n",
    "def model_6_4(per_lac):\n",
    "    def _generator():\n",
    "      alpha = yield Root(tfd.Sample(tfd.Normal(loc=0., scale=0.2, name=\"alpha\"), sample_shape=1))\n",
    "      betaL = yield Root(tfd.Sample(tfd.Normal(loc=0., scale=0.5, name=\"betaL\"), sample_shape=1))      \n",
    "      sigma = yield Root(tfd.Sample(tfd.Exponential(rate=1., name=\"sigma\"), sample_shape=1))\n",
    "    \n",
    "      mu =  alpha[...,tf.newaxis] + betaL[...,tf.newaxis] * tf.transpose(per_lac[...,tf.newaxis])\n",
    "      scale = sigma[..., tf.newaxis]  \n",
    "        \n",
    "      K = yield tfd.Independent(tfd.Normal(loc=mu, scale=scale, name=\"K\"), reinterpreted_batch_ndims=1)\n",
    "\n",
    "    return tfd.JointDistributionCoroutine(_generator, validate_args=False)    \n",
    "    \n",
    "jdc_6_4 = model_6_4(tdf.L)"
   ]
  },
  {
   "cell_type": "code",
   "execution_count": 25,
   "metadata": {},
   "outputs": [],
   "source": [
    "NUM_CHAINS_FOR_6_4 = 2\n",
    "\n",
    "init_state = [\n",
    "    tf.zeros([NUM_CHAINS_FOR_6_4]),\n",
    "    tf.zeros([NUM_CHAINS_FOR_6_4]),\n",
    "    tf.ones([NUM_CHAINS_FOR_6_4]),    \n",
    "]\n",
    "\n",
    "init_config = dict(\n",
    "    alpha = dict(state=init_state[0], bijector=tfb.Identity()),\n",
    "    betaL = dict(state=init_state[1], bijector=tfb.Identity()),\n",
    "    sigma = dict(state=init_state[2], bijector=tfb.Exp()),\n",
    ")\n",
    "\n",
    "\n",
    "posterior_6_4, trace_6_4 = sample_posterior(\n",
    "                                jdc_6_4, \n",
    "                                init_config=init_config,\n",
    "                                observed_data=(tdf.K,))"
   ]
  },
  {
   "cell_type": "code",
   "execution_count": 26,
   "metadata": {},
   "outputs": [
    {
     "data": {
      "text/html": [
       "<div>\n",
       "<style scoped>\n",
       "    .dataframe tbody tr th:only-of-type {\n",
       "        vertical-align: middle;\n",
       "    }\n",
       "\n",
       "    .dataframe tbody tr th {\n",
       "        vertical-align: top;\n",
       "    }\n",
       "\n",
       "    .dataframe thead th {\n",
       "        text-align: right;\n",
       "    }\n",
       "</style>\n",
       "<table border=\"1\" class=\"dataframe\">\n",
       "  <thead>\n",
       "    <tr style=\"text-align: right;\">\n",
       "      <th></th>\n",
       "      <th>mean</th>\n",
       "      <th>sd</th>\n",
       "      <th>hdi_5.5%</th>\n",
       "      <th>hdi_94.5%</th>\n",
       "      <th>mcse_mean</th>\n",
       "      <th>mcse_sd</th>\n",
       "      <th>ess_mean</th>\n",
       "      <th>ess_sd</th>\n",
       "      <th>ess_bulk</th>\n",
       "      <th>ess_tail</th>\n",
       "      <th>r_hat</th>\n",
       "    </tr>\n",
       "  </thead>\n",
       "  <tbody>\n",
       "    <tr>\n",
       "      <th>alpha</th>\n",
       "      <td>0.002</td>\n",
       "      <td>0.084</td>\n",
       "      <td>-0.132</td>\n",
       "      <td>0.131</td>\n",
       "      <td>0.005</td>\n",
       "      <td>0.003</td>\n",
       "      <td>297.0</td>\n",
       "      <td>297.0</td>\n",
       "      <td>297.0</td>\n",
       "      <td>344.0</td>\n",
       "      <td>1.01</td>\n",
       "    </tr>\n",
       "    <tr>\n",
       "      <th>betaF</th>\n",
       "      <td>0.860</td>\n",
       "      <td>0.093</td>\n",
       "      <td>0.716</td>\n",
       "      <td>1.009</td>\n",
       "      <td>0.003</td>\n",
       "      <td>0.002</td>\n",
       "      <td>766.0</td>\n",
       "      <td>758.0</td>\n",
       "      <td>768.0</td>\n",
       "      <td>1066.0</td>\n",
       "      <td>1.01</td>\n",
       "    </tr>\n",
       "    <tr>\n",
       "      <th>sigma</th>\n",
       "      <td>0.488</td>\n",
       "      <td>0.071</td>\n",
       "      <td>0.377</td>\n",
       "      <td>0.597</td>\n",
       "      <td>0.001</td>\n",
       "      <td>0.001</td>\n",
       "      <td>3332.0</td>\n",
       "      <td>2887.0</td>\n",
       "      <td>3317.0</td>\n",
       "      <td>798.0</td>\n",
       "      <td>1.01</td>\n",
       "    </tr>\n",
       "  </tbody>\n",
       "</table>\n",
       "</div>"
      ],
      "text/plain": [
       "        mean     sd  hdi_5.5%  hdi_94.5%  mcse_mean  mcse_sd  ess_mean  \\\n",
       "alpha  0.002  0.084    -0.132      0.131      0.005    0.003     297.0   \n",
       "betaF  0.860  0.093     0.716      1.009      0.003    0.002     766.0   \n",
       "sigma  0.488  0.071     0.377      0.597      0.001    0.001    3332.0   \n",
       "\n",
       "       ess_sd  ess_bulk  ess_tail  r_hat  \n",
       "alpha   297.0     297.0     344.0   1.01  \n",
       "betaF   758.0     768.0    1066.0   1.01  \n",
       "sigma  2887.0    3317.0     798.0   1.01  "
      ]
     },
     "execution_count": 26,
     "metadata": {},
     "output_type": "execute_result"
    }
   ],
   "source": [
    "az.summary(trace_6_3, hdi_prob=0.89)"
   ]
  },
  {
   "cell_type": "code",
   "execution_count": 27,
   "metadata": {},
   "outputs": [
    {
     "data": {
      "text/html": [
       "<div>\n",
       "<style scoped>\n",
       "    .dataframe tbody tr th:only-of-type {\n",
       "        vertical-align: middle;\n",
       "    }\n",
       "\n",
       "    .dataframe tbody tr th {\n",
       "        vertical-align: top;\n",
       "    }\n",
       "\n",
       "    .dataframe thead th {\n",
       "        text-align: right;\n",
       "    }\n",
       "</style>\n",
       "<table border=\"1\" class=\"dataframe\">\n",
       "  <thead>\n",
       "    <tr style=\"text-align: right;\">\n",
       "      <th></th>\n",
       "      <th>mean</th>\n",
       "      <th>sd</th>\n",
       "      <th>hdi_5.5%</th>\n",
       "      <th>hdi_94.5%</th>\n",
       "      <th>mcse_mean</th>\n",
       "      <th>mcse_sd</th>\n",
       "      <th>ess_mean</th>\n",
       "      <th>ess_sd</th>\n",
       "      <th>ess_bulk</th>\n",
       "      <th>ess_tail</th>\n",
       "      <th>r_hat</th>\n",
       "    </tr>\n",
       "  </thead>\n",
       "  <tbody>\n",
       "    <tr>\n",
       "      <th>alpha</th>\n",
       "      <td>-0.005</td>\n",
       "      <td>0.072</td>\n",
       "      <td>-0.120</td>\n",
       "      <td>0.112</td>\n",
       "      <td>0.004</td>\n",
       "      <td>0.003</td>\n",
       "      <td>386.0</td>\n",
       "      <td>386.0</td>\n",
       "      <td>389.0</td>\n",
       "      <td>392.0</td>\n",
       "      <td>1.00</td>\n",
       "    </tr>\n",
       "    <tr>\n",
       "      <th>betaL</th>\n",
       "      <td>-0.900</td>\n",
       "      <td>0.080</td>\n",
       "      <td>-1.019</td>\n",
       "      <td>-0.764</td>\n",
       "      <td>0.003</td>\n",
       "      <td>0.002</td>\n",
       "      <td>597.0</td>\n",
       "      <td>597.0</td>\n",
       "      <td>595.0</td>\n",
       "      <td>1284.0</td>\n",
       "      <td>1.01</td>\n",
       "    </tr>\n",
       "    <tr>\n",
       "      <th>sigma</th>\n",
       "      <td>0.414</td>\n",
       "      <td>0.063</td>\n",
       "      <td>0.322</td>\n",
       "      <td>0.512</td>\n",
       "      <td>0.001</td>\n",
       "      <td>0.001</td>\n",
       "      <td>2835.0</td>\n",
       "      <td>2052.0</td>\n",
       "      <td>3172.0</td>\n",
       "      <td>477.0</td>\n",
       "      <td>1.00</td>\n",
       "    </tr>\n",
       "  </tbody>\n",
       "</table>\n",
       "</div>"
      ],
      "text/plain": [
       "        mean     sd  hdi_5.5%  hdi_94.5%  mcse_mean  mcse_sd  ess_mean  \\\n",
       "alpha -0.005  0.072    -0.120      0.112      0.004    0.003     386.0   \n",
       "betaL -0.900  0.080    -1.019     -0.764      0.003    0.002     597.0   \n",
       "sigma  0.414  0.063     0.322      0.512      0.001    0.001    2835.0   \n",
       "\n",
       "       ess_sd  ess_bulk  ess_tail  r_hat  \n",
       "alpha   386.0     389.0     392.0   1.00  \n",
       "betaL   597.0     595.0    1284.0   1.01  \n",
       "sigma  2052.0    3172.0     477.0   1.00  "
      ]
     },
     "execution_count": 27,
     "metadata": {},
     "output_type": "execute_result"
    }
   ],
   "source": [
    "az.summary(trace_6_4, hdi_prob=0.89)"
   ]
  },
  {
   "cell_type": "markdown",
   "metadata": {},
   "source": [
    "Posterior for betaF & betaL are mirror images of each other.\n",
    "\n",
    "This seems to imply that both predictors have strong association with the outcome. Notice the `sd` of both the predictors; they are quite low.\n",
    "\n",
    "In next section we will see what happens when we combine both of them in the regression model"
   ]
  },
  {
   "cell_type": "markdown",
   "metadata": {},
   "source": [
    "##### Code 6.10\n",
    "\n",
    "We build a model where we include both of the predictors (per_fat & per_lac)"
   ]
  },
  {
   "cell_type": "code",
   "execution_count": 28,
   "metadata": {},
   "outputs": [],
   "source": [
    "def model_6_5(per_fat, per_lac):\n",
    "    def _generator():\n",
    "      alpha = yield Root(tfd.Sample(tfd.Normal(loc=0., scale=0.2, name=\"alpha\"), sample_shape=1))\n",
    "      betaF = yield Root(tfd.Sample(tfd.Normal(loc=0., scale=0.5, name=\"betaF\"), sample_shape=1))      \n",
    "      betaL = yield Root(tfd.Sample(tfd.Normal(loc=0., scale=0.5, name=\"betaL\"), sample_shape=1))      \n",
    "      sigma = yield Root(tfd.Sample(tfd.Exponential(rate=1., name=\"sigma\"), sample_shape=1))\n",
    "    \n",
    "      mu =  alpha[...,tf.newaxis] + \\\n",
    "                    betaF[...,tf.newaxis] * tf.transpose(per_fat[...,tf.newaxis]) + \\\n",
    "                    betaL[...,tf.newaxis] * tf.transpose(per_lac[...,tf.newaxis])\n",
    "    \n",
    "      scale = sigma[..., tf.newaxis]  \n",
    "        \n",
    "      K = yield tfd.Independent(tfd.Normal(loc=mu, scale=scale, name=\"K\"), reinterpreted_batch_ndims=1)\n",
    "\n",
    "    return tfd.JointDistributionCoroutine(_generator, validate_args=False)    \n",
    "    \n",
    "jdc_6_5 = model_6_5(tdf.F, tdf.L)"
   ]
  },
  {
   "cell_type": "code",
   "execution_count": 29,
   "metadata": {},
   "outputs": [
    {
     "name": "stdout",
     "output_type": "stream",
     "text": [
      "WARNING:tensorflow:5 out of the last 5 calls to <function run_hmc_chain at 0x1404c1b90> triggered tf.function retracing. Tracing is expensive and the excessive number of tracings could be due to (1) creating @tf.function repeatedly in a loop, (2) passing tensors with different shapes, (3) passing Python objects instead of tensors. For (1), please define your @tf.function outside of the loop. For (2), @tf.function has experimental_relax_shapes=True option that relaxes argument shapes that can avoid unnecessary retracing. For (3), please refer to https://www.tensorflow.org/tutorials/customization/performance#python_or_tensor_args and https://www.tensorflow.org/api_docs/python/tf/function for  more details.\n"
     ]
    },
    {
     "data": {
      "text/html": [
       "<div>\n",
       "<style scoped>\n",
       "    .dataframe tbody tr th:only-of-type {\n",
       "        vertical-align: middle;\n",
       "    }\n",
       "\n",
       "    .dataframe tbody tr th {\n",
       "        vertical-align: top;\n",
       "    }\n",
       "\n",
       "    .dataframe thead th {\n",
       "        text-align: right;\n",
       "    }\n",
       "</style>\n",
       "<table border=\"1\" class=\"dataframe\">\n",
       "  <thead>\n",
       "    <tr style=\"text-align: right;\">\n",
       "      <th></th>\n",
       "      <th>mean</th>\n",
       "      <th>sd</th>\n",
       "      <th>hdi_5.5%</th>\n",
       "      <th>hdi_94.5%</th>\n",
       "      <th>mcse_mean</th>\n",
       "      <th>mcse_sd</th>\n",
       "      <th>ess_mean</th>\n",
       "      <th>ess_sd</th>\n",
       "      <th>ess_bulk</th>\n",
       "      <th>ess_tail</th>\n",
       "      <th>r_hat</th>\n",
       "    </tr>\n",
       "  </thead>\n",
       "  <tbody>\n",
       "    <tr>\n",
       "      <th>alpha</th>\n",
       "      <td>-0.001</td>\n",
       "      <td>0.072</td>\n",
       "      <td>-0.105</td>\n",
       "      <td>0.127</td>\n",
       "      <td>0.003</td>\n",
       "      <td>0.002</td>\n",
       "      <td>820.0</td>\n",
       "      <td>820.0</td>\n",
       "      <td>812.0</td>\n",
       "      <td>1139.0</td>\n",
       "      <td>1.00</td>\n",
       "    </tr>\n",
       "    <tr>\n",
       "      <th>betaF</th>\n",
       "      <td>0.244</td>\n",
       "      <td>0.216</td>\n",
       "      <td>-0.049</td>\n",
       "      <td>0.610</td>\n",
       "      <td>0.011</td>\n",
       "      <td>0.008</td>\n",
       "      <td>360.0</td>\n",
       "      <td>360.0</td>\n",
       "      <td>574.0</td>\n",
       "      <td>218.0</td>\n",
       "      <td>1.01</td>\n",
       "    </tr>\n",
       "    <tr>\n",
       "      <th>betaL</th>\n",
       "      <td>-0.670</td>\n",
       "      <td>0.214</td>\n",
       "      <td>-1.010</td>\n",
       "      <td>-0.356</td>\n",
       "      <td>0.010</td>\n",
       "      <td>0.009</td>\n",
       "      <td>471.0</td>\n",
       "      <td>266.0</td>\n",
       "      <td>582.0</td>\n",
       "      <td>257.0</td>\n",
       "      <td>1.00</td>\n",
       "    </tr>\n",
       "    <tr>\n",
       "      <th>sigma</th>\n",
       "      <td>0.414</td>\n",
       "      <td>0.062</td>\n",
       "      <td>0.310</td>\n",
       "      <td>0.504</td>\n",
       "      <td>0.002</td>\n",
       "      <td>0.001</td>\n",
       "      <td>1272.0</td>\n",
       "      <td>1272.0</td>\n",
       "      <td>1097.0</td>\n",
       "      <td>460.0</td>\n",
       "      <td>1.00</td>\n",
       "    </tr>\n",
       "  </tbody>\n",
       "</table>\n",
       "</div>"
      ],
      "text/plain": [
       "        mean     sd  hdi_5.5%  hdi_94.5%  mcse_mean  mcse_sd  ess_mean  \\\n",
       "alpha -0.001  0.072    -0.105      0.127      0.003    0.002     820.0   \n",
       "betaF  0.244  0.216    -0.049      0.610      0.011    0.008     360.0   \n",
       "betaL -0.670  0.214    -1.010     -0.356      0.010    0.009     471.0   \n",
       "sigma  0.414  0.062     0.310      0.504      0.002    0.001    1272.0   \n",
       "\n",
       "       ess_sd  ess_bulk  ess_tail  r_hat  \n",
       "alpha   820.0     812.0    1139.0   1.00  \n",
       "betaF   360.0     574.0     218.0   1.01  \n",
       "betaL   266.0     582.0     257.0   1.00  \n",
       "sigma  1272.0    1097.0     460.0   1.00  "
      ]
     },
     "execution_count": 29,
     "metadata": {},
     "output_type": "execute_result"
    }
   ],
   "source": [
    "NUM_CHAINS_FOR_6_5 = 2\n",
    "\n",
    "init_state = [\n",
    "    tf.zeros([NUM_CHAINS_FOR_6_5]),\n",
    "    tf.zeros([NUM_CHAINS_FOR_6_5]),\n",
    "    tf.zeros([NUM_CHAINS_FOR_6_5]),\n",
    "    tf.ones([NUM_CHAINS_FOR_6_5])    \n",
    "]\n",
    "\n",
    "init_config = dict(\n",
    "    alpha = dict(state=init_state[0], bijector=tfb.Identity()),\n",
    "    betaF = dict(state=init_state[1], bijector=tfb.Identity()),\n",
    "    betaL = dict(state=init_state[2], bijector=tfb.Identity()),\n",
    "    sigma = dict(state=init_state[3], bijector=tfb.Exp()),\n",
    ")\n",
    "\n",
    "posterior_6_5, trace_6_5 = sample_posterior(\n",
    "                    jdc_6_5, \n",
    "                    init_config=init_config,\n",
    "                    observed_data=(tdf.K,))\n",
    "\n",
    "az.summary(trace_6_5, hdi_prob=0.89)"
   ]
  },
  {
   "cell_type": "markdown",
   "metadata": {},
   "source": [
    "Notice how the standard deviations of the posterior for betaF & betaL has jumped up significantly.\n",
    "\n",
    "per_fat & per_lac both contain much of the same information and can be substitued for each other. Therefore, the model has not choice but to describe a long ridge of combination of betaF & betaL that are equally plaussible."
   ]
  },
  {
   "cell_type": "markdown",
   "metadata": {},
   "source": [
    "##### Code 6.11\n",
    "\n",
    "We plot again like in the legs example to visualize the relationship"
   ]
  },
  {
   "cell_type": "code",
   "execution_count": 30,
   "metadata": {},
   "outputs": [
    {
     "data": {
      "image/png": "[encoded data removed]",
      "text/plain": [
       "<Figure size 993.6x662.4 with 3 Axes>"
      ]
     },
     "metadata": {
      "needs_background": "light"
     },
     "output_type": "display_data"
    }
   ],
   "source": [
    "az.plot_pair(d[[\"kcal.per.g\", \"perc.fat\", \"perc.lactose\"]].to_dict(\"list\"));"
   ]
  },
  {
   "cell_type": "markdown",
   "metadata": {},
   "source": [
    "* perc.fat is positively related to outcome\n",
    "\n",
    "* perc.lac is negatively related to outcome\n",
    "\n",
    "* perc.fat & perc.lac are negatively coorelated to each other\n",
    "\n",
    "Either of them helps in predicting KCal but neither helps much once we already know the other."
   ]
  },
  {
   "cell_type": "markdown",
   "metadata": {},
   "source": [
    "### Overthinking : Simulating collinearity\n",
    "\n",
    "Simulating collinearity using Milk dataset"
   ]
  },
  {
   "cell_type": "markdown",
   "metadata": {},
   "source": [
    "##### Code 6.12\n",
    "\n"
   ]
  },
  {
   "cell_type": "code",
   "execution_count": 31,
   "metadata": {},
   "outputs": [
    {
     "data": {
      "image/png": "[encoded data removed]",
      "text/plain": [
       "<Figure size 432x288 with 1 Axes>"
      ]
     },
     "metadata": {
      "needs_background": "light"
     },
     "output_type": "display_data"
    }
   ],
   "source": [
    "d = pd.read_csv(MILK_DATASET_PATH, sep=\";\")\n",
    "\n",
    "def simcoll(r = 0.9):\n",
    "    \n",
    "    mean = r * d[\"perc.fat\"].values\n",
    "    sd = np.sqrt((1 - r ** 2) * np.var(d[\"perc.fat\"].values))\n",
    "    \n",
    "    x = tfd.Normal(loc=mean, scale=sd).sample()\n",
    "    \n",
    "    X = np.column_stack((d['perc.fat'], x))\n",
    "    m = linear_model.OLS(d['kcal.per.g'], X).fit()\n",
    "    cov = m.cov_params()\n",
    "    return (np.diag(cov)[1])**0.5\n",
    "    \n",
    "def repsimcoll(r= 0.9, N = 100):\n",
    "    stddev = [simcoll(r) for _ in range(N)]\n",
    "    return np.mean(stddev)\n",
    "\n",
    "lista = []\n",
    "for i in np.arange(start = 0, stop = 0.99, step = 0.01):   \n",
    "    lista.append(repsimcoll (r= i, N = 100))\n",
    "\n",
    "plt.plot(np.arange(start = 0, stop = 0.99, step = 0.01), lista)\n",
    "plt.xlabel('correlation', fontsize=14)\n",
    "plt.ylabel('stddev', fontsize=14);"
   ]
  },
  {
   "cell_type": "markdown",
   "metadata": {},
   "source": [
    "## 6.2 Post-treatment bias\n",
    "\n",
    "**Omitted Variable bias** - Problems that arise because of **not** including predictior variables\n",
    "\n",
    "**Post-treatment bias** - Problems that arise becuase of including **improper** predictor variables"
   ]
  },
  {
   "cell_type": "markdown",
   "metadata": {},
   "source": [
    "##### Code 6.13\n",
    "\n",
    "Simulate data to see what goes wrong when we include a **post-treatment** variable"
   ]
  },
  {
   "cell_type": "code",
   "execution_count": 32,
   "metadata": {},
   "outputs": [
    {
     "data": {
      "text/html": [
       "<div>\n",
       "<style scoped>\n",
       "    .dataframe tbody tr th:only-of-type {\n",
       "        vertical-align: middle;\n",
       "    }\n",
       "\n",
       "    .dataframe tbody tr th {\n",
       "        vertical-align: top;\n",
       "    }\n",
       "\n",
       "    .dataframe thead th {\n",
       "        text-align: right;\n",
       "    }\n",
       "</style>\n",
       "<table border=\"1\" class=\"dataframe\">\n",
       "  <thead>\n",
       "    <tr style=\"text-align: right;\">\n",
       "      <th></th>\n",
       "      <th>mean</th>\n",
       "      <th>sd</th>\n",
       "      <th>hdi_5.5%</th>\n",
       "      <th>hdi_94.5%</th>\n",
       "    </tr>\n",
       "  </thead>\n",
       "  <tbody>\n",
       "    <tr>\n",
       "      <th>h0</th>\n",
       "      <td>9.894</td>\n",
       "      <td>2.143</td>\n",
       "      <td>6.421</td>\n",
       "      <td>12.93</td>\n",
       "    </tr>\n",
       "    <tr>\n",
       "      <th>h1</th>\n",
       "      <td>13.609</td>\n",
       "      <td>2.696</td>\n",
       "      <td>8.782</td>\n",
       "      <td>17.34</td>\n",
       "    </tr>\n",
       "    <tr>\n",
       "      <th>treatment</th>\n",
       "      <td>0.500</td>\n",
       "      <td>0.503</td>\n",
       "      <td>0.000</td>\n",
       "      <td>1.00</td>\n",
       "    </tr>\n",
       "    <tr>\n",
       "      <th>fungus</th>\n",
       "      <td>0.350</td>\n",
       "      <td>0.479</td>\n",
       "      <td>0.000</td>\n",
       "      <td>1.00</td>\n",
       "    </tr>\n",
       "  </tbody>\n",
       "</table>\n",
       "</div>"
      ],
      "text/plain": [
       "             mean     sd  hdi_5.5%  hdi_94.5%\n",
       "h0          9.894  2.143     6.421      12.93\n",
       "h1         13.609  2.696     8.782      17.34\n",
       "treatment   0.500  0.503     0.000       1.00\n",
       "fungus      0.350  0.479     0.000       1.00"
      ]
     },
     "execution_count": 32,
     "metadata": {},
     "output_type": "execute_result"
    }
   ],
   "source": [
    "_SEED = 71\n",
    "\n",
    "# Note - even after providing SeedStream and generated seeds\n",
    "# it still does not respect it\n",
    "def simulate():\n",
    "    seed = tfp.util.SeedStream(_SEED, salt=\"sim_heights\")\n",
    "\n",
    "    # number of plants\n",
    "    N = 100\n",
    "\n",
    "    # simulate initial heights\n",
    "    h0 = tfd.Normal(loc=10., scale=2.).sample(N, seed=seed())\n",
    "\n",
    "    # assign treatments and simulate fungus and growth\n",
    "    treatment = tf.repeat([0., 1.], repeats=N // 2)\n",
    "    \n",
    "    fungus = tfd.Binomial(total_count=1., probs=(0.5 - treatment * 0.4)).sample(seed=seed())\n",
    "    \n",
    "    h1 = h0 + tfd.Normal(loc=5. - 3. * fungus, scale=1.).sample(seed=seed())\n",
    "\n",
    "    # compose a clean data frame\n",
    "    d = {\"h0\":h0, \"h1\":h1, \"treatment\":treatment, \"fungus\":fungus}\n",
    "    \n",
    "    return d\n",
    "    \n",
    "d_dict = simulate()\n",
    "\n",
    "az.summary(d_dict, kind=\"stats\", hdi_prob=0.89)"
   ]
  },
  {
   "cell_type": "code",
   "execution_count": 33,
   "metadata": {},
   "outputs": [],
   "source": [
    "d = pd.DataFrame.from_dict(d_dict)"
   ]
  },
  {
   "cell_type": "code",
   "execution_count": 34,
   "metadata": {},
   "outputs": [],
   "source": [
    "tdf = df_to_tensors('SimulatedTreatment', d, ['h0', 'h1', 'treatment', 'fungus'])"
   ]
  },
  {
   "cell_type": "markdown",
   "metadata": {},
   "source": [
    "### 6.2.1 A prior is born\n",
    "\n",
    "We will use a prior (see Code 6.14) that expects anything from 40% shrinkage up to 50% growth"
   ]
  },
  {
   "cell_type": "markdown",
   "metadata": {},
   "source": [
    "##### Code 6.14"
   ]
  },
  {
   "cell_type": "code",
   "execution_count": 35,
   "metadata": {},
   "outputs": [
    {
     "data": {
      "text/html": [
       "<div>\n",
       "<style scoped>\n",
       "    .dataframe tbody tr th:only-of-type {\n",
       "        vertical-align: middle;\n",
       "    }\n",
       "\n",
       "    .dataframe tbody tr th {\n",
       "        vertical-align: top;\n",
       "    }\n",
       "\n",
       "    .dataframe thead th {\n",
       "        text-align: right;\n",
       "    }\n",
       "</style>\n",
       "<table border=\"1\" class=\"dataframe\">\n",
       "  <thead>\n",
       "    <tr style=\"text-align: right;\">\n",
       "      <th></th>\n",
       "      <th>mean</th>\n",
       "      <th>sd</th>\n",
       "      <th>hdi_5.5%</th>\n",
       "      <th>hdi_94.5%</th>\n",
       "    </tr>\n",
       "  </thead>\n",
       "  <tbody>\n",
       "    <tr>\n",
       "      <th>sim_p</th>\n",
       "      <td>1.035</td>\n",
       "      <td>0.258</td>\n",
       "      <td>0.634</td>\n",
       "      <td>1.421</td>\n",
       "    </tr>\n",
       "  </tbody>\n",
       "</table>\n",
       "</div>"
      ],
      "text/plain": [
       "        mean     sd  hdi_5.5%  hdi_94.5%\n",
       "sim_p  1.035  0.258     0.634      1.421"
      ]
     },
     "execution_count": 35,
     "metadata": {},
     "output_type": "execute_result"
    }
   ],
   "source": [
    "sim_p = tfd.LogNormal(loc=0., scale=0.25).sample((int(1e4),))\n",
    "az.summary({\"sim_p\" : sim_p}, kind=\"stats\", hdi_prob=0.89)"
   ]
  },
  {
   "cell_type": "markdown",
   "metadata": {},
   "source": [
    "##### Code 6.15\n",
    "\n",
    "In this model only height (h0) as the predictor is included"
   ]
  },
  {
   "cell_type": "code",
   "execution_count": 36,
   "metadata": {},
   "outputs": [],
   "source": [
    "def model_6_6(h0):\n",
    "    def _generator():\n",
    "      p = yield Root(tfd.Sample(tfd.LogNormal(loc=0., scale=0.25, name=\"p\"), sample_shape=1))      \n",
    "      sigma = yield Root(tfd.Sample(tfd.Exponential(rate=1., name=\"sigma\"), sample_shape=1))\n",
    "        \n",
    "      mu = tf.squeeze(h0[tf.newaxis,...] * p[...,tf.newaxis])\n",
    "      scale = sigma[..., tf.newaxis]  \n",
    "        \n",
    "      h1 = yield tfd.Independent(tfd.Normal(loc=mu, scale=scale, name=\"h1\"), reinterpreted_batch_ndims=1)\n",
    "\n",
    "    return tfd.JointDistributionCoroutine(_generator, validate_args=False)    \n",
    "    \n",
    "jdc_6_6 = model_6_6(tdf.h0)"
   ]
  },
  {
   "cell_type": "code",
   "execution_count": 37,
   "metadata": {},
   "outputs": [
    {
     "name": "stdout",
     "output_type": "stream",
     "text": [
      "WARNING:tensorflow:6 out of the last 6 calls to <function run_hmc_chain at 0x1404c1b90> triggered tf.function retracing. Tracing is expensive and the excessive number of tracings could be due to (1) creating @tf.function repeatedly in a loop, (2) passing tensors with different shapes, (3) passing Python objects instead of tensors. For (1), please define your @tf.function outside of the loop. For (2), @tf.function has experimental_relax_shapes=True option that relaxes argument shapes that can avoid unnecessary retracing. For (3), please refer to https://www.tensorflow.org/tutorials/customization/performance#python_or_tensor_args and https://www.tensorflow.org/api_docs/python/tf/function for  more details.\n"
     ]
    },
    {
     "data": {
      "text/html": [
       "<div>\n",
       "<style scoped>\n",
       "    .dataframe tbody tr th:only-of-type {\n",
       "        vertical-align: middle;\n",
       "    }\n",
       "\n",
       "    .dataframe tbody tr th {\n",
       "        vertical-align: top;\n",
       "    }\n",
       "\n",
       "    .dataframe thead th {\n",
       "        text-align: right;\n",
       "    }\n",
       "</style>\n",
       "<table border=\"1\" class=\"dataframe\">\n",
       "  <thead>\n",
       "    <tr style=\"text-align: right;\">\n",
       "      <th></th>\n",
       "      <th>mean</th>\n",
       "      <th>sd</th>\n",
       "      <th>hdi_5.5%</th>\n",
       "      <th>hdi_94.5%</th>\n",
       "      <th>mcse_mean</th>\n",
       "      <th>mcse_sd</th>\n",
       "      <th>ess_mean</th>\n",
       "      <th>ess_sd</th>\n",
       "      <th>ess_bulk</th>\n",
       "      <th>ess_tail</th>\n",
       "      <th>r_hat</th>\n",
       "    </tr>\n",
       "  </thead>\n",
       "  <tbody>\n",
       "    <tr>\n",
       "      <th>p</th>\n",
       "      <td>1.357</td>\n",
       "      <td>0.019</td>\n",
       "      <td>1.327</td>\n",
       "      <td>1.387</td>\n",
       "      <td>0.000</td>\n",
       "      <td>0.000</td>\n",
       "      <td>1527.0</td>\n",
       "      <td>1527.0</td>\n",
       "      <td>1559.0</td>\n",
       "      <td>1581.0</td>\n",
       "      <td>1.0</td>\n",
       "    </tr>\n",
       "    <tr>\n",
       "      <th>sigma</th>\n",
       "      <td>1.900</td>\n",
       "      <td>0.131</td>\n",
       "      <td>1.703</td>\n",
       "      <td>2.112</td>\n",
       "      <td>0.004</td>\n",
       "      <td>0.003</td>\n",
       "      <td>1320.0</td>\n",
       "      <td>1320.0</td>\n",
       "      <td>1321.0</td>\n",
       "      <td>1718.0</td>\n",
       "      <td>1.0</td>\n",
       "    </tr>\n",
       "  </tbody>\n",
       "</table>\n",
       "</div>"
      ],
      "text/plain": [
       "        mean     sd  hdi_5.5%  hdi_94.5%  mcse_mean  mcse_sd  ess_mean  \\\n",
       "p      1.357  0.019     1.327      1.387      0.000    0.000    1527.0   \n",
       "sigma  1.900  0.131     1.703      2.112      0.004    0.003    1320.0   \n",
       "\n",
       "       ess_sd  ess_bulk  ess_tail  r_hat  \n",
       "p      1527.0    1559.0    1581.0    1.0  \n",
       "sigma  1320.0    1321.0    1718.0    1.0  "
      ]
     },
     "execution_count": 37,
     "metadata": {},
     "output_type": "execute_result"
    }
   ],
   "source": [
    "NUM_CHAINS_FOR_6_6 = 2\n",
    "\n",
    "init_state = [\n",
    "    tf.ones([NUM_CHAINS_FOR_6_6]),\n",
    "    tf.ones([NUM_CHAINS_FOR_6_6])    \n",
    "]\n",
    "\n",
    "init_config = dict(\n",
    "    p     = dict(state=init_state[0], bijector=tfb.Exp()),\n",
    "    sigma = dict(state=init_state[1], bijector=tfb.Exp()),\n",
    ")\n",
    "\n",
    "posterior_6_6, trace_6_6 = sample_posterior(\n",
    "                    jdc_6_6, \n",
    "                    observed_data=(tdf.h1,), \n",
    "                    num_samples=2000,\n",
    "                    init_config=init_config\n",
    ")\n",
    "\n",
    "az.summary(trace_6_6, hdi_prob=0.89)"
   ]
  },
  {
   "cell_type": "markdown",
   "metadata": {},
   "source": [
    "The result shows that with height as the only predictor variable in the model there is about 40% growth on average."
   ]
  },
  {
   "cell_type": "markdown",
   "metadata": {},
   "source": [
    "##### Code 6.16\n",
    "\n",
    "In this model we include treatment & fungus variables as well"
   ]
  },
  {
   "cell_type": "code",
   "execution_count": 38,
   "metadata": {},
   "outputs": [],
   "source": [
    "def model_6_7(h0, treatment, fungus):\n",
    "    def _generator():\n",
    "      a = yield Root(tfd.Sample(tfd.LogNormal(loc=0., scale=0.2, name=\"a\"), sample_shape=1))      \n",
    "      bt = yield Root(tfd.Sample(tfd.Normal(loc=0., scale=0.5, name=\"bt\"), sample_shape=1))    \n",
    "      bf = yield Root(tfd.Sample(tfd.Normal(loc=0., scale=0.5, name=\"bf\"), sample_shape=1))    \n",
    "      sigma = yield Root(tfd.Sample(tfd.Exponential(rate=1., name=\"sigma\"), sample_shape=1))\n",
    "        \n",
    "      p = a[...,tf.newaxis] + bt[...,tf.newaxis] * treatment + bf[...,tf.newaxis] * fungus\n",
    "        \n",
    "      mu = h0 * p\n",
    "      scale = sigma[..., tf.newaxis]  \n",
    "        \n",
    "      h1 = yield tfd.Independent(tfd.Normal(loc=mu, scale=scale, name=\"h1\"), reinterpreted_batch_ndims=1)\n",
    "\n",
    "    return tfd.JointDistributionCoroutine(_generator, validate_args=False)    \n",
    "    \n",
    "jdc_6_7 = model_6_7(tdf.h0, tdf.treatment, tdf.fungus)"
   ]
  },
  {
   "cell_type": "code",
   "execution_count": 39,
   "metadata": {},
   "outputs": [
    {
     "name": "stdout",
     "output_type": "stream",
     "text": [
      "WARNING:tensorflow:7 out of the last 7 calls to <function run_hmc_chain at 0x1404c1b90> triggered tf.function retracing. Tracing is expensive and the excessive number of tracings could be due to (1) creating @tf.function repeatedly in a loop, (2) passing tensors with different shapes, (3) passing Python objects instead of tensors. For (1), please define your @tf.function outside of the loop. For (2), @tf.function has experimental_relax_shapes=True option that relaxes argument shapes that can avoid unnecessary retracing. For (3), please refer to https://www.tensorflow.org/tutorials/customization/performance#python_or_tensor_args and https://www.tensorflow.org/api_docs/python/tf/function for  more details.\n"
     ]
    },
    {
     "data": {
      "text/html": [
       "<div>\n",
       "<style scoped>\n",
       "    .dataframe tbody tr th:only-of-type {\n",
       "        vertical-align: middle;\n",
       "    }\n",
       "\n",
       "    .dataframe tbody tr th {\n",
       "        vertical-align: top;\n",
       "    }\n",
       "\n",
       "    .dataframe thead th {\n",
       "        text-align: right;\n",
       "    }\n",
       "</style>\n",
       "<table border=\"1\" class=\"dataframe\">\n",
       "  <thead>\n",
       "    <tr style=\"text-align: right;\">\n",
       "      <th></th>\n",
       "      <th>mean</th>\n",
       "      <th>sd</th>\n",
       "      <th>hdi_5.5%</th>\n",
       "      <th>hdi_94.5%</th>\n",
       "      <th>mcse_mean</th>\n",
       "      <th>mcse_sd</th>\n",
       "      <th>ess_mean</th>\n",
       "      <th>ess_sd</th>\n",
       "      <th>ess_bulk</th>\n",
       "      <th>ess_tail</th>\n",
       "      <th>r_hat</th>\n",
       "    </tr>\n",
       "  </thead>\n",
       "  <tbody>\n",
       "    <tr>\n",
       "      <th>a</th>\n",
       "      <td>1.453</td>\n",
       "      <td>0.029</td>\n",
       "      <td>1.407</td>\n",
       "      <td>1.499</td>\n",
       "      <td>0.001</td>\n",
       "      <td>0.001</td>\n",
       "      <td>825.0</td>\n",
       "      <td>820.0</td>\n",
       "      <td>827.0</td>\n",
       "      <td>705.0</td>\n",
       "      <td>1.0</td>\n",
       "    </tr>\n",
       "    <tr>\n",
       "      <th>bt</th>\n",
       "      <td>-0.010</td>\n",
       "      <td>0.034</td>\n",
       "      <td>-0.062</td>\n",
       "      <td>0.044</td>\n",
       "      <td>0.001</td>\n",
       "      <td>0.001</td>\n",
       "      <td>914.0</td>\n",
       "      <td>613.0</td>\n",
       "      <td>918.0</td>\n",
       "      <td>594.0</td>\n",
       "      <td>1.0</td>\n",
       "    </tr>\n",
       "    <tr>\n",
       "      <th>bf</th>\n",
       "      <td>-0.275</td>\n",
       "      <td>0.035</td>\n",
       "      <td>-0.331</td>\n",
       "      <td>-0.219</td>\n",
       "      <td>0.001</td>\n",
       "      <td>0.001</td>\n",
       "      <td>1132.0</td>\n",
       "      <td>1115.0</td>\n",
       "      <td>1134.0</td>\n",
       "      <td>685.0</td>\n",
       "      <td>1.0</td>\n",
       "    </tr>\n",
       "    <tr>\n",
       "      <th>sigma</th>\n",
       "      <td>1.398</td>\n",
       "      <td>0.097</td>\n",
       "      <td>1.257</td>\n",
       "      <td>1.555</td>\n",
       "      <td>0.005</td>\n",
       "      <td>0.003</td>\n",
       "      <td>399.0</td>\n",
       "      <td>399.0</td>\n",
       "      <td>395.0</td>\n",
       "      <td>888.0</td>\n",
       "      <td>1.0</td>\n",
       "    </tr>\n",
       "  </tbody>\n",
       "</table>\n",
       "</div>"
      ],
      "text/plain": [
       "        mean     sd  hdi_5.5%  hdi_94.5%  mcse_mean  mcse_sd  ess_mean  \\\n",
       "a      1.453  0.029     1.407      1.499      0.001    0.001     825.0   \n",
       "bt    -0.010  0.034    -0.062      0.044      0.001    0.001     914.0   \n",
       "bf    -0.275  0.035    -0.331     -0.219      0.001    0.001    1132.0   \n",
       "sigma  1.398  0.097     1.257      1.555      0.005    0.003     399.0   \n",
       "\n",
       "       ess_sd  ess_bulk  ess_tail  r_hat  \n",
       "a       820.0     827.0     705.0    1.0  \n",
       "bt      613.0     918.0     594.0    1.0  \n",
       "bf     1115.0    1134.0     685.0    1.0  \n",
       "sigma   399.0     395.0     888.0    1.0  "
      ]
     },
     "execution_count": 39,
     "metadata": {},
     "output_type": "execute_result"
    }
   ],
   "source": [
    "init_state = [\n",
    "    tf.ones([MCMC_NUMBER_OF_CHAINS]),\n",
    "    tf.zeros([MCMC_NUMBER_OF_CHAINS]),\n",
    "    tf.zeros([MCMC_NUMBER_OF_CHAINS]),\n",
    "    tf.ones([MCMC_NUMBER_OF_CHAINS])    \n",
    "]\n",
    "\n",
    "init_config = dict(\n",
    "    a     = dict(state=init_state[0], bijector=tfb.Exp()),\n",
    "    bt    = dict(state=init_state[1], bijector=tfb.Identity()),\n",
    "    bf    = dict(state=init_state[2], bijector=tfb.Identity()),\n",
    "    sigma = dict(state=init_state[3], bijector=tfb.Exp()),\n",
    ")\n",
    "\n",
    "posterior_6_7, trace_6_7 = sample_posterior(\n",
    "                    jdc_6_7, \n",
    "                    observed_data=(tdf.h1,), \n",
    "                    init_config=init_config,\n",
    "                    num_samples=2000)\n",
    "\n",
    "az.summary(trace_6_7, hdi_prob=0.89)"
   ]
  },
  {
   "cell_type": "markdown",
   "metadata": {},
   "source": [
    "Note that `a` is same as `p` in the previous model i.e. about 40% growth on average\n",
    "\n",
    "Marginal posterior for `bt` (effect of treatment) is about 0 with a tight interval. This implies treatment is not associated with the growth.\n",
    "\n",
    "Fungus (`bf`) seems to actually hurt the growth. \n",
    "\n",
    "Clearly this does not makes us happy because we know that the treatment does matter. Next section tries to find the answers."
   ]
  },
  {
   "cell_type": "markdown",
   "metadata": {},
   "source": [
    "### 6.2.2 Blocked by consequence\n",
    "\n",
    "Fungus is a consequence of treatment i.e. fungus is a **post-treatment** variable.\n",
    "\n",
    "When we include Fungus variable, the model tries to find whether a plat developed fungus or not. However, what we really want to understand is the impact of treatment on growth. \n",
    "\n",
    "This can be done by omitting the post-treatment variable *fungus*"
   ]
  },
  {
   "cell_type": "markdown",
   "metadata": {},
   "source": [
    "##### Code 6.17\n",
    "\n",
    "In this model, fungus predictor is not included"
   ]
  },
  {
   "cell_type": "code",
   "execution_count": 40,
   "metadata": {},
   "outputs": [],
   "source": [
    "def model_6_8(h0, treatment):\n",
    "    def _generator():\n",
    "      a = yield Root(tfd.Sample(tfd.LogNormal(loc=0., scale=0.2, name=\"a\"), sample_shape=1))      \n",
    "      bt = yield Root(tfd.Sample(tfd.Normal(loc=0., scale=0.5, name=\"bt\"), sample_shape=1))    \n",
    "      sigma = yield Root(tfd.Sample(tfd.Exponential(rate=1., name=\"sigma\"), sample_shape=1))\n",
    "        \n",
    "      p = a[...,tf.newaxis] + bt[...,tf.newaxis] * treatment \n",
    "        \n",
    "      mu = h0 * p\n",
    "      scale = sigma[..., tf.newaxis]  \n",
    "        \n",
    "      h1 = yield tfd.Independent(tfd.Normal(loc=mu, scale=scale, name=\"h1\"), reinterpreted_batch_ndims=1)\n",
    "\n",
    "    return tfd.JointDistributionCoroutine(_generator, validate_args=False)    \n",
    "    \n",
    "jdc_6_8 = model_6_8(tdf.h0, tdf.treatment)"
   ]
  },
  {
   "cell_type": "code",
   "execution_count": 41,
   "metadata": {},
   "outputs": [
    {
     "name": "stdout",
     "output_type": "stream",
     "text": [
      "WARNING:tensorflow:8 out of the last 8 calls to <function run_hmc_chain at 0x1404c1b90> triggered tf.function retracing. Tracing is expensive and the excessive number of tracings could be due to (1) creating @tf.function repeatedly in a loop, (2) passing tensors with different shapes, (3) passing Python objects instead of tensors. For (1), please define your @tf.function outside of the loop. For (2), @tf.function has experimental_relax_shapes=True option that relaxes argument shapes that can avoid unnecessary retracing. For (3), please refer to https://www.tensorflow.org/tutorials/customization/performance#python_or_tensor_args and https://www.tensorflow.org/api_docs/python/tf/function for  more details.\n"
     ]
    },
    {
     "data": {
      "text/html": [
       "<div>\n",
       "<style scoped>\n",
       "    .dataframe tbody tr th:only-of-type {\n",
       "        vertical-align: middle;\n",
       "    }\n",
       "\n",
       "    .dataframe tbody tr th {\n",
       "        vertical-align: top;\n",
       "    }\n",
       "\n",
       "    .dataframe thead th {\n",
       "        text-align: right;\n",
       "    }\n",
       "</style>\n",
       "<table border=\"1\" class=\"dataframe\">\n",
       "  <thead>\n",
       "    <tr style=\"text-align: right;\">\n",
       "      <th></th>\n",
       "      <th>mean</th>\n",
       "      <th>sd</th>\n",
       "      <th>hdi_5.5%</th>\n",
       "      <th>hdi_94.5%</th>\n",
       "      <th>mcse_mean</th>\n",
       "      <th>mcse_sd</th>\n",
       "      <th>ess_mean</th>\n",
       "      <th>ess_sd</th>\n",
       "      <th>ess_bulk</th>\n",
       "      <th>ess_tail</th>\n",
       "      <th>r_hat</th>\n",
       "    </tr>\n",
       "  </thead>\n",
       "  <tbody>\n",
       "    <tr>\n",
       "      <th>a</th>\n",
       "      <td>1.287</td>\n",
       "      <td>0.025</td>\n",
       "      <td>1.247</td>\n",
       "      <td>1.328</td>\n",
       "      <td>0.001</td>\n",
       "      <td>0.000</td>\n",
       "      <td>2467.0</td>\n",
       "      <td>2454.0</td>\n",
       "      <td>2469.0</td>\n",
       "      <td>1572.0</td>\n",
       "      <td>1.0</td>\n",
       "    </tr>\n",
       "    <tr>\n",
       "      <th>bt</th>\n",
       "      <td>0.134</td>\n",
       "      <td>0.035</td>\n",
       "      <td>0.080</td>\n",
       "      <td>0.191</td>\n",
       "      <td>0.001</td>\n",
       "      <td>0.000</td>\n",
       "      <td>3476.0</td>\n",
       "      <td>3476.0</td>\n",
       "      <td>3498.0</td>\n",
       "      <td>1341.0</td>\n",
       "      <td>1.0</td>\n",
       "    </tr>\n",
       "    <tr>\n",
       "      <th>sigma</th>\n",
       "      <td>1.792</td>\n",
       "      <td>0.130</td>\n",
       "      <td>1.568</td>\n",
       "      <td>1.983</td>\n",
       "      <td>0.004</td>\n",
       "      <td>0.003</td>\n",
       "      <td>988.0</td>\n",
       "      <td>982.0</td>\n",
       "      <td>1007.0</td>\n",
       "      <td>1461.0</td>\n",
       "      <td>1.0</td>\n",
       "    </tr>\n",
       "  </tbody>\n",
       "</table>\n",
       "</div>"
      ],
      "text/plain": [
       "        mean     sd  hdi_5.5%  hdi_94.5%  mcse_mean  mcse_sd  ess_mean  \\\n",
       "a      1.287  0.025     1.247      1.328      0.001    0.000    2467.0   \n",
       "bt     0.134  0.035     0.080      0.191      0.001    0.000    3476.0   \n",
       "sigma  1.792  0.130     1.568      1.983      0.004    0.003     988.0   \n",
       "\n",
       "       ess_sd  ess_bulk  ess_tail  r_hat  \n",
       "a      2454.0    2469.0    1572.0    1.0  \n",
       "bt     3476.0    3498.0    1341.0    1.0  \n",
       "sigma   982.0    1007.0    1461.0    1.0  "
      ]
     },
     "execution_count": 41,
     "metadata": {},
     "output_type": "execute_result"
    }
   ],
   "source": [
    "init_state = [\n",
    "    tf.ones([MCMC_NUMBER_OF_CHAINS]),\n",
    "    tf.zeros([MCMC_NUMBER_OF_CHAINS]),\n",
    "    tf.ones([MCMC_NUMBER_OF_CHAINS])    \n",
    "]\n",
    "\n",
    "init_config = dict(\n",
    "    a     = dict(state=init_state[0], bijector=tfb.Exp()),\n",
    "    bt    = dict(state=init_state[1], bijector=tfb.Identity()),\n",
    "    sigma = dict(state=init_state[2], bijector=tfb.Exp()),\n",
    ")\n",
    "\n",
    "posterior_6_8, trace_6_8 = sample_posterior(\n",
    "                    jdc_6_8, \n",
    "                    observed_data=(tdf.h1,), \n",
    "                    init_config=init_config,\n",
    "                    num_samples=2000)\n",
    "\n",
    "az.summary(trace_6_8, hdi_prob=0.89)"
   ]
  },
  {
   "cell_type": "markdown",
   "metadata": {},
   "source": [
    "We can now see that `bt` (effect of treatment) has a positive impact on the model."
   ]
  },
  {
   "cell_type": "markdown",
   "metadata": {},
   "source": [
    "### 6.2.3 Fungus and d-separation\n",
    "\n",
    "Above we built models by including and excluding various potential predictors. However, it helps to represent these relations graphically with the help of DAG."
   ]
  },
  {
   "cell_type": "markdown",
   "metadata": {},
   "source": [
    "##### Code 6.18\n",
    "\n",
    "Here we are using `causalgraphicalmodel` package"
   ]
  },
  {
   "cell_type": "code",
   "execution_count": 42,
   "metadata": {},
   "outputs": [
    {
     "data": {
      "image/png": "[encoded data removed]",
      "text/plain": [
       "<Figure size 266.457x39.685 with 1 Axes>"
      ]
     },
     "metadata": {},
     "output_type": "display_data"
    }
   ],
   "source": [
    "plant_dag = CausalGraphicalModel(\n",
    "    nodes=[\"H0\", \"H1\", \"F\", \"T\"],\n",
    "    edges=[(\"H0\", \"H1\"),\n",
    "           (\"F\", \"H1\"),\n",
    "           (\"T\", \"F\")])\n",
    "pgm = daft.PGM()\n",
    "coordinates = {\"H0\": (0, 0), \"T\": (4, 0), \"F\": (3, 0), \"H1\": (2, 0)}\n",
    "for node in plant_dag.dag.nodes:\n",
    "    pgm.add_node(node, node, *coordinates[node])\n",
    "for edge in plant_dag.dag.edges:\n",
    "    pgm.add_edge(*edge)\n",
    "pgm.render()\n",
    "plt.gca().invert_yaxis()"
   ]
  },
  {
   "cell_type": "markdown",
   "metadata": {},
   "source": [
    "The graph clearly shows how treatment's (T) impact on height (H1) is **blocked** by fungus (F)\n",
    "\n",
    "Another way to say above is - If we condition on F it induces **D-SEPARATION**. The \"d\" stands for *directional*\n",
    "\n",
    "H1 is conditionally independent of T if we include F (the blocker)\n"
   ]
  },
  {
   "cell_type": "markdown",
   "metadata": {},
   "source": [
    "##### Code 6.19"
   ]
  },
  {
   "cell_type": "code",
   "execution_count": 43,
   "metadata": {},
   "outputs": [
    {
     "name": "stdout",
     "output_type": "stream",
     "text": [
      "('F', 'H0', set())\n",
      "('H1', 'T', {'F'})\n",
      "('T', 'H0', set())\n"
     ]
    }
   ],
   "source": [
    "all_independencies = plant_dag.get_all_independence_relationships()\n",
    "for s in all_independencies:\n",
    "    if all(t[0] != s[0] or t[1] != s[1] or not t[2].issubset(s[2])\n",
    "           for t in all_independencies if t != s):\n",
    "        print(s)"
   ]
  },
  {
   "cell_type": "markdown",
   "metadata": {},
   "source": [
    "Here is how we want to read the above result -\n",
    "\n",
    "* H0 is conditionally independent on T  (note the empty set). In other words, original height H0 should not be associated with T\n",
    "\n",
    "* H0 is conditionally independent on F  (note the empty set). In other words, original height H0 should not be associated with F\n",
    "\n",
    "* H1 is conditionally independent on T if we include F"
   ]
  },
  {
   "cell_type": "markdown",
   "metadata": {},
   "source": [
    "##### Code 6.20\n",
    "\n",
    "A synthetic data generation to modifiy the plant growth simulation so that fungus has no influence on growth, but moisture M influences both H1 and F"
   ]
  },
  {
   "cell_type": "code",
   "execution_count": 44,
   "metadata": {},
   "outputs": [
    {
     "data": {
      "text/html": [
       "<div>\n",
       "<style scoped>\n",
       "    .dataframe tbody tr th:only-of-type {\n",
       "        vertical-align: middle;\n",
       "    }\n",
       "\n",
       "    .dataframe tbody tr th {\n",
       "        vertical-align: top;\n",
       "    }\n",
       "\n",
       "    .dataframe thead th {\n",
       "        text-align: right;\n",
       "    }\n",
       "</style>\n",
       "<table border=\"1\" class=\"dataframe\">\n",
       "  <thead>\n",
       "    <tr style=\"text-align: right;\">\n",
       "      <th></th>\n",
       "      <th>mean</th>\n",
       "      <th>sd</th>\n",
       "      <th>hdi_5.5%</th>\n",
       "      <th>hdi_94.5%</th>\n",
       "    </tr>\n",
       "  </thead>\n",
       "  <tbody>\n",
       "    <tr>\n",
       "      <th>h0</th>\n",
       "      <td>9.994</td>\n",
       "      <td>2.06</td>\n",
       "      <td>6.494</td>\n",
       "      <td>12.935</td>\n",
       "    </tr>\n",
       "    <tr>\n",
       "      <th>h1</th>\n",
       "      <td>16.544</td>\n",
       "      <td>2.80</td>\n",
       "      <td>12.268</td>\n",
       "      <td>20.809</td>\n",
       "    </tr>\n",
       "    <tr>\n",
       "      <th>treatment</th>\n",
       "      <td>0.500</td>\n",
       "      <td>0.50</td>\n",
       "      <td>0.000</td>\n",
       "      <td>1.000</td>\n",
       "    </tr>\n",
       "    <tr>\n",
       "      <th>fungus</th>\n",
       "      <td>0.491</td>\n",
       "      <td>0.50</td>\n",
       "      <td>0.000</td>\n",
       "      <td>1.000</td>\n",
       "    </tr>\n",
       "  </tbody>\n",
       "</table>\n",
       "</div>"
      ],
      "text/plain": [
       "             mean    sd  hdi_5.5%  hdi_94.5%\n",
       "h0          9.994  2.06     6.494     12.935\n",
       "h1         16.544  2.80    12.268     20.809\n",
       "treatment   0.500  0.50     0.000      1.000\n",
       "fungus      0.491  0.50     0.000      1.000"
      ]
     },
     "execution_count": 44,
     "metadata": {},
     "output_type": "execute_result"
    }
   ],
   "source": [
    "_SEED = 71\n",
    "\n",
    "# Note - even after providing SeedStream and generated seeds\n",
    "# it still does not respect it\n",
    "def simulate():\n",
    "    seed = tfp.util.SeedStream(_SEED, salt=\"sim_heights\")\n",
    "\n",
    "    # number of plants\n",
    "    N = 1000\n",
    "\n",
    "    # simulate initial heights\n",
    "    h0 = tfd.Normal(loc=10., scale=2.).sample(N, seed=seed())\n",
    "\n",
    "    # assign treatments and simulate fungus and growth\n",
    "    treatment = tf.repeat([0., 1.], repeats=N // 2)\n",
    "    \n",
    "    M = tf.cast(tfd.Bernoulli(probs=0.5).sample(N, seed=seed()), dtype=tf.float32)\n",
    "    \n",
    "    fungus = tfd.Binomial(total_count=1., probs=(0.5 - treatment * 0.4 + M * 0.4)).sample(seed=seed())\n",
    "    \n",
    "    h1 = h0 + tfd.Normal(loc=5. + 3. * M, scale=1.).sample(seed=seed())\n",
    "\n",
    "    # compose a clean data frame\n",
    "    d = {\"h0\":h0, \"h1\":h1, \"treatment\":treatment, \"fungus\":fungus}\n",
    "    \n",
    "    return d\n",
    "    \n",
    "d = simulate()\n",
    "\n",
    "az.summary(d, kind=\"stats\", hdi_prob=0.89)"
   ]
  },
  {
   "cell_type": "markdown",
   "metadata": {},
   "source": [
    "## 6.3 Collider bias"
   ]
  },
  {
   "cell_type": "markdown",
   "metadata": {},
   "source": [
    "### 6.3.1 Collider of false sorrow\n",
    "\n",
    "\n",
    "Question we consider in this section is how aging influences happiness ?\n",
    "\n",
    "We also know that happiness (H) & age (A) both cause marriage (M). This makes marriage (M) a **collider**\n",
    "\n",
    "H ----> M <----- A\n"
   ]
  },
  {
   "cell_type": "markdown",
   "metadata": {},
   "source": [
    "##### Code 6.21\n",
    "\n",
    "Simulating (synthetic data generation) happiness and its relationship with age & marriage\n",
    "\n",
    "* Each year, 20 people are born with uniformly distributed happiness values\n",
    "* Each year, each person ages one year. Happiness does not change.\n",
    "* At age 18, individuals can be married. The odds of marriage each year are proportional to an individual's happiness\n",
    "* Once married, an individual remains married\n",
    "* After age 65, individuals leave the sample. (They move to Spain)"
   ]
  },
  {
   "cell_type": "code",
   "execution_count": 45,
   "metadata": {},
   "outputs": [],
   "source": [
    "# Port of R code from here https://github.com/rmcelreath/rethinking/blob/master/R/sim_happiness.R\n",
    "def sim_happiness(seed=1977, N_years=1000, max_age=65, N_births=20, aom=18):\n",
    "    # age existing individuals & newborns\n",
    "    A = np.repeat(np.arange(1, N_years + 1), N_births)\n",
    "    # sim happiness trait - never changes\n",
    "    H = np.repeat(np.linspace(-2, 2, N_births)[None, :], N_years, 0).reshape(-1)\n",
    "    # not yet married\n",
    "    M = np.zeros(N_years * N_births, dtype=np.uint8)\n",
    "\n",
    "    def update_M(i, M):\n",
    "        # for each person over 17, chance get married\n",
    "        married = tfd.Bernoulli(logits=(H - 4.)).sample(seed=seed + i).numpy()\n",
    "        return np.where((A >= i) & (M == 0.), married, M)\n",
    "\n",
    "    def fori_loop(lower, upper, body_fun, init_val):\n",
    "        val = init_val\n",
    "        for i in range(lower, upper):\n",
    "            val = body_fun(i, val)\n",
    "        return val\n",
    "    \n",
    "    M = fori_loop(aom, max_age+1, update_M, M)    \n",
    "\n",
    "    # mortality\n",
    "    deaths = A > max_age\n",
    "    A = A[~deaths]\n",
    "    H = H[~deaths]\n",
    "    M = M[~deaths]\n",
    "\n",
    "    d = pd.DataFrame({\"age\": A, \"married\": M, \"happiness\": H})\n",
    "    return d\n",
    "\n",
    "d = sim_happiness(seed=1977, N_years=1000)"
   ]
  },
  {
   "cell_type": "code",
   "execution_count": 46,
   "metadata": {},
   "outputs": [
    {
     "data": {
      "text/html": [
       "<div>\n",
       "<style scoped>\n",
       "    .dataframe tbody tr th:only-of-type {\n",
       "        vertical-align: middle;\n",
       "    }\n",
       "\n",
       "    .dataframe tbody tr th {\n",
       "        vertical-align: top;\n",
       "    }\n",
       "\n",
       "    .dataframe thead th {\n",
       "        text-align: right;\n",
       "    }\n",
       "</style>\n",
       "<table border=\"1\" class=\"dataframe\">\n",
       "  <thead>\n",
       "    <tr style=\"text-align: right;\">\n",
       "      <th></th>\n",
       "      <th>age</th>\n",
       "      <th>married</th>\n",
       "      <th>happiness</th>\n",
       "    </tr>\n",
       "  </thead>\n",
       "  <tbody>\n",
       "    <tr>\n",
       "      <th>count</th>\n",
       "      <td>1300.000000</td>\n",
       "      <td>1300.000000</td>\n",
       "      <td>1.300000e+03</td>\n",
       "    </tr>\n",
       "    <tr>\n",
       "      <th>mean</th>\n",
       "      <td>33.000000</td>\n",
       "      <td>0.292308</td>\n",
       "      <td>-8.335213e-17</td>\n",
       "    </tr>\n",
       "    <tr>\n",
       "      <th>std</th>\n",
       "      <td>18.768883</td>\n",
       "      <td>0.454998</td>\n",
       "      <td>1.214421e+00</td>\n",
       "    </tr>\n",
       "    <tr>\n",
       "      <th>min</th>\n",
       "      <td>1.000000</td>\n",
       "      <td>0.000000</td>\n",
       "      <td>-2.000000e+00</td>\n",
       "    </tr>\n",
       "    <tr>\n",
       "      <th>25%</th>\n",
       "      <td>17.000000</td>\n",
       "      <td>0.000000</td>\n",
       "      <td>-1.000000e+00</td>\n",
       "    </tr>\n",
       "    <tr>\n",
       "      <th>50%</th>\n",
       "      <td>33.000000</td>\n",
       "      <td>0.000000</td>\n",
       "      <td>-1.110223e-16</td>\n",
       "    </tr>\n",
       "    <tr>\n",
       "      <th>75%</th>\n",
       "      <td>49.000000</td>\n",
       "      <td>1.000000</td>\n",
       "      <td>1.000000e+00</td>\n",
       "    </tr>\n",
       "    <tr>\n",
       "      <th>max</th>\n",
       "      <td>65.000000</td>\n",
       "      <td>1.000000</td>\n",
       "      <td>2.000000e+00</td>\n",
       "    </tr>\n",
       "  </tbody>\n",
       "</table>\n",
       "</div>"
      ],
      "text/plain": [
       "               age      married     happiness\n",
       "count  1300.000000  1300.000000  1.300000e+03\n",
       "mean     33.000000     0.292308 -8.335213e-17\n",
       "std      18.768883     0.454998  1.214421e+00\n",
       "min       1.000000     0.000000 -2.000000e+00\n",
       "25%      17.000000     0.000000 -1.000000e+00\n",
       "50%      33.000000     0.000000 -1.110223e-16\n",
       "75%      49.000000     1.000000  1.000000e+00\n",
       "max      65.000000     1.000000  2.000000e+00"
      ]
     },
     "execution_count": 46,
     "metadata": {},
     "output_type": "execute_result"
    }
   ],
   "source": [
    "d.describe()"
   ]
  },
  {
   "cell_type": "markdown",
   "metadata": {},
   "source": [
    "##### Code 6.22\n",
    "\n",
    "Rescaling age so that the range from 18 to 65 is one unit\n",
    "\n",
    "We are adding a new column called \"A\" that ranges from 0 to 1 where 0 is age 18 and 1 is age 65\n",
    "\n",
    "Happiness is on an arbitary scale from -2 to +2 "
   ]
  },
  {
   "cell_type": "code",
   "execution_count": 47,
   "metadata": {},
   "outputs": [],
   "source": [
    "d2 = d[d.age > 17].copy()  # only adults\n",
    "d2[\"A\"] = (d2.age - 18) / (65 - 18)"
   ]
  },
  {
   "cell_type": "markdown",
   "metadata": {},
   "source": [
    "##### Code 6.23\n",
    "\n",
    "Here we are doing multiple regression. The linear model is \n",
    "\n",
    "$\\mu_i$ = $\\alpha_{MID[i]}$ + $\\beta_A$ * $A_i$"
   ]
  },
  {
   "cell_type": "code",
   "execution_count": 48,
   "metadata": {},
   "outputs": [],
   "source": [
    "d2[\"mid\"] = d2.married\n",
    "\n",
    "tdf = df_to_tensors('SimulatedHappiness', d2, {\n",
    "    'mid' : tf.int32,\n",
    "    'A'   : tf.float32,\n",
    "    'happiness' : tf.float32\n",
    "})\n",
    "\n",
    "def model_6_9(mid, A):\n",
    "    def _generator():\n",
    "      a = yield Root(tfd.Sample(tfd.Normal(loc=0., scale=1., name=\"a\"), sample_shape=2))      \n",
    "      bA = yield Root(tfd.Sample(tfd.Normal(loc=0., scale=2., name=\"bA\"), sample_shape=1))    \n",
    "      sigma = yield Root(tfd.Sample(tfd.Exponential(rate=1., name=\"sigma\"), sample_shape=1))\n",
    "        \n",
    "      mu = tf.squeeze(tf.gather(a, mid, axis=-1)) + bA[...,tf.newaxis] * A        \n",
    "      scale = sigma[..., tf.newaxis]  \n",
    "        \n",
    "      h = yield tfd.Independent(tfd.Normal(loc=mu, scale=scale, name=\"h\"), reinterpreted_batch_ndims=1)\n",
    "\n",
    "    return tfd.JointDistributionCoroutine(_generator, validate_args=False)    \n",
    "    \n",
    "jdc_6_9 = model_6_9(mid=tdf.mid, A=tdf.A)"
   ]
  },
  {
   "cell_type": "code",
   "execution_count": 49,
   "metadata": {},
   "outputs": [
    {
     "name": "stdout",
     "output_type": "stream",
     "text": [
      "WARNING:tensorflow:9 out of the last 9 calls to <function run_hmc_chain at 0x1404c1b90> triggered tf.function retracing. Tracing is expensive and the excessive number of tracings could be due to (1) creating @tf.function repeatedly in a loop, (2) passing tensors with different shapes, (3) passing Python objects instead of tensors. For (1), please define your @tf.function outside of the loop. For (2), @tf.function has experimental_relax_shapes=True option that relaxes argument shapes that can avoid unnecessary retracing. For (3), please refer to https://www.tensorflow.org/tutorials/customization/performance#python_or_tensor_args and https://www.tensorflow.org/api_docs/python/tf/function for  more details.\n"
     ]
    },
    {
     "data": {
      "text/html": [
       "<div>\n",
       "<style scoped>\n",
       "    .dataframe tbody tr th:only-of-type {\n",
       "        vertical-align: middle;\n",
       "    }\n",
       "\n",
       "    .dataframe tbody tr th {\n",
       "        vertical-align: top;\n",
       "    }\n",
       "\n",
       "    .dataframe thead th {\n",
       "        text-align: right;\n",
       "    }\n",
       "</style>\n",
       "<table border=\"1\" class=\"dataframe\">\n",
       "  <thead>\n",
       "    <tr style=\"text-align: right;\">\n",
       "      <th></th>\n",
       "      <th>mean</th>\n",
       "      <th>sd</th>\n",
       "      <th>hdi_5.5%</th>\n",
       "      <th>hdi_94.5%</th>\n",
       "      <th>mcse_mean</th>\n",
       "      <th>mcse_sd</th>\n",
       "      <th>ess_mean</th>\n",
       "      <th>ess_sd</th>\n",
       "      <th>ess_bulk</th>\n",
       "      <th>ess_tail</th>\n",
       "      <th>r_hat</th>\n",
       "    </tr>\n",
       "  </thead>\n",
       "  <tbody>\n",
       "    <tr>\n",
       "      <th>a[0]</th>\n",
       "      <td>-0.189</td>\n",
       "      <td>0.061</td>\n",
       "      <td>-0.283</td>\n",
       "      <td>-0.094</td>\n",
       "      <td>0.002</td>\n",
       "      <td>0.001</td>\n",
       "      <td>1211.0</td>\n",
       "      <td>1211.0</td>\n",
       "      <td>1211.0</td>\n",
       "      <td>1831.0</td>\n",
       "      <td>1.0</td>\n",
       "    </tr>\n",
       "    <tr>\n",
       "      <th>a[1]</th>\n",
       "      <td>1.339</td>\n",
       "      <td>0.085</td>\n",
       "      <td>1.202</td>\n",
       "      <td>1.470</td>\n",
       "      <td>0.003</td>\n",
       "      <td>0.002</td>\n",
       "      <td>1017.0</td>\n",
       "      <td>1017.0</td>\n",
       "      <td>1018.0</td>\n",
       "      <td>1639.0</td>\n",
       "      <td>1.0</td>\n",
       "    </tr>\n",
       "    <tr>\n",
       "      <th>bA</th>\n",
       "      <td>-0.836</td>\n",
       "      <td>0.114</td>\n",
       "      <td>-1.017</td>\n",
       "      <td>-0.659</td>\n",
       "      <td>0.004</td>\n",
       "      <td>0.003</td>\n",
       "      <td>940.0</td>\n",
       "      <td>940.0</td>\n",
       "      <td>942.0</td>\n",
       "      <td>1604.0</td>\n",
       "      <td>1.0</td>\n",
       "    </tr>\n",
       "    <tr>\n",
       "      <th>sigma</th>\n",
       "      <td>0.989</td>\n",
       "      <td>0.022</td>\n",
       "      <td>0.954</td>\n",
       "      <td>1.025</td>\n",
       "      <td>0.001</td>\n",
       "      <td>0.000</td>\n",
       "      <td>1007.0</td>\n",
       "      <td>1000.0</td>\n",
       "      <td>1020.0</td>\n",
       "      <td>1243.0</td>\n",
       "      <td>1.0</td>\n",
       "    </tr>\n",
       "  </tbody>\n",
       "</table>\n",
       "</div>"
      ],
      "text/plain": [
       "        mean     sd  hdi_5.5%  hdi_94.5%  mcse_mean  mcse_sd  ess_mean  \\\n",
       "a[0]  -0.189  0.061    -0.283     -0.094      0.002    0.001    1211.0   \n",
       "a[1]   1.339  0.085     1.202      1.470      0.003    0.002    1017.0   \n",
       "bA    -0.836  0.114    -1.017     -0.659      0.004    0.003     940.0   \n",
       "sigma  0.989  0.022     0.954      1.025      0.001    0.000    1007.0   \n",
       "\n",
       "       ess_sd  ess_bulk  ess_tail  r_hat  \n",
       "a[0]   1211.0    1211.0    1831.0    1.0  \n",
       "a[1]   1017.0    1018.0    1639.0    1.0  \n",
       "bA      940.0     942.0    1604.0    1.0  \n",
       "sigma  1000.0    1020.0    1243.0    1.0  "
      ]
     },
     "execution_count": 49,
     "metadata": {},
     "output_type": "execute_result"
    }
   ],
   "source": [
    "NUM_CHAINS_FOR_6_9 = 2\n",
    "\n",
    "init_state = [\n",
    "    tf.ones([NUM_CHAINS_FOR_6_9, 2]),\n",
    "    tf.zeros([NUM_CHAINS_FOR_6_9]),\n",
    "    tf.ones([NUM_CHAINS_FOR_6_9])    \n",
    "]\n",
    "\n",
    "init_config = dict(\n",
    "    a     = dict(state=init_state[0], bijector=tfb.Identity()),\n",
    "    bA    = dict(state=init_state[1], bijector=tfb.Identity()),\n",
    "    sigma = dict(state=init_state[2], bijector=tfb.Exp()),\n",
    ")\n",
    "\n",
    "observed_value = (tdf.happiness,)\n",
    "\n",
    "posterior_6_9, trace_6_9 = sample_posterior(\n",
    "                    jdc_6_9, \n",
    "                    observed_data=observed_value, \n",
    "                    num_samples=2000, \n",
    "                    init_config=init_config\n",
    ")\n",
    "\n",
    "az.summary(trace_6_9, hdi_prob=0.89)"
   ]
  },
  {
   "cell_type": "markdown",
   "metadata": {},
   "source": [
    "The model here is quite sure that age is negatively associated with happiness."
   ]
  },
  {
   "cell_type": "markdown",
   "metadata": {},
   "source": [
    "##### Code 6.24\n",
    "\n",
    "What would happen if omit the marriage status ?\n",
    "\n",
    "Note - $a$ is not any more a vector; just a plain intercept"
   ]
  },
  {
   "cell_type": "code",
   "execution_count": 50,
   "metadata": {},
   "outputs": [],
   "source": [
    "def model_6_10(A):\n",
    "    def _generator():\n",
    "      a = yield Root(tfd.Sample(tfd.Normal(loc=0., scale=1., name=\"a\"), sample_shape=1))      \n",
    "      bA = yield Root(tfd.Sample(tfd.Normal(loc=0., scale=2., name=\"bA\"), sample_shape=1))    \n",
    "      sigma = yield Root(tfd.Sample(tfd.Exponential(rate=1., name=\"sigma\"), sample_shape=1))\n",
    "        \n",
    "      mu = a[...,tf.newaxis] + bA[...,tf.newaxis] * A        \n",
    "      scale = sigma[..., tf.newaxis]  \n",
    "        \n",
    "      h = yield tfd.Independent(tfd.Normal(loc=mu, scale=scale, name=\"h\"), reinterpreted_batch_ndims=1)\n",
    "\n",
    "    return tfd.JointDistributionCoroutine(_generator, validate_args=False)    \n",
    "    \n",
    "jdc_6_10 = model_6_10(A=tdf.A)"
   ]
  },
  {
   "cell_type": "code",
   "execution_count": 51,
   "metadata": {},
   "outputs": [
    {
     "name": "stdout",
     "output_type": "stream",
     "text": [
      "WARNING:tensorflow:10 out of the last 10 calls to <function run_hmc_chain at 0x1404c1b90> triggered tf.function retracing. Tracing is expensive and the excessive number of tracings could be due to (1) creating @tf.function repeatedly in a loop, (2) passing tensors with different shapes, (3) passing Python objects instead of tensors. For (1), please define your @tf.function outside of the loop. For (2), @tf.function has experimental_relax_shapes=True option that relaxes argument shapes that can avoid unnecessary retracing. For (3), please refer to https://www.tensorflow.org/tutorials/customization/performance#python_or_tensor_args and https://www.tensorflow.org/api_docs/python/tf/function for  more details.\n"
     ]
    },
    {
     "data": {
      "text/html": [
       "<div>\n",
       "<style scoped>\n",
       "    .dataframe tbody tr th:only-of-type {\n",
       "        vertical-align: middle;\n",
       "    }\n",
       "\n",
       "    .dataframe tbody tr th {\n",
       "        vertical-align: top;\n",
       "    }\n",
       "\n",
       "    .dataframe thead th {\n",
       "        text-align: right;\n",
       "    }\n",
       "</style>\n",
       "<table border=\"1\" class=\"dataframe\">\n",
       "  <thead>\n",
       "    <tr style=\"text-align: right;\">\n",
       "      <th></th>\n",
       "      <th>mean</th>\n",
       "      <th>sd</th>\n",
       "      <th>hdi_5.5%</th>\n",
       "      <th>hdi_94.5%</th>\n",
       "      <th>mcse_mean</th>\n",
       "      <th>mcse_sd</th>\n",
       "      <th>ess_mean</th>\n",
       "      <th>ess_sd</th>\n",
       "      <th>ess_bulk</th>\n",
       "      <th>ess_tail</th>\n",
       "      <th>r_hat</th>\n",
       "    </tr>\n",
       "  </thead>\n",
       "  <tbody>\n",
       "    <tr>\n",
       "      <th>a</th>\n",
       "      <td>0.001</td>\n",
       "      <td>0.077</td>\n",
       "      <td>-0.115</td>\n",
       "      <td>0.132</td>\n",
       "      <td>0.003</td>\n",
       "      <td>0.002</td>\n",
       "      <td>855.0</td>\n",
       "      <td>855.0</td>\n",
       "      <td>853.0</td>\n",
       "      <td>1420.0</td>\n",
       "      <td>1.01</td>\n",
       "    </tr>\n",
       "    <tr>\n",
       "      <th>bA</th>\n",
       "      <td>-0.002</td>\n",
       "      <td>0.134</td>\n",
       "      <td>-0.218</td>\n",
       "      <td>0.201</td>\n",
       "      <td>0.005</td>\n",
       "      <td>0.004</td>\n",
       "      <td>716.0</td>\n",
       "      <td>716.0</td>\n",
       "      <td>717.0</td>\n",
       "      <td>1070.0</td>\n",
       "      <td>1.01</td>\n",
       "    </tr>\n",
       "    <tr>\n",
       "      <th>sigma</th>\n",
       "      <td>1.216</td>\n",
       "      <td>0.028</td>\n",
       "      <td>1.168</td>\n",
       "      <td>1.259</td>\n",
       "      <td>0.001</td>\n",
       "      <td>0.001</td>\n",
       "      <td>1405.0</td>\n",
       "      <td>1404.0</td>\n",
       "      <td>1403.0</td>\n",
       "      <td>1790.0</td>\n",
       "      <td>1.00</td>\n",
       "    </tr>\n",
       "  </tbody>\n",
       "</table>\n",
       "</div>"
      ],
      "text/plain": [
       "        mean     sd  hdi_5.5%  hdi_94.5%  mcse_mean  mcse_sd  ess_mean  \\\n",
       "a      0.001  0.077    -0.115      0.132      0.003    0.002     855.0   \n",
       "bA    -0.002  0.134    -0.218      0.201      0.005    0.004     716.0   \n",
       "sigma  1.216  0.028     1.168      1.259      0.001    0.001    1405.0   \n",
       "\n",
       "       ess_sd  ess_bulk  ess_tail  r_hat  \n",
       "a       855.0     853.0    1420.0   1.01  \n",
       "bA      716.0     717.0    1070.0   1.01  \n",
       "sigma  1404.0    1403.0    1790.0   1.00  "
      ]
     },
     "execution_count": 51,
     "metadata": {},
     "output_type": "execute_result"
    }
   ],
   "source": [
    "NUM_CHAINS_FOR_6_10 = 2\n",
    "\n",
    "init_state = [\n",
    "    tf.ones([NUM_CHAINS_FOR_6_10]),\n",
    "    tf.zeros([NUM_CHAINS_FOR_6_10]),\n",
    "    tf.ones([NUM_CHAINS_FOR_6_10])    \n",
    "]\n",
    "\n",
    "init_config = dict(\n",
    "    a     = dict(state=init_state[0], bijector=tfb.Identity()),\n",
    "    bA    = dict(state=init_state[1], bijector=tfb.Identity()),\n",
    "    sigma = dict(state=init_state[2], bijector=tfb.Exp()),\n",
    ")\n",
    "\n",
    "observed_value = (tdf.happiness,)\n",
    "\n",
    "posterior_6_10, trace_6_10 = sample_posterior(\n",
    "                    jdc_6_10, \n",
    "                    observed_data=observed_value, \n",
    "                    init_config=init_config,\n",
    "                    num_samples=2000\n",
    ")\n",
    "\n",
    "az.summary(trace_6_10, hdi_prob=0.89)"
   ]
  },
  {
   "cell_type": "markdown",
   "metadata": {},
   "source": [
    "The value is $a$ is close to zero. This implies that the model finds no association between age and happiness.\n",
    "\n",
    "The pattern above is exactly what we should expect when condition on a **collider**. Here the **collider** is marriage status. It is a common consequence of age and happiness and therefore if we condition on it we are bound to induce a spurious association between the two causes"
   ]
  },
  {
   "cell_type": "markdown",
   "metadata": {},
   "source": [
    "### 6.3.2 The hanted DAG\n",
    "\n",
    "Collider may not be easily avoidable because they may be unmesasured causes. \"Unmeasured\" => Our DAG is haunted \n"
   ]
  },
  {
   "cell_type": "markdown",
   "metadata": {},
   "source": [
    "##### Code 6.25\n",
    "\n",
    "Here we will simulate another dataset using which we will try to infer the direct influene of both parents (P) and grandparents (G) on the educational achievement of childern (C)\n",
    "\n",
    "It should be obvious that G -> P, P->C and G->C "
   ]
  },
  {
   "cell_type": "code",
   "execution_count": 52,
   "metadata": {},
   "outputs": [],
   "source": [
    "N = 200  # number of grandparent-parent-child triads\n",
    "b_GP = 1.  # direct effect of G on P\n",
    "b_GC = 0.  # direct effect of G on C\n",
    "b_PC = 1.  # direct effect of P on C\n",
    "b_U = 2.  # direct effect of U on P and C"
   ]
  },
  {
   "cell_type": "markdown",
   "metadata": {},
   "source": [
    "##### Code 6.26\n",
    "\n",
    "Here is our \"functional\" (relationship) modeling\n",
    "\n",
    "* P is some function of G & U\n",
    "* C is some function of G, P & U\n",
    "* G & U are not functions of any other known variables"
   ]
  },
  {
   "cell_type": "code",
   "execution_count": 53,
   "metadata": {},
   "outputs": [
    {
     "data": {
      "text/html": [
       "<div>\n",
       "<style scoped>\n",
       "    .dataframe tbody tr th:only-of-type {\n",
       "        vertical-align: middle;\n",
       "    }\n",
       "\n",
       "    .dataframe tbody tr th {\n",
       "        vertical-align: top;\n",
       "    }\n",
       "\n",
       "    .dataframe thead th {\n",
       "        text-align: right;\n",
       "    }\n",
       "</style>\n",
       "<table border=\"1\" class=\"dataframe\">\n",
       "  <thead>\n",
       "    <tr style=\"text-align: right;\">\n",
       "      <th></th>\n",
       "      <th>C</th>\n",
       "      <th>P</th>\n",
       "      <th>G</th>\n",
       "      <th>U</th>\n",
       "    </tr>\n",
       "  </thead>\n",
       "  <tbody>\n",
       "    <tr>\n",
       "      <th>0</th>\n",
       "      <td>3.512862</td>\n",
       "      <td>1.650976</td>\n",
       "      <td>-1.042326</td>\n",
       "      <td>1</td>\n",
       "    </tr>\n",
       "    <tr>\n",
       "      <th>1</th>\n",
       "      <td>-4.590997</td>\n",
       "      <td>-1.555232</td>\n",
       "      <td>0.232263</td>\n",
       "      <td>-1</td>\n",
       "    </tr>\n",
       "    <tr>\n",
       "      <th>2</th>\n",
       "      <td>4.886199</td>\n",
       "      <td>3.082321</td>\n",
       "      <td>1.986989</td>\n",
       "      <td>1</td>\n",
       "    </tr>\n",
       "    <tr>\n",
       "      <th>3</th>\n",
       "      <td>1.636396</td>\n",
       "      <td>1.243976</td>\n",
       "      <td>-1.034003</td>\n",
       "      <td>1</td>\n",
       "    </tr>\n",
       "    <tr>\n",
       "      <th>4</th>\n",
       "      <td>-8.797684</td>\n",
       "      <td>-5.349887</td>\n",
       "      <td>-3.269576</td>\n",
       "      <td>-1</td>\n",
       "    </tr>\n",
       "    <tr>\n",
       "      <th>...</th>\n",
       "      <td>...</td>\n",
       "      <td>...</td>\n",
       "      <td>...</td>\n",
       "      <td>...</td>\n",
       "    </tr>\n",
       "    <tr>\n",
       "      <th>195</th>\n",
       "      <td>3.745021</td>\n",
       "      <td>0.391891</td>\n",
       "      <td>0.254253</td>\n",
       "      <td>1</td>\n",
       "    </tr>\n",
       "    <tr>\n",
       "      <th>196</th>\n",
       "      <td>-4.513893</td>\n",
       "      <td>-2.212740</td>\n",
       "      <td>-1.100699</td>\n",
       "      <td>-1</td>\n",
       "    </tr>\n",
       "    <tr>\n",
       "      <th>197</th>\n",
       "      <td>-3.206512</td>\n",
       "      <td>-0.455612</td>\n",
       "      <td>0.602985</td>\n",
       "      <td>-1</td>\n",
       "    </tr>\n",
       "    <tr>\n",
       "      <th>198</th>\n",
       "      <td>1.082468</td>\n",
       "      <td>-0.115803</td>\n",
       "      <td>0.106212</td>\n",
       "      <td>1</td>\n",
       "    </tr>\n",
       "    <tr>\n",
       "      <th>199</th>\n",
       "      <td>-2.545109</td>\n",
       "      <td>0.838045</td>\n",
       "      <td>2.178708</td>\n",
       "      <td>-1</td>\n",
       "    </tr>\n",
       "  </tbody>\n",
       "</table>\n",
       "<p>200 rows × 4 columns</p>\n",
       "</div>"
      ],
      "text/plain": [
       "            C         P         G  U\n",
       "0    3.512862  1.650976 -1.042326  1\n",
       "1   -4.590997 -1.555232  0.232263 -1\n",
       "2    4.886199  3.082321  1.986989  1\n",
       "3    1.636396  1.243976 -1.034003  1\n",
       "4   -8.797684 -5.349887 -3.269576 -1\n",
       "..        ...       ...       ... ..\n",
       "195  3.745021  0.391891  0.254253  1\n",
       "196 -4.513893 -2.212740 -1.100699 -1\n",
       "197 -3.206512 -0.455612  0.602985 -1\n",
       "198  1.082468 -0.115803  0.106212  1\n",
       "199 -2.545109  0.838045  2.178708 -1\n",
       "\n",
       "[200 rows x 4 columns]"
      ]
     },
     "execution_count": 53,
     "metadata": {},
     "output_type": "execute_result"
    }
   ],
   "source": [
    "def grand_parent_sim():\n",
    "    seed = tfp.util.SeedStream(1, salt=\"sim_grand_parent\")\n",
    "    U = 2 * tfd.Bernoulli(probs=0.5).sample(seed=seed(), sample_shape=N) - 1\n",
    "    G = tfd.Normal(loc=0.,scale=1.).sample(seed=seed(), sample_shape=N)    \n",
    "    temp = b_GP * G + b_U * tf.cast(U, dtype=tf.float32)    \n",
    "    P = tfd.Normal(loc=temp,scale=1.).sample(seed=seed())    \n",
    "    temp2 = b_PC * P + b_GC * G + b_U * tf.cast(U, dtype=tf.float32)  \n",
    "    C = tfd.Normal(loc=temp2,scale=1.).sample(seed=seed())\n",
    "\n",
    "    d = pd.DataFrame({\"C\": C.numpy(), \"P\": P.numpy(), \"G\": G.numpy(), \"U\": U.numpy()})\n",
    "    \n",
    "    return d\n",
    "\n",
    "d = grand_parent_sim()\n",
    "\n",
    "d"
   ]
  },
  {
   "cell_type": "code",
   "execution_count": 54,
   "metadata": {},
   "outputs": [],
   "source": [
    "tdf = df_to_tensors('SimulatedEducation', d, ['P', 'G', 'C', 'U'])"
   ]
  },
  {
   "cell_type": "markdown",
   "metadata": {},
   "source": [
    "##### Code 6.27\n",
    "\n",
    "Simple regression of C on P & G"
   ]
  },
  {
   "cell_type": "code",
   "execution_count": 55,
   "metadata": {},
   "outputs": [],
   "source": [
    "def model_6_11(P, G):\n",
    "    def _generator():\n",
    "      a = yield Root(tfd.Sample(tfd.Normal(loc=0., scale=1., name=\"a\"), sample_shape=1))      \n",
    "      b_PC = yield Root(tfd.Sample(tfd.Normal(loc=0., scale=1., name=\"b_PC\"), sample_shape=1))      \n",
    "      b_GC = yield Root(tfd.Sample(tfd.Normal(loc=0., scale=1., name=\"b_GC\"), sample_shape=1))      \n",
    "      sigma = yield Root(tfd.Sample(tfd.Exponential(rate=1., name=\"sigma\"), sample_shape=1))\n",
    "       \n",
    "      mu = a[...,tf.newaxis] + b_PC[...,tf.newaxis] * P + b_GC[...,tf.newaxis] * G    \n",
    "      scale = sigma[..., tf.newaxis]  \n",
    "        \n",
    "      h = yield tfd.Independent(tfd.Normal(loc=mu, scale=scale, name=\"h\"), reinterpreted_batch_ndims=1)\n",
    "\n",
    "    return tfd.JointDistributionCoroutine(_generator, validate_args=False)    \n",
    "    \n",
    "jdc_6_11 = model_6_11(P=tdf.P, G=tdf.G)"
   ]
  },
  {
   "cell_type": "code",
   "execution_count": 56,
   "metadata": {},
   "outputs": [
    {
     "name": "stdout",
     "output_type": "stream",
     "text": [
      "WARNING:tensorflow:11 out of the last 11 calls to <function run_hmc_chain at 0x1404c1b90> triggered tf.function retracing. Tracing is expensive and the excessive number of tracings could be due to (1) creating @tf.function repeatedly in a loop, (2) passing tensors with different shapes, (3) passing Python objects instead of tensors. For (1), please define your @tf.function outside of the loop. For (2), @tf.function has experimental_relax_shapes=True option that relaxes argument shapes that can avoid unnecessary retracing. For (3), please refer to https://www.tensorflow.org/tutorials/customization/performance#python_or_tensor_args and https://www.tensorflow.org/api_docs/python/tf/function for  more details.\n"
     ]
    },
    {
     "data": {
      "text/html": [
       "<div>\n",
       "<style scoped>\n",
       "    .dataframe tbody tr th:only-of-type {\n",
       "        vertical-align: middle;\n",
       "    }\n",
       "\n",
       "    .dataframe tbody tr th {\n",
       "        vertical-align: top;\n",
       "    }\n",
       "\n",
       "    .dataframe thead th {\n",
       "        text-align: right;\n",
       "    }\n",
       "</style>\n",
       "<table border=\"1\" class=\"dataframe\">\n",
       "  <thead>\n",
       "    <tr style=\"text-align: right;\">\n",
       "      <th></th>\n",
       "      <th>mean</th>\n",
       "      <th>sd</th>\n",
       "      <th>hdi_5.5%</th>\n",
       "      <th>hdi_94.5%</th>\n",
       "      <th>mcse_mean</th>\n",
       "      <th>mcse_sd</th>\n",
       "      <th>ess_mean</th>\n",
       "      <th>ess_sd</th>\n",
       "      <th>ess_bulk</th>\n",
       "      <th>ess_tail</th>\n",
       "      <th>r_hat</th>\n",
       "    </tr>\n",
       "  </thead>\n",
       "  <tbody>\n",
       "    <tr>\n",
       "      <th>a</th>\n",
       "      <td>0.057</td>\n",
       "      <td>0.094</td>\n",
       "      <td>-0.087</td>\n",
       "      <td>0.208</td>\n",
       "      <td>0.001</td>\n",
       "      <td>0.001</td>\n",
       "      <td>10913.0</td>\n",
       "      <td>2541.0</td>\n",
       "      <td>10961.0</td>\n",
       "      <td>3388.0</td>\n",
       "      <td>1.0</td>\n",
       "    </tr>\n",
       "    <tr>\n",
       "      <th>bPC</th>\n",
       "      <td>1.818</td>\n",
       "      <td>0.045</td>\n",
       "      <td>1.748</td>\n",
       "      <td>1.891</td>\n",
       "      <td>0.001</td>\n",
       "      <td>0.001</td>\n",
       "      <td>1132.0</td>\n",
       "      <td>1132.0</td>\n",
       "      <td>1137.0</td>\n",
       "      <td>2055.0</td>\n",
       "      <td>1.0</td>\n",
       "    </tr>\n",
       "    <tr>\n",
       "      <th>bGC</th>\n",
       "      <td>-0.897</td>\n",
       "      <td>0.104</td>\n",
       "      <td>-1.059</td>\n",
       "      <td>-0.729</td>\n",
       "      <td>0.001</td>\n",
       "      <td>0.001</td>\n",
       "      <td>9783.0</td>\n",
       "      <td>8775.0</td>\n",
       "      <td>9844.0</td>\n",
       "      <td>3045.0</td>\n",
       "      <td>1.0</td>\n",
       "    </tr>\n",
       "    <tr>\n",
       "      <th>sigma</th>\n",
       "      <td>1.378</td>\n",
       "      <td>0.070</td>\n",
       "      <td>1.272</td>\n",
       "      <td>1.492</td>\n",
       "      <td>0.001</td>\n",
       "      <td>0.001</td>\n",
       "      <td>3238.0</td>\n",
       "      <td>3226.0</td>\n",
       "      <td>3256.0</td>\n",
       "      <td>3919.0</td>\n",
       "      <td>1.0</td>\n",
       "    </tr>\n",
       "  </tbody>\n",
       "</table>\n",
       "</div>"
      ],
      "text/plain": [
       "        mean     sd  hdi_5.5%  hdi_94.5%  mcse_mean  mcse_sd  ess_mean  \\\n",
       "a      0.057  0.094    -0.087      0.208      0.001    0.001   10913.0   \n",
       "bPC    1.818  0.045     1.748      1.891      0.001    0.001    1132.0   \n",
       "bGC   -0.897  0.104    -1.059     -0.729      0.001    0.001    9783.0   \n",
       "sigma  1.378  0.070     1.272      1.492      0.001    0.001    3238.0   \n",
       "\n",
       "       ess_sd  ess_bulk  ess_tail  r_hat  \n",
       "a      2541.0   10961.0    3388.0    1.0  \n",
       "bPC    1132.0    1137.0    2055.0    1.0  \n",
       "bGC    8775.0    9844.0    3045.0    1.0  \n",
       "sigma  3226.0    3256.0    3919.0    1.0  "
      ]
     },
     "execution_count": 56,
     "metadata": {},
     "output_type": "execute_result"
    }
   ],
   "source": [
    "NUM_CHAINS_FOR_6_11 = 2\n",
    "\n",
    "init_state = [\n",
    "    tf.zeros([NUM_CHAINS_FOR_6_11]),\n",
    "    tf.ones([NUM_CHAINS_FOR_6_11]),\n",
    "    tf.ones([NUM_CHAINS_FOR_6_11]),\n",
    "    tf.ones([NUM_CHAINS_FOR_6_11])    \n",
    "]\n",
    "\n",
    "init_config = dict(\n",
    "    a     = dict(state=init_state[0], bijector=tfb.Identity()),\n",
    "    bPC   = dict(state=init_state[1], bijector=tfb.Identity()),\n",
    "    bGC   = dict(state=init_state[2], bijector=tfb.Identity()),\n",
    "    sigma = dict(state=init_state[3], bijector=tfb.Exp()),\n",
    ")\n",
    "\n",
    "observed_value = (tdf.C,)\n",
    "\n",
    "posterior_6_11, trace_6_11 = sample_posterior(\n",
    "                    jdc_6_11, \n",
    "                    observed_data=observed_value, \n",
    "                    init_config=init_config,\n",
    "                    num_samples=4000)\n",
    "\n",
    "az.summary(trace_6_11, hdi_prob=0.89)"
   ]
  },
  {
   "cell_type": "markdown",
   "metadata": {},
   "source": [
    "The inferred effect of parents looks too big, almost twice as large as it should be i.e. 1 vs 1.8\n",
    "\n",
    "Some correlation between P & C is due to U and that's a simple confound.\n",
    "\n",
    "Interestingly model is confident (bGC) that the direct effect of grandparents is to hurt their grandkids"
   ]
  },
  {
   "cell_type": "markdown",
   "metadata": {},
   "source": [
    "##### Code 6.28\n",
    "\n",
    "Regression that conditions on U as well"
   ]
  },
  {
   "cell_type": "code",
   "execution_count": 57,
   "metadata": {},
   "outputs": [],
   "source": [
    "def model_6_12(P, G, U):\n",
    "    def _generator():\n",
    "      a = yield Root(tfd.Sample(tfd.Normal(loc=0., scale=1., name=\"a\"), sample_shape=1))      \n",
    "      b_PC = yield Root(tfd.Sample(tfd.Normal(loc=0., scale=1., name=\"b_PC\"), sample_shape=1))      \n",
    "      b_GC = yield Root(tfd.Sample(tfd.Normal(loc=0., scale=1., name=\"b_GC\"), sample_shape=1))      \n",
    "      b_U = yield Root(tfd.Sample(tfd.Normal(loc=0., scale=1., name=\"b_U\"), sample_shape=1))      \n",
    "      sigma = yield Root(tfd.Sample(tfd.Exponential(rate=1., name=\"sigma\"), sample_shape=1))\n",
    "       \n",
    "      mu = a[...,tf.newaxis] + \\\n",
    "            b_PC[...,tf.newaxis] * P + \\\n",
    "            b_GC[...,tf.newaxis] * G + \\\n",
    "            b_U[...,tf.newaxis] * U\n",
    "    \n",
    "      scale = sigma[..., tf.newaxis]  \n",
    "        \n",
    "      h = yield tfd.Independent(tfd.Normal(loc=mu, scale=scale, name=\"h\"), reinterpreted_batch_ndims=1)\n",
    "\n",
    "    return tfd.JointDistributionCoroutine(_generator, validate_args=False)    \n",
    "    \n",
    "jdc_6_12 = model_6_12(P=tdf.P, G=tdf.G, U=tdf.U)"
   ]
  },
  {
   "cell_type": "code",
   "execution_count": 58,
   "metadata": {},
   "outputs": [
    {
     "name": "stdout",
     "output_type": "stream",
     "text": [
      "WARNING:tensorflow:11 out of the last 11 calls to <function run_hmc_chain at 0x1404c1b90> triggered tf.function retracing. Tracing is expensive and the excessive number of tracings could be due to (1) creating @tf.function repeatedly in a loop, (2) passing tensors with different shapes, (3) passing Python objects instead of tensors. For (1), please define your @tf.function outside of the loop. For (2), @tf.function has experimental_relax_shapes=True option that relaxes argument shapes that can avoid unnecessary retracing. For (3), please refer to https://www.tensorflow.org/tutorials/customization/performance#python_or_tensor_args and https://www.tensorflow.org/api_docs/python/tf/function for  more details.\n"
     ]
    },
    {
     "data": {
      "text/html": [
       "<div>\n",
       "<style scoped>\n",
       "    .dataframe tbody tr th:only-of-type {\n",
       "        vertical-align: middle;\n",
       "    }\n",
       "\n",
       "    .dataframe tbody tr th {\n",
       "        vertical-align: top;\n",
       "    }\n",
       "\n",
       "    .dataframe thead th {\n",
       "        text-align: right;\n",
       "    }\n",
       "</style>\n",
       "<table border=\"1\" class=\"dataframe\">\n",
       "  <thead>\n",
       "    <tr style=\"text-align: right;\">\n",
       "      <th></th>\n",
       "      <th>mean</th>\n",
       "      <th>sd</th>\n",
       "      <th>hdi_5.5%</th>\n",
       "      <th>hdi_94.5%</th>\n",
       "      <th>mcse_mean</th>\n",
       "      <th>mcse_sd</th>\n",
       "      <th>ess_mean</th>\n",
       "      <th>ess_sd</th>\n",
       "      <th>ess_bulk</th>\n",
       "      <th>ess_tail</th>\n",
       "      <th>r_hat</th>\n",
       "    </tr>\n",
       "  </thead>\n",
       "  <tbody>\n",
       "    <tr>\n",
       "      <th>a</th>\n",
       "      <td>-0.060</td>\n",
       "      <td>0.073</td>\n",
       "      <td>-0.169</td>\n",
       "      <td>0.066</td>\n",
       "      <td>0.001</td>\n",
       "      <td>0.001</td>\n",
       "      <td>9460.0</td>\n",
       "      <td>3784.0</td>\n",
       "      <td>9487.0</td>\n",
       "      <td>3678.0</td>\n",
       "      <td>1.00</td>\n",
       "    </tr>\n",
       "    <tr>\n",
       "      <th>bPC</th>\n",
       "      <td>0.925</td>\n",
       "      <td>0.080</td>\n",
       "      <td>0.797</td>\n",
       "      <td>1.051</td>\n",
       "      <td>0.003</td>\n",
       "      <td>0.002</td>\n",
       "      <td>867.0</td>\n",
       "      <td>867.0</td>\n",
       "      <td>866.0</td>\n",
       "      <td>1912.0</td>\n",
       "      <td>1.01</td>\n",
       "    </tr>\n",
       "    <tr>\n",
       "      <th>bGCC</th>\n",
       "      <td>0.082</td>\n",
       "      <td>0.111</td>\n",
       "      <td>-0.094</td>\n",
       "      <td>0.256</td>\n",
       "      <td>0.003</td>\n",
       "      <td>0.002</td>\n",
       "      <td>1187.0</td>\n",
       "      <td>1187.0</td>\n",
       "      <td>1185.0</td>\n",
       "      <td>2392.0</td>\n",
       "      <td>1.00</td>\n",
       "    </tr>\n",
       "    <tr>\n",
       "      <th>bU</th>\n",
       "      <td>2.150</td>\n",
       "      <td>0.174</td>\n",
       "      <td>1.879</td>\n",
       "      <td>2.438</td>\n",
       "      <td>0.006</td>\n",
       "      <td>0.004</td>\n",
       "      <td>875.0</td>\n",
       "      <td>872.0</td>\n",
       "      <td>874.0</td>\n",
       "      <td>1770.0</td>\n",
       "      <td>1.01</td>\n",
       "    </tr>\n",
       "    <tr>\n",
       "      <th>sigma</th>\n",
       "      <td>1.031</td>\n",
       "      <td>0.054</td>\n",
       "      <td>0.945</td>\n",
       "      <td>1.116</td>\n",
       "      <td>0.001</td>\n",
       "      <td>0.000</td>\n",
       "      <td>10189.0</td>\n",
       "      <td>8787.0</td>\n",
       "      <td>11957.0</td>\n",
       "      <td>1399.0</td>\n",
       "      <td>1.00</td>\n",
       "    </tr>\n",
       "  </tbody>\n",
       "</table>\n",
       "</div>"
      ],
      "text/plain": [
       "        mean     sd  hdi_5.5%  hdi_94.5%  mcse_mean  mcse_sd  ess_mean  \\\n",
       "a     -0.060  0.073    -0.169      0.066      0.001    0.001    9460.0   \n",
       "bPC    0.925  0.080     0.797      1.051      0.003    0.002     867.0   \n",
       "bGCC   0.082  0.111    -0.094      0.256      0.003    0.002    1187.0   \n",
       "bU     2.150  0.174     1.879      2.438      0.006    0.004     875.0   \n",
       "sigma  1.031  0.054     0.945      1.116      0.001    0.000   10189.0   \n",
       "\n",
       "       ess_sd  ess_bulk  ess_tail  r_hat  \n",
       "a      3784.0    9487.0    3678.0   1.00  \n",
       "bPC     867.0     866.0    1912.0   1.01  \n",
       "bGCC   1187.0    1185.0    2392.0   1.00  \n",
       "bU      872.0     874.0    1770.0   1.01  \n",
       "sigma  8787.0   11957.0    1399.0   1.00  "
      ]
     },
     "execution_count": 58,
     "metadata": {},
     "output_type": "execute_result"
    }
   ],
   "source": [
    "init_state = [\n",
    "    tf.zeros([MCMC_NUMBER_OF_CHAINS]),\n",
    "    tf.zeros([MCMC_NUMBER_OF_CHAINS]),\n",
    "    tf.zeros([MCMC_NUMBER_OF_CHAINS]),\n",
    "    tf.ones([MCMC_NUMBER_OF_CHAINS]),  # <-- note 1 instead of zero here. Necessary !!\n",
    "    tf.ones([MCMC_NUMBER_OF_CHAINS])    \n",
    "]\n",
    "\n",
    "init_config = dict(\n",
    "    a     = dict(state=init_state[0], bijector=tfb.Identity()),\n",
    "    bPC   = dict(state=init_state[1], bijector=tfb.Identity()),\n",
    "    bGCC  = dict(state=init_state[2], bijector=tfb.Identity()),\n",
    "    bU    = dict(state=init_state[3], bijector=tfb.Identity()),\n",
    "    sigma = dict(state=init_state[4], bijector=tfb.Exp()),\n",
    ")\n",
    "\n",
    "\n",
    "observed_value = (tdf.C,)\n",
    "\n",
    "posterior_6_12, trace_6_12 = sample_posterior(\n",
    "                    jdc_6_12, \n",
    "                    observed_data=observed_value, \n",
    "                    num_samples=4000, \n",
    "                    init_config=init_config\n",
    ")\n",
    "\n",
    "az.summary(trace_6_12, hdi_prob=0.89)"
   ]
  },
  {
   "cell_type": "markdown",
   "metadata": {},
   "source": [
    "These are similar to the slopes we used to simulate (compare to the constants in Code 6.25)\n",
    "\n",
    "This is an example of **SIMPSON's PARADOX**. Usually Simpson's paradox is presented in cases where adding the new predictor helps use. But in this case it misleads us. "
   ]
  },
  {
   "cell_type": "markdown",
   "metadata": {},
   "source": [
    "## 6.4 Confronting confounding\n",
    "\n",
    "We have now seen that in multiple regression if we control for wrong variables they can ruin the inference "
   ]
  },
  {
   "cell_type": "markdown",
   "metadata": {},
   "source": [
    "### 6.4.1 Shutting the backdoor\n",
    "\n",
    "\n",
    "Blocking all confounding paths between some predictor X & some outcome Y is known as shutting the **BACKDOOR**\n",
    "\n",
    "In simple words, we do not want any spurrious corrleation sneaking in through a non-causal path\n"
   ]
  },
  {
   "cell_type": "markdown",
   "metadata": {},
   "source": [
    "We will create the graphs for 4 elemental confounds. \n",
    "\n",
    "**Note that there is no corresponding code section in the book for drawing and hence these section are not marked with Codde 6.X heading**"
   ]
  },
  {
   "cell_type": "markdown",
   "metadata": {},
   "source": [
    "**The Fork**  "
   ]
  },
  {
   "cell_type": "code",
   "execution_count": 59,
   "metadata": {},
   "outputs": [
    {
     "data": {
      "image/png": "[encoded data removed]",
      "text/plain": [
       "<Figure size 153.071x96.378 with 1 Axes>"
      ]
     },
     "metadata": {},
     "output_type": "display_data"
    }
   ],
   "source": [
    "dag_the_fork = CausalGraphicalModel(\n",
    "    nodes=[\"X\", \"Y\", \"Z\"],\n",
    "    edges=[(\"Z\", \"X\"), (\"Z\", \"Y\")])\n",
    "\n",
    "pgm = daft.PGM()\n",
    "coordinates = {\"X\": (0, 0), \"Y\" : (2,0), \"Z\": (1, 1)}\n",
    "for node in dag_the_fork.dag.nodes:\n",
    "    pgm.add_node(node, node, *coordinates[node])\n",
    "for edge in dag_the_fork.dag.edges:\n",
    "    pgm.add_edge(*edge)\n",
    "pgm.render();"
   ]
  },
  {
   "cell_type": "markdown",
   "metadata": {},
   "source": [
    "Fork is a classic confounder. Z is common cause of X & Y. Learning X tells us nothing about Y"
   ]
  },
  {
   "cell_type": "markdown",
   "metadata": {},
   "source": [
    "**The Pipe**"
   ]
  },
  {
   "cell_type": "code",
   "execution_count": 60,
   "metadata": {},
   "outputs": [
    {
     "data": {
      "image/png": "[encoded data removed]",
      "text/plain": [
       "<Figure size 153.071x39.685 with 1 Axes>"
      ]
     },
     "metadata": {},
     "output_type": "display_data"
    }
   ],
   "source": [
    "dag_the_pipe = CausalGraphicalModel(\n",
    "    nodes=[\"X\", \"Y\", \"Z\"],\n",
    "    edges=[(\"X\", \"Z\"), (\"Z\", \"Y\")])\n",
    "\n",
    "pgm = daft.PGM()\n",
    "coordinates = {\"X\": (0, 0), \"Y\" : (2,0), \"Z\": (1, 0)}\n",
    "for node in dag_the_pipe.dag.nodes:\n",
    "    pgm.add_node(node, node, *coordinates[node])\n",
    "for edge in dag_the_pipe.dag.edges:\n",
    "    pgm.add_edge(*edge)\n",
    "pgm.render();"
   ]
  },
  {
   "cell_type": "markdown",
   "metadata": {},
   "source": [
    "If we condition on Z we block the path from X to Y. Recall the treatment & fungus experiment"
   ]
  },
  {
   "cell_type": "markdown",
   "metadata": {},
   "source": [
    "**The Collider**"
   ]
  },
  {
   "cell_type": "code",
   "execution_count": 61,
   "metadata": {},
   "outputs": [
    {
     "data": {
      "image/png": "[encoded data removed]",
      "text/plain": [
       "<Figure size 153.071x39.685 with 1 Axes>"
      ]
     },
     "metadata": {},
     "output_type": "display_data"
    }
   ],
   "source": [
    "dag_the_collider = CausalGraphicalModel(\n",
    "    nodes=[\"X\", \"Y\", \"Z\"],\n",
    "    edges=[(\"X\", \"Z\"), (\"Y\", \"Z\")])\n",
    "\n",
    "pgm = daft.PGM()\n",
    "coordinates = {\"X\": (0, 0), \"Y\" : (2,0), \"Z\": (1, 0)}\n",
    "for node in dag_the_collider.dag.nodes:\n",
    "    pgm.add_node(node, node, *coordinates[node])\n",
    "for edge in dag_the_collider.dag.edges:\n",
    "    pgm.add_edge(*edge)\n",
    "pgm.render();"
   ]
  },
  {
   "cell_type": "markdown",
   "metadata": {},
   "source": [
    "Conditioning on collider i.e Z opens the path i.e info flows between X and Y"
   ]
  },
  {
   "cell_type": "markdown",
   "metadata": {},
   "source": [
    "**The Descendant**"
   ]
  },
  {
   "cell_type": "code",
   "execution_count": 62,
   "metadata": {},
   "outputs": [
    {
     "data": {
      "image/png": "[encoded data removed]",
      "text/plain": [
       "<Figure size 153.071x153.071 with 1 Axes>"
      ]
     },
     "metadata": {},
     "output_type": "display_data"
    }
   ],
   "source": [
    "dag_the_descendant = CausalGraphicalModel(\n",
    "    nodes=[\"X\", \"Y\", \"Z\", \"D\"],\n",
    "    edges=[(\"X\", \"Z\"), (\"Y\", \"Z\"), (\"Z\", \"D\")])\n",
    "\n",
    "pgm = daft.PGM()\n",
    "coordinates = {\"X\": (0, 1), \"Y\" : (2,1), \"Z\": (1, 0), \"D\" : (1,-1)}\n",
    "for node in dag_the_descendant.dag.nodes:\n",
    "    pgm.add_node(node, node, *coordinates[node])\n",
    "for edge in dag_the_descendant.dag.edges:\n",
    "    pgm.add_edge(*edge)\n",
    "pgm.render();"
   ]
  },
  {
   "cell_type": "markdown",
   "metadata": {},
   "source": [
    "Here is D is the descendant variable. if we condition on it then it will be similar to closig the pipe."
   ]
  },
  {
   "cell_type": "markdown",
   "metadata": {},
   "source": [
    "### 6.4.2 Two roads\n",
    "\n",
    "DAG shown below (Code 6.29) has U which is unobserved variable \n",
    "\n",
    "We are interested in X->Y but which observed covariates (A, B, C) do we need to add to the model ?"
   ]
  },
  {
   "cell_type": "markdown",
   "metadata": {},
   "source": [
    "##### Code 6.29"
   ]
  },
  {
   "cell_type": "code",
   "execution_count": 63,
   "metadata": {},
   "outputs": [
    {
     "data": {
      "image/png": "[encoded data removed]",
      "text/plain": [
       "<Figure size 153.071x209.764 with 1 Axes>"
      ]
     },
     "metadata": {},
     "output_type": "display_data"
    }
   ],
   "source": [
    "dag_6_1 = CausalGraphicalModel(\n",
    "    nodes=[\"X\", \"Y\", \"C\", \"U\", \"B\", \"A\"],\n",
    "    edges=[(\"X\", \"Y\"), (\"U\", \"X\"), (\"A\", \"U\"), (\"A\", \"C\"),\n",
    "           (\"C\", \"Y\"), (\"U\", \"B\"), (\"C\", \"B\")])\n",
    "\n",
    "\n",
    "# let's render the DAG as well (note - no code section for it in the book but is displayed)\n",
    "# so instead of copying the picture we are generating it\n",
    "pgm = daft.PGM()\n",
    "coordinates = {\"X\": (0, 3), \"Y\" : (2,3), \"U\": (0, 1), \"C\": (2, 1), \"A\": (1, 0), \"B\" : (1, 2)}\n",
    "for node in dag_6_1.dag.nodes:\n",
    "    pgm.add_node(node, node, *coordinates[node])\n",
    "for edge in dag_6_1.dag.edges:\n",
    "    pgm.add_edge(*edge)\n",
    "pgm.render();"
   ]
  },
  {
   "cell_type": "code",
   "execution_count": 64,
   "metadata": {},
   "outputs": [
    {
     "name": "stdout",
     "output_type": "stream",
     "text": [
      "frozenset({'A'})\n",
      "frozenset({'C'})\n"
     ]
    }
   ],
   "source": [
    "all_adjustment_sets = dag_6_1.get_all_backdoor_adjustment_sets(\"X\", \"Y\")\n",
    "for s in all_adjustment_sets:\n",
    "    if all(not t.issubset(s) for t in all_adjustment_sets if t != s):\n",
    "        if s != {\"U\"}:\n",
    "            print(s)"
   ]
  },
  {
   "cell_type": "markdown",
   "metadata": {},
   "source": [
    "Read above results as -\n",
    "\n",
    "Conditioning on either A or C would suffice"
   ]
  },
  {
   "cell_type": "markdown",
   "metadata": {},
   "source": [
    "### 6.4.3 Backdoor waffles\n",
    "\n",
    "\n",
    "Let's consider the Waffle House & Divorce rate correlation and with the help of graph we can find the covariates we should include in our model"
   ]
  },
  {
   "cell_type": "markdown",
   "metadata": {},
   "source": [
    "##### Code 6.30\n",
    "\n",
    "* S => Whether or not state is in southern USA\n",
    "* A => Median Age\n",
    "* M => Marriage Rate\n",
    "* W => Number of Waffle Houses\n",
    "* D => Divorce Rate\n"
   ]
  },
  {
   "cell_type": "code",
   "execution_count": 65,
   "metadata": {},
   "outputs": [
    {
     "data": {
      "image/png": "[encoded data removed]",
      "text/plain": [
       "<Figure size 153.071x153.071 with 1 Axes>"
      ]
     },
     "metadata": {},
     "output_type": "display_data"
    }
   ],
   "source": [
    "dag_6_2 = CausalGraphicalModel(\n",
    "    nodes=[\"S\", \"A\", \"D\", \"M\", \"W\"],\n",
    "    edges=[(\"S\", \"A\"), (\"A\", \"D\"),\n",
    "           (\"S\", \"M\"), (\"M\", \"D\"),\n",
    "           (\"S\", \"W\"), (\"W\", \"D\"),\n",
    "           (\"A\", \"M\")])\n",
    "\n",
    "# let's render the DAG as well (note - no code section for it in the book but is displayed)\n",
    "# so instead of copying the picture we are generating it\n",
    "\n",
    "pgm = daft.PGM()\n",
    "coordinates = {\"S\": (0, 0), \"W\" : (2,0), \"A\": (0, 2), \"D\": (2, 2), \"M\": (1, 1),}\n",
    "for node in dag_6_2.dag.nodes:\n",
    "    pgm.add_node(node, node, *coordinates[node])\n",
    "for edge in dag_6_2.dag.edges:\n",
    "    pgm.add_edge(*edge)\n",
    "pgm.render();"
   ]
  },
  {
   "cell_type": "code",
   "execution_count": 66,
   "metadata": {},
   "outputs": [
    {
     "name": "stdout",
     "output_type": "stream",
     "text": [
      "frozenset({'S'})\n",
      "frozenset({'A', 'M'})\n"
     ]
    }
   ],
   "source": [
    "all_adjustment_sets = dag_6_2.get_all_backdoor_adjustment_sets(\"W\", \"D\")\n",
    "for s in all_adjustment_sets:\n",
    "    if all(not t.issubset(s)for t in all_adjustment_sets if t != s):\n",
    "        print(s)"
   ]
  },
  {
   "cell_type": "markdown",
   "metadata": {},
   "source": [
    "This shows that we could control either for S alone or A and M"
   ]
  },
  {
   "cell_type": "markdown",
   "metadata": {},
   "source": [
    "##### Code 6.31\n",
    "\n",
    "Above DAG is not satisfactory as it assumes that there are **no** unobserved confounds.\n",
    "\n",
    "We can further test the graph by finding the **conditional independencies**"
   ]
  },
  {
   "cell_type": "code",
   "execution_count": 67,
   "metadata": {},
   "outputs": [
    {
     "name": "stdout",
     "output_type": "stream",
     "text": [
      "('M', 'W', {'S'})\n",
      "('A', 'W', {'S'})\n",
      "('S', 'D', {'A', 'W', 'M'})\n"
     ]
    }
   ],
   "source": [
    "all_independencies = dag_6_2.get_all_independence_relationships()\n",
    "for s in all_independencies:\n",
    "    if all(t[0] != s[0] or t[1] != s[1] or not t[2].issubset(s[2])\n",
    "           for t in all_independencies if t != s):\n",
    "        print(s)"
   ]
  },
  {
   "cell_type": "markdown",
   "metadata": {},
   "source": [
    "Read above result as :\n",
    "\n",
    "* Marriage Rate & Waffle Houses should be independent if conditioning on S\n",
    "* Median Age & Waffle Houses should be independent if conditioning on S\n",
    "* Being in south and Divorce Rate should be indpendent if condition on (W, M and A)"
   ]
  }
 ],
 "metadata": {
  "kernelspec": {
   "display_name": "Python 3",
   "language": "python",
   "name": "python3"
  },
  "language_info": {
   "codemirror_mode": {
    "name": "ipython",
    "version": 3
   },
   "file_extension": ".py",
   "mimetype": "text/x-python",
   "name": "python",
   "nbconvert_exporter": "python",
   "pygments_lexer": "ipython3",
   "version": "3.7.5"
  },
  "toc": {
   "base_numbering": 1,
   "nav_menu": {},
   "number_sections": true,
   "sideBar": true,
   "skip_h1_title": false,
   "title_cell": "Table of Contents",
   "title_sidebar": "Contents",
   "toc_cell": false,
   "toc_position": {},
   "toc_section_display": true,
   "toc_window_display": false
  }
 },
 "nbformat": 4,
 "nbformat_minor": 4
}
