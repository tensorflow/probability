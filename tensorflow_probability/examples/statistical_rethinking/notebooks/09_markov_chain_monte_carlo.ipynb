{
 "cells": [
  {
   "cell_type": "markdown",
   "metadata": {},
   "source": [
    "##### Copyright 2020 The TensorFlow Authors.\n",
    "\n",
    "Licensed under the Apache License, Version 2.0 (the \"License\");"
   ]
  },
  {
   "cell_type": "code",
   "execution_count": 1,
   "metadata": {},
   "outputs": [],
   "source": [
    "#@title Licensed under the Apache License, Version 2.0 (the \"License\"); { display-mode: \"form\" }\n",
    "# you may not use this file except in compliance with the License.\n",
    "# You may obtain a copy of the License at\n",
    "#\n",
    "# https://www.apache.org/licenses/LICENSE-2.0\n",
    "#\n",
    "# Unless required by applicable law or agreed to in writing, software\n",
    "# distributed under the License is distributed on an \"AS IS\" BASIS,\n",
    "# WITHOUT WARRANTIES OR CONDITIONS OF ANY KIND, either express or implied.\n",
    "# See the License for the specific language governing permissions and\n",
    "# limitations under the License."
   ]
  },
  {
   "cell_type": "markdown",
   "metadata": {},
   "source": [
    "# Chapter 9 - Markov Chain Monte Carlo\n",
    "\n",
    "<table class=\"tfo-notebook-buttons\" align=\"left\">\n",
    "  <td>\n",
    "    <a target=\"_blank\" href=\"https://www.tensorflow.org/probability/examples/statistical_rethinking/notebooks/09_markov_chain_monte_carlo\"><img src=\"https://www.tensorflow.org/images/tf_logo_32px.png\" />View on TensorFlow.org</a>\n",
    "  </td>\n",
    "  <td>\n",
    "    <a target=\"_blank\" href=\"https://colab.research.google.com/github/tensorflow/probability/blob/master/tensorflow_probability/examples/statistical_rethinking/notebooks/09_markov_chain_monte_carlo.ipynb\"><img src=\"https://www.tensorflow.org/images/colab_logo_32px.png\" />Run in Google Colab</a>\n",
    "  </td>\n",
    "  <td>\n",
    "    <a target=\"_blank\" href=\"https://github.com/tensorflow/probability/blob/master/tensorflow_probability/examples/statistical_rethinking/notebooks/09_markov_chain_monte_carlo.ipynb\"><img src=\"https://www.tensorflow.org/images/GitHub-Mark-32px.png\" />View source on GitHub</a>\n",
    "  </td>\n",
    "  <td>\n",
    "    <a href=\"https://storage.googleapis.com/tensorflow_docs/probability/examples/statistical_rethinking/notebooks/09_markov_chain_monte_carlo.ipynb\"><img src=\"https://www.tensorflow.org/images/download_logo_32px.png\" />Download notebook</a>\n",
    "  </td>\n",
    "</table>"
   ]
  },
  {
   "cell_type": "markdown",
   "metadata": {},
   "source": [
    "## Imports and utility functions\n"
   ]
  },
  {
   "cell_type": "code",
   "execution_count": 2,
   "metadata": {},
   "outputs": [],
   "source": [
    "#@title Install { display-mode: \"form\" }\n",
    "TF_Installation = 'System' #@param ['TF Nightly', 'TF Stable', 'System']\n",
    "\n",
    "if TF_Installation == 'TF Nightly':\n",
    "  !pip install -q --upgrade tf-nightly\n",
    "  print('Installation of `tf-nightly` complete.')\n",
    "elif TF_Installation == 'TF Stable':\n",
    "  !pip install -q --upgrade tensorflow\n",
    "  print('Installation of `tensorflow` complete.')\n",
    "elif TF_Installation == 'System':\n",
    "  pass\n",
    "else:\n",
    "  raise ValueError('Selection Error: Please select a valid '\n",
    "                   'installation option.')"
   ]
  },
  {
   "cell_type": "code",
   "execution_count": 3,
   "metadata": {},
   "outputs": [],
   "source": [
    "#@title Install { display-mode: \"form\" }\n",
    "TFP_Installation = \"System\" #@param [\"Nightly\", \"Stable\", \"System\"]\n",
    "\n",
    "if TFP_Installation == \"Nightly\":\n",
    "  !pip install -q tfp-nightly\n",
    "  print(\"Installation of `tfp-nightly` complete.\")\n",
    "elif TFP_Installation == \"Stable\":\n",
    "  !pip install -q --upgrade tensorflow-probability\n",
    "  print(\"Installation of `tensorflow-probability` complete.\")\n",
    "elif TFP_Installation == \"System\":\n",
    "  pass\n",
    "else:\n",
    "  raise ValueError(\"Selection Error: Please select a valid \"\n",
    "                   \"installation option.\")"
   ]
  },
  {
   "cell_type": "code",
   "execution_count": 4,
   "metadata": {},
   "outputs": [],
   "source": [
    "#@title Install { display-mode: \"form\" }\n",
    "\n",
    "# Install packages that are not installed in colab\n",
    "try:\n",
    "  import google.colab\n",
    "  IN_COLAB = True\n",
    "except:\n",
    "  IN_COLAB = False\n",
    "\n",
    "if IN_COLAB:\n",
    "    print(\"Installing arviz ...\")\n",
    "    !pip install -q arviz"
   ]
  },
  {
   "cell_type": "code",
   "execution_count": 5,
   "metadata": {},
   "outputs": [],
   "source": [
    "from functools import partial\n",
    "\n",
    "from jax import ops\n",
    "import jax.numpy as jnp\n",
    "\n",
    "# Core\n",
    "import numpy as np\n",
    "import arviz as az\n",
    "import pandas as pd\n",
    "import tensorflow as tf\n",
    "import tensorflow_probability as tfp\n",
    "\n",
    "# visualization \n",
    "import matplotlib.pyplot as plt\n",
    "\n",
    "# aliases\n",
    "tfd = tfp.distributions\n",
    "Root = tfd.JointDistributionCoroutine.Root"
   ]
  },
  {
   "cell_type": "code",
   "execution_count": 6,
   "metadata": {},
   "outputs": [],
   "source": [
    "az.style.use('seaborn-colorblind')"
   ]
  },
  {
   "cell_type": "markdown",
   "metadata": {},
   "source": [
    "### Tensorflow MCMC sampling helpers\n"
   ]
  },
  {
   "cell_type": "code",
   "execution_count": 7,
   "metadata": {},
   "outputs": [],
   "source": [
    "USE_XLA = False"
   ]
  },
  {
   "cell_type": "code",
   "execution_count": 8,
   "metadata": {},
   "outputs": [],
   "source": [
    "NUMBER_OF_CHAINS  = 2\n",
    "NUMBER_OF_BURNIN  = 500\n",
    "NUMBER_OF_SAMPLES = 500\n",
    "NUMBER_OF_LEAPFROG_STEPS = 4\n",
    "\n",
    "def _trace_to_arviz(trace=None,\n",
    "                   sample_stats=None,\n",
    "                   observed_data=None,\n",
    "                   prior_predictive=None,\n",
    "                   posterior_predictive=None,\n",
    "                   inplace=True):\n",
    "\n",
    "    if trace is not None and isinstance(trace, dict):\n",
    "        trace = {k: np.swapaxes(v.numpy(), 1, 0)\n",
    "                 for k, v in trace.items()}\n",
    "    if sample_stats is not None and isinstance(sample_stats, dict):\n",
    "        sample_stats = {k: v.numpy().T for k, v in sample_stats.items()}\n",
    "    if prior_predictive is not None and isinstance(prior_predictive, dict):\n",
    "        prior_predictive = {k: v[np.newaxis]\n",
    "                            for k, v in prior_predictive.items()}\n",
    "    if posterior_predictive is not None and isinstance(posterior_predictive, dict):\n",
    "        if isinstance(trace, az.InferenceData) and inplace == True:\n",
    "            return trace + az.from_dict(posterior_predictive=posterior_predictive)\n",
    "        else:\n",
    "            trace = None\n",
    "\n",
    "    return az.from_dict(\n",
    "        posterior=trace,\n",
    "        sample_stats=sample_stats,\n",
    "        prior_predictive=prior_predictive,\n",
    "        posterior_predictive=posterior_predictive,\n",
    "        observed_data=observed_data,\n",
    "    )\n",
    "\n",
    "@tf.function(autograph=False, experimental_compile=USE_XLA)\n",
    "def run_chain(init_state,\n",
    "              bijectors, \n",
    "              step_size, \n",
    "              target_log_prob_fn, \n",
    "              num_leapfrog_steps=NUMBER_OF_LEAPFROG_STEPS,\n",
    "              num_samples=NUMBER_OF_SAMPLES,\n",
    "              burnin=NUMBER_OF_BURNIN,\n",
    "              ):    \n",
    "\n",
    "    def _trace_fn_transitioned(_, pkr):\n",
    "        return (\n",
    "            pkr.inner_results.inner_results.log_accept_ratio\n",
    "        )\n",
    "\n",
    "    hmc_kernel = tfp.mcmc.HamiltonianMonteCarlo(\n",
    "                    target_log_prob_fn,\n",
    "                    num_leapfrog_steps=num_leapfrog_steps,\n",
    "                    step_size=step_size)         \n",
    "\n",
    "    inner_kernel = tfp.mcmc.TransformedTransitionKernel(\n",
    "        inner_kernel=hmc_kernel,\n",
    "        bijector=bijectors)       \n",
    "\n",
    "    kernel = tfp.mcmc.SimpleStepSizeAdaptation(\n",
    "        inner_kernel=inner_kernel,\n",
    "        target_accept_prob=.8,\n",
    "        num_adaptation_steps=int(0.8*burnin),\n",
    "        log_accept_prob_getter_fn=lambda pkr: pkr.inner_results.log_accept_ratio\n",
    "    )    \n",
    "\n",
    "    results, sampler_stat = tfp.mcmc.sample_chain(\n",
    "        num_results=num_samples,\n",
    "        num_burnin_steps=burnin,\n",
    "        current_state=init_state,\n",
    "        kernel=kernel,\n",
    "        trace_fn=_trace_fn_transitioned)\n",
    "\n",
    "    return results, sampler_stat\n",
    "\n",
    "def sample_posterior(jdc, \n",
    "                      observed_data, \n",
    "                      params, \n",
    "                      num_chains=NUMBER_OF_CHAINS,\n",
    "                      init_state=None, \n",
    "                      bijectors=None,                              \n",
    "                      num_samples=NUMBER_OF_SAMPLES, \n",
    "                      burnin=NUMBER_OF_BURNIN):       \n",
    "    \n",
    "    if init_state is None:\n",
    "        init_state = list(jdc.sample(NUMBER_OF_CHAINS)[:-1])\n",
    "        \n",
    "    if bijectors is None:\n",
    "        bijectors = [tfb.Identity() for i in init_state]\n",
    "\n",
    "\n",
    "    target_log_prob_fn = lambda *x: jdc.log_prob(x + observed_data)    \n",
    "    step_size = 0.1\n",
    "    results, sample_stats = run_chain(init_state,\n",
    "                                  bijectors,\n",
    "                                  step_size=step_size,\n",
    "                                  target_log_prob_fn=target_log_prob_fn,                                      \n",
    "                                  num_samples=num_samples, \n",
    "                                  burnin=burnin)\n",
    "\n",
    "    stat_names = ['mean_tree_accept']\n",
    "    sampler_stats = dict(zip(stat_names, [sample_stats]))    \n",
    "    posterior = dict(zip(params, results))\n",
    "    return _trace_to_arviz(trace=posterior, sample_stats=sampler_stats)"
   ]
  },
  {
   "cell_type": "markdown",
   "metadata": {},
   "source": [
    "### Dataset URLs"
   ]
  },
  {
   "cell_type": "code",
   "execution_count": 9,
   "metadata": {},
   "outputs": [],
   "source": [
    "# You could change base url to local dir or a remoate raw github content\n",
    "_BASE_URL = \"https://raw.githubusercontent.com/rmcelreath/rethinking/master/data\"\n",
    "\n",
    "RUGGED_DATASET_PATH = f\"{_BASE_URL}/rugged.csv\""
   ]
  },
  {
   "cell_type": "markdown",
   "metadata": {},
   "source": [
    "# Introduction"
   ]
  },
  {
   "cell_type": "markdown",
   "metadata": {},
   "source": [
    "## 9.1 Good King Markov and His island kingdom"
   ]
  },
  {
   "cell_type": "markdown",
   "metadata": {},
   "source": [
    "##### Code 9.1"
   ]
  },
  {
   "cell_type": "code",
   "execution_count": 10,
   "metadata": {},
   "outputs": [],
   "source": [
    "# Takes few minutes to run\n",
    "\n",
    "num_weeks = int(1e5)\n",
    "positions = np.repeat(0, num_weeks)\n",
    "current = 10\n",
    "\n",
    "coin_dist = tfd.Bernoulli(probs=0.5)\n",
    "proposal_dist = tfd.Uniform(low=0., high=1.0 )\n",
    "\n",
    "for i in range(num_weeks):\n",
    "    # record current position\n",
    "    positions[i] = current\n",
    "\n",
    "    # flip coin to generate proposal\n",
    "    bern = coin_dist.sample().numpy()\n",
    "    \n",
    "    proposal = current + (bern * 2 - 1)\n",
    "    \n",
    "    # now make sure he loops around the archipelago\n",
    "    proposal = np.where(proposal < 1, 10, proposal)\n",
    "    proposal = np.where(proposal > 10, 1, proposal)\n",
    "\n",
    "    # move?\n",
    "    prob_move = proposal / current\n",
    "    unif = proposal_dist.sample().numpy()\n",
    "    current = np.where(unif < prob_move, proposal, current)    "
   ]
  },
  {
   "cell_type": "markdown",
   "metadata": {},
   "source": [
    "##### Code 9.2"
   ]
  },
  {
   "cell_type": "code",
   "execution_count": 11,
   "metadata": {},
   "outputs": [
    {
     "data": {
      "image/png": "[encoded data removed]",
      "text/plain": [
       "<Figure size 432x288 with 1 Axes>"
      ]
     },
     "metadata": {
      "needs_background": "light"
     },
     "output_type": "display_data"
    }
   ],
   "source": [
    "plt.plot(range(1, 101), positions[:100], \"o\", mfc=\"none\");"
   ]
  },
  {
   "cell_type": "markdown",
   "metadata": {},
   "source": [
    "##### Code 9.3"
   ]
  },
  {
   "cell_type": "code",
   "execution_count": 12,
   "metadata": {},
   "outputs": [
    {
     "data": {
      "image/png": "[encoded data removed]",
      "text/plain": [
       "<Figure size 432x288 with 1 Axes>"
      ]
     },
     "metadata": {
      "needs_background": "light"
     },
     "output_type": "display_data"
    }
   ],
   "source": [
    "plt.hist(positions, bins=range(1, 12), rwidth=0.1, align=\"left\");"
   ]
  },
  {
   "cell_type": "markdown",
   "metadata": {},
   "source": [
    "In above plot, horizontal axis is the islands (and their relative populations). Vertical axis is the number of weeks that King stayed at that island"
   ]
  },
  {
   "cell_type": "markdown",
   "metadata": {},
   "source": [
    "## 9.2 Metropolis Algorithms"
   ]
  },
  {
   "cell_type": "markdown",
   "metadata": {},
   "source": [
    "### 9.2.1 Gibbs sampling"
   ]
  },
  {
   "cell_type": "markdown",
   "metadata": {},
   "source": [
    "### 9.2.2 High-dimensional problems"
   ]
  },
  {
   "cell_type": "markdown",
   "metadata": {},
   "source": [
    "##### Code 9.4\n",
    "\n",
    "\n",
    "What this section demonstrates is that as the number of dimensions increase the mass of the samples move away from the peak.\n"
   ]
  },
  {
   "cell_type": "code",
   "execution_count": 13,
   "metadata": {},
   "outputs": [
    {
     "data": {
      "image/png": "[encoded data removed]",
      "text/plain": [
       "<Figure size 576x288 with 4 Axes>"
      ]
     },
     "metadata": {
      "needs_background": "light"
     },
     "output_type": "display_data"
    }
   ],
   "source": [
    "T = int(1e3)\n",
    "\n",
    "_, ax = plt.subplots(2,2, figsize=(8,4))\n",
    "plt.xlabel(\"Radial distance from the mode\")    \n",
    "    \n",
    "def build_and_plot(d, ax_p):    \n",
    "    loc = tf.cast(np.repeat(0, d), dtype=tf.float32)\n",
    "    scale_diag = np.identity(d, dtype=np.float32)\n",
    "    Y = tfd.MultivariateNormalDiag(loc=loc, scale_diag=scale_diag).sample((T,)).numpy()\n",
    "    rad_dist = lambda Y: np.sqrt(np.sum(Y ** 2))\n",
    "    Rd = list(map(lambda i: rad_dist(Y[i]), np.arange(T)))\n",
    "    az.plot_kde(Rd, bw=0.18, label=f\"Dim = {d}\", ax=ax_p);\n",
    "    \n",
    "build_and_plot(1, ax[0][0])\n",
    "build_and_plot(10, ax[0][1])\n",
    "build_and_plot(100, ax[1][0])\n",
    "build_and_plot(1000, ax[1][1])"
   ]
  },
  {
   "cell_type": "markdown",
   "metadata": {},
   "source": [
    "In the above plot, the horizontal axis shows **Radial distance** from the **mode** in the parameter space.\n",
    "\n",
    "The peak in the above diagrams represent the amount of samples.\n",
    "\n",
    "For Dim == 1, the peak is near 0\n",
    "\n",
    "For Dim == 10, the peak is far from zero already \n",
    "\n",
    "and so on ...\n",
    "\n",
    "The sampled points are in a thin, high-dimensional shell very far from the mode.\n",
    "\n",
    "Because of above behavior (i.e. high dimensionsal space), the author suggests we need better MCMC algos than Metropolios and Gibbs\n"
   ]
  },
  {
   "cell_type": "markdown",
   "metadata": {},
   "source": [
    "## 9.3 Hamiltonian Monte Carlo"
   ]
  },
  {
   "cell_type": "markdown",
   "metadata": {},
   "source": [
    "##### Code 9.5\n",
    "\n",
    "These next few cells will implement the Hamiltonian Monte Carlo algo. (Overthinking box in the chapter)\n",
    "\n",
    "We need five things to do that -\n",
    "\n",
    "1. A function named `U` that returns the -ive log-prob of data at a current position (parameter value)\n",
    "\n",
    "2. A function named `grad_U` that returns the *gradient* of the -ive log-prob at the current position\n",
    "\n",
    "3. A step size `epsilon`\n",
    "\n",
    "4. A count of leapfrog steps `L`\n",
    "\n",
    "5. A starting position `current_q`\n",
    "\n",
    "Note - The position is a vector of parameter values & that the gradient also needs to return the vector of the same lenght. \n"
   ]
  },
  {
   "cell_type": "code",
   "execution_count": 14,
   "metadata": {},
   "outputs": [
    {
     "data": {
      "text/plain": [
       "array([ 0.12833239, -0.22964787, -0.40774608, -0.30924067, -0.75710726,\n",
       "       -1.12151   ,  0.54429084,  0.20373885,  0.5373924 ,  2.2354805 ,\n",
       "       -0.55821157,  0.8479281 , -0.01069919, -2.2879438 ,  2.1183472 ,\n",
       "        0.5721366 ,  1.5381907 , -2.4450817 , -0.15067661,  0.0314163 ,\n",
       "       -0.06329995, -1.5469027 ,  0.6112922 , -0.6234371 ,  0.7724736 ,\n",
       "        0.31413972,  2.2127857 , -0.30521753, -0.06263847,  0.60814875,\n",
       "        1.7873812 , -0.23929906, -0.1567227 , -0.09433585, -0.25074163,\n",
       "        0.3817731 , -1.289493  , -0.03346271, -0.25672948, -0.02745551,\n",
       "        1.6410016 , -1.2717627 , -0.18327089,  0.6673328 , -0.7348228 ,\n",
       "       -0.5346852 , -1.177903  , -0.9149043 , -0.3239217 ,  0.6152883 ],\n",
       "      dtype=float32)"
      ]
     },
     "execution_count": 14,
     "metadata": {},
     "output_type": "execute_result"
    }
   ],
   "source": [
    "## Note - change from the book here\n",
    "#\n",
    "# The book generates the test data in code 9.6 but I am going to generate it here\n",
    "\n",
    "def generate_test_data():\n",
    "    # test data\n",
    "    _SEED = 7\n",
    "\n",
    "    seed = tfp.util.SeedStream(seed=_SEED, salt=\"Testdata\")\n",
    "    y = tfd.Normal(loc=0., scale=1.).sample(50, seed=seed()).numpy()\n",
    "    x = tfd.Normal(loc=0., scale=1.).sample(50, seed=seed()).numpy()\n",
    "\n",
    "    # standardize the data\n",
    "    y = (y - np.mean(y)) / np.std(y)\n",
    "    x = (x - np.mean(x)) / np.std(x)\n",
    "    \n",
    "    return x,y\n",
    "\n",
    "x,y = generate_test_data()\n",
    "\n",
    "y"
   ]
  },
  {
   "cell_type": "code",
   "execution_count": 15,
   "metadata": {},
   "outputs": [],
   "source": [
    "def U(q, a=0., b=1., k=0., d=1.):\n",
    "    muy = q[0]\n",
    "    mux = q[1]\n",
    "    \n",
    "    logprob_y = tf.reduce_sum(tfd.Normal(loc=muy, scale=1.).log_prob(y)).numpy()\n",
    "    logprob_x = tf.reduce_sum(tfd.Normal(loc=mux, scale=1.).log_prob(x)).numpy()\n",
    "    \n",
    "    logprob_muy = tfd.Normal(loc=a, scale=b).log_prob(muy).numpy()\n",
    "    logprob_mux = tfd.Normal(loc=k, scale=d).log_prob(mux).numpy()\n",
    "    \n",
    "    return -(logprob_y + logprob_x + logprob_muy + logprob_mux)"
   ]
  },
  {
   "cell_type": "markdown",
   "metadata": {},
   "source": [
    "##### Code 9.6"
   ]
  },
  {
   "cell_type": "code",
   "execution_count": 16,
   "metadata": {},
   "outputs": [],
   "source": [
    "def U_gradient(q, a=0., b=1., k=0., d=1.):\n",
    "    muy = q[0]\n",
    "    mux = q[1]\n",
    "    G1 = np.sum(y - muy) + (a - muy) / b ** 2  # dU/dmuy\n",
    "    G2 = np.sum(x - mux) + (k - mux) / b ** 2  # dU/dmux\n",
    "    return np.stack([-G1, -G2])  # negative bc energy is neg-log-prob"
   ]
  },
  {
   "cell_type": "markdown",
   "metadata": {},
   "source": [
    "##### Code 9.7,  9.8,  9.9 & 9.10"
   ]
  },
  {
   "cell_type": "code",
   "execution_count": 17,
   "metadata": {},
   "outputs": [
    {
     "data": {
      "text/plain": [
       "<matplotlib.collections.PathCollection at 0x1495c6210>"
      ]
     },
     "execution_count": 17,
     "metadata": {},
     "output_type": "execute_result"
    },
    {
     "data": {
      "image/png": "[encoded data removed]",
      "text/plain": [
       "<Figure size 432x288 with 1 Axes>"
      ]
     },
     "metadata": {
      "needs_background": "light"
     },
     "output_type": "display_data"
    }
   ],
   "source": [
    "Q = {}\n",
    "Q[\"q\"] = np.array([-0.1, 0.2])\n",
    "pr = 0.31\n",
    "plt.subplot(ylabel=\"muy\", xlabel=\"mux\", xlim=(-pr, pr), ylim=(-pr, pr))\n",
    "step = 0.03\n",
    "L = 11  # 0.03/28 for U-turns --- 11 for working example\n",
    "n_samples = 4\n",
    "path_col = (0, 0, 0, 0.5)\n",
    "for r in 0.075 * np.arange(2, 6):\n",
    "    plt.gca().add_artist(plt.Circle((0, 0), r, alpha=0.2, fill=False))\n",
    "plt.scatter(Q[\"q\"][0], Q[\"q\"][1], c=\"k\", marker=\"x\", zorder=4)"
   ]
  },
  {
   "cell_type": "code",
   "execution_count": 18,
   "metadata": {},
   "outputs": [
    {
     "name": "stderr",
     "output_type": "stream",
     "text": [
      "/Users/ksachdeva/Desktop/Dev/myoss/rethinking-tfp-interim/env/lib/python3.7/site-packages/jax/lib/xla_bridge.py:130: UserWarning: No GPU/TPU found, falling back to CPU.\n",
      "  warnings.warn('No GPU/TPU found, falling back to CPU.')\n"
     ]
    },
    {
     "data": {
      "image/png": "[encoded data removed]",
      "text/plain": [
       "<Figure size 432x288 with 1 Axes>"
      ]
     },
     "metadata": {
      "needs_background": "light"
     },
     "output_type": "display_data"
    }
   ],
   "source": [
    "def HMC2(U, grad_U, epsilon, L, current_q):\n",
    "    q = current_q\n",
    "    \n",
    "    # Random flick - p is the momentum\n",
    "    p = tfd.Normal(loc=0., scale=1.).sample(q.shape[0]).numpy()\n",
    "    current_p = p\n",
    "    \n",
    "    # Make a half step for momentum at the begining\n",
    "    p = p - epsilon * grad_U(q) / 2\n",
    "    \n",
    "    # initialize bookkeeping - saves trajectory\n",
    "    qtraj = jnp.full((L + 1, q.shape[0]), np.nan)\n",
    "    ptraj = qtraj        \n",
    "    \n",
    "    qtraj = ops.index_update(qtraj, 0, current_q)\n",
    "    ptraj = ops.index_update(ptraj, 0, p)    \n",
    "    \n",
    "    # Alternate full steps for position and momentum\n",
    "    for i in range(L):\n",
    "        q = q + epsilon * p  # Full step for the position\n",
    "        # Make a full step for the momentum, except at end of trajectory\n",
    "        if i != (L - 1):\n",
    "            p = p - epsilon * grad_U(q)\n",
    "            ptraj = ops.index_update(ptraj, i + 1, p)\n",
    "        qtraj = ops.index_update(qtraj, i + 1, q)\n",
    "\n",
    "    # Make a half step for momentum at the end\n",
    "    p = p - epsilon * grad_U(q) / 2\n",
    "    \n",
    "    #ptraj[L] = p\n",
    "    ptraj = ops.index_update(ptraj, L, p)\n",
    "    \n",
    "    # Negate momentum at end of trajectory to make the proposal symmetric\n",
    "    p = -p\n",
    "    # Evaluate potential and kinetic energies at start and end of trajectory\n",
    "    current_U = U(current_q)\n",
    "    current_K = np.sum(current_p ** 2) / 2\n",
    "    proposed_U = U(q)\n",
    "    proposed_K = np.sum(p ** 2) / 2\n",
    "    # Accept or reject the state at end of trajectory, returning either\n",
    "    # the position at the end of the trajectory or the initial position\n",
    "    accept = 0\n",
    "    runif = tfd.Uniform(low=0., high=1.).sample().numpy()\n",
    "    if runif < np.exp(current_U - proposed_U + current_K - proposed_K):\n",
    "        new_q = q  # accept\n",
    "        accept = 1\n",
    "    else:\n",
    "        new_q = current_q  # reject\n",
    "        \n",
    "    return {\"q\": new_q, \"traj\": qtraj, \"ptraj\": ptraj, \"accept\": accept,\n",
    "            \"dH\": proposed_U + proposed_K - (current_U + current_K)}\n",
    "    \n",
    "    \n",
    "for i in range(n_samples):    \n",
    "    Q = HMC2(U, U_gradient, step, L, Q[\"q\"]) \n",
    "    if n_samples < 10:\n",
    "        for j in range(L):\n",
    "            K0 = np.sum(Q[\"ptraj\"][j] ** 2) / 2\n",
    "            plt.plot(Q[\"traj\"][j:j + 2, 0], Q[\"traj\"][j:j + 2, 1],\n",
    "                     c=path_col, lw=1 + 2 * K0)\n",
    "        plt.scatter(Q[\"traj\"][:, 0], Q[\"traj\"][:, 1], c=\"white\", s=5, zorder=3)\n",
    "        # for fancy arrows\n",
    "        dx = Q[\"traj\"][L, 0] - Q[\"traj\"][L - 1, 0]\n",
    "        dy = Q[\"traj\"][L, 1] - Q[\"traj\"][L - 1, 1]\n",
    "        d = np.sqrt(dx ** 2 + dy ** 2)\n",
    "        plt.annotate(\"\", (Q[\"traj\"][L - 1, 0], Q[\"traj\"][L - 1, 1]),\n",
    "                     (Q[\"traj\"][L, 0], Q[\"traj\"][L, 1]),\n",
    "                     arrowprops={\"arrowstyle\": \"<-\"})\n",
    "        plt.annotate(str(i + 1), (Q[\"traj\"][L, 0], Q[\"traj\"][L, 1]),\n",
    "                     xytext=(3, 3), textcoords=\"offset points\")\n",
    "    plt.scatter(Q[\"traj\"][L + 1, 0], Q[\"traj\"][L + 1, 1],\n",
    "                c=(\"red\" if np.abs(Q[\"dH\"]) > 0.1 else \"black\"), zorder=4)\n",
    "    "
   ]
  },
  {
   "cell_type": "markdown",
   "metadata": {},
   "source": [
    "## 9.4 Easy HMC: ulam  (TODO)"
   ]
  },
  {
   "cell_type": "markdown",
   "metadata": {},
   "source": [
    "## 9.5 Care and feeding of your Markov chain (TODO)"
   ]
  },
  {
   "cell_type": "code",
   "execution_count": null,
   "metadata": {},
   "outputs": [],
   "source": []
  }
 ],
 "metadata": {
  "kernelspec": {
   "display_name": "Python 3",
   "language": "python",
   "name": "python3"
  },
  "language_info": {
   "codemirror_mode": {
    "name": "ipython",
    "version": 3
   },
   "file_extension": ".py",
   "mimetype": "text/x-python",
   "name": "python",
   "nbconvert_exporter": "python",
   "pygments_lexer": "ipython3",
   "version": "3.7.5"
  },
  "toc": {
   "base_numbering": 1,
   "nav_menu": {},
   "number_sections": true,
   "sideBar": true,
   "skip_h1_title": false,
   "title_cell": "Table of Contents",
   "title_sidebar": "Contents",
   "toc_cell": false,
   "toc_position": {},
   "toc_section_display": true,
   "toc_window_display": false
  }
 },
 "nbformat": 4,
 "nbformat_minor": 4
}
