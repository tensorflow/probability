{
 "cells": [
  {
   "cell_type": "markdown",
   "metadata": {},
   "source": [
    "##### Copyright 2020 The TensorFlow Authors.\n",
    "\n",
    "Licensed under the Apache License, Version 2.0 (the \"License\");"
   ]
  },
  {
   "cell_type": "code",
   "execution_count": 1,
   "metadata": {},
   "outputs": [],
   "source": [
    "#@title Licensed under the Apache License, Version 2.0 (the \"License\"); { display-mode: \"form\" }\n",
    "# you may not use this file except in compliance with the License.\n",
    "# You may obtain a copy of the License at\n",
    "#\n",
    "# https://www.apache.org/licenses/LICENSE-2.0\n",
    "#\n",
    "# Unless required by applicable law or agreed to in writing, software\n",
    "# distributed under the License is distributed on an \"AS IS\" BASIS,\n",
    "# WITHOUT WARRANTIES OR CONDITIONS OF ANY KIND, either express or implied.\n",
    "# See the License for the specific language governing permissions and\n",
    "# limitations under the License."
   ]
  },
  {
   "cell_type": "markdown",
   "metadata": {},
   "source": [
    "# Chapter 16 - Generalized Linear Madness\n",
    "\n",
    "<table class=\"tfo-notebook-buttons\" align=\"left\">\n",
    "  <td>\n",
    "    <a target=\"_blank\" href=\"https://www.tensorflow.org/probability/examples/statistical_rethinking/notebooks/16_generalized_linear_madness\"><img src=\"https://www.tensorflow.org/images/tf_logo_32px.png\" />View on TensorFlow.org</a>\n",
    "  </td>\n",
    "  <td>\n",
    "    <a target=\"_blank\" href=\"https://colab.research.google.com/github/tensorflow/probability/blob/master/tensorflow_probability/examples/statistical_rethinking/notebooks/16_generalized_linear_madness.ipynb\"><img src=\"https://www.tensorflow.org/images/colab_logo_32px.png\" />Run in Google Colab</a>\n",
    "  </td>\n",
    "  <td>\n",
    "    <a target=\"_blank\" href=\"https://github.com/tensorflow/probability/blob/master/tensorflow_probability/examples/statistical_rethinking/notebooks/16_generalized_linear_madness.ipynb\"><img src=\"https://www.tensorflow.org/images/GitHub-Mark-32px.png\" />View source on GitHub</a>\n",
    "  </td>\n",
    "  <td>\n",
    "    <a href=\"https://storage.googleapis.com/tensorflow_docs/probability/examples/statistical_rethinking/notebooks/16_generalized_linear_madness.ipynb\"><img src=\"https://www.tensorflow.org/images/download_logo_32px.png\" />Download notebook</a>\n",
    "  </td>\n",
    "</table>"
   ]
  },
  {
   "cell_type": "markdown",
   "metadata": {},
   "source": [
    "## Imports and utility functions\n"
   ]
  },
  {
   "cell_type": "code",
   "execution_count": 2,
   "metadata": {},
   "outputs": [],
   "source": [
    "#@title Install { display-mode: \"form\" }\n",
    "TF_Installation = 'System' #@param ['TF Nightly', 'TF Stable', 'System']\n",
    "\n",
    "if TF_Installation == 'TF Nightly':\n",
    "  !pip install -q --upgrade tf-nightly\n",
    "  print('Installation of `tf-nightly` complete.')\n",
    "elif TF_Installation == 'TF Stable':\n",
    "  !pip install -q --upgrade tensorflow\n",
    "  print('Installation of `tensorflow` complete.')\n",
    "elif TF_Installation == 'System':\n",
    "  pass\n",
    "else:\n",
    "  raise ValueError('Selection Error: Please select a valid '\n",
    "                   'installation option.')"
   ]
  },
  {
   "cell_type": "code",
   "execution_count": 3,
   "metadata": {},
   "outputs": [],
   "source": [
    "#@title Install { display-mode: \"form\" }\n",
    "TFP_Installation = \"System\" #@param [\"Nightly\", \"Stable\", \"System\"]\n",
    "\n",
    "if TFP_Installation == \"Nightly\":\n",
    "  !pip install -q tfp-nightly\n",
    "  print(\"Installation of `tfp-nightly` complete.\")\n",
    "elif TFP_Installation == \"Stable\":\n",
    "  !pip install -q --upgrade tensorflow-probability\n",
    "  print(\"Installation of `tensorflow-probability` complete.\")\n",
    "elif TFP_Installation == \"System\":\n",
    "  pass\n",
    "else:\n",
    "  raise ValueError(\"Selection Error: Please select a valid \"\n",
    "                   \"installation option.\")"
   ]
  },
  {
   "cell_type": "code",
   "execution_count": 4,
   "metadata": {},
   "outputs": [],
   "source": [
    "#@title Install { display-mode: \"form\" }\n",
    "\n",
    "# Install packages that are not installed in colab\n",
    "try:\n",
    "  import google.colab\n",
    "  IN_COLAB = True\n",
    "except:\n",
    "  IN_COLAB = False\n",
    "\n",
    "if IN_COLAB:\n",
    "    print(\"Installing arviz ...\")\n",
    "    !pip install -q arviz"
   ]
  },
  {
   "cell_type": "code",
   "execution_count": 5,
   "metadata": {},
   "outputs": [],
   "source": [
    "# Core\n",
    "import collections\n",
    "import numpy as np\n",
    "import arviz as az\n",
    "import pandas as pd\n",
    "import xarray as xr\n",
    "import tensorflow as tf\n",
    "import tensorflow_probability as tfp\n",
    "\n",
    "# visualization \n",
    "import matplotlib.pyplot as plt\n",
    "\n",
    "# aliases\n",
    "tfd = tfp.distributions\n",
    "tfb = tfp.bijectors\n",
    "Root = tfd.JointDistributionCoroutine.Root"
   ]
  },
  {
   "cell_type": "code",
   "execution_count": 6,
   "metadata": {},
   "outputs": [],
   "source": [
    "az.style.use('seaborn-colorblind')"
   ]
  },
  {
   "cell_type": "markdown",
   "metadata": {},
   "source": [
    "## Sampling helpers\n"
   ]
  },
  {
   "cell_type": "code",
   "execution_count": 7,
   "metadata": {},
   "outputs": [],
   "source": [
    "USE_XLA = False              #@param\n",
    "\n",
    "def _trace_to_arviz(trace=None,\n",
    "                   sample_stats=None,\n",
    "                   observed_data=None,\n",
    "                   prior_predictive=None,\n",
    "                   posterior_predictive=None,\n",
    "                   inplace=True):\n",
    "\n",
    "    if trace is not None and isinstance(trace, dict):\n",
    "        trace = {k: v.numpy()\n",
    "                 for k, v in trace.items()}\n",
    "    if sample_stats is not None and isinstance(sample_stats, dict):\n",
    "        sample_stats = {k: v.numpy().T for k, v in sample_stats.items()}\n",
    "    if prior_predictive is not None and isinstance(prior_predictive, dict):\n",
    "        prior_predictive = {k: v[np.newaxis]\n",
    "                            for k, v in prior_predictive.items()}\n",
    "    if posterior_predictive is not None and isinstance(posterior_predictive, dict):\n",
    "        if isinstance(trace, az.InferenceData) and inplace == True:\n",
    "            return trace + az.from_dict(posterior_predictive=posterior_predictive)\n",
    "        else:\n",
    "            trace = None\n",
    "\n",
    "    return az.from_dict(\n",
    "        posterior=trace,\n",
    "        sample_stats=sample_stats,\n",
    "        prior_predictive=prior_predictive,\n",
    "        posterior_predictive=posterior_predictive,\n",
    "        observed_data=observed_data,\n",
    "    )\n"
   ]
  },
  {
   "cell_type": "code",
   "execution_count": 8,
   "metadata": {},
   "outputs": [],
   "source": [
    "NUMBER_OF_SAMPLES = 2000           #@param\n",
    "\n",
    "MCMC_NUMBER_OF_CHAINS  = 2         #@param \n",
    "MCMC_NUMBER_OF_BURNIN  = 1000      #@param\n",
    "MCMC_NUMBER_OF_LEAPFROG_STEPS = 4  #@param\n",
    "\n",
    "@tf.function(autograph=False, experimental_compile=USE_XLA)\n",
    "def run_hmc_chain(init_state,\n",
    "                  bijectors, \n",
    "                  step_size, \n",
    "                  target_log_prob_fn, \n",
    "                  num_leapfrog_steps=MCMC_NUMBER_OF_LEAPFROG_STEPS,\n",
    "                  num_samples=NUMBER_OF_SAMPLES,\n",
    "                  burnin=MCMC_NUMBER_OF_BURNIN):    \n",
    "\n",
    "    def _trace_fn_transitioned(_, pkr):\n",
    "        return (\n",
    "            pkr.inner_results.inner_results.log_accept_ratio\n",
    "        )\n",
    "\n",
    "    hmc_kernel = tfp.mcmc.HamiltonianMonteCarlo(\n",
    "        target_log_prob_fn,\n",
    "        num_leapfrog_steps=num_leapfrog_steps,\n",
    "        step_size=step_size,\n",
    "    )         \n",
    "\n",
    "    inner_kernel = tfp.mcmc.TransformedTransitionKernel(\n",
    "        inner_kernel=hmc_kernel,\n",
    "        bijector=bijectors,\n",
    "    )       \n",
    "\n",
    "    kernel = tfp.mcmc.SimpleStepSizeAdaptation(\n",
    "        inner_kernel=inner_kernel,\n",
    "        target_accept_prob=.8,\n",
    "        num_adaptation_steps=int(0.8*burnin),\n",
    "        log_accept_prob_getter_fn=lambda pkr: pkr.inner_results.log_accept_ratio\n",
    "    )    \n",
    "\n",
    "    results, sampler_stat = tfp.mcmc.sample_chain(\n",
    "        num_results=num_samples,\n",
    "        num_burnin_steps=burnin,\n",
    "        current_state=init_state,\n",
    "        kernel=kernel,\n",
    "        trace_fn=_trace_fn_transitioned)\n",
    "\n",
    "    return results, sampler_stat    \n",
    "\n",
    "def sample_posterior(\n",
    "              jdc, \n",
    "              observed_data,\n",
    "              init_config,\n",
    "              mcmc_config=dict(),\n",
    "              num_samples=NUMBER_OF_SAMPLES):\n",
    "    \n",
    "    assert init_config is not None\n",
    "    \n",
    "    # expecting the order of keys is same \n",
    "    # as that of definition in the model function\n",
    "    params = init_config.keys()\n",
    "    \n",
    "    init_state = []\n",
    "    bijectors = []\n",
    "    for p in params:\n",
    "        init_state.append(init_config[p]['state'])\n",
    "        bijectors.append(init_config[p]['bijector'])\n",
    "\n",
    "    target_log_prob_fn = lambda *x: jdc.log_prob(x + observed_data)  \n",
    "    \n",
    "    \n",
    "    step_size  = mcmc_config.get('step_size', 0.1)\n",
    "    num_chains = mcmc_config.get('num_chains', MCMC_NUMBER_OF_CHAINS)\n",
    "    burnin     = mcmc_config.get('burnin', MCMC_NUMBER_OF_BURNIN)\n",
    "    \n",
    "    results, sample_stats = run_hmc_chain(\n",
    "        init_state,\n",
    "        bijectors,\n",
    "        step_size=step_size,\n",
    "        target_log_prob_fn=target_log_prob_fn,                                      \n",
    "        num_samples=num_samples, \n",
    "        burnin=burnin,\n",
    "    )\n",
    "\n",
    "    stat_names = ['mean_tree_accept']\n",
    "    sampler_stats = dict(zip(stat_names, [sample_stats]))      \n",
    "        \n",
    "    transposed_results = []\n",
    "    \n",
    "    for r in results:        \n",
    "        if len(r.shape) == 2:\n",
    "            transposed_shape = [1,0]\n",
    "        elif len(r.shape) == 3:\n",
    "            transposed_shape = [1,0,2] \n",
    "        else:\n",
    "            transposed_shape = [1,0,2,3] \n",
    "        \n",
    "        transposed_results.append(tf.transpose(r, transposed_shape))\n",
    "\n",
    "    posterior = dict(zip(params, transposed_results))        \n",
    "\n",
    "    az_trace = _trace_to_arviz(trace=posterior, sample_stats=sampler_stats)\n",
    "\n",
    "    return posterior, az_trace"
   ]
  },
  {
   "cell_type": "markdown",
   "metadata": {},
   "source": [
    "## Dataset URLs & Utils\n"
   ]
  },
  {
   "cell_type": "code",
   "execution_count": 9,
   "metadata": {},
   "outputs": [],
   "source": [
    "# You could change base url to local dir or a remoate raw github content\n",
    "_BASE_URL = \"https://raw.githubusercontent.com/rmcelreath/rethinking/master/data\"\n",
    "\n",
    "HOWELL1_DATASET_PATH = f\"{_BASE_URL}/Howell1.csv\"\n",
    "BOXES_DATASET_PATH = f\"{_BASE_URL}/Boxes.csv\"\n",
    "PANDA_NUTS_DATASET_PATH = f\"{_BASE_URL}/Panda_nuts.csv\"\n",
    "LYNX_HARE_DATASET_PATH = f\"{_BASE_URL}/Lynx_Hare.csv\""
   ]
  },
  {
   "cell_type": "code",
   "execution_count": 10,
   "metadata": {},
   "outputs": [],
   "source": [
    "# A utility method to convert data (columns) from pandas dataframe\n",
    "# into tensors with appropriate type\n",
    "def df_to_tensors(name, df, columns, default_type=tf.float32):\n",
    "    \"\"\" name : Name of the dataset\n",
    "        df : pandas dataframe\n",
    "        colums : a list of names that have the same type or\n",
    "                 a dictionary where keys are the column names and values are the tensorflow type (e.g. tf.float32)\n",
    "    \"\"\"\n",
    "    if isinstance(columns,dict):\n",
    "        column_names = columns.keys()\n",
    "        fields = [tf.cast(df[k].values, dtype=v) for k,v in columns.items()]    \n",
    "    else:\n",
    "        column_names = columns        \n",
    "        fields = [tf.cast(df[k].values, dtype=default_type) for k in column_names]    \n",
    "        \n",
    "    # build the cls\n",
    "    tuple_cls = collections.namedtuple(name, column_names)    \n",
    "    # build the obj\n",
    "    return tuple_cls._make(fields) "
   ]
  },
  {
   "cell_type": "markdown",
   "metadata": {},
   "source": [
    "# Introduction"
   ]
  },
  {
   "cell_type": "markdown",
   "metadata": {},
   "source": [
    "## 16.1 Geometric people"
   ]
  },
  {
   "cell_type": "markdown",
   "metadata": {},
   "source": [
    "### 16.1.1 The scientific model"
   ]
  },
  {
   "cell_type": "markdown",
   "metadata": {},
   "source": [
    "### 16.1.2 The statistical model"
   ]
  },
  {
   "cell_type": "markdown",
   "metadata": {},
   "source": [
    "##### Code 16.1\n",
    "\n",
    "Even though Generalized Linear Models are very powerful, not everything can still be modeled as a GLM - a linear combination of variables mapped onto a non-linear outcome.\n",
    "\n",
    "Author strongly suggests that starting with GLM instead of real models may have severe consequences as it may be difficult to learn from failures in this case. \n",
    "\n",
    "Here the focus is going to be using scientific information in modeling"
   ]
  },
  {
   "cell_type": "code",
   "execution_count": 11,
   "metadata": {},
   "outputs": [
    {
     "data": {
      "text/html": [
       "<div>\n",
       "<style scoped>\n",
       "    .dataframe tbody tr th:only-of-type {\n",
       "        vertical-align: middle;\n",
       "    }\n",
       "\n",
       "    .dataframe tbody tr th {\n",
       "        vertical-align: top;\n",
       "    }\n",
       "\n",
       "    .dataframe thead th {\n",
       "        text-align: right;\n",
       "    }\n",
       "</style>\n",
       "<table border=\"1\" class=\"dataframe\">\n",
       "  <thead>\n",
       "    <tr style=\"text-align: right;\">\n",
       "      <th></th>\n",
       "      <th>height</th>\n",
       "      <th>weight</th>\n",
       "      <th>age</th>\n",
       "      <th>male</th>\n",
       "      <th>w</th>\n",
       "      <th>h</th>\n",
       "    </tr>\n",
       "  </thead>\n",
       "  <tbody>\n",
       "    <tr>\n",
       "      <th>0</th>\n",
       "      <td>151.765</td>\n",
       "      <td>47.825606</td>\n",
       "      <td>63.0</td>\n",
       "      <td>1</td>\n",
       "      <td>1.343015</td>\n",
       "      <td>1.097650</td>\n",
       "    </tr>\n",
       "    <tr>\n",
       "      <th>1</th>\n",
       "      <td>139.700</td>\n",
       "      <td>36.485807</td>\n",
       "      <td>63.0</td>\n",
       "      <td>0</td>\n",
       "      <td>1.024577</td>\n",
       "      <td>1.010389</td>\n",
       "    </tr>\n",
       "    <tr>\n",
       "      <th>2</th>\n",
       "      <td>136.525</td>\n",
       "      <td>31.864838</td>\n",
       "      <td>65.0</td>\n",
       "      <td>0</td>\n",
       "      <td>0.894813</td>\n",
       "      <td>0.987425</td>\n",
       "    </tr>\n",
       "    <tr>\n",
       "      <th>3</th>\n",
       "      <td>156.845</td>\n",
       "      <td>53.041915</td>\n",
       "      <td>41.0</td>\n",
       "      <td>1</td>\n",
       "      <td>1.489497</td>\n",
       "      <td>1.134391</td>\n",
       "    </tr>\n",
       "    <tr>\n",
       "      <th>4</th>\n",
       "      <td>145.415</td>\n",
       "      <td>41.276872</td>\n",
       "      <td>51.0</td>\n",
       "      <td>0</td>\n",
       "      <td>1.159117</td>\n",
       "      <td>1.051723</td>\n",
       "    </tr>\n",
       "    <tr>\n",
       "      <th>...</th>\n",
       "      <td>...</td>\n",
       "      <td>...</td>\n",
       "      <td>...</td>\n",
       "      <td>...</td>\n",
       "      <td>...</td>\n",
       "      <td>...</td>\n",
       "    </tr>\n",
       "    <tr>\n",
       "      <th>539</th>\n",
       "      <td>145.415</td>\n",
       "      <td>31.127751</td>\n",
       "      <td>17.0</td>\n",
       "      <td>1</td>\n",
       "      <td>0.874114</td>\n",
       "      <td>1.051723</td>\n",
       "    </tr>\n",
       "    <tr>\n",
       "      <th>540</th>\n",
       "      <td>162.560</td>\n",
       "      <td>52.163080</td>\n",
       "      <td>31.0</td>\n",
       "      <td>1</td>\n",
       "      <td>1.464818</td>\n",
       "      <td>1.175725</td>\n",
       "    </tr>\n",
       "    <tr>\n",
       "      <th>541</th>\n",
       "      <td>156.210</td>\n",
       "      <td>54.062496</td>\n",
       "      <td>21.0</td>\n",
       "      <td>0</td>\n",
       "      <td>1.518157</td>\n",
       "      <td>1.129798</td>\n",
       "    </tr>\n",
       "    <tr>\n",
       "      <th>542</th>\n",
       "      <td>71.120</td>\n",
       "      <td>8.051258</td>\n",
       "      <td>0.0</td>\n",
       "      <td>1</td>\n",
       "      <td>0.226092</td>\n",
       "      <td>0.514380</td>\n",
       "    </tr>\n",
       "    <tr>\n",
       "      <th>543</th>\n",
       "      <td>158.750</td>\n",
       "      <td>52.531624</td>\n",
       "      <td>68.0</td>\n",
       "      <td>1</td>\n",
       "      <td>1.475167</td>\n",
       "      <td>1.148169</td>\n",
       "    </tr>\n",
       "  </tbody>\n",
       "</table>\n",
       "<p>544 rows × 6 columns</p>\n",
       "</div>"
      ],
      "text/plain": [
       "      height     weight   age  male         w         h\n",
       "0    151.765  47.825606  63.0     1  1.343015  1.097650\n",
       "1    139.700  36.485807  63.0     0  1.024577  1.010389\n",
       "2    136.525  31.864838  65.0     0  0.894813  0.987425\n",
       "3    156.845  53.041915  41.0     1  1.489497  1.134391\n",
       "4    145.415  41.276872  51.0     0  1.159117  1.051723\n",
       "..       ...        ...   ...   ...       ...       ...\n",
       "539  145.415  31.127751  17.0     1  0.874114  1.051723\n",
       "540  162.560  52.163080  31.0     1  1.464818  1.175725\n",
       "541  156.210  54.062496  21.0     0  1.518157  1.129798\n",
       "542   71.120   8.051258   0.0     1  0.226092  0.514380\n",
       "543  158.750  52.531624  68.0     1  1.475167  1.148169\n",
       "\n",
       "[544 rows x 6 columns]"
      ]
     },
     "execution_count": 11,
     "metadata": {},
     "output_type": "execute_result"
    }
   ],
   "source": [
    "d = pd.read_csv(HOWELL1_DATASET_PATH, sep=\";\")\n",
    "\n",
    "# scale observed variables\n",
    "d[\"w\"] = d.weight / d.weight.mean()\n",
    "d[\"h\"] = d.height / d.height.mean()\n",
    "\n",
    "d"
   ]
  },
  {
   "cell_type": "code",
   "execution_count": 12,
   "metadata": {},
   "outputs": [],
   "source": [
    "tdf = df_to_tensors('Howell1', d, ['h', 'w'])"
   ]
  },
  {
   "cell_type": "markdown",
   "metadata": {},
   "source": [
    "##### Code 16.2\n",
    "\n",
    "The first thing to notice about the parameters k and p is that they are multiplied in the model and the data have no way to estimate anything except their product\n",
    "\n"
   ]
  },
  {
   "cell_type": "code",
   "execution_count": 13,
   "metadata": {},
   "outputs": [],
   "source": [
    "def model_16_1(h):\n",
    "    def _generator():      \n",
    "      p = yield Root(tfd.Sample(tfd.Beta(2., 18., name=\"p\"), sample_shape=1))      \n",
    "      k = yield Root(tfd.Sample(tfd.Exponential(rate=0.5, name=\"k\"), sample_shape=1))\n",
    "      sigma = yield Root(tfd.Sample(tfd.Exponential(rate=1., name=\"sigma\"), sample_shape=1))     \n",
    "        \n",
    "      term1 = p ** 2\n",
    "      term2 = h ** 3\n",
    "      \n",
    "      mu = tf.math.log(3.141593 * k[...,tf.newaxis] * term1[...,tf.newaxis] * term2) \n",
    "        \n",
    "      scale = sigma[...,tf.newaxis]\n",
    "      \n",
    "      w = yield tfd.Independent(tfd.LogNormal(loc=mu, scale=scale), reinterpreted_batch_ndims=1)             \n",
    "      \n",
    "    return tfd.JointDistributionCoroutine(_generator, validate_args=False)    \n",
    "    \n",
    "jdc_16_1 = model_16_1(tdf.h)"
   ]
  },
  {
   "cell_type": "code",
   "execution_count": 14,
   "metadata": {},
   "outputs": [
    {
     "name": "stdout",
     "output_type": "stream",
     "text": [
      "WARNING:tensorflow:From /Users/ksachdeva/Desktop/Dev/myoss/rethinking-tfp-interim/env/lib/python3.7/site-packages/tensorflow_probability/python/mcmc/kernel.py:104: calling HamiltonianMonteCarlo.__init__ (from tensorflow_probability.python.mcmc.hmc) with step_size_update_fn is deprecated and will be removed after 2019-05-22.\n",
      "Instructions for updating:\n",
      "The `step_size_update_fn` argument is deprecated. Use `tfp.mcmc.SimpleStepSizeAdaptation` instead.\n",
      "WARNING:tensorflow:From /Users/ksachdeva/Desktop/Dev/myoss/rethinking-tfp-interim/env/lib/python3.7/site-packages/tensorflow/python/util/deprecation.py:507: calling HamiltonianMonteCarlo.__init__ (from tensorflow_probability.python.mcmc.hmc) with seed is deprecated and will be removed after 2020-09-20.\n",
      "Instructions for updating:\n",
      "The `seed` argument is deprecated (but will work until removed). Pass seed to `tfp.mcmc.sample_chain` instead.\n"
     ]
    }
   ],
   "source": [
    "\n",
    "# Note - if I use zeros as the starting point\n",
    "# then the sampled params are really bad\n",
    "#\n",
    "# So starting the init state sampled from the model\n",
    "# itself\n",
    "p_init, k_init, sigma_init, _ = jdc_16_1.sample()\n",
    "\n",
    "init_state = [\n",
    "    tf.tile(p_init, (MCMC_NUMBER_OF_CHAINS,)),\n",
    "    tf.tile(k_init, (MCMC_NUMBER_OF_CHAINS,)),\n",
    "    tf.tile(sigma_init, (MCMC_NUMBER_OF_CHAINS,)),\n",
    "]\n",
    "\n",
    "\n",
    "init_config = dict(\n",
    "    p  = dict(state=init_state[0], bijector=tfb.Identity()),\n",
    "    k  = dict(state=init_state[1], bijector=tfb.Exp()),\n",
    "    sigma  = dict(state=init_state[2], bijector=tfb.Exp()),\n",
    ")\n",
    "\n",
    "\n",
    "posterior_16_1, trace_16_1 = sample_posterior(jdc_16_1,\n",
    "                               init_config=init_config,\n",
    "                               observed_data=(tdf.w,))"
   ]
  },
  {
   "cell_type": "markdown",
   "metadata": {},
   "source": [
    "##### Code 16.3"
   ]
  },
  {
   "cell_type": "code",
   "execution_count": 15,
   "metadata": {},
   "outputs": [
    {
     "data": {
      "image/png": "[encoded data removed]",
      "text/plain": [
       "<Figure size 432x288 with 1 Axes>"
      ]
     },
     "metadata": {
      "needs_background": "light"
     },
     "output_type": "display_data"
    }
   ],
   "source": [
    "h_seq = np.linspace(0, d.h.max(), num=30)\n",
    "\n",
    "p_sample = trace_16_1.posterior[\"p\"].values[0]\n",
    "k_sample = trace_16_1.posterior[\"k\"].values[0]\n",
    "sigma_sample = trace_16_1.posterior[\"sigma\"].values[0]\n",
    "\n",
    "def compute_w_from_samples(h):\n",
    "    mu = tf.math.log(3.141593 * k_sample * p_sample ** 2 * h ** 3)     \n",
    "    return tfd.LogNormal(loc=mu, scale=sigma_sample).sample().numpy()\n",
    "\n",
    "w_sim = np.array(list(map(compute_w_from_samples, h_seq))).T\n",
    "\n",
    "mu_mean = np.mean(w_sim, 0)\n",
    "w_CI = np.percentile(w_sim, q=(5.5, 94.5), axis=0)\n",
    "\n",
    "plt.plot(d.h, d.w, \"o\", c=\"royalblue\", mfc=\"none\")\n",
    "plt.gca().set(xlim=(0, d.h.max()), ylim=(0, d.w.max()),\n",
    "              xlabel=\"height (scaled)\", ylabel=\"weight (scaled)\")\n",
    "plt.plot(h_seq, mu_mean, \"k\")\n",
    "plt.fill_between(h_seq, w_CI[0], w_CI[1], color=\"k\", alpha=0.2);"
   ]
  },
  {
   "cell_type": "markdown",
   "metadata": {},
   "source": [
    "## 16.2 Hidden minds and observed behavior"
   ]
  },
  {
   "cell_type": "markdown",
   "metadata": {},
   "source": [
    "##### Code 16.4\n",
    "\n",
    "\n",
    "This dataset is about choices of the children.\n",
    "\n",
    "Apparatus has 3 tubes of different colors - Yellow, Blue and Red.\n",
    "\n",
    "If you drop a ball in the tube then a toy comes out. \n",
    "\n",
    "4 children demonstrated how the apparatus works i.e. they dropped the balls in the tube and showed that toys come out. \n",
    "\n",
    "629 children were involved aged 4 to 14 years\n",
    "\n",
    "In each trial, 3 demonstrator children chose the same color and the fourth one chose a differnt color. So out of 3 colors, 1 was selected by majority (i.e. 3 here), 1 was minority and 1 was not selected.\n",
    "\n",
    "The dataset is about the 5th children's choice once he/she has the seen the demonstration by 4 children. The task is to determine if his/her choice was impacted by the majority.\n"
   ]
  },
  {
   "cell_type": "code",
   "execution_count": 16,
   "metadata": {},
   "outputs": [
    {
     "data": {
      "text/html": [
       "<div>\n",
       "<style scoped>\n",
       "    .dataframe tbody tr th:only-of-type {\n",
       "        vertical-align: middle;\n",
       "    }\n",
       "\n",
       "    .dataframe tbody tr th {\n",
       "        vertical-align: top;\n",
       "    }\n",
       "\n",
       "    .dataframe thead th {\n",
       "        text-align: right;\n",
       "    }\n",
       "</style>\n",
       "<table border=\"1\" class=\"dataframe\">\n",
       "  <thead>\n",
       "    <tr style=\"text-align: right;\">\n",
       "      <th></th>\n",
       "      <th>mean</th>\n",
       "      <th>sd</th>\n",
       "      <th>hdi_5.5%</th>\n",
       "      <th>hdi_94.5%</th>\n",
       "    </tr>\n",
       "  </thead>\n",
       "  <tbody>\n",
       "    <tr>\n",
       "      <th>y</th>\n",
       "      <td>2.121</td>\n",
       "      <td>0.728</td>\n",
       "      <td>1.0</td>\n",
       "      <td>3.0</td>\n",
       "    </tr>\n",
       "    <tr>\n",
       "      <th>gender</th>\n",
       "      <td>1.506</td>\n",
       "      <td>0.500</td>\n",
       "      <td>1.0</td>\n",
       "      <td>2.0</td>\n",
       "    </tr>\n",
       "    <tr>\n",
       "      <th>age</th>\n",
       "      <td>8.030</td>\n",
       "      <td>2.498</td>\n",
       "      <td>5.0</td>\n",
       "      <td>12.0</td>\n",
       "    </tr>\n",
       "    <tr>\n",
       "      <th>majority_first</th>\n",
       "      <td>0.485</td>\n",
       "      <td>0.500</td>\n",
       "      <td>0.0</td>\n",
       "      <td>1.0</td>\n",
       "    </tr>\n",
       "    <tr>\n",
       "      <th>culture</th>\n",
       "      <td>3.752</td>\n",
       "      <td>1.960</td>\n",
       "      <td>1.0</td>\n",
       "      <td>6.0</td>\n",
       "    </tr>\n",
       "  </tbody>\n",
       "</table>\n",
       "</div>"
      ],
      "text/plain": [
       "                 mean     sd  hdi_5.5%  hdi_94.5%\n",
       "y               2.121  0.728       1.0        3.0\n",
       "gender          1.506  0.500       1.0        2.0\n",
       "age             8.030  2.498       5.0       12.0\n",
       "majority_first  0.485  0.500       0.0        1.0\n",
       "culture         3.752  1.960       1.0        6.0"
      ]
     },
     "execution_count": 16,
     "metadata": {},
     "output_type": "execute_result"
    }
   ],
   "source": [
    "d = pd.read_csv(BOXES_DATASET_PATH, sep=\";\")\n",
    "info = az.from_dict(dict(zip(d.columns, d.values.T)))\n",
    "az.summary(info, kind=\"stats\", hdi_prob=0.89)"
   ]
  },
  {
   "cell_type": "markdown",
   "metadata": {},
   "source": [
    "##### Code 16.5\n",
    "\n",
    "\n",
    "1 -> unchosen color by demonstrators\n",
    "\n",
    "2 -> majority color\n",
    "\n",
    "3 -> minority color"
   ]
  },
  {
   "cell_type": "code",
   "execution_count": 17,
   "metadata": {},
   "outputs": [
    {
     "data": {
      "text/plain": [
       "1    0.211447\n",
       "2    0.456280\n",
       "3    0.332273\n",
       "Name: y, dtype: float64"
      ]
     },
     "execution_count": 17,
     "metadata": {},
     "output_type": "execute_result"
    }
   ],
   "source": [
    "d.y.value_counts(sort=False) / d.y.shape[0]"
   ]
  },
  {
   "cell_type": "markdown",
   "metadata": {},
   "source": [
    "Above shows, that majority color was indeed chosen by the fifth children. But does this mean it was simply because of demonstration ? Was it the **cause** of what we are seeing in the data ?\n",
    "\n",
    "Authors says that we can not be sure of it because there could be different strategies and it may be the case that one of the strategy led to the same choice"
   ]
  },
  {
   "cell_type": "markdown",
   "metadata": {},
   "source": [
    "##### Code 16.6\n",
    "\n",
    "If we simulate choices for these children, we can figure out how often we might see the “2” choice, the one that indicates the majority color."
   ]
  },
  {
   "cell_type": "code",
   "execution_count": 18,
   "metadata": {},
   "outputs": [
    {
     "name": "stdout",
     "output_type": "stream",
     "text": [
      "0.7333333333333333\n"
     ]
    }
   ],
   "source": [
    "N = 30  # number of children\n",
    "\n",
    "# half are random\n",
    "# sample from 1,2,3 at random for each\n",
    "y1 = np.array([1, 2, 3])[\n",
    "    tfd.Sample(tfd.Categorical(logits=np.ones(3)), sample_shape=(N // 2,)).sample().numpy()\n",
    "]\n",
    "\n",
    "# half follow majority\n",
    "y2 = np.repeat(2, N // 2)\n",
    "\n",
    "# combine\n",
    "y = np.concatenate([y1, y2])\n",
    "\n",
    "# shuffle\n",
    "np.random.shuffle(y)\n",
    "\n",
    "# count the 2s\n",
    "print(np.sum(y == 2) / N)"
   ]
  },
  {
   "cell_type": "markdown",
   "metadata": {},
   "source": [
    "About 2/3rd of the choices are for the majority color (i.e. 2)"
   ]
  },
  {
   "cell_type": "markdown",
   "metadata": {},
   "source": [
    "### 16.2.2 The statistical model"
   ]
  },
  {
   "cell_type": "markdown",
   "metadata": {},
   "source": [
    "## Code 16.7  (Not working !)\n",
    "\n",
    "Having issues with shape again :("
   ]
  },
  {
   "cell_type": "code",
   "execution_count": 19,
   "metadata": {},
   "outputs": [
    {
     "data": {
      "text/html": [
       "<div>\n",
       "<style scoped>\n",
       "    .dataframe tbody tr th:only-of-type {\n",
       "        vertical-align: middle;\n",
       "    }\n",
       "\n",
       "    .dataframe tbody tr th {\n",
       "        vertical-align: top;\n",
       "    }\n",
       "\n",
       "    .dataframe thead th {\n",
       "        text-align: right;\n",
       "    }\n",
       "</style>\n",
       "<table border=\"1\" class=\"dataframe\">\n",
       "  <thead>\n",
       "    <tr style=\"text-align: right;\">\n",
       "      <th></th>\n",
       "      <th>y</th>\n",
       "      <th>gender</th>\n",
       "      <th>age</th>\n",
       "      <th>majority_first</th>\n",
       "      <th>culture</th>\n",
       "    </tr>\n",
       "  </thead>\n",
       "  <tbody>\n",
       "    <tr>\n",
       "      <th>count</th>\n",
       "      <td>629.000000</td>\n",
       "      <td>629.000000</td>\n",
       "      <td>629.000000</td>\n",
       "      <td>629.000000</td>\n",
       "      <td>629.000000</td>\n",
       "    </tr>\n",
       "    <tr>\n",
       "      <th>mean</th>\n",
       "      <td>2.120827</td>\n",
       "      <td>1.505564</td>\n",
       "      <td>8.030207</td>\n",
       "      <td>0.484897</td>\n",
       "      <td>3.751987</td>\n",
       "    </tr>\n",
       "    <tr>\n",
       "      <th>std</th>\n",
       "      <td>0.727986</td>\n",
       "      <td>0.500367</td>\n",
       "      <td>2.497906</td>\n",
       "      <td>0.500170</td>\n",
       "      <td>1.960319</td>\n",
       "    </tr>\n",
       "    <tr>\n",
       "      <th>min</th>\n",
       "      <td>1.000000</td>\n",
       "      <td>1.000000</td>\n",
       "      <td>4.000000</td>\n",
       "      <td>0.000000</td>\n",
       "      <td>1.000000</td>\n",
       "    </tr>\n",
       "    <tr>\n",
       "      <th>25%</th>\n",
       "      <td>2.000000</td>\n",
       "      <td>1.000000</td>\n",
       "      <td>6.000000</td>\n",
       "      <td>0.000000</td>\n",
       "      <td>3.000000</td>\n",
       "    </tr>\n",
       "    <tr>\n",
       "      <th>50%</th>\n",
       "      <td>2.000000</td>\n",
       "      <td>2.000000</td>\n",
       "      <td>8.000000</td>\n",
       "      <td>0.000000</td>\n",
       "      <td>3.000000</td>\n",
       "    </tr>\n",
       "    <tr>\n",
       "      <th>75%</th>\n",
       "      <td>3.000000</td>\n",
       "      <td>2.000000</td>\n",
       "      <td>10.000000</td>\n",
       "      <td>1.000000</td>\n",
       "      <td>5.000000</td>\n",
       "    </tr>\n",
       "    <tr>\n",
       "      <th>max</th>\n",
       "      <td>3.000000</td>\n",
       "      <td>2.000000</td>\n",
       "      <td>14.000000</td>\n",
       "      <td>1.000000</td>\n",
       "      <td>8.000000</td>\n",
       "    </tr>\n",
       "  </tbody>\n",
       "</table>\n",
       "</div>"
      ],
      "text/plain": [
       "                y      gender         age  majority_first     culture\n",
       "count  629.000000  629.000000  629.000000      629.000000  629.000000\n",
       "mean     2.120827    1.505564    8.030207        0.484897    3.751987\n",
       "std      0.727986    0.500367    2.497906        0.500170    1.960319\n",
       "min      1.000000    1.000000    4.000000        0.000000    1.000000\n",
       "25%      2.000000    1.000000    6.000000        0.000000    3.000000\n",
       "50%      2.000000    2.000000    8.000000        0.000000    3.000000\n",
       "75%      3.000000    2.000000   10.000000        1.000000    5.000000\n",
       "max      3.000000    2.000000   14.000000        1.000000    8.000000"
      ]
     },
     "execution_count": 19,
     "metadata": {},
     "output_type": "execute_result"
    }
   ],
   "source": [
    "d.describe()"
   ]
  },
  {
   "cell_type": "code",
   "execution_count": 20,
   "metadata": {},
   "outputs": [],
   "source": [
    "def make_boxes_model(N, y, majority_first):\n",
    "    def _generator():\n",
    "        # prior\n",
    "        p = yield Root(tfd.Sample(tfd.Dirichlet(tf.cast(np.repeat(4, 5), dtype=tf.float32)), sample_shape=1))\n",
    "        \n",
    "        # probability of data\n",
    "        phi = [None] * 5\n",
    "        phi[0] = np.where(y == 2, 1, 0)  # majority\n",
    "        phi[1] = np.where(y == 3, 1, 0)  # minority\n",
    "        phi[2] = np.where(y == 1, 1, 0)  # maverick\n",
    "        phi[3] = np.repeat(1.0 / 3.0, N) # random\n",
    "        phi[4] = np.where(majority_first == 1,  # follow first\n",
    "                          np.where(y == 2, 1, 0),\n",
    "                          np.where(y == 3, 1, 0))\n",
    "        \n",
    "#         ps = tf.squeeze(p)\n",
    "        ps = p\n",
    "        phi = np.array(phi, dtype=np.float32)\n",
    "        \n",
    "        print(ps.shape)\n",
    "        print(phi.shape)\n",
    "        \n",
    "        # compute log( p_s * Pr(y_i|s )\n",
    "        for j in range(5):\n",
    "            phi[j] = tf.math.log(ps[j]) + tf.math.log(phi[j])\n",
    "            \n",
    "        # compute average log-probability of y\n",
    "        logprob = tf.math.reduce_logsumexp(tf.stack(tf.constant(phi), axis=1), axis=1)\n",
    "        \n",
    "        w = yield tfd.Independent(tfd.Deterministic(loc=logprob), reinterpreted_batch_ndims=1) \n",
    "        \n",
    "    return tfd.JointDistributionCoroutine(_generator, validate_args=False)"
   ]
  },
  {
   "cell_type": "code",
   "execution_count": 21,
   "metadata": {},
   "outputs": [],
   "source": [
    "# dat= dict(N=d.shape[0],\n",
    "#           y=d.y.values,\n",
    "#           majority_first=d.majority_first.values)\n",
    "\n",
    "tdf = df_to_tensors(\"Boxes\", d, [\"y\", \"majority_first\"])\n",
    "\n",
    "jdc_boxes_model = make_boxes_model(d.shape[0], tdf.y, tdf.majority_first)\n"
   ]
  },
  {
   "cell_type": "code",
   "execution_count": 22,
   "metadata": {},
   "outputs": [],
   "source": [
    "# uncomment the line below to see the error\n",
    "\n",
    "# jdc_boxes_model.sample(2)"
   ]
  },
  {
   "cell_type": "markdown",
   "metadata": {},
   "source": [
    "##### Code 16.8 (depends on 16.7) [Not implemented]"
   ]
  },
  {
   "cell_type": "markdown",
   "metadata": {},
   "source": [
    "## 16.3 Ordinary differential nut cracking"
   ]
  },
  {
   "cell_type": "markdown",
   "metadata": {},
   "source": [
    "##### Code 16.9\n",
    "\n",
    "Modelling nut opening skill of chimpanzees"
   ]
  },
  {
   "cell_type": "code",
   "execution_count": 23,
   "metadata": {},
   "outputs": [
    {
     "data": {
      "text/html": [
       "<div>\n",
       "<style scoped>\n",
       "    .dataframe tbody tr th:only-of-type {\n",
       "        vertical-align: middle;\n",
       "    }\n",
       "\n",
       "    .dataframe tbody tr th {\n",
       "        vertical-align: top;\n",
       "    }\n",
       "\n",
       "    .dataframe thead th {\n",
       "        text-align: right;\n",
       "    }\n",
       "</style>\n",
       "<table border=\"1\" class=\"dataframe\">\n",
       "  <thead>\n",
       "    <tr style=\"text-align: right;\">\n",
       "      <th></th>\n",
       "      <th>chimpanzee</th>\n",
       "      <th>age</th>\n",
       "      <th>sex</th>\n",
       "      <th>hammer</th>\n",
       "      <th>nuts_opened</th>\n",
       "      <th>seconds</th>\n",
       "      <th>help</th>\n",
       "    </tr>\n",
       "  </thead>\n",
       "  <tbody>\n",
       "    <tr>\n",
       "      <th>0</th>\n",
       "      <td>11</td>\n",
       "      <td>3</td>\n",
       "      <td>m</td>\n",
       "      <td>G</td>\n",
       "      <td>0</td>\n",
       "      <td>61.0</td>\n",
       "      <td>N</td>\n",
       "    </tr>\n",
       "    <tr>\n",
       "      <th>1</th>\n",
       "      <td>11</td>\n",
       "      <td>3</td>\n",
       "      <td>m</td>\n",
       "      <td>G</td>\n",
       "      <td>0</td>\n",
       "      <td>37.0</td>\n",
       "      <td>N</td>\n",
       "    </tr>\n",
       "    <tr>\n",
       "      <th>2</th>\n",
       "      <td>18</td>\n",
       "      <td>4</td>\n",
       "      <td>f</td>\n",
       "      <td>wood</td>\n",
       "      <td>0</td>\n",
       "      <td>20.0</td>\n",
       "      <td>N</td>\n",
       "    </tr>\n",
       "    <tr>\n",
       "      <th>3</th>\n",
       "      <td>18</td>\n",
       "      <td>4</td>\n",
       "      <td>f</td>\n",
       "      <td>G</td>\n",
       "      <td>0</td>\n",
       "      <td>14.0</td>\n",
       "      <td>y</td>\n",
       "    </tr>\n",
       "    <tr>\n",
       "      <th>4</th>\n",
       "      <td>18</td>\n",
       "      <td>4</td>\n",
       "      <td>f</td>\n",
       "      <td>L</td>\n",
       "      <td>0</td>\n",
       "      <td>13.0</td>\n",
       "      <td>N</td>\n",
       "    </tr>\n",
       "    <tr>\n",
       "      <th>...</th>\n",
       "      <td>...</td>\n",
       "      <td>...</td>\n",
       "      <td>...</td>\n",
       "      <td>...</td>\n",
       "      <td>...</td>\n",
       "      <td>...</td>\n",
       "      <td>...</td>\n",
       "    </tr>\n",
       "    <tr>\n",
       "      <th>79</th>\n",
       "      <td>10</td>\n",
       "      <td>15</td>\n",
       "      <td>m</td>\n",
       "      <td>G</td>\n",
       "      <td>7</td>\n",
       "      <td>12.0</td>\n",
       "      <td>N</td>\n",
       "    </tr>\n",
       "    <tr>\n",
       "      <th>80</th>\n",
       "      <td>10</td>\n",
       "      <td>15</td>\n",
       "      <td>m</td>\n",
       "      <td>G</td>\n",
       "      <td>5</td>\n",
       "      <td>12.5</td>\n",
       "      <td>N</td>\n",
       "    </tr>\n",
       "    <tr>\n",
       "      <th>81</th>\n",
       "      <td>6</td>\n",
       "      <td>15</td>\n",
       "      <td>m</td>\n",
       "      <td>G</td>\n",
       "      <td>8</td>\n",
       "      <td>13.0</td>\n",
       "      <td>N</td>\n",
       "    </tr>\n",
       "    <tr>\n",
       "      <th>82</th>\n",
       "      <td>6</td>\n",
       "      <td>16</td>\n",
       "      <td>m</td>\n",
       "      <td>G</td>\n",
       "      <td>24</td>\n",
       "      <td>20.0</td>\n",
       "      <td>N</td>\n",
       "    </tr>\n",
       "    <tr>\n",
       "      <th>83</th>\n",
       "      <td>6</td>\n",
       "      <td>16</td>\n",
       "      <td>m</td>\n",
       "      <td>G</td>\n",
       "      <td>25</td>\n",
       "      <td>36.0</td>\n",
       "      <td>N</td>\n",
       "    </tr>\n",
       "  </tbody>\n",
       "</table>\n",
       "<p>84 rows × 7 columns</p>\n",
       "</div>"
      ],
      "text/plain": [
       "    chimpanzee  age sex hammer  nuts_opened  seconds help\n",
       "0           11    3   m      G            0     61.0    N\n",
       "1           11    3   m      G            0     37.0    N\n",
       "2           18    4   f   wood            0     20.0    N\n",
       "3           18    4   f      G            0     14.0    y\n",
       "4           18    4   f      L            0     13.0    N\n",
       "..         ...  ...  ..    ...          ...      ...  ...\n",
       "79          10   15   m      G            7     12.0    N\n",
       "80          10   15   m      G            5     12.5    N\n",
       "81           6   15   m      G            8     13.0    N\n",
       "82           6   16   m      G           24     20.0    N\n",
       "83           6   16   m      G           25     36.0    N\n",
       "\n",
       "[84 rows x 7 columns]"
      ]
     },
     "execution_count": 23,
     "metadata": {},
     "output_type": "execute_result"
    }
   ],
   "source": [
    "d = pd.read_csv(PANDA_NUTS_DATASET_PATH, sep=\";\")\n",
    "d\n"
   ]
  },
  {
   "cell_type": "markdown",
   "metadata": {},
   "source": [
    "We want to understand how nut opening skills develop and which factors contribute to it. \n",
    "\n",
    "We need a generative model of nut opening rate as it varies by age.\n",
    "\n",
    "On simple factor to assume is the individual's strenght and as age increases it increases as well."
   ]
  },
  {
   "cell_type": "markdown",
   "metadata": {},
   "source": [
    "##### Code 16.10"
   ]
  },
  {
   "cell_type": "code",
   "execution_count": 24,
   "metadata": {},
   "outputs": [
    {
     "data": {
      "image/png": "[encoded data removed]",
      "text/plain": [
       "<Figure size 432x288 with 1 Axes>"
      ]
     },
     "metadata": {
      "needs_background": "light"
     },
     "output_type": "display_data"
    },
    {
     "data": {
      "image/png": "[encoded data removed]",
      "text/plain": [
       "<Figure size 432x288 with 1 Axes>"
      ]
     },
     "metadata": {
      "needs_background": "light"
     },
     "output_type": "display_data"
    }
   ],
   "source": [
    "N = int(1e4)\n",
    "phi = tfd.LogNormal(np.log(1), 0.1).sample((N,)).numpy()\n",
    "k = tfd.LogNormal(np.log(2), 0.25).sample((N,)).numpy()\n",
    "theta = tfd.LogNormal(np.log(5), 0.25).sample((N,)).numpy()\n",
    "\n",
    "# relative grow curve\n",
    "ax = plt.subplot(xlim=(0, 1.5), ylim=(0, 1), xlabel=\"age\", ylabel=\"body mass\")\n",
    "at = np.array([0, 0.25, 0.5, 0.75, 1, 1.25, 1.5])\n",
    "ax.set(xticks=at, xticklabels=np.round(at * d.age.max()))\n",
    "x = np.linspace(0, 1.5, 101)\n",
    "for i in range(20):\n",
    "    plt.plot(x, 1 - np.exp(-k[i] * x), \"gray\", lw=1.5)\n",
    "plt.show()\n",
    "\n",
    "# implied rate of nut opening curve\n",
    "ax = plt.subplot(xlim=(0, 1.5), ylim=(0, 1.2), xlabel=\"age\",\n",
    "                 ylabel=\"nuts per second\")\n",
    "at = np.array([0, 0.25, 0.5, 0.75, 1, 1.25, 1.5])\n",
    "ax.set(xticks=at, xticklabels=np.round(at * d.age.max()))\n",
    "x = np.linspace(0, 1.5, 101)\n",
    "for i in range(20):\n",
    "    plt.plot(x, phi[i] * (1 - np.exp(-k[i] * x)) ** theta[i], \"gray\", lw=1.5)\n"
   ]
  },
  {
   "cell_type": "markdown",
   "metadata": {},
   "source": [
    "The first graph (body mass vs age) is showing that opening kill tries to start leveling off around age 12\n",
    "\n",
    "The second graph (nuts per second vs age) shows many different developmental patterns"
   ]
  },
  {
   "cell_type": "markdown",
   "metadata": {},
   "source": [
    "##### Code 16.11"
   ]
  },
  {
   "cell_type": "code",
   "execution_count": 25,
   "metadata": {},
   "outputs": [],
   "source": [
    "d[\"age_prop\"] = d.age.values / d.age.max()\n",
    "\n",
    "tdf = df_to_tensors(\"Nuts\", d, [\"nuts_opened\", \"age_prop\", \"seconds\"])\n",
    "\n",
    "def model_16_4(seconds, age):\n",
    "    def _generator():      \n",
    "      phi = yield Root(tfd.Sample(tfd.LogNormal(tf.math.log(1.), 0.1, name=\"phi\"), sample_shape=1))      \n",
    "      k = yield Root(tfd.Sample(tfd.LogNormal(tf.math.log(2.), 0.25, name=\"k\"), sample_shape=1))      \n",
    "      theta = yield Root(tfd.Sample(tfd.LogNormal(tf.math.log(5.), 0.25, name=\"theta\"), sample_shape=1)) \n",
    "    \n",
    "      term1 = phi[...,tf.newaxis]\n",
    "      term2 = (1 - tf.exp(-k[...,tf.newaxis]*age)) ** theta[...,tf.newaxis]  \n",
    "    \n",
    "      lambda_ = seconds * term1 * term2 \n",
    "      \n",
    "      n = yield tfd.Independent(tfd.Poisson(lambda_), reinterpreted_batch_ndims=1)             \n",
    "      \n",
    "    return tfd.JointDistributionCoroutine(_generator, validate_args=False)    \n",
    "    \n",
    "jdc_16_4 = model_16_4(tdf.seconds, tdf.age_prop)"
   ]
  },
  {
   "cell_type": "code",
   "execution_count": 26,
   "metadata": {},
   "outputs": [
    {
     "data": {
      "text/plain": [
       "StructTuple(var0=<tf.Tensor: shape=(2, 1), dtype=float32, numpy=\n",
       "array([[0.8842562],\n",
       "       [1.0260875]], dtype=float32)>, var1=<tf.Tensor: shape=(2, 1), dtype=float32, numpy=\n",
       "array([[1.7091268],\n",
       "       [1.6786759]], dtype=float32)>, var2=<tf.Tensor: shape=(2, 1), dtype=float32, numpy=\n",
       "array([[5.37393  ],\n",
       "       [4.7242937]], dtype=float32)>, var3=<tf.Tensor: shape=(2, 1, 84), dtype=float32, numpy=\n",
       "array([[[ 0.,  0.,  1.,  0.,  0.,  0.,  0.,  2.,  0.,  0.,  0.,  1.,\n",
       "          0.,  0.,  0.,  0.,  0.,  0.,  0.,  1.,  0.,  0.,  0.,  0.,\n",
       "          1.,  3.,  0.,  0.,  0.,  0.,  1.,  0.,  0.,  1.,  0.,  1.,\n",
       "          0.,  0.,  1.,  2.,  0.,  1.,  3.,  0.,  0.,  1.,  1.,  2.,\n",
       "          3.,  5.,  1.,  0.,  0.,  1.,  1.,  0.,  2.,  3.,  1.,  2.,\n",
       "          0.,  2.,  3.,  4., 10.,  1.,  3., 11., 13.,  2.,  1.,  6.,\n",
       "          7., 23.,  6.,  9.,  8.,  4.,  6.,  5.,  3.,  2., 13.,  5.]],\n",
       "\n",
       "       [[ 0.,  0.,  0.,  0.,  0.,  0.,  1.,  2.,  0.,  0.,  0.,  2.,\n",
       "          0.,  0.,  0.,  0.,  4.,  0.,  1.,  0.,  0.,  1.,  0.,  0.,\n",
       "          2.,  0.,  0.,  0.,  0.,  2.,  0.,  0.,  0.,  2.,  1.,  1.,\n",
       "          0.,  0.,  2.,  1.,  0.,  2.,  0.,  0.,  0.,  3.,  2.,  3.,\n",
       "          2.,  3.,  8.,  0.,  0.,  2.,  0.,  1.,  0.,  7.,  1.,  5.,\n",
       "          0.,  3.,  2.,  3.,  8.,  0.,  2., 13., 17.,  3.,  2.,  2.,\n",
       "          3., 19.,  7., 15., 10.,  6.,  8.,  2.,  4.,  3.,  7., 11.]]],\n",
       "      dtype=float32)>)"
      ]
     },
     "execution_count": 26,
     "metadata": {},
     "output_type": "execute_result"
    }
   ],
   "source": [
    "jdc_16_4.sample(2)"
   ]
  },
  {
   "cell_type": "code",
   "execution_count": 27,
   "metadata": {},
   "outputs": [],
   "source": [
    "# Note - if I use zeros as the starting point\n",
    "# then the sampled params are really bad\n",
    "#\n",
    "# So starting the init state sampled from the model\n",
    "# itself\n",
    "phi_init, k_init, theta_init, _ = jdc_16_4.sample()\n",
    "\n",
    "init_state = [\n",
    "    tf.tile(phi_init, (MCMC_NUMBER_OF_CHAINS,)),\n",
    "    tf.tile(k_init, (MCMC_NUMBER_OF_CHAINS,)),\n",
    "    tf.tile(theta_init,(MCMC_NUMBER_OF_CHAINS,)),\n",
    "]\n",
    "\n",
    "init_config = dict(\n",
    "    phi = dict(state=init_state[0], bijector=tfb.Identity()),\n",
    "    k = dict(state=init_state[0], bijector=tfb.Identity()),\n",
    "    theta = dict(state=init_state[0], bijector=tfb.Identity())\n",
    ")\n",
    "\n",
    "posterior_16_4, trace_16_4 = sample_posterior(jdc_16_4,\n",
    "                               init_config=init_config,\n",
    "                               observed_data=(tdf.nuts_opened,))"
   ]
  },
  {
   "cell_type": "markdown",
   "metadata": {},
   "source": [
    "##### Code 16.12"
   ]
  },
  {
   "cell_type": "code",
   "execution_count": 28,
   "metadata": {},
   "outputs": [
    {
     "data": {
      "image/png": "[encoded data removed]",
      "text/plain": [
       "<Figure size 432x288 with 1 Axes>"
      ]
     },
     "metadata": {
      "needs_background": "light"
     },
     "output_type": "display_data"
    }
   ],
   "source": [
    "post_phi = trace_16_4.posterior[\"phi\"].values[0]\n",
    "post_k   = trace_16_4.posterior[\"k\"].values[0]\n",
    "post_theta  = trace_16_4.posterior[\"theta\"].values[0]\n",
    "\n",
    "plt.subplot(xlim=(0, 1), ylim=(-0.1, 1.5), xlabel=\"age\",\n",
    "            ylabel=\"nuts per second\")\n",
    "at = np.array([0, 0.25, 0.5, 0.75, 1, 1.25, 1.5])\n",
    "ax.set(xticks=at, xticklabels=np.round(at * d.age.max()))\n",
    "\n",
    "# raw data\n",
    "pts = d.nuts_opened.values / d.seconds.values\n",
    "normalize = lambda x: (x - np.min(x)) / (np.max(x) - np.min(x))\n",
    "point_size = normalize(d.seconds.values)\n",
    "eps = (d.age_prop[1:] - d.age_prop[:-1]).max() / 5\n",
    "jitter = eps * tfd.Uniform(low=-1, high=1).sample(d.age_prop.shape)\n",
    "plt.scatter(d.age_prop.values + jitter, pts, s=(point_size * 3) ** 2 * 20,\n",
    "            color=\"b\", facecolors=\"none\")\n",
    "\n",
    "# 30 posterior curves\n",
    "x = np.linspace(0, 1.5, 101)\n",
    "for i in range(30):\n",
    "    plt.plot(\n",
    "        x,\n",
    "        post_phi[i] * (1 - np.exp(-post_k[i] * x)) ** post_theta[i], \"gray\")"
   ]
  },
  {
   "cell_type": "markdown",
   "metadata": {},
   "source": [
    "## 16.4 Population dynamics"
   ]
  },
  {
   "cell_type": "markdown",
   "metadata": {},
   "source": [
    "##### Code 16.13"
   ]
  },
  {
   "cell_type": "code",
   "execution_count": 29,
   "metadata": {},
   "outputs": [
    {
     "data": {
      "image/png": "[encoded data removed]",
      "text/plain": [
       "<Figure size 432x288 with 1 Axes>"
      ]
     },
     "metadata": {
      "needs_background": "light"
     },
     "output_type": "display_data"
    }
   ],
   "source": [
    "d = pd.read_csv(LYNX_HARE_DATASET_PATH, sep=\";\")\n",
    "plt.plot(np.arange(1, 22), d.iloc[:, 2], \"ko-\", lw=1.5)\n",
    "plt.gca().set(ylim=(0, 90), xlabel=\"year\", ylabel=\"throusands of pelts\")\n",
    "at = np.array([1, 11, 21])\n",
    "plt.gca().set(xticks=at, xticklabels=d.Year.iloc[at - 1])\n",
    "plt.plot(np.arange(1, 22), d.iloc[:, 1], \"bo-\", lw=1.5)\n",
    "plt.annotate(\"Lepus\", (17, 80), color=\"k\", ha=\"right\", va=\"center\")\n",
    "plt.annotate(\"Lynx\", (19, 50), color=\"b\", ha=\"right\", va=\"center\");"
   ]
  },
  {
   "cell_type": "markdown",
   "metadata": {},
   "source": [
    "Above graph is showing 20 years of Lynx & hare pelts (attacks).\n",
    "\n",
    "They seem to be related to each other. Both fluctuate but they seem to fluctuate together"
   ]
  },
  {
   "cell_type": "markdown",
   "metadata": {},
   "source": [
    "##### Code 16.14"
   ]
  },
  {
   "cell_type": "code",
   "execution_count": 30,
   "metadata": {},
   "outputs": [],
   "source": [
    "def sim_lynx_hare(n_steps, init, theta, dt=0.002):\n",
    "    L0 = init[0]\n",
    "    H0 = init[1]\n",
    "\n",
    "    def f(val, i):\n",
    "        H, L = val\n",
    "        H_i = H + dt * H * (theta[0] - theta[1] * L)\n",
    "        L_i = L + dt * L * (theta[2] * H - theta[3])\n",
    "        return (H_i, L_i)\n",
    "\n",
    "    (H, L) = tf.scan(f, np.arange(n_steps - 1), (H0, L0))\n",
    "    \n",
    "    H = np.concatenate([np.expand_dims(H0, -1), H.numpy()])\n",
    "    L = np.concatenate([np.expand_dims(L0, -1), L.numpy()])\n",
    "    \n",
    "    return np.stack([L, H], axis=1)"
   ]
  },
  {
   "cell_type": "markdown",
   "metadata": {},
   "source": [
    "##### Code 16.15"
   ]
  },
  {
   "cell_type": "code",
   "execution_count": 31,
   "metadata": {},
   "outputs": [
    {
     "data": {
      "image/png": "[encoded data removed]",
      "text/plain": [
       "<Figure size 432x288 with 1 Axes>"
      ]
     },
     "metadata": {
      "needs_background": "light"
     },
     "output_type": "display_data"
    }
   ],
   "source": [
    "theta = np.array([0.5, 0.05, 0.025, 0.5])\n",
    "z = sim_lynx_hare(int(1e4), d.values[0, 1:3], theta)\n",
    "plt.plot(z[:, 1], color='black', lw=2) # Hare population\n",
    "plt.plot(z[:, 0], color='blue', lw=2) # Lynx population\n",
    "\n",
    "plt.gca().set(ylim=(0, np.max(z[:, 1]) + 1),\n",
    "              ylabel=\"number (thousands)\", xlabel=\"\")\n",
    "plt.title(\"time\");"
   ]
  },
  {
   "cell_type": "markdown",
   "metadata": {},
   "source": [
    "##### Code 16.16"
   ]
  },
  {
   "cell_type": "code",
   "execution_count": 32,
   "metadata": {},
   "outputs": [
    {
     "data": {
      "image/png": "[encoded data removed]",
      "text/plain": [
       "<Figure size 432x288 with 1 Axes>"
      ]
     },
     "metadata": {
      "needs_background": "light"
     },
     "output_type": "display_data"
    }
   ],
   "source": [
    "N = int(1e4)\n",
    "Ht = int(1e4)\n",
    "p = tfd.Beta(2, 18).sample((N,)).numpy()\n",
    "h = tfd.Binomial(Ht, probs=p).sample().numpy()\n",
    "h = np.round(h / 1000, 2)\n",
    "az.plot_kde(h, label=\"thousand of pelts\", bw=1);"
   ]
  },
  {
   "cell_type": "markdown",
   "metadata": {},
   "source": [
    "## Code 16.17\n",
    "\n",
    "\n",
    "Ordinary differential equations\n"
   ]
  },
  {
   "cell_type": "code",
   "execution_count": null,
   "metadata": {},
   "outputs": [],
   "source": []
  }
 ],
 "metadata": {
  "kernelspec": {
   "display_name": "Python 3",
   "language": "python",
   "name": "python3"
  },
  "language_info": {
   "codemirror_mode": {
    "name": "ipython",
    "version": 3
   },
   "file_extension": ".py",
   "mimetype": "text/x-python",
   "name": "python",
   "nbconvert_exporter": "python",
   "pygments_lexer": "ipython3",
   "version": "3.7.5"
  },
  "toc": {
   "base_numbering": 1,
   "nav_menu": {},
   "number_sections": true,
   "sideBar": true,
   "skip_h1_title": false,
   "title_cell": "Table of Contents",
   "title_sidebar": "Contents",
   "toc_cell": false,
   "toc_position": {},
   "toc_section_display": true,
   "toc_window_display": false
  }
 },
 "nbformat": 4,
 "nbformat_minor": 4
}
