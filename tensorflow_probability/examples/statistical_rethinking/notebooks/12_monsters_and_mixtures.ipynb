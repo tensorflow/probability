{
 "cells": [
  {
   "cell_type": "markdown",
   "metadata": {},
   "source": [
    "##### Copyright 2020 The TensorFlow Authors.\n",
    "\n",
    "Licensed under the Apache License, Version 2.0 (the \"License\");"
   ]
  },
  {
   "cell_type": "code",
   "execution_count": 1,
   "metadata": {},
   "outputs": [],
   "source": [
    "#@title Licensed under the Apache License, Version 2.0 (the \"License\"); { display-mode: \"form\" }\n",
    "# you may not use this file except in compliance with the License.\n",
    "# You may obtain a copy of the License at\n",
    "#\n",
    "# https://www.apache.org/licenses/LICENSE-2.0\n",
    "#\n",
    "# Unless required by applicable law or agreed to in writing, software\n",
    "# distributed under the License is distributed on an \"AS IS\" BASIS,\n",
    "# WITHOUT WARRANTIES OR CONDITIONS OF ANY KIND, either express or implied.\n",
    "# See the License for the specific language governing permissions and\n",
    "# limitations under the License."
   ]
  },
  {
   "cell_type": "markdown",
   "metadata": {},
   "source": [
    "# Chapter 12 - Monsters and Mixtures\n",
    "\n",
    "<table class=\"tfo-notebook-buttons\" align=\"left\">\n",
    "  <td>\n",
    "    <a target=\"_blank\" href=\"https://www.tensorflow.org/probability/examples/statistical_rethinking/notebooks/12_monsters_and_mixtures\"><img src=\"https://www.tensorflow.org/images/tf_logo_32px.png\" />View on TensorFlow.org</a>\n",
    "  </td>\n",
    "  <td>\n",
    "    <a target=\"_blank\" href=\"https://colab.research.google.com/github/tensorflow/probability/blob/master/tensorflow_probability/examples/statistical_rethinking/notebooks/12_monsters_and_mixtures.ipynb\"><img src=\"https://www.tensorflow.org/images/colab_logo_32px.png\" />Run in Google Colab</a>\n",
    "  </td>\n",
    "  <td>\n",
    "    <a target=\"_blank\" href=\"https://github.com/tensorflow/probability/blob/master/tensorflow_probability/examples/statistical_rethinking/notebooks/12_monsters_and_mixtures.ipynb\"><img src=\"https://www.tensorflow.org/images/GitHub-Mark-32px.png\" />View source on GitHub</a>\n",
    "  </td>\n",
    "  <td>\n",
    "    <a href=\"https://storage.googleapis.com/tensorflow_docs/probability/examples/statistical_rethinking/notebooks/12_monsters_and_mixtures.ipynb\"><img src=\"https://www.tensorflow.org/images/download_logo_32px.png\" />Download notebook</a>\n",
    "  </td>\n",
    "</table>"
   ]
  },
  {
   "cell_type": "markdown",
   "metadata": {},
   "source": [
    "## Imports and utility functions\n"
   ]
  },
  {
   "cell_type": "code",
   "execution_count": 2,
   "metadata": {},
   "outputs": [],
   "source": [
    "#@title Install { display-mode: \"form\" }\n",
    "TF_Installation = 'System' #@param ['TF Nightly', 'TF Stable', 'System']\n",
    "\n",
    "if TF_Installation == 'TF Nightly':\n",
    "  !pip install -q --upgrade tf-nightly\n",
    "  print('Installation of `tf-nightly` complete.')\n",
    "elif TF_Installation == 'TF Stable':\n",
    "  !pip install -q --upgrade tensorflow\n",
    "  print('Installation of `tensorflow` complete.')\n",
    "elif TF_Installation == 'System':\n",
    "  pass\n",
    "else:\n",
    "  raise ValueError('Selection Error: Please select a valid '\n",
    "                   'installation option.')"
   ]
  },
  {
   "cell_type": "code",
   "execution_count": 3,
   "metadata": {},
   "outputs": [],
   "source": [
    "#@title Install { display-mode: \"form\" }\n",
    "TFP_Installation = \"System\" #@param [\"Nightly\", \"Stable\", \"System\"]\n",
    "\n",
    "if TFP_Installation == \"Nightly\":\n",
    "  !pip install -q tfp-nightly\n",
    "  print(\"Installation of `tfp-nightly` complete.\")\n",
    "elif TFP_Installation == \"Stable\":\n",
    "  !pip install -q --upgrade tensorflow-probability\n",
    "  print(\"Installation of `tensorflow-probability` complete.\")\n",
    "elif TFP_Installation == \"System\":\n",
    "  pass\n",
    "else:\n",
    "  raise ValueError(\"Selection Error: Please select a valid \"\n",
    "                   \"installation option.\")"
   ]
  },
  {
   "cell_type": "code",
   "execution_count": 4,
   "metadata": {},
   "outputs": [],
   "source": [
    "#@title Install { display-mode: \"form\" }\n",
    "\n",
    "# Install packages that are not installed in colab\n",
    "try:\n",
    "  import google.colab\n",
    "  IN_COLAB = True\n",
    "except:\n",
    "  IN_COLAB = False\n",
    "\n",
    "if IN_COLAB:\n",
    "    print(\"Installing arviz ...\")\n",
    "    !pip install -q arviz"
   ]
  },
  {
   "cell_type": "code",
   "execution_count": 5,
   "metadata": {},
   "outputs": [],
   "source": [
    "# Core\n",
    "import collections\n",
    "import numpy as np\n",
    "import arviz as az\n",
    "import pandas as pd\n",
    "import tensorflow as tf\n",
    "import tensorflow_probability as tfp\n",
    "\n",
    "# visualization \n",
    "import matplotlib.pyplot as plt\n",
    "\n",
    "# aliases\n",
    "tfd = tfp.distributions\n",
    "tfb = tfp.bijectors\n",
    "Root = tfd.JointDistributionCoroutine.Root"
   ]
  },
  {
   "cell_type": "code",
   "execution_count": 6,
   "metadata": {},
   "outputs": [],
   "source": [
    "az.style.use('seaborn-colorblind')"
   ]
  },
  {
   "cell_type": "markdown",
   "metadata": {},
   "source": [
    "### Sampling helpers"
   ]
  },
  {
   "cell_type": "code",
   "execution_count": 7,
   "metadata": {},
   "outputs": [],
   "source": [
    "USE_XLA = False              #@param\n",
    "\n",
    "def _trace_to_arviz(trace=None,\n",
    "                   sample_stats=None,\n",
    "                   observed_data=None,\n",
    "                   prior_predictive=None,\n",
    "                   posterior_predictive=None,\n",
    "                   inplace=True):\n",
    "\n",
    "    if trace is not None and isinstance(trace, dict):\n",
    "        trace = {k: v.numpy()\n",
    "                 for k, v in trace.items()}\n",
    "    if sample_stats is not None and isinstance(sample_stats, dict):\n",
    "        sample_stats = {k: v.numpy().T for k, v in sample_stats.items()}\n",
    "    if prior_predictive is not None and isinstance(prior_predictive, dict):\n",
    "        prior_predictive = {k: v[np.newaxis]\n",
    "                            for k, v in prior_predictive.items()}\n",
    "    if posterior_predictive is not None and isinstance(posterior_predictive, dict):\n",
    "        if isinstance(trace, az.InferenceData) and inplace == True:\n",
    "            return trace + az.from_dict(posterior_predictive=posterior_predictive)\n",
    "        else:\n",
    "            trace = None\n",
    "\n",
    "    return az.from_dict(\n",
    "        posterior=trace,\n",
    "        sample_stats=sample_stats,\n",
    "        prior_predictive=prior_predictive,\n",
    "        posterior_predictive=posterior_predictive,\n",
    "        observed_data=observed_data,\n",
    "    )"
   ]
  },
  {
   "cell_type": "code",
   "execution_count": 8,
   "metadata": {},
   "outputs": [],
   "source": [
    "NUMBER_OF_SAMPLES = 2000           #@param\n",
    "\n",
    "MCMC_NUMBER_OF_CHAINS  = 2         #@param \n",
    "MCMC_NUMBER_OF_BURNIN  = 1000      #@param\n",
    "MCMC_NUMBER_OF_LEAPFROG_STEPS = 4  #@param\n",
    "\n",
    "@tf.function(autograph=False, experimental_compile=USE_XLA)\n",
    "def run_hmc_chain(init_state,\n",
    "                  bijectors, \n",
    "                  step_size, \n",
    "                  target_log_prob_fn, \n",
    "                  num_leapfrog_steps=MCMC_NUMBER_OF_LEAPFROG_STEPS,\n",
    "                  num_samples=NUMBER_OF_SAMPLES,\n",
    "                  burnin=MCMC_NUMBER_OF_BURNIN):    \n",
    "\n",
    "    def _trace_fn_transitioned(_, pkr):\n",
    "        return (\n",
    "            pkr.inner_results.inner_results.log_accept_ratio\n",
    "        )\n",
    "\n",
    "    hmc_kernel = tfp.mcmc.HamiltonianMonteCarlo(\n",
    "        target_log_prob_fn,\n",
    "        num_leapfrog_steps=num_leapfrog_steps,\n",
    "        step_size=step_size,\n",
    "    )         \n",
    "\n",
    "    inner_kernel = tfp.mcmc.TransformedTransitionKernel(\n",
    "        inner_kernel=hmc_kernel,\n",
    "        bijector=bijectors,\n",
    "    )       \n",
    "\n",
    "    kernel = tfp.mcmc.SimpleStepSizeAdaptation(\n",
    "        inner_kernel=inner_kernel,\n",
    "        target_accept_prob=.8,\n",
    "        num_adaptation_steps=int(0.8*burnin),\n",
    "        log_accept_prob_getter_fn=lambda pkr: pkr.inner_results.log_accept_ratio\n",
    "    )    \n",
    "\n",
    "    results, sampler_stat = tfp.mcmc.sample_chain(\n",
    "        num_results=num_samples,\n",
    "        num_burnin_steps=burnin,\n",
    "        current_state=init_state,\n",
    "        kernel=kernel,\n",
    "        trace_fn=_trace_fn_transitioned)\n",
    "\n",
    "    return results, sampler_stat    \n",
    "\n",
    "def sample_posterior(\n",
    "              jdc, \n",
    "              observed_data,\n",
    "              init_config,\n",
    "              mcmc_config=dict(),\n",
    "              num_samples=NUMBER_OF_SAMPLES):\n",
    "    \n",
    "    assert init_config is not None\n",
    "    \n",
    "    # expecting the order of keys is same \n",
    "    # as that of definition in the model function\n",
    "    params = init_config.keys()\n",
    "    \n",
    "    init_state = []\n",
    "    bijectors = []\n",
    "    for p in params:\n",
    "        init_state.append(init_config[p]['state'])\n",
    "        bijectors.append(init_config[p]['bijector'])\n",
    "\n",
    "    target_log_prob_fn = lambda *x: jdc.log_prob(x + observed_data)  \n",
    "    \n",
    "    \n",
    "    step_size  = mcmc_config.get('step_size', 0.1)\n",
    "    num_chains = mcmc_config.get('num_chains', MCMC_NUMBER_OF_CHAINS)\n",
    "    burnin     = mcmc_config.get('burnin', MCMC_NUMBER_OF_BURNIN)\n",
    "    \n",
    "    results, sample_stats = run_hmc_chain(\n",
    "        init_state,\n",
    "        bijectors,\n",
    "        step_size=step_size,\n",
    "        target_log_prob_fn=target_log_prob_fn,                                      \n",
    "        num_samples=num_samples, \n",
    "        burnin=burnin,\n",
    "    )\n",
    "\n",
    "    stat_names = ['mean_tree_accept']\n",
    "    sampler_stats = dict(zip(stat_names, [sample_stats]))      \n",
    "        \n",
    "    transposed_results = []\n",
    "    \n",
    "    for r in results:        \n",
    "        if len(r.shape) == 2:\n",
    "            transposed_shape = [1,0]\n",
    "        elif len(r.shape) == 3:\n",
    "            transposed_shape = [1,0,2] \n",
    "        else:\n",
    "            transposed_shape = [1,0,2,3] \n",
    "        \n",
    "        transposed_results.append(tf.transpose(r, transposed_shape))\n",
    "\n",
    "    posterior = dict(zip(params, transposed_results))        \n",
    "\n",
    "    az_trace = _trace_to_arviz(trace=posterior, sample_stats=sampler_stats)\n",
    "\n",
    "    return posterior, az_trace"
   ]
  },
  {
   "cell_type": "markdown",
   "metadata": {},
   "source": [
    "### Dataset URLs & Utils\n"
   ]
  },
  {
   "cell_type": "code",
   "execution_count": 9,
   "metadata": {},
   "outputs": [],
   "source": [
    "# You could change base url to local dir or a remoate raw github content\n",
    "_BASE_URL = \"https://raw.githubusercontent.com/rmcelreath/rethinking/master/data\"\n",
    "\n",
    "UCBADMIT_DATASET_PATH = f\"{_BASE_URL}/UCBadmit.csv\"\n",
    "KLINE_DATASET_PATH = f\"{_BASE_URL}/Kline.csv\""
   ]
  },
  {
   "cell_type": "code",
   "execution_count": 10,
   "metadata": {},
   "outputs": [],
   "source": [
    "# A utility method to convert data (columns) from pandas dataframe\n",
    "# into tensors with appropriate type\n",
    "def df_to_tensors(name, df, columns, default_type=tf.float32):\n",
    "    \"\"\" name : Name of the dataset\n",
    "        df : pandas dataframe\n",
    "        colums : a list of names that have the same type or\n",
    "                 a dictionary where keys are the column names and values are the tensorflow type (e.g. tf.float32)\n",
    "    \"\"\"\n",
    "    if isinstance(columns,dict):\n",
    "        column_names = columns.keys()\n",
    "        fields = [tf.cast(df[k].values, dtype=v) for k,v in columns.items()]    \n",
    "    else:\n",
    "        column_names = columns        \n",
    "        fields = [tf.cast(df[k].values, dtype=default_type) for k in column_names]    \n",
    "        \n",
    "    # build the cls\n",
    "    tuple_cls = collections.namedtuple(name, column_names)    \n",
    "    # build the obj\n",
    "    return tuple_cls._make(fields) "
   ]
  },
  {
   "cell_type": "markdown",
   "metadata": {},
   "source": [
    "# Introduction"
   ]
  },
  {
   "cell_type": "markdown",
   "metadata": {},
   "source": [
    "## 12.1 Over-dispersed counts"
   ]
  },
  {
   "cell_type": "markdown",
   "metadata": {},
   "source": [
    "### 12.1.1 Beta-binomial"
   ]
  },
  {
   "cell_type": "markdown",
   "metadata": {},
   "source": [
    "##### Code 12.1\n",
    "\n",
    "\n",
    "A beta distribution is a probability distribution for probabilities !"
   ]
  },
  {
   "cell_type": "code",
   "execution_count": 11,
   "metadata": {},
   "outputs": [
    {
     "data": {
      "image/png": "[encoded data removed]",
      "text/plain": [
       "<Figure size 432x288 with 1 Axes>"
      ]
     },
     "metadata": {
      "needs_background": "light"
     },
     "output_type": "display_data"
    }
   ],
   "source": [
    "pbar = 0.5   # mean\n",
    "theta = 5    # total concentration\n",
    "\n",
    "alpha = pbar * theta\n",
    "beta = (1 - pbar) * theta\n",
    "\n",
    "x = np.linspace(0, 1, 101)\n",
    "\n",
    "plt.plot(x, tf.exp(tfd.Beta(alpha, beta).log_prob(x)))\n",
    "plt.gca().set(xlabel=\"probability\", ylabel=\"Density\");"
   ]
  },
  {
   "cell_type": "markdown",
   "metadata": {},
   "source": [
    "##### Code 12.2"
   ]
  },
  {
   "cell_type": "code",
   "execution_count": 12,
   "metadata": {},
   "outputs": [],
   "source": [
    "d = pd.read_csv(UCBADMIT_DATASET_PATH, sep=\";\")\n",
    "d[\"gid\"] = (d[\"applicant.gender\"] != \"male\").astype(int)"
   ]
  },
  {
   "cell_type": "code",
   "execution_count": 13,
   "metadata": {},
   "outputs": [],
   "source": [
    "tdf = df_to_tensors(\"UCBAdmit\", d, {\n",
    "    \"gid\" : tf.int32,\n",
    "    \"applications\" : tf.float32,\n",
    "    \"admit\" : tf.float32,\n",
    "    \"reject\" : tf.float32\n",
    "})"
   ]
  },
  {
   "cell_type": "code",
   "execution_count": 14,
   "metadata": {},
   "outputs": [],
   "source": [
    "def model_12_1(gid, N):\n",
    "    def _generator():      \n",
    "      alpha = yield Root(tfd.Sample(tfd.Normal(loc=0., scale=1.5), sample_shape=2))\n",
    "      phi = yield Root(tfd.Sample(tfd.Exponential(rate=1.), sample_shape=1))\n",
    "      theta = phi + 2\n",
    "      pbar = tf.sigmoid(tf.squeeze(tf.gather(alpha, gid, axis=-1)))        \n",
    "        \n",
    "      # prepare the concentration vector\n",
    "      concentration1 = pbar * theta[...,tf.newaxis]\n",
    "      concentration0 = (1 - pbar) * theta[...,tf.newaxis]    \n",
    "    \n",
    "      concentration = tf.stack([concentration1, concentration0], axis=-1)\n",
    "        \n",
    "      # outcome A i.e. admit  \n",
    "      # since it is a multinomial we will have K = 2\n",
    "      # note -  this does not really behave like Binomial in terms of the sample shape\n",
    "      A = yield tfd.Independent(tfd.DirichletMultinomial(total_count=N, concentration=concentration), reinterpreted_batch_ndims=1)             \n",
    "      \n",
    "    return tfd.JointDistributionCoroutine(_generator, validate_args=True)    \n",
    "    \n",
    "jdc_12_1 = model_12_1(tdf.gid, tdf.applications)"
   ]
  },
  {
   "cell_type": "markdown",
   "metadata": {},
   "source": [
    "##### Code 12.3"
   ]
  },
  {
   "cell_type": "code",
   "execution_count": 15,
   "metadata": {},
   "outputs": [],
   "source": [
    "# Prepare the expected shape by the DirichletMultinomial  \n",
    "obs_values = tf.stack([tdf.admit, tdf.reject], axis=-1)"
   ]
  },
  {
   "cell_type": "code",
   "execution_count": 16,
   "metadata": {},
   "outputs": [
    {
     "name": "stdout",
     "output_type": "stream",
     "text": [
      "WARNING:tensorflow:From /Users/ksachdeva/Desktop/Dev/myoss/rethinking-tfp-interim/env/lib/python3.7/site-packages/tensorflow_probability/python/mcmc/kernel.py:104: calling HamiltonianMonteCarlo.__init__ (from tensorflow_probability.python.mcmc.hmc) with step_size_update_fn is deprecated and will be removed after 2019-05-22.\n",
      "Instructions for updating:\n",
      "The `step_size_update_fn` argument is deprecated. Use `tfp.mcmc.SimpleStepSizeAdaptation` instead.\n",
      "WARNING:tensorflow:From /Users/ksachdeva/Desktop/Dev/myoss/rethinking-tfp-interim/env/lib/python3.7/site-packages/tensorflow/python/util/deprecation.py:507: calling HamiltonianMonteCarlo.__init__ (from tensorflow_probability.python.mcmc.hmc) with seed is deprecated and will be removed after 2020-09-20.\n",
      "Instructions for updating:\n",
      "The `seed` argument is deprecated (but will work until removed). Pass seed to `tfp.mcmc.sample_chain` instead.\n"
     ]
    }
   ],
   "source": [
    "init_state = [\n",
    "    tf.zeros([MCMC_NUMBER_OF_CHAINS, 2]),\n",
    "    tf.ones([MCMC_NUMBER_OF_CHAINS])\n",
    "]\n",
    "\n",
    "init_config = dict(\n",
    "    alpha  = dict(state=init_state[0], bijector=tfb.Identity()),\n",
    "    phi    = dict(state=init_state[1], bijector=tfb.Identity())\n",
    ")\n",
    "\n",
    "posterior_12_1, trace_12_1 = sample_posterior(\n",
    "                                jdc_12_1, \n",
    "                                init_config=init_config,\n",
    "                                observed_data=(obs_values,))"
   ]
  },
  {
   "cell_type": "code",
   "execution_count": 17,
   "metadata": {},
   "outputs": [],
   "source": [
    "# compute the difference between alphas\n",
    "trace_12_1.posterior[\"da\"] =  trace_12_1.posterior[\"alpha\"][:,:,0] - \\\n",
    "         trace_12_1.posterior[\"alpha\"][:,:,1]\n",
    "\n",
    "# compute theta\n",
    "trace_12_1.posterior[\"theta\"] =  trace_12_1.posterior[\"phi\"] + 2"
   ]
  },
  {
   "cell_type": "code",
   "execution_count": 18,
   "metadata": {},
   "outputs": [
    {
     "data": {
      "text/html": [
       "<div>\n",
       "<style scoped>\n",
       "    .dataframe tbody tr th:only-of-type {\n",
       "        vertical-align: middle;\n",
       "    }\n",
       "\n",
       "    .dataframe tbody tr th {\n",
       "        vertical-align: top;\n",
       "    }\n",
       "\n",
       "    .dataframe thead th {\n",
       "        text-align: right;\n",
       "    }\n",
       "</style>\n",
       "<table border=\"1\" class=\"dataframe\">\n",
       "  <thead>\n",
       "    <tr style=\"text-align: right;\">\n",
       "      <th></th>\n",
       "      <th>mean</th>\n",
       "      <th>sd</th>\n",
       "      <th>hdi_5.5%</th>\n",
       "      <th>hdi_94.5%</th>\n",
       "      <th>mcse_mean</th>\n",
       "      <th>mcse_sd</th>\n",
       "      <th>ess_mean</th>\n",
       "      <th>ess_sd</th>\n",
       "      <th>ess_bulk</th>\n",
       "      <th>ess_tail</th>\n",
       "      <th>r_hat</th>\n",
       "    </tr>\n",
       "  </thead>\n",
       "  <tbody>\n",
       "    <tr>\n",
       "      <th>alpha[0]</th>\n",
       "      <td>-0.413</td>\n",
       "      <td>0.450</td>\n",
       "      <td>-1.114</td>\n",
       "      <td>0.258</td>\n",
       "      <td>0.016</td>\n",
       "      <td>0.016</td>\n",
       "      <td>756.0</td>\n",
       "      <td>417.0</td>\n",
       "      <td>974.0</td>\n",
       "      <td>655.0</td>\n",
       "      <td>1.0</td>\n",
       "    </tr>\n",
       "    <tr>\n",
       "      <th>alpha[1]</th>\n",
       "      <td>-0.301</td>\n",
       "      <td>0.428</td>\n",
       "      <td>-1.004</td>\n",
       "      <td>0.346</td>\n",
       "      <td>0.013</td>\n",
       "      <td>0.009</td>\n",
       "      <td>1082.0</td>\n",
       "      <td>1082.0</td>\n",
       "      <td>1092.0</td>\n",
       "      <td>927.0</td>\n",
       "      <td>1.0</td>\n",
       "    </tr>\n",
       "    <tr>\n",
       "      <th>phi</th>\n",
       "      <td>0.659</td>\n",
       "      <td>0.842</td>\n",
       "      <td>-0.785</td>\n",
       "      <td>1.792</td>\n",
       "      <td>0.060</td>\n",
       "      <td>0.044</td>\n",
       "      <td>196.0</td>\n",
       "      <td>185.0</td>\n",
       "      <td>217.0</td>\n",
       "      <td>304.0</td>\n",
       "      <td>1.0</td>\n",
       "    </tr>\n",
       "    <tr>\n",
       "      <th>da</th>\n",
       "      <td>-0.113</td>\n",
       "      <td>0.609</td>\n",
       "      <td>-1.000</td>\n",
       "      <td>0.893</td>\n",
       "      <td>0.019</td>\n",
       "      <td>0.019</td>\n",
       "      <td>992.0</td>\n",
       "      <td>536.0</td>\n",
       "      <td>1094.0</td>\n",
       "      <td>677.0</td>\n",
       "      <td>1.0</td>\n",
       "    </tr>\n",
       "    <tr>\n",
       "      <th>theta</th>\n",
       "      <td>2.659</td>\n",
       "      <td>0.842</td>\n",
       "      <td>1.215</td>\n",
       "      <td>3.792</td>\n",
       "      <td>0.060</td>\n",
       "      <td>0.044</td>\n",
       "      <td>196.0</td>\n",
       "      <td>180.0</td>\n",
       "      <td>217.0</td>\n",
       "      <td>304.0</td>\n",
       "      <td>1.0</td>\n",
       "    </tr>\n",
       "  </tbody>\n",
       "</table>\n",
       "</div>"
      ],
      "text/plain": [
       "           mean     sd  hdi_5.5%  hdi_94.5%  mcse_mean  mcse_sd  ess_mean  \\\n",
       "alpha[0] -0.413  0.450    -1.114      0.258      0.016    0.016     756.0   \n",
       "alpha[1] -0.301  0.428    -1.004      0.346      0.013    0.009    1082.0   \n",
       "phi       0.659  0.842    -0.785      1.792      0.060    0.044     196.0   \n",
       "da       -0.113  0.609    -1.000      0.893      0.019    0.019     992.0   \n",
       "theta     2.659  0.842     1.215      3.792      0.060    0.044     196.0   \n",
       "\n",
       "          ess_sd  ess_bulk  ess_tail  r_hat  \n",
       "alpha[0]   417.0     974.0     655.0    1.0  \n",
       "alpha[1]  1082.0    1092.0     927.0    1.0  \n",
       "phi        185.0     217.0     304.0    1.0  \n",
       "da         536.0    1094.0     677.0    1.0  \n",
       "theta      180.0     217.0     304.0    1.0  "
      ]
     },
     "execution_count": 18,
     "metadata": {},
     "output_type": "execute_result"
    }
   ],
   "source": [
    "az.summary(trace_12_1, hdi_prob=0.89)"
   ]
  },
  {
   "cell_type": "markdown",
   "metadata": {},
   "source": [
    "##### Code 12.4"
   ]
  },
  {
   "cell_type": "code",
   "execution_count": 19,
   "metadata": {},
   "outputs": [],
   "source": [
    "# Since we have two chains and data is stored in InferenceData format\n",
    "# we have to manually extract it\n",
    "#\n",
    "# Here I am using the data from chain 0\n",
    "sample_alpha = trace_12_1.posterior[\"alpha\"][0,:].values\n",
    "sample_theta = trace_12_1.posterior[\"theta\"][0,:].values"
   ]
  },
  {
   "cell_type": "code",
   "execution_count": 20,
   "metadata": {},
   "outputs": [
    {
     "data": {
      "image/png": "[encoded data removed]",
      "text/plain": [
       "<Figure size 432x288 with 1 Axes>"
      ]
     },
     "metadata": {
      "needs_background": "light"
     },
     "output_type": "display_data"
    }
   ],
   "source": [
    "gid = 1\n",
    "# draw posterior mean beta distribution\n",
    "x = np.linspace(0, 1, 101)\n",
    "pbar = tf.reduce_mean(tf.sigmoid(sample_alpha[:, gid]))\n",
    "theta = tf.reduce_mean(sample_theta)\n",
    "plt.plot(x, tf.exp(tfd.Beta(pbar * theta, (1 - pbar) * theta).log_prob(x)))\n",
    "plt.gca().set(ylabel=\"Density\", xlabel=\"probability admit\", ylim=(0, 3));\n",
    "\n",
    "# draw 50 beta distributions sampled from posterior\n",
    "for i in range(50):\n",
    "    p = tf.sigmoid(sample_alpha[i, gid])\n",
    "    theta = sample_theta[i]\n",
    "    plt.plot(x, tf.exp(tfd.Beta(p * theta, (1 - p) * theta).log_prob(x)),\n",
    "             \"k\", alpha=0.2)\n",
    "plt.title(\"distribution of female admission rates\");"
   ]
  },
  {
   "cell_type": "markdown",
   "metadata": {},
   "source": [
    "##### Code 12.5"
   ]
  },
  {
   "cell_type": "code",
   "execution_count": 21,
   "metadata": {},
   "outputs": [],
   "source": [
    "# get samples given the posterior distribution\n",
    "N = tf.cast(d.applications.values, dtype=tf.float32)\n",
    "gid = d.gid.values\n",
    "\n",
    "sample_pbar = tf.sigmoid(tf.squeeze(tf.gather(sample_alpha, gid, axis=-1)))    \n",
    "\n",
    "# need to reshape it to make it happy\n",
    "st = tf.reshape(sample_theta, shape=(2000,1))\n",
    "\n",
    "# prepare the concentration vector\n",
    "concentration1 = sample_pbar * st\n",
    "concentration0 = (1 - sample_pbar) * st    \n",
    "\n",
    "concentration = tf.stack([concentration1, concentration0], axis=-1)\n",
    "\n",
    "dist = tfd.DirichletMultinomial(total_count=N, concentration=concentration)\n",
    "\n",
    "predictive_samples = dist.sample()"
   ]
  },
  {
   "cell_type": "code",
   "execution_count": 22,
   "metadata": {},
   "outputs": [],
   "source": [
    "# numpy style indexing magic ! .. hate it !\n",
    "admit_rate = predictive_samples[::,::,0] / N"
   ]
  },
  {
   "cell_type": "code",
   "execution_count": 23,
   "metadata": {},
   "outputs": [
    {
     "data": {
      "image/png": "[encoded data removed]",
      "text/plain": [
       "<Figure size 432x288 with 1 Axes>"
      ]
     },
     "metadata": {
      "needs_background": "light"
     },
     "output_type": "display_data"
    }
   ],
   "source": [
    "plt.scatter(range(1, 13), d.admit.values /N)\n",
    "plt.errorbar(range(1, 13), np.mean(admit_rate, 0), np.std(admit_rate, 0) / 2,\n",
    "             fmt=\"o\", c=\"k\", mfc=\"none\", ms=7, elinewidth=1)\n",
    "plt.plot(range(1, 13), np.percentile(admit_rate, 5.5, 0), \"k+\")\n",
    "plt.plot(range(1, 13), np.percentile(admit_rate, 94.5, 0), \"k+\");"
   ]
  },
  {
   "cell_type": "markdown",
   "metadata": {},
   "source": [
    "In the above plot, the vertifical axis shows the predicted proportion admitted, for each case on the horizontal.\n",
    "\n",
    "Blue points show the empirical proportion admitted on each row of data\n",
    "\n",
    "Open circles are the posterior mean pbar and + symbols mark the 89% interval of predicted counts of admission"
   ]
  },
  {
   "cell_type": "markdown",
   "metadata": {},
   "source": [
    "### 12.1.2 Negative-binomial or gamma-Poisson"
   ]
  },
  {
   "cell_type": "markdown",
   "metadata": {},
   "source": [
    "##### Code 12.6  (Not working !)\n",
    "\n",
    "Start to use **Gamma-Poisson** (also known as **Negative Binomial**) models.\n",
    "\n",
    "Essentially Gamm-Poisson is about associating a rate to each Posisson count observation. Estimates the shape of gamma distribution to describe the Poisson rates across cases.\n",
    "\n",
    "Gamma-Poisson also expects more variation around the mean rate.\n",
    "\n",
    "The negative binomial distribution arises naturally from a probability experiment of performing a series of independent Bernoulli trials until the occurrence of the rth success where r is a positive integer."
   ]
  },
  {
   "cell_type": "code",
   "execution_count": 24,
   "metadata": {},
   "outputs": [
    {
     "data": {
      "text/html": [
       "<div>\n",
       "<style scoped>\n",
       "    .dataframe tbody tr th:only-of-type {\n",
       "        vertical-align: middle;\n",
       "    }\n",
       "\n",
       "    .dataframe tbody tr th {\n",
       "        vertical-align: top;\n",
       "    }\n",
       "\n",
       "    .dataframe thead th {\n",
       "        text-align: right;\n",
       "    }\n",
       "</style>\n",
       "<table border=\"1\" class=\"dataframe\">\n",
       "  <thead>\n",
       "    <tr style=\"text-align: right;\">\n",
       "      <th></th>\n",
       "      <th>culture</th>\n",
       "      <th>population</th>\n",
       "      <th>contact</th>\n",
       "      <th>total_tools</th>\n",
       "      <th>mean_TU</th>\n",
       "      <th>P</th>\n",
       "      <th>cid</th>\n",
       "    </tr>\n",
       "  </thead>\n",
       "  <tbody>\n",
       "    <tr>\n",
       "      <th>0</th>\n",
       "      <td>Malekula</td>\n",
       "      <td>1100</td>\n",
       "      <td>low</td>\n",
       "      <td>13</td>\n",
       "      <td>3.2</td>\n",
       "      <td>-1.291473</td>\n",
       "      <td>0</td>\n",
       "    </tr>\n",
       "    <tr>\n",
       "      <th>1</th>\n",
       "      <td>Tikopia</td>\n",
       "      <td>1500</td>\n",
       "      <td>low</td>\n",
       "      <td>22</td>\n",
       "      <td>4.7</td>\n",
       "      <td>-1.088551</td>\n",
       "      <td>0</td>\n",
       "    </tr>\n",
       "    <tr>\n",
       "      <th>2</th>\n",
       "      <td>Santa Cruz</td>\n",
       "      <td>3600</td>\n",
       "      <td>low</td>\n",
       "      <td>24</td>\n",
       "      <td>4.0</td>\n",
       "      <td>-0.515765</td>\n",
       "      <td>0</td>\n",
       "    </tr>\n",
       "    <tr>\n",
       "      <th>3</th>\n",
       "      <td>Yap</td>\n",
       "      <td>4791</td>\n",
       "      <td>high</td>\n",
       "      <td>43</td>\n",
       "      <td>5.0</td>\n",
       "      <td>-0.328773</td>\n",
       "      <td>1</td>\n",
       "    </tr>\n",
       "    <tr>\n",
       "      <th>4</th>\n",
       "      <td>Lau Fiji</td>\n",
       "      <td>7400</td>\n",
       "      <td>high</td>\n",
       "      <td>33</td>\n",
       "      <td>5.0</td>\n",
       "      <td>-0.044339</td>\n",
       "      <td>1</td>\n",
       "    </tr>\n",
       "  </tbody>\n",
       "</table>\n",
       "</div>"
      ],
      "text/plain": [
       "      culture  population contact  total_tools  mean_TU         P  cid\n",
       "0    Malekula        1100     low           13      3.2 -1.291473    0\n",
       "1     Tikopia        1500     low           22      4.7 -1.088551    0\n",
       "2  Santa Cruz        3600     low           24      4.0 -0.515765    0\n",
       "3         Yap        4791    high           43      5.0 -0.328773    1\n",
       "4    Lau Fiji        7400    high           33      5.0 -0.044339    1"
      ]
     },
     "execution_count": 24,
     "metadata": {},
     "output_type": "execute_result"
    }
   ],
   "source": [
    "d = pd.read_csv(KLINE_DATASET_PATH, sep=\";\")\n",
    "d[\"P\"] = d.population.pipe(np.log).pipe(lambda x: (x - x.mean()) / x.std())\n",
    "d[\"cid\"] = (d.contact == \"high\").astype(int)\n",
    "\n",
    "d.head()"
   ]
  },
  {
   "cell_type": "code",
   "execution_count": 25,
   "metadata": {},
   "outputs": [],
   "source": [
    "def model_12_2(cid, P):\n",
    "    def _generator():      \n",
    "      alpha = yield Root(tfd.Sample(tfd.Normal(loc=1., scale=1.), sample_shape=2))\n",
    "      beta = yield Root(tfd.Sample(tfd.Exponential(rate=1.), sample_shape=2))\n",
    "      gamma = yield Root(tfd.Sample(tfd.Exponential(rate=1.), sample_shape=1))\n",
    "      phi = yield Root(tfd.Sample(tfd.Exponential(rate=1.), sample_shape=1))\n",
    "\n",
    "      lambda_ = tf.exp(tf.squeeze(tf.gather(alpha, cid, axis=-1))) * \\\n",
    "              tf.math.pow(P, tf.squeeze(tf.gather(beta, cid, axis=-1))) / gamma\n",
    "    \n",
    "      g_concentration = lambda_ / phi\n",
    "      g_rate = 1 / phi\n",
    "    \n",
    "      t1 = yield tfd.Independent(\n",
    "          tfd.Gamma(concentration=g_concentration, rate=g_rate), reinterpreted_batch_ndims=1)\n",
    "        \n",
    "      T = yield tfd.Independent(tfd.Poisson(rate=t1), reinterpreted_batch_ndims=1)             \n",
    "      \n",
    "    return tfd.JointDistributionCoroutine(_generator, validate_args=True)    \n",
    "    \n",
    "jdc_12_2 = model_12_2(d.cid.values, tf.cast(d.P.values, dtype=tf.float32))\n",
    "\n",
    "# Issue -\n",
    "# Even prior sampling is not coming back !\n",
    "# jdc_12_2.sample()"
   ]
  },
  {
   "cell_type": "code",
   "execution_count": 26,
   "metadata": {},
   "outputs": [],
   "source": [
    "# NUMBER_OF_CHAINS_12_2 = 1\n",
    "\n",
    "# alpha_init, beta_init, gamma_init, phi_init, t1_init, _ = jdc_12_2.sample(2)\n",
    "\n",
    "# init_state = [\n",
    "#     alpha_init,\n",
    "#     beta_init,\n",
    "#     gamma_init,\n",
    "#     phi_init,\n",
    "#     t1_init\n",
    "# ]\n",
    "\n",
    "# bijectors = [\n",
    "#     tfb.Identity(),\n",
    "#     tfb.Exp(),\n",
    "#     tfb.Exp(),\n",
    "#     tfb.Exp(),\n",
    "#     tfb.Identity(),\n",
    "# ]\n",
    "\n",
    "# posterior_12_2, trace_12_2 = sample_posterior(jdc_12_2, \n",
    "#                                    observed_data=(d.total_tools.values,),\n",
    "#                                    init_state=init_state,\n",
    "#                                    bijectors=bijectors,\n",
    "#                                    params=['alpha', 'beta', 'gamma' 'phi', 't1'])"
   ]
  },
  {
   "cell_type": "code",
   "execution_count": 27,
   "metadata": {},
   "outputs": [],
   "source": [
    "# az.summary(trace_12_2, credible_interval=0.89)"
   ]
  },
  {
   "cell_type": "markdown",
   "metadata": {},
   "source": [
    "## 12.2 Zero-inflated outcomes (TODO)"
   ]
  },
  {
   "cell_type": "markdown",
   "metadata": {},
   "source": [
    "## 12.3 Ordered categorical outcomes (TODO)"
   ]
  },
  {
   "cell_type": "markdown",
   "metadata": {},
   "source": [
    "## 12.4 Ordered categorical predictors (TODO)"
   ]
  },
  {
   "cell_type": "code",
   "execution_count": null,
   "metadata": {},
   "outputs": [],
   "source": []
  }
 ],
 "metadata": {
  "kernelspec": {
   "display_name": "Python 3",
   "language": "python",
   "name": "python3"
  },
  "language_info": {
   "codemirror_mode": {
    "name": "ipython",
    "version": 3
   },
   "file_extension": ".py",
   "mimetype": "text/x-python",
   "name": "python",
   "nbconvert_exporter": "python",
   "pygments_lexer": "ipython3",
   "version": "3.7.5"
  },
  "toc": {
   "base_numbering": 1,
   "nav_menu": {},
   "number_sections": true,
   "sideBar": true,
   "skip_h1_title": false,
   "title_cell": "Table of Contents",
   "title_sidebar": "Contents",
   "toc_cell": false,
   "toc_position": {},
   "toc_section_display": true,
   "toc_window_display": false
  }
 },
 "nbformat": 4,
 "nbformat_minor": 4
}
