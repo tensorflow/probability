{
 "cells": [
  {
   "cell_type": "markdown",
   "metadata": {},
   "source": [
    "##### Copyright 2020 The TensorFlow Authors.\n",
    "\n",
    "Licensed under the Apache License, Version 2.0 (the \"License\");"
   ]
  },
  {
   "cell_type": "code",
   "execution_count": 1,
   "metadata": {},
   "outputs": [],
   "source": [
    "#@title Licensed under the Apache License, Version 2.0 (the \"License\"); { display-mode: \"form\" }\n",
    "# you may not use this file except in compliance with the License.\n",
    "# You may obtain a copy of the License at\n",
    "#\n",
    "# https://www.apache.org/licenses/LICENSE-2.0\n",
    "#\n",
    "# Unless required by applicable law or agreed to in writing, software\n",
    "# distributed under the License is distributed on an \"AS IS\" BASIS,\n",
    "# WITHOUT WARRANTIES OR CONDITIONS OF ANY KIND, either express or implied.\n",
    "# See the License for the specific language governing permissions and\n",
    "# limitations under the License."
   ]
  },
  {
   "cell_type": "markdown",
   "metadata": {},
   "source": [
    "# Chapter 8 - Conditional Manatees\n",
    "\n",
    "<table class=\"tfo-notebook-buttons\" align=\"left\">\n",
    "  <td>\n",
    "    <a target=\"_blank\" href=\"https://www.tensorflow.org/probability/examples/statistical_rethinking/notebooks/08_conditional_manatees\"><img src=\"https://www.tensorflow.org/images/tf_logo_32px.png\" />View on TensorFlow.org</a>\n",
    "  </td>\n",
    "  <td>\n",
    "    <a target=\"_blank\" href=\"https://colab.research.google.com/github/tensorflow/probability/blob/master/tensorflow_probability/examples/statistical_rethinking/notebooks/08_conditional_manatees.ipynb\"><img src=\"https://www.tensorflow.org/images/colab_logo_32px.png\" />Run in Google Colab</a>\n",
    "  </td>\n",
    "  <td>\n",
    "    <a target=\"_blank\" href=\"https://github.com/tensorflow/probability/blob/master/tensorflow_probability/examples/statistical_rethinking/notebooks/08_conditional_manatees.ipynb\"><img src=\"https://www.tensorflow.org/images/GitHub-Mark-32px.png\" />View source on GitHub</a>\n",
    "  </td>\n",
    "  <td>\n",
    "    <a href=\"https://storage.googleapis.com/tensorflow_docs/probability/examples/statistical_rethinking/notebooks/08_conditional_manatees.ipynb\"><img src=\"https://www.tensorflow.org/images/download_logo_32px.png\" />Download notebook</a>\n",
    "  </td>\n",
    "</table>"
   ]
  },
  {
   "cell_type": "markdown",
   "metadata": {},
   "source": [
    "## Imports and utility functions\n"
   ]
  },
  {
   "cell_type": "code",
   "execution_count": 2,
   "metadata": {},
   "outputs": [],
   "source": [
    "#@title Install { display-mode: \"form\" }\n",
    "TF_Installation = 'System' #@param ['TF Nightly', 'TF Stable', 'System']\n",
    "\n",
    "if TF_Installation == 'TF Nightly':\n",
    "  !pip install -q --upgrade tf-nightly\n",
    "  print('Installation of `tf-nightly` complete.')\n",
    "elif TF_Installation == 'TF Stable':\n",
    "  !pip install -q --upgrade tensorflow\n",
    "  print('Installation of `tensorflow` complete.')\n",
    "elif TF_Installation == 'System':\n",
    "  pass\n",
    "else:\n",
    "  raise ValueError('Selection Error: Please select a valid '\n",
    "                   'installation option.')"
   ]
  },
  {
   "cell_type": "code",
   "execution_count": 3,
   "metadata": {},
   "outputs": [],
   "source": [
    "#@title Install { display-mode: \"form\" }\n",
    "TFP_Installation = \"System\" #@param [\"Nightly\", \"Stable\", \"System\"]\n",
    "\n",
    "if TFP_Installation == \"Nightly\":\n",
    "  !pip install -q tfp-nightly\n",
    "  print(\"Installation of `tfp-nightly` complete.\")\n",
    "elif TFP_Installation == \"Stable\":\n",
    "  !pip install -q --upgrade tensorflow-probability\n",
    "  print(\"Installation of `tensorflow-probability` complete.\")\n",
    "elif TFP_Installation == \"System\":\n",
    "  pass\n",
    "else:\n",
    "  raise ValueError(\"Selection Error: Please select a valid \"\n",
    "                   \"installation option.\")"
   ]
  },
  {
   "cell_type": "code",
   "execution_count": 4,
   "metadata": {},
   "outputs": [],
   "source": [
    "#@title Install { display-mode: \"form\" }\n",
    "\n",
    "# Install packages that are not installed in colab\n",
    "try:\n",
    "  import google.colab\n",
    "  IN_COLAB = True\n",
    "except:\n",
    "  IN_COLAB = False\n",
    "\n",
    "if IN_COLAB:\n",
    "    print(\"Installing arviz ...\")\n",
    "    !pip install -q arviz"
   ]
  },
  {
   "cell_type": "code",
   "execution_count": 5,
   "metadata": {},
   "outputs": [],
   "source": [
    "# Core\n",
    "import collections\n",
    "import numpy as np\n",
    "import arviz as az\n",
    "import pandas as pd\n",
    "import xarray as xr\n",
    "import tensorflow as tf\n",
    "import tensorflow_probability as tfp\n",
    "\n",
    "# visualization \n",
    "import matplotlib.pyplot as plt\n",
    "\n",
    "# aliases\n",
    "tfd = tfp.distributions\n",
    "tfb = tfp.bijectors\n",
    "Root = tfd.JointDistributionCoroutine.Root"
   ]
  },
  {
   "cell_type": "code",
   "execution_count": 6,
   "metadata": {},
   "outputs": [],
   "source": [
    "az.style.use('seaborn-colorblind')"
   ]
  },
  {
   "cell_type": "markdown",
   "metadata": {},
   "source": [
    "## Sampling helpers\n"
   ]
  },
  {
   "cell_type": "code",
   "execution_count": 7,
   "metadata": {},
   "outputs": [],
   "source": [
    "USE_XLA = False              #@param\n",
    "USE_MCMC = True             #@param"
   ]
  },
  {
   "cell_type": "code",
   "execution_count": 8,
   "metadata": {},
   "outputs": [],
   "source": [
    "def _trace_to_arviz(trace=None,\n",
    "                   sample_stats=None,\n",
    "                   observed_data=None,\n",
    "                   prior_predictive=None,\n",
    "                   posterior_predictive=None,\n",
    "                   inplace=True):\n",
    "\n",
    "    if trace is not None and isinstance(trace, dict):\n",
    "        trace = {k: v.numpy()\n",
    "                 for k, v in trace.items()}\n",
    "    if sample_stats is not None and isinstance(sample_stats, dict):\n",
    "        sample_stats = {k: v.numpy().T for k, v in sample_stats.items()}\n",
    "    if prior_predictive is not None and isinstance(prior_predictive, dict):\n",
    "        prior_predictive = {k: v[np.newaxis]\n",
    "                            for k, v in prior_predictive.items()}\n",
    "    if posterior_predictive is not None and isinstance(posterior_predictive, dict):\n",
    "        if isinstance(trace, az.InferenceData) and inplace == True:\n",
    "            return trace + az.from_dict(posterior_predictive=posterior_predictive)\n",
    "        else:\n",
    "            trace = None\n",
    "\n",
    "    return az.from_dict(\n",
    "        posterior=trace,\n",
    "        sample_stats=sample_stats,\n",
    "        prior_predictive=prior_predictive,\n",
    "        posterior_predictive=posterior_predictive,\n",
    "        observed_data=observed_data,\n",
    "    )"
   ]
  },
  {
   "cell_type": "code",
   "execution_count": 9,
   "metadata": {},
   "outputs": [],
   "source": [
    "NUMBER_OF_SAMPLES = 2000           #@param\n",
    "\n",
    "MCMC_NUMBER_OF_CHAINS  = 2        #@param \n",
    "MCMC_NUMBER_OF_BURNIN  = 500      #@param\n",
    "MCMC_NUMBER_OF_LEAPFROG_STEPS = 4 #@param\n",
    "\n",
    "VI_LEARNING_RATE = 0.1            #@param\n",
    "VI_NUMBER_OF_STEPS = 2000         #@param\n",
    "VI_SAMPLE_SIZE = 1                #@param\n",
    "\n",
    "\n",
    "@tf.function(autograph=False, experimental_compile=USE_XLA)\n",
    "def run_hmc_chain(init_state,\n",
    "                  bijectors, \n",
    "                  step_size, \n",
    "                  target_log_prob_fn, \n",
    "                  num_leapfrog_steps=MCMC_NUMBER_OF_LEAPFROG_STEPS,\n",
    "                  num_samples=NUMBER_OF_SAMPLES,\n",
    "                  burnin=MCMC_NUMBER_OF_BURNIN):    \n",
    "\n",
    "    def _trace_fn_transitioned(_, pkr):\n",
    "        return (\n",
    "            pkr.inner_results.inner_results.log_accept_ratio\n",
    "        )\n",
    "\n",
    "    hmc_kernel = tfp.mcmc.HamiltonianMonteCarlo(\n",
    "        target_log_prob_fn,\n",
    "        num_leapfrog_steps=num_leapfrog_steps,\n",
    "        step_size=step_size,\n",
    "    )         \n",
    "\n",
    "    inner_kernel = tfp.mcmc.TransformedTransitionKernel(\n",
    "        inner_kernel=hmc_kernel,\n",
    "        bijector=bijectors,\n",
    "    )       \n",
    "\n",
    "    kernel = tfp.mcmc.SimpleStepSizeAdaptation(\n",
    "        inner_kernel=inner_kernel,\n",
    "        target_accept_prob=.8,\n",
    "        num_adaptation_steps=int(0.8*burnin),\n",
    "        log_accept_prob_getter_fn=lambda pkr: pkr.inner_results.log_accept_ratio\n",
    "    )    \n",
    "\n",
    "    results, sampler_stat = tfp.mcmc.sample_chain(\n",
    "        num_results=num_samples,\n",
    "        num_burnin_steps=burnin,\n",
    "        current_state=init_state,\n",
    "        kernel=kernel,\n",
    "        trace_fn=_trace_fn_transitioned)\n",
    "\n",
    "    return results, sampler_stat    \n",
    "\n",
    "def sample_posterior_vi(\n",
    "              jdc, \n",
    "              observed_data,\n",
    "              init_config,\n",
    "              vi_config=dict(),\n",
    "              num_samples=NUMBER_OF_SAMPLES):\n",
    "    \n",
    "    assert init_config is not None\n",
    "    \n",
    "    # expecting the order of keys is same \n",
    "    # as that of definition in the model function\n",
    "    params = init_config.keys()\n",
    "    \n",
    "    init_state = dict()\n",
    "    constraining_bijectors = dict()\n",
    "    for p in params:\n",
    "        init_state[p] = init_config[p]['state'][0]\n",
    "        constraining_bijectors[p] = init_config[p]['bijector']\n",
    "        \n",
    "    initial_unconstrained_loc = tf.nest.map_structure(\n",
    "                lambda b, x: b.inverse(x) if b is not None else x,\n",
    "                constraining_bijectors, init_state)\n",
    "\n",
    "    def target_log_prob_fn(*args, **kwargs):\n",
    "      newargs = []\n",
    "      for k in params:\n",
    "        newargs.append(kwargs[k])\n",
    "\n",
    "      newargs = newargs + list(observed_data)\n",
    "      return jdc.log_prob(*newargs)\n",
    "        \n",
    "    surrogate_posterior = tfp.experimental.vi.build_factored_surrogate_posterior(\n",
    "                event_shape=tf.nest.map_structure(tf.shape, init_state),\n",
    "                constraining_bijectors=constraining_bijectors,\n",
    "                initial_unconstrained_loc=initial_unconstrained_loc,\n",
    "                initial_unconstrained_scale=1e-4)  \n",
    "    \n",
    "    learning_rate = vi_config.get('learning_rate', VI_LEARNING_RATE)\n",
    "    num_steps     = vi_config.get('num_steps', VI_NUMBER_OF_STEPS)\n",
    "    sample_size   = vi_config.get('sample_size', VI_SAMPLE_SIZE)\n",
    "    \n",
    "    losses = tfp.vi.fit_surrogate_posterior(\n",
    "                  target_log_prob_fn,\n",
    "                  surrogate_posterior=surrogate_posterior,\n",
    "                  num_steps=num_steps,\n",
    "                  optimizer=tf.optimizers.Adam(learning_rate),\n",
    "                  sample_size=sample_size)\n",
    "\n",
    "    results = surrogate_posterior.sample((MCMC_NUMBER_OF_CHAINS, num_samples))\n",
    "    \n",
    "    # fake sample_stats to trigger arviz\n",
    "    # create a proper InferenceData structure\n",
    "    sample_stats = dict(fake_entry=tf.random.normal(shape=(num_samples, MCMC_NUMBER_OF_CHAINS)))\n",
    "        \n",
    "    az_trace = _trace_to_arviz(trace=results, sample_stats=sample_stats)\n",
    "\n",
    "    return results, az_trace\n",
    "\n",
    "\n",
    "def sample_posterior_hmc(\n",
    "              jdc, \n",
    "              observed_data,\n",
    "              init_config,\n",
    "              mcmc_config=dict(),\n",
    "              num_samples=NUMBER_OF_SAMPLES):\n",
    "    \n",
    "    assert init_config is not None\n",
    "    \n",
    "    # expecting the order of keys is same \n",
    "    # as that of definition in the model function\n",
    "    params = init_config.keys()\n",
    "    \n",
    "    init_state = []\n",
    "    bijectors = []\n",
    "    for p in params:\n",
    "        init_state.append(init_config[p]['state'])\n",
    "        bijectors.append(init_config[p]['bijector'])\n",
    "\n",
    "    target_log_prob_fn = lambda *x: jdc.log_prob(x + observed_data)  \n",
    "    \n",
    "    \n",
    "    step_size  = mcmc_config.get('step_size', 0.1)\n",
    "    num_chains = mcmc_config.get('num_chains', MCMC_NUMBER_OF_CHAINS)\n",
    "    burnin     = mcmc_config.get('burnin', MCMC_NUMBER_OF_BURNIN)\n",
    "    \n",
    "    results, sample_stats = run_hmc_chain(\n",
    "        init_state,\n",
    "        bijectors,\n",
    "        step_size=step_size,\n",
    "        target_log_prob_fn=target_log_prob_fn,                                      \n",
    "        num_samples=num_samples, \n",
    "        burnin=burnin,\n",
    "    )\n",
    "\n",
    "    stat_names = ['mean_tree_accept']\n",
    "    sampler_stats = dict(zip(stat_names, [sample_stats]))      \n",
    "    \n",
    "    print(sampler_stats)\n",
    "        \n",
    "    transposed_results = []\n",
    "    \n",
    "    for r in results:        \n",
    "        if len(r.shape) == 2:\n",
    "            transposed_shape = [1,0]\n",
    "        elif len(r.shape) == 3:\n",
    "            transposed_shape = [1,0,2] \n",
    "        else:\n",
    "            transposed_shape = [1,0,2,3] \n",
    "        \n",
    "        transposed_results.append(tf.transpose(r, transposed_shape))\n",
    "\n",
    "    posterior = dict(zip(params, transposed_results))        \n",
    "\n",
    "    az_trace = _trace_to_arviz(trace=posterior, sample_stats=sampler_stats)\n",
    "\n",
    "    return posterior, az_trace\n",
    "\n",
    "def sample_posterior(\n",
    "              jdc, \n",
    "              observed_data,\n",
    "              init_config,\n",
    "              mcmc_config=dict(),\n",
    "              vi_config=dict(),\n",
    "              num_samples=NUMBER_OF_SAMPLES):\n",
    "    \n",
    "    if USE_MCMC:\n",
    "        return sample_posterior_hmc(jdc, observed_data, init_config,mcmc_config,num_samples)\n",
    "    \n",
    "    return sample_posterior_vi(jdc, observed_data, init_config,mcmc_config,num_samples)    \n"
   ]
  },
  {
   "cell_type": "markdown",
   "metadata": {},
   "source": [
    "## Dataset URLs & Utils\n"
   ]
  },
  {
   "cell_type": "code",
   "execution_count": 10,
   "metadata": {},
   "outputs": [],
   "source": [
    "# You could change base url to local dir or a remoate raw github content\n",
    "_BASE_URL = \"https://raw.githubusercontent.com/rmcelreath/rethinking/master/data\"\n",
    "\n",
    "RUGGED_DATASET_PATH = f\"{_BASE_URL}/rugged.csv\"\n",
    "TULIPS_DATASET_PATH = f\"{_BASE_URL}/tulips.csv\""
   ]
  },
  {
   "cell_type": "code",
   "execution_count": 11,
   "metadata": {},
   "outputs": [],
   "source": [
    "# A utility method to convert data (columns) from pandas dataframe\n",
    "# into tensors with appropriate type\n",
    "def df_to_tensors(name, df, columns, default_type=tf.float32):\n",
    "    \"\"\" name : Name of the dataset\n",
    "        df : pandas dataframe\n",
    "        colums : a list of names that have the same type or\n",
    "                 a dictionary where keys are the column names and values are the tensorflow type (e.g. tf.float32)\n",
    "    \"\"\"\n",
    "    if isinstance(columns,dict):\n",
    "        column_names = columns.keys()\n",
    "        fields = [tf.cast(df[k].values, dtype=v) for k,v in columns.items()]    \n",
    "    else:\n",
    "        column_names = columns        \n",
    "        fields = [tf.cast(df[k].values, dtype=default_type) for k in column_names]    \n",
    "        \n",
    "    # build the cls\n",
    "    tuple_cls = collections.namedtuple(name, column_names)    \n",
    "    # build the obj\n",
    "    return tuple_cls._make(fields) "
   ]
  },
  {
   "cell_type": "markdown",
   "metadata": {},
   "source": [
    "# Introduction"
   ]
  },
  {
   "cell_type": "markdown",
   "metadata": {},
   "source": [
    "## 8.1 Building an interaction"
   ]
  },
  {
   "cell_type": "markdown",
   "metadata": {},
   "source": [
    "### 8.1.1 Making a rugged model"
   ]
  },
  {
   "cell_type": "markdown",
   "metadata": {},
   "source": [
    "##### Code 8.1\n",
    "\n",
    "\n",
    "Every inference is conditional on something whether we notice it or not !\n",
    "\n",
    "So far in the book, it was assumed that the predictor variable has an independent association with the mean of the outcome. What if want to allow the association to be conditional ?"
   ]
  },
  {
   "cell_type": "code",
   "execution_count": 12,
   "metadata": {},
   "outputs": [],
   "source": [
    "d = pd.read_csv(RUGGED_DATASET_PATH, sep=\";\")\n",
    "\n",
    "# make log version of outcome\n",
    "d[\"log_gdp\"] = d[\"rgdppc_2000\"].pipe(np.log)\n",
    "\n",
    "# extract countries with GDP data\n",
    "dd = d[d[\"rgdppc_2000\"].notnull()].copy()\n",
    "\n",
    "# rescale variables\n",
    "dd[\"log_gdp_std\"] = dd.log_gdp / dd.log_gdp.mean()\n",
    "dd[\"rugged_std\"] = dd.rugged / dd.rugged.max()\n",
    "\n",
    "# split countries into Africa and not-Africa\n",
    "d_A1 = dd[dd[\"cont_africa\"] == 1]  # Africa\n",
    "d_A0 = dd[dd[\"cont_africa\"] == 0]  # not Africa"
   ]
  },
  {
   "cell_type": "markdown",
   "metadata": {},
   "source": [
    "Note - terrain ruggedness is divided by the maximum value observed"
   ]
  },
  {
   "cell_type": "markdown",
   "metadata": {},
   "source": [
    "##### Code 8.2"
   ]
  },
  {
   "cell_type": "code",
   "execution_count": 13,
   "metadata": {},
   "outputs": [],
   "source": [
    "def model_8_1(rugged_std):\n",
    "    def _generator():\n",
    "        alpha = yield Root(tfd.Sample(tfd.Normal(loc=1., scale=1., name='alpha'), sample_shape=1))\n",
    "        beta = yield Root(tfd.Sample(tfd.Normal(loc=0., scale=1., name='beta'), sample_shape=1))\n",
    "        sigma = yield Root(tfd.Sample(tfd.Exponential(rate=1., name='sigma'), sample_shape=1))\n",
    "        \n",
    "        mu = alpha + beta * (rugged_std - 0.215)\n",
    "        \n",
    "        log_gdp_std = yield tfd.Independent(tfd.Normal(loc=mu, scale=sigma), reinterpreted_batch_ndims=1)\n",
    "        \n",
    "    return tfd.JointDistributionCoroutine(_generator, validate_args=False)  "
   ]
  },
  {
   "cell_type": "markdown",
   "metadata": {},
   "source": [
    "##### Code 8.3"
   ]
  },
  {
   "cell_type": "code",
   "execution_count": 14,
   "metadata": {},
   "outputs": [
    {
     "data": {
      "image/png": "[encoded data removed]",
      "text/plain": [
       "<Figure size 432x288 with 1 Axes>"
      ]
     },
     "metadata": {
      "needs_background": "light"
     },
     "output_type": "display_data"
    }
   ],
   "source": [
    "jdc_8_1 = model_8_1(rugged_std=dd[\"rugged_std\"].values)\n",
    "\n",
    "sample_alpha, sample_beta, sample_sigma, _ = jdc_8_1.sample(1000)\n",
    "\n",
    "# set up the plot dimensions\n",
    "plt.subplot(xlim=(0, 1), ylim=(0.5, 1.5),\n",
    "            xlabel=\"ruggedness\", ylabel=\"log GDP\")\n",
    "plt.gca().axhline(dd.log_gdp_std.min(), ls=\"--\")\n",
    "plt.gca().axhline(dd.log_gdp_std.max(), ls=\"--\")\n",
    "\n",
    "# draw 50 lines from the prior\n",
    "rugged_seq = np.linspace(-0.1, 1.1, num=30)\n",
    "\n",
    "jdc_8_1_test = model_8_1(rugged_std=rugged_seq)\n",
    "\n",
    "ds, _ = jdc_8_1_test.sample_distributions(value=[\n",
    "    sample_alpha,\n",
    "    sample_beta,\n",
    "    sample_sigma,\n",
    "    None\n",
    "])\n",
    "\n",
    "mu = ds[-1].distribution.loc\n",
    "\n",
    "for i in range(50):\n",
    "    plt.plot(rugged_seq, mu[i], \"k\", alpha=0.3)"
   ]
  },
  {
   "cell_type": "markdown",
   "metadata": {},
   "source": [
    "##### Code 8.4"
   ]
  },
  {
   "cell_type": "code",
   "execution_count": 15,
   "metadata": {},
   "outputs": [
    {
     "data": {
      "text/plain": [
       "0.553"
      ]
     },
     "execution_count": 15,
     "metadata": {},
     "output_type": "execute_result"
    }
   ],
   "source": [
    "np.sum(np.abs(sample_beta) > 0.6) / sample_beta.shape[0]"
   ]
  },
  {
   "cell_type": "markdown",
   "metadata": {},
   "source": [
    "##### Code 8.5"
   ]
  },
  {
   "cell_type": "code",
   "execution_count": 16,
   "metadata": {},
   "outputs": [],
   "source": [
    "tdf = df_to_tensors('Rugged', dd, ['rugged_std', 'log_gdp_std'])"
   ]
  },
  {
   "cell_type": "code",
   "execution_count": 17,
   "metadata": {},
   "outputs": [],
   "source": [
    "def model_8_1(rugged_std):\n",
    "    def _generator():\n",
    "        alpha = yield Root(tfd.Sample(tfd.Normal(loc=1., scale=0.1, name='alpha'), sample_shape=1))\n",
    "        beta = yield Root(tfd.Sample(tfd.Normal(loc=0., scale=0.3, name='beta'), sample_shape=1))\n",
    "        sigma = yield Root(tfd.Sample(tfd.Exponential(rate=1., name='sigma'), sample_shape=1))\n",
    "        \n",
    "        mu = alpha[...,tf.newaxis] + beta[...,tf.newaxis] * (rugged_std - 0.215)\n",
    "        scale = sigma[...,tf.newaxis]\n",
    "        \n",
    "        log_gdp_std = yield tfd.Independent(\n",
    "            tfd.Normal(loc=mu, scale=scale), reinterpreted_batch_ndims=1)\n",
    "        \n",
    "    return tfd.JointDistributionCoroutine(_generator, validate_args=False)  \n",
    "\n",
    "\n",
    "jdc_8_1 = model_8_1(tdf.rugged_std)"
   ]
  },
  {
   "cell_type": "code",
   "execution_count": 18,
   "metadata": {},
   "outputs": [
    {
     "data": {
      "image/png": "[encoded data removed]",
      "text/plain": [
       "<Figure size 432x288 with 1 Axes>"
      ]
     },
     "metadata": {
      "needs_background": "light"
     },
     "output_type": "display_data"
    }
   ],
   "source": [
    "sample_alpha, sample_beta, sample_sigma, _ = jdc_8_1.sample(1000)\n",
    "\n",
    "# set up the plot dimensions\n",
    "plt.subplot(xlim=(0, 1), ylim=(0.5, 1.5),\n",
    "            xlabel=\"ruggedness\", ylabel=\"log GDP\")\n",
    "plt.gca().axhline(dd.log_gdp_std.min(), ls=\"--\")\n",
    "plt.gca().axhline(dd.log_gdp_std.max(), ls=\"--\")\n",
    "\n",
    "# draw 50 lines from the prior\n",
    "rugged_seq = np.linspace(-0.1, 1.1, num=30)\n",
    "\n",
    "jdc_8_1_test = model_8_1(rugged_std=rugged_seq)\n",
    "\n",
    "ds, _ = jdc_8_1_test.sample_distributions(value=[\n",
    "    sample_alpha,\n",
    "    sample_beta,\n",
    "    sample_sigma,\n",
    "    None\n",
    "])\n",
    "\n",
    "mu = tf.squeeze(ds[-1].distribution.loc)\n",
    "\n",
    "for i in range(50):\n",
    "    plt.plot(rugged_seq, mu[i], \"k\", alpha=0.3)"
   ]
  },
  {
   "cell_type": "markdown",
   "metadata": {},
   "source": [
    "##### Code 8.6"
   ]
  },
  {
   "cell_type": "code",
   "execution_count": 19,
   "metadata": {},
   "outputs": [
    {
     "name": "stdout",
     "output_type": "stream",
     "text": [
      "WARNING:tensorflow:From /Users/ksachdeva/Desktop/Dev/myoss/rethinking-tfp-interim/env/lib/python3.7/site-packages/tensorflow_probability/python/mcmc/kernel.py:104: calling HamiltonianMonteCarlo.__init__ (from tensorflow_probability.python.mcmc.hmc) with step_size_update_fn is deprecated and will be removed after 2019-05-22.\n",
      "Instructions for updating:\n",
      "The `step_size_update_fn` argument is deprecated. Use `tfp.mcmc.SimpleStepSizeAdaptation` instead.\n",
      "WARNING:tensorflow:From /Users/ksachdeva/Desktop/Dev/myoss/rethinking-tfp-interim/env/lib/python3.7/site-packages/tensorflow/python/util/deprecation.py:507: calling HamiltonianMonteCarlo.__init__ (from tensorflow_probability.python.mcmc.hmc) with seed is deprecated and will be removed after 2020-09-20.\n",
      "Instructions for updating:\n",
      "The `seed` argument is deprecated (but will work until removed). Pass seed to `tfp.mcmc.sample_chain` instead.\n",
      "{'mean_tree_accept': <tf.Tensor: shape=(2000, 2), dtype=float32, numpy=\n",
      "array([[-6.2040710e-01,  1.3679504e-01],\n",
      "       [ 7.0053101e-01, -7.3557281e-01],\n",
      "       [-3.2823944e-01,  7.6021576e-01],\n",
      "       ...,\n",
      "       [ 3.8879395e-02, -4.2276001e+00],\n",
      "       [ 2.1949005e-01, -1.1901855e-03],\n",
      "       [-1.6262817e-01, -1.2275696e-01]], dtype=float32)>}\n"
     ]
    },
    {
     "data": {
      "text/html": [
       "<div>\n",
       "<style scoped>\n",
       "    .dataframe tbody tr th:only-of-type {\n",
       "        vertical-align: middle;\n",
       "    }\n",
       "\n",
       "    .dataframe tbody tr th {\n",
       "        vertical-align: top;\n",
       "    }\n",
       "\n",
       "    .dataframe thead th {\n",
       "        text-align: right;\n",
       "    }\n",
       "</style>\n",
       "<table border=\"1\" class=\"dataframe\">\n",
       "  <thead>\n",
       "    <tr style=\"text-align: right;\">\n",
       "      <th></th>\n",
       "      <th>mean</th>\n",
       "      <th>sd</th>\n",
       "      <th>hdi_5.5%</th>\n",
       "      <th>hdi_94.5%</th>\n",
       "      <th>mcse_mean</th>\n",
       "      <th>mcse_sd</th>\n",
       "      <th>ess_mean</th>\n",
       "      <th>ess_sd</th>\n",
       "      <th>ess_bulk</th>\n",
       "      <th>ess_tail</th>\n",
       "      <th>r_hat</th>\n",
       "    </tr>\n",
       "  </thead>\n",
       "  <tbody>\n",
       "    <tr>\n",
       "      <th>alpha</th>\n",
       "      <td>1.000</td>\n",
       "      <td>0.011</td>\n",
       "      <td>0.985</td>\n",
       "      <td>1.018</td>\n",
       "      <td>0.000</td>\n",
       "      <td>0.000</td>\n",
       "      <td>1504.0</td>\n",
       "      <td>1504.0</td>\n",
       "      <td>1508.0</td>\n",
       "      <td>1766.0</td>\n",
       "      <td>1.0</td>\n",
       "    </tr>\n",
       "    <tr>\n",
       "      <th>beta</th>\n",
       "      <td>0.004</td>\n",
       "      <td>0.056</td>\n",
       "      <td>-0.082</td>\n",
       "      <td>0.096</td>\n",
       "      <td>0.002</td>\n",
       "      <td>0.001</td>\n",
       "      <td>1134.0</td>\n",
       "      <td>1134.0</td>\n",
       "      <td>1134.0</td>\n",
       "      <td>1641.0</td>\n",
       "      <td>1.0</td>\n",
       "    </tr>\n",
       "    <tr>\n",
       "      <th>sigma</th>\n",
       "      <td>0.138</td>\n",
       "      <td>0.008</td>\n",
       "      <td>0.126</td>\n",
       "      <td>0.150</td>\n",
       "      <td>0.000</td>\n",
       "      <td>0.000</td>\n",
       "      <td>1097.0</td>\n",
       "      <td>1097.0</td>\n",
       "      <td>1086.0</td>\n",
       "      <td>1897.0</td>\n",
       "      <td>1.0</td>\n",
       "    </tr>\n",
       "  </tbody>\n",
       "</table>\n",
       "</div>"
      ],
      "text/plain": [
       "        mean     sd  hdi_5.5%  hdi_94.5%  mcse_mean  mcse_sd  ess_mean  \\\n",
       "alpha  1.000  0.011     0.985      1.018      0.000    0.000    1504.0   \n",
       "beta   0.004  0.056    -0.082      0.096      0.002    0.001    1134.0   \n",
       "sigma  0.138  0.008     0.126      0.150      0.000    0.000    1097.0   \n",
       "\n",
       "       ess_sd  ess_bulk  ess_tail  r_hat  \n",
       "alpha  1504.0    1508.0    1766.0    1.0  \n",
       "beta   1134.0    1134.0    1641.0    1.0  \n",
       "sigma  1097.0    1086.0    1897.0    1.0  "
      ]
     },
     "execution_count": 19,
     "metadata": {},
     "output_type": "execute_result"
    }
   ],
   "source": [
    "init_state = [\n",
    "    tf.ones([MCMC_NUMBER_OF_CHAINS]),\n",
    "    tf.zeros([MCMC_NUMBER_OF_CHAINS]),\n",
    "    tf.ones([MCMC_NUMBER_OF_CHAINS]),\n",
    "]\n",
    "\n",
    "init_config = dict(\n",
    "    alpha  = dict(state=init_state[0], bijector=tfb.Identity()),\n",
    "    beta   = dict(state=init_state[1], bijector=tfb.Identity()),\n",
    "    sigma  = dict(state=init_state[2], bijector=tfb.Exp())\n",
    ")\n",
    "\n",
    "posterior_8_1, trace_8_1 = sample_posterior(jdc_8_1,\n",
    "                               init_config=init_config,\n",
    "                               observed_data=(tdf.log_gdp_std,))\n",
    "\n",
    "az.summary(trace_8_1, hdi_prob=0.89)"
   ]
  },
  {
   "cell_type": "markdown",
   "metadata": {},
   "source": [
    "### 8.1.2 Adding an indicator variable isn't enough"
   ]
  },
  {
   "cell_type": "markdown",
   "metadata": {},
   "source": [
    "##### Code 8.7"
   ]
  },
  {
   "cell_type": "code",
   "execution_count": 20,
   "metadata": {},
   "outputs": [
    {
     "data": {
      "text/plain": [
       "2      0\n",
       "4      1\n",
       "7      1\n",
       "8      1\n",
       "9      1\n",
       "      ..\n",
       "229    1\n",
       "230    1\n",
       "231    0\n",
       "232    0\n",
       "233    0\n",
       "Name: cid, Length: 170, dtype: int64"
      ]
     },
     "execution_count": 20,
     "metadata": {},
     "output_type": "execute_result"
    }
   ],
   "source": [
    "# make variable to index Africa (0) or not (1)\n",
    "dd[\"cid\"] = np.where(dd.cont_africa.values == 1, 0, 1)\n",
    "\n",
    "dd[\"cid\"]"
   ]
  },
  {
   "cell_type": "markdown",
   "metadata": {},
   "source": [
    "##### Code 8.8"
   ]
  },
  {
   "cell_type": "code",
   "execution_count": 21,
   "metadata": {},
   "outputs": [],
   "source": [
    "tdf = df_to_tensors('Rugged', dd, {\n",
    "    'rugged_std' : tf.float32,\n",
    "    'log_gdp_std' : tf.float32,\n",
    "    'cid' : tf.int32\n",
    "})"
   ]
  },
  {
   "cell_type": "code",
   "execution_count": 22,
   "metadata": {},
   "outputs": [],
   "source": [
    "def model_8_2(cid, rugged_std):\n",
    "    def _generator():\n",
    "        alpha = yield Root(tfd.Sample(tfd.Normal(loc=1., scale=0.1, name='alpha'), sample_shape=2))\n",
    "        beta = yield Root(tfd.Sample(tfd.Normal(loc=0., scale=0.3, name='beta'), sample_shape=1))\n",
    "        sigma = yield Root(tfd.Sample(tfd.Exponential(rate=1., name='sigma'), sample_shape=1))\n",
    "        \n",
    "        mu = tf.gather(alpha, cid, axis=-1) + beta[...,tf.newaxis] * (rugged_std - 0.215)\n",
    "        scale = sigma[...,tf.newaxis]\n",
    "        \n",
    "        log_gdp_std = yield tfd.Independent(\n",
    "            tfd.Normal(loc=mu, scale=scale), reinterpreted_batch_ndims=1)\n",
    "        \n",
    "    return tfd.JointDistributionCoroutine(_generator, validate_args=False)  \n",
    "\n",
    "\n",
    "jdc_8_2 = model_8_2(tdf.cid, rugged_std=tdf.rugged_std)"
   ]
  },
  {
   "cell_type": "code",
   "execution_count": 23,
   "metadata": {},
   "outputs": [
    {
     "name": "stdout",
     "output_type": "stream",
     "text": [
      "{'mean_tree_accept': <tf.Tensor: shape=(2000, 2), dtype=float32, numpy=\n",
      "array([[ 0.44662476,  0.07923889],\n",
      "       [-1.7903976 , -0.09365845],\n",
      "       [ 0.07542419,  0.23698425],\n",
      "       ...,\n",
      "       [-0.3047638 , -0.55513   ],\n",
      "       [-0.7093506 ,  0.31301117],\n",
      "       [-0.4529953 ,  0.5459442 ]], dtype=float32)>}\n"
     ]
    }
   ],
   "source": [
    "init_state = [\n",
    "    tf.ones([MCMC_NUMBER_OF_CHAINS, 2]),\n",
    "    tf.zeros([MCMC_NUMBER_OF_CHAINS]),\n",
    "    tf.ones([MCMC_NUMBER_OF_CHAINS]),\n",
    "]\n",
    "\n",
    "init_config = dict(\n",
    "    alpha  = dict(state=init_state[0], bijector=tfb.Identity()),\n",
    "    beta   = dict(state=init_state[1], bijector=tfb.Identity()),\n",
    "    sigma  = dict(state=init_state[2], bijector=tfb.Exp())\n",
    ")\n",
    "\n",
    "\n",
    "posterior_8_2, trace_8_2 = sample_posterior(\n",
    "                                jdc_8_2, \n",
    "                                init_config=init_config,\n",
    "                                observed_data=(tdf.log_gdp_std,))"
   ]
  },
  {
   "cell_type": "code",
   "execution_count": 24,
   "metadata": {},
   "outputs": [
    {
     "data": {
      "text/html": [
       "<div>\n",
       "<style scoped>\n",
       "    .dataframe tbody tr th:only-of-type {\n",
       "        vertical-align: middle;\n",
       "    }\n",
       "\n",
       "    .dataframe tbody tr th {\n",
       "        vertical-align: top;\n",
       "    }\n",
       "\n",
       "    .dataframe thead th {\n",
       "        text-align: right;\n",
       "    }\n",
       "</style>\n",
       "<table border=\"1\" class=\"dataframe\">\n",
       "  <thead>\n",
       "    <tr style=\"text-align: right;\">\n",
       "      <th></th>\n",
       "      <th>mean</th>\n",
       "      <th>sd</th>\n",
       "      <th>hdi_5.5%</th>\n",
       "      <th>hdi_94.5%</th>\n",
       "      <th>mcse_mean</th>\n",
       "      <th>mcse_sd</th>\n",
       "      <th>ess_mean</th>\n",
       "      <th>ess_sd</th>\n",
       "      <th>ess_bulk</th>\n",
       "      <th>ess_tail</th>\n",
       "      <th>r_hat</th>\n",
       "    </tr>\n",
       "  </thead>\n",
       "  <tbody>\n",
       "    <tr>\n",
       "      <th>alpha[0]</th>\n",
       "      <td>0.880</td>\n",
       "      <td>0.016</td>\n",
       "      <td>0.854</td>\n",
       "      <td>0.906</td>\n",
       "      <td>0.000</td>\n",
       "      <td>0.000</td>\n",
       "      <td>3926.0</td>\n",
       "      <td>3926.0</td>\n",
       "      <td>3910.0</td>\n",
       "      <td>2248.0</td>\n",
       "      <td>1.0</td>\n",
       "    </tr>\n",
       "    <tr>\n",
       "      <th>alpha[1]</th>\n",
       "      <td>1.050</td>\n",
       "      <td>0.010</td>\n",
       "      <td>1.034</td>\n",
       "      <td>1.066</td>\n",
       "      <td>0.000</td>\n",
       "      <td>0.000</td>\n",
       "      <td>1100.0</td>\n",
       "      <td>1098.0</td>\n",
       "      <td>1107.0</td>\n",
       "      <td>1246.0</td>\n",
       "      <td>1.0</td>\n",
       "    </tr>\n",
       "    <tr>\n",
       "      <th>beta</th>\n",
       "      <td>-0.046</td>\n",
       "      <td>0.046</td>\n",
       "      <td>-0.120</td>\n",
       "      <td>0.023</td>\n",
       "      <td>0.001</td>\n",
       "      <td>0.001</td>\n",
       "      <td>1740.0</td>\n",
       "      <td>1451.0</td>\n",
       "      <td>1728.0</td>\n",
       "      <td>1398.0</td>\n",
       "      <td>1.0</td>\n",
       "    </tr>\n",
       "    <tr>\n",
       "      <th>sigma</th>\n",
       "      <td>0.114</td>\n",
       "      <td>0.006</td>\n",
       "      <td>0.104</td>\n",
       "      <td>0.124</td>\n",
       "      <td>0.000</td>\n",
       "      <td>0.000</td>\n",
       "      <td>1268.0</td>\n",
       "      <td>1268.0</td>\n",
       "      <td>1258.0</td>\n",
       "      <td>1743.0</td>\n",
       "      <td>1.0</td>\n",
       "    </tr>\n",
       "  </tbody>\n",
       "</table>\n",
       "</div>"
      ],
      "text/plain": [
       "           mean     sd  hdi_5.5%  hdi_94.5%  mcse_mean  mcse_sd  ess_mean  \\\n",
       "alpha[0]  0.880  0.016     0.854      0.906      0.000    0.000    3926.0   \n",
       "alpha[1]  1.050  0.010     1.034      1.066      0.000    0.000    1100.0   \n",
       "beta     -0.046  0.046    -0.120      0.023      0.001    0.001    1740.0   \n",
       "sigma     0.114  0.006     0.104      0.124      0.000    0.000    1268.0   \n",
       "\n",
       "          ess_sd  ess_bulk  ess_tail  r_hat  \n",
       "alpha[0]  3926.0    3910.0    2248.0    1.0  \n",
       "alpha[1]  1098.0    1107.0    1246.0    1.0  \n",
       "beta      1451.0    1728.0    1398.0    1.0  \n",
       "sigma     1268.0    1258.0    1743.0    1.0  "
      ]
     },
     "execution_count": 24,
     "metadata": {},
     "output_type": "execute_result"
    }
   ],
   "source": [
    "az.summary(trace_8_2, hdi_prob=0.89)"
   ]
  },
  {
   "cell_type": "markdown",
   "metadata": {},
   "source": [
    "##### Code 8.9"
   ]
  },
  {
   "cell_type": "code",
   "execution_count": 25,
   "metadata": {},
   "outputs": [],
   "source": [
    "def compute_and_store_log_likelihood_for_model_8_1():\n",
    "    \n",
    "    sample_alpha = posterior_8_1[\"alpha\"]\n",
    "    sample_beta  = posterior_8_1[\"beta\"]\n",
    "    sample_sigma = posterior_8_1[\"sigma\"]\n",
    "    \n",
    "    ds, _ = jdc_8_1.sample_distributions(value=[\n",
    "        sample_alpha, \n",
    "        sample_beta, \n",
    "        sample_sigma, \n",
    "        None\n",
    "    ])\n",
    "    \n",
    "    log_likelihood_8_1 = ds[-1].distribution.log_prob(tdf.log_gdp_std).numpy()    \n",
    "    \n",
    "    # we need to insert this in the sampler_stats\n",
    "    sample_stats_8_1 = trace_8_1.sample_stats\n",
    "    \n",
    "    coords = [sample_stats_8_1.coords['chain'], sample_stats_8_1.coords['draw'], np.arange(170)]\n",
    "\n",
    "    sample_stats_8_1[\"log_likelihood\"] = xr.DataArray(\n",
    "        log_likelihood_8_1, \n",
    "        coords=coords,  \n",
    "        dims=['chain', 'draw', 'log_likelihood_dim_0'])\n",
    "    \n",
    "compute_and_store_log_likelihood_for_model_8_1()"
   ]
  },
  {
   "cell_type": "code",
   "execution_count": 26,
   "metadata": {},
   "outputs": [],
   "source": [
    "# We need to first compute the log likelihoods so as to be able to compare them\n",
    "def compute_and_store_log_likelihood_for_model_8_2():\n",
    "    \n",
    "    sample_alpha = posterior_8_2[\"alpha\"]\n",
    "    sample_beta  = posterior_8_2[\"beta\"]\n",
    "    sample_sigma = posterior_8_2[\"sigma\"]\n",
    "    \n",
    "    ds, _ = jdc_8_2.sample_distributions(value=[\n",
    "        sample_alpha, \n",
    "        sample_beta, \n",
    "        sample_sigma,\n",
    "        None\n",
    "    ])\n",
    "    \n",
    "    log_likelihood_8_2 = ds[-1].distribution.log_prob(tdf.log_gdp_std).numpy() \n",
    "    \n",
    "    # we need to insert this in the sampler_stats\n",
    "    sample_stats_8_2 = trace_8_2.sample_stats\n",
    "    \n",
    "    coords = [sample_stats_8_2.coords['chain'], sample_stats_8_2.coords['draw'], np.arange(170)]\n",
    "\n",
    "    sample_stats_8_2[\"log_likelihood\"] = xr.DataArray(\n",
    "        log_likelihood_8_2, \n",
    "        coords=coords,  \n",
    "        dims=['chain', 'draw', 'log_likelihood_dim_0'])\n",
    "    \n",
    "compute_and_store_log_likelihood_for_model_8_2()"
   ]
  },
  {
   "cell_type": "code",
   "execution_count": 27,
   "metadata": {},
   "outputs": [
    {
     "data": {
      "text/html": [
       "<div>\n",
       "<style scoped>\n",
       "    .dataframe tbody tr th:only-of-type {\n",
       "        vertical-align: middle;\n",
       "    }\n",
       "\n",
       "    .dataframe tbody tr th {\n",
       "        vertical-align: top;\n",
       "    }\n",
       "\n",
       "    .dataframe thead th {\n",
       "        text-align: right;\n",
       "    }\n",
       "</style>\n",
       "<table border=\"1\" class=\"dataframe\">\n",
       "  <thead>\n",
       "    <tr style=\"text-align: right;\">\n",
       "      <th></th>\n",
       "      <th>rank</th>\n",
       "      <th>loo</th>\n",
       "      <th>p_loo</th>\n",
       "      <th>d_loo</th>\n",
       "      <th>weight</th>\n",
       "      <th>se</th>\n",
       "      <th>dse</th>\n",
       "      <th>warning</th>\n",
       "      <th>loo_scale</th>\n",
       "    </tr>\n",
       "  </thead>\n",
       "  <tbody>\n",
       "    <tr>\n",
       "      <th>m8.2</th>\n",
       "      <td>0</td>\n",
       "      <td>-252.462</td>\n",
       "      <td>4.05782</td>\n",
       "      <td>0</td>\n",
       "      <td>0.999997</td>\n",
       "      <td>12.673</td>\n",
       "      <td>0</td>\n",
       "      <td>False</td>\n",
       "      <td>deviance</td>\n",
       "    </tr>\n",
       "    <tr>\n",
       "      <th>m8.1</th>\n",
       "      <td>1</td>\n",
       "      <td>-188.895</td>\n",
       "      <td>2.56039</td>\n",
       "      <td>63.5678</td>\n",
       "      <td>3.09376e-06</td>\n",
       "      <td>14.0181</td>\n",
       "      <td>14.6691</td>\n",
       "      <td>False</td>\n",
       "      <td>deviance</td>\n",
       "    </tr>\n",
       "  </tbody>\n",
       "</table>\n",
       "</div>"
      ],
      "text/plain": [
       "     rank      loo    p_loo    d_loo       weight       se      dse warning  \\\n",
       "m8.2    0 -252.462  4.05782        0     0.999997   12.673        0   False   \n",
       "m8.1    1 -188.895  2.56039  63.5678  3.09376e-06  14.0181  14.6691   False   \n",
       "\n",
       "     loo_scale  \n",
       "m8.2  deviance  \n",
       "m8.1  deviance  "
      ]
     },
     "execution_count": 27,
     "metadata": {},
     "output_type": "execute_result"
    }
   ],
   "source": [
    "az.compare({\"m8.1\": trace_8_1,\n",
    "            \"m8.2\": trace_8_2}, scale='deviance')"
   ]
  },
  {
   "cell_type": "markdown",
   "metadata": {},
   "source": [
    "##### Code 8.10"
   ]
  },
  {
   "cell_type": "code",
   "execution_count": 28,
   "metadata": {},
   "outputs": [
    {
     "data": {
      "text/html": [
       "<div>\n",
       "<style scoped>\n",
       "    .dataframe tbody tr th:only-of-type {\n",
       "        vertical-align: middle;\n",
       "    }\n",
       "\n",
       "    .dataframe tbody tr th {\n",
       "        vertical-align: top;\n",
       "    }\n",
       "\n",
       "    .dataframe thead th {\n",
       "        text-align: right;\n",
       "    }\n",
       "</style>\n",
       "<table border=\"1\" class=\"dataframe\">\n",
       "  <thead>\n",
       "    <tr style=\"text-align: right;\">\n",
       "      <th></th>\n",
       "      <th>mean</th>\n",
       "      <th>sd</th>\n",
       "      <th>hdi_5.5%</th>\n",
       "      <th>hdi_94.5%</th>\n",
       "      <th>mcse_mean</th>\n",
       "      <th>mcse_sd</th>\n",
       "      <th>ess_mean</th>\n",
       "      <th>ess_sd</th>\n",
       "      <th>ess_bulk</th>\n",
       "      <th>ess_tail</th>\n",
       "      <th>r_hat</th>\n",
       "    </tr>\n",
       "  </thead>\n",
       "  <tbody>\n",
       "    <tr>\n",
       "      <th>alpha[0]</th>\n",
       "      <td>0.880</td>\n",
       "      <td>0.016</td>\n",
       "      <td>0.854</td>\n",
       "      <td>0.906</td>\n",
       "      <td>0.000</td>\n",
       "      <td>0.000</td>\n",
       "      <td>3926.0</td>\n",
       "      <td>3926.0</td>\n",
       "      <td>3910.0</td>\n",
       "      <td>2248.0</td>\n",
       "      <td>1.0</td>\n",
       "    </tr>\n",
       "    <tr>\n",
       "      <th>alpha[1]</th>\n",
       "      <td>1.050</td>\n",
       "      <td>0.010</td>\n",
       "      <td>1.034</td>\n",
       "      <td>1.066</td>\n",
       "      <td>0.000</td>\n",
       "      <td>0.000</td>\n",
       "      <td>1100.0</td>\n",
       "      <td>1098.0</td>\n",
       "      <td>1107.0</td>\n",
       "      <td>1246.0</td>\n",
       "      <td>1.0</td>\n",
       "    </tr>\n",
       "    <tr>\n",
       "      <th>beta</th>\n",
       "      <td>-0.046</td>\n",
       "      <td>0.046</td>\n",
       "      <td>-0.120</td>\n",
       "      <td>0.023</td>\n",
       "      <td>0.001</td>\n",
       "      <td>0.001</td>\n",
       "      <td>1740.0</td>\n",
       "      <td>1451.0</td>\n",
       "      <td>1728.0</td>\n",
       "      <td>1398.0</td>\n",
       "      <td>1.0</td>\n",
       "    </tr>\n",
       "    <tr>\n",
       "      <th>sigma</th>\n",
       "      <td>0.114</td>\n",
       "      <td>0.006</td>\n",
       "      <td>0.104</td>\n",
       "      <td>0.124</td>\n",
       "      <td>0.000</td>\n",
       "      <td>0.000</td>\n",
       "      <td>1268.0</td>\n",
       "      <td>1268.0</td>\n",
       "      <td>1258.0</td>\n",
       "      <td>1743.0</td>\n",
       "      <td>1.0</td>\n",
       "    </tr>\n",
       "  </tbody>\n",
       "</table>\n",
       "</div>"
      ],
      "text/plain": [
       "           mean     sd  hdi_5.5%  hdi_94.5%  mcse_mean  mcse_sd  ess_mean  \\\n",
       "alpha[0]  0.880  0.016     0.854      0.906      0.000    0.000    3926.0   \n",
       "alpha[1]  1.050  0.010     1.034      1.066      0.000    0.000    1100.0   \n",
       "beta     -0.046  0.046    -0.120      0.023      0.001    0.001    1740.0   \n",
       "sigma     0.114  0.006     0.104      0.124      0.000    0.000    1268.0   \n",
       "\n",
       "          ess_sd  ess_bulk  ess_tail  r_hat  \n",
       "alpha[0]  3926.0    3910.0    2248.0    1.0  \n",
       "alpha[1]  1098.0    1107.0    1246.0    1.0  \n",
       "beta      1451.0    1728.0    1398.0    1.0  \n",
       "sigma     1268.0    1258.0    1743.0    1.0  "
      ]
     },
     "execution_count": 28,
     "metadata": {},
     "output_type": "execute_result"
    }
   ],
   "source": [
    "az.summary(trace_8_2, hdi_prob=0.89)"
   ]
  },
  {
   "cell_type": "markdown",
   "metadata": {},
   "source": [
    "##### Code 8.11"
   ]
  },
  {
   "cell_type": "code",
   "execution_count": 29,
   "metadata": {},
   "outputs": [],
   "source": [
    "diff_a = trace_8_2.posterior[\"alpha\"][:,:, 0] - trace_8_2.posterior[\"alpha\"][:,:, 1]"
   ]
  },
  {
   "cell_type": "code",
   "execution_count": 30,
   "metadata": {},
   "outputs": [
    {
     "data": {
      "text/html": [
       "<div>\n",
       "<style scoped>\n",
       "    .dataframe tbody tr th:only-of-type {\n",
       "        vertical-align: middle;\n",
       "    }\n",
       "\n",
       "    .dataframe tbody tr th {\n",
       "        vertical-align: top;\n",
       "    }\n",
       "\n",
       "    .dataframe thead th {\n",
       "        text-align: right;\n",
       "    }\n",
       "</style>\n",
       "<table border=\"1\" class=\"dataframe\">\n",
       "  <thead>\n",
       "    <tr style=\"text-align: right;\">\n",
       "      <th></th>\n",
       "      <th>mean</th>\n",
       "      <th>sd</th>\n",
       "      <th>hdi_5.5%</th>\n",
       "      <th>hdi_94.5%</th>\n",
       "      <th>mcse_mean</th>\n",
       "      <th>mcse_sd</th>\n",
       "      <th>ess_mean</th>\n",
       "      <th>ess_sd</th>\n",
       "      <th>ess_bulk</th>\n",
       "      <th>ess_tail</th>\n",
       "      <th>r_hat</th>\n",
       "    </tr>\n",
       "  </thead>\n",
       "  <tbody>\n",
       "    <tr>\n",
       "      <th>alpha[0]</th>\n",
       "      <td>0.880</td>\n",
       "      <td>0.016</td>\n",
       "      <td>0.854</td>\n",
       "      <td>0.906</td>\n",
       "      <td>0.000</td>\n",
       "      <td>0.000</td>\n",
       "      <td>3926.0</td>\n",
       "      <td>3926.0</td>\n",
       "      <td>3910.0</td>\n",
       "      <td>2248.0</td>\n",
       "      <td>1.0</td>\n",
       "    </tr>\n",
       "    <tr>\n",
       "      <th>alpha[1]</th>\n",
       "      <td>1.050</td>\n",
       "      <td>0.010</td>\n",
       "      <td>1.034</td>\n",
       "      <td>1.066</td>\n",
       "      <td>0.000</td>\n",
       "      <td>0.000</td>\n",
       "      <td>1100.0</td>\n",
       "      <td>1098.0</td>\n",
       "      <td>1107.0</td>\n",
       "      <td>1246.0</td>\n",
       "      <td>1.0</td>\n",
       "    </tr>\n",
       "    <tr>\n",
       "      <th>beta</th>\n",
       "      <td>-0.046</td>\n",
       "      <td>0.046</td>\n",
       "      <td>-0.120</td>\n",
       "      <td>0.023</td>\n",
       "      <td>0.001</td>\n",
       "      <td>0.001</td>\n",
       "      <td>1740.0</td>\n",
       "      <td>1451.0</td>\n",
       "      <td>1728.0</td>\n",
       "      <td>1398.0</td>\n",
       "      <td>1.0</td>\n",
       "    </tr>\n",
       "    <tr>\n",
       "      <th>sigma</th>\n",
       "      <td>0.114</td>\n",
       "      <td>0.006</td>\n",
       "      <td>0.104</td>\n",
       "      <td>0.124</td>\n",
       "      <td>0.000</td>\n",
       "      <td>0.000</td>\n",
       "      <td>1268.0</td>\n",
       "      <td>1268.0</td>\n",
       "      <td>1258.0</td>\n",
       "      <td>1743.0</td>\n",
       "      <td>1.0</td>\n",
       "    </tr>\n",
       "    <tr>\n",
       "      <th>diff_a</th>\n",
       "      <td>-0.169</td>\n",
       "      <td>0.019</td>\n",
       "      <td>-0.200</td>\n",
       "      <td>-0.139</td>\n",
       "      <td>0.000</td>\n",
       "      <td>0.000</td>\n",
       "      <td>2294.0</td>\n",
       "      <td>2279.0</td>\n",
       "      <td>2284.0</td>\n",
       "      <td>2236.0</td>\n",
       "      <td>1.0</td>\n",
       "    </tr>\n",
       "  </tbody>\n",
       "</table>\n",
       "</div>"
      ],
      "text/plain": [
       "           mean     sd  hdi_5.5%  hdi_94.5%  mcse_mean  mcse_sd  ess_mean  \\\n",
       "alpha[0]  0.880  0.016     0.854      0.906      0.000    0.000    3926.0   \n",
       "alpha[1]  1.050  0.010     1.034      1.066      0.000    0.000    1100.0   \n",
       "beta     -0.046  0.046    -0.120      0.023      0.001    0.001    1740.0   \n",
       "sigma     0.114  0.006     0.104      0.124      0.000    0.000    1268.0   \n",
       "diff_a   -0.169  0.019    -0.200     -0.139      0.000    0.000    2294.0   \n",
       "\n",
       "          ess_sd  ess_bulk  ess_tail  r_hat  \n",
       "alpha[0]  3926.0    3910.0    2248.0    1.0  \n",
       "alpha[1]  1098.0    1107.0    1246.0    1.0  \n",
       "beta      1451.0    1728.0    1398.0    1.0  \n",
       "sigma     1268.0    1258.0    1743.0    1.0  \n",
       "diff_a    2279.0    2284.0    2236.0    1.0  "
      ]
     },
     "execution_count": 30,
     "metadata": {},
     "output_type": "execute_result"
    }
   ],
   "source": [
    "trace_8_2.posterior[\"diff_a\"] = diff_a\n",
    "\n",
    "az.summary(trace_8_2, hdi_prob=0.89)"
   ]
  },
  {
   "cell_type": "markdown",
   "metadata": {},
   "source": [
    "##### Code 8.12"
   ]
  },
  {
   "cell_type": "code",
   "execution_count": 31,
   "metadata": {},
   "outputs": [],
   "source": [
    "rugged_seq = np.linspace(start=-1, stop=1.1, num=30)\n",
    "\n",
    "sample_alpha = posterior_8_2[\"alpha\"][0]\n",
    "sample_beta  = posterior_8_2[\"beta\"][0]\n",
    "sample_sigma = posterior_8_2[\"sigma\"][0]\n",
    "\n",
    "# compute mu over samples, fixing cid=1\n",
    "jdc_8_2_test_cid_1 = model_8_2(np.repeat(1,30), rugged_std=rugged_seq)\n",
    "\n",
    "ds, samples = jdc_8_2_test_cid_1.sample_distributions(value=[\n",
    "    sample_alpha,\n",
    "    sample_beta, \n",
    "    sample_sigma,\n",
    "    None\n",
    "])\n",
    "\n",
    "mu_NotAfrica = tf.squeeze(ds[-1].distribution.loc)\n",
    "mu_NotAfrica_mu = tf.reduce_mean(mu_NotAfrica, 0)\n",
    "mu_NotAfrica_ci = tfp.stats.percentile(mu_NotAfrica, q=(1.5, 98.5), axis=0)\n",
    "\n",
    "# compute mu over samples, fixing cid=0\n",
    "jdc_8_2_test_cid_0 = model_8_2(np.repeat(0,30), rugged_std=rugged_seq)\n",
    "\n",
    "ds, samples = jdc_8_2_test_cid_0.sample_distributions(value=[\n",
    "    sample_alpha, \n",
    "    sample_beta, \n",
    "    sample_sigma,\n",
    "    None\n",
    "])\n",
    "\n",
    "mu_Africa = tf.squeeze(ds[-1].distribution.loc)\n",
    "mu_Africa_mu = tf.reduce_mean(mu_Africa, 0)\n",
    "mu_Africa_ci = tfp.stats.percentile(mu_Africa, q=(1.5, 98.5), axis=0)"
   ]
  },
  {
   "cell_type": "code",
   "execution_count": 32,
   "metadata": {},
   "outputs": [
    {
     "data": {
      "image/png": "[encoded data removed]",
      "text/plain": [
       "<Figure size 432x288 with 1 Axes>"
      ]
     },
     "metadata": {
      "needs_background": "light"
     },
     "output_type": "display_data"
    }
   ],
   "source": [
    "# draw figure 8.4 in the book [note - no code was provided for it in the book]\n",
    "\n",
    "plt.xlim(0.0, 1.0)\n",
    "plt.scatter(dd.rugged_std, dd.log_gdp_std, \n",
    "            edgecolors=[\"none\" if i == 0 else \"b\" for i in dd[\"cid\"]],\n",
    "            facecolors=[\"none\" if i == 1 else \"b\" for i in dd[\"cid\"]])\n",
    "\n",
    "# draw MAP line\n",
    "plt.plot(rugged_seq, mu_Africa_mu, \"b\", label=\"Africa\")\n",
    "plt.fill_between(rugged_seq, mu_Africa_ci[0], mu_Africa_ci[1], color=\"b\", alpha=0.2)\n",
    "\n",
    "plt.plot(rugged_seq, mu_NotAfrica_mu, \"k\", label=\"Not Africa\")\n",
    "plt.fill_between(rugged_seq, mu_NotAfrica_ci[0], mu_NotAfrica_ci[1], color=\"k\", alpha=0.2)\n",
    "\n",
    "plt.legend();"
   ]
  },
  {
   "cell_type": "markdown",
   "metadata": {},
   "source": [
    "##### Code 8.13"
   ]
  },
  {
   "cell_type": "code",
   "execution_count": 33,
   "metadata": {},
   "outputs": [],
   "source": [
    "def model_8_3(cid, rugged_std):\n",
    "    def _generator():\n",
    "        alpha = yield Root(tfd.Sample(tfd.Normal(loc=1., scale=0.1, name='alpha'), sample_shape=2))\n",
    "        beta = yield Root(tfd.Sample(tfd.Normal(loc=0., scale=0.3, name='beta'), sample_shape=2))\n",
    "        sigma = yield Root(tfd.Sample(tfd.Exponential(rate=1., name='sigma'), sample_shape=1))\n",
    "        \n",
    "        mu = tf.gather(alpha, cid, axis=-1) + tf.gather(beta, cid, axis=-1) * (rugged_std - 0.215)\n",
    "        scale = sigma[...,tf.newaxis]\n",
    "        \n",
    "        log_gdp_std = yield tfd.Independent(\n",
    "            tfd.Normal(loc=mu, scale=scale), reinterpreted_batch_ndims=1)\n",
    "        \n",
    "    return tfd.JointDistributionCoroutine(_generator, validate_args=False)  \n",
    "\n",
    "\n",
    "jdc_8_3 = model_8_3(tdf.cid, rugged_std=tdf.rugged_std)"
   ]
  },
  {
   "cell_type": "code",
   "execution_count": 34,
   "metadata": {},
   "outputs": [
    {
     "name": "stdout",
     "output_type": "stream",
     "text": [
      "{'mean_tree_accept': <tf.Tensor: shape=(2000, 2), dtype=float32, numpy=\n",
      "array([[ 0.75717163,  0.46572876],\n",
      "       [ 0.2668152 , -0.4754181 ],\n",
      "       [-0.27236938, -6.905388  ],\n",
      "       ...,\n",
      "       [-0.69207764,  0.11453247],\n",
      "       [-4.809334  ,  0.07795715],\n",
      "       [-0.15864563,  0.05259705]], dtype=float32)>}\n"
     ]
    }
   ],
   "source": [
    "init_state = [\n",
    "    tf.ones([MCMC_NUMBER_OF_CHAINS, 2]),\n",
    "    tf.zeros([MCMC_NUMBER_OF_CHAINS, 2]),\n",
    "    tf.ones([MCMC_NUMBER_OF_CHAINS]),\n",
    "]\n",
    "\n",
    "init_config = dict(\n",
    "    alpha  = dict(state=init_state[0], bijector=tfb.Identity()),\n",
    "    beta   = dict(state=init_state[1], bijector=tfb.Identity()),\n",
    "    sigma  = dict(state=init_state[2], bijector=tfb.Exp())\n",
    ")\n",
    "\n",
    "\n",
    "posterior_8_3, trace_8_3 = sample_posterior(\n",
    "                                jdc_8_3, \n",
    "                                init_config=init_config,\n",
    "                                observed_data=(tdf.log_gdp_std,))"
   ]
  },
  {
   "cell_type": "markdown",
   "metadata": {},
   "source": [
    "##### Code 8.14"
   ]
  },
  {
   "cell_type": "code",
   "execution_count": 35,
   "metadata": {},
   "outputs": [
    {
     "data": {
      "text/html": [
       "<div>\n",
       "<style scoped>\n",
       "    .dataframe tbody tr th:only-of-type {\n",
       "        vertical-align: middle;\n",
       "    }\n",
       "\n",
       "    .dataframe tbody tr th {\n",
       "        vertical-align: top;\n",
       "    }\n",
       "\n",
       "    .dataframe thead th {\n",
       "        text-align: right;\n",
       "    }\n",
       "</style>\n",
       "<table border=\"1\" class=\"dataframe\">\n",
       "  <thead>\n",
       "    <tr style=\"text-align: right;\">\n",
       "      <th></th>\n",
       "      <th>mean</th>\n",
       "      <th>sd</th>\n",
       "      <th>hdi_5.5%</th>\n",
       "      <th>hdi_94.5%</th>\n",
       "      <th>mcse_mean</th>\n",
       "      <th>mcse_sd</th>\n",
       "      <th>ess_mean</th>\n",
       "      <th>ess_sd</th>\n",
       "      <th>ess_bulk</th>\n",
       "      <th>ess_tail</th>\n",
       "      <th>r_hat</th>\n",
       "    </tr>\n",
       "  </thead>\n",
       "  <tbody>\n",
       "    <tr>\n",
       "      <th>alpha[0]</th>\n",
       "      <td>0.887</td>\n",
       "      <td>0.016</td>\n",
       "      <td>0.863</td>\n",
       "      <td>0.914</td>\n",
       "      <td>0.000</td>\n",
       "      <td>0.000</td>\n",
       "      <td>1979.0</td>\n",
       "      <td>1979.0</td>\n",
       "      <td>1993.0</td>\n",
       "      <td>1992.0</td>\n",
       "      <td>1.00</td>\n",
       "    </tr>\n",
       "    <tr>\n",
       "      <th>alpha[1]</th>\n",
       "      <td>1.051</td>\n",
       "      <td>0.010</td>\n",
       "      <td>1.034</td>\n",
       "      <td>1.067</td>\n",
       "      <td>0.000</td>\n",
       "      <td>0.000</td>\n",
       "      <td>2370.0</td>\n",
       "      <td>2364.0</td>\n",
       "      <td>2377.0</td>\n",
       "      <td>1742.0</td>\n",
       "      <td>1.00</td>\n",
       "    </tr>\n",
       "    <tr>\n",
       "      <th>beta[0]</th>\n",
       "      <td>0.134</td>\n",
       "      <td>0.072</td>\n",
       "      <td>0.019</td>\n",
       "      <td>0.248</td>\n",
       "      <td>0.003</td>\n",
       "      <td>0.002</td>\n",
       "      <td>593.0</td>\n",
       "      <td>593.0</td>\n",
       "      <td>596.0</td>\n",
       "      <td>987.0</td>\n",
       "      <td>1.01</td>\n",
       "    </tr>\n",
       "    <tr>\n",
       "      <th>beta[1]</th>\n",
       "      <td>-0.145</td>\n",
       "      <td>0.054</td>\n",
       "      <td>-0.225</td>\n",
       "      <td>-0.055</td>\n",
       "      <td>0.002</td>\n",
       "      <td>0.001</td>\n",
       "      <td>1205.0</td>\n",
       "      <td>1204.0</td>\n",
       "      <td>1209.0</td>\n",
       "      <td>1633.0</td>\n",
       "      <td>1.00</td>\n",
       "    </tr>\n",
       "    <tr>\n",
       "      <th>sigma</th>\n",
       "      <td>0.111</td>\n",
       "      <td>0.006</td>\n",
       "      <td>0.101</td>\n",
       "      <td>0.120</td>\n",
       "      <td>0.000</td>\n",
       "      <td>0.000</td>\n",
       "      <td>1012.0</td>\n",
       "      <td>1008.0</td>\n",
       "      <td>1027.0</td>\n",
       "      <td>1498.0</td>\n",
       "      <td>1.00</td>\n",
       "    </tr>\n",
       "  </tbody>\n",
       "</table>\n",
       "</div>"
      ],
      "text/plain": [
       "           mean     sd  hdi_5.5%  hdi_94.5%  mcse_mean  mcse_sd  ess_mean  \\\n",
       "alpha[0]  0.887  0.016     0.863      0.914      0.000    0.000    1979.0   \n",
       "alpha[1]  1.051  0.010     1.034      1.067      0.000    0.000    2370.0   \n",
       "beta[0]   0.134  0.072     0.019      0.248      0.003    0.002     593.0   \n",
       "beta[1]  -0.145  0.054    -0.225     -0.055      0.002    0.001    1205.0   \n",
       "sigma     0.111  0.006     0.101      0.120      0.000    0.000    1012.0   \n",
       "\n",
       "          ess_sd  ess_bulk  ess_tail  r_hat  \n",
       "alpha[0]  1979.0    1993.0    1992.0   1.00  \n",
       "alpha[1]  2364.0    2377.0    1742.0   1.00  \n",
       "beta[0]    593.0     596.0     987.0   1.01  \n",
       "beta[1]   1204.0    1209.0    1633.0   1.00  \n",
       "sigma     1008.0    1027.0    1498.0   1.00  "
      ]
     },
     "execution_count": 35,
     "metadata": {},
     "output_type": "execute_result"
    }
   ],
   "source": [
    "az.summary(trace_8_3, hdi_prob=0.89)"
   ]
  },
  {
   "cell_type": "markdown",
   "metadata": {},
   "source": [
    "##### Code 8.15"
   ]
  },
  {
   "cell_type": "code",
   "execution_count": 36,
   "metadata": {},
   "outputs": [],
   "source": [
    "# We need to first compute the log likelihoods so as to be able to compare them\n",
    "def compute_and_store_log_likelihood_for_model_8_3():\n",
    "    \n",
    "    sample_alpha = posterior_8_3[\"alpha\"]\n",
    "    sample_beta  = posterior_8_3[\"beta\"]\n",
    "    sample_sigma = posterior_8_3[\"sigma\"]\n",
    "    \n",
    "    ds, _ = jdc_8_3.sample_distributions(value=[\n",
    "        sample_alpha, \n",
    "        sample_beta, \n",
    "        sample_sigma,\n",
    "        None\n",
    "    ])\n",
    "    \n",
    "    log_likelihood_8_3 = ds[-1].distribution.log_prob(tdf.log_gdp_std).numpy()    \n",
    "    \n",
    "    # we need to insert this in the sampler_stats\n",
    "    sample_stats_8_3 = trace_8_3.sample_stats\n",
    "    \n",
    "    coords = [sample_stats_8_3.coords['chain'], sample_stats_8_3.coords['draw'], np.arange(170)]\n",
    "\n",
    "    sample_stats_8_3[\"log_likelihood\"] = xr.DataArray(\n",
    "        log_likelihood_8_3, \n",
    "        coords=coords,  \n",
    "        dims=['chain', 'draw', 'log_likelihood_dim_0'])\n",
    "    \n",
    "compute_and_store_log_likelihood_for_model_8_3()"
   ]
  },
  {
   "cell_type": "code",
   "execution_count": 37,
   "metadata": {},
   "outputs": [
    {
     "data": {
      "text/html": [
       "<div>\n",
       "<style scoped>\n",
       "    .dataframe tbody tr th:only-of-type {\n",
       "        vertical-align: middle;\n",
       "    }\n",
       "\n",
       "    .dataframe tbody tr th {\n",
       "        vertical-align: top;\n",
       "    }\n",
       "\n",
       "    .dataframe thead th {\n",
       "        text-align: right;\n",
       "    }\n",
       "</style>\n",
       "<table border=\"1\" class=\"dataframe\">\n",
       "  <thead>\n",
       "    <tr style=\"text-align: right;\">\n",
       "      <th></th>\n",
       "      <th>rank</th>\n",
       "      <th>loo</th>\n",
       "      <th>p_loo</th>\n",
       "      <th>d_loo</th>\n",
       "      <th>weight</th>\n",
       "      <th>se</th>\n",
       "      <th>dse</th>\n",
       "      <th>warning</th>\n",
       "      <th>loo_scale</th>\n",
       "    </tr>\n",
       "  </thead>\n",
       "  <tbody>\n",
       "    <tr>\n",
       "      <th>m8.3</th>\n",
       "      <td>0</td>\n",
       "      <td>-259.433</td>\n",
       "      <td>4.87856</td>\n",
       "      <td>0</td>\n",
       "      <td>0.839426</td>\n",
       "      <td>12.8266</td>\n",
       "      <td>0</td>\n",
       "      <td>False</td>\n",
       "      <td>deviance</td>\n",
       "    </tr>\n",
       "    <tr>\n",
       "      <th>m8.2</th>\n",
       "      <td>1</td>\n",
       "      <td>-252.462</td>\n",
       "      <td>4.05779</td>\n",
       "      <td>6.9707</td>\n",
       "      <td>0.160574</td>\n",
       "      <td>14.7435</td>\n",
       "      <td>6.59323</td>\n",
       "      <td>False</td>\n",
       "      <td>deviance</td>\n",
       "    </tr>\n",
       "    <tr>\n",
       "      <th>m8.1</th>\n",
       "      <td>2</td>\n",
       "      <td>-188.895</td>\n",
       "      <td>2.56039</td>\n",
       "      <td>70.5385</td>\n",
       "      <td>3.78738e-07</td>\n",
       "      <td>14.8209</td>\n",
       "      <td>14.9713</td>\n",
       "      <td>False</td>\n",
       "      <td>deviance</td>\n",
       "    </tr>\n",
       "  </tbody>\n",
       "</table>\n",
       "</div>"
      ],
      "text/plain": [
       "     rank      loo    p_loo    d_loo       weight       se      dse warning  \\\n",
       "m8.3    0 -259.433  4.87856        0     0.839426  12.8266        0   False   \n",
       "m8.2    1 -252.462  4.05779   6.9707     0.160574  14.7435  6.59323   False   \n",
       "m8.1    2 -188.895  2.56039  70.5385  3.78738e-07  14.8209  14.9713   False   \n",
       "\n",
       "     loo_scale  \n",
       "m8.3  deviance  \n",
       "m8.2  deviance  \n",
       "m8.1  deviance  "
      ]
     },
     "execution_count": 37,
     "metadata": {},
     "output_type": "execute_result"
    }
   ],
   "source": [
    "az.compare({\"m8.1\": trace_8_1,\n",
    "            \"m8.2\": trace_8_2,\n",
    "            \"m8.3\": trace_8_3}, scale='deviance')"
   ]
  },
  {
   "cell_type": "markdown",
   "metadata": {},
   "source": [
    "##### Code 8.16"
   ]
  },
  {
   "cell_type": "code",
   "execution_count": 38,
   "metadata": {},
   "outputs": [
    {
     "name": "stderr",
     "output_type": "stream",
     "text": [
      "/Users/ksachdeva/Desktop/Dev/myoss/rethinking-tfp-interim/env/lib/python3.7/site-packages/arviz/stats/stats.py:1415: UserWarning: For one or more samples the posterior variance of the log predictive densities exceeds 0.4. This could be indication of WAIC starting to fail. \n",
      "See http://arxiv.org/abs/1507.04544 for details\n",
      "  \"For one or more samples the posterior variance of the log predictive \"\n"
     ]
    },
    {
     "data": {
      "text/plain": [
       "Computed from 4000 by 170 log-likelihood matrix\n",
       "\n",
       "          Estimate       SE\n",
       "elpd_waic   129.76     7.32\n",
       "p_waic        4.83        -\n",
       "\n",
       "There has been a warning during the calculation. Please check the results.\n",
       "\n",
       "The scale is now log by default. Use 'scale' argument or 'stats.ic_scale' rcParam if\n",
       "you rely on a specific value.\n",
       "A higher log-score (or a lower deviance) indicates a model with better predictive\n",
       "accuracy."
      ]
     },
     "execution_count": 38,
     "metadata": {},
     "output_type": "execute_result"
    }
   ],
   "source": [
    "az.waic(trace_8_3, pointwise=True)"
   ]
  },
  {
   "cell_type": "markdown",
   "metadata": {},
   "source": [
    "### 8.1.4 Plotting the interaction"
   ]
  },
  {
   "cell_type": "markdown",
   "metadata": {},
   "source": [
    "##### Code 8.17"
   ]
  },
  {
   "cell_type": "code",
   "execution_count": 39,
   "metadata": {},
   "outputs": [],
   "source": [
    "rugged_seq = np.linspace(start=-1, stop=1.1, num=30)\n",
    "\n",
    "sample_alpha = posterior_8_3[\"alpha\"][0]\n",
    "sample_beta  = posterior_8_3[\"beta\"][0]\n",
    "sample_sigma = posterior_8_3[\"sigma\"][0]\n",
    "\n",
    "# compute mu over samples, fixing cid=1\n",
    "jdc_8_3_test_cid_1 = model_8_3(np.repeat(1,30), rugged_std=rugged_seq)\n",
    "\n",
    "ds, samples = jdc_8_3_test_cid_1.sample_distributions(value=[\n",
    "    sample_alpha, \n",
    "    sample_beta, \n",
    "    sample_sigma,\n",
    "    None\n",
    "])\n",
    "\n",
    "mu_NotAfrica = tf.squeeze(ds[-1].distribution.loc)\n",
    "mu_NotAfrica_mu = tf.reduce_mean(mu_NotAfrica, 0)\n",
    "mu_NotAfrica_ci = tfp.stats.percentile(mu_NotAfrica, q=(1.5, 98.5), axis=0)\n",
    "\n",
    "# compute mu over samples, fixing cid=0\n",
    "jdc_8_3_test_cid_0 = model_8_3(np.repeat(0,30), rugged_std=rugged_seq)\n",
    "\n",
    "ds, samples = jdc_8_3_test_cid_0.sample_distributions(value=[\n",
    "                sample_alpha, \n",
    "                sample_beta, \n",
    "                sample_sigma, \n",
    "                None\n",
    "])\n",
    "\n",
    "mu_Africa = tf.squeeze(ds[-1].distribution.loc)\n",
    "mu_Africa_mu = tf.reduce_mean(mu_Africa, 0)\n",
    "mu_Africa_ci = tfp.stats.percentile(mu_Africa, q=(1.5, 98.5), axis=0)\n"
   ]
  },
  {
   "cell_type": "code",
   "execution_count": 40,
   "metadata": {},
   "outputs": [
    {
     "data": {
      "image/png": "[encoded data removed]",
      "text/plain": [
       "<Figure size 432x288 with 1 Axes>"
      ]
     },
     "metadata": {
      "needs_background": "light"
     },
     "output_type": "display_data"
    }
   ],
   "source": [
    "az.plot_pair(d_A1[[\"rugged_std\", \"log_gdp_std\"]].to_dict(orient=\"list\"))\n",
    "plt.gca().set(xlim=(-0.01, 1.01), xlabel=\"ruggedness (standardized)\",\n",
    "              ylabel=\"log GDP (as proportion of mean)\")\n",
    "\n",
    "plt.plot(rugged_seq, mu_Africa_mu, \"k\")\n",
    "plt.fill_between(rugged_seq, mu_Africa_ci[0], mu_Africa_ci[1], color=\"b\", alpha=0.2)\n",
    "plt.title(\"African nations\")\n",
    "plt.show()"
   ]
  },
  {
   "cell_type": "code",
   "execution_count": 41,
   "metadata": {},
   "outputs": [
    {
     "data": {
      "image/png": "[encoded data removed]",
      "text/plain": [
       "<Figure size 432x288 with 1 Axes>"
      ]
     },
     "metadata": {
      "needs_background": "light"
     },
     "output_type": "display_data"
    }
   ],
   "source": [
    "az.plot_pair(d_A1[[\"rugged_std\", \"log_gdp_std\"]].to_dict(orient=\"list\"))\n",
    "plt.gca().set(xlim=(-0.01, 1.01), xlabel=\"ruggedness (standardized)\",\n",
    "              ylim=(0.8,1.3),\n",
    "              ylabel=\"log GDP (as proportion of mean)\")\n",
    "\n",
    "plt.plot(rugged_seq, mu_NotAfrica_mu, \"k\")\n",
    "plt.fill_between(rugged_seq, mu_NotAfrica_ci[0], mu_NotAfrica_ci[1], color=\"k\", alpha=0.2)\n",
    "plt.title(\"Non-African nations\")\n",
    "plt.show()"
   ]
  },
  {
   "cell_type": "markdown",
   "metadata": {},
   "source": [
    "## 8.2 Symmetry of interactions"
   ]
  },
  {
   "cell_type": "markdown",
   "metadata": {},
   "source": [
    "##### Code 8.18"
   ]
  },
  {
   "cell_type": "code",
   "execution_count": 42,
   "metadata": {},
   "outputs": [],
   "source": [
    "# TODO - draw corresponding graph (Figure 8.6)\n",
    "\n",
    "rugged_seq = np.linspace(start=-0.2, stop=1.2, num=30)\n",
    "delta = mu_Africa_mu - mu_NotAfrica_mu"
   ]
  },
  {
   "cell_type": "markdown",
   "metadata": {},
   "source": [
    "## 8.3 Continuous interactions"
   ]
  },
  {
   "cell_type": "markdown",
   "metadata": {},
   "source": [
    "### 8.3.1 A winter flower"
   ]
  },
  {
   "cell_type": "markdown",
   "metadata": {},
   "source": [
    "##### Code 8.19"
   ]
  },
  {
   "cell_type": "code",
   "execution_count": 43,
   "metadata": {},
   "outputs": [
    {
     "name": "stdout",
     "output_type": "stream",
     "text": [
      "<class 'pandas.core.frame.DataFrame'>\n",
      "RangeIndex: 27 entries, 0 to 26\n",
      "Data columns (total 4 columns):\n",
      " #   Column  Non-Null Count  Dtype  \n",
      "---  ------  --------------  -----  \n",
      " 0   bed     27 non-null     object \n",
      " 1   water   27 non-null     int64  \n",
      " 2   shade   27 non-null     int64  \n",
      " 3   blooms  27 non-null     float64\n",
      "dtypes: float64(1), int64(2), object(1)\n",
      "memory usage: 992.0+ bytes\n"
     ]
    },
    {
     "data": {
      "text/html": [
       "<div>\n",
       "<style scoped>\n",
       "    .dataframe tbody tr th:only-of-type {\n",
       "        vertical-align: middle;\n",
       "    }\n",
       "\n",
       "    .dataframe tbody tr th {\n",
       "        vertical-align: top;\n",
       "    }\n",
       "\n",
       "    .dataframe thead th {\n",
       "        text-align: right;\n",
       "    }\n",
       "</style>\n",
       "<table border=\"1\" class=\"dataframe\">\n",
       "  <thead>\n",
       "    <tr style=\"text-align: right;\">\n",
       "      <th></th>\n",
       "      <th>bed</th>\n",
       "      <th>water</th>\n",
       "      <th>shade</th>\n",
       "      <th>blooms</th>\n",
       "    </tr>\n",
       "  </thead>\n",
       "  <tbody>\n",
       "    <tr>\n",
       "      <th>0</th>\n",
       "      <td>a</td>\n",
       "      <td>1</td>\n",
       "      <td>1</td>\n",
       "      <td>0.00</td>\n",
       "    </tr>\n",
       "    <tr>\n",
       "      <th>1</th>\n",
       "      <td>a</td>\n",
       "      <td>1</td>\n",
       "      <td>2</td>\n",
       "      <td>0.00</td>\n",
       "    </tr>\n",
       "    <tr>\n",
       "      <th>2</th>\n",
       "      <td>a</td>\n",
       "      <td>1</td>\n",
       "      <td>3</td>\n",
       "      <td>111.04</td>\n",
       "    </tr>\n",
       "    <tr>\n",
       "      <th>3</th>\n",
       "      <td>a</td>\n",
       "      <td>2</td>\n",
       "      <td>1</td>\n",
       "      <td>183.47</td>\n",
       "    </tr>\n",
       "    <tr>\n",
       "      <th>4</th>\n",
       "      <td>a</td>\n",
       "      <td>2</td>\n",
       "      <td>2</td>\n",
       "      <td>59.16</td>\n",
       "    </tr>\n",
       "  </tbody>\n",
       "</table>\n",
       "</div>"
      ],
      "text/plain": [
       "  bed  water  shade  blooms\n",
       "0   a      1      1    0.00\n",
       "1   a      1      2    0.00\n",
       "2   a      1      3  111.04\n",
       "3   a      2      1  183.47\n",
       "4   a      2      2   59.16"
      ]
     },
     "execution_count": 43,
     "metadata": {},
     "output_type": "execute_result"
    }
   ],
   "source": [
    "d = pd.read_csv(TULIPS_DATASET_PATH, sep=\";\")\n",
    "d.info()\n",
    "d.head()"
   ]
  },
  {
   "cell_type": "markdown",
   "metadata": {},
   "source": [
    "##### Code 8.20"
   ]
  },
  {
   "cell_type": "code",
   "execution_count": 44,
   "metadata": {},
   "outputs": [],
   "source": [
    "d[\"blooms_std\"] = d.blooms / d.blooms.max()\n",
    "d[\"water_cent\"] = d.water - d.water.mean()\n",
    "d[\"shade_cent\"] = d.shade - d.shade.mean()"
   ]
  },
  {
   "cell_type": "markdown",
   "metadata": {},
   "source": [
    "##### Code 8.21"
   ]
  },
  {
   "cell_type": "code",
   "execution_count": 45,
   "metadata": {},
   "outputs": [
    {
     "data": {
      "text/plain": [
       "0.6232"
      ]
     },
     "execution_count": 45,
     "metadata": {},
     "output_type": "execute_result"
    }
   ],
   "source": [
    "a = tfd.Normal(loc=0.5, scale=1.).sample((int(1e4),))\n",
    "np.sum((a < 0) | (a > 1)) / a.shape[0]"
   ]
  },
  {
   "cell_type": "markdown",
   "metadata": {},
   "source": [
    "##### Code 8.22"
   ]
  },
  {
   "cell_type": "code",
   "execution_count": 46,
   "metadata": {},
   "outputs": [
    {
     "data": {
      "text/plain": [
       "0.0465"
      ]
     },
     "execution_count": 46,
     "metadata": {},
     "output_type": "execute_result"
    }
   ],
   "source": [
    "a = tfd.Normal(loc=0.5, scale=0.25).sample((int(1e4),))\n",
    "np.sum((a < 0) | (a > 1)) / a.shape[0]"
   ]
  },
  {
   "cell_type": "markdown",
   "metadata": {},
   "source": [
    "##### Code 8.23"
   ]
  },
  {
   "cell_type": "code",
   "execution_count": 47,
   "metadata": {},
   "outputs": [],
   "source": [
    "tdf = df_to_tensors(\"Tulip\", d, ['blooms_std', 'water_cent', 'shade_cent'])"
   ]
  },
  {
   "cell_type": "code",
   "execution_count": 48,
   "metadata": {},
   "outputs": [],
   "source": [
    "def model_8_4(water_cent, shade_cent,):\n",
    "    def _generator():\n",
    "        alpha = yield Root(tfd.Sample(tfd.Normal(loc=0.5, scale=0.25, name='alpha'), sample_shape=1))\n",
    "        betaW = yield Root(tfd.Sample(tfd.Normal(loc=0., scale=0.25, name='betaW'), sample_shape=1))\n",
    "        betaS = yield Root(tfd.Sample(tfd.Normal(loc=0., scale=0.25, name='betaS'), sample_shape=1))\n",
    "        sigma = yield Root(tfd.Sample(tfd.Exponential(rate=1., name='sigma'), sample_shape=1))\n",
    "        \n",
    "        mu = alpha[...,tf.newaxis] + betaW[...,tf.newaxis] * water_cent + betaS[...,tf.newaxis] * shade_cent\n",
    "        scale = sigma[...,tf.newaxis]\n",
    "        \n",
    "        log_gdp_std = yield tfd.Independent(\n",
    "            tfd.Normal(loc=mu, scale=scale), reinterpreted_batch_ndims=1)\n",
    "        \n",
    "    return tfd.JointDistributionCoroutine(_generator, validate_args=False)  \n",
    "\n",
    "\n",
    "jdc_8_4 = model_8_4(shade_cent=tdf.shade_cent, \n",
    "                    water_cent=tdf.water_cent)"
   ]
  },
  {
   "cell_type": "code",
   "execution_count": 49,
   "metadata": {},
   "outputs": [
    {
     "name": "stdout",
     "output_type": "stream",
     "text": [
      "{'mean_tree_accept': <tf.Tensor: shape=(2000, 2), dtype=float32, numpy=\n",
      "array([[ 0.09107447, -0.41976643],\n",
      "       [ 1.7180004 ,  0.08913326],\n",
      "       [ 0.12445259, -0.5944586 ],\n",
      "       ...,\n",
      "       [ 0.39775753,  0.1802206 ],\n",
      "       [-0.46867466, -0.56153584],\n",
      "       [ 1.0802355 , -0.9739461 ]], dtype=float32)>}\n"
     ]
    }
   ],
   "source": [
    "init_state = [\n",
    "    0.5 * tf.ones([MCMC_NUMBER_OF_CHAINS]),\n",
    "    tf.zeros([MCMC_NUMBER_OF_CHAINS]),\n",
    "    tf.zeros([MCMC_NUMBER_OF_CHAINS]),\n",
    "    tf.ones([MCMC_NUMBER_OF_CHAINS]),\n",
    "]\n",
    "\n",
    "init_config = dict(\n",
    "    alpha  = dict(state=init_state[0], bijector=tfb.Identity()),\n",
    "    betaW  = dict(state=init_state[1], bijector=tfb.Identity()),\n",
    "    betaS  = dict(state=init_state[2], bijector=tfb.Identity()),\n",
    "    sigma  = dict(state=init_state[3], bijector=tfb.Exp())\n",
    ")\n",
    "\n",
    "\n",
    "posterior_8_4, trace_8_4 = sample_posterior(\n",
    "                                jdc_8_4, \n",
    "                                init_config=init_config,\n",
    "                                observed_data=(tdf.blooms_std,))"
   ]
  },
  {
   "cell_type": "markdown",
   "metadata": {},
   "source": [
    "##### Code 8.24"
   ]
  },
  {
   "cell_type": "code",
   "execution_count": 50,
   "metadata": {},
   "outputs": [],
   "source": [
    "def model_8_5(water_cent, shade_cent):\n",
    "    def _generator():\n",
    "        alpha  = yield Root(tfd.Sample(tfd.Normal(loc=0.5, scale=0.25, name='alpha'), sample_shape=1))\n",
    "        betaW  = yield Root(tfd.Sample(tfd.Normal(loc=0., scale=0.25, name='betaW'), sample_shape=1))\n",
    "        betaS  = yield Root(tfd.Sample(tfd.Normal(loc=0., scale=0.25, name='betaS'), sample_shape=1))\n",
    "        betaWS = yield Root(tfd.Sample(tfd.Normal(loc=0., scale=0.25, name='betaWS'), sample_shape=1))\n",
    "        sigma  = yield Root(tfd.Sample(tfd.Exponential(rate=1., name='sigma'), sample_shape=1))\n",
    "        \n",
    "        mu = alpha[...,tf.newaxis] + \\\n",
    "                betaW[...,tf.newaxis]  * water_cent + \\\n",
    "                betaS[...,tf.newaxis]  * shade_cent + \\\n",
    "                betaWS[...,tf.newaxis] * shade_cent * water_cent\n",
    "        \n",
    "        scale = sigma[...,tf.newaxis]\n",
    "        \n",
    "        log_gdp_std = yield tfd.Independent(\n",
    "            tfd.Normal(loc=mu, scale=scale), reinterpreted_batch_ndims=1)\n",
    "        \n",
    "    return tfd.JointDistributionCoroutine(_generator, validate_args=False)  \n",
    "\n",
    "jdc_8_5 = model_8_5(shade_cent=tdf.shade_cent, \n",
    "                    water_cent=tdf.water_cent)"
   ]
  },
  {
   "cell_type": "code",
   "execution_count": 51,
   "metadata": {},
   "outputs": [
    {
     "name": "stdout",
     "output_type": "stream",
     "text": [
      "WARNING:tensorflow:5 out of the last 5 calls to <function run_hmc_chain at 0x137d38d40> triggered tf.function retracing. Tracing is expensive and the excessive number of tracings could be due to (1) creating @tf.function repeatedly in a loop, (2) passing tensors with different shapes, (3) passing Python objects instead of tensors. For (1), please define your @tf.function outside of the loop. For (2), @tf.function has experimental_relax_shapes=True option that relaxes argument shapes that can avoid unnecessary retracing. For (3), please refer to https://www.tensorflow.org/tutorials/customization/performance#python_or_tensor_args and https://www.tensorflow.org/api_docs/python/tf/function for  more details.\n",
      "{'mean_tree_accept': <tf.Tensor: shape=(2000, 2), dtype=float32, numpy=\n",
      "array([[-1.5947819 , -1.3553715 ],\n",
      "       [-5.431081  , -0.51894855],\n",
      "       [-0.6542454 , -2.6375809 ],\n",
      "       ...,\n",
      "       [ 0.21466541,  0.6640129 ],\n",
      "       [-0.27668953, -0.61704445],\n",
      "       [-1.4316998 ,  0.16806412]], dtype=float32)>}\n"
     ]
    }
   ],
   "source": [
    "init_state = [\n",
    "    0.5 * tf.ones([MCMC_NUMBER_OF_CHAINS]),\n",
    "    tf.zeros([MCMC_NUMBER_OF_CHAINS]),\n",
    "    tf.zeros([MCMC_NUMBER_OF_CHAINS]),\n",
    "    tf.zeros([MCMC_NUMBER_OF_CHAINS]),\n",
    "    tf.ones([MCMC_NUMBER_OF_CHAINS]),\n",
    "]\n",
    "\n",
    "init_config = dict(\n",
    "    alpha  = dict(state=init_state[0], bijector=tfb.Identity()),\n",
    "    betaW  = dict(state=init_state[1], bijector=tfb.Identity()),\n",
    "    betaS  = dict(state=init_state[2], bijector=tfb.Identity()),\n",
    "    betaWS = dict(state=init_state[3], bijector=tfb.Identity()),\n",
    "    sigma  = dict(state=init_state[4], bijector=tfb.Exp())\n",
    ")\n",
    "\n",
    "\n",
    "posterior_8_5, trace_8_5 = sample_posterior(\n",
    "                                jdc_8_5, \n",
    "                                init_config=init_config,\n",
    "                                observed_data=(tdf.blooms_std,))"
   ]
  },
  {
   "cell_type": "markdown",
   "metadata": {},
   "source": [
    "### 8.3.3 Plotting posterior predictions"
   ]
  },
  {
   "cell_type": "markdown",
   "metadata": {},
   "source": [
    "##### Code 8.25"
   ]
  },
  {
   "cell_type": "code",
   "execution_count": 52,
   "metadata": {},
   "outputs": [
    {
     "data": {
      "image/png": "[encoded data removed]",
      "text/plain": [
       "<Figure size 648x216 with 3 Axes>"
      ]
     },
     "metadata": {
      "needs_background": "light"
     },
     "output_type": "display_data"
    }
   ],
   "source": [
    "sample_alpha  = posterior_8_4['alpha'][0]\n",
    "sample_betaW  = posterior_8_4['betaW'][0]\n",
    "sample_betaS  = posterior_8_4['betaS'][0]    \n",
    "sample_sigma  = posterior_8_4['sigma'][0]\n",
    "\n",
    "_, axes = plt.subplots(1, 3, figsize=(9, 3), sharey=True)  # 3 plots in 1 row\n",
    "for ax, s in zip(axes, range(-1, 2)):\n",
    "    idx = d.shade_cent == s\n",
    "    ax.scatter(d.water_cent[idx], d.blooms_std[idx])\n",
    "    ax.set(xlim=(-1.1, 1.1), ylim=(-0.1, 1.1), xlabel=\"water\", ylabel=\"blooms\")\n",
    "\n",
    "    shade_cent=s\n",
    "    water_cent=np.arange(-1, 2)    \n",
    "    \n",
    "    jdc_8_4_test = model_8_4(water_cent=tf.cast(water_cent, dtype=tf.float32),\n",
    "                             shade_cent=tf.cast(shade_cent, dtype=tf.float32))\n",
    "    \n",
    "    ds, _ = jdc_8_4_test.sample_distributions(value=[\n",
    "        sample_alpha, \n",
    "        sample_betaW, \n",
    "        sample_betaS, \n",
    "        sample_sigma, \n",
    "        None\n",
    "    ])\n",
    "    \n",
    "    mu = tf.squeeze(ds[-1].distribution.loc)    \n",
    "\n",
    "    for i in range(20):\n",
    "        ax.plot(range(-1, 2), mu[i], \"k\", alpha=0.3)"
   ]
  },
  {
   "cell_type": "code",
   "execution_count": 53,
   "metadata": {},
   "outputs": [
    {
     "data": {
      "image/png": "[encoded data removed]",
      "text/plain": [
       "<Figure size 648x216 with 3 Axes>"
      ]
     },
     "metadata": {
      "needs_background": "light"
     },
     "output_type": "display_data"
    }
   ],
   "source": [
    "# Code for plotting model 8.5 is not listed in the book but there are corresponding figures so\n",
    "# draw them here\n",
    "\n",
    "sample_alpha  = posterior_8_5['alpha'][0]\n",
    "sample_betaW  = posterior_8_5['betaW'][0]\n",
    "sample_betaS  = posterior_8_5['betaS'][0]    \n",
    "sample_betaWS = posterior_8_5['betaWS'][0]\n",
    "sample_sigma  = posterior_8_5['sigma'][0]\n",
    "    \n",
    "_, axes = plt.subplots(1, 3, figsize=(9, 3), sharey=True)  # 3 plots in 1 row\n",
    "for ax, s in zip(axes, range(-1, 2)):\n",
    "    idx = d.shade_cent == s\n",
    "    ax.scatter(d.water_cent[idx], d.blooms_std[idx])\n",
    "    ax.set(xlim=(-1.1, 1.1), ylim=(-0.1, 1.1), xlabel=\"water\", ylabel=\"blooms\")\n",
    "\n",
    "    shade_cent=s\n",
    "    water_cent=np.arange(-1, 2)\n",
    "    \n",
    "    jdc_8_5_test = model_8_5(water_cent=tf.cast(water_cent, dtype=tf.float32),\n",
    "                             shade_cent=tf.cast(shade_cent, dtype=tf.float32))\n",
    "    \n",
    "    ds, _ = jdc_8_5_test.sample_distributions(value=[\n",
    "        sample_alpha,  \n",
    "        sample_betaW,  \n",
    "        sample_betaS,  \n",
    "        sample_betaWS, \n",
    "        sample_sigma,  \n",
    "        None\n",
    "    ])\n",
    "    \n",
    "    mu = tf.squeeze(ds[-1].distribution.loc) \n",
    "\n",
    "    for i in range(20):\n",
    "        ax.plot(range(-1, 2), mu[i], \"k\", alpha=0.3)"
   ]
  },
  {
   "cell_type": "markdown",
   "metadata": {},
   "source": [
    "### 8.3.4 Plotting prior predictions"
   ]
  },
  {
   "cell_type": "markdown",
   "metadata": {},
   "source": [
    "##### Code 8.26"
   ]
  },
  {
   "cell_type": "code",
   "execution_count": 54,
   "metadata": {},
   "outputs": [],
   "source": [
    "# prior for 8.5\n",
    "prior_8_5 = jdc_8_5.sample(1000)"
   ]
  }
 ],
 "metadata": {
  "kernelspec": {
   "display_name": "Python 3",
   "language": "python",
   "name": "python3"
  },
  "language_info": {
   "codemirror_mode": {
    "name": "ipython",
    "version": 3
   },
   "file_extension": ".py",
   "mimetype": "text/x-python",
   "name": "python",
   "nbconvert_exporter": "python",
   "pygments_lexer": "ipython3",
   "version": "3.7.5"
  },
  "toc": {
   "base_numbering": 1,
   "nav_menu": {},
   "number_sections": true,
   "sideBar": true,
   "skip_h1_title": false,
   "title_cell": "Table of Contents",
   "title_sidebar": "Contents",
   "toc_cell": false,
   "toc_position": {},
   "toc_section_display": true,
   "toc_window_display": false
  }
 },
 "nbformat": 4,
 "nbformat_minor": 4
}
