{
 "cells": [
  {
   "cell_type": "markdown",
   "metadata": {},
   "source": [
    "##### Copyright 2020 The TensorFlow Authors.\n",
    "\n",
    "Licensed under the Apache License, Version 2.0 (the \"License\");"
   ]
  },
  {
   "cell_type": "code",
   "execution_count": 1,
   "metadata": {},
   "outputs": [],
   "source": [
    "#@title Licensed under the Apache License, Version 2.0 (the \"License\"); { display-mode: \"form\" }\n",
    "# you may not use this file except in compliance with the License.\n",
    "# You may obtain a copy of the License at\n",
    "#\n",
    "# https://www.apache.org/licenses/LICENSE-2.0\n",
    "#\n",
    "# Unless required by applicable law or agreed to in writing, software\n",
    "# distributed under the License is distributed on an \"AS IS\" BASIS,\n",
    "# WITHOUT WARRANTIES OR CONDITIONS OF ANY KIND, either express or implied.\n",
    "# See the License for the specific language governing permissions and\n",
    "# limitations under the License."
   ]
  },
  {
   "cell_type": "markdown",
   "metadata": {},
   "source": [
    "# Chapter 7 - Ulysses' Compass\n",
    "\n",
    "<table class=\"tfo-notebook-buttons\" align=\"left\">\n",
    "  <td>\n",
    "    <a target=\"_blank\" href=\"https://www.tensorflow.org/probability/examples/statistical_rethinking/notebooks/07_ulysses_compass\"><img src=\"https://www.tensorflow.org/images/tf_logo_32px.png\" />View on TensorFlow.org</a>\n",
    "  </td>\n",
    "  <td>\n",
    "    <a target=\"_blank\" href=\"https://colab.research.google.com/github/tensorflow/probability/blob/master/tensorflow_probability/examples/statistical_rethinking/notebooks/07_ulysses_compass.ipynb\"><img src=\"https://www.tensorflow.org/images/colab_logo_32px.png\" />Run in Google Colab</a>\n",
    "  </td>\n",
    "  <td>\n",
    "    <a target=\"_blank\" href=\"https://github.com/tensorflow/probability/blob/master/tensorflow_probability/examples/statistical_rethinking/notebooks/07_ulysses_compass.ipynb\"><img src=\"https://www.tensorflow.org/images/GitHub-Mark-32px.png\" />View source on GitHub</a>\n",
    "  </td>\n",
    "  <td>\n",
    "    <a href=\"https://storage.googleapis.com/tensorflow_docs/probability/examples/statistical_rethinking/notebooks/07_ulysses_compass.ipynb\"><img src=\"https://www.tensorflow.org/images/download_logo_32px.png\" />Download notebook</a>\n",
    "  </td>\n",
    "</table>"
   ]
  },
  {
   "cell_type": "markdown",
   "metadata": {},
   "source": [
    "## Imports and utility functions\n"
   ]
  },
  {
   "cell_type": "code",
   "execution_count": 2,
   "metadata": {},
   "outputs": [],
   "source": [
    "#@title Install { display-mode: \"form\" }\n",
    "TF_Installation = 'System' #@param ['TF Nightly', 'TF Stable', 'System']\n",
    "\n",
    "if TF_Installation == 'TF Nightly':\n",
    "  !pip install -q --upgrade tf-nightly\n",
    "  print('Installation of `tf-nightly` complete.')\n",
    "elif TF_Installation == 'TF Stable':\n",
    "  !pip install -q --upgrade tensorflow\n",
    "  print('Installation of `tensorflow` complete.')\n",
    "elif TF_Installation == 'System':\n",
    "  pass\n",
    "else:\n",
    "  raise ValueError('Selection Error: Please select a valid '\n",
    "                   'installation option.')"
   ]
  },
  {
   "cell_type": "code",
   "execution_count": 3,
   "metadata": {},
   "outputs": [],
   "source": [
    "#@title Install { display-mode: \"form\" }\n",
    "TFP_Installation = \"System\" #@param [\"Nightly\", \"Stable\", \"System\"]\n",
    "\n",
    "if TFP_Installation == \"Nightly\":\n",
    "  !pip install -q tfp-nightly\n",
    "  print(\"Installation of `tfp-nightly` complete.\")\n",
    "elif TFP_Installation == \"Stable\":\n",
    "  !pip install -q --upgrade tensorflow-probability\n",
    "  print(\"Installation of `tensorflow-probability` complete.\")\n",
    "elif TFP_Installation == \"System\":\n",
    "  pass\n",
    "else:\n",
    "  raise ValueError(\"Selection Error: Please select a valid \"\n",
    "                   \"installation option.\")"
   ]
  },
  {
   "cell_type": "code",
   "execution_count": 4,
   "metadata": {},
   "outputs": [],
   "source": [
    "#@title Install { display-mode: \"form\" }\n",
    "\n",
    "# Install packages that are not installed in colab\n",
    "try:\n",
    "  import google.colab\n",
    "  IN_COLAB = True\n",
    "except:\n",
    "  IN_COLAB = False\n",
    "\n",
    "if IN_COLAB:\n",
    "    print(\"Installing arviz ...\")\n",
    "    !pip install -q arviz"
   ]
  },
  {
   "cell_type": "code",
   "execution_count": 5,
   "metadata": {},
   "outputs": [],
   "source": [
    "# Core\n",
    "from io import StringIO\n",
    "import collections\n",
    "import numpy as np\n",
    "import arviz as az\n",
    "import pandas as pd\n",
    "import xarray as xr\n",
    "import tensorflow as tf\n",
    "import tensorflow_probability as tfp\n",
    "import statsmodels.formula.api as smf \n",
    "\n",
    "# visualization \n",
    "import matplotlib.pyplot as plt\n",
    "\n",
    "# aliases\n",
    "tfd = tfp.distributions\n",
    "tfb = tfp.bijectors\n",
    "Root = tfd.JointDistributionCoroutine.Root"
   ]
  },
  {
   "cell_type": "code",
   "execution_count": 6,
   "metadata": {},
   "outputs": [],
   "source": [
    "az.style.use('seaborn-colorblind')"
   ]
  },
  {
   "cell_type": "markdown",
   "metadata": {},
   "source": [
    "## Sampling helpers\n"
   ]
  },
  {
   "cell_type": "code",
   "execution_count": 7,
   "metadata": {},
   "outputs": [],
   "source": [
    "USE_XLA  = False              #@param\n",
    "USE_MCMC = True             #@param"
   ]
  },
  {
   "cell_type": "code",
   "execution_count": 8,
   "metadata": {},
   "outputs": [],
   "source": [
    "def _trace_to_arviz(trace=None,\n",
    "                   sample_stats=None,\n",
    "                   observed_data=None,\n",
    "                   prior_predictive=None,\n",
    "                   posterior_predictive=None,\n",
    "                   inplace=True):\n",
    "\n",
    "    if trace is not None and isinstance(trace, dict):\n",
    "        trace = {k: v.numpy()\n",
    "                 for k, v in trace.items()}\n",
    "    if sample_stats is not None and isinstance(sample_stats, dict):\n",
    "        sample_stats = {k: v.numpy().T for k, v in sample_stats.items()}\n",
    "    if prior_predictive is not None and isinstance(prior_predictive, dict):\n",
    "        prior_predictive = {k: v[np.newaxis]\n",
    "                            for k, v in prior_predictive.items()}\n",
    "    if posterior_predictive is not None and isinstance(posterior_predictive, dict):\n",
    "        if isinstance(trace, az.InferenceData) and inplace == True:\n",
    "            return trace + az.from_dict(posterior_predictive=posterior_predictive)\n",
    "        else:\n",
    "            trace = None\n",
    "\n",
    "    return az.from_dict(\n",
    "        posterior=trace,\n",
    "        sample_stats=sample_stats,\n",
    "        prior_predictive=prior_predictive,\n",
    "        posterior_predictive=posterior_predictive,\n",
    "        observed_data=observed_data,\n",
    "    )\n"
   ]
  },
  {
   "cell_type": "code",
   "execution_count": 9,
   "metadata": {},
   "outputs": [],
   "source": [
    "NUMBER_OF_SAMPLES = 2000           #@param\n",
    "\n",
    "MCMC_NUMBER_OF_CHAINS  = 2        #@param \n",
    "MCMC_NUMBER_OF_BURNIN  = 500      #@param\n",
    "MCMC_NUMBER_OF_LEAPFROG_STEPS = 4 #@param\n",
    "\n",
    "VI_LEARNING_RATE = 0.1            #@param\n",
    "VI_NUMBER_OF_STEPS = 2000         #@param\n",
    "VI_SAMPLE_SIZE = 1                #@param\n",
    "\n",
    "\n",
    "@tf.function(autograph=False, experimental_compile=USE_XLA)\n",
    "def run_hmc_chain(init_state,\n",
    "                  bijectors, \n",
    "                  step_size, \n",
    "                  target_log_prob_fn, \n",
    "                  num_leapfrog_steps=MCMC_NUMBER_OF_LEAPFROG_STEPS,\n",
    "                  num_samples=NUMBER_OF_SAMPLES,\n",
    "                  burnin=MCMC_NUMBER_OF_BURNIN):    \n",
    "\n",
    "    def _trace_fn_transitioned(_, pkr):\n",
    "        return (\n",
    "            pkr.inner_results.inner_results.log_accept_ratio\n",
    "        )\n",
    "\n",
    "    hmc_kernel = tfp.mcmc.HamiltonianMonteCarlo(\n",
    "        target_log_prob_fn,\n",
    "        num_leapfrog_steps=num_leapfrog_steps,\n",
    "        step_size=step_size,\n",
    "    )         \n",
    "\n",
    "    inner_kernel = tfp.mcmc.TransformedTransitionKernel(\n",
    "        inner_kernel=hmc_kernel,\n",
    "        bijector=bijectors,\n",
    "    )       \n",
    "\n",
    "    kernel = tfp.mcmc.SimpleStepSizeAdaptation(\n",
    "        inner_kernel=inner_kernel,\n",
    "        target_accept_prob=.8,\n",
    "        num_adaptation_steps=int(0.8*burnin),\n",
    "        log_accept_prob_getter_fn=lambda pkr: pkr.inner_results.log_accept_ratio\n",
    "    )    \n",
    "\n",
    "    results, sampler_stat = tfp.mcmc.sample_chain(\n",
    "        num_results=num_samples,\n",
    "        num_burnin_steps=burnin,\n",
    "        current_state=init_state,\n",
    "        kernel=kernel,\n",
    "        trace_fn=_trace_fn_transitioned)\n",
    "\n",
    "    return results, sampler_stat    \n",
    "\n",
    "def sample_posterior_vi(\n",
    "              jdc, \n",
    "              observed_data,\n",
    "              init_config,\n",
    "              vi_config=dict(),\n",
    "              num_samples=NUMBER_OF_SAMPLES):\n",
    "    \n",
    "    assert init_config is not None\n",
    "    \n",
    "    # expecting the order of keys is same \n",
    "    # as that of definition in the model function\n",
    "    params = init_config.keys()\n",
    "    \n",
    "    init_state = dict()\n",
    "    constraining_bijectors = dict()\n",
    "    for p in params:\n",
    "        init_state[p] = init_config[p]['state'][0]\n",
    "        constraining_bijectors[p] = init_config[p]['bijector']\n",
    "        \n",
    "    initial_unconstrained_loc = tf.nest.map_structure(\n",
    "                lambda b, x: b.inverse(x) if b is not None else x,\n",
    "                constraining_bijectors, init_state)\n",
    "\n",
    "    def target_log_prob_fn(*args, **kwargs):\n",
    "      newargs = []\n",
    "      for k in params:\n",
    "        newargs.append(kwargs[k])\n",
    "\n",
    "      newargs = newargs + list(observed_data)\n",
    "      return jdc.log_prob(*newargs)\n",
    "        \n",
    "    surrogate_posterior = tfp.experimental.vi.build_factored_surrogate_posterior(\n",
    "                event_shape=tf.nest.map_structure(tf.shape, init_state),\n",
    "                constraining_bijectors=constraining_bijectors,\n",
    "                initial_unconstrained_loc=initial_unconstrained_loc,\n",
    "                initial_unconstrained_scale=1e-4)  \n",
    "    \n",
    "    learning_rate = vi_config.get('learning_rate', VI_LEARNING_RATE)\n",
    "    num_steps     = vi_config.get('num_steps', VI_NUMBER_OF_STEPS)\n",
    "    sample_size   = vi_config.get('sample_size', VI_SAMPLE_SIZE)\n",
    "    \n",
    "    losses = tfp.vi.fit_surrogate_posterior(\n",
    "                  target_log_prob_fn,\n",
    "                  surrogate_posterior=surrogate_posterior,\n",
    "                  num_steps=num_steps,\n",
    "                  optimizer=tf.optimizers.Adam(learning_rate),\n",
    "                  sample_size=sample_size)\n",
    "\n",
    "    results = surrogate_posterior.sample((MCMC_NUMBER_OF_CHAINS, num_samples))\n",
    "    \n",
    "    # fake sample_stats to trigger arviz\n",
    "    # create a proper InferenceData structure\n",
    "    sample_stats = dict(fake_entry=tf.random.normal(shape=(num_samples, MCMC_NUMBER_OF_CHAINS)))\n",
    "        \n",
    "    az_trace = _trace_to_arviz(trace=results, sample_stats=sample_stats)\n",
    "\n",
    "    return results, az_trace\n",
    "\n",
    "\n",
    "def sample_posterior_hmc(\n",
    "              jdc, \n",
    "              observed_data,\n",
    "              init_config,\n",
    "              mcmc_config=dict(),\n",
    "              num_samples=NUMBER_OF_SAMPLES):\n",
    "    \n",
    "    assert init_config is not None\n",
    "    \n",
    "    # expecting the order of keys is same \n",
    "    # as that of definition in the model function\n",
    "    params = init_config.keys()\n",
    "    \n",
    "    init_state = []\n",
    "    bijectors = []\n",
    "    for p in params:\n",
    "        init_state.append(init_config[p]['state'])\n",
    "        bijectors.append(init_config[p]['bijector'])\n",
    "\n",
    "    target_log_prob_fn = lambda *x: jdc.log_prob(x + observed_data)  \n",
    "    \n",
    "    \n",
    "    step_size  = mcmc_config.get('step_size', 0.1)\n",
    "    num_chains = mcmc_config.get('num_chains', MCMC_NUMBER_OF_CHAINS)\n",
    "    burnin     = mcmc_config.get('burnin', MCMC_NUMBER_OF_BURNIN)\n",
    "    \n",
    "    results, sample_stats = run_hmc_chain(\n",
    "        init_state,\n",
    "        bijectors,\n",
    "        step_size=step_size,\n",
    "        target_log_prob_fn=target_log_prob_fn,                                      \n",
    "        num_samples=num_samples, \n",
    "        burnin=burnin,\n",
    "    )\n",
    "\n",
    "    stat_names = ['mean_tree_accept']\n",
    "    sampler_stats = dict(zip(stat_names, [sample_stats]))      \n",
    "        \n",
    "    transposed_results = []\n",
    "    \n",
    "    for r in results:        \n",
    "        if len(r.shape) == 2:\n",
    "            transposed_shape = [1,0]\n",
    "        elif len(r.shape) == 3:\n",
    "            transposed_shape = [1,0,2] \n",
    "        else:\n",
    "            transposed_shape = [1,0,2,3] \n",
    "        \n",
    "        transposed_results.append(tf.transpose(r, transposed_shape))\n",
    "\n",
    "    posterior = dict(zip(params, transposed_results))        \n",
    "\n",
    "    az_trace = _trace_to_arviz(trace=posterior, sample_stats=sampler_stats)\n",
    "\n",
    "    return posterior, az_trace\n",
    "\n",
    "def sample_posterior(\n",
    "              jdc, \n",
    "              observed_data,\n",
    "              init_config,\n",
    "              mcmc_config=dict(),\n",
    "              vi_config=dict(),\n",
    "              num_samples=NUMBER_OF_SAMPLES):\n",
    "    \n",
    "    if USE_MCMC:\n",
    "        return sample_posterior_hmc(jdc, observed_data, init_config,mcmc_config,num_samples)\n",
    "    \n",
    "    return sample_posterior_vi(jdc, observed_data, init_config,mcmc_config,num_samples)    \n"
   ]
  },
  {
   "cell_type": "markdown",
   "metadata": {},
   "source": [
    "## Dataset URLs & Utils\n"
   ]
  },
  {
   "cell_type": "code",
   "execution_count": 10,
   "metadata": {},
   "outputs": [],
   "source": [
    "# You could change base url to local dir or a remoate raw github content\n",
    "_BASE_URL = \"https://raw.githubusercontent.com/rmcelreath/rethinking/master/data\"\n",
    "\n",
    "WAFFLE_DIVORCE_DATASET_PATH = f\"{_BASE_URL}/WaffleDivorce.csv\""
   ]
  },
  {
   "cell_type": "code",
   "execution_count": 11,
   "metadata": {},
   "outputs": [],
   "source": [
    "# A utility method to convert data (columns) from pandas dataframe\n",
    "# into tensors with appropriate type\n",
    "def df_to_tensors(name, df, columns, default_type=tf.float32):\n",
    "    \"\"\" name : Name of the dataset\n",
    "        df : pandas dataframe\n",
    "        colums : a list of names that have the same type or\n",
    "                 a dictionary where keys are the column names and values are the tensorflow type (e.g. tf.float32)\n",
    "    \"\"\"\n",
    "    if isinstance(columns,dict):\n",
    "        column_names = columns.keys()\n",
    "        fields = [tf.cast(df[k].values, dtype=v) for k,v in columns.items()]    \n",
    "    else:\n",
    "        column_names = columns        \n",
    "        fields = [tf.cast(df[k].values, dtype=default_type) for k in column_names]    \n",
    "        \n",
    "    # build the cls\n",
    "    tuple_cls = collections.namedtuple(name, column_names)    \n",
    "    # build the obj\n",
    "    return tuple_cls._make(fields) "
   ]
  },
  {
   "cell_type": "markdown",
   "metadata": {},
   "source": [
    "# Introduction"
   ]
  },
  {
   "cell_type": "markdown",
   "metadata": {},
   "source": [
    "## 7.1 The problem with parameters"
   ]
  },
  {
   "cell_type": "markdown",
   "metadata": {},
   "source": [
    "### 7.1.1 More parameters(almost) always improve fit"
   ]
  },
  {
   "cell_type": "markdown",
   "metadata": {},
   "source": [
    "##### Code 7.1\n",
    "\n",
    "\n",
    "Below is a dataset for average brain volumes and body masses for 7 hominin species"
   ]
  },
  {
   "cell_type": "code",
   "execution_count": 12,
   "metadata": {},
   "outputs": [
    {
     "data": {
      "text/html": [
       "<div>\n",
       "<style scoped>\n",
       "    .dataframe tbody tr th:only-of-type {\n",
       "        vertical-align: middle;\n",
       "    }\n",
       "\n",
       "    .dataframe tbody tr th {\n",
       "        vertical-align: top;\n",
       "    }\n",
       "\n",
       "    .dataframe thead th {\n",
       "        text-align: right;\n",
       "    }\n",
       "</style>\n",
       "<table border=\"1\" class=\"dataframe\">\n",
       "  <thead>\n",
       "    <tr style=\"text-align: right;\">\n",
       "      <th></th>\n",
       "      <th>species</th>\n",
       "      <th>brain</th>\n",
       "      <th>mass</th>\n",
       "    </tr>\n",
       "  </thead>\n",
       "  <tbody>\n",
       "    <tr>\n",
       "      <th>0</th>\n",
       "      <td>afarensis</td>\n",
       "      <td>438</td>\n",
       "      <td>37.0</td>\n",
       "    </tr>\n",
       "    <tr>\n",
       "      <th>1</th>\n",
       "      <td>africanus</td>\n",
       "      <td>452</td>\n",
       "      <td>35.5</td>\n",
       "    </tr>\n",
       "    <tr>\n",
       "      <th>2</th>\n",
       "      <td>habilis</td>\n",
       "      <td>612</td>\n",
       "      <td>34.5</td>\n",
       "    </tr>\n",
       "    <tr>\n",
       "      <th>3</th>\n",
       "      <td>boisei</td>\n",
       "      <td>521</td>\n",
       "      <td>41.5</td>\n",
       "    </tr>\n",
       "    <tr>\n",
       "      <th>4</th>\n",
       "      <td>rudolfensis</td>\n",
       "      <td>752</td>\n",
       "      <td>55.5</td>\n",
       "    </tr>\n",
       "    <tr>\n",
       "      <th>5</th>\n",
       "      <td>ergaster</td>\n",
       "      <td>871</td>\n",
       "      <td>61.0</td>\n",
       "    </tr>\n",
       "    <tr>\n",
       "      <th>6</th>\n",
       "      <td>sapiens</td>\n",
       "      <td>1350</td>\n",
       "      <td>53.5</td>\n",
       "    </tr>\n",
       "  </tbody>\n",
       "</table>\n",
       "</div>"
      ],
      "text/plain": [
       "       species  brain  mass\n",
       "0    afarensis    438  37.0\n",
       "1    africanus    452  35.5\n",
       "2      habilis    612  34.5\n",
       "3       boisei    521  41.5\n",
       "4  rudolfensis    752  55.5\n",
       "5     ergaster    871  61.0\n",
       "6      sapiens   1350  53.5"
      ]
     },
     "execution_count": 12,
     "metadata": {},
     "output_type": "execute_result"
    }
   ],
   "source": [
    "sppnames = [\"afarensis\", \"africanus\", \"habilis\", \"boisei\",\n",
    "            \"rudolfensis\", \"ergaster\", \"sapiens\"]\n",
    "brainvolcc = np.array([438, 452, 612, 521, 752, 871, 1350])\n",
    "masskg = np.array([37.0, 35.5, 34.5, 41.5, 55.5, 61.0, 53.5])\n",
    "d = pd.DataFrame({\"species\": sppnames, \"brain\": brainvolcc, \"mass\": masskg})\n",
    "\n",
    "d"
   ]
  },
  {
   "cell_type": "code",
   "execution_count": 13,
   "metadata": {},
   "outputs": [
    {
     "data": {
      "image/png": "[encoded data removed]",
      "text/plain": [
       "<Figure size 432x288 with 1 Axes>"
      ]
     },
     "metadata": {
      "needs_background": "light"
     },
     "output_type": "display_data"
    }
   ],
   "source": [
    "# Reproducing the figure in the book (there is no code fragment for this in R in the book)\n",
    "plt.scatter(d.mass, d.brain, facecolors=\"none\", edgecolors=\"b\")\n",
    "plt.gca().set(xlim=(30, 70), xlabel=\"body mass (kg)\",\n",
    "              ylim=(400,1400),\n",
    "              ylabel=\"brain volume (cc)\")\n",
    "\n",
    "for i in range(d.shape[0]):\n",
    "    plt.annotate(d.species[i], (d.mass[i], d.brain[i]))"
   ]
  },
  {
   "cell_type": "markdown",
   "metadata": {},
   "source": [
    "##### Code 7.2\n",
    "\n",
    "\n",
    "Author talks about linear vs polynomial regression. He is of the opinion that most of the time polynomial regression is not a good idea (at least when used blindly). But why ?"
   ]
  },
  {
   "cell_type": "code",
   "execution_count": 14,
   "metadata": {},
   "outputs": [],
   "source": [
    "d[\"mass_std\"] = (d.mass - d.mass.mean()) / d.mass.std()\n",
    "d[\"brain_std\"] = d.brain / d.brain.max()"
   ]
  },
  {
   "cell_type": "code",
   "execution_count": 15,
   "metadata": {},
   "outputs": [],
   "source": [
    "tdf = df_to_tensors(\"Brain\", d, ['mass_std', 'brain_std'])"
   ]
  },
  {
   "cell_type": "markdown",
   "metadata": {},
   "source": [
    "Note - brain is not standardized as such because you can not have -ive brain"
   ]
  },
  {
   "cell_type": "markdown",
   "metadata": {},
   "source": [
    "##### Code 7.3\n",
    "\n",
    "Simplest model is the linear one and this is what we will start with"
   ]
  },
  {
   "cell_type": "code",
   "execution_count": 16,
   "metadata": {},
   "outputs": [],
   "source": [
    "def model_7_1(mass_std):\n",
    "    def _generator():\n",
    "        alpha = yield Root(tfd.Sample(tfd.Normal(loc=0.5, scale=1.0, name=\"alpha\") , sample_shape=1))\n",
    "        beta = yield Root(tfd.Sample(tfd.Normal(loc=0., scale=10.0, name=\"beta\") , sample_shape=1))\n",
    "        sigma = yield Root(tfd.Sample(tfd.Normal(loc=0., scale=1., name=\"sigma\") , sample_shape=1))\n",
    "        \n",
    "        mu = alpha[...,tf.newaxis] + beta[...,tf.newaxis] * mass_std\n",
    "        scale = sigma[...,tf.newaxis]        \n",
    "        \n",
    "        brain_std = yield tfd.Independent(\n",
    "            tfd.Normal(loc=mu, scale=tf.exp(scale)), reinterpreted_batch_ndims=1)\n",
    "        \n",
    "    return tfd.JointDistributionCoroutine(_generator, validate_args=False)  "
   ]
  },
  {
   "cell_type": "code",
   "execution_count": 17,
   "metadata": {},
   "outputs": [],
   "source": [
    "jdc_7_1 = model_7_1(tdf.mass_std)"
   ]
  },
  {
   "cell_type": "code",
   "execution_count": 18,
   "metadata": {},
   "outputs": [
    {
     "name": "stdout",
     "output_type": "stream",
     "text": [
      "WARNING:tensorflow:From /Users/ksachdeva/Desktop/Dev/myoss/rethinking-tfp-interim/env/lib/python3.7/site-packages/tensorflow_probability/python/mcmc/kernel.py:104: calling HamiltonianMonteCarlo.__init__ (from tensorflow_probability.python.mcmc.hmc) with step_size_update_fn is deprecated and will be removed after 2019-05-22.\n",
      "Instructions for updating:\n",
      "The `step_size_update_fn` argument is deprecated. Use `tfp.mcmc.SimpleStepSizeAdaptation` instead.\n",
      "WARNING:tensorflow:From /Users/ksachdeva/Desktop/Dev/myoss/rethinking-tfp-interim/env/lib/python3.7/site-packages/tensorflow/python/util/deprecation.py:507: calling HamiltonianMonteCarlo.__init__ (from tensorflow_probability.python.mcmc.hmc) with seed is deprecated and will be removed after 2020-09-20.\n",
      "Instructions for updating:\n",
      "The `seed` argument is deprecated (but will work until removed). Pass seed to `tfp.mcmc.sample_chain` instead.\n"
     ]
    }
   ],
   "source": [
    "init_state = [\n",
    "    0.5 * tf.ones([MCMC_NUMBER_OF_CHAINS]),\n",
    "    tf.zeros([MCMC_NUMBER_OF_CHAINS]),\n",
    "    tf.zeros([MCMC_NUMBER_OF_CHAINS]),\n",
    "]\n",
    "\n",
    "init_config = dict(\n",
    "    alpha = dict(state=init_state[0], bijector=tfb.Identity()),\n",
    "    beta  = dict(state=init_state[1], bijector=tfb.Identity()),\n",
    "    sigma = dict(state=init_state[2], bijector=tfb.Identity())\n",
    ")\n",
    "\n",
    "observed_data = (tdf.brain_std, )\n",
    "\n",
    "posterior_7_1, trace_7_1 = sample_posterior(\n",
    "                    jdc_7_1, \n",
    "                    observed_data=observed_data,\n",
    "                    num_samples=5000,\n",
    "                    init_config=init_config\n",
    ")"
   ]
  },
  {
   "cell_type": "code",
   "execution_count": 19,
   "metadata": {},
   "outputs": [
    {
     "data": {
      "text/html": [
       "<div>\n",
       "<style scoped>\n",
       "    .dataframe tbody tr th:only-of-type {\n",
       "        vertical-align: middle;\n",
       "    }\n",
       "\n",
       "    .dataframe tbody tr th {\n",
       "        vertical-align: top;\n",
       "    }\n",
       "\n",
       "    .dataframe thead th {\n",
       "        text-align: right;\n",
       "    }\n",
       "</style>\n",
       "<table border=\"1\" class=\"dataframe\">\n",
       "  <thead>\n",
       "    <tr style=\"text-align: right;\">\n",
       "      <th></th>\n",
       "      <th>mean</th>\n",
       "      <th>sd</th>\n",
       "      <th>hdi_5.5%</th>\n",
       "      <th>hdi_94.5%</th>\n",
       "      <th>mcse_mean</th>\n",
       "      <th>mcse_sd</th>\n",
       "      <th>ess_mean</th>\n",
       "      <th>ess_sd</th>\n",
       "      <th>ess_bulk</th>\n",
       "      <th>ess_tail</th>\n",
       "      <th>r_hat</th>\n",
       "    </tr>\n",
       "  </thead>\n",
       "  <tbody>\n",
       "    <tr>\n",
       "      <th>alpha</th>\n",
       "      <td>0.526</td>\n",
       "      <td>0.108</td>\n",
       "      <td>0.364</td>\n",
       "      <td>0.693</td>\n",
       "      <td>0.002</td>\n",
       "      <td>0.001</td>\n",
       "      <td>4280.0</td>\n",
       "      <td>3984.0</td>\n",
       "      <td>3504.0</td>\n",
       "      <td>3363.0</td>\n",
       "      <td>1.0</td>\n",
       "    </tr>\n",
       "    <tr>\n",
       "      <th>beta</th>\n",
       "      <td>0.169</td>\n",
       "      <td>0.120</td>\n",
       "      <td>-0.006</td>\n",
       "      <td>0.353</td>\n",
       "      <td>0.002</td>\n",
       "      <td>0.002</td>\n",
       "      <td>4346.0</td>\n",
       "      <td>2874.0</td>\n",
       "      <td>3843.0</td>\n",
       "      <td>3466.0</td>\n",
       "      <td>1.0</td>\n",
       "    </tr>\n",
       "    <tr>\n",
       "      <th>sigma</th>\n",
       "      <td>-1.395</td>\n",
       "      <td>0.383</td>\n",
       "      <td>-1.997</td>\n",
       "      <td>-0.819</td>\n",
       "      <td>0.015</td>\n",
       "      <td>0.013</td>\n",
       "      <td>640.0</td>\n",
       "      <td>454.0</td>\n",
       "      <td>466.0</td>\n",
       "      <td>145.0</td>\n",
       "      <td>1.0</td>\n",
       "    </tr>\n",
       "  </tbody>\n",
       "</table>\n",
       "</div>"
      ],
      "text/plain": [
       "        mean     sd  hdi_5.5%  hdi_94.5%  mcse_mean  mcse_sd  ess_mean  \\\n",
       "alpha  0.526  0.108     0.364      0.693      0.002    0.001    4280.0   \n",
       "beta   0.169  0.120    -0.006      0.353      0.002    0.002    4346.0   \n",
       "sigma -1.395  0.383    -1.997     -0.819      0.015    0.013     640.0   \n",
       "\n",
       "       ess_sd  ess_bulk  ess_tail  r_hat  \n",
       "alpha  3984.0    3504.0    3363.0    1.0  \n",
       "beta   2874.0    3843.0    3466.0    1.0  \n",
       "sigma   454.0     466.0     145.0    1.0  "
      ]
     },
     "execution_count": 19,
     "metadata": {},
     "output_type": "execute_result"
    }
   ],
   "source": [
    "az.summary(trace_7_1, hdi_prob=0.89)"
   ]
  },
  {
   "cell_type": "code",
   "execution_count": 20,
   "metadata": {},
   "outputs": [
    {
     "data": {
      "image/png": "[encoded data removed]",
      "text/plain": [
       "<Figure size 864x432 with 6 Axes>"
      ]
     },
     "metadata": {
      "needs_background": "light"
     },
     "output_type": "display_data"
    }
   ],
   "source": [
    "az.plot_trace(trace_7_1);"
   ]
  },
  {
   "cell_type": "markdown",
   "metadata": {},
   "source": [
    "#### Code 7.4\n",
    "\n",
    "OLS and Bayesian anti-essentialism. \n",
    "\n",
    "Use OLS for the above model. Author has used R's lm package so here we are using statsmodel (..sort of python counterpart to R's lm package) to do oridinary least square.\n",
    "\n",
    "The OLS from the non bayesian statistics is going to provide the point estimates (which would to some extent correspond to the mean (mu) if flat priors are used). "
   ]
  },
  {
   "cell_type": "markdown",
   "metadata": {},
   "source": [
    "Note - In the text book you would see\n",
    "\n",
    "```\n",
    "m7.1_OLS <- lm( brain_std ~ mass_std , data=d ) \n",
    "post <- extract.samples( m7.1_OLS )\n",
    "```\n",
    "\n",
    "extract.samples( m7.1_OLS ) is in the source file https://github.com/rmcelreath/rethinking/blob/master/R/map-quap-class.r\n",
    "\n",
    "Below I have replicated the code for extract.samples for (non-bayesian OLS) using statsmodel & tensorflow probabilty"
   ]
  },
  {
   "cell_type": "code",
   "execution_count": 21,
   "metadata": {},
   "outputs": [
    {
     "data": {
      "text/plain": [
       "(Intercept    0.528677\n",
       " mass_std     0.167118\n",
       " dtype: float64,\n",
       "               Intercept      mass_std\n",
       " Intercept  4.980017e-03  3.981467e-19\n",
       " mass_std   3.981467e-19  5.810020e-03)"
      ]
     },
     "execution_count": 21,
     "metadata": {},
     "output_type": "execute_result"
    }
   ],
   "source": [
    "# Use statsmodel OLS\n",
    "m_7_1_OLS = smf.ols('brain_std ~ mass_std', data=d).fit()\n",
    "\n",
    "m_7_1_OLS.params, m_7_1_OLS.cov_params()"
   ]
  },
  {
   "cell_type": "code",
   "execution_count": 22,
   "metadata": {},
   "outputs": [],
   "source": [
    "# Get the mean of the two parameters (intercept & coefficient for mass_std)\n",
    "# and create the mu tensor\n",
    "mu = tf.constant(m_7_1_OLS.params, dtype=tf.float32)\n",
    "# Get the variance-covariance matrix and create the cov tensor\n",
    "cov = tf.constant(m_7_1_OLS.cov_params(), dtype=tf.float32)"
   ]
  },
  {
   "cell_type": "code",
   "execution_count": 23,
   "metadata": {},
   "outputs": [],
   "source": [
    "# we can build a multivariate normal distribution using the mu & cov obtained\n",
    "# from the non bayesian land\n",
    "mvn = tfd.MultivariateNormalTriL(\n",
    "    loc=mu,\n",
    "    scale_tril=tf.linalg.cholesky(cov))\n",
    "\n",
    "posterior = mvn.sample(10000)"
   ]
  },
  {
   "cell_type": "markdown",
   "metadata": {},
   "source": [
    "##### Code 7.5\n",
    "\n",
    "\n",
    "Variance explained or $R^2$ is defined as:\n",
    "\n",
    "$R^2$ = 1 - $\\frac{var(residuals)}{var(outcome)}$"
   ]
  },
  {
   "cell_type": "code",
   "execution_count": 24,
   "metadata": {},
   "outputs": [
    {
     "data": {
      "text/plain": [
       "0.5310748870377172"
      ]
     },
     "execution_count": 24,
     "metadata": {},
     "output_type": "execute_result"
    }
   ],
   "source": [
    "# We will have to simulate (compute) our posterior brain_std from the samples\n",
    "sample_alpha = posterior_7_1[\"alpha\"]\n",
    "sample_beta  = posterior_7_1[\"beta\"]\n",
    "sample_sigma = posterior_7_1[\"sigma\"]\n",
    "\n",
    "ds, samples = jdc_7_1.sample_distributions(value=[\n",
    "      sample_alpha,\n",
    "      sample_beta, \n",
    "      sample_sigma,\n",
    "      None\n",
    "    ])\n",
    "\n",
    "sample_brain_std = ds[-1].distribution.sample()\n",
    "\n",
    "# get the mean\n",
    "brain_std_mean = tf.reduce_mean(sample_brain_std, axis=1) # <--note usage of axis 1\n",
    "\n",
    "r = brain_std_mean - d.brain_std.values\n",
    "\n",
    "# compute the variance expained (R square)\n",
    "resid_var = np.var(r, ddof=1)\n",
    "outcome_var = np.var(d.brain_std.values, ddof=1)\n",
    "1 - resid_var / outcome_var"
   ]
  },
  {
   "cell_type": "markdown",
   "metadata": {},
   "source": [
    "##### Code 7.6\n",
    "\n",
    "$R^2$ is bad, the author says ! ... here is  resuable function that will used multiple times later"
   ]
  },
  {
   "cell_type": "code",
   "execution_count": 25,
   "metadata": {},
   "outputs": [],
   "source": [
    "def RX_is_bad(jdc, posterior, scale=None):     \n",
    "    \n",
    "    sample_alpha = posterior[\"alpha\"]\n",
    "    sample_beta = posterior[\"beta\"]\n",
    "    \n",
    "    if scale is None:\n",
    "        sample_sigma = posterior[\"sigma\"]\n",
    "    else:\n",
    "        sample_sigma = 0.001  # model number 6\n",
    "        \n",
    "    ds, samples = jdc.sample_distributions(value=[\n",
    "      sample_alpha, \n",
    "      sample_beta, \n",
    "      sample_sigma,\n",
    "      None\n",
    "    ])\n",
    "\n",
    "    sample_brain_std = ds[-1].distribution.sample()\n",
    "\n",
    "    # get the mean\n",
    "    brain_std_mean = tf.reduce_mean(sample_brain_std, axis=1) # <--note usage of axis 1\n",
    "\n",
    "    r = brain_std_mean - d.brain_std.values\n",
    "\n",
    "    # compute the variance expained (R square)\n",
    "    resid_var = np.var(r, ddof=1)\n",
    "    outcome_var = np.var(d.brain_std.values, ddof=1)\n",
    "    1 - resid_var / outcome_var\n",
    "        \n",
    "    return 1 - resid_var / outcome_var "
   ]
  },
  {
   "cell_type": "markdown",
   "metadata": {},
   "source": [
    "##### Code 7.7\n",
    "\n",
    "Building some more models to compare to m7.1\n",
    "\n",
    "This one is a poymomial of second degree"
   ]
  },
  {
   "cell_type": "code",
   "execution_count": 26,
   "metadata": {},
   "outputs": [],
   "source": [
    "def model_7_2(mass_std):\n",
    "    def _generator():\n",
    "        alpha = yield Root(tfd.Sample(tfd.Normal(loc=0.5, scale=1.0, name=\"alpha\") , sample_shape=1))\n",
    "        beta = yield Root(tfd.Sample(tfd.Normal(loc=0., scale=10.0, name=\"beta\") , sample_shape=2))\n",
    "        sigma = yield Root(tfd.Sample(tfd.Normal(loc=0., scale=1., name=\"sigma\") , sample_shape=1))\n",
    "        \n",
    "        beta1 = tf.squeeze(tf.gather(beta, [0], axis=-1))\n",
    "        beta2 = tf.squeeze(tf.gather(beta, [1], axis=-1))\n",
    "        \n",
    "        mu = alpha[...,tf.newaxis] + beta1[...,tf.newaxis] * mass_std + \\\n",
    "                                     beta2[...,tf.newaxis] * (mass_std ** 2)\n",
    "        \n",
    "        scale = sigma[...,tf.newaxis]        \n",
    "        \n",
    "        brain_std = yield tfd.Independent(\n",
    "            tfd.Normal(loc=mu, scale=tf.exp(scale)), reinterpreted_batch_ndims=1)\n",
    "        \n",
    "    return tfd.JointDistributionCoroutine(_generator, validate_args=False)  "
   ]
  },
  {
   "cell_type": "code",
   "execution_count": 27,
   "metadata": {},
   "outputs": [],
   "source": [
    "# will use this method for various models\n",
    "def compute_brain_body_posterior_for_simulation(beta_degree, jdc):\n",
    "\n",
    "    if beta_degree == 1:        \n",
    "        init_state = [\n",
    "            0.5 * tf.ones([MCMC_NUMBER_OF_CHAINS]),\n",
    "            tf.zeros([MCMC_NUMBER_OF_CHAINS]),\n",
    "            tf.zeros([MCMC_NUMBER_OF_CHAINS]),\n",
    "        ]\n",
    "    else:    \n",
    "        init_state = [\n",
    "            0.5 * tf.ones([MCMC_NUMBER_OF_CHAINS]),\n",
    "            tf.zeros([MCMC_NUMBER_OF_CHAINS, beta_degree]),\n",
    "            tf.zeros([MCMC_NUMBER_OF_CHAINS]),\n",
    "        ]\n",
    "    \n",
    "    init_config = dict(\n",
    "        alpha = dict(state=init_state[0], bijector=tfb.Identity()),\n",
    "        beta  = dict(state=init_state[1], bijector=tfb.Identity()),\n",
    "        sigma = dict(state=init_state[2], bijector=tfb.Identity())\n",
    "    )\n",
    "    \n",
    "    observed_data = (tdf.brain_std,)\n",
    "\n",
    "    posterior, trace= sample_posterior(\n",
    "            jdc, \n",
    "            observed_data=observed_data,\n",
    "            num_samples=4000,\n",
    "            init_config=init_config)\n",
    "    \n",
    "    return posterior, trace"
   ]
  },
  {
   "cell_type": "markdown",
   "metadata": {},
   "source": [
    "##### Code 7.8\n",
    "\n",
    "Models of 3rd, 4th and 5th degrees"
   ]
  },
  {
   "cell_type": "code",
   "execution_count": 28,
   "metadata": {},
   "outputs": [],
   "source": [
    "def model_7_3(mass_std):\n",
    "    def _generator():\n",
    "        alpha = yield Root(tfd.Sample(tfd.Normal(loc=0.5, scale=1.0, name=\"alpha\") , sample_shape=1))\n",
    "        beta = yield Root(tfd.Sample(tfd.Normal(loc=0., scale=10.0, name=\"beta\") , sample_shape=3))\n",
    "        sigma = yield Root(tfd.Sample(tfd.Normal(loc=0., scale=1., name=\"sigma\") , sample_shape=1))\n",
    "        \n",
    "        beta1 = tf.squeeze(tf.gather(beta, [0], axis=-1))\n",
    "        beta2 = tf.squeeze(tf.gather(beta, [1], axis=-1))\n",
    "        beta3 = tf.squeeze(tf.gather(beta, [2], axis=-1))\n",
    "        \n",
    "        mu = alpha[...,tf.newaxis] + beta1[...,tf.newaxis] * mass_std + \\\n",
    "                                     beta2[...,tf.newaxis] * (mass_std ** 2) + \\\n",
    "                                     beta3[...,tf.newaxis] * (mass_std ** 3)\n",
    "        \n",
    "        scale = sigma[...,tf.newaxis]        \n",
    "        \n",
    "        brain_std = yield tfd.Independent(\n",
    "            tfd.Normal(loc=mu, scale=tf.exp(scale)), reinterpreted_batch_ndims=1)\n",
    "        \n",
    "    return tfd.JointDistributionCoroutine(_generator, validate_args=False)\n",
    "                                          \n",
    "                                          \n",
    "def model_7_4(mass_std):\n",
    "    def _generator():\n",
    "        alpha = yield Root(tfd.Sample(tfd.Normal(loc=0.5, scale=1.0, name=\"alpha\") , sample_shape=1))\n",
    "        beta = yield Root(tfd.Sample(tfd.Normal(loc=0., scale=10.0, name=\"beta\") , sample_shape=4))\n",
    "        sigma = yield Root(tfd.Sample(tfd.Normal(loc=0., scale=1., name=\"sigma\") , sample_shape=1))\n",
    "        \n",
    "        beta1 = tf.squeeze(tf.gather(beta, [0], axis=-1))\n",
    "        beta2 = tf.squeeze(tf.gather(beta, [1], axis=-1))\n",
    "        beta3 = tf.squeeze(tf.gather(beta, [2], axis=-1))\n",
    "        beta4 = tf.squeeze(tf.gather(beta, [3], axis=-1))                                          \n",
    "        \n",
    "        mu = alpha[...,tf.newaxis] + beta1[...,tf.newaxis] * mass_std + \\\n",
    "                                     beta2[...,tf.newaxis] * (mass_std ** 2) + \\\n",
    "                                     beta3[...,tf.newaxis] * (mass_std ** 3) + \\\n",
    "                                     beta4[...,tf.newaxis] * (mass_std ** 4) \n",
    "        \n",
    "        scale = sigma[...,tf.newaxis]        \n",
    "        \n",
    "        brain_std = yield tfd.Independent(\n",
    "            tfd.Normal(loc=mu, scale=tf.exp(scale)), reinterpreted_batch_ndims=1)\n",
    "        \n",
    "    return tfd.JointDistributionCoroutine(_generator, validate_args=False)\n",
    "\n",
    "def model_7_5(mass_std):\n",
    "    def _generator():\n",
    "        alpha = yield Root(tfd.Sample(tfd.Normal(loc=0.5, scale=1.0, name=\"alpha\") , sample_shape=1))\n",
    "        beta = yield Root(tfd.Sample(tfd.Normal(loc=0., scale=10.0, name=\"beta\") , sample_shape=5))\n",
    "        sigma = yield Root(tfd.Sample(tfd.Normal(loc=0., scale=1., name=\"sigma\") , sample_shape=1))\n",
    "        \n",
    "        beta1 = tf.squeeze(tf.gather(beta, [0], axis=-1))\n",
    "        beta2 = tf.squeeze(tf.gather(beta, [1], axis=-1))\n",
    "        beta3 = tf.squeeze(tf.gather(beta, [2], axis=-1))\n",
    "        beta4 = tf.squeeze(tf.gather(beta, [3], axis=-1))                                        \n",
    "        beta5 = tf.squeeze(tf.gather(beta, [4], axis=-1))                                        \n",
    "        \n",
    "        mu = alpha[...,tf.newaxis] + beta1[...,tf.newaxis] * mass_std + \\\n",
    "                                     beta2[...,tf.newaxis] * (mass_std ** 2) + \\\n",
    "                                     beta3[...,tf.newaxis] * (mass_std ** 3) + \\\n",
    "                                     beta4[...,tf.newaxis] * (mass_std ** 4) + \\\n",
    "                                     beta5[...,tf.newaxis] * (mass_std ** 5)\n",
    "        \n",
    "        scale = sigma[...,tf.newaxis]        \n",
    "        \n",
    "        brain_std = yield tfd.Independent(\n",
    "            tfd.Normal(loc=mu, scale=tf.exp(scale)), reinterpreted_batch_ndims=1)\n",
    "        \n",
    "    return tfd.JointDistributionCoroutine(_generator, validate_args=False)"
   ]
  },
  {
   "cell_type": "markdown",
   "metadata": {},
   "source": [
    "##### Code 7.9\n",
    "\n",
    "This one is of degree 6 but the standard deviation has been replaced with constant 0.001. The author mentions that otherwise it will not work and will be explained with the help of plot later"
   ]
  },
  {
   "cell_type": "code",
   "execution_count": 29,
   "metadata": {},
   "outputs": [],
   "source": [
    "def model_7_6(mass_std):\n",
    "    def _generator():\n",
    "        alpha = yield Root(tfd.Sample(tfd.Normal(loc=0.5, scale=1.0, name=\"alpha\") , sample_shape=1))\n",
    "        beta = yield Root(tfd.Sample(tfd.Normal(loc=0., scale=10.0, name=\"beta\") , sample_shape=6))        \n",
    "        \n",
    "        beta1 = tf.squeeze(tf.gather(beta, [0], axis=-1))\n",
    "        beta2 = tf.squeeze(tf.gather(beta, [1], axis=-1))\n",
    "        beta3 = tf.squeeze(tf.gather(beta, [2], axis=-1))\n",
    "        beta4 = tf.squeeze(tf.gather(beta, [3], axis=-1))                                        \n",
    "        beta5 = tf.squeeze(tf.gather(beta, [4], axis=-1))    \n",
    "        beta6 = tf.squeeze(tf.gather(beta, [5], axis=-1))    \n",
    "        \n",
    "        mu = alpha[...,tf.newaxis] + beta1[...,tf.newaxis] * mass_std + \\\n",
    "                                     beta2[...,tf.newaxis] * (mass_std ** 2) + \\\n",
    "                                     beta3[...,tf.newaxis] * (mass_std ** 3) + \\\n",
    "                                     beta4[...,tf.newaxis] * (mass_std ** 4) + \\\n",
    "                                     beta5[...,tf.newaxis] * (mass_std ** 5) + \\\n",
    "                                     beta6[...,tf.newaxis] * (mass_std ** 6)        \n",
    "        \n",
    "        \n",
    "        brain_std = yield tfd.Independent(\n",
    "            tfd.Normal(loc=mu, scale=0.001), reinterpreted_batch_ndims=1)\n",
    "        \n",
    "    return tfd.JointDistributionCoroutine(_generator, validate_args=False)"
   ]
  },
  {
   "cell_type": "code",
   "execution_count": 30,
   "metadata": {},
   "outputs": [],
   "source": [
    "# for this method we need to compute the posterior differently as the model is different in terms of params\n",
    "def compute_posterior_for_76_simulation(jdc_7_6):    \n",
    "\n",
    "    init_state = [\n",
    "        0.5 * tf.ones([MCMC_NUMBER_OF_CHAINS]),\n",
    "        tf.zeros([MCMC_NUMBER_OF_CHAINS, 6])\n",
    "    ]\n",
    "    \n",
    "    init_config = dict(\n",
    "        alpha = dict(state=init_state[0], bijector=tfb.Identity()),\n",
    "        beta  = dict(state=init_state[1], bijector=tfb.Identity())\n",
    "    )\n",
    "    \n",
    "    observed_data = (tdf.brain_std,)\n",
    "\n",
    "    posterior_7_6, trace_7_6 = sample_posterior(\n",
    "                    jdc_7_6, \n",
    "                    observed_data=observed_data,\n",
    "                    num_samples=4000,\n",
    "                    init_config=init_config)\n",
    "    \n",
    "    return posterior_7_6, trace_7_6"
   ]
  },
  {
   "cell_type": "markdown",
   "metadata": {},
   "source": [
    "##### Code 7.10"
   ]
  },
  {
   "cell_type": "code",
   "execution_count": 31,
   "metadata": {},
   "outputs": [
    {
     "name": "stdout",
     "output_type": "stream",
     "text": [
      "WARNING:tensorflow:5 out of the last 5 calls to <function run_hmc_chain at 0x146576200> triggered tf.function retracing. Tracing is expensive and the excessive number of tracings could be due to (1) creating @tf.function repeatedly in a loop, (2) passing tensors with different shapes, (3) passing Python objects instead of tensors. For (1), please define your @tf.function outside of the loop. For (2), @tf.function has experimental_relax_shapes=True option that relaxes argument shapes that can avoid unnecessary retracing. For (3), please refer to https://www.tensorflow.org/tutorials/customization/performance#python_or_tensor_args and https://www.tensorflow.org/api_docs/python/tf/function for  more details.\n",
      "WARNING:tensorflow:6 out of the last 6 calls to <function run_hmc_chain at 0x146576200> triggered tf.function retracing. Tracing is expensive and the excessive number of tracings could be due to (1) creating @tf.function repeatedly in a loop, (2) passing tensors with different shapes, (3) passing Python objects instead of tensors. For (1), please define your @tf.function outside of the loop. For (2), @tf.function has experimental_relax_shapes=True option that relaxes argument shapes that can avoid unnecessary retracing. For (3), please refer to https://www.tensorflow.org/tutorials/customization/performance#python_or_tensor_args and https://www.tensorflow.org/api_docs/python/tf/function for  more details.\n",
      "WARNING:tensorflow:7 out of the last 7 calls to <function run_hmc_chain at 0x146576200> triggered tf.function retracing. Tracing is expensive and the excessive number of tracings could be due to (1) creating @tf.function repeatedly in a loop, (2) passing tensors with different shapes, (3) passing Python objects instead of tensors. For (1), please define your @tf.function outside of the loop. For (2), @tf.function has experimental_relax_shapes=True option that relaxes argument shapes that can avoid unnecessary retracing. For (3), please refer to https://www.tensorflow.org/tutorials/customization/performance#python_or_tensor_args and https://www.tensorflow.org/api_docs/python/tf/function for  more details.\n"
     ]
    }
   ],
   "source": [
    "jdc_7_1 = model_7_1(tdf.mass_std)\n",
    "jdc_7_2 = model_7_2(tdf.mass_std)\n",
    "jdc_7_3 = model_7_3(tdf.mass_std)\n",
    "jdc_7_4 = model_7_4(tdf.mass_std)\n",
    "jdc_7_5 = model_7_5(tdf.mass_std)    \n",
    "jdc_7_6 = model_7_6(tdf.mass_std)    \n",
    "\n",
    "posterior_7_1, trace_7_1 = compute_brain_body_posterior_for_simulation(1, jdc_7_1)\n",
    "posterior_7_2, trace_7_2 = compute_brain_body_posterior_for_simulation(2, jdc_7_2)\n",
    "posterior_7_3, trace_7_3 = compute_brain_body_posterior_for_simulation(3, jdc_7_3)\n",
    "posterior_7_4, trace_7_4 = compute_brain_body_posterior_for_simulation(4, jdc_7_4)\n",
    "posterior_7_5, trace_7_5 = compute_brain_body_posterior_for_simulation(5, jdc_7_5)\n",
    "\n",
    "posterior_7_6, trace_7_6 = compute_posterior_for_76_simulation(jdc_7_6)"
   ]
  },
  {
   "cell_type": "code",
   "execution_count": 32,
   "metadata": {},
   "outputs": [
    {
     "data": {
      "image/png": "[encoded data removed]",
      "text/plain": [
       "<Figure size 864x864 with 12 Axes>"
      ]
     },
     "metadata": {
      "needs_background": "light"
     },
     "output_type": "display_data"
    }
   ],
   "source": [
    "az.plot_trace(trace_7_4);"
   ]
  },
  {
   "cell_type": "code",
   "execution_count": 33,
   "metadata": {},
   "outputs": [],
   "source": [
    "mass_seq = np.linspace(d.mass_std.min(), d.mass_std.max(), num=100)"
   ]
  },
  {
   "cell_type": "code",
   "execution_count": 34,
   "metadata": {},
   "outputs": [],
   "source": [
    "def plot_model_mean(model_name, jdc, posterior, jdc_mass_seq):            \n",
    "    if not \"sigma\" in posterior:            \n",
    "        scale = 0.001  # model number 6\n",
    "    else:\n",
    "        scale = None\n",
    "    \n",
    "    plt.title(\"{}: R^2 = {:0.2f}\".format(model_name, RX_is_bad(jdc, posterior, scale).item()))     \n",
    "    \n",
    "    sample_alpha = posterior[\"alpha\"]\n",
    "    sample_beta = posterior[\"beta\"]\n",
    "    \n",
    "    if scale is None:\n",
    "        sample_sigma = posterior[\"sigma\"]\n",
    "    else:\n",
    "        sample_sigma = 0.001  # model number 6\n",
    "        \n",
    "    # jdc_mass_seq is the new joint distribution model\n",
    "    # that uses mass_seq as the data\n",
    "    #\n",
    "    # Note - we are using posteriors from\n",
    "    # the trace of jdc that we built earlier    \n",
    "        \n",
    "    ds, samples = jdc_mass_seq.sample_distributions(value=[\n",
    "      sample_alpha,\n",
    "      sample_beta, \n",
    "      sample_sigma,\n",
    "      None\n",
    "    ])\n",
    "\n",
    "    # we get mu from the loc parameter of underlying\n",
    "    # distribution which is Normal\n",
    "    mu = ds[-1].distribution.loc\n",
    "    \n",
    "    mu_mean = tf.reduce_mean(mu, 1)\n",
    "    mu_ci = tfp.stats.percentile(mu[0], (4.5, 95.5), 0)\n",
    "        \n",
    "    plt.scatter(d.mass_std, d.brain_std, facecolors=\"b\", edgecolors=\"b\")\n",
    "    plt.plot(mass_seq, mu_mean[0], \"k\")\n",
    "    \n",
    "    plt.fill_between(mass_seq, mu_ci[0], mu_ci[1], color=\"k\", alpha=0.2) "
   ]
  },
  {
   "cell_type": "code",
   "execution_count": 35,
   "metadata": {},
   "outputs": [
    {
     "data": {
      "image/png": "[encoded data removed]",
      "text/plain": [
       "<Figure size 432x288 with 1 Axes>"
      ]
     },
     "metadata": {
      "needs_background": "light"
     },
     "output_type": "display_data"
    }
   ],
   "source": [
    "jdc_7_1_mass_seq = model_7_1(mass_seq)    \n",
    "plot_model_mean(\"m7.1\", jdc_7_1, posterior_7_1, jdc_7_1_mass_seq)"
   ]
  },
  {
   "cell_type": "code",
   "execution_count": 36,
   "metadata": {},
   "outputs": [
    {
     "data": {
      "image/png": "[encoded data removed]",
      "text/plain": [
       "<Figure size 432x288 with 1 Axes>"
      ]
     },
     "metadata": {
      "needs_background": "light"
     },
     "output_type": "display_data"
    }
   ],
   "source": [
    "# Book does not provide the code snippet for other models but has corresponding figures so I am \n",
    "# doing that as well\n",
    "jdc_7_2_mass_seq = model_7_2(mass_seq)\n",
    "plot_model_mean(\"m7.2\", jdc_7_2, posterior_7_2, jdc_7_2_mass_seq)"
   ]
  },
  {
   "cell_type": "code",
   "execution_count": 37,
   "metadata": {},
   "outputs": [
    {
     "data": {
      "image/png": "[encoded data removed]",
      "text/plain": [
       "<Figure size 432x288 with 1 Axes>"
      ]
     },
     "metadata": {
      "needs_background": "light"
     },
     "output_type": "display_data"
    }
   ],
   "source": [
    "jdc_7_3_mass_seq = model_7_3(mass_seq)\n",
    "plot_model_mean(\"m7.3\", jdc_7_3, posterior_7_3, jdc_7_3_mass_seq)"
   ]
  },
  {
   "cell_type": "code",
   "execution_count": 38,
   "metadata": {},
   "outputs": [
    {
     "data": {
      "image/png": "[encoded data removed]",
      "text/plain": [
       "<Figure size 432x288 with 1 Axes>"
      ]
     },
     "metadata": {
      "needs_background": "light"
     },
     "output_type": "display_data"
    }
   ],
   "source": [
    "jdc_7_4_mass_seq = model_7_4(mass_seq)\n",
    "plot_model_mean(\"m7.4\", jdc_7_4, posterior_7_4, jdc_7_4_mass_seq)"
   ]
  },
  {
   "cell_type": "code",
   "execution_count": 39,
   "metadata": {},
   "outputs": [
    {
     "data": {
      "image/png": "[encoded data removed]",
      "text/plain": [
       "<Figure size 432x288 with 1 Axes>"
      ]
     },
     "metadata": {
      "needs_background": "light"
     },
     "output_type": "display_data"
    }
   ],
   "source": [
    "jdc_7_5_mass_seq = model_7_5(mass_seq)\n",
    "plot_model_mean(\"m7.5\", jdc_7_5, posterior_7_5, jdc_7_5_mass_seq)"
   ]
  },
  {
   "cell_type": "code",
   "execution_count": 40,
   "metadata": {},
   "outputs": [
    {
     "data": {
      "image/png": "[encoded data removed]",
      "text/plain": [
       "<Figure size 432x288 with 1 Axes>"
      ]
     },
     "metadata": {
      "needs_background": "light"
     },
     "output_type": "display_data"
    }
   ],
   "source": [
    "jdc_7_6_mass_seq = model_7_6(mass_seq)\n",
    "plot_model_mean(\"m7.6\", jdc_7_6, posterior_7_6, jdc_7_6_mass_seq)"
   ]
  },
  {
   "cell_type": "markdown",
   "metadata": {},
   "source": [
    "### 7.1.2 Too few parameters hurts,too"
   ]
  },
  {
   "cell_type": "markdown",
   "metadata": {},
   "source": [
    "##### Code 7.11"
   ]
  },
  {
   "cell_type": "code",
   "execution_count": 41,
   "metadata": {},
   "outputs": [],
   "source": [
    "i = 1\n",
    "d_minus_i = d.drop(i)"
   ]
  },
  {
   "cell_type": "markdown",
   "metadata": {},
   "source": [
    "## 7.2 Entropy and accuracy"
   ]
  },
  {
   "cell_type": "markdown",
   "metadata": {},
   "source": [
    "### 7.2.1 Firing the weatherperson"
   ]
  },
  {
   "cell_type": "markdown",
   "metadata": {},
   "source": [
    "### 7.2.2 Information and uncertainity"
   ]
  },
  {
   "cell_type": "markdown",
   "metadata": {},
   "source": [
    "##### Code 7.12"
   ]
  },
  {
   "cell_type": "code",
   "execution_count": 42,
   "metadata": {},
   "outputs": [
    {
     "data": {
      "text/plain": [
       "0.6108643020548935"
      ]
     },
     "execution_count": 42,
     "metadata": {},
     "output_type": "execute_result"
    }
   ],
   "source": [
    "p = np.array([0.3, 0.7])\n",
    "-np.sum(p * np.log(p))"
   ]
  },
  {
   "cell_type": "markdown",
   "metadata": {},
   "source": [
    "### 7.2.3 From entropy to accuracy"
   ]
  },
  {
   "cell_type": "markdown",
   "metadata": {},
   "source": [
    "### 7.2.4 Estimating divergence"
   ]
  },
  {
   "cell_type": "markdown",
   "metadata": {},
   "source": [
    "##### Code 7.13"
   ]
  },
  {
   "cell_type": "code",
   "execution_count": 43,
   "metadata": {},
   "outputs": [
    {
     "data": {
      "text/plain": [
       "array([ 0.31212845,  0.3321967 ,  0.26048037,  0.33665413,  0.20478669,\n",
       "        0.14467637, -0.66812706], dtype=float32)"
      ]
     },
     "execution_count": 43,
     "metadata": {},
     "output_type": "execute_result"
    }
   ],
   "source": [
    "def compute_log_likelihood(jdc, posterior, trace, scale=None):\n",
    "    \n",
    "    sample_alpha = posterior[\"alpha\"]\n",
    "    sample_beta = posterior[\"beta\"]\n",
    "    \n",
    "    if scale is None:\n",
    "        sample_sigma = posterior[\"sigma\"]\n",
    "    else:\n",
    "        sample_sigma = 0.001  # model number 6\n",
    "        \n",
    "    ds, samples = jdc.sample_distributions(value=[\n",
    "      sample_alpha, \n",
    "      sample_beta, \n",
    "      sample_sigma,\n",
    "      None\n",
    "    ])\n",
    "    \n",
    "    log_likelihood_total = ds[-1].distribution.log_prob(tdf.brain_std).numpy()    \n",
    "    \n",
    "    # we are inserting the log likelihood in the trace\n",
    "    # as well though not required for this exercise\n",
    "    sample_stats = trace.sample_stats    \n",
    "    coords = [sample_stats.coords['chain'], sample_stats.coords['draw'], np.arange(7)]\n",
    "    sample_stats[\"log_likelihood\"] = xr.DataArray(\n",
    "        log_likelihood_total, \n",
    "        coords=coords,  \n",
    "        dims=['chain', 'draw', 'log_likelihood_dim_0'])\n",
    "    \n",
    "    return log_likelihood_total\n",
    "\n",
    "def lppd_fn(jdc, posterior, trace, scale=None):\n",
    "    ll = compute_log_likelihood(jdc, posterior, trace, scale)\n",
    "    ll = tf.math.reduce_logsumexp(ll, 0) - tf.math.log(tf.cast(ll.shape[0], dtype=tf.float32))\n",
    "    return np.mean(ll,0)\n",
    "\n",
    "\n",
    "lppd_fn(jdc_7_1, posterior_7_1, trace_7_1)"
   ]
  },
  {
   "cell_type": "markdown",
   "metadata": {},
   "source": [
    "### Overthinking"
   ]
  },
  {
   "cell_type": "markdown",
   "metadata": {},
   "source": [
    "##### Code 7.14\n",
    "\n",
    "This is simply an implementation of lppd_fn which I have done in 7.13 already"
   ]
  },
  {
   "cell_type": "markdown",
   "metadata": {},
   "source": [
    "### Scoring the right data"
   ]
  },
  {
   "cell_type": "markdown",
   "metadata": {},
   "source": [
    "##### Code 7.15"
   ]
  },
  {
   "cell_type": "code",
   "execution_count": 44,
   "metadata": {},
   "outputs": [],
   "source": [
    "ite = ((jdc_7_1, posterior_7_1, trace_7_1), \n",
    "       (jdc_7_2, posterior_7_2, trace_7_2), \n",
    "       (jdc_7_3, posterior_7_3, trace_7_3),\n",
    "       (jdc_7_4, posterior_7_4, trace_7_4),\n",
    "       (jdc_7_5, posterior_7_5, trace_7_5))"
   ]
  },
  {
   "cell_type": "code",
   "execution_count": 45,
   "metadata": {},
   "outputs": [
    {
     "data": {
      "text/plain": [
       "[0.92279553, 0.31834385, -0.29970407, -1.2707925, -2.2537315]"
      ]
     },
     "execution_count": 45,
     "metadata": {},
     "output_type": "execute_result"
    }
   ],
   "source": [
    "[np.sum(lppd_fn(m[0],m[1],m[2])) for m in ite]"
   ]
  },
  {
   "cell_type": "markdown",
   "metadata": {},
   "source": [
    "### Overthinking"
   ]
  },
  {
   "cell_type": "markdown",
   "metadata": {},
   "source": [
    "##### Code 7.16 - 7.18 [TODO]"
   ]
  },
  {
   "cell_type": "code",
   "execution_count": null,
   "metadata": {},
   "outputs": [],
   "source": []
  },
  {
   "cell_type": "markdown",
   "metadata": {},
   "source": [
    "## 7.3 Golem Taming: Regularization"
   ]
  },
  {
   "cell_type": "markdown",
   "metadata": {},
   "source": [
    "## 7.4 Predicting predictive accuracy"
   ]
  },
  {
   "cell_type": "markdown",
   "metadata": {},
   "source": [
    "### Overthinking: WAIC calculations"
   ]
  },
  {
   "cell_type": "markdown",
   "metadata": {},
   "source": [
    "##### Code 7.19"
   ]
  },
  {
   "cell_type": "code",
   "execution_count": 46,
   "metadata": {},
   "outputs": [
    {
     "data": {
      "text/html": [
       "<div>\n",
       "<style scoped>\n",
       "    .dataframe tbody tr th:only-of-type {\n",
       "        vertical-align: middle;\n",
       "    }\n",
       "\n",
       "    .dataframe tbody tr th {\n",
       "        vertical-align: top;\n",
       "    }\n",
       "\n",
       "    .dataframe thead th {\n",
       "        text-align: right;\n",
       "    }\n",
       "</style>\n",
       "<table border=\"1\" class=\"dataframe\">\n",
       "  <thead>\n",
       "    <tr style=\"text-align: right;\">\n",
       "      <th></th>\n",
       "      <th>Unnamed: 0</th>\n",
       "      <th>speed</th>\n",
       "      <th>dist</th>\n",
       "    </tr>\n",
       "  </thead>\n",
       "  <tbody>\n",
       "    <tr>\n",
       "      <th>0</th>\n",
       "      <td>1</td>\n",
       "      <td>4</td>\n",
       "      <td>2</td>\n",
       "    </tr>\n",
       "    <tr>\n",
       "      <th>1</th>\n",
       "      <td>2</td>\n",
       "      <td>4</td>\n",
       "      <td>10</td>\n",
       "    </tr>\n",
       "    <tr>\n",
       "      <th>2</th>\n",
       "      <td>3</td>\n",
       "      <td>7</td>\n",
       "      <td>4</td>\n",
       "    </tr>\n",
       "    <tr>\n",
       "      <th>3</th>\n",
       "      <td>4</td>\n",
       "      <td>7</td>\n",
       "      <td>22</td>\n",
       "    </tr>\n",
       "    <tr>\n",
       "      <th>4</th>\n",
       "      <td>5</td>\n",
       "      <td>8</td>\n",
       "      <td>16</td>\n",
       "    </tr>\n",
       "  </tbody>\n",
       "</table>\n",
       "</div>"
      ],
      "text/plain": [
       "   Unnamed: 0  speed  dist\n",
       "0           1      4     2\n",
       "1           2      4    10\n",
       "2           3      7     4\n",
       "3           4      7    22\n",
       "4           5      8    16"
      ]
     },
     "execution_count": 46,
     "metadata": {},
     "output_type": "execute_result"
    }
   ],
   "source": [
    "# There is no CSV file for cars dataset in author's repo\n",
    "# hence I have inlined the data. In R this dataset much be bundled in\n",
    "# and this is why his code snippets do not need the csv file\n",
    "\n",
    "cars_data = \"\"\"\n",
    "\"\",\"speed\",\"dist\"\n",
    "\"1\",4,2\n",
    "\"2\",4,10\n",
    "\"3\",7,4\n",
    "\"4\",7,22\n",
    "\"5\",8,16\n",
    "\"6\",9,10\n",
    "\"7\",10,18\n",
    "\"8\",10,26\n",
    "\"9\",10,34\n",
    "\"10\",11,17\n",
    "\"11\",11,28\n",
    "\"12\",12,14\n",
    "\"13\",12,20\n",
    "\"14\",12,24\n",
    "\"15\",12,28\n",
    "\"16\",13,26\n",
    "\"17\",13,34\n",
    "\"18\",13,34\n",
    "\"19\",13,46\n",
    "\"20\",14,26\n",
    "\"21\",14,36\n",
    "\"22\",14,60\n",
    "\"23\",14,80\n",
    "\"24\",15,20\n",
    "\"25\",15,26\n",
    "\"26\",15,54\n",
    "\"27\",16,32\n",
    "\"28\",16,40\n",
    "\"29\",17,32\n",
    "\"30\",17,40\n",
    "\"31\",17,50\n",
    "\"32\",18,42\n",
    "\"33\",18,56\n",
    "\"34\",18,76\n",
    "\"35\",18,84\n",
    "\"36\",19,36\n",
    "\"37\",19,46\n",
    "\"38\",19,68\n",
    "\"39\",20,32\n",
    "\"40\",20,48\n",
    "\"41\",20,52\n",
    "\"42\",20,56\n",
    "\"43\",20,64\n",
    "\"44\",22,66\n",
    "\"45\",23,54\n",
    "\"46\",24,70\n",
    "\"47\",24,92\n",
    "\"48\",24,93\n",
    "\"49\",24,120\n",
    "\"50\",25,85\n",
    "\"\"\"\n",
    "\n",
    "buffer = StringIO(cars_data)\n",
    "d = pd.read_csv(buffer, sep=\",\")\n",
    "\n",
    "d.head()"
   ]
  },
  {
   "cell_type": "code",
   "execution_count": 47,
   "metadata": {},
   "outputs": [],
   "source": [
    "# Note - \n",
    "#\n",
    "# In first edition, the book used Uniform for sigma and in the second\n",
    "# edition it is using Exponential; \n",
    "#\n",
    "# If I use exponential the chains do not converge; the traces are seriously bad.\n",
    "# In order to make it work, I have spent time trying to find an ideal number of\n",
    "# samples & burin. The configuration that has the most impact is the initialization\n",
    "# state. For the sigma if I use the init state of 60 then the chains converge sometimes ..\n",
    "# I have observed that even after this setting the convergence is not systematic. After running\n",
    "# it few times I see that it has R_hat of 2 and that skews the results\n",
    "# \n",
    "# Edition 1 model (i.e. using Uniform for scale) is very stable\n",
    "#\n",
    "#\n",
    "# I have ran the model in R (using rehinking & rstan) as well and there I am able to \n",
    "# work with the model definition as it is in Edition 2\n",
    "\n",
    "USE_EDITION_2_SPEC = True\n",
    "\n",
    "def cars_model(speed):\n",
    "    def _generator():\n",
    "        alpha = yield Root(tfd.Sample(tfd.Normal(loc=0., scale=100., name=\"alpha\") , sample_shape=1))\n",
    "        beta = yield Root(tfd.Sample(tfd.Normal(loc=0., scale=10.0, name=\"beta\") , sample_shape=1))\n",
    "        \n",
    "        if USE_EDITION_2_SPEC:\n",
    "            sigma = yield Root(tfd.Sample(tfd.Exponential(rate=1., name=\"sigma\") , sample_shape=1))\n",
    "        else:\n",
    "            sigma = yield Root(tfd.Sample(tfd.Uniform(low=0., high=30., name=\"sigma\") , sample_shape=1))        \n",
    "        \n",
    "        mu = alpha[...,tf.newaxis] + beta[...,tf.newaxis] * speed\n",
    "        scale = sigma[...,tf.newaxis]        \n",
    "        \n",
    "        brain_std = yield tfd.Independent(\n",
    "            tfd.Normal(loc=mu, scale=scale), reinterpreted_batch_ndims=1)\n",
    "        \n",
    "    return tfd.JointDistributionCoroutine(_generator, validate_args=False)"
   ]
  },
  {
   "cell_type": "code",
   "execution_count": 48,
   "metadata": {},
   "outputs": [
    {
     "name": "stdout",
     "output_type": "stream",
     "text": [
      "WARNING:tensorflow:8 out of the last 8 calls to <function run_hmc_chain at 0x146576200> triggered tf.function retracing. Tracing is expensive and the excessive number of tracings could be due to (1) creating @tf.function repeatedly in a loop, (2) passing tensors with different shapes, (3) passing Python objects instead of tensors. For (1), please define your @tf.function outside of the loop. For (2), @tf.function has experimental_relax_shapes=True option that relaxes argument shapes that can avoid unnecessary retracing. For (3), please refer to https://www.tensorflow.org/tutorials/customization/performance#python_or_tensor_args and https://www.tensorflow.org/api_docs/python/tf/function for  more details.\n"
     ]
    }
   ],
   "source": [
    "jdc_cars = cars_model(tf.cast(d.speed.values, dtype=tf.float32))\n",
    "\n",
    "if USE_EDITION_2_SPEC:\n",
    "\n",
    "    init_state = [\n",
    "        tf.ones([MCMC_NUMBER_OF_CHAINS]),\n",
    "        tf.ones([MCMC_NUMBER_OF_CHAINS]),\n",
    "        60. * tf.ones([MCMC_NUMBER_OF_CHAINS]),  # <--- this makes it work (somewhat, not systematic !)\n",
    "    ]\n",
    "\n",
    "    bijectors = [\n",
    "        tfb.Identity(),\n",
    "        tfb.Identity(),\n",
    "        tfb.Exp(),\n",
    "    ]\n",
    "else:\n",
    "    \n",
    "    init_state = [\n",
    "        tf.ones([MCMC_NUMBER_OF_CHAINS]),\n",
    "        tf.ones([MCMC_NUMBER_OF_CHAINS]),\n",
    "        tf.ones([MCMC_NUMBER_OF_CHAINS]),\n",
    "    ]\n",
    "    \n",
    "    bijectors = [\n",
    "        tfb.Identity(),\n",
    "        tfb.Identity(),\n",
    "        tfb.Softplus(),\n",
    "    ]\n",
    "\n",
    "observed_data = (tf.cast(d.dist.values, dtype=tf.float32),)\n",
    "\n",
    "init_config = dict(\n",
    "    alpha = dict(state=init_state[0], bijector=bijectors[0]),\n",
    "    beta  = dict(state=init_state[1], bijector=bijectors[1]),\n",
    "    sigma = dict(state=init_state[2], bijector=bijectors[2]),\n",
    ")\n",
    "\n",
    "# here I am increasing the sampling size\n",
    "# to see if that helps\n",
    "posterior_cars, trace_cars = sample_posterior(\n",
    "                                jdc_cars, \n",
    "                                observed_data=observed_data,\n",
    "                                init_config=init_config,\n",
    "                                num_samples=5000)"
   ]
  },
  {
   "cell_type": "code",
   "execution_count": 49,
   "metadata": {},
   "outputs": [
    {
     "data": {
      "text/html": [
       "<div>\n",
       "<style scoped>\n",
       "    .dataframe tbody tr th:only-of-type {\n",
       "        vertical-align: middle;\n",
       "    }\n",
       "\n",
       "    .dataframe tbody tr th {\n",
       "        vertical-align: top;\n",
       "    }\n",
       "\n",
       "    .dataframe thead th {\n",
       "        text-align: right;\n",
       "    }\n",
       "</style>\n",
       "<table border=\"1\" class=\"dataframe\">\n",
       "  <thead>\n",
       "    <tr style=\"text-align: right;\">\n",
       "      <th></th>\n",
       "      <th>mean</th>\n",
       "      <th>sd</th>\n",
       "      <th>hdi_5.5%</th>\n",
       "      <th>hdi_94.5%</th>\n",
       "      <th>mcse_mean</th>\n",
       "      <th>mcse_sd</th>\n",
       "      <th>ess_mean</th>\n",
       "      <th>ess_sd</th>\n",
       "      <th>ess_bulk</th>\n",
       "      <th>ess_tail</th>\n",
       "      <th>r_hat</th>\n",
       "    </tr>\n",
       "  </thead>\n",
       "  <tbody>\n",
       "    <tr>\n",
       "      <th>alpha</th>\n",
       "      <td>-2.172</td>\n",
       "      <td>2.286</td>\n",
       "      <td>-5.379</td>\n",
       "      <td>0.541</td>\n",
       "      <td>1.586</td>\n",
       "      <td>1.333</td>\n",
       "      <td>2.0</td>\n",
       "      <td>2.0</td>\n",
       "      <td>2.0</td>\n",
       "      <td>14.0</td>\n",
       "      <td>2.44</td>\n",
       "    </tr>\n",
       "    <tr>\n",
       "      <th>beta</th>\n",
       "      <td>3.031</td>\n",
       "      <td>0.180</td>\n",
       "      <td>2.760</td>\n",
       "      <td>3.310</td>\n",
       "      <td>0.098</td>\n",
       "      <td>0.076</td>\n",
       "      <td>3.0</td>\n",
       "      <td>3.0</td>\n",
       "      <td>4.0</td>\n",
       "      <td>157.0</td>\n",
       "      <td>1.59</td>\n",
       "    </tr>\n",
       "    <tr>\n",
       "      <th>sigma</th>\n",
       "      <td>14.268</td>\n",
       "      <td>1.171</td>\n",
       "      <td>12.377</td>\n",
       "      <td>16.050</td>\n",
       "      <td>0.099</td>\n",
       "      <td>0.070</td>\n",
       "      <td>140.0</td>\n",
       "      <td>140.0</td>\n",
       "      <td>131.0</td>\n",
       "      <td>315.0</td>\n",
       "      <td>1.04</td>\n",
       "    </tr>\n",
       "  </tbody>\n",
       "</table>\n",
       "</div>"
      ],
      "text/plain": [
       "         mean     sd  hdi_5.5%  hdi_94.5%  mcse_mean  mcse_sd  ess_mean  \\\n",
       "alpha  -2.172  2.286    -5.379      0.541      1.586    1.333       2.0   \n",
       "beta    3.031  0.180     2.760      3.310      0.098    0.076       3.0   \n",
       "sigma  14.268  1.171    12.377     16.050      0.099    0.070     140.0   \n",
       "\n",
       "       ess_sd  ess_bulk  ess_tail  r_hat  \n",
       "alpha     2.0       2.0      14.0   2.44  \n",
       "beta      3.0       4.0     157.0   1.59  \n",
       "sigma   140.0     131.0     315.0   1.04  "
      ]
     },
     "execution_count": 49,
     "metadata": {},
     "output_type": "execute_result"
    }
   ],
   "source": [
    "az.summary(trace_cars, hdi_prob=0.89)"
   ]
  },
  {
   "cell_type": "code",
   "execution_count": 50,
   "metadata": {},
   "outputs": [
    {
     "data": {
      "image/png": "[encoded data removed]",
      "text/plain": [
       "<Figure size 864x432 with 6 Axes>"
      ]
     },
     "metadata": {
      "needs_background": "light"
     },
     "output_type": "display_data"
    }
   ],
   "source": [
    "az.plot_trace(trace_cars);"
   ]
  },
  {
   "cell_type": "markdown",
   "metadata": {},
   "source": [
    "##### Code 7.20"
   ]
  },
  {
   "cell_type": "code",
   "execution_count": 51,
   "metadata": {},
   "outputs": [
    {
     "data": {
      "text/plain": [
       "(50, 2000)"
      ]
     },
     "execution_count": 51,
     "metadata": {},
     "output_type": "execute_result"
    }
   ],
   "source": [
    "n_samples = 2000\n",
    "\n",
    "def logprob_fn(s):\n",
    "    mu = posterior_cars[\"alpha\"][0][s] + posterior_cars[\"beta\"][0][s] * d.speed.values\n",
    "    sigma = posterior_cars[\"sigma\"][0][s]\n",
    "    scale = sigma   \n",
    "    \n",
    "    return tfd.Normal(\n",
    "        loc=tf.cast(mu, dtype=tf.float32), \n",
    "        scale=tf.cast(scale, dtype=tf.float32)).log_prob(d.dist.values)\n",
    "\n",
    "logprob = np.array(list(map(logprob_fn, np.arange(n_samples)))).T\n",
    "\n",
    "logprob.shape"
   ]
  },
  {
   "cell_type": "markdown",
   "metadata": {},
   "source": [
    "##### Code 7.21"
   ]
  },
  {
   "cell_type": "code",
   "execution_count": 52,
   "metadata": {},
   "outputs": [],
   "source": [
    "n_cases = d.shape[0]\n",
    "lppd = tf.math.reduce_logsumexp(logprob, 1) - tf.math.log(tf.cast(n_samples, dtype=tf.float32))"
   ]
  },
  {
   "cell_type": "markdown",
   "metadata": {},
   "source": [
    "##### Code 7.22"
   ]
  },
  {
   "cell_type": "code",
   "execution_count": 53,
   "metadata": {},
   "outputs": [],
   "source": [
    "pWAIC = np.var(logprob, 1)"
   ]
  },
  {
   "cell_type": "markdown",
   "metadata": {},
   "source": [
    "##### Code 7.23"
   ]
  },
  {
   "cell_type": "code",
   "execution_count": 54,
   "metadata": {},
   "outputs": [
    {
     "data": {
      "text/plain": [
       "426.2240905761719"
      ]
     },
     "execution_count": 54,
     "metadata": {},
     "output_type": "execute_result"
    }
   ],
   "source": [
    "-2 * (np.sum(lppd) - np.sum(pWAIC))"
   ]
  },
  {
   "cell_type": "markdown",
   "metadata": {},
   "source": [
    "##### Code 7.24"
   ]
  },
  {
   "cell_type": "code",
   "execution_count": 55,
   "metadata": {},
   "outputs": [
    {
     "data": {
      "text/plain": [
       "16.327331377664773"
      ]
     },
     "execution_count": 55,
     "metadata": {},
     "output_type": "execute_result"
    }
   ],
   "source": [
    "waic_vec = -2 * (lppd - pWAIC)\n",
    "np.sqrt(n_cases * np.var(waic_vec))"
   ]
  },
  {
   "cell_type": "markdown",
   "metadata": {},
   "source": [
    "### 7.4.3 Comparing CV, PSIS, and WAIC"
   ]
  },
  {
   "cell_type": "markdown",
   "metadata": {},
   "source": [
    "## 7.5 Model comparison"
   ]
  },
  {
   "cell_type": "markdown",
   "metadata": {},
   "source": [
    "##### Code 7.25\n",
    "\n",
    "\n",
    "Here we need to first redefine models from the previous chapters i.e. m6_6,m6_7,m6_8 and compute the log likelihoods as well and only then we will compute the WAIC"
   ]
  },
  {
   "cell_type": "code",
   "execution_count": 56,
   "metadata": {},
   "outputs": [
    {
     "data": {
      "text/html": [
       "<div>\n",
       "<style scoped>\n",
       "    .dataframe tbody tr th:only-of-type {\n",
       "        vertical-align: middle;\n",
       "    }\n",
       "\n",
       "    .dataframe tbody tr th {\n",
       "        vertical-align: top;\n",
       "    }\n",
       "\n",
       "    .dataframe thead th {\n",
       "        text-align: right;\n",
       "    }\n",
       "</style>\n",
       "<table border=\"1\" class=\"dataframe\">\n",
       "  <thead>\n",
       "    <tr style=\"text-align: right;\">\n",
       "      <th></th>\n",
       "      <th>mean</th>\n",
       "      <th>sd</th>\n",
       "      <th>hdi_5.5%</th>\n",
       "      <th>hdi_94.5%</th>\n",
       "    </tr>\n",
       "  </thead>\n",
       "  <tbody>\n",
       "    <tr>\n",
       "      <th>h0</th>\n",
       "      <td>9.894</td>\n",
       "      <td>2.143</td>\n",
       "      <td>6.421</td>\n",
       "      <td>12.93</td>\n",
       "    </tr>\n",
       "    <tr>\n",
       "      <th>h1</th>\n",
       "      <td>13.609</td>\n",
       "      <td>2.696</td>\n",
       "      <td>8.782</td>\n",
       "      <td>17.34</td>\n",
       "    </tr>\n",
       "    <tr>\n",
       "      <th>treatment</th>\n",
       "      <td>0.500</td>\n",
       "      <td>0.503</td>\n",
       "      <td>0.000</td>\n",
       "      <td>1.00</td>\n",
       "    </tr>\n",
       "    <tr>\n",
       "      <th>fungus</th>\n",
       "      <td>0.350</td>\n",
       "      <td>0.479</td>\n",
       "      <td>0.000</td>\n",
       "      <td>1.00</td>\n",
       "    </tr>\n",
       "  </tbody>\n",
       "</table>\n",
       "</div>"
      ],
      "text/plain": [
       "             mean     sd  hdi_5.5%  hdi_94.5%\n",
       "h0          9.894  2.143     6.421      12.93\n",
       "h1         13.609  2.696     8.782      17.34\n",
       "treatment   0.500  0.503     0.000       1.00\n",
       "fungus      0.350  0.479     0.000       1.00"
      ]
     },
     "execution_count": 56,
     "metadata": {},
     "output_type": "execute_result"
    }
   ],
   "source": [
    "_SEED = 71\n",
    "\n",
    "# Note - even after providing SeedStream and generated seeds\n",
    "# it still does not respect it\n",
    "def simulate():\n",
    "    seed = tfp.util.SeedStream(_SEED, salt=\"sim_heights\")\n",
    "\n",
    "    # number of plants\n",
    "    N = 100\n",
    "\n",
    "    # simulate initial heights\n",
    "    h0 = tfd.Normal(loc=10., scale=2.).sample(N, seed=seed())\n",
    "\n",
    "    # assign treatments and simulate fungus and growth\n",
    "    treatment = tf.repeat([0., 1.], repeats=N // 2)\n",
    "    \n",
    "    fungus = tfd.Binomial(total_count=1., probs=(0.5 - treatment * 0.4)).sample(seed=seed())\n",
    "    \n",
    "    h1 = h0 + tfd.Normal(loc=5. - 3. * fungus, scale=1.).sample(seed=seed())\n",
    "\n",
    "    # compose a clean data frame\n",
    "    d = {\"h0\":h0, \"h1\":h1, \"treatment\":treatment, \"fungus\":fungus}\n",
    "    \n",
    "    return d\n",
    "    \n",
    "d_dict = simulate()\n",
    "\n",
    "az.summary(d_dict, kind=\"stats\", hdi_prob=0.89)"
   ]
  },
  {
   "cell_type": "code",
   "execution_count": 57,
   "metadata": {},
   "outputs": [],
   "source": [
    "d = pd.DataFrame.from_dict(d_dict)\n",
    "tdf = df_to_tensors('SimulatedTreatment', d, ['h0', 'h1', 'treatment', 'fungus'])"
   ]
  },
  {
   "cell_type": "code",
   "execution_count": 58,
   "metadata": {},
   "outputs": [
    {
     "name": "stdout",
     "output_type": "stream",
     "text": [
      "WARNING:tensorflow:9 out of the last 9 calls to <function run_hmc_chain at 0x146576200> triggered tf.function retracing. Tracing is expensive and the excessive number of tracings could be due to (1) creating @tf.function repeatedly in a loop, (2) passing tensors with different shapes, (3) passing Python objects instead of tensors. For (1), please define your @tf.function outside of the loop. For (2), @tf.function has experimental_relax_shapes=True option that relaxes argument shapes that can avoid unnecessary retracing. For (3), please refer to https://www.tensorflow.org/tutorials/customization/performance#python_or_tensor_args and https://www.tensorflow.org/api_docs/python/tf/function for  more details.\n"
     ]
    },
    {
     "data": {
      "text/html": [
       "<div>\n",
       "<style scoped>\n",
       "    .dataframe tbody tr th:only-of-type {\n",
       "        vertical-align: middle;\n",
       "    }\n",
       "\n",
       "    .dataframe tbody tr th {\n",
       "        vertical-align: top;\n",
       "    }\n",
       "\n",
       "    .dataframe thead th {\n",
       "        text-align: right;\n",
       "    }\n",
       "</style>\n",
       "<table border=\"1\" class=\"dataframe\">\n",
       "  <thead>\n",
       "    <tr style=\"text-align: right;\">\n",
       "      <th></th>\n",
       "      <th>mean</th>\n",
       "      <th>sd</th>\n",
       "      <th>hdi_5.5%</th>\n",
       "      <th>hdi_94.5%</th>\n",
       "      <th>mcse_mean</th>\n",
       "      <th>mcse_sd</th>\n",
       "      <th>ess_mean</th>\n",
       "      <th>ess_sd</th>\n",
       "      <th>ess_bulk</th>\n",
       "      <th>ess_tail</th>\n",
       "      <th>r_hat</th>\n",
       "    </tr>\n",
       "  </thead>\n",
       "  <tbody>\n",
       "    <tr>\n",
       "      <th>p</th>\n",
       "      <td>1.356</td>\n",
       "      <td>0.019</td>\n",
       "      <td>1.327</td>\n",
       "      <td>1.386</td>\n",
       "      <td>0.001</td>\n",
       "      <td>0.000</td>\n",
       "      <td>1224.0</td>\n",
       "      <td>1224.0</td>\n",
       "      <td>1233.0</td>\n",
       "      <td>1495.0</td>\n",
       "      <td>1.0</td>\n",
       "    </tr>\n",
       "    <tr>\n",
       "      <th>sigma</th>\n",
       "      <td>1.903</td>\n",
       "      <td>0.139</td>\n",
       "      <td>1.679</td>\n",
       "      <td>2.131</td>\n",
       "      <td>0.004</td>\n",
       "      <td>0.003</td>\n",
       "      <td>1066.0</td>\n",
       "      <td>1066.0</td>\n",
       "      <td>1041.0</td>\n",
       "      <td>1581.0</td>\n",
       "      <td>1.0</td>\n",
       "    </tr>\n",
       "  </tbody>\n",
       "</table>\n",
       "</div>"
      ],
      "text/plain": [
       "        mean     sd  hdi_5.5%  hdi_94.5%  mcse_mean  mcse_sd  ess_mean  \\\n",
       "p      1.356  0.019     1.327      1.386      0.001    0.000    1224.0   \n",
       "sigma  1.903  0.139     1.679      2.131      0.004    0.003    1066.0   \n",
       "\n",
       "       ess_sd  ess_bulk  ess_tail  r_hat  \n",
       "p      1224.0    1233.0    1495.0    1.0  \n",
       "sigma  1066.0    1041.0    1581.0    1.0  "
      ]
     },
     "execution_count": 58,
     "metadata": {},
     "output_type": "execute_result"
    }
   ],
   "source": [
    "def model_6_6(h0):\n",
    "    def _generator():\n",
    "      p = yield Root(tfd.Sample(tfd.LogNormal(loc=0., scale=0.25, name=\"p\"), sample_shape=1))      \n",
    "      sigma = yield Root(tfd.Sample(tfd.Exponential(rate=1., name=\"sigma\"), sample_shape=1))\n",
    "        \n",
    "      mu = tf.squeeze(h0[tf.newaxis,...] * p[...,tf.newaxis])\n",
    "      scale = sigma[..., tf.newaxis]  \n",
    "        \n",
    "      h1 = yield tfd.Independent(tfd.Normal(loc=mu, scale=scale, name=\"h1\"), reinterpreted_batch_ndims=1)\n",
    "\n",
    "    return tfd.JointDistributionCoroutine(_generator, validate_args=False)    \n",
    "    \n",
    "jdc_6_6 = model_6_6(tdf.h0)\n",
    "\n",
    "init_state = [\n",
    "    tf.ones([MCMC_NUMBER_OF_CHAINS]),\n",
    "    tf.ones([MCMC_NUMBER_OF_CHAINS])    \n",
    "]\n",
    "\n",
    "init_config = dict(\n",
    "    p = dict(state=init_state[0], bijector=tfb.Exp()),\n",
    "    sigma = dict(state=init_state[1], bijector=tfb.Exp())\n",
    ")\n",
    "\n",
    "\n",
    "posterior_6_6, trace_6_6 = sample_posterior(\n",
    "                                jdc_6_6, \n",
    "                                init_config=init_config,\n",
    "                                observed_data=(tdf.h1,))\n",
    "\n",
    "az.summary(trace_6_6, hdi_prob=0.89)"
   ]
  },
  {
   "cell_type": "code",
   "execution_count": 59,
   "metadata": {},
   "outputs": [
    {
     "name": "stdout",
     "output_type": "stream",
     "text": [
      "WARNING:tensorflow:10 out of the last 10 calls to <function run_hmc_chain at 0x146576200> triggered tf.function retracing. Tracing is expensive and the excessive number of tracings could be due to (1) creating @tf.function repeatedly in a loop, (2) passing tensors with different shapes, (3) passing Python objects instead of tensors. For (1), please define your @tf.function outside of the loop. For (2), @tf.function has experimental_relax_shapes=True option that relaxes argument shapes that can avoid unnecessary retracing. For (3), please refer to https://www.tensorflow.org/tutorials/customization/performance#python_or_tensor_args and https://www.tensorflow.org/api_docs/python/tf/function for  more details.\n"
     ]
    },
    {
     "data": {
      "text/html": [
       "<div>\n",
       "<style scoped>\n",
       "    .dataframe tbody tr th:only-of-type {\n",
       "        vertical-align: middle;\n",
       "    }\n",
       "\n",
       "    .dataframe tbody tr th {\n",
       "        vertical-align: top;\n",
       "    }\n",
       "\n",
       "    .dataframe thead th {\n",
       "        text-align: right;\n",
       "    }\n",
       "</style>\n",
       "<table border=\"1\" class=\"dataframe\">\n",
       "  <thead>\n",
       "    <tr style=\"text-align: right;\">\n",
       "      <th></th>\n",
       "      <th>mean</th>\n",
       "      <th>sd</th>\n",
       "      <th>hdi_5.5%</th>\n",
       "      <th>hdi_94.5%</th>\n",
       "      <th>mcse_mean</th>\n",
       "      <th>mcse_sd</th>\n",
       "      <th>ess_mean</th>\n",
       "      <th>ess_sd</th>\n",
       "      <th>ess_bulk</th>\n",
       "      <th>ess_tail</th>\n",
       "      <th>r_hat</th>\n",
       "    </tr>\n",
       "  </thead>\n",
       "  <tbody>\n",
       "    <tr>\n",
       "      <th>a</th>\n",
       "      <td>1.453</td>\n",
       "      <td>0.029</td>\n",
       "      <td>1.402</td>\n",
       "      <td>1.494</td>\n",
       "      <td>0.001</td>\n",
       "      <td>0.001</td>\n",
       "      <td>1022.0</td>\n",
       "      <td>1018.0</td>\n",
       "      <td>1030.0</td>\n",
       "      <td>1155.0</td>\n",
       "      <td>1.0</td>\n",
       "    </tr>\n",
       "    <tr>\n",
       "      <th>bt</th>\n",
       "      <td>-0.010</td>\n",
       "      <td>0.033</td>\n",
       "      <td>-0.059</td>\n",
       "      <td>0.043</td>\n",
       "      <td>0.001</td>\n",
       "      <td>0.001</td>\n",
       "      <td>1338.0</td>\n",
       "      <td>1338.0</td>\n",
       "      <td>1337.0</td>\n",
       "      <td>1403.0</td>\n",
       "      <td>1.0</td>\n",
       "    </tr>\n",
       "    <tr>\n",
       "      <th>bf</th>\n",
       "      <td>-0.275</td>\n",
       "      <td>0.034</td>\n",
       "      <td>-0.326</td>\n",
       "      <td>-0.220</td>\n",
       "      <td>0.001</td>\n",
       "      <td>0.001</td>\n",
       "      <td>1317.0</td>\n",
       "      <td>1288.0</td>\n",
       "      <td>1333.0</td>\n",
       "      <td>1325.0</td>\n",
       "      <td>1.0</td>\n",
       "    </tr>\n",
       "    <tr>\n",
       "      <th>sigma</th>\n",
       "      <td>1.381</td>\n",
       "      <td>0.098</td>\n",
       "      <td>1.224</td>\n",
       "      <td>1.522</td>\n",
       "      <td>0.005</td>\n",
       "      <td>0.003</td>\n",
       "      <td>410.0</td>\n",
       "      <td>407.0</td>\n",
       "      <td>413.0</td>\n",
       "      <td>985.0</td>\n",
       "      <td>1.0</td>\n",
       "    </tr>\n",
       "  </tbody>\n",
       "</table>\n",
       "</div>"
      ],
      "text/plain": [
       "        mean     sd  hdi_5.5%  hdi_94.5%  mcse_mean  mcse_sd  ess_mean  \\\n",
       "a      1.453  0.029     1.402      1.494      0.001    0.001    1022.0   \n",
       "bt    -0.010  0.033    -0.059      0.043      0.001    0.001    1338.0   \n",
       "bf    -0.275  0.034    -0.326     -0.220      0.001    0.001    1317.0   \n",
       "sigma  1.381  0.098     1.224      1.522      0.005    0.003     410.0   \n",
       "\n",
       "       ess_sd  ess_bulk  ess_tail  r_hat  \n",
       "a      1018.0    1030.0    1155.0    1.0  \n",
       "bt     1338.0    1337.0    1403.0    1.0  \n",
       "bf     1288.0    1333.0    1325.0    1.0  \n",
       "sigma   407.0     413.0     985.0    1.0  "
      ]
     },
     "execution_count": 59,
     "metadata": {},
     "output_type": "execute_result"
    }
   ],
   "source": [
    "def model_6_7(h0, treatment, fungus):\n",
    "    def _generator():\n",
    "      a = yield Root(tfd.Sample(tfd.LogNormal(loc=0., scale=0.2, name=\"a\"), sample_shape=1))      \n",
    "      bt = yield Root(tfd.Sample(tfd.Normal(loc=0., scale=0.5, name=\"bt\"), sample_shape=1))    \n",
    "      bf = yield Root(tfd.Sample(tfd.Normal(loc=0., scale=0.5, name=\"bf\"), sample_shape=1))    \n",
    "      sigma = yield Root(tfd.Sample(tfd.Exponential(rate=1., name=\"sigma\"), sample_shape=1))\n",
    "        \n",
    "      p = a[...,tf.newaxis] + bt[...,tf.newaxis] * treatment + bf[...,tf.newaxis] * fungus\n",
    "        \n",
    "      mu = h0 * p\n",
    "      scale = sigma[..., tf.newaxis]  \n",
    "        \n",
    "      h1 = yield tfd.Independent(tfd.Normal(loc=mu, scale=scale, name=\"h1\"), reinterpreted_batch_ndims=1)\n",
    "\n",
    "    return tfd.JointDistributionCoroutine(_generator, validate_args=False)    \n",
    "    \n",
    "jdc_6_7 = model_6_7(tdf.h0, tdf.treatment, tdf.fungus)\n",
    "\n",
    "init_state = [\n",
    "    tf.ones([MCMC_NUMBER_OF_CHAINS]),\n",
    "    tf.zeros([MCMC_NUMBER_OF_CHAINS]),\n",
    "    tf.zeros([MCMC_NUMBER_OF_CHAINS]),\n",
    "    tf.ones([MCMC_NUMBER_OF_CHAINS])    \n",
    "]\n",
    "\n",
    "init_config = dict(\n",
    "    a   = dict(state=init_state[0], bijector=tfb.Exp()),\n",
    "    bt  = dict(state=init_state[1], bijector=tfb.Identity()),\n",
    "    bf  = dict(state=init_state[2], bijector=tfb.Identity()),\n",
    "    sigma  = dict(state=init_state[3], bijector=tfb.Exp())\n",
    "\n",
    ")\n",
    "\n",
    "posterior_6_7, trace_6_7 = sample_posterior(\n",
    "                    jdc_6_7, \n",
    "                    observed_data=(tdf.h1,), \n",
    "                    init_config=init_config\n",
    ")\n",
    "\n",
    "az.summary(trace_6_7, hdi_prob=0.89)"
   ]
  },
  {
   "cell_type": "code",
   "execution_count": 60,
   "metadata": {},
   "outputs": [
    {
     "name": "stdout",
     "output_type": "stream",
     "text": [
      "WARNING:tensorflow:11 out of the last 11 calls to <function run_hmc_chain at 0x146576200> triggered tf.function retracing. Tracing is expensive and the excessive number of tracings could be due to (1) creating @tf.function repeatedly in a loop, (2) passing tensors with different shapes, (3) passing Python objects instead of tensors. For (1), please define your @tf.function outside of the loop. For (2), @tf.function has experimental_relax_shapes=True option that relaxes argument shapes that can avoid unnecessary retracing. For (3), please refer to https://www.tensorflow.org/tutorials/customization/performance#python_or_tensor_args and https://www.tensorflow.org/api_docs/python/tf/function for  more details.\n"
     ]
    },
    {
     "data": {
      "text/html": [
       "<div>\n",
       "<style scoped>\n",
       "    .dataframe tbody tr th:only-of-type {\n",
       "        vertical-align: middle;\n",
       "    }\n",
       "\n",
       "    .dataframe tbody tr th {\n",
       "        vertical-align: top;\n",
       "    }\n",
       "\n",
       "    .dataframe thead th {\n",
       "        text-align: right;\n",
       "    }\n",
       "</style>\n",
       "<table border=\"1\" class=\"dataframe\">\n",
       "  <thead>\n",
       "    <tr style=\"text-align: right;\">\n",
       "      <th></th>\n",
       "      <th>mean</th>\n",
       "      <th>sd</th>\n",
       "      <th>hdi_5.5%</th>\n",
       "      <th>hdi_94.5%</th>\n",
       "      <th>mcse_mean</th>\n",
       "      <th>mcse_sd</th>\n",
       "      <th>ess_mean</th>\n",
       "      <th>ess_sd</th>\n",
       "      <th>ess_bulk</th>\n",
       "      <th>ess_tail</th>\n",
       "      <th>r_hat</th>\n",
       "    </tr>\n",
       "  </thead>\n",
       "  <tbody>\n",
       "    <tr>\n",
       "      <th>a</th>\n",
       "      <td>1.287</td>\n",
       "      <td>0.026</td>\n",
       "      <td>1.249</td>\n",
       "      <td>1.329</td>\n",
       "      <td>0.001</td>\n",
       "      <td>0.000</td>\n",
       "      <td>2000.0</td>\n",
       "      <td>1994.0</td>\n",
       "      <td>2001.0</td>\n",
       "      <td>1731.0</td>\n",
       "      <td>1.0</td>\n",
       "    </tr>\n",
       "    <tr>\n",
       "      <th>bt</th>\n",
       "      <td>0.135</td>\n",
       "      <td>0.035</td>\n",
       "      <td>0.079</td>\n",
       "      <td>0.192</td>\n",
       "      <td>0.001</td>\n",
       "      <td>0.000</td>\n",
       "      <td>3375.0</td>\n",
       "      <td>3375.0</td>\n",
       "      <td>3342.0</td>\n",
       "      <td>1514.0</td>\n",
       "      <td>1.0</td>\n",
       "    </tr>\n",
       "    <tr>\n",
       "      <th>sigma</th>\n",
       "      <td>1.795</td>\n",
       "      <td>0.129</td>\n",
       "      <td>1.599</td>\n",
       "      <td>2.002</td>\n",
       "      <td>0.004</td>\n",
       "      <td>0.003</td>\n",
       "      <td>862.0</td>\n",
       "      <td>862.0</td>\n",
       "      <td>894.0</td>\n",
       "      <td>1438.0</td>\n",
       "      <td>1.0</td>\n",
       "    </tr>\n",
       "  </tbody>\n",
       "</table>\n",
       "</div>"
      ],
      "text/plain": [
       "        mean     sd  hdi_5.5%  hdi_94.5%  mcse_mean  mcse_sd  ess_mean  \\\n",
       "a      1.287  0.026     1.249      1.329      0.001    0.000    2000.0   \n",
       "bt     0.135  0.035     0.079      0.192      0.001    0.000    3375.0   \n",
       "sigma  1.795  0.129     1.599      2.002      0.004    0.003     862.0   \n",
       "\n",
       "       ess_sd  ess_bulk  ess_tail  r_hat  \n",
       "a      1994.0    2001.0    1731.0    1.0  \n",
       "bt     3375.0    3342.0    1514.0    1.0  \n",
       "sigma   862.0     894.0    1438.0    1.0  "
      ]
     },
     "execution_count": 60,
     "metadata": {},
     "output_type": "execute_result"
    }
   ],
   "source": [
    "def model_6_8(h0, treatment):\n",
    "    def _generator():\n",
    "      a = yield Root(tfd.Sample(tfd.LogNormal(loc=0., scale=0.2, name=\"a\"), sample_shape=1))      \n",
    "      bt = yield Root(tfd.Sample(tfd.Normal(loc=0., scale=0.5, name=\"bt\"), sample_shape=1))    \n",
    "      sigma = yield Root(tfd.Sample(tfd.Exponential(rate=1., name=\"sigma\"), sample_shape=1))\n",
    "        \n",
    "      p = a[...,tf.newaxis] + bt[...,tf.newaxis] * treatment \n",
    "        \n",
    "      mu = h0 * p\n",
    "      scale = sigma[..., tf.newaxis]  \n",
    "        \n",
    "      h1 = yield tfd.Independent(tfd.Normal(loc=mu, scale=scale, name=\"h1\"), reinterpreted_batch_ndims=1)\n",
    "\n",
    "    return tfd.JointDistributionCoroutine(_generator, validate_args=False)    \n",
    "    \n",
    "jdc_6_8 = model_6_8(tdf.h0, tdf.treatment)\n",
    "\n",
    "init_state = [\n",
    "    tf.ones([MCMC_NUMBER_OF_CHAINS]),\n",
    "    tf.zeros([MCMC_NUMBER_OF_CHAINS]),\n",
    "    tf.ones([MCMC_NUMBER_OF_CHAINS])    \n",
    "]\n",
    "\n",
    "\n",
    "init_config = dict(\n",
    "    a      = dict(state=init_state[0], bijector=tfb.Exp()),\n",
    "    bt     = dict(state=init_state[1], bijector=tfb.Identity()),\n",
    "    sigma  = dict(state=init_state[2], bijector=tfb.Exp())\n",
    "\n",
    ")\n",
    "\n",
    "posterior_6_8, trace_6_8 = sample_posterior(\n",
    "                    jdc_6_8, \n",
    "                    init_config=init_config,\n",
    "                    observed_data=(tdf.h1,))\n",
    "\n",
    "az.summary(trace_6_8, hdi_prob=0.89)"
   ]
  },
  {
   "cell_type": "code",
   "execution_count": 61,
   "metadata": {},
   "outputs": [],
   "source": [
    "# compute the log likelihoods\n",
    "def compute_log_likelihood_6_7(jdc, posterior, trace): \n",
    "    \n",
    "    sample_a  = posterior[\"a\"]\n",
    "    sample_bt = posterior[\"bt\"]\n",
    "    sample_bf = posterior[\"bf\"]\n",
    "    sample_sigma = posterior[\"sigma\"]\n",
    "\n",
    "    ds, samples = jdc.sample_distributions(value=[\n",
    "      sample_a, \n",
    "      sample_bt,\n",
    "      sample_bf,\n",
    "      sample_sigma, \n",
    "      None\n",
    "    ])\n",
    "\n",
    "    log_likelihood_total = ds[-1].distribution.log_prob(tdf.h1).numpy()    \n",
    "    \n",
    "    # we are inserting the log likelihood in the trace\n",
    "    # as well though not required for this exercise\n",
    "    sample_stats = trace.sample_stats\n",
    "    coords = [sample_stats.coords['chain'], sample_stats.coords['draw'], np.arange(100)]\n",
    "    \n",
    "    sample_stats[\"log_likelihood\"] = xr.DataArray(\n",
    "        log_likelihood_total, \n",
    "        coords=coords,  \n",
    "        dims=['chain', 'draw', 'log_likelihood_dim_0'])\n",
    "    \n",
    "    return log_likelihood_total\n",
    "\n",
    "ll_6_7 = compute_log_likelihood_6_7(jdc_6_7, posterior_6_7, trace_6_7)"
   ]
  },
  {
   "cell_type": "code",
   "execution_count": 62,
   "metadata": {},
   "outputs": [
    {
     "name": "stderr",
     "output_type": "stream",
     "text": [
      "/Users/ksachdeva/Desktop/Dev/myoss/rethinking-tfp-interim/env/lib/python3.7/site-packages/arviz/stats/stats.py:1415: UserWarning: For one or more samples the posterior variance of the log predictive densities exceeds 0.4. This could be indication of WAIC starting to fail. \n",
      "See http://arxiv.org/abs/1507.04544 for details\n",
      "  \"For one or more samples the posterior variance of the log predictive \"\n"
     ]
    },
    {
     "data": {
      "text/plain": [
       "Computed from 4000 by 100 log-likelihood matrix\n",
       "\n",
       "              Estimate       SE\n",
       "deviance_waic   353.77    15.43\n",
       "p_waic            3.76        -\n",
       "\n",
       "There has been a warning during the calculation. Please check the results.\n",
       "\n",
       "The scale is now log by default. Use 'scale' argument or 'stats.ic_scale' rcParam if\n",
       "you rely on a specific value.\n",
       "A higher log-score (or a lower deviance) indicates a model with better predictive\n",
       "accuracy."
      ]
     },
     "execution_count": 62,
     "metadata": {},
     "output_type": "execute_result"
    }
   ],
   "source": [
    "# WAIC for model_6_7\n",
    "WAIC_m6_7 = az.waic(trace_6_7, pointwise=True, scale=\"deviance\")\n",
    "WAIC_m6_7"
   ]
  },
  {
   "cell_type": "markdown",
   "metadata": {},
   "source": [
    "##### Code 7.26"
   ]
  },
  {
   "cell_type": "code",
   "execution_count": 63,
   "metadata": {},
   "outputs": [],
   "source": [
    "# likelihoods for rest of the 6_X models\n",
    "def compute_log_likelihood_6_6(jdc, posterior, trace):    \n",
    "    \n",
    "    sample_p  = posterior[\"p\"]\n",
    "    sample_sigma = posterior[\"sigma\"]\n",
    "    \n",
    "    ds, samples = jdc.sample_distributions(value=[\n",
    "      sample_p, \n",
    "      sample_sigma, \n",
    "      None\n",
    "    ])\n",
    "\n",
    "    log_likelihood_total = ds[-1].distribution.log_prob(tdf.h1).numpy()    \n",
    "    \n",
    "    # we are inserting the log likelihood in the trace\n",
    "    # as well though not required for this exercise\n",
    "    sample_stats = trace.sample_stats    \n",
    "    coords = [sample_stats.coords['chain'], sample_stats.coords['draw'], np.arange(100)]\n",
    "    \n",
    "    sample_stats[\"log_likelihood\"] = xr.DataArray(\n",
    "        log_likelihood_total, \n",
    "        coords=coords,  \n",
    "        dims=['chain', 'draw', 'log_likelihood_dim_0'])\n",
    "    \n",
    "    return log_likelihood_total\n",
    "\n",
    "ll_6_6 = compute_log_likelihood_6_6(jdc_6_6, posterior_6_6, trace_6_6)"
   ]
  },
  {
   "cell_type": "code",
   "execution_count": 64,
   "metadata": {},
   "outputs": [],
   "source": [
    "def compute_log_likelihood_6_8(jdc, posterior, trace):    \n",
    "    \n",
    "    sample_a  = posterior[\"a\"]\n",
    "    sample_bt = posterior[\"bt\"]\n",
    "    sample_sigma = posterior[\"sigma\"]\n",
    "\n",
    "    ds, samples = jdc.sample_distributions(value=[\n",
    "      sample_a, \n",
    "      sample_bt, \n",
    "      sample_sigma, \n",
    "      None\n",
    "    ])\n",
    "\n",
    "    log_likelihood_total = ds[-1].distribution.log_prob(tdf.h1).numpy()    \n",
    "    \n",
    "    # we are inserting the log likelihood in the trace\n",
    "    # as well though not required for this exercise\n",
    "    sample_stats = trace.sample_stats    \n",
    "    coords = [sample_stats.coords['chain'], sample_stats.coords['draw'], np.arange(100)]\n",
    "    \n",
    "    sample_stats[\"log_likelihood\"] = xr.DataArray(\n",
    "        log_likelihood_total, \n",
    "        coords=coords,  \n",
    "        dims=['chain', 'draw', 'log_likelihood_dim_0'])\n",
    "    \n",
    "    return log_likelihood_total\n",
    "\n",
    "ll_6_8 = compute_log_likelihood_6_8(jdc_6_8, posterior_6_8, trace_6_8)"
   ]
  },
  {
   "cell_type": "code",
   "execution_count": 65,
   "metadata": {},
   "outputs": [
    {
     "data": {
      "text/html": [
       "<div>\n",
       "<style scoped>\n",
       "    .dataframe tbody tr th:only-of-type {\n",
       "        vertical-align: middle;\n",
       "    }\n",
       "\n",
       "    .dataframe tbody tr th {\n",
       "        vertical-align: top;\n",
       "    }\n",
       "\n",
       "    .dataframe thead th {\n",
       "        text-align: right;\n",
       "    }\n",
       "</style>\n",
       "<table border=\"1\" class=\"dataframe\">\n",
       "  <thead>\n",
       "    <tr style=\"text-align: right;\">\n",
       "      <th></th>\n",
       "      <th>rank</th>\n",
       "      <th>waic</th>\n",
       "      <th>p_waic</th>\n",
       "      <th>d_waic</th>\n",
       "      <th>weight</th>\n",
       "      <th>se</th>\n",
       "      <th>dse</th>\n",
       "      <th>warning</th>\n",
       "      <th>waic_scale</th>\n",
       "    </tr>\n",
       "  </thead>\n",
       "  <tbody>\n",
       "    <tr>\n",
       "      <th>m6.7</th>\n",
       "      <td>0</td>\n",
       "      <td>353.767</td>\n",
       "      <td>3.76219</td>\n",
       "      <td>0</td>\n",
       "      <td>0.999997</td>\n",
       "      <td>12.4666</td>\n",
       "      <td>0</td>\n",
       "      <td>True</td>\n",
       "      <td>deviance</td>\n",
       "    </tr>\n",
       "    <tr>\n",
       "      <th>m6.8</th>\n",
       "      <td>1</td>\n",
       "      <td>403.455</td>\n",
       "      <td>2.71173</td>\n",
       "      <td>49.6885</td>\n",
       "      <td>2.53081e-06</td>\n",
       "      <td>11.4882</td>\n",
       "      <td>11.5071</td>\n",
       "      <td>False</td>\n",
       "      <td>deviance</td>\n",
       "    </tr>\n",
       "    <tr>\n",
       "      <th>m6.6</th>\n",
       "      <td>2</td>\n",
       "      <td>414.454</td>\n",
       "      <td>1.67993</td>\n",
       "      <td>60.6872</td>\n",
       "      <td>4.25258e-07</td>\n",
       "      <td>15.4545</td>\n",
       "      <td>13.2773</td>\n",
       "      <td>False</td>\n",
       "      <td>deviance</td>\n",
       "    </tr>\n",
       "  </tbody>\n",
       "</table>\n",
       "</div>"
      ],
      "text/plain": [
       "     rank     waic   p_waic   d_waic       weight       se      dse warning  \\\n",
       "m6.7    0  353.767  3.76219        0     0.999997  12.4666        0    True   \n",
       "m6.8    1  403.455  2.71173  49.6885  2.53081e-06  11.4882  11.5071   False   \n",
       "m6.6    2  414.454  1.67993  60.6872  4.25258e-07  15.4545  13.2773   False   \n",
       "\n",
       "     waic_scale  \n",
       "m6.7   deviance  \n",
       "m6.8   deviance  \n",
       "m6.6   deviance  "
      ]
     },
     "execution_count": 65,
     "metadata": {},
     "output_type": "execute_result"
    }
   ],
   "source": [
    "compare_df = az.compare({\"m6.6\": trace_6_6, \"m6.7\": trace_6_7, \"m6.8\": trace_6_8}, ic='waic', scale=\"deviance\")\n",
    "\n",
    "compare_df"
   ]
  },
  {
   "cell_type": "markdown",
   "metadata": {},
   "source": [
    "##### Code 7.27 "
   ]
  },
  {
   "cell_type": "code",
   "execution_count": 66,
   "metadata": {},
   "outputs": [
    {
     "name": "stderr",
     "output_type": "stream",
     "text": [
      "/Users/ksachdeva/Desktop/Dev/myoss/rethinking-tfp-interim/env/lib/python3.7/site-packages/arviz/stats/stats.py:1415: UserWarning: For one or more samples the posterior variance of the log predictive densities exceeds 0.4. This could be indication of WAIC starting to fail. \n",
      "See http://arxiv.org/abs/1507.04544 for details\n",
      "  \"For one or more samples the posterior variance of the log predictive \"\n"
     ]
    },
    {
     "data": {
      "text/plain": [
       "array(11.50714615)"
      ]
     },
     "execution_count": 66,
     "metadata": {},
     "output_type": "execute_result"
    }
   ],
   "source": [
    "WAIC_m6_7 = az.waic(trace_6_7, pointwise=True, scale=\"deviance\")\n",
    "WAIC_m6_8 = az.waic(trace_6_8, pointwise=True, scale=\"deviance\")\n",
    "\n",
    "# pointwise values are stored in the waic_i attribute.\n",
    "diff_m_6_7_m_6_8 = WAIC_m6_7.waic_i - WAIC_m6_8.waic_i\n",
    "\n",
    "n = len(diff_m_6_7_m_6_8)\n",
    "\n",
    "np.sqrt(n * np.var(diff_m_6_7_m_6_8)).values"
   ]
  },
  {
   "cell_type": "markdown",
   "metadata": {},
   "source": [
    "##### Code 7.28"
   ]
  },
  {
   "cell_type": "code",
   "execution_count": 67,
   "metadata": {},
   "outputs": [
    {
     "data": {
      "text/plain": [
       "array([12.96, 67.04])"
      ]
     },
     "execution_count": 67,
     "metadata": {},
     "output_type": "execute_result"
    }
   ],
   "source": [
    "40.0 + np.array([-1, 1]) * 10.4 * 2.6"
   ]
  },
  {
   "cell_type": "markdown",
   "metadata": {},
   "source": [
    "##### Code 7.29"
   ]
  },
  {
   "cell_type": "code",
   "execution_count": 68,
   "metadata": {},
   "outputs": [
    {
     "data": {
      "image/png": "[encoded data removed]",
      "text/plain": [
       "<Figure size 432x216 with 1 Axes>"
      ]
     },
     "metadata": {
      "needs_background": "light"
     },
     "output_type": "display_data"
    }
   ],
   "source": [
    "az.plot_compare(compare_df);"
   ]
  },
  {
   "cell_type": "markdown",
   "metadata": {},
   "source": [
    "##### Code 7.30"
   ]
  },
  {
   "cell_type": "code",
   "execution_count": 69,
   "metadata": {},
   "outputs": [
    {
     "data": {
      "text/plain": [
       "array(7.29189128)"
      ]
     },
     "execution_count": 69,
     "metadata": {},
     "output_type": "execute_result"
    }
   ],
   "source": [
    "WAIC_m6_6 = az.waic(trace_6_6, pointwise=True, scale=\"deviance\")\n",
    "\n",
    "diff_m6_6_m6_8 = WAIC_m6_6.waic_i - WAIC_m6_8.waic_i\n",
    "\n",
    "n = WAIC_m6_6.n_data_points\n",
    "\n",
    "np.sqrt(n * np.var(diff_m6_6_m6_8)).values"
   ]
  },
  {
   "cell_type": "markdown",
   "metadata": {},
   "source": [
    "##### Code 7.31"
   ]
  },
  {
   "cell_type": "code",
   "execution_count": 70,
   "metadata": {},
   "outputs": [
    {
     "data": {
      "text/html": [
       "<div>\n",
       "<style scoped>\n",
       "    .dataframe tbody tr th:only-of-type {\n",
       "        vertical-align: middle;\n",
       "    }\n",
       "\n",
       "    .dataframe tbody tr th {\n",
       "        vertical-align: top;\n",
       "    }\n",
       "\n",
       "    .dataframe thead th {\n",
       "        text-align: right;\n",
       "    }\n",
       "</style>\n",
       "<table border=\"1\" class=\"dataframe\">\n",
       "  <thead>\n",
       "    <tr style=\"text-align: right;\">\n",
       "      <th></th>\n",
       "      <th>m6.6</th>\n",
       "      <th>m6.7</th>\n",
       "      <th>m6.8</th>\n",
       "    </tr>\n",
       "  </thead>\n",
       "  <tbody>\n",
       "    <tr>\n",
       "      <th>m6.6</th>\n",
       "      <td>0.000000</td>\n",
       "      <td>13.277282</td>\n",
       "      <td>7.291891</td>\n",
       "    </tr>\n",
       "    <tr>\n",
       "      <th>m6.7</th>\n",
       "      <td>13.277282</td>\n",
       "      <td>0.000000</td>\n",
       "      <td>11.507146</td>\n",
       "    </tr>\n",
       "    <tr>\n",
       "      <th>m6.8</th>\n",
       "      <td>7.291891</td>\n",
       "      <td>11.507146</td>\n",
       "      <td>0.000000</td>\n",
       "    </tr>\n",
       "  </tbody>\n",
       "</table>\n",
       "</div>"
      ],
      "text/plain": [
       "           m6.6       m6.7       m6.8\n",
       "m6.6   0.000000  13.277282   7.291891\n",
       "m6.7  13.277282   0.000000  11.507146\n",
       "m6.8   7.291891  11.507146   0.000000"
      ]
     },
     "execution_count": 70,
     "metadata": {},
     "output_type": "execute_result"
    }
   ],
   "source": [
    "dSE = lambda waic1, waic2: np.sqrt(\n",
    "    n * np.var(waic1.waic_i.values - waic2.waic_i.values))\n",
    "data = {\"m6.6\": WAIC_m6_6, \"m6.7\": WAIC_m6_7, \"m6.8\": WAIC_m6_8}\n",
    "pd.DataFrame(\n",
    "    {row: {col: dSE(row_val, col_val) for col, col_val in data.items()}\n",
    "     for row, row_val in data.items()})"
   ]
  },
  {
   "cell_type": "markdown",
   "metadata": {},
   "source": [
    "### 7.5.2 Outliers and other illusions"
   ]
  },
  {
   "cell_type": "markdown",
   "metadata": {},
   "source": [
    "##### Code 7.32"
   ]
  },
  {
   "cell_type": "code",
   "execution_count": 71,
   "metadata": {},
   "outputs": [],
   "source": [
    "d = pd.read_csv(WAFFLE_DIVORCE_DATASET_PATH, sep=\";\")\n",
    "d[\"A\"] = d.MedianAgeMarriage.pipe(lambda x: (x - x.mean()) / x.std())\n",
    "d[\"D\"] = d.Divorce.pipe(lambda x: (x - x.mean()) / x.std())\n",
    "d[\"M\"] = d.Marriage.pipe(lambda x: (x - x.mean()) / x.std())"
   ]
  },
  {
   "cell_type": "code",
   "execution_count": 72,
   "metadata": {},
   "outputs": [],
   "source": [
    "tdf = df_to_tensors('Waffle', d, ['A', 'D', 'M'])"
   ]
  },
  {
   "cell_type": "code",
   "execution_count": 73,
   "metadata": {},
   "outputs": [
    {
     "name": "stdout",
     "output_type": "stream",
     "text": [
      "WARNING:tensorflow:11 out of the last 11 calls to <function run_hmc_chain at 0x146576200> triggered tf.function retracing. Tracing is expensive and the excessive number of tracings could be due to (1) creating @tf.function repeatedly in a loop, (2) passing tensors with different shapes, (3) passing Python objects instead of tensors. For (1), please define your @tf.function outside of the loop. For (2), @tf.function has experimental_relax_shapes=True option that relaxes argument shapes that can avoid unnecessary retracing. For (3), please refer to https://www.tensorflow.org/tutorials/customization/performance#python_or_tensor_args and https://www.tensorflow.org/api_docs/python/tf/function for  more details.\n",
      "WARNING:tensorflow:11 out of the last 11 calls to <function run_hmc_chain at 0x146576200> triggered tf.function retracing. Tracing is expensive and the excessive number of tracings could be due to (1) creating @tf.function repeatedly in a loop, (2) passing tensors with different shapes, (3) passing Python objects instead of tensors. For (1), please define your @tf.function outside of the loop. For (2), @tf.function has experimental_relax_shapes=True option that relaxes argument shapes that can avoid unnecessary retracing. For (3), please refer to https://www.tensorflow.org/tutorials/customization/performance#python_or_tensor_args and https://www.tensorflow.org/api_docs/python/tf/function for  more details.\n",
      "WARNING:tensorflow:11 out of the last 11 calls to <function run_hmc_chain at 0x146576200> triggered tf.function retracing. Tracing is expensive and the excessive number of tracings could be due to (1) creating @tf.function repeatedly in a loop, (2) passing tensors with different shapes, (3) passing Python objects instead of tensors. For (1), please define your @tf.function outside of the loop. For (2), @tf.function has experimental_relax_shapes=True option that relaxes argument shapes that can avoid unnecessary retracing. For (3), please refer to https://www.tensorflow.org/tutorials/customization/performance#python_or_tensor_args and https://www.tensorflow.org/api_docs/python/tf/function for  more details.\n"
     ]
    }
   ],
   "source": [
    "def model_5_1(A):\n",
    "    def _generator():\n",
    "        alpha = yield Root(tfd.Sample(tfd.Normal(loc=0.,scale=0.2, name=\"alpha\"), sample_shape=1))\n",
    "        betaA = yield Root(tfd.Sample(tfd.Normal(loc=0.,scale=0.5, name=\"betaA\"), sample_shape=1))\n",
    "        sigma = yield Root(tfd.Sample(tfd.Exponential(rate=1., name=\"sigma\"), sample_shape=1))\n",
    "        \n",
    "        mu = alpha[...,tf.newaxis] + betaA[...,tf.newaxis] * A\n",
    "        scale = sigma[...,tf.newaxis]\n",
    "        \n",
    "        D = yield tfd.Independent(tfd.Normal(loc=mu,scale=scale), reinterpreted_batch_ndims=1)\n",
    "        \n",
    "    return tfd.JointDistributionCoroutine(_generator, validate_args=False)\n",
    "\n",
    "def model_5_2(M):\n",
    "    def _generator():\n",
    "        alpha = yield Root(tfd.Sample(tfd.Normal(loc=0.,scale=0.2, name=\"alpha\"), sample_shape=1))\n",
    "        betaM = yield Root(tfd.Sample(tfd.Normal(loc=0.,scale=0.5, name=\"betaM\"), sample_shape=1))\n",
    "        sigma = yield Root(tfd.Sample(tfd.Exponential(rate=1., name=\"sigma\"), sample_shape=1))\n",
    "        \n",
    "        mu = alpha[...,tf.newaxis] + betaM[...,tf.newaxis] * M\n",
    "        scale = sigma[...,tf.newaxis]\n",
    "        \n",
    "        D = yield tfd.Independent(tfd.Normal(loc=mu,scale=scale), reinterpreted_batch_ndims=1)\n",
    "        \n",
    "    return tfd.JointDistributionCoroutine(_generator, validate_args=False)\n",
    "        \n",
    "    \n",
    "def model_5_3(A, M):\n",
    "    def _generator():\n",
    "        alpha = yield Root(tfd.Sample(tfd.Normal(loc=0.,scale=0.2, name=\"alpha\"), sample_shape=1))\n",
    "        betaA = yield Root(tfd.Sample(tfd.Normal(loc=0.,scale=0.5, name=\"betaA\"), sample_shape=1))\n",
    "        betaM = yield Root(tfd.Sample(tfd.Normal(loc=0.,scale=0.5, name=\"betaM\"), sample_shape=1))\n",
    "        sigma = yield Root(tfd.Sample(tfd.Exponential(rate=1., name=\"sigma\"), sample_shape=1))\n",
    "        \n",
    "        mu = alpha[...,tf.newaxis] + betaA[...,tf.newaxis] * A +  betaM[...,tf.newaxis] * M\n",
    "        scale = sigma[...,tf.newaxis]\n",
    "        \n",
    "        D = yield tfd.Independent(tfd.Normal(loc=mu,scale=scale), reinterpreted_batch_ndims=1)\n",
    "        \n",
    "    return tfd.JointDistributionCoroutine(_generator, validate_args=False)\n",
    "\n",
    "\n",
    "jdc_5_1 = model_5_1(tdf.A)\n",
    "jdc_5_2 = model_5_2(tdf.M)\n",
    "jdc_5_3 = model_5_3(tdf.A, tdf.M)\n",
    "\n",
    "\n",
    "def compute_posterior_5_1_and_2(jdc):\n",
    "    init_state = [\n",
    "        tf.zeros([MCMC_NUMBER_OF_CHAINS]),\n",
    "        tf.zeros([MCMC_NUMBER_OF_CHAINS]),\n",
    "        tf.ones([MCMC_NUMBER_OF_CHAINS]),\n",
    "    ]\n",
    "    \n",
    "    init_config = dict(\n",
    "        alpha  = dict(state=init_state[0], bijector=tfb.Identity()),\n",
    "        beta   = dict(state=init_state[1], bijector=tfb.Identity()),\n",
    "        sigma  = dict(state=init_state[2], bijector=tfb.Exp())\n",
    "\n",
    "    )\n",
    "\n",
    "    observed_data = (tdf.D,)\n",
    "\n",
    "    # here I am increasing the sampling size\n",
    "    # to see if that helps\n",
    "    posterior, trace = sample_posterior(\n",
    "                        jdc, \n",
    "                        init_config=init_config,\n",
    "                        observed_data=observed_data)\n",
    "    \n",
    "    return posterior, trace\n",
    "\n",
    "def compute_posterior_5_3():\n",
    "    init_state = [\n",
    "        tf.zeros([MCMC_NUMBER_OF_CHAINS]),\n",
    "        tf.zeros([MCMC_NUMBER_OF_CHAINS]),\n",
    "        tf.zeros([MCMC_NUMBER_OF_CHAINS]),\n",
    "        tf.ones([MCMC_NUMBER_OF_CHAINS]),\n",
    "    ]\n",
    "    \n",
    "    init_config = dict(\n",
    "        alpha  = dict(state=init_state[0], bijector=tfb.Identity()),\n",
    "        betaA  = dict(state=init_state[1], bijector=tfb.Identity()),\n",
    "        betaM  = dict(state=init_state[2], bijector=tfb.Identity()),\n",
    "        sigma  = dict(state=init_state[3], bijector=tfb.Exp())\n",
    "    )\n",
    "\n",
    "    observed_data = (tdf.D,)\n",
    "\n",
    "    # here I am increasing the sampling size\n",
    "    # to see if that helps\n",
    "    posterior, trace = sample_posterior(\n",
    "                        jdc_5_3, \n",
    "                        init_config=init_config,\n",
    "                        observed_data=observed_data)\n",
    "    \n",
    "    return posterior, trace\n",
    "        \n",
    "    \n",
    "posterior_5_1, trace_5_1 = compute_posterior_5_1_and_2(jdc_5_1)\n",
    "posterior_5_2, trace_5_2 = compute_posterior_5_1_and_2(jdc_5_2)\n",
    "posterior_5_3, trace_5_3 = compute_posterior_5_3()"
   ]
  },
  {
   "cell_type": "markdown",
   "metadata": {},
   "source": [
    "##### Code 7.33"
   ]
  },
  {
   "cell_type": "code",
   "execution_count": 74,
   "metadata": {},
   "outputs": [],
   "source": [
    "def compute_log_likelihood_m5_1_2(jdc, posterior, trace):\n",
    "    sample_alpha = posterior[\"alpha\"]\n",
    "    sample_beta  = posterior[\"beta\"]\n",
    "    sample_sigma = posterior[\"sigma\"]\n",
    "\n",
    "    ds, samples = jdc.sample_distributions(value=[\n",
    "      sample_alpha,\n",
    "      sample_beta,\n",
    "      sample_sigma,\n",
    "      None\n",
    "    ])\n",
    "\n",
    "    log_likelihood_total = ds[-1].distribution.log_prob(tdf.D).numpy()    \n",
    "    \n",
    "    # we are inserting the log likelihood in the trace\n",
    "    # as well though not required for this exercise\n",
    "    sample_stats = trace.sample_stats    \n",
    "    coords = [sample_stats.coords['chain'], sample_stats.coords['draw'], np.arange(50)]\n",
    "    sample_stats[\"log_likelihood\"] = xr.DataArray(\n",
    "        log_likelihood_total, \n",
    "        coords=coords,  \n",
    "        dims=['chain', 'draw', 'log_likelihood_dim_0'])\n",
    "    \n",
    "    return log_likelihood_total\n",
    "\n",
    "def compute_log_likelihood_m5_3(jdc, posterior, trace):\n",
    "    sample_alpha = posterior[\"alpha\"]\n",
    "    sample_betaA = posterior[\"betaA\"]\n",
    "    sample_betaM = posterior[\"betaM\"]\n",
    "    sample_sigma = posterior[\"sigma\"]\n",
    "\n",
    "    ds, samples = jdc.sample_distributions(value=[\n",
    "      sample_alpha,\n",
    "      sample_betaA,\n",
    "      sample_betaM,\n",
    "      sample_sigma,\n",
    "      None\n",
    "    ])\n",
    "\n",
    "    log_likelihood_total = ds[-1].distribution.log_prob(tdf.D).numpy()    \n",
    "    \n",
    "    # we are inserting the log likelihood in the trace\n",
    "    # as well though not required for this exercise\n",
    "    sample_stats = trace.sample_stats    \n",
    "    coords = [sample_stats.coords['chain'], sample_stats.coords['draw'], np.arange(50)]\n",
    "    sample_stats[\"log_likelihood\"] = xr.DataArray(\n",
    "        log_likelihood_total, \n",
    "        coords=coords,  \n",
    "        dims=['chain', 'draw', 'log_likelihood_dim_0'])\n",
    "    \n",
    "    return log_likelihood_total\n",
    "\n",
    "    "
   ]
  },
  {
   "cell_type": "code",
   "execution_count": 75,
   "metadata": {},
   "outputs": [],
   "source": [
    "ll_5_1 = compute_log_likelihood_m5_1_2(jdc_5_1, posterior_5_1, trace_5_1)\n",
    "ll_5_2 = compute_log_likelihood_m5_1_2(jdc_5_2, posterior_5_2, trace_5_2)\n",
    "ll_5_3 = compute_log_likelihood_m5_3(jdc_5_3, posterior_5_3, trace_5_3)"
   ]
  },
  {
   "cell_type": "code",
   "execution_count": 76,
   "metadata": {},
   "outputs": [
    {
     "name": "stderr",
     "output_type": "stream",
     "text": [
      "/Users/ksachdeva/Desktop/Dev/myoss/rethinking-tfp-interim/env/lib/python3.7/site-packages/arviz/stats/stats.py:683: UserWarning: Estimated shape parameter of Pareto distribution is greater than 0.7 for one or more samples. You should consider using a more robust model, this is because importance sampling is less likely to work well if the marginal posterior and LOO posterior are very different. This is more likely to happen with a non-robust model and highly influential observations.\n",
      "  \"Estimated shape parameter of Pareto distribution is greater than 0.7 for \"\n"
     ]
    },
    {
     "data": {
      "text/html": [
       "<div>\n",
       "<style scoped>\n",
       "    .dataframe tbody tr th:only-of-type {\n",
       "        vertical-align: middle;\n",
       "    }\n",
       "\n",
       "    .dataframe tbody tr th {\n",
       "        vertical-align: top;\n",
       "    }\n",
       "\n",
       "    .dataframe thead th {\n",
       "        text-align: right;\n",
       "    }\n",
       "</style>\n",
       "<table border=\"1\" class=\"dataframe\">\n",
       "  <thead>\n",
       "    <tr style=\"text-align: right;\">\n",
       "      <th></th>\n",
       "      <th>rank</th>\n",
       "      <th>loo</th>\n",
       "      <th>p_loo</th>\n",
       "      <th>d_loo</th>\n",
       "      <th>weight</th>\n",
       "      <th>se</th>\n",
       "      <th>dse</th>\n",
       "      <th>warning</th>\n",
       "      <th>loo_scale</th>\n",
       "    </tr>\n",
       "  </thead>\n",
       "  <tbody>\n",
       "    <tr>\n",
       "      <th>m5.1</th>\n",
       "      <td>0</td>\n",
       "      <td>126.206</td>\n",
       "      <td>3.74683</td>\n",
       "      <td>0</td>\n",
       "      <td>0.611738</td>\n",
       "      <td>11.7854</td>\n",
       "      <td>0</td>\n",
       "      <td>True</td>\n",
       "      <td>deviance</td>\n",
       "    </tr>\n",
       "    <tr>\n",
       "      <th>m5.3</th>\n",
       "      <td>1</td>\n",
       "      <td>127.602</td>\n",
       "      <td>4.705</td>\n",
       "      <td>1.3956</td>\n",
       "      <td>0.306231</td>\n",
       "      <td>9.53491</td>\n",
       "      <td>0.987093</td>\n",
       "      <td>False</td>\n",
       "      <td>deviance</td>\n",
       "    </tr>\n",
       "    <tr>\n",
       "      <th>m5.2</th>\n",
       "      <td>2</td>\n",
       "      <td>138.927</td>\n",
       "      <td>2.76558</td>\n",
       "      <td>12.7206</td>\n",
       "      <td>0.0820306</td>\n",
       "      <td>11.8329</td>\n",
       "      <td>9.35987</td>\n",
       "      <td>False</td>\n",
       "      <td>deviance</td>\n",
       "    </tr>\n",
       "  </tbody>\n",
       "</table>\n",
       "</div>"
      ],
      "text/plain": [
       "     rank      loo    p_loo    d_loo     weight       se       dse warning  \\\n",
       "m5.1    0  126.206  3.74683        0   0.611738  11.7854         0    True   \n",
       "m5.3    1  127.602    4.705   1.3956   0.306231  9.53491  0.987093   False   \n",
       "m5.2    2  138.927  2.76558  12.7206  0.0820306  11.8329   9.35987   False   \n",
       "\n",
       "     loo_scale  \n",
       "m5.1  deviance  \n",
       "m5.3  deviance  \n",
       "m5.2  deviance  "
      ]
     },
     "execution_count": 76,
     "metadata": {},
     "output_type": "execute_result"
    }
   ],
   "source": [
    "az.compare({\"m5.1\": trace_5_1, \"m5.2\": trace_5_2, 'm5.3' : trace_5_3}, scale=\"deviance\")"
   ]
  },
  {
   "cell_type": "markdown",
   "metadata": {},
   "source": [
    "##### Code 7.34"
   ]
  },
  {
   "cell_type": "code",
   "execution_count": 77,
   "metadata": {
    "scrolled": true
   },
   "outputs": [
    {
     "name": "stderr",
     "output_type": "stream",
     "text": [
      "/Users/ksachdeva/Desktop/Dev/myoss/rethinking-tfp-interim/env/lib/python3.7/site-packages/arviz/stats/stats.py:1415: UserWarning: For one or more samples the posterior variance of the log predictive densities exceeds 0.4. This could be indication of WAIC starting to fail. \n",
      "See http://arxiv.org/abs/1507.04544 for details\n",
      "  \"For one or more samples the posterior variance of the log predictive \"\n"
     ]
    },
    {
     "data": {
      "image/png": "[encoded data removed]",
      "text/plain": [
       "<Figure size 432x288 with 1 Axes>"
      ]
     },
     "metadata": {
      "needs_background": "light"
     },
     "output_type": "display_data"
    }
   ],
   "source": [
    "PSIS_m5_3 = az.loo(trace_5_3, pointwise=True, scale=\"deviance\")\n",
    "WAIC_m5_3 = az.waic(trace_5_3, pointwise=True, scale=\"deviance\")\n",
    "\n",
    "penalty = trace_5_3.sample_stats.log_likelihood.stack(\n",
    "    sample=(\"chain\", \"draw\")).var(dim=\"sample\").values\n",
    "plt.plot(PSIS_m5_3.pareto_k.values, penalty, \"o\", mfc=\"none\")\n",
    "plt.gca().set(xlabel=\"PSIS Pareto k\", ylabel=\"WAIC penalty\");"
   ]
  },
  {
   "cell_type": "code",
   "execution_count": 78,
   "metadata": {},
   "outputs": [
    {
     "data": {
      "image/png": "[encoded data removed]",
      "text/plain": [
       "<Figure size 576x252 with 2 Axes>"
      ]
     },
     "metadata": {
      "needs_background": "light"
     },
     "output_type": "display_data"
    }
   ],
   "source": [
    "# reproduce figure 7.11\n",
    "\n",
    "v = tf.cast(tf.linspace(-4, 4, 100), dtype=tf.float32)\n",
    "\n",
    "g = tfd.Normal(loc=0., scale=1.)\n",
    "t = tfd.StudentT(df=2, loc=0., scale=1.)\n",
    "\n",
    "fig, (ax, lax) = plt.subplots(1, 2, figsize=[8, 3.5])\n",
    "\n",
    "ax.plot(v, g.prob(v), color=\"b\")\n",
    "ax.plot(v, t.prob(v), color=\"k\")\n",
    "\n",
    "lax.plot(v, -g.log_prob(v), color=\"b\")\n",
    "lax.plot(v, -t.log_prob(v), color=\"k\");"
   ]
  },
  {
   "cell_type": "markdown",
   "metadata": {},
   "source": [
    "##### Code 7.35"
   ]
  },
  {
   "cell_type": "code",
   "execution_count": 79,
   "metadata": {},
   "outputs": [
    {
     "name": "stdout",
     "output_type": "stream",
     "text": [
      "WARNING:tensorflow:11 out of the last 11 calls to <function run_hmc_chain at 0x146576200> triggered tf.function retracing. Tracing is expensive and the excessive number of tracings could be due to (1) creating @tf.function repeatedly in a loop, (2) passing tensors with different shapes, (3) passing Python objects instead of tensors. For (1), please define your @tf.function outside of the loop. For (2), @tf.function has experimental_relax_shapes=True option that relaxes argument shapes that can avoid unnecessary retracing. For (3), please refer to https://www.tensorflow.org/tutorials/customization/performance#python_or_tensor_args and https://www.tensorflow.org/api_docs/python/tf/function for  more details.\n"
     ]
    }
   ],
   "source": [
    "def model_5_3t(A, M):\n",
    "    def _generator():\n",
    "        alpha = yield Root(tfd.Sample(tfd.Normal(loc=0.,scale=0.2, name=\"alpha\"), sample_shape=1))\n",
    "        betaA = yield Root(tfd.Sample(tfd.Normal(loc=0.,scale=0.5, name=\"betaA\"), sample_shape=1))\n",
    "        betaM = yield Root(tfd.Sample(tfd.Normal(loc=0.,scale=0.5, name=\"betaM\"), sample_shape=1))\n",
    "        sigma = yield Root(tfd.Sample(tfd.Exponential(rate=1., name=\"sigma\"), sample_shape=1))\n",
    "        \n",
    "        mu = alpha[...,tf.newaxis] + betaA[...,tf.newaxis] * A +  betaM[...,tf.newaxis] * M\n",
    "        scale = sigma[...,tf.newaxis]\n",
    "        \n",
    "        D = yield tfd.Independent(tfd.StudentT(df=2., loc=mu,scale=scale), reinterpreted_batch_ndims=1)\n",
    "        \n",
    "    return tfd.JointDistributionCoroutine(_generator, validate_args=False)\n",
    "\n",
    "\n",
    "jdc_5_3t = model_5_3t(tdf.A, tdf.M)\n",
    "\n",
    "def compute_posterior_5_3t():\n",
    "    init_state = [\n",
    "        tf.zeros([MCMC_NUMBER_OF_CHAINS]),\n",
    "        tf.zeros([MCMC_NUMBER_OF_CHAINS]),\n",
    "        tf.zeros([MCMC_NUMBER_OF_CHAINS]),\n",
    "        tf.ones([MCMC_NUMBER_OF_CHAINS]),\n",
    "    ]\n",
    "\n",
    "    init_config = dict(\n",
    "        alpha  = dict(state=init_state[0], bijector=tfb.Identity()),\n",
    "        betaA  = dict(state=init_state[1], bijector=tfb.Identity()),\n",
    "        betaM  = dict(state=init_state[2], bijector=tfb.Identity()),\n",
    "        sigma  = dict(state=init_state[3], bijector=tfb.Exp())\n",
    "    )\n",
    "\n",
    "\n",
    "    observed_data = (tdf.D,)\n",
    "\n",
    "    # here I am increasing the sampling size\n",
    "    # to see if that helps\n",
    "    posterior, trace = sample_posterior(\n",
    "                        jdc_5_3t, \n",
    "                        init_config=init_config,\n",
    "                        observed_data=observed_data)\n",
    "    \n",
    "    return posterior, trace\n",
    "\n",
    "posterior_5_3t, trace_5_3t = compute_posterior_5_3t()\n",
    "\n",
    "def compute_log_likelihood_m5_3t(jdc, posterior, trace):\n",
    "    sample_alpha = posterior[\"alpha\"]\n",
    "    sample_betaA = posterior[\"betaA\"]\n",
    "    sample_betaM = posterior[\"betaM\"]\n",
    "    sample_sigma = posterior[\"sigma\"]\n",
    "\n",
    "    ds, samples = jdc.sample_distributions(value=[\n",
    "      sample_alpha,\n",
    "      sample_betaA,\n",
    "      sample_betaM,\n",
    "      sample_sigma,\n",
    "      None\n",
    "    ])\n",
    "\n",
    "    log_likelihood_total = ds[-1].distribution.log_prob(tdf.D).numpy()    \n",
    "    \n",
    "    # we are inserting the log likelihood in the trace\n",
    "    # as well though not required for this exercise\n",
    "    sample_stats = trace.sample_stats    \n",
    "    coords = [sample_stats.coords['chain'], sample_stats.coords['draw'], np.arange(50)]\n",
    "    sample_stats[\"log_likelihood\"] = xr.DataArray(\n",
    "        log_likelihood_total, \n",
    "        coords=coords,  \n",
    "        dims=['chain', 'draw', 'log_likelihood_dim_0'])\n",
    "    \n",
    "    return log_likelihood_total"
   ]
  },
  {
   "cell_type": "code",
   "execution_count": 80,
   "metadata": {},
   "outputs": [],
   "source": [
    "ll = compute_log_likelihood_m5_3t(jdc_5_3t, posterior_5_3t, trace_5_3t)"
   ]
  },
  {
   "cell_type": "code",
   "execution_count": 81,
   "metadata": {},
   "outputs": [
    {
     "data": {
      "text/plain": [
       "Computed from 4000 by 50 log-likelihood matrix\n",
       "\n",
       "             Estimate       SE\n",
       "deviance_loo   127.60    12.61\n",
       "p_loo            4.71        -\n",
       "------\n",
       "\n",
       "Pareto k diagnostic values:\n",
       "                         Count   Pct.\n",
       "(-Inf, 0.5]   (good)       49   98.0%\n",
       " (0.5, 0.7]   (ok)          1    2.0%\n",
       "   (0.7, 1]   (bad)         0    0.0%\n",
       "   (1, Inf)   (very bad)    0    0.0%\n",
       "\n",
       "\n",
       "The scale is now log by default. Use 'scale' argument or 'stats.ic_scale' rcParam if\n",
       "you rely on a specific value.\n",
       "A higher log-score (or a lower deviance) indicates a model with better predictive\n",
       "accuracy."
      ]
     },
     "execution_count": 81,
     "metadata": {},
     "output_type": "execute_result"
    }
   ],
   "source": [
    "az.loo(trace_5_3, pointwise=True, scale=\"deviance\")"
   ]
  },
  {
   "cell_type": "code",
   "execution_count": 82,
   "metadata": {},
   "outputs": [
    {
     "data": {
      "text/html": [
       "<div>\n",
       "<style scoped>\n",
       "    .dataframe tbody tr th:only-of-type {\n",
       "        vertical-align: middle;\n",
       "    }\n",
       "\n",
       "    .dataframe tbody tr th {\n",
       "        vertical-align: top;\n",
       "    }\n",
       "\n",
       "    .dataframe thead th {\n",
       "        text-align: right;\n",
       "    }\n",
       "</style>\n",
       "<table border=\"1\" class=\"dataframe\">\n",
       "  <thead>\n",
       "    <tr style=\"text-align: right;\">\n",
       "      <th></th>\n",
       "      <th>rank</th>\n",
       "      <th>loo</th>\n",
       "      <th>p_loo</th>\n",
       "      <th>d_loo</th>\n",
       "      <th>weight</th>\n",
       "      <th>se</th>\n",
       "      <th>dse</th>\n",
       "      <th>warning</th>\n",
       "      <th>loo_scale</th>\n",
       "    </tr>\n",
       "  </thead>\n",
       "  <tbody>\n",
       "    <tr>\n",
       "      <th>m5.3</th>\n",
       "      <td>0</td>\n",
       "      <td>127.602</td>\n",
       "      <td>4.705</td>\n",
       "      <td>0</td>\n",
       "      <td>0.792884</td>\n",
       "      <td>12.8592</td>\n",
       "      <td>0</td>\n",
       "      <td>False</td>\n",
       "      <td>deviance</td>\n",
       "    </tr>\n",
       "    <tr>\n",
       "      <th>m5.3t</th>\n",
       "      <td>1</td>\n",
       "      <td>132.377</td>\n",
       "      <td>5.80775</td>\n",
       "      <td>4.77562</td>\n",
       "      <td>0.207116</td>\n",
       "      <td>11.5347</td>\n",
       "      <td>5.72737</td>\n",
       "      <td>False</td>\n",
       "      <td>deviance</td>\n",
       "    </tr>\n",
       "  </tbody>\n",
       "</table>\n",
       "</div>"
      ],
      "text/plain": [
       "      rank      loo    p_loo    d_loo    weight       se      dse warning  \\\n",
       "m5.3     0  127.602    4.705        0  0.792884  12.8592        0   False   \n",
       "m5.3t    1  132.377  5.80775  4.77562  0.207116  11.5347  5.72737   False   \n",
       "\n",
       "      loo_scale  \n",
       "m5.3   deviance  \n",
       "m5.3t  deviance  "
      ]
     },
     "execution_count": 82,
     "metadata": {},
     "output_type": "execute_result"
    }
   ],
   "source": [
    "az.compare({'m5.3' : trace_5_3, 'm5.3t' : trace_5_3t}, scale=\"deviance\")"
   ]
  },
  {
   "cell_type": "code",
   "execution_count": 83,
   "metadata": {},
   "outputs": [
    {
     "data": {
      "text/html": [
       "<div>\n",
       "<style scoped>\n",
       "    .dataframe tbody tr th:only-of-type {\n",
       "        vertical-align: middle;\n",
       "    }\n",
       "\n",
       "    .dataframe tbody tr th {\n",
       "        vertical-align: top;\n",
       "    }\n",
       "\n",
       "    .dataframe thead th {\n",
       "        text-align: right;\n",
       "    }\n",
       "</style>\n",
       "<table border=\"1\" class=\"dataframe\">\n",
       "  <thead>\n",
       "    <tr style=\"text-align: right;\">\n",
       "      <th></th>\n",
       "      <th>mean</th>\n",
       "      <th>sd</th>\n",
       "      <th>hdi_5.5%</th>\n",
       "      <th>hdi_94.5%</th>\n",
       "      <th>mcse_mean</th>\n",
       "      <th>mcse_sd</th>\n",
       "      <th>ess_mean</th>\n",
       "      <th>ess_sd</th>\n",
       "      <th>ess_bulk</th>\n",
       "      <th>ess_tail</th>\n",
       "      <th>r_hat</th>\n",
       "    </tr>\n",
       "  </thead>\n",
       "  <tbody>\n",
       "    <tr>\n",
       "      <th>alpha</th>\n",
       "      <td>0.000</td>\n",
       "      <td>0.105</td>\n",
       "      <td>-0.164</td>\n",
       "      <td>0.174</td>\n",
       "      <td>0.004</td>\n",
       "      <td>0.003</td>\n",
       "      <td>701.0</td>\n",
       "      <td>701.0</td>\n",
       "      <td>703.0</td>\n",
       "      <td>759.0</td>\n",
       "      <td>1.01</td>\n",
       "    </tr>\n",
       "    <tr>\n",
       "      <th>betaA</th>\n",
       "      <td>-0.604</td>\n",
       "      <td>0.155</td>\n",
       "      <td>-0.878</td>\n",
       "      <td>-0.384</td>\n",
       "      <td>0.004</td>\n",
       "      <td>0.004</td>\n",
       "      <td>1401.0</td>\n",
       "      <td>951.0</td>\n",
       "      <td>1247.0</td>\n",
       "      <td>343.0</td>\n",
       "      <td>1.00</td>\n",
       "    </tr>\n",
       "    <tr>\n",
       "      <th>betaM</th>\n",
       "      <td>-0.057</td>\n",
       "      <td>0.157</td>\n",
       "      <td>-0.310</td>\n",
       "      <td>0.190</td>\n",
       "      <td>0.005</td>\n",
       "      <td>0.006</td>\n",
       "      <td>1132.0</td>\n",
       "      <td>361.0</td>\n",
       "      <td>1153.0</td>\n",
       "      <td>412.0</td>\n",
       "      <td>1.00</td>\n",
       "    </tr>\n",
       "    <tr>\n",
       "      <th>sigma</th>\n",
       "      <td>0.829</td>\n",
       "      <td>0.086</td>\n",
       "      <td>0.692</td>\n",
       "      <td>0.959</td>\n",
       "      <td>0.002</td>\n",
       "      <td>0.001</td>\n",
       "      <td>1698.0</td>\n",
       "      <td>1698.0</td>\n",
       "      <td>1692.0</td>\n",
       "      <td>1749.0</td>\n",
       "      <td>1.00</td>\n",
       "    </tr>\n",
       "  </tbody>\n",
       "</table>\n",
       "</div>"
      ],
      "text/plain": [
       "        mean     sd  hdi_5.5%  hdi_94.5%  mcse_mean  mcse_sd  ess_mean  \\\n",
       "alpha  0.000  0.105    -0.164      0.174      0.004    0.003     701.0   \n",
       "betaA -0.604  0.155    -0.878     -0.384      0.004    0.004    1401.0   \n",
       "betaM -0.057  0.157    -0.310      0.190      0.005    0.006    1132.0   \n",
       "sigma  0.829  0.086     0.692      0.959      0.002    0.001    1698.0   \n",
       "\n",
       "       ess_sd  ess_bulk  ess_tail  r_hat  \n",
       "alpha   701.0     703.0     759.0   1.01  \n",
       "betaA   951.0    1247.0     343.0   1.00  \n",
       "betaM   361.0    1153.0     412.0   1.00  \n",
       "sigma  1698.0    1692.0    1749.0   1.00  "
      ]
     },
     "execution_count": 83,
     "metadata": {},
     "output_type": "execute_result"
    }
   ],
   "source": [
    "az.summary(trace_5_3, hdi_prob=0.89)"
   ]
  },
  {
   "cell_type": "code",
   "execution_count": 84,
   "metadata": {},
   "outputs": [
    {
     "data": {
      "text/html": [
       "<div>\n",
       "<style scoped>\n",
       "    .dataframe tbody tr th:only-of-type {\n",
       "        vertical-align: middle;\n",
       "    }\n",
       "\n",
       "    .dataframe tbody tr th {\n",
       "        vertical-align: top;\n",
       "    }\n",
       "\n",
       "    .dataframe thead th {\n",
       "        text-align: right;\n",
       "    }\n",
       "</style>\n",
       "<table border=\"1\" class=\"dataframe\">\n",
       "  <thead>\n",
       "    <tr style=\"text-align: right;\">\n",
       "      <th></th>\n",
       "      <th>mean</th>\n",
       "      <th>sd</th>\n",
       "      <th>hdi_5.5%</th>\n",
       "      <th>hdi_94.5%</th>\n",
       "      <th>mcse_mean</th>\n",
       "      <th>mcse_sd</th>\n",
       "      <th>ess_mean</th>\n",
       "      <th>ess_sd</th>\n",
       "      <th>ess_bulk</th>\n",
       "      <th>ess_tail</th>\n",
       "      <th>r_hat</th>\n",
       "    </tr>\n",
       "  </thead>\n",
       "  <tbody>\n",
       "    <tr>\n",
       "      <th>alpha</th>\n",
       "      <td>0.025</td>\n",
       "      <td>0.099</td>\n",
       "      <td>-0.143</td>\n",
       "      <td>0.177</td>\n",
       "      <td>0.004</td>\n",
       "      <td>0.003</td>\n",
       "      <td>615.0</td>\n",
       "      <td>615.0</td>\n",
       "      <td>618.0</td>\n",
       "      <td>859.0</td>\n",
       "      <td>1.00</td>\n",
       "    </tr>\n",
       "    <tr>\n",
       "      <th>betaA</th>\n",
       "      <td>-0.695</td>\n",
       "      <td>0.147</td>\n",
       "      <td>-0.915</td>\n",
       "      <td>-0.457</td>\n",
       "      <td>0.003</td>\n",
       "      <td>0.003</td>\n",
       "      <td>1773.0</td>\n",
       "      <td>1338.0</td>\n",
       "      <td>1765.0</td>\n",
       "      <td>615.0</td>\n",
       "      <td>1.00</td>\n",
       "    </tr>\n",
       "    <tr>\n",
       "      <th>betaM</th>\n",
       "      <td>0.048</td>\n",
       "      <td>0.198</td>\n",
       "      <td>-0.279</td>\n",
       "      <td>0.336</td>\n",
       "      <td>0.004</td>\n",
       "      <td>0.004</td>\n",
       "      <td>2508.0</td>\n",
       "      <td>1574.0</td>\n",
       "      <td>2375.0</td>\n",
       "      <td>919.0</td>\n",
       "      <td>1.00</td>\n",
       "    </tr>\n",
       "    <tr>\n",
       "      <th>sigma</th>\n",
       "      <td>0.580</td>\n",
       "      <td>0.085</td>\n",
       "      <td>0.458</td>\n",
       "      <td>0.719</td>\n",
       "      <td>0.002</td>\n",
       "      <td>0.001</td>\n",
       "      <td>2894.0</td>\n",
       "      <td>1823.0</td>\n",
       "      <td>4405.0</td>\n",
       "      <td>349.0</td>\n",
       "      <td>1.01</td>\n",
       "    </tr>\n",
       "  </tbody>\n",
       "</table>\n",
       "</div>"
      ],
      "text/plain": [
       "        mean     sd  hdi_5.5%  hdi_94.5%  mcse_mean  mcse_sd  ess_mean  \\\n",
       "alpha  0.025  0.099    -0.143      0.177      0.004    0.003     615.0   \n",
       "betaA -0.695  0.147    -0.915     -0.457      0.003    0.003    1773.0   \n",
       "betaM  0.048  0.198    -0.279      0.336      0.004    0.004    2508.0   \n",
       "sigma  0.580  0.085     0.458      0.719      0.002    0.001    2894.0   \n",
       "\n",
       "       ess_sd  ess_bulk  ess_tail  r_hat  \n",
       "alpha   615.0     618.0     859.0   1.00  \n",
       "betaA  1338.0    1765.0     615.0   1.00  \n",
       "betaM  1574.0    2375.0     919.0   1.00  \n",
       "sigma  1823.0    4405.0     349.0   1.01  "
      ]
     },
     "execution_count": 84,
     "metadata": {},
     "output_type": "execute_result"
    }
   ],
   "source": [
    "az.summary(trace_5_3t, hdi_prob=0.89)"
   ]
  }
 ],
 "metadata": {
  "kernelspec": {
   "display_name": "Python 3",
   "language": "python",
   "name": "python3"
  },
  "language_info": {
   "codemirror_mode": {
    "name": "ipython",
    "version": 3
   },
   "file_extension": ".py",
   "mimetype": "text/x-python",
   "name": "python",
   "nbconvert_exporter": "python",
   "pygments_lexer": "ipython3",
   "version": "3.7.5"
  },
  "toc": {
   "base_numbering": 1,
   "nav_menu": {},
   "number_sections": true,
   "sideBar": true,
   "skip_h1_title": false,
   "title_cell": "Table of Contents",
   "title_sidebar": "Contents",
   "toc_cell": false,
   "toc_position": {},
   "toc_section_display": true,
   "toc_window_display": false
  }
 },
 "nbformat": 4,
 "nbformat_minor": 4
}
