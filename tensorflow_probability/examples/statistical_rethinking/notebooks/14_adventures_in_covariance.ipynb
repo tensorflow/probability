{
 "cells": [
  {
   "cell_type": "markdown",
   "metadata": {},
   "source": [
    "##### Copyright 2020 The TensorFlow Authors.\n",
    "\n",
    "Licensed under the Apache License, Version 2.0 (the \"License\");"
   ]
  },
  {
   "cell_type": "code",
   "execution_count": 1,
   "metadata": {},
   "outputs": [],
   "source": [
    "#@title Licensed under the Apache License, Version 2.0 (the \"License\"); { display-mode: \"form\" }\n",
    "# you may not use this file except in compliance with the License.\n",
    "# You may obtain a copy of the License at\n",
    "#\n",
    "# https://www.apache.org/licenses/LICENSE-2.0\n",
    "#\n",
    "# Unless required by applicable law or agreed to in writing, software\n",
    "# distributed under the License is distributed on an \"AS IS\" BASIS,\n",
    "# WITHOUT WARRANTIES OR CONDITIONS OF ANY KIND, either express or implied.\n",
    "# See the License for the specific language governing permissions and\n",
    "# limitations under the License."
   ]
  },
  {
   "cell_type": "markdown",
   "metadata": {},
   "source": [
    "# Chapter 14 - Adventures in Covariance\n",
    "\n",
    "<table class=\"tfo-notebook-buttons\" align=\"left\">\n",
    "  <td>\n",
    "    <a target=\"_blank\" href=\"https://www.tensorflow.org/probability/examples/statistical_rethinking/notebooks/14_adventures_in_covariance\"><img src=\"https://www.tensorflow.org/images/tf_logo_32px.png\" />View on TensorFlow.org</a>\n",
    "  </td>\n",
    "  <td>\n",
    "    <a target=\"_blank\" href=\"https://colab.research.google.com/github/tensorflow/probability/blob/master/tensorflow_probability/examples/statistical_rethinking/notebooks/14_adventures_in_covariance.ipynb\"><img src=\"https://www.tensorflow.org/images/colab_logo_32px.png\" />Run in Google Colab</a>\n",
    "  </td>\n",
    "  <td>\n",
    "    <a target=\"_blank\" href=\"https://github.com/tensorflow/probability/blob/master/tensorflow_probability/examples/statistical_rethinking/notebooks/14_adventures_in_covariance.ipynb\"><img src=\"https://www.tensorflow.org/images/GitHub-Mark-32px.png\" />View source on GitHub</a>\n",
    "  </td>\n",
    "  <td>\n",
    "    <a href=\"https://storage.googleapis.com/tensorflow_docs/probability/examples/statistical_rethinking/notebooks/14_adventures_in_covariance.ipynb\"><img src=\"https://www.tensorflow.org/images/download_logo_32px.png\" />Download notebook</a>\n",
    "  </td>\n",
    "</table>"
   ]
  },
  {
   "cell_type": "markdown",
   "metadata": {},
   "source": [
    "## Imports and utility functions\n"
   ]
  },
  {
   "cell_type": "code",
   "execution_count": 2,
   "metadata": {},
   "outputs": [],
   "source": [
    "#@title Install { display-mode: \"form\" }\n",
    "TF_Installation = 'System' #@param ['TF Nightly', 'TF Stable', 'System']\n",
    "\n",
    "if TF_Installation == 'TF Nightly':\n",
    "  !pip install -q --upgrade tf-nightly\n",
    "  print('Installation of `tf-nightly` complete.')\n",
    "elif TF_Installation == 'TF Stable':\n",
    "  !pip install -q --upgrade tensorflow\n",
    "  print('Installation of `tensorflow` complete.')\n",
    "elif TF_Installation == 'System':\n",
    "  pass\n",
    "else:\n",
    "  raise ValueError('Selection Error: Please select a valid '\n",
    "                   'installation option.')"
   ]
  },
  {
   "cell_type": "code",
   "execution_count": 3,
   "metadata": {},
   "outputs": [],
   "source": [
    "#@title Install { display-mode: \"form\" }\n",
    "TFP_Installation = \"System\" #@param [\"Nightly\", \"Stable\", \"System\"]\n",
    "\n",
    "if TFP_Installation == \"Nightly\":\n",
    "  !pip install -q tfp-nightly\n",
    "  print(\"Installation of `tfp-nightly` complete.\")\n",
    "elif TFP_Installation == \"Stable\":\n",
    "  !pip install -q --upgrade tensorflow-probability\n",
    "  print(\"Installation of `tensorflow-probability` complete.\")\n",
    "elif TFP_Installation == \"System\":\n",
    "  pass\n",
    "else:\n",
    "  raise ValueError(\"Selection Error: Please select a valid \"\n",
    "                   \"installation option.\")"
   ]
  },
  {
   "cell_type": "code",
   "execution_count": 4,
   "metadata": {},
   "outputs": [],
   "source": [
    "#@title Install { display-mode: \"form\" }\n",
    "\n",
    "# Install packages that are not installed in colab\n",
    "try:\n",
    "  import google.colab\n",
    "  IN_COLAB = True\n",
    "except:\n",
    "  IN_COLAB = False\n",
    "\n",
    "if IN_COLAB:\n",
    "    print(\"Installing arviz ...\")\n",
    "    !pip install -q arviz"
   ]
  },
  {
   "cell_type": "code",
   "execution_count": 5,
   "metadata": {},
   "outputs": [],
   "source": [
    "# Core\n",
    "import numpy as np\n",
    "import arviz as az\n",
    "import pandas as pd\n",
    "import xarray as xr\n",
    "import tensorflow as tf\n",
    "import tensorflow_probability as tfp\n",
    "\n",
    "# visualization \n",
    "import matplotlib.pyplot as plt\n",
    "from matplotlib.patches import Ellipse, transforms\n",
    "\n",
    "# aliases\n",
    "tfd = tfp.distributions\n",
    "tfb = tfp.bijectors\n",
    "Root = tfd.JointDistributionCoroutine.Root"
   ]
  },
  {
   "cell_type": "code",
   "execution_count": 6,
   "metadata": {},
   "outputs": [],
   "source": [
    "az.style.use('seaborn-colorblind')"
   ]
  },
  {
   "cell_type": "markdown",
   "metadata": {},
   "source": [
    "## Sampling helpers\n"
   ]
  },
  {
   "cell_type": "code",
   "execution_count": 7,
   "metadata": {},
   "outputs": [],
   "source": [
    "USE_XLA = False              #@param\n",
    "\n",
    "def _trace_to_arviz(trace=None,\n",
    "                   sample_stats=None,\n",
    "                   observed_data=None,\n",
    "                   prior_predictive=None,\n",
    "                   posterior_predictive=None,\n",
    "                   inplace=True):\n",
    "\n",
    "    if trace is not None and isinstance(trace, dict):\n",
    "        trace = {k: v.numpy()\n",
    "                 for k, v in trace.items()}\n",
    "    if sample_stats is not None and isinstance(sample_stats, dict):\n",
    "        sample_stats = {k: v.numpy().T for k, v in sample_stats.items()}\n",
    "    if prior_predictive is not None and isinstance(prior_predictive, dict):\n",
    "        prior_predictive = {k: v[np.newaxis]\n",
    "                            for k, v in prior_predictive.items()}\n",
    "    if posterior_predictive is not None and isinstance(posterior_predictive, dict):\n",
    "        if isinstance(trace, az.InferenceData) and inplace == True:\n",
    "            return trace + az.from_dict(posterior_predictive=posterior_predictive)\n",
    "        else:\n",
    "            trace = None\n",
    "\n",
    "    return az.from_dict(\n",
    "        posterior=trace,\n",
    "        sample_stats=sample_stats,\n",
    "        prior_predictive=prior_predictive,\n",
    "        posterior_predictive=posterior_predictive,\n",
    "        observed_data=observed_data,\n",
    "    )\n",
    "\n"
   ]
  },
  {
   "cell_type": "code",
   "execution_count": 8,
   "metadata": {},
   "outputs": [],
   "source": [
    "NUMBER_OF_SAMPLES = 2000           #@param\n",
    "\n",
    "MCMC_NUMBER_OF_CHAINS  = 2         #@param \n",
    "MCMC_NUMBER_OF_BURNIN  = 1000      #@param\n",
    "MCMC_NUMBER_OF_LEAPFROG_STEPS = 4  #@param\n",
    "\n",
    "@tf.function(autograph=False, experimental_compile=USE_XLA)\n",
    "def run_hmc_chain(init_state,\n",
    "                  bijectors, \n",
    "                  step_size, \n",
    "                  target_log_prob_fn, \n",
    "                  num_leapfrog_steps=MCMC_NUMBER_OF_LEAPFROG_STEPS,\n",
    "                  num_samples=NUMBER_OF_SAMPLES,\n",
    "                  burnin=MCMC_NUMBER_OF_BURNIN):    \n",
    "\n",
    "    def _trace_fn_transitioned(_, pkr):\n",
    "        return (\n",
    "            pkr.inner_results.inner_results.log_accept_ratio\n",
    "        )\n",
    "\n",
    "    hmc_kernel = tfp.mcmc.HamiltonianMonteCarlo(\n",
    "        target_log_prob_fn,\n",
    "        num_leapfrog_steps=num_leapfrog_steps,\n",
    "        step_size=step_size,\n",
    "    )         \n",
    "\n",
    "    inner_kernel = tfp.mcmc.TransformedTransitionKernel(\n",
    "        inner_kernel=hmc_kernel,\n",
    "        bijector=bijectors,\n",
    "    )       \n",
    "\n",
    "    kernel = tfp.mcmc.SimpleStepSizeAdaptation(\n",
    "        inner_kernel=inner_kernel,\n",
    "        target_accept_prob=.8,\n",
    "        num_adaptation_steps=int(0.8*burnin),\n",
    "        log_accept_prob_getter_fn=lambda pkr: pkr.inner_results.log_accept_ratio\n",
    "    )    \n",
    "\n",
    "    results, sampler_stat = tfp.mcmc.sample_chain(\n",
    "        num_results=num_samples,\n",
    "        num_burnin_steps=burnin,\n",
    "        current_state=init_state,\n",
    "        kernel=kernel,\n",
    "        trace_fn=_trace_fn_transitioned)\n",
    "\n",
    "    return results, sampler_stat    \n",
    "\n",
    "def sample_posterior(\n",
    "              jdc, \n",
    "              observed_data,\n",
    "              init_config,\n",
    "              mcmc_config=dict(),\n",
    "              num_samples=NUMBER_OF_SAMPLES):\n",
    "    \n",
    "    assert init_config is not None\n",
    "    \n",
    "    # expecting the order of keys is same \n",
    "    # as that of definition in the model function\n",
    "    params = init_config.keys()\n",
    "    \n",
    "    init_state = []\n",
    "    bijectors = []\n",
    "    for p in params:\n",
    "        init_state.append(init_config[p]['state'])\n",
    "        bijectors.append(init_config[p]['bijector'])\n",
    "\n",
    "    target_log_prob_fn = lambda *x: jdc.log_prob(x + observed_data)  \n",
    "    \n",
    "    \n",
    "    step_size  = mcmc_config.get('step_size', 0.1)\n",
    "    num_chains = mcmc_config.get('num_chains', MCMC_NUMBER_OF_CHAINS)\n",
    "    burnin     = mcmc_config.get('burnin', MCMC_NUMBER_OF_BURNIN)\n",
    "    \n",
    "    results, sample_stats = run_hmc_chain(\n",
    "        init_state,\n",
    "        bijectors,\n",
    "        step_size=step_size,\n",
    "        target_log_prob_fn=target_log_prob_fn,                                      \n",
    "        num_samples=num_samples, \n",
    "        burnin=burnin,\n",
    "    )\n",
    "\n",
    "    stat_names = ['mean_tree_accept']\n",
    "    sampler_stats = dict(zip(stat_names, [sample_stats]))      \n",
    "        \n",
    "    transposed_results = []\n",
    "    \n",
    "    for r in results:        \n",
    "        if len(r.shape) == 2:\n",
    "            transposed_shape = [1,0]\n",
    "        elif len(r.shape) == 3:\n",
    "            transposed_shape = [1,0,2] \n",
    "        else:\n",
    "            transposed_shape = [1,0,2,3] \n",
    "        \n",
    "        transposed_results.append(tf.transpose(r, transposed_shape))\n",
    "\n",
    "    posterior = dict(zip(params, transposed_results))        \n",
    "\n",
    "    az_trace = _trace_to_arviz(trace=posterior, sample_stats=sampler_stats)\n",
    "\n",
    "    return posterior, az_trace"
   ]
  },
  {
   "cell_type": "markdown",
   "metadata": {},
   "source": [
    "## Dataset URLs\n"
   ]
  },
  {
   "cell_type": "code",
   "execution_count": 9,
   "metadata": {},
   "outputs": [],
   "source": [
    "# You could change base url to local dir or a remoate raw github content\n",
    "_BASE_URL = \"https://raw.githubusercontent.com/rmcelreath/rethinking/master/data\"\n",
    "\n",
    "CHIMPANZEE_DATASET_PATH = f\"{_BASE_URL}/chimpanzees.csv\"\n",
    "KOSTER_LECKIE_DATASET_PATH = f\"{_BASE_URL}/KosterLeckie.csv\"\n",
    "ISLANDS_DISTMATRIX_DATASET_PATH = f\"{_BASE_URL}/islandsDistMatrix.csv\"\n",
    "KLINE_DATASET_PATH = f\"{_BASE_URL}/Kline2.csv\"\n",
    "PRIMATES301_DATASET_PATH = f\"{_BASE_URL}/Primates301.csv\"\n",
    "PRIMATES301_VCOV_DATASET_PATH = f\"{_BASE_URL}/Primates301_vcov_matrix.csv\"\n",
    "PRIMATES301_DISTANCE_DATASET_PATH = f\"{_BASE_URL}/Primates301_distance_matrix.csv\""
   ]
  },
  {
   "cell_type": "markdown",
   "metadata": {},
   "source": [
    "# Introduction"
   ]
  },
  {
   "cell_type": "markdown",
   "metadata": {},
   "source": [
    "## 14.1 Varying slopes by construction"
   ]
  },
  {
   "cell_type": "markdown",
   "metadata": {},
   "source": [
    "### 14.1.1 Simulate the population"
   ]
  },
  {
   "cell_type": "markdown",
   "metadata": {},
   "source": [
    "##### Code 14.1\n",
    "\n",
    "Simulate the population"
   ]
  },
  {
   "cell_type": "code",
   "execution_count": 10,
   "metadata": {},
   "outputs": [],
   "source": [
    "a = 3.5  # average morning wait time\n",
    "b = -1  # average difference afternoon wait time\n",
    "sigma_a = 1  # std dev in intercepts\n",
    "sigma_b = 0.5  # std dev in slopes\n",
    "rho = -0.7  # correlation between intercepts and slopes"
   ]
  },
  {
   "cell_type": "markdown",
   "metadata": {},
   "source": [
    "##### Code 14.2"
   ]
  },
  {
   "cell_type": "code",
   "execution_count": 11,
   "metadata": {},
   "outputs": [],
   "source": [
    "Mu = tf.constant([a, b])"
   ]
  },
  {
   "cell_type": "markdown",
   "metadata": {},
   "source": [
    "The value in a is the mean intercept, the wait in the morning. And the value in b is the mean slope, the difference in wait between afternoon and morning"
   ]
  },
  {
   "cell_type": "markdown",
   "metadata": {},
   "source": [
    "##### Code 14.3"
   ]
  },
  {
   "cell_type": "code",
   "execution_count": 12,
   "metadata": {},
   "outputs": [],
   "source": [
    "cov_ab = sigma_a * sigma_b * rho\n",
    "Sigma = tf.constant([[sigma_a ** 2, cov_ab], [cov_ab, sigma_b ** 2]])"
   ]
  },
  {
   "cell_type": "markdown",
   "metadata": {},
   "source": [
    "##### Code 14.4"
   ]
  },
  {
   "cell_type": "code",
   "execution_count": 13,
   "metadata": {},
   "outputs": [
    {
     "data": {
      "text/plain": [
       "<tf.Tensor: shape=(2, 2), dtype=int32, numpy=\n",
       "array([[1, 3],\n",
       "       [2, 4]], dtype=int32)>"
      ]
     },
     "execution_count": 13,
     "metadata": {},
     "output_type": "execute_result"
    }
   ],
   "source": [
    "tf.transpose(tf.reshape(tf.constant([1, 2, 3, 4]), (2, 2)))"
   ]
  },
  {
   "cell_type": "markdown",
   "metadata": {},
   "source": [
    "##### Code 14.5"
   ]
  },
  {
   "cell_type": "code",
   "execution_count": 14,
   "metadata": {},
   "outputs": [
    {
     "data": {
      "text/plain": [
       "<tf.Tensor: shape=(2, 2), dtype=float32, numpy=\n",
       "array([[ 1.  , -0.35],\n",
       "       [-0.35,  0.25]], dtype=float32)>"
      ]
     },
     "execution_count": 14,
     "metadata": {},
     "output_type": "execute_result"
    }
   ],
   "source": [
    "sigmas = tf.constant([sigma_a, sigma_b])  # standard deviations\n",
    "Rho = tf.constant([[1, rho], [rho, 1]])  # correlation matrix\n",
    "\n",
    "# now matrix multiply to get covariance matrix\n",
    "Sigma = tf.linalg.tensor_diag(sigmas) @ Rho @ tf.linalg.tensor_diag(sigmas)\n",
    "\n",
    "Sigma"
   ]
  },
  {
   "cell_type": "markdown",
   "metadata": {},
   "source": [
    "##### Code 14.6"
   ]
  },
  {
   "cell_type": "code",
   "execution_count": 15,
   "metadata": {},
   "outputs": [],
   "source": [
    "N_cafes = 20"
   ]
  },
  {
   "cell_type": "markdown",
   "metadata": {},
   "source": [
    "##### Code 14.7"
   ]
  },
  {
   "cell_type": "code",
   "execution_count": 16,
   "metadata": {},
   "outputs": [],
   "source": [
    "def build_vary_effects():\n",
    "  _seed = 5\n",
    "  tf.random.set_seed(_seed)\n",
    "\n",
    "  seed = tfp.util.SeedStream(_seed, salt=\"vary_effects\")    \n",
    "  \n",
    "  Mu = tf.constant([a, b])  \n",
    "\n",
    "  vary_effects = tfd.MultivariateNormalTriL(\n",
    "      loc=Mu,\n",
    "      scale_tril=tf.linalg.cholesky(Sigma)).sample((N_cafes,), seed=seed())\n",
    "    \n",
    "\n",
    "  return vary_effects\n",
    "\n",
    "vary_effects = build_vary_effects()"
   ]
  },
  {
   "cell_type": "markdown",
   "metadata": {},
   "source": [
    "##### Code 14.8"
   ]
  },
  {
   "cell_type": "code",
   "execution_count": 17,
   "metadata": {},
   "outputs": [],
   "source": [
    "a_cafe = vary_effects[:, 0]\n",
    "b_cafe = vary_effects[:, 1]"
   ]
  },
  {
   "cell_type": "markdown",
   "metadata": {},
   "source": [
    "##### Code 14.9"
   ]
  },
  {
   "cell_type": "code",
   "execution_count": 18,
   "metadata": {},
   "outputs": [
    {
     "data": {
      "image/png": "[encoded data removed]",
      "text/plain": [
       "<Figure size 432x288 with 1 Axes>"
      ]
     },
     "metadata": {
      "needs_background": "light"
     },
     "output_type": "display_data"
    }
   ],
   "source": [
    "plt.plot(a_cafe, b_cafe, \"o\", mfc=\"none\")\n",
    "plt.gca().set(xlabel=\"intercepts (a_cafe)\", ylabel=\"slopes (b_cafe)\")\n",
    "plt.xlim((1.0,5.5))\n",
    "plt.ylim((-1.8,-0.25))\n",
    "\n",
    "# overlay population distribution\n",
    "# Ref: https://matplotlib.org/gallery/statistics/confidence_ellipse.html\n",
    "for l in [0.1, 0.3, 0.5, 0.8, 0.99]:\n",
    "    pearson = Sigma[0, 1] / np.sqrt(Sigma[0, 0] * Sigma[1, 1])\n",
    "    ellipse = Ellipse((0, 0), np.sqrt(1 + pearson), np.sqrt(1 - pearson),\n",
    "                      edgecolor=\"k\", alpha=0.2, facecolor=\"none\")\n",
    "    std_dev = tfd.Normal(loc=0.,scale=1.).quantile((1 + np.sqrt(l)) / 2)\n",
    "    scale_x = 2 * std_dev * np.sqrt(Sigma[0, 0])\n",
    "    scale_y = 2 * std_dev * np.sqrt(Sigma[1, 1])\n",
    "    scale = transforms.Affine2D().rotate_deg(45).scale(scale_x, scale_y)\n",
    "    ellipse.set_transform(scale.translate(Mu[0], Mu[1]) + plt.gca().transData)\n",
    "    plt.gca().add_patch(ellipse)"
   ]
  },
  {
   "cell_type": "markdown",
   "metadata": {},
   "source": [
    "### 14.1.2 Simulate observations"
   ]
  },
  {
   "cell_type": "markdown",
   "metadata": {},
   "source": [
    "##### Code 14.10\n",
    "\n",
    "The data we’re generating describes the waiting times in 20 different cafés. Each café has a different average waiting times in the morning and in the afternoon. The average morning waiting time is the intercept, and the difference between afternoon and morning average waiting times is the slope. "
   ]
  },
  {
   "cell_type": "code",
   "execution_count": 19,
   "metadata": {},
   "outputs": [
    {
     "data": {
      "text/html": [
       "<div>\n",
       "<style scoped>\n",
       "    .dataframe tbody tr th:only-of-type {\n",
       "        vertical-align: middle;\n",
       "    }\n",
       "\n",
       "    .dataframe tbody tr th {\n",
       "        vertical-align: top;\n",
       "    }\n",
       "\n",
       "    .dataframe thead th {\n",
       "        text-align: right;\n",
       "    }\n",
       "</style>\n",
       "<table border=\"1\" class=\"dataframe\">\n",
       "  <thead>\n",
       "    <tr style=\"text-align: right;\">\n",
       "      <th></th>\n",
       "      <th>cafe</th>\n",
       "      <th>afternoon</th>\n",
       "      <th>wait</th>\n",
       "    </tr>\n",
       "  </thead>\n",
       "  <tbody>\n",
       "    <tr>\n",
       "      <th>count</th>\n",
       "      <td>200.000000</td>\n",
       "      <td>200.000000</td>\n",
       "      <td>200.000000</td>\n",
       "    </tr>\n",
       "    <tr>\n",
       "      <th>mean</th>\n",
       "      <td>9.500000</td>\n",
       "      <td>0.500000</td>\n",
       "      <td>3.145164</td>\n",
       "    </tr>\n",
       "    <tr>\n",
       "      <th>std</th>\n",
       "      <td>5.780751</td>\n",
       "      <td>0.501255</td>\n",
       "      <td>1.103819</td>\n",
       "    </tr>\n",
       "    <tr>\n",
       "      <th>min</th>\n",
       "      <td>0.000000</td>\n",
       "      <td>0.000000</td>\n",
       "      <td>0.627383</td>\n",
       "    </tr>\n",
       "    <tr>\n",
       "      <th>25%</th>\n",
       "      <td>4.750000</td>\n",
       "      <td>0.000000</td>\n",
       "      <td>2.435770</td>\n",
       "    </tr>\n",
       "    <tr>\n",
       "      <th>50%</th>\n",
       "      <td>9.500000</td>\n",
       "      <td>0.500000</td>\n",
       "      <td>3.129436</td>\n",
       "    </tr>\n",
       "    <tr>\n",
       "      <th>75%</th>\n",
       "      <td>14.250000</td>\n",
       "      <td>1.000000</td>\n",
       "      <td>3.787630</td>\n",
       "    </tr>\n",
       "    <tr>\n",
       "      <th>max</th>\n",
       "      <td>19.000000</td>\n",
       "      <td>1.000000</td>\n",
       "      <td>6.477736</td>\n",
       "    </tr>\n",
       "  </tbody>\n",
       "</table>\n",
       "</div>"
      ],
      "text/plain": [
       "             cafe   afternoon        wait\n",
       "count  200.000000  200.000000  200.000000\n",
       "mean     9.500000    0.500000    3.145164\n",
       "std      5.780751    0.501255    1.103819\n",
       "min      0.000000    0.000000    0.627383\n",
       "25%      4.750000    0.000000    2.435770\n",
       "50%      9.500000    0.500000    3.129436\n",
       "75%     14.250000    1.000000    3.787630\n",
       "max     19.000000    1.000000    6.477736"
      ]
     },
     "execution_count": 19,
     "metadata": {},
     "output_type": "execute_result"
    }
   ],
   "source": [
    "N_visits = 10\n",
    "afternoon = np.tile(np.arange(2), N_visits * N_cafes // 2)\n",
    "cafe_id = np.repeat(np.arange(N_cafes), N_visits)\n",
    "\n",
    "def generate_data_frame():\n",
    "  sigma = 0.5  # std dev within cafes\n",
    "\n",
    "  _seed = 22\n",
    "  tf.random.set_seed(_seed)\n",
    "\n",
    "  seed = tfp.util.SeedStream(_seed, salt=\"generate_data_frame\")    \n",
    "\n",
    "  mu = tf.gather(a_cafe, cafe_id) + tf.gather(b_cafe, cafe_id) * afternoon\n",
    "\n",
    "  wait = tfd.Normal(loc=mu, scale=sigma).sample(seed=seed())\n",
    "  d = pd.DataFrame(dict(cafe=cafe_id, afternoon=afternoon, wait=wait))\n",
    "\n",
    "  return d\n",
    "\n",
    "d = generate_data_frame()\n",
    "\n",
    "d.describe()"
   ]
  },
  {
   "cell_type": "markdown",
   "metadata": {},
   "source": [
    "### 14.1.3 The vaying slopes model"
   ]
  },
  {
   "cell_type": "markdown",
   "metadata": {},
   "source": [
    "##### Code 14.11"
   ]
  },
  {
   "cell_type": "code",
   "execution_count": 20,
   "metadata": {},
   "outputs": [
    {
     "data": {
      "image/png": "[encoded data removed]",
      "text/plain": [
       "<Figure size 432x288 with 1 Axes>"
      ]
     },
     "metadata": {
      "needs_background": "light"
     },
     "output_type": "display_data"
    }
   ],
   "source": [
    "R = tfp.distributions.LKJ(dimension=2, concentration=2).sample((int(1e4),))\n",
    "az.plot_kde(R[:, 0, 1], bw=2, label=\"correlation\");"
   ]
  },
  {
   "cell_type": "code",
   "execution_count": 21,
   "metadata": {},
   "outputs": [
    {
     "data": {
      "text/plain": [
       "TensorShape([10000, 2, 2])"
      ]
     },
     "execution_count": 21,
     "metadata": {},
     "output_type": "execute_result"
    }
   ],
   "source": [
    "R.shape"
   ]
  },
  {
   "cell_type": "markdown",
   "metadata": {},
   "source": [
    "##### Code 14.12"
   ]
  },
  {
   "cell_type": "code",
   "execution_count": 22,
   "metadata": {},
   "outputs": [],
   "source": [
    "def model_14_1(cafe, afternoon):\n",
    "    def _generator():\n",
    "        alpha = yield Root(tfd.Sample(tfd.Normal(loc=5.,scale=2.), sample_shape=1))\n",
    "        beta  = yield Root(tfd.Sample(tfd.Normal(loc=-1., scale=0.5), sample_shape=1))        \n",
    "#         sigma = yield Root(tfd.Sample(tfd.HalfCauchy(loc=0., scale=1.), sample_shape=1))\n",
    "#         sigma_alpha_beta = yield Root(tfd.Sample(tfd.HalfCauchy(loc=0., scale=1.), sample_shape=2))        \n",
    "        sigma = yield Root(tfd.Sample(tfd.Exponential(rate=1.), sample_shape=1))\n",
    "        sigma_alpha_beta = yield Root(tfd.Sample(tfd.Exponential(rate=1.), sample_shape=2))        \n",
    "#        Rho = yield Root(tfd.Sample(tfd.LKJ(dimension=2, concentration=2.), sample_shape=1))  \n",
    "        Rho = yield Root(tfd.LKJ(dimension=2, concentration=2.))      \n",
    "        \n",
    "        Mu = tf.concat([alpha, beta], axis=-1)\n",
    "        scale = tf.linalg.LinearOperatorDiag(sigma_alpha_beta).matmul(tf.squeeze(Rho))\n",
    "        \n",
    "        a_cafe_b_cafe = yield tfd.Sample(\n",
    "                tfd.MultivariateNormalTriL(\n",
    "                        loc = Mu,\n",
    "                        scale_tril = scale\n",
    "                    ),sample_shape=20)\n",
    "\n",
    "        # extract the alphas and betas\n",
    "        a_cafe = tf.gather(a_cafe_b_cafe, 0, axis=-1)\n",
    "        b_cafe = tf.gather(a_cafe_b_cafe, 1, axis=-1)\n",
    "        \n",
    "        # extract alphas and beta using the cafe id as the index\n",
    "        term1 = tf.gather(a_cafe, cafe, axis=-1)\n",
    "        term2 = tf.gather(b_cafe, cafe, axis=-1)\n",
    "    \n",
    "        # linear model\n",
    "        mu = term1 + term2 * afternoon        \n",
    "        \n",
    "        wait = yield tfd.Independent(tfd.Normal(loc=mu, scale=sigma), reinterpreted_batch_ndims=1)\n",
    "        \n",
    "        \n",
    "    return tfd.JointDistributionCoroutine(_generator, validate_args=False) \n",
    "        \n",
    "        \n",
    "jdc_14_1 = model_14_1(tf.cast(d.cafe.values, dtype=tf.int32), tf.cast(d.afternoon.values, dtype=tf.float32))"
   ]
  },
  {
   "cell_type": "code",
   "execution_count": 23,
   "metadata": {},
   "outputs": [
    {
     "data": {
      "text/plain": [
       "<tf.Tensor: shape=(2, 2, 2), dtype=float32, numpy=\n",
       "array([[[ 1.        ,  0.16966414],\n",
       "        [ 0.16966414,  1.        ]],\n",
       "\n",
       "       [[ 1.        , -0.13546377],\n",
       "        [-0.13546377,  1.        ]]], dtype=float32)>"
      ]
     },
     "execution_count": 23,
     "metadata": {},
     "output_type": "execute_result"
    }
   ],
   "source": [
    "alpha_init, beta_init, sigma_init, sigma_alpha_beta_init, Rho_init, a_cafe_b_cafe_init, _ = jdc_14_1.sample(2)\n",
    "\n",
    "# let's see Rho and make sure that what we have\n",
    "# looks like a correlation matrix as a sanity check\n",
    "#\n",
    "# Now this will a prior sample so most likely\n",
    "# we will get the correct sample however when we will do HMC\n",
    "# we maybe extra care\n",
    "# alpha_init, beta_init, sigma_init, sigma_alpha_beta_init, Rho_init, a_cafe_b_cafe_init\n",
    "Rho_init"
   ]
  },
  {
   "cell_type": "code",
   "execution_count": 24,
   "metadata": {},
   "outputs": [
    {
     "data": {
      "text/plain": [
       "<tf.Tensor: shape=(2, 2, 2), dtype=float32, numpy=\n",
       "array([[[1., 0.],\n",
       "        [0., 1.]],\n",
       "\n",
       "       [[1., 0.],\n",
       "        [0., 1.]]], dtype=float32)>"
      ]
     },
     "execution_count": 24,
     "metadata": {},
     "output_type": "execute_result"
    }
   ],
   "source": [
    "init_rho = tf.stack([tf.eye(2) for _ in range(2)])\n",
    "\n",
    "init_rho"
   ]
  },
  {
   "cell_type": "code",
   "execution_count": 25,
   "metadata": {},
   "outputs": [
    {
     "name": "stdout",
     "output_type": "stream",
     "text": [
      "WARNING:tensorflow:From /Users/ksachdeva/Desktop/Dev/myoss/rethinking-tfp-interim/env/lib/python3.7/site-packages/tensorflow_probability/python/mcmc/kernel.py:104: calling HamiltonianMonteCarlo.__init__ (from tensorflow_probability.python.mcmc.hmc) with step_size_update_fn is deprecated and will be removed after 2019-05-22.\n",
      "Instructions for updating:\n",
      "The `step_size_update_fn` argument is deprecated. Use `tfp.mcmc.SimpleStepSizeAdaptation` instead.\n",
      "WARNING:tensorflow:From /Users/ksachdeva/Desktop/Dev/myoss/rethinking-tfp-interim/env/lib/python3.7/site-packages/tensorflow/python/util/deprecation.py:507: calling HamiltonianMonteCarlo.__init__ (from tensorflow_probability.python.mcmc.hmc) with seed is deprecated and will be removed after 2020-09-20.\n",
      "Instructions for updating:\n",
      "The `seed` argument is deprecated (but will work until removed). Pass seed to `tfp.mcmc.sample_chain` instead.\n",
      "WARNING:tensorflow:From /Users/ksachdeva/Desktop/Dev/myoss/rethinking-tfp-interim/env/lib/python3.7/site-packages/tensorflow/python/ops/linalg/linear_operator_diag.py:175: calling LinearOperator.__init__ (from tensorflow.python.ops.linalg.linear_operator) with graph_parents is deprecated and will be removed in a future version.\n",
      "Instructions for updating:\n",
      "Do not pass `graph_parents`.  They will  no longer be used.\n"
     ]
    }
   ],
   "source": [
    "init_state = [\n",
    "    alpha_init,\n",
    "    beta_init,\n",
    "    sigma_init,\n",
    "    sigma_alpha_beta_init,\n",
    "    init_rho,\n",
    "    a_cafe_b_cafe_init\n",
    "]\n",
    "\n",
    "\n",
    "init_config = dict(\n",
    "    alpha   = dict(state=init_state[0], bijector=tfb.Identity()),\n",
    "    beta    = dict(state=init_state[1], bijector=tfb.Identity()),\n",
    "    sigma   = dict(state=init_state[2], bijector=tfb.Identity()),\n",
    "    sigma_alpha_beta = dict(state=init_state[3], bijector=tfb.Identity()),\n",
    "    Rho       = dict(state=init_state[4], bijector=tfb.CorrelationCholesky()),   \n",
    "    a_cafe_b_cafe       = dict(state=init_state[5], bijector=tfb.Identity())\n",
    "    \n",
    ")\n",
    "\n",
    "observed_data = (tf.cast(d.wait.values, dtype=tf.float32),)\n",
    "\n",
    "posterior_14_1, trace_14_1 = sample_posterior(\n",
    "                                    jdc_14_1, \n",
    "                                    init_config=init_config,\n",
    "                                    observed_data=observed_data)"
   ]
  },
  {
   "cell_type": "markdown",
   "metadata": {},
   "source": [
    "##### Code 14.13"
   ]
  },
  {
   "cell_type": "code",
   "execution_count": 26,
   "metadata": {},
   "outputs": [
    {
     "data": {
      "text/plain": [
       "<tf.Tensor: shape=(2, 2000, 2, 2), dtype=float32, numpy=\n",
       "array([[[[ 1.        ,  0.712666  ],\n",
       "         [ 0.712666  ,  1.        ]],\n",
       "\n",
       "        [[ 1.        ,  0.6364455 ],\n",
       "         [ 0.6364455 ,  1.        ]],\n",
       "\n",
       "        [[ 1.        ,  0.6364455 ],\n",
       "         [ 0.6364455 ,  1.        ]],\n",
       "\n",
       "        ...,\n",
       "\n",
       "        [[ 1.        ,  0.5768809 ],\n",
       "         [ 0.5768809 ,  1.        ]],\n",
       "\n",
       "        [[ 1.        ,  0.60758823],\n",
       "         [ 0.60758823,  0.99999994]],\n",
       "\n",
       "        [[ 1.        ,  0.60758823],\n",
       "         [ 0.60758823,  0.99999994]]],\n",
       "\n",
       "\n",
       "       [[[ 1.        , -0.73067796],\n",
       "         [-0.73067796,  0.9999999 ]],\n",
       "\n",
       "        [[ 1.        , -0.73067796],\n",
       "         [-0.73067796,  0.9999999 ]],\n",
       "\n",
       "        [[ 1.        , -0.6637264 ],\n",
       "         [-0.6637264 ,  0.9999999 ]],\n",
       "\n",
       "        ...,\n",
       "\n",
       "        [[ 1.        , -0.5385513 ],\n",
       "         [-0.5385513 ,  1.        ]],\n",
       "\n",
       "        [[ 1.        , -0.5385513 ],\n",
       "         [-0.5385513 ,  1.        ]],\n",
       "\n",
       "        [[ 1.        , -0.45816442],\n",
       "         [-0.45816442,  0.99999994]]]], dtype=float32)>"
      ]
     },
     "execution_count": 26,
     "metadata": {},
     "output_type": "execute_result"
    }
   ],
   "source": [
    "post = trace_14_1.posterior\n",
    "\n",
    "# Here comes the important part !\n",
    "#\n",
    "# The posterior that we get is not really Rho because of the bijector\n",
    "# that we used. Hence we need to get the correlation matrix back (i.e. Rho)\n",
    "\n",
    "states = post[\"Rho\"].values\n",
    "\n",
    "rhos = states @ tf.transpose(states,[0,1,3,2])\n",
    "\n",
    "# let's look at the rhos\n",
    "# we should see that it will be a collection of 2x2 matrices such that on diagnoal you would\n",
    "# see the ones\n",
    "rhos"
   ]
  },
  {
   "cell_type": "code",
   "execution_count": 27,
   "metadata": {},
   "outputs": [
    {
     "data": {
      "text/plain": [
       "<tf.Tensor: shape=(2000, 2, 2), dtype=float32, numpy=\n",
       "array([[[1.        , 0.712666  ],\n",
       "        [0.712666  , 1.        ]],\n",
       "\n",
       "       [[1.        , 0.6364455 ],\n",
       "        [0.6364455 , 1.        ]],\n",
       "\n",
       "       [[1.        , 0.6364455 ],\n",
       "        [0.6364455 , 1.        ]],\n",
       "\n",
       "       ...,\n",
       "\n",
       "       [[1.        , 0.5768809 ],\n",
       "        [0.5768809 , 1.        ]],\n",
       "\n",
       "       [[1.        , 0.60758823],\n",
       "        [0.60758823, 0.99999994]],\n",
       "\n",
       "       [[1.        , 0.60758823],\n",
       "        [0.60758823, 0.99999994]]], dtype=float32)>"
      ]
     },
     "execution_count": 27,
     "metadata": {},
     "output_type": "execute_result"
    }
   ],
   "source": [
    "rhos[0]"
   ]
  },
  {
   "cell_type": "code",
   "execution_count": 28,
   "metadata": {},
   "outputs": [
    {
     "data": {
      "text/plain": [
       "<tf.Tensor: shape=(2000,), dtype=float32, numpy=\n",
       "array([-0.73067796, -0.73067796, -0.6637264 , ..., -0.5385513 ,\n",
       "       -0.5385513 , -0.45816442], dtype=float32)>"
      ]
     },
     "execution_count": 28,
     "metadata": {},
     "output_type": "execute_result"
    }
   ],
   "source": [
    "rhos[1][:,0,1]"
   ]
  },
  {
   "cell_type": "code",
   "execution_count": 29,
   "metadata": {},
   "outputs": [
    {
     "data": {
      "image/png": "[encoded data removed]",
      "text/plain": [
       "<Figure size 432x288 with 1 Axes>"
      ]
     },
     "metadata": {
      "needs_background": "light"
     },
     "output_type": "display_data"
    }
   ],
   "source": [
    "az.plot_kde(rhos[1][:,0,1], bw=2);"
   ]
  },
  {
   "cell_type": "markdown",
   "metadata": {},
   "source": [
    "##### Code 14.14"
   ]
  },
  {
   "cell_type": "code",
   "execution_count": 30,
   "metadata": {},
   "outputs": [
    {
     "data": {
      "image/png": "[encoded data removed]",
      "text/plain": [
       "<Figure size 432x288 with 1 Axes>"
      ]
     },
     "metadata": {
      "needs_background": "light"
     },
     "output_type": "display_data"
    }
   ],
   "source": [
    "a1 = np.array([np.mean(d.wait[(cafe_id == i) & (afternoon == 0)])\n",
    "               for i in range(N_cafes)])\n",
    "b1 = np.array([np.mean(d.wait[(cafe_id == i) & (afternoon == 1)])\n",
    "               for i in range(N_cafes)]) - a1\n",
    "\n",
    "# extract posterior means of partially pooled estimates\n",
    "a2 = np.mean(post[\"a_cafe_b_cafe\"].values[0][..., 0], 0)\n",
    "b2 = np.mean(post[\"a_cafe_b_cafe\"].values[0][..., 1], 0)\n",
    "\n",
    "# plot both and connect with lines\n",
    "plt.plot(a1, b1, \"o\")\n",
    "plt.gca().set(xlabel=\"intercept\", ylabel=\"slope\",\n",
    "              ylim=(np.min(b1) - 0.1, np.max(b1) + 0.1),\n",
    "              xlim=(np.min(a1) - 0.1, np.max(a1) + 0.1))\n",
    "plt.plot(a2, b2, \"ko\", mfc=\"none\")\n",
    "\n",
    "for i in range(N_cafes):\n",
    "    plt.plot([a1[i], a2[i]], [b1[i], b2[i]], \"k\", lw=0.5)\n",
    "fig, ax = plt.gcf(), plt.gca()"
   ]
  },
  {
   "cell_type": "markdown",
   "metadata": {},
   "source": [
    "##### Code 14.15"
   ]
  },
  {
   "cell_type": "code",
   "execution_count": 31,
   "metadata": {},
   "outputs": [
    {
     "data": {
      "image/png": "[encoded data removed]",
      "text/plain": [
       "<Figure size 432x288 with 1 Axes>"
      ]
     },
     "execution_count": 31,
     "metadata": {},
     "output_type": "execute_result"
    }
   ],
   "source": [
    "# compute posterior mean bivariate Gaussian\n",
    "Mu_est = np.array([np.mean(post[\"alpha\"].values[0]), np.mean(post[\"beta\"].values[0])])\n",
    "rho_est = np.mean(post[\"Rho\"][0, 1])\n",
    "\n",
    "sa_est = np.mean(post[\"sigma\"][:, 0])\n",
    "sb_est = np.mean(post[\"sigma\"][:, 1])\n",
    "\n",
    "cov_ab = sa_est * sb_est * rho_est\n",
    "Sigma_est = np.array([[sa_est ** 2, cov_ab], [cov_ab, sb_est ** 2]])\n",
    "\n",
    "# draw contours\n",
    "for l in [0.1, 0.3, 0.5, 0.8, 0.99]:\n",
    "    pearson = Sigma_est[0, 1] / np.sqrt(Sigma_est[0, 0] * Sigma_est[1, 1])\n",
    "    ellipse = Ellipse((0, 0), np.sqrt(1 + pearson), np.sqrt(1 - pearson),\n",
    "                      edgecolor=\"k\", alpha=0.2, facecolor=\"none\")\n",
    "    \n",
    "    \n",
    "    std_dev = tfd.Normal(loc=0.,scale=1.).quantile((1 + np.sqrt(l)) / 2)\n",
    "    \n",
    "    scale_x = 2 * std_dev * np.sqrt(Sigma_est[0, 0])\n",
    "    scale_y = 2 * std_dev * np.sqrt(Sigma_est[1, 1])\n",
    "    scale = transforms.Affine2D().rotate_deg(45).scale(scale_x, scale_y)\n",
    "    ellipse.set_transform(scale.translate(Mu_est[0], Mu_est[1]) + ax.transData)\n",
    "    ax.add_patch(ellipse)\n",
    "fig"
   ]
  },
  {
   "cell_type": "markdown",
   "metadata": {},
   "source": [
    "##### Code 14.16"
   ]
  },
  {
   "cell_type": "code",
   "execution_count": 32,
   "metadata": {},
   "outputs": [
    {
     "data": {
      "image/png": "[encoded data removed]",
      "text/plain": [
       "<Figure size 432x288 with 1 Axes>"
      ]
     },
     "metadata": {
      "needs_background": "light"
     },
     "output_type": "display_data"
    }
   ],
   "source": [
    "# convert varying effects to waiting times\n",
    "wait_morning_1 = a1\n",
    "wait_afternoon_1 = a1 + b1\n",
    "wait_morning_2 = a2\n",
    "wait_afternoon_2 = a2 + b2\n",
    "\n",
    "# plot both and connect with lines\n",
    "plt.plot(wait_morning_1, wait_afternoon_1, \"o\")\n",
    "plt.gca().set(\n",
    "    xlabel=\"morning wait\", ylabel=\"afternoon wait\",\n",
    "    ylim=(np.min(wait_afternoon_1) - 0.1, np.max(wait_afternoon_1) + 0.1),\n",
    "    xlim=(np.min(wait_morning_1) - 0.1, np.max(wait_morning_1) + 0.1))\n",
    "plt.plot(wait_morning_2, wait_afternoon_2, \"ko\", mfc=\"none\")\n",
    "for i in range(N_cafes):\n",
    "    plt.plot([wait_morning_1[i], wait_morning_2[i]],\n",
    "             [wait_afternoon_1[i], wait_afternoon_2[i]], \"k\", lw=0.5)\n",
    "x = np.linspace(np.min(wait_morning_1), np.max(wait_morning_1), 101)\n",
    "plt.plot(x, x, \"k--\", lw=1)\n",
    "fig, ax = plt.gcf(), plt.gca()"
   ]
  },
  {
   "cell_type": "markdown",
   "metadata": {},
   "source": [
    "##### Code 14.17"
   ]
  },
  {
   "cell_type": "code",
   "execution_count": 33,
   "metadata": {},
   "outputs": [
    {
     "data": {
      "image/png": "[encoded data removed]",
      "text/plain": [
       "<Figure size 432x288 with 1 Axes>"
      ]
     },
     "execution_count": 33,
     "metadata": {},
     "output_type": "execute_result"
    }
   ],
   "source": [
    "# now shrinkage distribution by simulation\n",
    "v = tfd.MultivariateNormalTriL(loc=Mu_est, scale_tril=tf.linalg.cholesky(Sigma_est)).sample((10000,)).numpy()\n",
    "\n",
    "v[:,1] = v[:,0] + v[:,1] # calculate afternoon wait\n",
    "\n",
    "Sigma_est2 = np.cov(v, rowvar=False)\n",
    "\n",
    "Mu_est2 = Mu_est\n",
    "\n",
    "Mu_est2[1] = Mu_est2[0] + Mu_est2[1]\n",
    "\n",
    "# draw contours\n",
    "for l in [0.1, 0.3, 0.5, 0.8, 0.99]:\n",
    "    pearson = Sigma_est2[0, 1] / np.sqrt(Sigma_est2[0, 0] * Sigma_est2[1, 1])\n",
    "    ellipse = Ellipse((0, 0), np.sqrt(1 + pearson), np.sqrt(1 - pearson),\n",
    "                      edgecolor=\"k\", alpha=0.2, facecolor=\"none\")\n",
    "        \n",
    "    std_dev = tfd.Normal(loc=0.,scale=1.).quantile((1 + np.sqrt(l)) / 2)\n",
    "    \n",
    "    scale_x = 2 * std_dev * np.sqrt(Sigma_est2[0, 0])\n",
    "    scale_y = 2 * std_dev * np.sqrt(Sigma_est2[1, 1])\n",
    "    scale = transforms.Affine2D().rotate_deg(45).scale(scale_x, scale_y)\n",
    "    ellipse.set_transform(\n",
    "        scale.translate(Mu_est2[0], Mu_est2[1]) + ax.transData)\n",
    "    ax.add_patch(ellipse)\n",
    "fig"
   ]
  },
  {
   "cell_type": "markdown",
   "metadata": {},
   "source": [
    "## 14.2 Advanced varying slopes"
   ]
  },
  {
   "cell_type": "markdown",
   "metadata": {},
   "source": [
    "##### Code 14.18"
   ]
  },
  {
   "cell_type": "code",
   "execution_count": 34,
   "metadata": {},
   "outputs": [],
   "source": [
    "d = pd.read_csv(CHIMPANZEE_DATASET_PATH, sep=\";\")\n",
    "d[\"block_id\"] = d.block\n",
    "d[\"treatment\"] = 1 + d.prosoc_left + 2 * d.condition\n",
    "\n",
    "dat = dict(L=d.pulled_left.values, tid=d.treatment.values - 1,\n",
    "           actor=d.actor.values - 1, block_id=d.block_id.values - 1)\n",
    "\n",
    "# actor 0 to 6 => 7\n",
    "# tid 0 to 3 => 4"
   ]
  },
  {
   "cell_type": "code",
   "execution_count": 35,
   "metadata": {},
   "outputs": [
    {
     "name": "stdout",
     "output_type": "stream",
     "text": [
      "(7, 4)\n"
     ]
    },
    {
     "data": {
      "text/plain": [
       "StructTuple(var0=<tf.Tensor: shape=(4,), dtype=float32, numpy=array([-0.15466787,  0.53030187,  0.13563706, -0.5120716 ], dtype=float32)>, var1=<tf.Tensor: shape=(4,), dtype=float32, numpy=array([1.9631015 , 0.59187365, 0.44238394, 0.04852653], dtype=float32)>, var2=<tf.Tensor: shape=(4, 4), dtype=float32, numpy=\n",
       "array([[ 1.        ,  0.08410478, -0.5437963 , -0.25716713],\n",
       "       [ 0.08410478,  1.        , -0.20940696,  0.11478234],\n",
       "       [-0.5437963 , -0.20940696,  1.        , -0.30720332],\n",
       "       [-0.25716713,  0.11478234, -0.30720332,  1.        ]],\n",
       "      dtype=float32)>, var3=<tf.Tensor: shape=(4,), dtype=float32, numpy=array([0.56216276, 0.70532846, 0.08683925, 0.5831806 ], dtype=float32)>, var4=<tf.Tensor: shape=(4, 4), dtype=float32, numpy=\n",
       "array([[ 1.        , -0.00280792, -0.09555837,  0.20201829],\n",
       "       [-0.00280792,  1.        ,  0.20828147,  0.1845984 ],\n",
       "       [-0.09555837,  0.20828147,  1.        ,  0.5709721 ],\n",
       "       [ 0.20201829,  0.1845984 ,  0.5709721 ,  1.        ]],\n",
       "      dtype=float32)>, var5=<tf.Tensor: shape=(7, 4), dtype=float32, numpy=\n",
       "array([[ 0.3580742 ,  0.2104556 ,  0.03984801,  0.0064736 ],\n",
       "       [-3.8175166 ,  0.92957395, -0.18007061,  0.00644212],\n",
       "       [ 0.79882073,  0.20054457, -0.01338044,  0.02603551],\n",
       "       [-0.17187756,  0.5595341 ,  0.94472325, -0.07829292],\n",
       "       [ 0.23202822, -0.64719677,  0.446358  , -0.06487229],\n",
       "       [ 3.024509  , -0.07652499, -0.5442507 , -0.03572663],\n",
       "       [-1.0633516 ,  0.12172122, -0.25466573,  0.02911921]],\n",
       "      dtype=float32)>, var6=<tf.Tensor: shape=(6, 4), dtype=float32, numpy=\n",
       "array([[-0.4979435 , -0.61070824,  0.01871748,  0.08466963],\n",
       "       [-0.2680515 , -1.1662548 ,  0.00600076, -0.45125687],\n",
       "       [ 0.35532504,  0.20543928,  0.01699732,  0.42697278],\n",
       "       [-0.27440637, -0.02678532,  0.08645036,  1.0559592 ],\n",
       "       [-0.92688805,  0.6285783 , -0.06955403,  0.05046439],\n",
       "       [-0.01063624,  0.3034888 ,  0.07028571,  1.8693297 ]],\n",
       "      dtype=float32)>, var7=<tf.Tensor: shape=(504,), dtype=float32, numpy=\n",
       "array([0., 0., 0., 0., 1., 0., 1., 1., 0., 0., 0., 1., 0., 1., 1., 1., 1.,\n",
       "       1., 1., 1., 1., 0., 1., 1., 1., 0., 1., 0., 1., 1., 1., 1., 1., 0.,\n",
       "       1., 1., 1., 1., 0., 1., 1., 1., 0., 0., 1., 0., 0., 0., 0., 0., 0.,\n",
       "       1., 0., 1., 1., 0., 0., 1., 0., 1., 1., 0., 0., 0., 0., 0., 0., 0.,\n",
       "       1., 0., 1., 0., 1., 0., 0., 1., 1., 0., 1., 1., 1., 0., 0., 0., 0.,\n",
       "       0., 1., 1., 0., 1., 0., 0., 1., 0., 0., 1., 0., 1., 0., 1., 0., 1.,\n",
       "       1., 0., 1., 1., 0., 0., 0., 0., 0., 0., 1., 1., 0., 0., 0., 0., 0.,\n",
       "       0., 0., 0., 0., 1., 0., 1., 0., 1., 0., 1., 1., 0., 1., 0., 0., 0.,\n",
       "       0., 1., 0., 0., 1., 1., 0., 0., 0., 0., 0., 1., 1., 0., 1., 0., 1.,\n",
       "       1., 0., 0., 0., 0., 1., 1., 0., 0., 1., 1., 1., 1., 0., 1., 1., 1.,\n",
       "       0., 1., 1., 0., 1., 1., 0., 1., 1., 0., 0., 0., 0., 1., 0., 1., 1.,\n",
       "       0., 1., 1., 1., 0., 1., 0., 0., 0., 0., 0., 0., 0., 0., 0., 1., 1.,\n",
       "       1., 1., 1., 0., 0., 0., 1., 1., 1., 0., 1., 1., 0., 0., 1., 1., 1.,\n",
       "       1., 0., 0., 0., 1., 0., 1., 1., 0., 1., 0., 1., 1., 1., 1., 1., 1.,\n",
       "       0., 0., 0., 1., 1., 0., 1., 0., 1., 1., 0., 0., 1., 0., 1., 0., 0.,\n",
       "       1., 0., 1., 1., 1., 1., 0., 0., 0., 1., 1., 0., 1., 0., 1., 1., 1.,\n",
       "       1., 1., 1., 1., 0., 1., 1., 0., 0., 0., 1., 1., 1., 0., 0., 0., 0.,\n",
       "       0., 1., 0., 0., 0., 0., 0., 0., 0., 0., 1., 1., 0., 1., 0., 1., 0.,\n",
       "       1., 0., 0., 0., 0., 0., 0., 0., 0., 0., 0., 1., 1., 1., 1., 1., 1.,\n",
       "       1., 0., 1., 1., 1., 0., 1., 0., 0., 0., 0., 1., 0., 1., 0., 1., 1.,\n",
       "       1., 1., 0., 1., 0., 0., 1., 1., 0., 0., 0., 1., 1., 1., 0., 1., 1.,\n",
       "       1., 1., 1., 0., 1., 1., 0., 1., 0., 0., 0., 0., 0., 1., 1., 1., 1.,\n",
       "       1., 1., 0., 1., 1., 1., 1., 1., 1., 0., 1., 1., 1., 1., 1., 1., 1.,\n",
       "       1., 0., 0., 1., 1., 1., 1., 0., 1., 1., 0., 0., 1., 0., 1., 1., 0.,\n",
       "       0., 0., 0., 0., 0., 0., 1., 0., 1., 0., 1., 0., 1., 0., 1., 1., 1.,\n",
       "       0., 0., 0., 0., 0., 0., 0., 1., 0., 0., 1., 0., 1., 0., 0., 1., 0.,\n",
       "       1., 1., 1., 1., 0., 1., 1., 1., 1., 0., 0., 0., 1., 1., 0., 1., 0.,\n",
       "       0., 1., 0., 1., 1., 0., 1., 0., 0., 1., 1., 1., 0., 1., 0., 1., 0.,\n",
       "       0., 1., 1., 0., 0., 0., 0., 0., 0., 0., 1., 1., 0., 1., 0., 0., 0.,\n",
       "       0., 1., 1., 1., 1., 1., 0., 0., 1., 0., 0.], dtype=float32)>)"
      ]
     },
     "execution_count": 35,
     "metadata": {},
     "output_type": "execute_result"
    }
   ],
   "source": [
    "def model_14_2(tid, actor, block_id, num_chains):\n",
    "    \n",
    "    # we need to create the indexes that make\n",
    "    # gather_nd happy\n",
    "    actor_tid = tf.stack([actor, tid], axis=1)\n",
    "    block_tid = tf.stack([block_id, tid], axis=1)\n",
    "    batch_dims = 0\n",
    "    \n",
    "    if num_chains > 1:\n",
    "        actor_tid_tiled =  tf.tile(actor_tid, (num_chains, 1))\n",
    "        actor_tid_reshaped = tf.reshape(actor_tid_tiled, (num_chains, 504, 2))\n",
    "        \n",
    "        actor_tid = actor_tid_reshaped\n",
    "        \n",
    "        block_tid_tiled =  tf.tile(block_tid, (num_chains, 1))\n",
    "        block_tid_reshaped = tf.reshape(block_tid_tiled, (num_chains, 504, 2))\n",
    "        \n",
    "        block_tid = block_tid_reshaped\n",
    "        \n",
    "        batch_dims = 1\n",
    "        \n",
    "    \n",
    "    def _generator():\n",
    "        # fixed priors\n",
    "        g = yield Root(tfd.Sample(tfd.Normal(loc=0., scale=1.), sample_shape=4))\n",
    "        sigma_actor = yield Root(tfd.Sample(tfd.Exponential(rate=1.), sample_shape=4))\n",
    "        # note - not using Sample as it does not work with it\n",
    "        rho_actor = yield Root(tfp.distributions.LKJ(dimension=4, concentration=4.))\n",
    "        sigma_block = yield Root(tfd.Sample(tfd.Exponential(rate=1.), sample_shape=4))\n",
    "        # note - not using Sample as it does not work with it\n",
    "        rho_block = yield Root(tfp.distributions.LKJ(dimension=4, concentration=4.))\n",
    "        # adaptive priors\n",
    "        \n",
    "        alpha = yield tfd.Sample(\n",
    "                tfd.MultivariateNormalTriL(\n",
    "                        loc = 0.,\n",
    "                        scale_tril = tf.linalg.LinearOperatorDiag(sigma_actor).matmul(rho_actor)\n",
    "                    ),sample_shape=7)\n",
    "        \n",
    "        beta = yield tfd.Sample(\n",
    "                tfd.MultivariateNormalTriL(\n",
    "                        loc = 0.,\n",
    "                        scale_tril = tf.linalg.LinearOperatorDiag(sigma_block).matmul(rho_block)\n",
    "                    ),sample_shape=6)\n",
    "        \n",
    "  \n",
    "        print(alpha.shape)\n",
    "\n",
    "        term1 = tf.gather(g, tid, axis=-1)\n",
    "        term2 = tf.gather_nd(alpha, actor_tid, batch_dims=batch_dims)\n",
    "        term3 = tf.gather_nd(alpha, block_tid, batch_dims=batch_dims)\n",
    "        \n",
    "        logit_p =  term1 + term2 + term3\n",
    "        \n",
    "        L = yield tfd.Independent(tfd.Binomial(total_count=1, logits=logit_p), reinterpreted_batch_ndims=1)\n",
    "        \n",
    "        \n",
    "    return tfd.JointDistributionCoroutine(_generator, validate_args=False) \n",
    "        \n",
    "    \n",
    "jdc_14_2 = model_14_2(dat[\"tid\"], dat[\"actor\"], dat[\"block_id\"], num_chains=1)\n",
    "\n",
    "jdc_14_2.sample()"
   ]
  },
  {
   "cell_type": "code",
   "execution_count": 36,
   "metadata": {},
   "outputs": [
    {
     "name": "stdout",
     "output_type": "stream",
     "text": [
      "(7, 4)\n"
     ]
    }
   ],
   "source": [
    "g_init, sigma_actor_init, rho_actor_init, sigma_block_init, rho_block_init, alpha_init, beta_init, _ = jdc_14_2.sample()"
   ]
  },
  {
   "cell_type": "code",
   "execution_count": 37,
   "metadata": {},
   "outputs": [],
   "source": [
    "init_state = [\n",
    "    g_init,\n",
    "    sigma_actor_init,\n",
    "    rho_actor_init, \n",
    "    sigma_block_init, \n",
    "    rho_block_init, \n",
    "    alpha_init, \n",
    "    beta_init,\n",
    "]\n",
    "\n",
    "bijectors = [\n",
    "    tfb.Identity(),\n",
    "    tfb.Exp(),\n",
    "    tfb.CorrelationCholesky(),\n",
    "    tfb.Exp(),\n",
    "    tfb.CorrelationCholesky(),\n",
    "    tfb.Identity(),\n",
    "    tfb.Identity()\n",
    "]\n",
    "\n",
    "\n",
    "\n",
    "\n",
    "observed_data = (tf.cast(dat[\"L\"], dtype=tf.float32),)\n",
    "\n",
    "\n",
    "# Issue:\n",
    "# This used to work\n",
    "# posterior_14_2, trace_14_2 = sample_posterior(\n",
    "#                                 jdc_14_2, \n",
    "#                                 observed_data=observed_data,\n",
    "#                                 params=['g', 'sigma_actor', 'rho_actor', 'sigma_block', 'rho_block', 'alpha', 'beta'],\n",
    "#                                 num_samples=2000,\n",
    "#                                 burnin=500,\n",
    "#                                 init_state=init_state,\n",
    "#                                 bijectors=bijectors)"
   ]
  },
  {
   "cell_type": "markdown",
   "metadata": {},
   "source": [
    "What is happening is that arviz assigns 7 to the chain dimension and this screws up the\n",
    "entire structure in xarray. Really arviz does not work if there is 1 chain. \n",
    "\n",
    "Now I have problem using 2 chains so that is the real problem indeed !"
   ]
  },
  {
   "cell_type": "code",
   "execution_count": 38,
   "metadata": {},
   "outputs": [],
   "source": [
    "# az.summary(trace_14_2)"
   ]
  },
  {
   "cell_type": "markdown",
   "metadata": {},
   "source": [
    "## 14.3 Instruments and causal designs (TODO)"
   ]
  },
  {
   "cell_type": "markdown",
   "metadata": {},
   "source": [
    "## 14.4 Social relations as correlated varying effects (TODO)"
   ]
  },
  {
   "cell_type": "markdown",
   "metadata": {},
   "source": [
    "## 14.5 Continuous categories and the Gaussian process (TODO)"
   ]
  },
  {
   "cell_type": "code",
   "execution_count": null,
   "metadata": {},
   "outputs": [],
   "source": []
  }
 ],
 "metadata": {
  "kernelspec": {
   "display_name": "Python 3",
   "language": "python",
   "name": "python3"
  },
  "language_info": {
   "codemirror_mode": {
    "name": "ipython",
    "version": 3
   },
   "file_extension": ".py",
   "mimetype": "text/x-python",
   "name": "python",
   "nbconvert_exporter": "python",
   "pygments_lexer": "ipython3",
   "version": "3.7.5"
  },
  "toc": {
   "base_numbering": 1,
   "nav_menu": {},
   "number_sections": true,
   "sideBar": true,
   "skip_h1_title": false,
   "title_cell": "Table of Contents",
   "title_sidebar": "Contents",
   "toc_cell": false,
   "toc_position": {},
   "toc_section_display": true,
   "toc_window_display": false
  }
 },
 "nbformat": 4,
 "nbformat_minor": 4
}
