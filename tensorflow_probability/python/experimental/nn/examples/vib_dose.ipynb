{
 "cells": [
  {
   "cell_type": "markdown",
   "metadata": {
    "colab_type": "text",
    "id": "XXDeo-aGOAXF"
   },
   "source": [
    "##### Copyright 2020 The TensorFlow Authors.\n",
    "\n",
    "Licensed under the Apache License, Version 2.0 (the \"License\");"
   ]
  },
  {
   "cell_type": "code",
   "execution_count": 0,
   "metadata": {
    "colab": {},
    "colab_type": "code",
    "id": "9XRGdjHNOE9D"
   },
   "outputs": [],
   "source": [
    "#@title ##### Licensed under the Apache License, Version 2.0 (the \"License\"); { display-mode: \"form\" }\n",
    "# you may not use this file except in compliance with the License.\n",
    "# You may obtain a copy of the License at\n",
    "#\n",
    "# https://www.apache.org/licenses/LICENSE-2.0\n",
    "#\n",
    "# Unless required by applicable law or agreed to in writing, software\n",
    "# distributed under the License is distributed on an \"AS IS\" BASIS,\n",
    "# WITHOUT WARRANTIES OR CONDITIONS OF ANY KIND, either express or implied.\n",
    "# See the License for the specific language governing permissions and\n",
    "# limitations under the License."
   ]
  },
  {
   "cell_type": "markdown",
   "metadata": {
    "colab_type": "text",
    "id": "KJihamFwOLUT"
   },
   "source": [
    "# VIB + DoSE\n",
    "\n",
    "<table class=\"tfo-notebook-buttons\" align=\"left\">\n",
    "  <td>\n",
    "    <a target=\"_blank\" href=\"https://colab.research.google.com/github/tensorflow/probability/blob/main/tensorflow_probability/python/experimental/nn/examples/vib_dose.ipynb\"><img src=\"https://www.tensorflow.org/images/colab_logo_32px.png\" />Run in Google Colab</a>\n",
    "  </td>\n",
    "  <td>\n",
    "    <a target=\"_blank\" href=\"https://github.com/tensorflow/probability/blob/main/tensorflow_probability/python/experimental/nn/examples/vib_dose.ipynb\"><img src=\"https://www.tensorflow.org/images/GitHub-Mark-32px.png\" />View source on GitHub</a>\n",
    "  </td>\n",
    "</table>"
   ]
  },
  {
   "cell_type": "markdown",
   "metadata": {
    "colab_type": "text",
    "id": "IaFh9M5MRAd0"
   },
   "source": [
    "In this example, we train a deep variational information bottleneck model (VIB) on the MNIST dataset.  We then use density of states estimation to turn our VIB model into an Out-of-distribution (OOD) detector.  Our current implementation achieves near-SOTA performance on both OOD detection and classification simultaneously without any exposure to OOD data during training.\n",
    "\n",
    "## References\n",
    "\n",
    "The VIB paper (Alemi et al. 2016) can be found [Here](https://arxiv.org/abs/1612.00410)\n",
    "\n",
    "The DoSE paper (Morningstar et al. 2020) can be found [Here](https://arxiv.org/abs/2006.09273)"
   ]
  },
  {
   "cell_type": "markdown",
   "metadata": {
    "colab_type": "text",
    "id": "B0HrNKbJw2bA"
   },
   "source": [
    "### 1  Imports"
   ]
  },
  {
   "cell_type": "code",
   "execution_count": 0,
   "metadata": {
    "cellView": "both",
    "colab": {},
    "colab_type": "code",
    "id": "cttwhYKYGhPj"
   },
   "outputs": [],
   "source": [
    "import functools\n",
    "import sys\n",
    "import time\n",
    "\n",
    "import numpy as np\n",
    "import matplotlib.pyplot as plt\n",
    "\n",
    "import tensorflow.compat.v2 as tf\n",
    "tf.enable_v2_behavior()\n",
    "\n",
    "import tensorflow_datasets as tfds\n",
    "import tensorflow_probability as tfp\n",
    "\n",
    "# Globally Enable XLA.\n",
    "# tf.config.optimizer.set_jit(True)\n",
    "\n",
    "try:\n",
    "  physical_devices = tf.config.list_physical_devices('GPU')\n",
    "  tf.config.experimental.set_memory_growth(physical_devices[0], True)\n",
    "except:\n",
    "  # Invalid device or cannot modify virtual devices once initialized.\n",
    "  pass\n",
    "\n",
    "tfb = tfp.bijectors\n",
    "tfd = tfp.distributions\n",
    "tfn = tfp.experimental.nn"
   ]
  },
  {
   "cell_type": "markdown",
   "metadata": {
    "colab_type": "text",
    "id": "nbQ3rcTowypZ"
   },
   "source": [
    "### 2  Load Dataset"
   ]
  },
  {
   "cell_type": "code",
   "execution_count": 0,
   "metadata": {
    "cellView": "both",
    "colab": {
     "height": 150
    },
    "colab_type": "code",
    "id": "rjgnFMxvG9Ab",
    "outputId": "7751f329-299e-4c0c-9960-be487e996ba0"
   },
   "outputs": [
    {
     "data": {
      "image/png": "[encoded data removed]",
      "text/plain": [
       "<Figure size 1000x200 with 1 Axes>"
      ]
     },
     "metadata": {
      "tags": []
     },
     "output_type": "display_data"
    },
    {
     "data": {
      "text/plain": [
       "(<Figure size 1000x200 with 1 Axes>,\n",
       " <matplotlib.axes._subplots.AxesSubplot at 0x7f32fd30ce48>)"
      ]
     },
     "execution_count": 0,
     "metadata": {
      "tags": []
     },
     "output_type": "execute_result"
    }
   ],
   "source": [
    "[train_dataset, eval_dataset], datasets_info = tfds.load(\n",
    "    name='mnist',\n",
    "    split=['train', 'test'],\n",
    "    with_info=True,\n",
    "    shuffle_files=True)\n",
    "\n",
    "def _preprocess(sample):\n",
    "  return (tf.cast(sample['image'], tf.float32) * 2 / 255. - 1.,\n",
    "          tf.cast(sample['label'], tf.int32))\n",
    "\n",
    "train_size = datasets_info.splits['train'].num_examples\n",
    "batch_size = 32\n",
    "\n",
    "train_dataset = tfn.util.tune_dataset(\n",
    "    train_dataset,\n",
    "    batch_size=batch_size,\n",
    "    shuffle_size=int(train_size  / 7),\n",
    "    preprocess_fn=_preprocess)\n",
    "\n",
    "eval_dataset = tfn.util.tune_dataset(\n",
    "    eval_dataset,\n",
    "    repeat_count=1,\n",
    "    preprocess_fn=_preprocess)\n",
    "\n",
    "x = next(iter(eval_dataset.batch(10)))[0]\n",
    "tfn.util.display_imgs(x)"
   ]
  },
  {
   "cell_type": "markdown",
   "metadata": {
    "colab_type": "text",
    "id": "sbaPm7ABwvde"
   },
   "source": [
    "### 3  Define Model"
   ]
  },
  {
   "cell_type": "code",
   "execution_count": 0,
   "metadata": {
    "colab": {},
    "colab_type": "code",
    "id": "iK6_hK6RyunW"
   },
   "outputs": [],
   "source": [
    "input_shape = datasets_info.features['image'].shape\n",
    "encoded_size = 16\n",
    "base_depth = 32"
   ]
  },
  {
   "cell_type": "code",
   "execution_count": 0,
   "metadata": {
    "colab": {},
    "colab_type": "code",
    "id": "N3Q78OptyyOx"
   },
   "outputs": [],
   "source": [
    "prior = tfd.MultivariateNormalDiag(\n",
    "    loc=tf.zeros(encoded_size),\n",
    "    scale_diag=tf.ones(encoded_size))"
   ]
  },
  {
   "cell_type": "code",
   "execution_count": 0,
   "metadata": {
    "colab": {
     "height": 287
    },
    "colab_type": "code",
    "id": "96g5flbdy6lK",
    "outputId": "8d52909d-5a7f-4fd9-82e6-1bab750a4683"
   },
   "outputs": [
    {
     "name": "stdout",
     "output_type": "stream",
     "text": [
      "=== encoder ==================================================\n",
      "  SIZE SHAPE                TRAIN NAME                                    \n",
      "    32 [32]                 True  bias:0                                  \n",
      "   800 [5, 5, 1, 32]        True  kernel:0                                \n",
      "    32 [32]                 True  bias:0                                  \n",
      " 25600 [5, 5, 32, 32]       True  kernel:0                                \n",
      "    64 [64]                 True  bias:0                                  \n",
      " 51200 [5, 5, 32, 64]       True  kernel:0                                \n",
      "    64 [64]                 True  bias:0                                  \n",
      "102400 [5, 5, 64, 64]       True  kernel:0                                \n",
      "    64 [64]                 True  bias:0                                  \n",
      "200704 [7, 7, 64, 64]       True  kernel:0                                \n",
      "   152 [152]                True  bias:0                                  \n",
      "  9728 [64, 152]            True  kernel:0                                \n",
      "trainable size: 390840  /  1.491 MiB  /  {float32: 390840}\n"
     ]
    }
   ],
   "source": [
    "Conv = functools.partial(\n",
    "    tfn.Convolution,\n",
    "    init_bias_fn=tf.zeros_initializer(),\n",
    "    init_kernel_fn=tf_keras.initializers.he_uniform())  # Better for leaky_relu.\n",
    "\n",
    "encoder = tfn.Sequential([\n",
    "    lambda x: 2. * tf.cast(x, tf.float32) - 1.,  # Center.\n",
    "    Conv(1, 1 * base_depth, 5, strides=1, padding='same'),\n",
    "    tf.nn.leaky_relu,\n",
    "    Conv(1 * base_depth, 1 * base_depth, 5, strides=2, padding='same'),\n",
    "    tf.nn.leaky_relu,\n",
    "    Conv(1 * base_depth, 2 * base_depth, 5, strides=1, padding='same'),\n",
    "    tf.nn.leaky_relu,\n",
    "    Conv(2 * base_depth, 2 * base_depth, 5, strides=2, padding='same'),\n",
    "    tf.nn.elu,\n",
    "    Conv(2 * base_depth, 4 * encoded_size, 7, strides=1, padding='valid'),\n",
    "    tf.nn.leaky_relu,\n",
    "    tfn.util.flatten_rightmost(ndims=3),\n",
    "    tfn.Affine(4*encoded_size, encoded_size + encoded_size * (encoded_size + 1) // 2),\n",
    "    lambda x: tfd.MultivariateNormalTriL(\n",
    "        loc=x[..., :encoded_size],\n",
    "        scale_tril=tfb.FillScaleTriL()(x[..., encoded_size:]))\n",
    "], name='encoder')\n",
    "\n",
    "print(encoder.summary())"
   ]
  },
  {
   "cell_type": "code",
   "execution_count": 0,
   "metadata": {
    "colab": {
     "height": 107
    },
    "colab_type": "code",
    "id": "P6cn2Qhh0lkz",
    "outputId": "7fca6506-f16c-44ee-cce8-7a421b1704ca"
   },
   "outputs": [
    {
     "name": "stdout",
     "output_type": "stream",
     "text": [
      "=== Affine__lambda ==================================================\n",
      "  SIZE SHAPE                TRAIN NAME                                    \n",
      "    10 [10]                 True  bias:0                                  \n",
      "   160 [16, 10]             True  kernel:0                                \n",
      "trainable size: 170  /  0.001 MiB  /  {float32: 170}\n"
     ]
    }
   ],
   "source": [
    "DeConv = functools.partial(\n",
    "    tfn.ConvolutionTranspose,\n",
    "    init_kernel_fn=tf_keras.initializers.he_uniform())  # Better for leaky_relu.\n",
    "    \n",
    "Affine = functools.partial(\n",
    "    tfn.Affine,\n",
    "    init_kernel_fn=tf_keras.initializers.he_uniform())\n",
    "\n",
    "decoder = tfn.Sequential([\n",
    "    Affine(encoded_size, 10),\n",
    "    lambda x: tfd.Categorical(logits=x)])\n",
    "\n",
    "print(decoder.summary())"
   ]
  },
  {
   "cell_type": "markdown",
   "metadata": {
    "colab_type": "text",
    "id": "J9XuHd6Iw7_a"
   },
   "source": [
    "### 4  Loss / Eval"
   ]
  },
  {
   "cell_type": "code",
   "execution_count": 0,
   "metadata": {
    "colab": {},
    "colab_type": "code",
    "id": "z90ohRKUs0xL"
   },
   "outputs": [],
   "source": [
    "def compute_loss(x, y, beta=1.):\n",
    "  q = encoder(x)\n",
    "  z = q.sample()\n",
    "  p = decoder(z)\n",
    "  kl = tf.reduce_mean(q.log_prob(z) - prior.log_prob(z), axis=-1)\n",
    "  # Note: we could use exact KL divergence, eg:\n",
    "  #   kl = tf.reduce_mean(tfd.kl_divergence(q, prior))\n",
    "  # however we generally find that using the Monte Carlo approximation has\n",
    "  # lower variance.\n",
    "  nll = -tf.reduce_mean(p.log_prob(y), axis=-1)\n",
    "  loss = nll + beta * kl\n",
    "  return loss, (nll, kl), (q, z, p)"
   ]
  },
  {
   "cell_type": "code",
   "execution_count": 0,
   "metadata": {
    "colab": {},
    "colab_type": "code",
    "id": "6PO6SxWm_5RA"
   },
   "outputs": [],
   "source": [
    "train_iter = iter(train_dataset)\n",
    "\n",
    "def loss():\n",
    "  x, y = next(train_iter)\n",
    "  loss, (nll, kl), _ = compute_loss(x, y, beta=0.075)\n",
    "  return loss, (nll, kl)\n",
    "\n",
    "opt = tf_keras.optimizers.Adam(learning_rate=1e-3, decay=0.00005)\n",
    "\n",
    "fit = tfn.util.make_fit_op(\n",
    "    loss,\n",
    "    opt,\n",
    "    decoder.trainable_variables + encoder.trainable_variables,\n",
    "    grad_summary_fn=lambda gs: tf.nest.map_structure(tf.norm, gs))"
   ]
  },
  {
   "cell_type": "code",
   "execution_count": 0,
   "metadata": {
    "cellView": "code",
    "colab": {},
    "colab_type": "code",
    "id": "iUmS-7IATIcI"
   },
   "outputs": [],
   "source": [
    "eval_iter = iter(eval_dataset.batch(5000).repeat())\n",
    "\n",
    "@tfn.util.tfcompile\n",
    "def eval():\n",
    "  x, y = next(eval_iter)\n",
    "  loss, (nll, kl), _ = compute_loss(x, y, beta=0.05)\n",
    "  return loss, (nll, kl)"
   ]
  },
  {
   "cell_type": "markdown",
   "metadata": {
    "colab_type": "text",
    "id": "QuCSidxVABmA"
   },
   "source": [
    "### 5  Train"
   ]
  },
  {
   "cell_type": "code",
   "execution_count": 0,
   "metadata": {
    "colab": {},
    "colab_type": "code",
    "id": "xKbiQZcu-z5l"
   },
   "outputs": [],
   "source": [
    "DEBUG_MODE = False\n",
    "tf.config.experimental_run_functions_eagerly(DEBUG_MODE)"
   ]
  },
  {
   "cell_type": "code",
   "execution_count": 0,
   "metadata": {
    "cellView": "both",
    "colab": {
     "height": 1000
    },
    "colab_type": "code",
    "id": "ba5W_N6oTNbo",
    "outputId": "c8705f83-d522-4db3-87e2-852c649ffbc6"
   },
   "outputs": [
    {
     "name": "stdout",
     "output_type": "stream",
     "text": [
      "it:    1   ms/it:2564.3797   trn_loss:22.1861   tst_loss:19.4266   tst_nll:10.1761   tst_kl:185.0093   sum_norm_grad:845.5634\n",
      "it:  235   ms/it:2.2164   trn_loss:1.5428   tst_loss:1.3213   tst_nll:0.9611   tst_kl:7.2048   sum_norm_grad:14.4196\n",
      "it:  469   ms/it:2.1324   trn_loss:0.9982   tst_loss:0.9201   tst_nll:0.5909   tst_kl:6.5845   sum_norm_grad:10.1642\n",
      "it:  703   ms/it:2.1391   trn_loss:0.9315   tst_loss:0.7142   tst_nll:0.3821   tst_kl:6.6419   sum_norm_grad:14.4733\n",
      "it:  937   ms/it:2.1684   trn_loss:0.9210   tst_loss:0.6675   tst_nll:0.3780   tst_kl:5.7918   sum_norm_grad:14.7734\n",
      "it: 1171   ms/it:2.1175   trn_loss:0.7251   tst_loss:0.5506   tst_nll:0.2207   tst_kl:6.5989   sum_norm_grad:8.4730\n",
      "it: 1405   ms/it:2.0846   trn_loss:0.6943   tst_loss:0.5861   tst_nll:0.3270   tst_kl:5.1835   sum_norm_grad:9.5136\n",
      "it: 1639   ms/it:2.1750   trn_loss:0.6642   tst_loss:0.5858   tst_nll:0.3445   tst_kl:4.8274   sum_norm_grad:6.8234\n",
      "it: 1873   ms/it:2.0080   trn_loss:0.5778   tst_loss:0.5379   tst_nll:0.2793   tst_kl:5.1727   sum_norm_grad:7.8218\n",
      "it: 2107   ms/it:2.0313   trn_loss:0.7633   tst_loss:0.4800   tst_nll:0.1764   tst_kl:6.0714   sum_norm_grad:13.6137\n",
      "it: 2341   ms/it:2.0713   trn_loss:0.5730   tst_loss:0.4819   tst_nll:0.2155   tst_kl:5.3266   sum_norm_grad:6.4923\n",
      "it: 2575   ms/it:1.9554   trn_loss:0.5458   tst_loss:0.4853   tst_nll:0.2122   tst_kl:5.4622   sum_norm_grad:6.2071\n",
      "it: 2809   ms/it:1.9702   trn_loss:0.5840   tst_loss:0.4678   tst_nll:0.2076   tst_kl:5.2025   sum_norm_grad:7.0371\n",
      "it: 3043   ms/it:2.0315   trn_loss:0.4956   tst_loss:0.4598   tst_nll:0.2057   tst_kl:5.0823   sum_norm_grad:5.5657\n",
      "it: 3277   ms/it:2.0027   trn_loss:0.7635   tst_loss:0.5070   tst_nll:0.2752   tst_kl:4.6358   sum_norm_grad:12.0438\n",
      "it: 3511   ms/it:2.1219   trn_loss:0.5925   tst_loss:0.4679   tst_nll:0.2242   tst_kl:4.8740   sum_norm_grad:7.9167\n",
      "it: 3745   ms/it:2.0533   trn_loss:0.4950   tst_loss:0.4469   tst_nll:0.2054   tst_kl:4.8289   sum_norm_grad:6.2624\n",
      "it: 3979   ms/it:2.0403   trn_loss:0.5245   tst_loss:0.4639   tst_nll:0.2495   tst_kl:4.2869   sum_norm_grad:8.0653\n",
      "it: 4213   ms/it:2.0021   trn_loss:0.4222   tst_loss:0.4056   tst_nll:0.1512   tst_kl:5.0866   sum_norm_grad:3.7033\n",
      "it: 4447   ms/it:2.0186   trn_loss:0.5910   tst_loss:0.4387   tst_nll:0.1962   tst_kl:4.8495   sum_norm_grad:12.2965\n",
      "it: 4681   ms/it:1.9985   trn_loss:0.4816   tst_loss:0.4088   tst_nll:0.1494   tst_kl:5.1885   sum_norm_grad:6.8221\n",
      "it: 4915   ms/it:1.9830   trn_loss:0.6091   tst_loss:0.4167   tst_nll:0.1475   tst_kl:5.3833   sum_norm_grad:9.1217\n",
      "it: 5149   ms/it:1.8724   trn_loss:0.5090   tst_loss:0.4217   tst_nll:0.1713   tst_kl:5.0073   sum_norm_grad:7.9420\n",
      "it: 5383   ms/it:1.8790   trn_loss:0.4645   tst_loss:0.4319   tst_nll:0.1895   tst_kl:4.8482   sum_norm_grad:5.6776\n",
      "it: 5617   ms/it:1.8531   trn_loss:0.4660   tst_loss:0.4289   tst_nll:0.1903   tst_kl:4.7722   sum_norm_grad:5.7069\n",
      "it: 5851   ms/it:1.8618   trn_loss:0.6393   tst_loss:0.4061   tst_nll:0.1760   tst_kl:4.6033   sum_norm_grad:9.4343\n",
      "it: 6085   ms/it:1.8427   trn_loss:0.6755   tst_loss:0.3991   tst_nll:0.1175   tst_kl:5.6326   sum_norm_grad:12.9892\n",
      "it: 6319   ms/it:1.8549   trn_loss:0.4403   tst_loss:0.4069   tst_nll:0.1804   tst_kl:4.5294   sum_norm_grad:5.7477\n",
      "it: 6553   ms/it:1.8505   trn_loss:0.4728   tst_loss:0.3854   tst_nll:0.1366   tst_kl:4.9755   sum_norm_grad:8.0551\n",
      "it: 6787   ms/it:1.8351   trn_loss:0.5107   tst_loss:0.4182   tst_nll:0.1753   tst_kl:4.8581   sum_norm_grad:8.2919\n",
      "it: 7021   ms/it:1.8778   trn_loss:0.4387   tst_loss:0.4044   tst_nll:0.1686   tst_kl:4.7156   sum_norm_grad:7.9755\n",
      "it: 7255   ms/it:1.8988   trn_loss:0.5133   tst_loss:0.3726   tst_nll:0.1204   tst_kl:5.0447   sum_norm_grad:7.5885\n",
      "it: 7489   ms/it:1.9521   trn_loss:0.5418   tst_loss:0.3804   tst_nll:0.1413   tst_kl:4.7819   sum_norm_grad:9.0569\n",
      "it: 7723   ms/it:1.9067   trn_loss:0.4752   tst_loss:0.3914   tst_nll:0.1323   tst_kl:5.1816   sum_norm_grad:6.8096\n",
      "it: 7957   ms/it:1.9925   trn_loss:0.4323   tst_loss:0.3928   tst_nll:0.1711   tst_kl:4.4322   sum_norm_grad:4.3328\n",
      "it: 8191   ms/it:2.0536   trn_loss:0.4623   tst_loss:0.3915   tst_nll:0.1625   tst_kl:4.5813   sum_norm_grad:6.5804\n",
      "it: 8425   ms/it:1.9761   trn_loss:0.4686   tst_loss:0.4019   tst_nll:0.1885   tst_kl:4.2679   sum_norm_grad:10.3905\n",
      "it: 8659   ms/it:1.9916   trn_loss:0.4340   tst_loss:0.3946   tst_nll:0.1682   tst_kl:4.5282   sum_norm_grad:8.5048\n",
      "it: 8893   ms/it:1.9981   trn_loss:0.4335   tst_loss:0.3881   tst_nll:0.1704   tst_kl:4.3545   sum_norm_grad:5.8678\n",
      "it: 9127   ms/it:1.9771   trn_loss:0.4327   tst_loss:0.3541   tst_nll:0.1326   tst_kl:4.4309   sum_norm_grad:4.2285\n",
      "it: 9361   ms/it:2.1010   trn_loss:0.4541   tst_loss:0.3744   tst_nll:0.1422   tst_kl:4.6440   sum_norm_grad:6.0872\n",
      "it: 9595   ms/it:2.1687   trn_loss:0.4879   tst_loss:0.3705   tst_nll:0.1419   tst_kl:4.5713   sum_norm_grad:8.0271\n",
      "it: 9829   ms/it:2.1297   trn_loss:0.4340   tst_loss:0.3659   tst_nll:0.1262   tst_kl:4.7925   sum_norm_grad:4.3710\n",
      "it:10063   ms/it:1.9912   trn_loss:0.4504   tst_loss:0.3567   tst_nll:0.1261   tst_kl:4.6131   sum_norm_grad:9.4326\n",
      "it:10297   ms/it:1.9539   trn_loss:0.4492   tst_loss:0.3568   tst_nll:0.1328   tst_kl:4.4807   sum_norm_grad:5.5835\n",
      "it:10531   ms/it:1.9733   trn_loss:0.5599   tst_loss:0.3872   tst_nll:0.1688   tst_kl:4.3683   sum_norm_grad:9.9607\n",
      "it:10765   ms/it:1.9135   trn_loss:0.4590   tst_loss:0.3560   tst_nll:0.1185   tst_kl:4.7496   sum_norm_grad:7.2496\n",
      "it:10999   ms/it:1.9435   trn_loss:0.4926   tst_loss:0.3750   tst_nll:0.1588   tst_kl:4.3244   sum_norm_grad:9.7788\n",
      "it:11233   ms/it:1.9424   trn_loss:0.4168   tst_loss:0.3887   tst_nll:0.1521   tst_kl:4.7316   sum_norm_grad:6.4282\n",
      "it:11467   ms/it:1.9486   trn_loss:0.4855   tst_loss:0.3630   tst_nll:0.1365   tst_kl:4.5314   sum_norm_grad:6.8357\n",
      "it:11701   ms/it:1.9792   trn_loss:0.4255   tst_loss:0.3509   tst_nll:0.1415   tst_kl:4.1889   sum_norm_grad:8.1672\n",
      "it:11935   ms/it:2.0565   trn_loss:0.9048   tst_loss:0.3502   tst_nll:0.1108   tst_kl:4.7893   sum_norm_grad:17.4914\n",
      "it:12169   ms/it:1.9606   trn_loss:0.4105   tst_loss:0.3719   tst_nll:0.1567   tst_kl:4.3048   sum_norm_grad:7.8450\n",
      "it:12403   ms/it:1.9195   trn_loss:0.5903   tst_loss:0.3401   tst_nll:0.1140   tst_kl:4.5210   sum_norm_grad:14.9188\n",
      "it:12637   ms/it:1.8873   trn_loss:0.5405   tst_loss:0.3791   tst_nll:0.1601   tst_kl:4.3801   sum_norm_grad:9.0125\n",
      "it:12871   ms/it:1.9079   trn_loss:0.4144   tst_loss:0.3623   tst_nll:0.1552   tst_kl:4.1417   sum_norm_grad:7.9198\n",
      "it:13105   ms/it:1.9527   trn_loss:0.4402   tst_loss:0.3502   tst_nll:0.1365   tst_kl:4.2753   sum_norm_grad:7.6147\n",
      "it:13339   ms/it:1.9742   trn_loss:0.4194   tst_loss:0.3486   tst_nll:0.1009   tst_kl:4.9551   sum_norm_grad:9.2509\n",
      "it:13573   ms/it:1.9693   trn_loss:0.4537   tst_loss:0.3597   tst_nll:0.1215   tst_kl:4.7642   sum_norm_grad:9.9120\n",
      "it:13807   ms/it:1.9929   trn_loss:0.4179   tst_loss:0.3442   tst_nll:0.1229   tst_kl:4.4276   sum_norm_grad:7.1764\n",
      "it:14041   ms/it:2.1040   trn_loss:0.4295   tst_loss:0.3321   tst_nll:0.1044   tst_kl:4.5530   sum_norm_grad:6.1030\n",
      "it:14275   ms/it:2.0596   trn_loss:0.4154   tst_loss:0.3295   tst_nll:0.1003   tst_kl:4.5832   sum_norm_grad:2.8553\n",
      "it:14509   ms/it:2.0969   trn_loss:0.4184   tst_loss:0.3500   tst_nll:0.1244   tst_kl:4.5129   sum_norm_grad:5.8089\n",
      "it:14743   ms/it:2.0690   trn_loss:0.4793   tst_loss:0.3450   tst_nll:0.1234   tst_kl:4.4316   sum_norm_grad:9.5562\n",
      "it:14977   ms/it:2.0498   trn_loss:0.4134   tst_loss:0.3449   tst_nll:0.1132   tst_kl:4.6330   sum_norm_grad:7.9562\n",
      "it:15211   ms/it:2.0104   trn_loss:0.4901   tst_loss:0.3225   tst_nll:0.1064   tst_kl:4.3218   sum_norm_grad:10.7398\n",
      "it:15445   ms/it:2.0153   trn_loss:0.4784   tst_loss:0.3519   tst_nll:0.1349   tst_kl:4.3405   sum_norm_grad:9.7245\n",
      "it:15679   ms/it:2.0310   trn_loss:0.3431   tst_loss:0.3237   tst_nll:0.1082   tst_kl:4.3102   sum_norm_grad:4.9854\n",
      "it:15913   ms/it:1.9814   trn_loss:0.3959   tst_loss:0.3293   tst_nll:0.1034   tst_kl:4.5176   sum_norm_grad:3.0724\n",
      "it:16147   ms/it:2.0627   trn_loss:0.5097   tst_loss:0.3382   tst_nll:0.1116   tst_kl:4.5327   sum_norm_grad:10.6121\n",
      "it:16381   ms/it:2.1213   trn_loss:0.4401   tst_loss:0.3625   tst_nll:0.1481   tst_kl:4.2885   sum_norm_grad:8.5930\n",
      "it:16615   ms/it:2.0884   trn_loss:0.4569   tst_loss:0.3361   tst_nll:0.1037   tst_kl:4.6498   sum_norm_grad:8.3505\n",
      "it:16849   ms/it:2.1010   trn_loss:0.3757   tst_loss:0.3360   tst_nll:0.1131   tst_kl:4.4568   sum_norm_grad:4.9292\n",
      "it:17083   ms/it:1.9548   trn_loss:0.3774   tst_loss:0.3365   tst_nll:0.1294   tst_kl:4.1424   sum_norm_grad:5.1466\n",
      "it:17317   ms/it:1.9870   trn_loss:0.3638   tst_loss:0.3347   tst_nll:0.1163   tst_kl:4.3666   sum_norm_grad:7.1032\n",
      "it:17551   ms/it:1.9729   trn_loss:0.4665   tst_loss:0.3293   tst_nll:0.1112   tst_kl:4.3629   sum_norm_grad:10.1453\n",
      "it:17785   ms/it:1.9861   trn_loss:0.4739   tst_loss:0.3185   tst_nll:0.0894   tst_kl:4.5811   sum_norm_grad:9.4185\n",
      "it:18019   ms/it:2.0727   trn_loss:0.5350   tst_loss:0.3348   tst_nll:0.1270   tst_kl:4.1559   sum_norm_grad:15.3189\n",
      "it:18253   ms/it:2.0919   trn_loss:0.3890   tst_loss:0.3294   tst_nll:0.1010   tst_kl:4.5673   sum_norm_grad:5.5265\n",
      "it:18487   ms/it:2.0712   trn_loss:0.3504   tst_loss:0.3340   tst_nll:0.1233   tst_kl:4.2134   sum_norm_grad:3.2770\n",
      "it:18721   ms/it:1.9735   trn_loss:0.7267   tst_loss:0.3346   tst_nll:0.1066   tst_kl:4.5604   sum_norm_grad:15.6311\n",
      "it:18955   ms/it:2.0385   trn_loss:0.4850   tst_loss:0.3310   tst_nll:0.1166   tst_kl:4.2878   sum_norm_grad:12.0765\n",
      "it:19189   ms/it:2.0587   trn_loss:0.4337   tst_loss:0.3307   tst_nll:0.0906   tst_kl:4.8015   sum_norm_grad:6.5287\n",
      "it:19423   ms/it:1.9682   trn_loss:0.3695   tst_loss:0.3246   tst_nll:0.1148   tst_kl:4.1954   sum_norm_grad:7.4739\n",
      "it:19657   ms/it:1.9996   trn_loss:0.3982   tst_loss:0.3221   tst_nll:0.1014   tst_kl:4.4138   sum_norm_grad:7.1784\n",
      "it:19891   ms/it:1.9658   trn_loss:0.4141   tst_loss:0.3271   tst_nll:0.1146   tst_kl:4.2483   sum_norm_grad:4.7158\n",
      "it:20125   ms/it:2.0556   trn_loss:0.4565   tst_loss:0.3315   tst_nll:0.1079   tst_kl:4.4724   sum_norm_grad:9.7472\n",
      "it:20359   ms/it:2.0957   trn_loss:0.4421   tst_loss:0.3249   tst_nll:0.0941   tst_kl:4.6159   sum_norm_grad:7.1348\n",
      "it:20593   ms/it:2.1301   trn_loss:0.4268   tst_loss:0.3383   tst_nll:0.1172   tst_kl:4.4216   sum_norm_grad:5.0516\n",
      "it:20827   ms/it:2.1488   trn_loss:0.4111   tst_loss:0.3223   tst_nll:0.1087   tst_kl:4.2715   sum_norm_grad:7.2810\n",
      "it:21061   ms/it:2.0671   trn_loss:0.4297   tst_loss:0.3282   tst_nll:0.1211   tst_kl:4.1413   sum_norm_grad:7.6730\n",
      "it:21295   ms/it:2.1069   trn_loss:0.3883   tst_loss:0.3148   tst_nll:0.0962   tst_kl:4.3707   sum_norm_grad:4.0889\n",
      "it:21529   ms/it:2.1123   trn_loss:0.4523   tst_loss:0.3146   tst_nll:0.1020   tst_kl:4.2506   sum_norm_grad:9.0019\n",
      "it:21763   ms/it:2.0259   trn_loss:0.3251   tst_loss:0.3408   tst_nll:0.1331   tst_kl:4.1549   sum_norm_grad:3.0425\n",
      "it:21997   ms/it:2.0289   trn_loss:0.4182   tst_loss:0.3255   tst_nll:0.1191   tst_kl:4.1282   sum_norm_grad:13.4229\n",
      "it:22231   ms/it:2.0642   trn_loss:0.3769   tst_loss:0.3183   tst_nll:0.0942   tst_kl:4.4826   sum_norm_grad:4.3627\n",
      "it:22465   ms/it:1.9880   trn_loss:0.4083   tst_loss:0.3318   tst_nll:0.1125   tst_kl:4.3876   sum_norm_grad:8.9119\n",
      "it:22699   ms/it:2.0486   trn_loss:0.4075   tst_loss:0.3149   tst_nll:0.1035   tst_kl:4.2273   sum_norm_grad:9.2416\n",
      "it:22933   ms/it:2.0700   trn_loss:0.6194   tst_loss:0.3251   tst_nll:0.1209   tst_kl:4.0831   sum_norm_grad:14.2433\n",
      "it:23167   ms/it:2.0895   trn_loss:0.3624   tst_loss:0.3203   tst_nll:0.1111   tst_kl:4.1843   sum_norm_grad:5.3762\n",
      "it:23401   ms/it:2.1256   trn_loss:0.4200   tst_loss:0.3208   tst_nll:0.1137   tst_kl:4.1426   sum_norm_grad:7.3948\n",
      "it:23635   ms/it:2.0076   trn_loss:0.4218   tst_loss:0.3246   tst_nll:0.1141   tst_kl:4.2101   sum_norm_grad:9.3826\n",
      "it:23869   ms/it:2.0529   trn_loss:0.3513   tst_loss:0.3231   tst_nll:0.1158   tst_kl:4.1456   sum_norm_grad:6.5274\n",
      "it:24103   ms/it:1.9774   trn_loss:0.3698   tst_loss:0.3249   tst_nll:0.1131   tst_kl:4.2363   sum_norm_grad:3.5558\n",
      "it:24337   ms/it:1.9532   trn_loss:0.3951   tst_loss:0.3080   tst_nll:0.0846   tst_kl:4.4674   sum_norm_grad:6.9629\n",
      "it:24571   ms/it:1.9453   trn_loss:0.3477   tst_loss:0.3244   tst_nll:0.1142   tst_kl:4.2042   sum_norm_grad:3.3070\n",
      "it:24805   ms/it:1.9472   trn_loss:0.4807   tst_loss:0.3144   tst_nll:0.1007   tst_kl:4.2733   sum_norm_grad:12.1261\n",
      "it:25039   ms/it:1.9297   trn_loss:0.3501   tst_loss:0.3229   tst_nll:0.1098   tst_kl:4.2604   sum_norm_grad:4.8262\n",
      "it:25273   ms/it:1.9937   trn_loss:0.3407   tst_loss:0.3171   tst_nll:0.1183   tst_kl:3.9766   sum_norm_grad:3.6831\n",
      "it:25507   ms/it:2.0576   trn_loss:0.3658   tst_loss:0.3301   tst_nll:0.1313   tst_kl:3.9757   sum_norm_grad:9.4814\n",
      "it:25741   ms/it:2.0903   trn_loss:0.3454   tst_loss:0.3084   tst_nll:0.0869   tst_kl:4.4296   sum_norm_grad:3.8930\n",
      "it:25975   ms/it:1.9681   trn_loss:0.5474   tst_loss:0.3155   tst_nll:0.1113   tst_kl:4.0841   sum_norm_grad:13.9938\n",
      "it:26209   ms/it:1.9730   trn_loss:0.3537   tst_loss:0.3101   tst_nll:0.1051   tst_kl:4.0990   sum_norm_grad:7.3103\n",
      "it:26443   ms/it:1.9639   trn_loss:0.3909   tst_loss:0.3342   tst_nll:0.1349   tst_kl:3.9864   sum_norm_grad:8.8077\n",
      "it:26677   ms/it:1.9515   trn_loss:0.6007   tst_loss:0.3139   tst_nll:0.1028   tst_kl:4.2218   sum_norm_grad:14.1734\n",
      "it:26911   ms/it:1.9763   trn_loss:0.3362   tst_loss:0.3238   tst_nll:0.1199   tst_kl:4.0780   sum_norm_grad:2.8671\n",
      "it:27145   ms/it:2.0580   trn_loss:0.3860   tst_loss:0.3262   tst_nll:0.1228   tst_kl:4.0682   sum_norm_grad:7.2712\n",
      "it:27379   ms/it:2.0713   trn_loss:0.3619   tst_loss:0.3141   tst_nll:0.1113   tst_kl:4.0557   sum_norm_grad:3.7555\n",
      "it:27613   ms/it:1.9912   trn_loss:0.3931   tst_loss:0.3081   tst_nll:0.0844   tst_kl:4.4757   sum_norm_grad:4.9184\n",
      "it:27847   ms/it:2.0003   trn_loss:0.3528   tst_loss:0.3003   tst_nll:0.0825   tst_kl:4.3564   sum_norm_grad:3.5294\n",
      "it:28081   ms/it:1.9999   trn_loss:0.3667   tst_loss:0.3210   tst_nll:0.1091   tst_kl:4.2371   sum_norm_grad:4.0780\n",
      "it:28315   ms/it:1.9958   trn_loss:0.4151   tst_loss:0.3157   tst_nll:0.1091   tst_kl:4.1333   sum_norm_grad:8.0124\n",
      "it:28549   ms/it:1.9592   trn_loss:0.3867   tst_loss:0.3029   tst_nll:0.0771   tst_kl:4.5160   sum_norm_grad:6.2654\n",
      "it:28783   ms/it:1.9346   trn_loss:0.3660   tst_loss:0.3025   tst_nll:0.0969   tst_kl:4.1116   sum_norm_grad:5.3995\n",
      "it:29017   ms/it:1.9569   trn_loss:0.3517   tst_loss:0.3338   tst_nll:0.1289   tst_kl:4.0977   sum_norm_grad:4.6849\n",
      "it:29251   ms/it:1.9131   trn_loss:0.4085   tst_loss:0.3247   tst_nll:0.1175   tst_kl:4.1435   sum_norm_grad:9.0536\n",
      "it:29485   ms/it:1.9595   trn_loss:0.3752   tst_loss:0.3147   tst_nll:0.1122   tst_kl:4.0505   sum_norm_grad:4.7891\n",
      "it:29719   ms/it:1.9346   trn_loss:0.3727   tst_loss:0.3083   tst_nll:0.0964   tst_kl:4.2381   sum_norm_grad:6.7759\n",
      "it:29953   ms/it:2.0285   trn_loss:0.3990   tst_loss:0.3085   tst_nll:0.0953   tst_kl:4.2622   sum_norm_grad:7.3109\n",
      "it:30187   ms/it:1.9758   trn_loss:0.3465   tst_loss:0.3055   tst_nll:0.0979   tst_kl:4.1509   sum_norm_grad:2.8357\n",
      "it:30421   ms/it:1.9056   trn_loss:0.3583   tst_loss:0.3100   tst_nll:0.1061   tst_kl:4.0766   sum_norm_grad:4.7825\n",
      "it:30655   ms/it:1.8991   trn_loss:0.3609   tst_loss:0.3078   tst_nll:0.1008   tst_kl:4.1389   sum_norm_grad:4.8327\n",
      "it:30889   ms/it:1.9618   trn_loss:0.3803   tst_loss:0.3030   tst_nll:0.0885   tst_kl:4.2900   sum_norm_grad:5.8705\n",
      "it:31123   ms/it:1.9961   trn_loss:0.3822   tst_loss:0.3060   tst_nll:0.0986   tst_kl:4.1475   sum_norm_grad:6.3708\n",
      "it:31357   ms/it:2.0221   trn_loss:0.3590   tst_loss:0.3049   tst_nll:0.0973   tst_kl:4.1510   sum_norm_grad:6.3759\n",
      "it:31591   ms/it:2.0693   trn_loss:0.3420   tst_loss:0.3239   tst_nll:0.1013   tst_kl:4.4518   sum_norm_grad:3.3461\n",
      "it:31825   ms/it:2.0284   trn_loss:0.4415   tst_loss:0.3072   tst_nll:0.0897   tst_kl:4.3499   sum_norm_grad:9.5457\n",
      "it:32059   ms/it:2.0904   trn_loss:0.3310   tst_loss:0.3235   tst_nll:0.1210   tst_kl:4.0506   sum_norm_grad:4.4962\n",
      "it:32293   ms/it:2.0523   trn_loss:0.3475   tst_loss:0.3073   tst_nll:0.0976   tst_kl:4.1942   sum_norm_grad:2.9907\n",
      "it:32527   ms/it:2.0279   trn_loss:0.3822   tst_loss:0.3030   tst_nll:0.0885   tst_kl:4.2909   sum_norm_grad:6.4391\n",
      "it:32761   ms/it:2.1237   trn_loss:0.3487   tst_loss:0.2980   tst_nll:0.0892   tst_kl:4.1751   sum_norm_grad:4.0340\n",
      "it:32995   ms/it:2.0325   trn_loss:0.3242   tst_loss:0.3046   tst_nll:0.0942   tst_kl:4.2068   sum_norm_grad:3.3843\n",
      "it:33229   ms/it:2.1112   trn_loss:0.3349   tst_loss:0.2955   tst_nll:0.0929   tst_kl:4.0524   sum_norm_grad:5.4820\n",
      "it:33463   ms/it:2.0662   trn_loss:0.3708   tst_loss:0.3049   tst_nll:0.0964   tst_kl:4.1704   sum_norm_grad:6.5565\n",
      "it:33697   ms/it:2.0295   trn_loss:0.3910   tst_loss:0.3141   tst_nll:0.1185   tst_kl:3.9124   sum_norm_grad:5.9624\n",
      "it:33931   ms/it:2.1063   trn_loss:0.3667   tst_loss:0.3074   tst_nll:0.1012   tst_kl:4.1236   sum_norm_grad:7.7475\n",
      "it:34165   ms/it:2.0386   trn_loss:0.3843   tst_loss:0.3068   tst_nll:0.1036   tst_kl:4.0647   sum_norm_grad:6.2470\n",
      "it:34399   ms/it:2.0712   trn_loss:0.3196   tst_loss:0.3183   tst_nll:0.1044   tst_kl:4.2791   sum_norm_grad:2.4702\n",
      "it:34633   ms/it:1.9954   trn_loss:0.4186   tst_loss:0.2918   tst_nll:0.0850   tst_kl:4.1355   sum_norm_grad:11.2958\n",
      "it:34867   ms/it:2.0290   trn_loss:0.3490   tst_loss:0.3103   tst_nll:0.1054   tst_kl:4.0978   sum_norm_grad:4.6524\n",
      "it:35101   ms/it:2.0491   trn_loss:0.3254   tst_loss:0.3236   tst_nll:0.1347   tst_kl:3.7779   sum_norm_grad:2.4251\n",
      "it:35335   ms/it:2.0614   trn_loss:0.4333   tst_loss:0.3064   tst_nll:0.0928   tst_kl:4.2723   sum_norm_grad:15.8115\n",
      "it:35569   ms/it:2.0692   trn_loss:0.3628   tst_loss:0.3102   tst_nll:0.1123   tst_kl:3.9575   sum_norm_grad:5.2651\n",
      "it:35803   ms/it:2.0196   trn_loss:0.4141   tst_loss:0.3014   tst_nll:0.0861   tst_kl:4.3049   sum_norm_grad:7.4971\n",
      "it:36037   ms/it:2.0879   trn_loss:0.3861   tst_loss:0.3149   tst_nll:0.1040   tst_kl:4.2179   sum_norm_grad:7.1164\n",
      "it:36271   ms/it:2.0546   trn_loss:0.3436   tst_loss:0.3121   tst_nll:0.1148   tst_kl:3.9463   sum_norm_grad:2.8987\n",
      "it:36505   ms/it:2.0313   trn_loss:0.4668   tst_loss:0.2996   tst_nll:0.0929   tst_kl:4.1330   sum_norm_grad:11.8821\n",
      "it:36739   ms/it:1.9949   trn_loss:0.3284   tst_loss:0.3236   tst_nll:0.1262   tst_kl:3.9475   sum_norm_grad:3.9522\n",
      "it:36973   ms/it:2.0319   trn_loss:0.4026   tst_loss:0.3093   tst_nll:0.0988   tst_kl:4.2098   sum_norm_grad:12.1101\n",
      "it:37207   ms/it:2.0001   trn_loss:0.3315   tst_loss:0.3223   tst_nll:0.1218   tst_kl:4.0097   sum_norm_grad:2.7307\n",
      "it:37441   ms/it:1.9650   trn_loss:0.4421   tst_loss:0.3109   tst_nll:0.0940   tst_kl:4.3375   sum_norm_grad:8.6157\n",
      "it:37675   ms/it:2.0528   trn_loss:0.3616   tst_loss:0.2983   tst_nll:0.0928   tst_kl:4.1100   sum_norm_grad:12.3748\n",
      "it:37909   ms/it:2.0344   trn_loss:0.3869   tst_loss:0.2949   tst_nll:0.0938   tst_kl:4.0207   sum_norm_grad:6.6917\n",
      "it:38143   ms/it:1.9725   trn_loss:0.3351   tst_loss:0.3060   tst_nll:0.0925   tst_kl:4.2701   sum_norm_grad:3.3357\n",
      "it:38377   ms/it:1.9798   trn_loss:0.3290   tst_loss:0.3083   tst_nll:0.1192   tst_kl:3.7826   sum_norm_grad:5.5441\n",
      "it:38611   ms/it:1.9754   trn_loss:0.4292   tst_loss:0.3134   tst_nll:0.1180   tst_kl:3.9093   sum_norm_grad:10.6579\n",
      "it:38845   ms/it:2.0106   trn_loss:0.4040   tst_loss:0.2904   tst_nll:0.0897   tst_kl:4.0145   sum_norm_grad:6.2913\n",
      "it:39079   ms/it:1.9976   trn_loss:0.3487   tst_loss:0.3186   tst_nll:0.1229   tst_kl:3.9149   sum_norm_grad:7.3521\n",
      "it:39313   ms/it:2.0086   trn_loss:0.3488   tst_loss:0.3006   tst_nll:0.0960   tst_kl:4.0906   sum_norm_grad:3.8146\n",
      "it:39547   ms/it:2.0086   trn_loss:0.3602   tst_loss:0.3044   tst_nll:0.1013   tst_kl:4.0610   sum_norm_grad:4.1065\n",
      "it:39781   ms/it:2.0482   trn_loss:0.4210   tst_loss:0.2894   tst_nll:0.0878   tst_kl:4.0334   sum_norm_grad:7.2917\n",
      "it:40015   ms/it:2.0252   trn_loss:0.3613   tst_loss:0.2999   tst_nll:0.0974   tst_kl:4.0500   sum_norm_grad:4.0550\n",
      "it:40249   ms/it:2.0063   trn_loss:0.3924   tst_loss:0.3005   tst_nll:0.1033   tst_kl:3.9432   sum_norm_grad:5.7406\n",
      "it:40483   ms/it:2.0391   trn_loss:0.3393   tst_loss:0.2997   tst_nll:0.0997   tst_kl:4.0006   sum_norm_grad:5.3864\n",
      "it:40717   ms/it:2.0076   trn_loss:0.4238   tst_loss:0.2982   tst_nll:0.0857   tst_kl:4.2494   sum_norm_grad:13.8314\n",
      "it:40951   ms/it:2.0627   trn_loss:0.2797   tst_loss:0.3108   tst_nll:0.1172   tst_kl:3.8734   sum_norm_grad:2.4416\n",
      "it:41185   ms/it:2.0867   trn_loss:0.3180   tst_loss:0.3058   tst_nll:0.1108   tst_kl:3.8987   sum_norm_grad:2.5621\n",
      "it:41419   ms/it:2.0742   trn_loss:0.4763   tst_loss:0.3105   tst_nll:0.1105   tst_kl:4.0001   sum_norm_grad:9.6593\n",
      "it:41653   ms/it:2.0275   trn_loss:0.3460   tst_loss:0.3154   tst_nll:0.1242   tst_kl:3.8240   sum_norm_grad:8.2430\n",
      "it:41887   ms/it:2.0529   trn_loss:0.3495   tst_loss:0.2947   tst_nll:0.0951   tst_kl:3.9915   sum_norm_grad:6.4585\n",
      "it:42121   ms/it:2.0405   trn_loss:0.3794   tst_loss:0.3076   tst_nll:0.1091   tst_kl:3.9698   sum_norm_grad:8.3901\n",
      "it:42355   ms/it:2.0599   trn_loss:0.3690   tst_loss:0.3099   tst_nll:0.1064   tst_kl:4.0709   sum_norm_grad:5.9114\n",
      "it:42589   ms/it:2.0279   trn_loss:0.3238   tst_loss:0.2942   tst_nll:0.0702   tst_kl:4.4802   sum_norm_grad:3.2264\n",
      "it:42823   ms/it:2.0444   trn_loss:0.3442   tst_loss:0.3001   tst_nll:0.1081   tst_kl:3.8386   sum_norm_grad:5.5690\n",
      "it:43057   ms/it:2.0192   trn_loss:0.3318   tst_loss:0.3118   tst_nll:0.1116   tst_kl:4.0026   sum_norm_grad:3.2110\n",
      "it:43291   ms/it:1.9677   trn_loss:0.3935   tst_loss:0.3002   tst_nll:0.1001   tst_kl:4.0032   sum_norm_grad:11.5776\n",
      "it:43525   ms/it:1.9658   trn_loss:0.3071   tst_loss:0.3102   tst_nll:0.1131   tst_kl:3.9408   sum_norm_grad:4.3626\n",
      "it:43759   ms/it:1.9620   trn_loss:0.3644   tst_loss:0.2980   tst_nll:0.0992   tst_kl:3.9754   sum_norm_grad:5.5277\n",
      "it:43993   ms/it:1.9328   trn_loss:0.3614   tst_loss:0.3072   tst_nll:0.1156   tst_kl:3.8331   sum_norm_grad:7.3897\n",
      "it:44227   ms/it:1.9292   trn_loss:0.3308   tst_loss:0.2909   tst_nll:0.0970   tst_kl:3.8780   sum_norm_grad:2.4891\n",
      "it:44461   ms/it:1.9642   trn_loss:0.4045   tst_loss:0.2893   tst_nll:0.0951   tst_kl:3.8827   sum_norm_grad:7.6299\n",
      "it:44695   ms/it:1.9854   trn_loss:0.3186   tst_loss:0.3050   tst_nll:0.1065   tst_kl:3.9710   sum_norm_grad:3.9649\n",
      "it:44929   ms/it:2.0799   trn_loss:0.3767   tst_loss:0.3039   tst_nll:0.1033   tst_kl:4.0110   sum_norm_grad:8.9531\n",
      "it:45163   ms/it:2.0373   trn_loss:0.3146   tst_loss:0.2952   tst_nll:0.0945   tst_kl:4.0136   sum_norm_grad:2.7310\n",
      "it:45397   ms/it:2.0647   trn_loss:0.3301   tst_loss:0.2869   tst_nll:0.0841   tst_kl:4.0547   sum_norm_grad:4.1736\n",
      "it:45631   ms/it:2.1135   trn_loss:0.3127   tst_loss:0.3072   tst_nll:0.1161   tst_kl:3.8221   sum_norm_grad:2.9071\n",
      "it:45865   ms/it:2.0044   trn_loss:0.3673   tst_loss:0.3104   tst_nll:0.1286   tst_kl:3.6354   sum_norm_grad:10.2989\n",
      "it:46099   ms/it:2.0737   trn_loss:0.3188   tst_loss:0.3074   tst_nll:0.1103   tst_kl:3.9426   sum_norm_grad:2.2955\n",
      "it:46333   ms/it:1.9900   trn_loss:0.2997   tst_loss:0.3047   tst_nll:0.1083   tst_kl:3.9283   sum_norm_grad:3.3990\n",
      "it:46567   ms/it:1.9837   trn_loss:0.3438   tst_loss:0.3015   tst_nll:0.0958   tst_kl:4.1142   sum_norm_grad:8.2752\n",
      "it:46801   ms/it:1.9785   trn_loss:0.3467   tst_loss:0.3049   tst_nll:0.1095   tst_kl:3.9077   sum_norm_grad:2.6538\n",
      "it:46875   ms/it:2.0126   trn_loss:0.3597   tst_loss:0.2929   tst_nll:0.0980   tst_kl:3.8981   sum_norm_grad:4.1507\n"
     ]
    }
   ],
   "source": [
    "num_train_epochs = 25.  # @param { isTemplate: true}\n",
    "num_evals = 200        # @param { isTemplate: true}\n",
    "\n",
    "dur_sec = dur_num = 0\n",
    "num_train_steps = int(num_train_epochs * train_size // batch_size)\n",
    "for i in range(num_train_steps):\n",
    "  start = time.time()\n",
    "  trn_loss, (trn_nll, trn_kl), g = fit()\n",
    "  stop = time.time()\n",
    "  dur_sec += stop - start\n",
    "  dur_num += 1\n",
    "  if i % int(num_train_steps / num_evals) == 0 or i == num_train_steps - 1:\n",
    "    tst_loss, (tst_nll, tst_kl) = eval()\n",
    "    f, x = zip(*[\n",
    "        ('it:{:5}', opt.iterations),\n",
    "        ('ms/it:{:6.4f}', dur_sec / max(1., dur_num) * 1000.),\n",
    "        ('trn_loss:{:6.4f}', trn_loss),\n",
    "        ('tst_loss:{:6.4f}', tst_loss),\n",
    "        ('tst_nll:{:6.4f}', tst_nll),\n",
    "        ('tst_kl:{:6.4f}', tst_kl),\n",
    "        ('sum_norm_grad:{:6.4f}', sum(g)),\n",
    "\n",
    "    ])\n",
    "    print('   '.join(f).format(*[getattr(x_, 'numpy', lambda: x_)()\n",
    "                                 for x_ in x]))\n",
    "    sys.stdout.flush()\n",
    "    dur_sec = dur_num = 0\n",
    "  # if i % 1000 == 0 or i == maxiter - 1:\n",
    "  #   encoder.save('/tmp/encoder.npz')\n",
    "  #   decoder.save('/tmp/decoder.npz')"
   ]
  },
  {
   "cell_type": "markdown",
   "metadata": {
    "colab_type": "text",
    "id": "G1ImqkK7xAv1"
   },
   "source": [
    "### 6  Evaluate Classification Accuracy"
   ]
  },
  {
   "cell_type": "code",
   "execution_count": 0,
   "metadata": {
    "colab": {},
    "colab_type": "code",
    "id": "Fg2mxVJPsSOQ"
   },
   "outputs": [],
   "source": [
    "def evaluate_accuracy(dataset, encoder, decoder):\n",
    "  \"\"\"Evaluate the accuracy of your model on a dataset.\n",
    "  \"\"\"\n",
    "  this_it = iter(dataset)\n",
    "  num_correct = 0\n",
    "  num_total = 0\n",
    "  attempts = 0\n",
    "  for xin, xout in this_it:\n",
    "    xin, xout = next(this_it)\n",
    "    e = encoder(xin)\n",
    "    z = e.sample(10000)  # 10K samples should have low variance.\n",
    "    d = decoder(z)\n",
    "    yhat = d.sample()\n",
    "    confidence = tf.reduce_mean(d.probs_parameter(), axis=0)\n",
    "    most_likely = tf.cast(tf.math.argmax(confidence, axis=-1), tf.int32)\n",
    "    num_correct += np.sum(most_likely == xout, axis=0)\n",
    "    num_total += xout.shape[0]\n",
    "    attempts +=1\n",
    "  return num_correct, num_total"
   ]
  },
  {
   "cell_type": "code",
   "execution_count": 0,
   "metadata": {
    "colab": {
     "height": 35
    },
    "colab_type": "code",
    "id": "8fZiEgQJuoMW",
    "outputId": "f9624596-07f9-4f35-a63f-9178ec36bf8b"
   },
   "outputs": [
    {
     "name": "stdout",
     "output_type": "stream",
     "text": [
      "Accuracy:  0.9930\n"
     ]
    }
   ],
   "source": [
    "nc, nt = evaluate_accuracy(eval_dataset.batch(100), encoder, decoder)\n",
    "print(\"Accuracy:  %.4f\"%(nc/nt))"
   ]
  },
  {
   "cell_type": "markdown",
   "metadata": {
    "colab_type": "text",
    "id": "lyyh37u80SNT"
   },
   "source": [
    "The accuracy of one training run with this particular model and training setup was 99.15%, which is within a half of a percent of the state of the art, and comparable to the mnist accuracy reported in Alemi et al. (2016)."
   ]
  },
  {
   "cell_type": "markdown",
   "metadata": {
    "colab_type": "text",
    "id": "Y0A3I1IymUWT"
   },
   "source": [
    "# OOD detection using DoSE\n",
    "\n",
    "From the previous section, we have trained a variational classifier.  However, this classifier was trained assuming that all of the inputs are from the distribution which generated the training set.  In general, we may not always receive images drawn from this distribution.  In these situations, our model prediction is unreliable.  We want to be able to identify when this may be the case to avoid serving these flawed predictions.  \n",
    "\n",
    "In this section, we turn the VIB classifier into an OOD detector using DoSE."
   ]
  },
  {
   "cell_type": "markdown",
   "metadata": {
    "colab_type": "text",
    "id": "T6eHmdEjIeuL"
   },
   "source": [
    "### 1 Get statistics"
   ]
  },
  {
   "cell_type": "code",
   "execution_count": 0,
   "metadata": {
    "colab": {},
    "colab_type": "code",
    "id": "Z3QMQ-L3mTQJ"
   },
   "outputs": [],
   "source": [
    "def get_statistics(encoder, decoder, prior):\n",
    "  \"\"\"Setup a function to evaluate statistics given model components.\n",
    "  \n",
    "  Args:\n",
    "    encoder:  Callable neural network which takes in an image and \n",
    "      returns a tfp.distributions.Distribution object.\n",
    "    decoder: Callable neural network which takes in a vector and \n",
    "      returns a tfp.distributions.Distribution object.\n",
    "    prior:  A tfp.distributions.Distribution object which operates \n",
    "      on the same spaces as the encoder.\n",
    "  Returns:\n",
    "    T:  A function, which takes in a tensor containing an image (or \n",
    "      batch of images) and evaluates statistics on the model.  \n",
    "      Optionally it  also returns the prediction, under the assumption \n",
    "      that the DoSE model will only dress an actual classifier.\n",
    "  \"\"\"\n",
    "  def T(x, return_pred=False):\n",
    "    \"\"\"Evaluate statistics on an input image or batch of images.\n",
    "    \n",
    "    Given an input tensor `x` containing either an image or a batch of \n",
    "    images, this function evaluates 4 statistics on a VIB model;  the\n",
    "    kl-divergence between the posterior and prior, the expected entropy\n",
    "    of the decoder computed using samples from the posterior, the \n",
    "    posterior entopy, and the cross-entropy between the posterior and\n",
    "    the prior.  We also allow for the prediction to be optionally\n",
    "    returned.\n",
    "\n",
    "    Args: \n",
    "      x:  rank 4 tensor containing a batch of images\n",
    "      return_pred:  Bool indicating whether to return the model\n",
    "        prediction.\n",
    "    Returns:\n",
    "      tf.tensor containing the 4 statistics evaluated on the input.\n",
    "      pred (optional):  The prediction of the model.\n",
    "    \"\"\"\n",
    "    pzgx = encoder(x)\n",
    "    z = pzgx.sample(100, seed=42) # Seed is fixed for determinism.\n",
    "    pxgz = decoder(z)\n",
    "\n",
    "    kl = pzgx.kl_divergence(prior)[tf.newaxis,...]\n",
    "    dent = tf.reduce_mean(pxgz.entropy(), axis=0)[tf.newaxis,...]\n",
    "    eent = pzgx.entropy()[tf.newaxis,...]\n",
    "    xent = pzgx.cross_entropy(prior)[tf.newaxis,...]\n",
    "    if return_pred:\n",
    "      pred = tf.math.argmax(\n",
    "          tf.reduce_mean(pxgz.probs_parameter, axis=0), \n",
    "          axis=-1)\n",
    "      return tf.concat([kl, dent, eent, xent], axis=0), pred\n",
    "    else:\n",
    "      return tf.concat([kl, dent, eent, xent], axis=0)\n",
    "  return T"
   ]
  },
  {
   "cell_type": "code",
   "execution_count": 0,
   "metadata": {
    "colab": {},
    "colab_type": "code",
    "id": "nwVSy6J3JK46"
   },
   "outputs": [],
   "source": [
    "T = get_statistics(encoder, decoder, prior)"
   ]
  },
  {
   "cell_type": "markdown",
   "metadata": {
    "colab_type": "text",
    "id": "n2szpmf2IymI"
   },
   "source": [
    "### 2 Define DoSE helper classes and functions"
   ]
  },
  {
   "cell_type": "code",
   "execution_count": 0,
   "metadata": {
    "colab": {},
    "colab_type": "code",
    "id": "KK0cmEgwoEGH"
   },
   "outputs": [],
   "source": [
    "def get_DoSE_KDE(T, dataset):\n",
    "  \"\"\"Get a distribution and decision rule for OOD detection using DoSE.\n",
    "\n",
    "  Given a tensor of statistics tx, compute a Kernel Density Estimate (KDE) of\n",
    "  the statistics.  This uses a quantiles trick to cut down the number of \n",
    "  samples used in the KDE (to lower the cost of evaluating a trial point).\n",
    "\n",
    "  Args:\n",
    "    T:  A function which takes an input image and returns a vector of\n",
    "      statistics evaluated using the model.\n",
    "    dataset:  A tensorflow_datasets `Dataset` which will be used to evaluate\n",
    "      statistics to construct the estimator.\n",
    "  Returns:\n",
    "    is_ood:  A function which takes a new point `x` and `threshold`, and \n",
    "      computes the decision rule KDE.log_prob(T(x)) < threshold\n",
    "    dose_kde:  A tfd.MixtureSameFamily object.  The distribution used as the KDE\n",
    "      from which the log_prob of a batch of statistics can be computed.\n",
    "  \"\"\"\n",
    "\n",
    "  # First we should evaluate the statistics on the training set.\n",
    "  it = iter(dataset)\n",
    "  for x, y in it:\n",
    "    if not \"tx\" in locals():\n",
    "      tx = T(x)\n",
    "    else:\n",
    "      tx = tf.concat([tx, T(x)], axis=-1)\n",
    "\n",
    "  n = tf.cast(tf.shape(tx)[-1], tx.dtype)\n",
    "  num_quantiles = int(25)\n",
    "  q = tfp.stats.quantiles(tx, num_quantiles, axis=-1)\n",
    "  q = tf.transpose(q, tf.roll(tf.range(tf.rank(q)), shift=-1, axis=0))\n",
    "  # Scott's Rule:\n",
    "  h = 3.49 * tf.math.reduce_std(tx, axis=-1, keepdims=True) * (n)**(-1./3.)\n",
    "  h *= n / num_quantiles\n",
    " \n",
    "  dose_kde = tfd.Independent(\n",
    "      tfd.MixtureSameFamily(\n",
    "          mixture_distribution=tfd.Categorical(logits=tf.zeros(num_quantiles + 1)),\n",
    "          components_distribution=tfd.Normal(loc=q, scale=h)),\n",
    "      reinterpreted_batch_ndims=1)\n",
    "  is_ood = lambda x, threshold: dose_kde.log_prob(tf.transpose(T(x), [1, 0])) < tf.math.log(threshold)\n",
    "  dose_log_prob = lambda x: dose_kde.log_prob(tf.transpose(T(x), [1, 0]))\n",
    "\n",
    "  # T(x) returns shape [T, N], but dose_kde works on shape [N, T]\n",
    "  return is_ood, dose_kde, dose_log_prob, tx\n",
    "\n",
    "\n",
    "class DoSE_administrator(object):\n",
    "  def __init__(self, T, train_dataset, eval_dataset):\n",
    "    \"\"\"Administrate DoSE for model evaluation in a more efficient way.\n",
    "\n",
    "    This high level object just calls the lower level DoSE methods, but\n",
    "    also evaluates the DoSE log-probabilities on the evaluation dataset.\n",
    "    Using these, we can do things like compute auroc much more efficiently.\n",
    "    \"\"\"\n",
    "    dose_build = get_DoSE_KDE(T, train_dataset)\n",
    "    \n",
    "    # Call DoSE on an image/batch x for lp threshold `threshold`\n",
    "    self.is_ood = dose_build[0]\n",
    "\n",
    "    # Actual dose distribution\n",
    "    self.dose_dist = dose_build[1]\n",
    "    self.dose_lp = lambda t: self.dose_dist.log_prob(tf.transpose(t, [1, 0]))\n",
    "\n",
    "    # Get the log-probability of a batch from dose\n",
    "    self.dose_log_prob = dose_build[2] \n",
    "\n",
    "    # This helps us evaluate auroc more reliably.\n",
    "    self.training_stats = dose_build[3]\n",
    "    \n",
    "    # Get training_log probs efficiently\n",
    "    train_size = self.training_stats.shape[-1]\n",
    "    bs = train_size // 1000\n",
    "    for i in range(1000):\n",
    "      tlp = self.dose_lp(self.training_stats[..., bs*i:bs*(i+1)])\n",
    "      if not hasattr(self, 'training_lp'):\n",
    "        self.training_lp = tlp\n",
    "      else:\n",
    "        self.training_lp = tf.concat([self.training_lp, tlp], axis=0)\n",
    "\n",
    "    # Get log_probs, images, labels, and statistics \n",
    "    # on the evaluation dataset.\n",
    "    eval_it = iter(eval_dataset)\n",
    "    for x, y in eval_it:\n",
    "      if not hasattr(self, 'eval_lp'):\n",
    "        self.eval_stats = T(x)\n",
    "        self.eval_lp = self.dose_lp(self.eval_stats)\n",
    "        self.eval_label = y\n",
    "        self.eval_ims = x\n",
    "      else:\n",
    "        tx = T(x)\n",
    "        self.eval_stats = tf.concat([self.eval_stats,\n",
    "                                     tx], \n",
    "                                    axis=0)\n",
    "        self.eval_lp = tf.concat([self.eval_lp,\n",
    "                                  self.dose_lp(tx)],\n",
    "                                 axis=0)\n",
    "        self.eval_label = tf.concat([self.eval_label, y], axis=0)\n",
    "        self.eval_ims = tf.concat([self.eval_ims, x], axis=0)\n",
    "\n",
    "  \n",
    "  def get_acc(self, threshold):\n",
    "    \"\"\"Evaluate the OOD accuracy for a certain threshold probability.\n",
    "    \n",
    "    This computes the decision rule: `log q(x) < tf.math.log(thresh)`\n",
    "    on the eval dataset.  It uses this decision rule to evaluate the\n",
    "    number of correct predictions, along with the 4 components of the\n",
    "    confusion matrix.\n",
    "\n",
    "    Args:\n",
    "      threshold:  A threshold on the DoSE probability density.\n",
    "    Returns:\n",
    "      nc:  Number of correct predictions\n",
    "      nt:  Number of total predictions\n",
    "      tp:  Number of true positives\n",
    "      tn:  Number of true negatives\n",
    "      fp:  Number of false positives\n",
    "      fn:  Number of false negatives\n",
    "    \"\"\"\n",
    "\n",
    "    yhat = self.eval_lp < tf.math.log(threshold)\n",
    "\n",
    "    fp = tf.reduce_sum(tf.cast(\n",
    "        tf.logical_and(tf.math.not_equal(yhat, self.eval_label), \n",
    "                       tf.equal(self.eval_label, False)),\n",
    "        tf.int32),axis=0)\n",
    "    fn = tf.reduce_sum(tf.cast(\n",
    "        tf.logical_and(tf.math.not_equal(yhat, self.eval_label), \n",
    "                       tf.equal(self.eval_label, True)),\n",
    "        tf.int32),axis=0)\n",
    "    tp = tf.reduce_sum(tf.cast(\n",
    "        tf.logical_and(tf.equal(yhat, self.eval_label), \n",
    "                       tf.equal(self.eval_label, True)),\n",
    "        tf.int32),axis=0)\n",
    "    tn = tf.reduce_sum(tf.cast(\n",
    "        tf.logical_and(tf.equal(yhat, self.eval_label), \n",
    "                       tf.equal(self.eval_label, False)),\n",
    "        tf.int32),axis=0)\n",
    "    nc = tp+tn\n",
    "    nt = tf.cast(tf.size(self.eval_label), tf.float32) \n",
    "    return nc, nt, tp, tn, fp, fn\n",
    "  \n",
    "  def roc_curve(self, nbins):\n",
    "    \"\"\"Get the roc curve for the model.\"\"\"\n",
    "\n",
    "    nc, nt, tp, tn, fp, fn = self.get_acc(\n",
    "        np.float32(np.exp(np.percentile(self.eval_lp, 0.))))\n",
    "    fpr = [fp.numpy() / (fp.numpy()+tn.numpy())]\n",
    "    tpr = [tp.numpy()/ (tp.numpy() + fn.numpy())]\n",
    "    for i in range(1, nbins+1):\n",
    "      nc, nt, tp, tn, fp, fn = self.get_acc(\n",
    "        np.float32(np.exp(np.percentile(self.eval_lp, i/float(nbins)*100.))))\n",
    "      fpr.append(fp.numpy()/ (fp.numpy() + tn.numpy()))\n",
    "      tpr.append(tp.numpy()/ (tp.numpy() + fn.numpy()))\n",
    "    return fpr, tpr\n",
    "\n",
    "  def precision_recall_curve(self, nbins):\n",
    "    \"\"\"Get the precision-recall curve for the model.\"\"\"\n",
    "\n",
    "    nc, nt, tp, tn, fp, fn = self.get_acc(\n",
    "        np.float32(np.exp(np.percentile(self.eval_lp, 0.))))\n",
    "    precision = [tp.numpy()/ (tp.numpy() + fp.numpy())]\n",
    "    recall = [tp.numpy() / (tp.numpy() + fn.numpy())]\n",
    "    for i in range(1, nbins+1):\n",
    "      nc, nt, tp, tn, fp, fn = self.get_acc(\n",
    "        np.float32(np.exp(np.percentile(self.eval_lp, i/float(nbins)*100.))))\n",
    "      precision.append(tp.numpy()/ (tp.numpy() + fp.numpy()))\n",
    "      recall.append(tp.numpy() / (tp.numpy() + fn.numpy()))\n",
    "    return precision, recall"
   ]
  },
  {
   "cell_type": "markdown",
   "metadata": {
    "colab_type": "text",
    "id": "jXozW6F4I9hy"
   },
   "source": [
    "### 3 Setup OOD dataset"
   ]
  },
  {
   "cell_type": "code",
   "execution_count": 0,
   "metadata": {
    "colab": {},
    "colab_type": "code",
    "id": "8ivxmHF4txD4"
   },
   "outputs": [],
   "source": [
    "# For evaluating statistics on the training set, we need to perform a\n",
    "# pass through the dataset.\n",
    "train_one_pass = tfds.load('mnist')['train']\n",
    "train_one_pass = tfn.util.tune_dataset(train_one_pass, \n",
    "                                       batch_size=1000,\n",
    "                                       repeat_count=None,\n",
    "                                       preprocess_fn=_preprocess)"
   ]
  },
  {
   "cell_type": "code",
   "execution_count": 0,
   "metadata": {
    "colab": {},
    "colab_type": "code",
    "id": "Xhcfu7UX8eC4"
   },
   "outputs": [],
   "source": [
    "# OOD dataset is Fashion_MNIST\n",
    "ood_data = tfds.load('fashion_mnist')['test'].map(_preprocess).map(\n",
    "    lambda x, y: (x, tf.ones_like(y, dtype=tf.bool)))\n",
    "\n",
    "# In-distribution data is the MNIST test set.\n",
    "ind_data = tfds.load('mnist')['test'].map(_preprocess).map(\n",
    "    lambda x, y: (x, tf.zeros_like(y, dtype=tf.bool)))\n",
    "\n",
    "# Our trial dataset is a 50-50 split of the two.\n",
    "hybrid_data = ind_data.concatenate(ood_data)\n",
    "hybrid_data = tfn.util.tune_dataset(hybrid_data, batch_size=100,\n",
    "                                    shuffle_size=20000,repeat_count=None)"
   ]
  },
  {
   "cell_type": "markdown",
   "metadata": {
    "colab_type": "text",
    "id": "oj7j-Z-SJXWv"
   },
   "source": [
    "### 4 Administer DoSE"
   ]
  },
  {
   "cell_type": "code",
   "execution_count": 0,
   "metadata": {
    "colab": {},
    "colab_type": "code",
    "id": "Rp7837jIwvTV"
   },
   "outputs": [],
   "source": [
    "DoSE_admin = DoSE_administrator(T, train_one_pass, hybrid_data)"
   ]
  },
  {
   "cell_type": "markdown",
   "metadata": {
    "colab_type": "text",
    "id": "K9HhI88EJd8N"
   },
   "source": [
    "### 5 Evaluate OOD performance"
   ]
  },
  {
   "cell_type": "code",
   "execution_count": 0,
   "metadata": {
    "colab": {
     "height": 409
    },
    "colab_type": "code",
    "id": "MjWjlZOBok5z",
    "outputId": "9a502caf-992f-42ab-a90e-3c7f2b2fcd22"
   },
   "outputs": [
    {
     "name": "stderr",
     "output_type": "stream",
     "text": [
      "/export/hda3/borglet/remote_hdd_fs_dirs/0.colab_kernel_brain_frameworks_gpu_wmorning.kernel.wmorning.579822584826.14b334fb3717c109/mount/server/ml_notebook:162: RuntimeWarning: invalid value encountered in int_scalars\n"
     ]
    },
    {
     "data": {
      "text/plain": [
       "Text(0.5, 1.0, 'AUPRC: 0.9896')"
      ]
     },
     "execution_count": 0,
     "metadata": {
      "tags": []
     },
     "output_type": "execute_result"
    },
    {
     "data": {
      "image/png": "[encoded data removed]",
      "text/plain": [
       "<Figure size 1000x500 with 2 Axes>"
      ]
     },
     "metadata": {
      "tags": []
     },
     "output_type": "display_data"
    }
   ],
   "source": [
    "fp, tp = DoSE_admin.roc_curve(10000)\n",
    "precision, recall = DoSE_admin.precision_recall_curve(10000)\n",
    "plt.figure(figsize=[10,5])\n",
    "plt.subplot(121)\n",
    "plt.plot(fp, tp, 'b-')\n",
    "plt.xlim(0, 1.)\n",
    "plt.ylim(0., 1.)\n",
    "plt.xlabel('FPR', fontsize=12)\n",
    "plt.ylabel('TPR', fontsize=12)\n",
    "plt.title(\"AUROC: %.4f\"%np.trapz(tp, fp), fontsize=12)\n",
    "plt.subplot(122)\n",
    "plt.plot(recall, precision, 'b-')\n",
    "plt.xlim(0, 1.)\n",
    "plt.ylim(0., 1.)\n",
    "plt.xlabel('Recall', fontsize=12)\n",
    "plt.ylabel('Precision', fontsize=12)\n",
    "plt.title(\"AUPRC: %.4f\"%np.trapz(precision[1:], recall[1:]), fontsize=12)"
   ]
  },
  {
   "cell_type": "code",
   "execution_count": 0,
   "metadata": {
    "colab": {
     "height": 321
    },
    "colab_type": "code",
    "id": "NXftuKHAjcib",
    "outputId": "32136743-138e-4696-8e26-25a9d582ee3c"
   },
   "outputs": [
    {
     "name": "stdout",
     "output_type": "stream",
     "text": [
      "Most False Positive\n"
     ]
    },
    {
     "data": {
      "image/png": "[encoded data removed]",
      "text/plain": [
       "<Figure size 2000x200 with 1 Axes>"
      ]
     },
     "metadata": {
      "tags": []
     },
     "output_type": "display_data"
    },
    {
     "name": "stdout",
     "output_type": "stream",
     "text": [
      "Most True Negative\n"
     ]
    },
    {
     "data": {
      "image/png": "[encoded data removed]",
      "text/plain": [
       "<Figure size 2000x200 with 1 Axes>"
      ]
     },
     "metadata": {
      "tags": []
     },
     "output_type": "display_data"
    },
    {
     "name": "stdout",
     "output_type": "stream",
     "text": [
      "Most False Negative\n"
     ]
    },
    {
     "data": {
      "image/png": "[encoded data removed]",
      "text/plain": [
       "<Figure size 2000x200 with 1 Axes>"
      ]
     },
     "metadata": {
      "tags": []
     },
     "output_type": "display_data"
    },
    {
     "name": "stdout",
     "output_type": "stream",
     "text": [
      "Most True Positive\n"
     ]
    },
    {
     "data": {
      "image/png": "[encoded data removed]",
      "text/plain": [
       "<Figure size 2000x200 with 1 Axes>"
      ]
     },
     "metadata": {
      "tags": []
     },
     "output_type": "display_data"
    },
    {
     "data": {
      "text/plain": [
       "(<Figure size 2000x200 with 1 Axes>,\n",
       " <matplotlib.axes._subplots.AxesSubplot at 0x7f3051175128>)"
      ]
     },
     "execution_count": 0,
     "metadata": {
      "tags": []
     },
     "output_type": "execute_result"
    }
   ],
   "source": [
    "Sorted_ims = tf.gather(DoSE_admin.eval_ims, tf.argsort(DoSE_admin.eval_lp))\n",
    "Sorted_labels = tf.gather(DoSE_admin.eval_label, tf.argsort(DoSE_admin.eval_lp))\n",
    "sorted_ind = tf.gather(Sorted_ims, tf.where(Sorted_labels == False))[:,0]\n",
    "sorted_ood = tf.gather(Sorted_ims, tf.where(Sorted_labels == True))[:,0]\n",
    "\n",
    "print(\"Most False Positive\")\n",
    "tfn.util.display_imgs(sorted_ind[:20])\n",
    "print(\"Most True Negative\")\n",
    "tfn.util.display_imgs(sorted_ind[-20:])\n",
    "print(\"Most False Negative\")\n",
    "tfn.util.display_imgs(sorted_ood[-20:])\n",
    "print(\"Most True Positive\")\n",
    "tfn.util.display_imgs(sorted_ood[:20])"
   ]
  },
  {
   "cell_type": "markdown",
   "metadata": {
    "colab_type": "text",
    "id": "VLDpJs-u1N3j"
   },
   "source": [
    "DoSE on this particular classifier appears to get 0.982-0.993 AUROC and 0.982-0.993 AUPRC.  This is comparable to the accuracy of the classifier itself, but was trained without access to the OOD dataset in question."
   ]
  }
 ],
 "metadata": {
  "colab": {
   "collapsed_sections": [],
   "name": "VIB + DoSE",
   "toc_visible": true
  },
  "kernelspec": {
   "display_name": "Python 3",
   "name": "python3"
  }
 },
 "nbformat": 4,
 "nbformat_minor": 0
}
