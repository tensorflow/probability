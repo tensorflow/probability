{
  "cells": [
    {
      "cell_type": "markdown",
      "metadata": {
        "colab_type": "text",
        "id": "XXDeo-aGOAXF"
      },
      "source": [
        "##### Copyright 2020 The TensorFlow Probability Authors.\n"
      ]
    },
    {
      "cell_type": "code",
      "execution_count": 0,
      "metadata": {
        "colab": {},
        "colab_type": "code",
        "id": "9XRGdjHNOE9D"
      },
      "outputs": [],
      "source": [
        "#@title ##### Licensed under the Apache License, Version 2.0 (the \"License\"); { display-mode: \"form\" }\n",
        "# you may not use this file except in compliance with the License.\n",
        "# You may obtain a copy of the License at\n",
        "#\n",
        "# https://www.apache.org/licenses/LICENSE-2.0\n",
        "#\n",
        "# Unless required by applicable law or agreed to in writing, software\n",
        "# distributed under the License is distributed on an \"AS IS\" BASIS,\n",
        "# WITHOUT WARRANTIES OR CONDITIONS OF ANY KIND, either express or implied.\n",
        "# See the License for the specific language governing permissions and\n",
        "# limitations under the License."
      ]
    },
    {
      "cell_type": "markdown",
      "metadata": {
        "colab_type": "text",
        "id": "J_Ts-8cGSHuy"
      },
      "source": [
        "# TFP, backed by Jax\n",
        "\n",
        "Jax-backed TFP is a work in progress, but many distributions and bijectors are currently working! How do you use the alternative backend?\n",
        "\n",
        "\u003ctable class=\"tfo-notebook-buttons\" align=\"left\"\u003e\n",
        "  \u003ctd\u003e\n",
        "    \u003ca target=\"_blank\" href=\"https://colab.research.google.com/github/tensorflow/probability/blob/main/discussion/examples/TFP_and_Jax.ipynb\"\u003e\u003cimg src=\"https://www.tensorflow.org/images/colab_logo_32px.png\" /\u003eRun in Google Colab\u003c/a\u003e\n",
        "  \u003c/td\u003e\n",
        "  \u003ctd\u003e\n",
        "    \u003ca target=\"_blank\" href=\"https://github.com/tensorflow/probability/blob/main/discussion/examples/TFP_and_Jax.ipynb\"\u003e\u003cimg src=\"https://www.tensorflow.org/images/GitHub-Mark-32px.png\" /\u003eView source on GitHub\u003c/a\u003e\n",
        "  \u003c/td\u003e\n",
        "\u003c/table\u003e"
      ]
    },
    {
      "cell_type": "markdown",
      "metadata": {
        "colab_type": "text",
        "id": "3UEt43cKRFRE"
      },
      "source": [
        "## Importing"
      ]
    },
    {
      "cell_type": "code",
      "execution_count": 1,
      "metadata": {
        "colab": {
          "base_uri": "https://localhost:8080/",
          "height": 153
        },
        "colab_type": "code",
        "id": "PJhVMq4ORYCL",
        "outputId": "b60314c4-4143-46c8-91b7-354f59896198"
      },
      "outputs": [
        {
          "name": "stdout",
          "output_type": "stream",
          "text": [
            "TensorFlow 2.x selected.\n",
            "\u001b[K     |████████████████████████████████| 3.5MB 4.9MB/s \n",
            "\u001b[K     |████████████████████████████████| 144.6MB 88kB/s \n",
            "\u001b[K     |████████████████████████████████| 2.9MB 56.8MB/s \n",
            "\u001b[K     |████████████████████████████████| 2.8MB 50.5MB/s \n",
            "\u001b[K     |████████████████████████████████| 460kB 53.9MB/s \n",
            "\u001b[K     |████████████████████████████████| 778kB 44.7MB/s \n",
            "\u001b[31mERROR: tensorflow 2.1.0 has requirement gast==0.2.2, but you'll have gast 0.3.3 which is incompatible.\u001b[0m\n",
            "\u001b[?25h"
          ]
        }
      ],
      "source": [
        "# Importing the TFP with Jax backend\n",
        "!pip3 install -q 'tfp-nightly[jax]' tf-nightly-cpu  # We (currently) still require TF, but TF's smaller CPU build will work.\n",
        "import tensorflow_probability.substrates.jax as tfp\n",
        "\n",
        "tf = tfp.tf2jax\n",
        "\n",
        "# Standard TFP Imports\n",
        "tfd = tfp.distributions\n",
        "tfb = tfp.bijectors\n",
        "tfpk = tfp.math.psd_kernels\n",
        "\n",
        "# Jax imports\n",
        "import jax\n",
        "import jax.numpy as np\n",
        "from jax import random\n",
        "\n",
        "# Other imports\n",
        "import matplotlib.pyplot as plt\n",
        "import seaborn as sns\n",
        "sns.set(style='white')"
      ]
    },
    {
      "cell_type": "markdown",
      "metadata": {
        "colab_type": "text",
        "id": "Wi83YsB8VFxN"
      },
      "source": [
        "## TF Interface to Jax\n",
        "\n",
        "We've reimplemented the TF API, but with Jax functions instead of TF functions and DeviceArrays instead of TF Tensors."
      ]
    },
    {
      "cell_type": "code",
      "execution_count": 2,
      "metadata": {
        "colab": {
          "base_uri": "https://localhost:8080/",
          "height": 88
        },
        "colab_type": "code",
        "id": "Lcjz3NFWVIxd",
        "outputId": "3f9e6bb7-5f56-4838-96a8-4aaad81ec4cc"
      },
      "outputs": [
        {
          "name": "stderr",
          "output_type": "stream",
          "text": [
            "/usr/local/lib/python3.6/dist-packages/jax/lib/xla_bridge.py:119: UserWarning: No GPU/TPU found, falling back to CPU.\n",
            "  warnings.warn('No GPU/TPU found, falling back to CPU.')\n"
          ]
        },
        {
          "data": {
            "text/plain": [
              "DeviceArray([1., 1., 1., 1., 1.], dtype=float32)"
            ]
          },
          "execution_count": 2,
          "metadata": {
            "tags": []
          },
          "output_type": "execute_result"
        }
      ],
      "source": [
        "tf.ones(5)"
      ]
    },
    {
      "cell_type": "code",
      "execution_count": 3,
      "metadata": {
        "colab": {
          "base_uri": "https://localhost:8080/",
          "height": 34
        },
        "colab_type": "code",
        "id": "RIpI2F8fVTNX",
        "outputId": "d4dc4838-4758-42a1-a5ae-ff64101030aa"
      },
      "outputs": [
        {
          "data": {
            "text/plain": [
              "DeviceArray([[2., 2., 2., 2.]], dtype=float32)"
            ]
          },
          "execution_count": 3,
          "metadata": {
            "tags": []
          },
          "output_type": "execute_result"
        }
      ],
      "source": [
        "tf.matmul(tf.ones([1, 2]), tf.ones([2, 4]))"
      ]
    },
    {
      "cell_type": "markdown",
      "metadata": {
        "colab_type": "text",
        "id": "MDOdp6ErVZXs"
      },
      "source": [
        "### Some differences:\n",
        "\n",
        "Shapes are tuples, not TensorShapes"
      ]
    },
    {
      "cell_type": "code",
      "execution_count": 4,
      "metadata": {
        "colab": {
          "base_uri": "https://localhost:8080/",
          "height": 34
        },
        "colab_type": "code",
        "id": "cgurTk2eVcsM",
        "outputId": "ac89f7c3-976b-4801-f6ad-b60e039d2dde"
      },
      "outputs": [
        {
          "data": {
            "text/plain": [
              "(5,)"
            ]
          },
          "execution_count": 4,
          "metadata": {
            "tags": []
          },
          "output_type": "execute_result"
        }
      ],
      "source": [
        "tf.ones(5).shape"
      ]
    },
    {
      "cell_type": "markdown",
      "metadata": {
        "colab_type": "text",
        "id": "W5cMH-YHVirg"
      },
      "source": [
        "Randomness is stateless, like in Jax and requires Jax `PRNGKey`s to operate."
      ]
    },
    {
      "cell_type": "code",
      "execution_count": 6,
      "metadata": {
        "colab": {
          "base_uri": "https://localhost:8080/",
          "height": 34
        },
        "colab_type": "code",
        "id": "KPhFoy0SVook",
        "outputId": "67a0b668-cc45-41b7-bd9a-07c6dfff208a"
      },
      "outputs": [
        {
          "data": {
            "text/plain": [
              "DeviceArray([[0.21629536, 0.8041241 ]], dtype=float32)"
            ]
          },
          "execution_count": 6,
          "metadata": {
            "tags": []
          },
          "output_type": "execute_result"
        }
      ],
      "source": [
        "tf.random.stateless_uniform([1, 2], seed=random.PRNGKey(0))"
      ]
    },
    {
      "cell_type": "markdown",
      "metadata": {
        "colab_type": "text",
        "id": "19xdloVeWDO8"
      },
      "source": [
        "Placeholders don't exist.\n"
      ]
    },
    {
      "cell_type": "code",
      "execution_count": 7,
      "metadata": {
        "colab": {
          "base_uri": "https://localhost:8080/",
          "height": 34
        },
        "colab_type": "code",
        "id": "xO_2XKMgWE4e",
        "outputId": "711c87b9-e2be-4aa6-f1e8-89bfd1501169"
      },
      "outputs": [
        {
          "data": {
            "text/plain": [
              "DeviceArray([1., 1., 1., 1., 1.], dtype=float32)"
            ]
          },
          "execution_count": 7,
          "metadata": {
            "tags": []
          },
          "output_type": "execute_result"
        }
      ],
      "source": [
        "tf.compat.v1.placeholder_with_default(tf.ones(5), (5,))"
      ]
    },
    {
      "cell_type": "markdown",
      "metadata": {
        "colab_type": "text",
        "id": "ZAqOULMELzSg"
      },
      "source": [
        "## Math libraries\n",
        "\n",
        "TFP's math libraries are now largely working, i.e. `tfp.math`"
      ]
    },
    {
      "cell_type": "markdown",
      "metadata": {
        "colab_type": "text",
        "id": "OSPq-R4US42L"
      },
      "source": [
        "## Bijectors"
      ]
    },
    {
      "cell_type": "markdown",
      "metadata": {
        "colab_type": "text",
        "id": "g_hUjutzMavx"
      },
      "source": [
        "Most bijectors have tests passing!"
      ]
    },
    {
      "cell_type": "markdown",
      "metadata": {
        "colab_type": "text",
        "id": "iBYup5lTYYJH"
      },
      "source": [
        "### Unary bijectors"
      ]
    },
    {
      "cell_type": "code",
      "execution_count": 9,
      "metadata": {
        "colab": {
          "base_uri": "https://localhost:8080/",
          "height": 51
        },
        "colab_type": "code",
        "id": "4U9ZF2ZRR_ZJ",
        "outputId": "4301211d-3937-48b9-8769-3ff12b49b7d7"
      },
      "outputs": [
        {
          "name": "stdout",
          "output_type": "stream",
          "text": [
            "[4. 4. 4. 4. 4.]\n",
            "[0. 0. 0. 0. 0.]\n"
          ]
        }
      ],
      "source": [
        "bij = tfb.Shift(1.)(tfb.Scale(3.))\n",
        "print(bij.forward(np.ones(5)))\n",
        "print(bij.inverse(np.ones(5)))"
      ]
    },
    {
      "cell_type": "markdown",
      "metadata": {
        "colab_type": "text",
        "id": "J4OC63q2Yebk"
      },
      "source": [
        "### Meta bijectors"
      ]
    },
    {
      "cell_type": "code",
      "execution_count": 10,
      "metadata": {
        "colab": {
          "base_uri": "https://localhost:8080/",
          "height": 68
        },
        "colab_type": "code",
        "id": "XUCiMfaS9Iy9",
        "outputId": "d6d54db5-c76e-41d2-a68a-ac1e71ac73a6"
      },
      "outputs": [
        {
          "name": "stdout",
          "output_type": "stream",
          "text": [
            "[[1. 0.]\n",
            " [0. 1.]]\n",
            "[0.6931472 0.5       0.       ]\n"
          ]
        }
      ],
      "source": [
        "b = tfb.FillScaleTriL(diag_bijector=tfb.Exp(), diag_shift=None)\n",
        "print(b.forward(x=[0., 0., 0.]))\n",
        "print(b.inverse(y=[[1., 0], [.5, 2]]))"
      ]
    },
    {
      "cell_type": "code",
      "execution_count": 11,
      "metadata": {
        "colab": {
          "base_uri": "https://localhost:8080/",
          "height": 34
        },
        "colab_type": "code",
        "id": "ODnHOAUDYLJR",
        "outputId": "e82c1f2b-4d8f-491e-c0db-9cc5a0a15ca0"
      },
      "outputs": [
        {
          "name": "stdout",
          "output_type": "stream",
          "text": [
            "[1.3678794 1.3678794 1.3678794 1.3678794 1.3678794]\n"
          ]
        }
      ],
      "source": [
        "b = tfb.Chain([tfb.Exp(), tfb.Softplus()])\n",
        "# or: \n",
        "# b = tfb.Exp()(tfb.Softplus())\n",
        "print(b.forward(-np.ones(5)))"
      ]
    },
    {
      "cell_type": "markdown",
      "metadata": {
        "colab_type": "text",
        "id": "uUKux7fgm_uw"
      },
      "source": [
        "### MCMC coming soon\n",
        "\n",
        "We are migrating TFP's random samplers to be internally-stateless, then will update MCMC to support JAX."
      ]
    },
    {
      "cell_type": "markdown",
      "metadata": {
        "colab_type": "text",
        "id": "WUdULAaqYsqB"
      },
      "source": [
        "### Some don't work yet\n",
        "* For example: FFJORD, MAF (WIP), Real NVP"
      ]
    },
    {
      "cell_type": "markdown",
      "metadata": {
        "colab_type": "text",
        "id": "PdrCO05uZJTV"
      },
      "source": [
        "## Distributions"
      ]
    },
    {
      "cell_type": "markdown",
      "metadata": {
        "colab_type": "text",
        "id": "iEEtRmuBZMvO"
      },
      "source": [
        "When sampling, we need to pass in a `seed`."
      ]
    },
    {
      "cell_type": "code",
      "execution_count": 12,
      "metadata": {
        "colab": {
          "base_uri": "https://localhost:8080/",
          "height": 34
        },
        "colab_type": "code",
        "id": "cKPEn6GnZDKE",
        "outputId": "0885dd40-f362-43d7-82bb-2dd649505549"
      },
      "outputs": [
        {
          "name": "stdout",
          "output_type": "stream",
          "text": [
            "-0.20584235\n"
          ]
        }
      ],
      "source": [
        "dist = tfd.Normal(loc=0., scale=1.)\n",
        "print(dist.sample(seed=random.PRNGKey(0)))"
      ]
    },
    {
      "cell_type": "markdown",
      "metadata": {
        "colab_type": "text",
        "id": "nPyJAhIPZUSW"
      },
      "source": [
        "Jax distributions obey the same batching semantics as their TensorFlow counterparts."
      ]
    },
    {
      "cell_type": "code",
      "execution_count": 13,
      "metadata": {
        "colab": {
          "base_uri": "https://localhost:8080/",
          "height": 51
        },
        "colab_type": "code",
        "id": "m1bYkjfuZT7U",
        "outputId": "8edb5da4-60bc-480e-e9c3-24e789ebf482"
      },
      "outputs": [
        {
          "name": "stdout",
          "output_type": "stream",
          "text": [
            "(10, 2, 5)\n",
            "(10, 2)\n"
          ]
        }
      ],
      "source": [
        "dist =  tfd.Normal(np.zeros(5), np.ones(5))\n",
        "s = dist.sample(sample_shape=(10, 2), seed=random.PRNGKey(0))\n",
        "print(dist.log_prob(s).shape)\n",
        "\n",
        "dist =  tfd.Independent(tfd.Normal(np.zeros(5), np.ones(5)), 1)\n",
        "s = dist.sample(sample_shape=(10, 2), seed=random.PRNGKey(0))\n",
        "print(dist.log_prob(s).shape)"
      ]
    },
    {
      "cell_type": "markdown",
      "metadata": {
        "colab_type": "text",
        "id": "cJDVtoyfav6A"
      },
      "source": [
        "Most meta distributions are working!"
      ]
    },
    {
      "cell_type": "code",
      "execution_count": 14,
      "metadata": {
        "colab": {
          "base_uri": "https://localhost:8080/",
          "height": 68
        },
        "colab_type": "code",
        "id": "gMccOGWFZQhW",
        "outputId": "c1aab4f5-3bf4-47e2-e314-064a2b316e7b"
      },
      "outputs": [
        {
          "name": "stdout",
          "output_type": "stream",
          "text": [
            "[[0.68927777 1.3024291  0.83316153 0.47863364 0.6438408 ]\n",
            " [0.85886437 0.5110164  0.55384845 2.0785878  1.7635037 ]]\n",
            "(2,)\n"
          ]
        }
      ],
      "source": [
        "dist = tfd.TransformedDistribution(\n",
        "    tfd.MultivariateNormalDiag(tf.zeros(5), tf.ones(5)),\n",
        "    tfb.Exp())\n",
        "# or:\n",
        "# dist = tfb.Exp()(tfd.MultivariateNormalDiag(tf.zeros(5), tf.ones(5)))\n",
        "s = dist.sample(sample_shape=2, seed=random.PRNGKey(0))\n",
        "print(s)\n",
        "print(dist.log_prob(s).shape)"
      ]
    },
    {
      "cell_type": "markdown",
      "metadata": {
        "colab_type": "text",
        "id": "AO_crGZNbQgm"
      },
      "source": [
        "Gaussian processes and PSD kernels also work."
      ]
    },
    {
      "cell_type": "code",
      "execution_count": 16,
      "metadata": {
        "colab": {
          "base_uri": "https://localhost:8080/",
          "height": 268
        },
        "colab_type": "code",
        "id": "AQH4iALTbS3J",
        "outputId": "f0266ae1-6d35-43dd-adc4-8f4fb805f0ca"
      },
      "outputs": [
        {
          "data": {
            "image/png": "[encoded data removed]",
            "text/plain": [
              "\u003cFigure size 432x288 with 1 Axes\u003e"
            ]
          },
          "metadata": {
            "tags": []
          },
          "output_type": "display_data"
        }
      ],
      "source": [
        "k1, k2, k3 = random.split(random.PRNGKey(0), 3)\n",
        "observation_noise_variance = 0.01\n",
        "f = lambda x: np.sin(10*x[..., 0]) * np.exp(-x[..., 0]**2)\n",
        "observation_index_points = tf.random.stateless_uniform(\n",
        "    [50], minval=-1.,maxval= 1., seed=k1)[..., np.newaxis]\n",
        "observations = f(observation_index_points) + tfd.Normal(loc=0., scale=np.sqrt(observation_noise_variance)).sample(seed=k2)\n",
        "\n",
        "index_points = np.linspace(-1., 1., 100)[..., np.newaxis]\n",
        "\n",
        "kernel = tfpk.ExponentiatedQuadratic(length_scale=0.1)\n",
        "\n",
        "gprm = tfd.GaussianProcessRegressionModel(\n",
        "    kernel=kernel,\n",
        "    index_points=index_points,\n",
        "    observation_index_points=observation_index_points,\n",
        "    observations=observations,\n",
        "    observation_noise_variance=observation_noise_variance)\n",
        "\n",
        "samples = gprm.sample(10, seed=k3)\n",
        "for i in range(10):\n",
        "  plt.plot(index_points, samples[i])\n",
        "plt.show()"
      ]
    },
    {
      "cell_type": "markdown",
      "metadata": {
        "colab_type": "text",
        "id": "L_i0j5YxLqes"
      },
      "source": [
        "## Works in progress:\n",
        "\n",
        "* Making all bijector/distribution tests pass (at around 90% now)\n",
        "* Making bijectors/distributions convertible to/from Pytrees\n",
        "* MCMC (and a push for stateless sampling at large in TFP)"
      ]
    }
  ],
  "metadata": {
    "colab": {
      "collapsed_sections": [],
      "name": "TFP_and_Jax.ipynb",
      "provenance": [],
      "toc_visible": true
    },
    "kernelspec": {
      "display_name": "Python 3",
      "name": "python3"
    }
  },
  "nbformat": 4,
  "nbformat_minor": 0
}
